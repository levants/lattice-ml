{
 "cells": [
  {
   "cell_type": "code",
   "execution_count": null,
   "id": "71ce37e9",
   "metadata": {},
   "outputs": [],
   "source": [
    "%load_ext autoreload\n",
    "%autoreload 2\n",
    "\n",
    "%matplotlib inline"
   ]
  },
  {
   "cell_type": "markdown",
   "id": "5b560092",
   "metadata": {},
   "source": [
    "## Install libraries"
   ]
  },
  {
   "cell_type": "markdown",
   "id": "89885fa7",
   "metadata": {},
   "source": [
    "```bash\n",
    "conda create -n edu4 python=3.11 jupyter matplotlib\n",
    "```"
   ]
  },
  {
   "cell_type": "markdown",
   "id": "cd23589d",
   "metadata": {},
   "source": [
    "```bash \n",
    "! pip install -U -r requirements.txt\n",
    "```"
   ]
  },
  {
   "cell_type": "markdown",
   "id": "9d16321f",
   "metadata": {},
   "source": [
    "```bash\n",
    "! pip install -U numpy\n",
    "! pip install -U scikit-learn\n",
    "```"
   ]
  },
  {
   "cell_type": "markdown",
   "id": "b4cab43a",
   "metadata": {},
   "source": [
    "## Update repository"
   ]
  },
  {
   "cell_type": "code",
   "execution_count": null,
   "id": "46bcb5dc",
   "metadata": {},
   "outputs": [],
   "source": [
    "! git pull"
   ]
  },
  {
   "cell_type": "markdown",
   "id": "bad216da",
   "metadata": {},
   "source": [
    "## Add import path"
   ]
  },
  {
   "cell_type": "code",
   "execution_count": null,
   "id": "baafb705",
   "metadata": {},
   "outputs": [],
   "source": [
    "import os\n",
    "import sys\n",
    "import gc"
   ]
  },
  {
   "cell_type": "code",
   "execution_count": null,
   "id": "b2930983",
   "metadata": {},
   "outputs": [],
   "source": [
    "module_path = os.path.abspath(os.path.join('..'))\n",
    "if module_path not in sys.path:\n",
    "    sys.path.append(module_path)"
   ]
  },
  {
   "cell_type": "code",
   "execution_count": null,
   "id": "7984d32f",
   "metadata": {},
   "outputs": [],
   "source": [
    "del module_path"
   ]
  },
  {
   "cell_type": "markdown",
   "id": "07a1e9c8",
   "metadata": {},
   "source": [
    "## Organize imports"
   ]
  },
  {
   "cell_type": "code",
   "execution_count": null,
   "id": "ae177357",
   "metadata": {},
   "outputs": [],
   "source": [
    "import multiprocessing\n",
    "from pathlib import Path"
   ]
  },
  {
   "cell_type": "code",
   "execution_count": null,
   "id": "a523557a",
   "metadata": {},
   "outputs": [],
   "source": [
    "import seaborn as sns"
   ]
  },
  {
   "cell_type": "code",
   "execution_count": null,
   "id": "25750a3d",
   "metadata": {},
   "outputs": [],
   "source": [
    "import matplotlib.pyplot as plt\n",
    "import numpy as np\n",
    "import pandas as pd"
   ]
  },
  {
   "cell_type": "code",
   "execution_count": null,
   "id": "125950ab",
   "metadata": {},
   "outputs": [],
   "source": [
    "import plotly.express as px"
   ]
  },
  {
   "cell_type": "code",
   "execution_count": null,
   "id": "262d0a5a-ccb6-4a7d-a4a2-76a276c2ce88",
   "metadata": {},
   "outputs": [],
   "source": [
    "from sklearn.linear_model import LinearRegression, LogisticRegression\n",
    "from sklearn.discriminant_analysis import (\n",
    "    LinearDiscriminantAnalysis, \n",
    "    QuadraticDiscriminantAnalysis\n",
    ")\n",
    "from sklearn.tree import DecisionTreeClassifier\n",
    "from sklearn.ensemble import RandomForestClassifier \n",
    "from sklearn.datasets import (\n",
    "    load_iris,\n",
    "    load_wine,\n",
    "    load_breast_cancer\n",
    ")\n",
    "from sklearn.model_selection import train_test_split, GridSearchCV\n",
    "from sklearn.preprocessing import (\n",
    "    MaxAbsScaler,\n",
    "    MinMaxScaler,\n",
    "    StandardScaler,\n",
    "    LabelEncoder, \n",
    "    OneHotEncoder,\n",
    ")\n",
    "from sklearn.metrics import (\n",
    "    precision_score, \n",
    "    recall_score, \n",
    "    f1_score,\n",
    "    classification_report,\n",
    "    confusion_matrix\n",
    ")\n",
    "from sklearn.compose import ColumnTransformer, make_column_transformer"
   ]
  },
  {
   "cell_type": "code",
   "execution_count": null,
   "id": "e1c75655-adba-4f78-811e-9fd3c0286a9e",
   "metadata": {},
   "outputs": [],
   "source": [
    "from scipy import stats\n",
    "from scipy.interpolate import interp1d"
   ]
  },
  {
   "cell_type": "code",
   "execution_count": null,
   "id": "dd35ae26-e0e9-4e5a-9302-5f968b1eb8c9",
   "metadata": {
    "scrolled": true
   },
   "outputs": [],
   "source": [
    "from src.lattmc.fca.utils import *\n",
    "from src.lattmc.fca.data_utils import *\n",
    "from src.lattmc.fca.image_utils import *\n",
    "from src.lattmc.fca.models import *\n",
    "from src.lattmc.fca.fca_utils import *\n",
    "from src.lattmc.fca.image_gens import *"
   ]
  },
  {
   "cell_type": "markdown",
   "id": "65f31e93",
   "metadata": {},
   "source": [
    "#### Number of CPU cores"
   ]
  },
  {
   "cell_type": "code",
   "execution_count": null,
   "id": "b41c30f2",
   "metadata": {},
   "outputs": [],
   "source": [
    "workers = multiprocessing.cpu_count()\n",
    "workers"
   ]
  },
  {
   "cell_type": "code",
   "execution_count": null,
   "id": "59f41838-322d-41e8-b8e1-6712089703c9",
   "metadata": {},
   "outputs": [],
   "source": [
    "SEED = 2024"
   ]
  },
  {
   "cell_type": "markdown",
   "id": "0ccf4792-19f1-4d01-b9c2-ddea2462cadc",
   "metadata": {},
   "source": [
    "## Initialize Path"
   ]
  },
  {
   "cell_type": "code",
   "execution_count": null,
   "id": "bcd545b8-0e15-41e9-92a9-4d0bf260c8b8",
   "metadata": {},
   "outputs": [],
   "source": [
    "PATH = Path('data')\n",
    "images_path = PATH / 'images'\n",
    "images_path.mkdir(exist_ok=True, parents=True)\n",
    "pumpkin_path = PATH / 'Pumpkin_Seeds_Dataset.xlsx'\n",
    "ad_click_path = PATH / 'advertising.csv'"
   ]
  },
  {
   "cell_type": "markdown",
   "id": "be07aad4-53a7-456b-b026-80295db7d84d",
   "metadata": {},
   "source": [
    "## Prepare the model"
   ]
  },
  {
   "cell_type": "code",
   "execution_count": null,
   "id": "87f8b3d0-1db1-4db3-b7c3-a8bbf3153ee0",
   "metadata": {},
   "outputs": [],
   "source": [
    "def fit_model(X, y, transforms=None, verbose=0):\n",
    "    # Step 2: Split the dataset into training and testing sets\n",
    "    X_train, X_test, y_train, y_test = train_test_split(X, y, test_size=0.2, random_state=42)\n",
    "\n",
    "    # Step 3: Data Preprocessing\n",
    "    # Standardize the features\n",
    "    if transforms is not None:\n",
    "        X_train = transforms.fit_transform(X_train)\n",
    "        X_test = transforms.transform(X_test)\n",
    "    \n",
    "    # Step 4: Hyperparameter Tuning with GridSearchCV\n",
    "    param_grid = {\n",
    "        'C': np.logspace(-4, 4, 20),\n",
    "        'penalty': ['l1', 'l2'],\n",
    "        'solver': ['liblinear']\n",
    "    }\n",
    "    grid_search = GridSearchCV(\n",
    "        LogisticRegression(\n",
    "            max_iter=10000, \n",
    "            verbose=verbose\n",
    "        ), \n",
    "        param_grid, \n",
    "        cv=5, \n",
    "        verbose=verbose\n",
    "    )\n",
    "    grid_search.fit(X_train, y_train)\n",
    "    \n",
    "    # Best parameters\n",
    "    print(f\"Best parameters: {grid_search.best_params_}\")\n",
    "    \n",
    "    # Step 5: Make predictions on the test set\n",
    "    y_pred = grid_search.predict(X_test)\n",
    "    \n",
    "    # Step 6: Evaluate the model\n",
    "    precision = precision_score(y_test, y_pred)\n",
    "    recall = recall_score(y_test, y_pred)\n",
    "    f1 = f1_score(y_test, y_pred)\n",
    "    \n",
    "    # Print evaluation metrics\n",
    "    print('\\nClassification Report:')\n",
    "    print(classification_report(y_test, y_pred))\n",
    "    print(f'Precision: {precision:.3f}')\n",
    "    print(f'Recall: {recall:.3f}')\n",
    "    print(f'F1 Score: {f1:.3f}')\n",
    "\n",
    "    return grid_search, X_train, y_train, X_test, y_test"
   ]
  },
  {
   "cell_type": "markdown",
   "id": "4c87c758-59cd-4632-b98a-7b439b762c01",
   "metadata": {},
   "source": [
    "#### Breast Cancer datam"
   ]
  },
  {
   "cell_type": "code",
   "execution_count": null,
   "id": "2496c678-79ae-408a-a669-88b3a3f34dbc",
   "metadata": {},
   "outputs": [],
   "source": [
    "# Step 1: Load the Breast Cancer Wisconsin Dataset\n",
    "data = load_breast_cancer()\n",
    "X = data.data\n",
    "y = data.target\n",
    "\n",
    "# Optional: Convert to DataFrame for easier handling\n",
    "df = pd.DataFrame(X, columns=data.feature_names)\n",
    "df['target'] = y\n",
    "\n",
    "# Step 2: Data Preprocessing\n",
    "# Standardize the features\n",
    "scaler = StandardScaler()\n",
    "\n",
    "# Step 3: Split the dataset into training and testing sets\n",
    "grid_search, X_train, y_train, X_test, y_test = fit_model(X, y, transforms=scaler)"
   ]
  },
  {
   "cell_type": "markdown",
   "id": "c6ad9050-129b-46ce-b8eb-6468bd812bd0",
   "metadata": {},
   "source": [
    "#### Banknote auth"
   ]
  },
  {
   "cell_type": "code",
   "execution_count": null,
   "id": "9b8209e3-a976-40b2-9220-2a742d61f960",
   "metadata": {
    "scrolled": true
   },
   "outputs": [],
   "source": [
    "# Step 1: Load the Banknote Authentication Dataset\n",
    "# Dataset URL\n",
    "url = 'https://archive.ics.uci.edu/ml/machine-learning-databases/00267/data_banknote_authentication.txt'\n",
    "\n",
    "# Column names\n",
    "columns = ['Variance', 'Skewness', 'Curtosis', 'Entropy', 'Class']\n",
    "\n",
    "# Load the dataset\n",
    "data = pd.read_csv(url, header=None, names=columns)\n",
    "\n",
    "# Step 2: Data Preprocessing\n",
    "X = data.drop('Class', axis=1).to_numpy()\n",
    "y = data['Class'].to_numpy()\n",
    "\n",
    "# Standardize the features\n",
    "scaler = StandardScaler()\n",
    "\n",
    "# Step 3: Split the dataset into training and testing sets\n",
    "grid_search, X_train, y_train, X_test, y_test = fit_model(X, y, transforms=scaler)"
   ]
  },
  {
   "cell_type": "markdown",
   "id": "ec36d126-c2bf-4632-b91c-a60b9fc1ec9e",
   "metadata": {},
   "source": [
    "#### Mushrooms dataset"
   ]
  },
  {
   "cell_type": "code",
   "execution_count": null,
   "id": "90009b70-0c69-47cd-8756-fd917b421978",
   "metadata": {
    "scrolled": true
   },
   "outputs": [],
   "source": [
    "# Step 1: Load the Mushroom Dataset\n",
    "# Dataset URL\n",
    "url = 'https://archive.ics.uci.edu/ml/machine-learning-databases/mushroom/agaricus-lepiota.data'\n",
    "\n",
    "# Column names\n",
    "columns = [\n",
    "    'class', 'cap_shape', 'cap_surface', 'cap_color', 'bruises', 'odor',\n",
    "    'gill_attachment', 'gill_spacing', 'gill_size', 'gill_color', 'stalk_shape',\n",
    "    'stalk_root', 'stalk_surface_above_ring', 'stalk_surface_below_ring',\n",
    "    'stalk_color_above_ring', 'stalk_color_below_ring', 'veil_type', 'veil_color',\n",
    "    'ring_number', 'ring_type', 'spore_print_color', 'population', 'habitat'\n",
    "]\n",
    "\n",
    "# Load the dataset\n",
    "data = pd.read_csv(url, header=None, names=columns)\n",
    "\n",
    "# Step 2: Data Preprocessing\n",
    "# Handle missing values represented by '?'\n",
    "data.replace('?', np.nan, inplace=True)\n",
    "data.dropna(inplace=True)  # Alternatively, you can impute missing values\n",
    "\n",
    "# Separate features and target variable\n",
    "X = data.drop('class', axis=1)\n",
    "y = data['class']\n",
    "\n",
    "# Encode the target variable\n",
    "label_encoder = LabelEncoder()\n",
    "y_encoded = label_encoder.fit_transform(y)  # 'e' -> 0 (edible), 'p' -> 1 (poisonous)\n",
    "\n",
    "# One-hot encode categorical features\n",
    "X_encoded = pd.get_dummies(X).to_numpy()\n",
    "\n",
    "# Step 3: Split the dataset into training and testing sets\n",
    "grid_search, X_train, y_train, X_test, y_test = fit_model(X_encoded, y_encoded, transforms=None)"
   ]
  },
  {
   "cell_type": "markdown",
   "id": "6f640995-733a-4f61-9103-9124a316032e",
   "metadata": {},
   "source": [
    "#### Ad click dataset"
   ]
  },
  {
   "cell_type": "code",
   "execution_count": null,
   "id": "37bc94ff-2fd9-4804-b5d9-d51bcb1a3743",
   "metadata": {
    "scrolled": true
   },
   "outputs": [],
   "source": [
    "PATH"
   ]
  },
  {
   "cell_type": "markdown",
   "id": "4be5b8da-e7c2-46a3-b9db-309c41b5f03c",
   "metadata": {},
   "source": [
    "import kagglehub"
   ]
  },
  {
   "cell_type": "markdown",
   "id": "5b8216fd-730c-475f-8f37-05e4f14822a5",
   "metadata": {},
   "source": [
    "path = kagglehub.dataset_download('bumba5341/advertisingcsv', str(PATH))\n",
    "\n",
    "print(\"Path to dataset files:\", path)"
   ]
  },
  {
   "cell_type": "code",
   "execution_count": null,
   "id": "0f0325b3-5a69-474a-85a6-8081e741fcd8",
   "metadata": {},
   "outputs": [],
   "source": [
    "ad_click_path"
   ]
  },
  {
   "cell_type": "code",
   "execution_count": null,
   "id": "c2e41abb-73d2-4f8c-974a-8279adf803d3",
   "metadata": {},
   "outputs": [],
   "source": [
    "data = pd.read_csv(ad_click_path)"
   ]
  },
  {
   "cell_type": "code",
   "execution_count": null,
   "id": "37b15c37-4962-4061-b021-858dfd34c6a5",
   "metadata": {
    "scrolled": true
   },
   "outputs": [],
   "source": [
    "data"
   ]
  },
  {
   "cell_type": "code",
   "execution_count": null,
   "id": "ac485d87-0d78-41e1-905c-1f97e017ee87",
   "metadata": {},
   "outputs": [],
   "source": [
    "candidates = ['Timestamp', 'Clicked on Ad', 'Ad Topic Line', 'Country', 'City']\n",
    "X = data.drop([x for x in candidates if x in data.columns], axis=1)\n",
    "# X = data.drop(['Timestamp', 'Clicked on Ad', 'Ad Topic Line', 'Country', 'City'], axis=1, errors='ignore')\n",
    "y = data['Clicked on Ad'].to_numpy()\n",
    "\n",
    "# X_train, X_test, y_train, y_test = train_test_split(X, y, test_size=0.3, random_state=42)\n",
    "\n",
    "# cat_columns = []\n",
    "num_columns = ['Daily Time Spent on Site', 'Age', 'Area Income', 'Daily Internet Usage', 'Male']\n",
    "\n",
    "\n",
    "ct = make_column_transformer(\n",
    "    (MinMaxScaler(), num_columns),\n",
    "    (StandardScaler(), num_columns),\n",
    "    remainder='passthrough'\n",
    ")\n",
    "\n",
    "# X_train = ct.fit_transform(X_train)\n",
    "# X_test = ct.transform(X_test)\n",
    "\n",
    "# Step 3: Split the dataset into training and testing sets\n",
    "grid_search, X_train, y_train, X_test, y_test = fit_model(X, y, transforms=ct)"
   ]
  },
  {
   "cell_type": "markdown",
   "id": "0a1f0496-b783-428a-b29c-3532eb4b7066",
   "metadata": {},
   "source": [
    "## GV build"
   ]
  },
  {
   "cell_type": "code",
   "execution_count": null,
   "id": "ff47f5d2-a141-4c7b-90e1-e11da17eaca7",
   "metadata": {},
   "outputs": [],
   "source": [
    "mlc = grid_search.best_estimator_"
   ]
  },
  {
   "cell_type": "code",
   "execution_count": null,
   "id": "b666add9-84bc-4a61-b48c-741eecb819a7",
   "metadata": {},
   "outputs": [],
   "source": [
    "mlc.coef_"
   ]
  },
  {
   "cell_type": "code",
   "execution_count": null,
   "id": "9a966483-064b-4767-9ea9-3fd0e0320961",
   "metadata": {},
   "outputs": [],
   "source": [
    "pos_idx = np.where(mlc.coef_ >= 0)[1]\n",
    "neg_idx = np.where(mlc.coef_ < 0)[1]\n",
    "neg_idx, pos_idx"
   ]
  },
  {
   "cell_type": "code",
   "execution_count": null,
   "id": "a401302f-82db-49df-910c-333e097e2d1d",
   "metadata": {},
   "outputs": [],
   "source": [
    "y_predt = mlc.predict(X_train)"
   ]
  },
  {
   "cell_type": "code",
   "execution_count": null,
   "id": "cd1f4a8c-2d0c-4588-8e84-023b851c0b1f",
   "metadata": {},
   "outputs": [],
   "source": [
    "X_trains = dict()\n",
    "X_trains[0] = X_train[np.where(y_predt == 0)]\n",
    "X_trains[1] = X_train[np.where(y_predt == 1)]"
   ]
  },
  {
   "cell_type": "code",
   "execution_count": null,
   "id": "ad4dc4ca-4bf3-40f0-b2ed-6b068bbc04f0",
   "metadata": {},
   "outputs": [],
   "source": [
    "y_preds = mlc.predict(X_test)"
   ]
  },
  {
   "cell_type": "code",
   "execution_count": null,
   "id": "4b295d76-cd37-4809-90da-0dd3d5cc5625",
   "metadata": {},
   "outputs": [],
   "source": [
    "X_tests = dict()\n",
    "X_tests[0] = X_test[np.where(y_preds == 0)]\n",
    "X_tests[1] = X_test[np.where(y_preds == 1)]"
   ]
  },
  {
   "cell_type": "code",
   "execution_count": null,
   "id": "cd224658-fa55-4885-9deb-63279d82147b",
   "metadata": {},
   "outputs": [],
   "source": [
    "np.where(y_preds == 1)"
   ]
  },
  {
   "cell_type": "code",
   "execution_count": null,
   "id": "862bab59-869a-4ab6-a17b-5f2cf84b0441",
   "metadata": {
    "scrolled": true
   },
   "outputs": [],
   "source": [
    "y_preds[np.where(y_preds == 1)]"
   ]
  },
  {
   "cell_type": "code",
   "execution_count": null,
   "id": "3d2bd6a4-d736-4aaa-88c4-9593aad9efc8",
   "metadata": {},
   "outputs": [],
   "source": [
    "idxs = np.where(y_preds == 1)[0].tolist()"
   ]
  },
  {
   "cell_type": "code",
   "execution_count": null,
   "id": "26b5e431-6a0d-4bd4-aa40-d55dd94e2b4c",
   "metadata": {},
   "outputs": [],
   "source": [
    "x = X_test[0]\n",
    "np.all(mlc.predict(np.array([x])) > 0.5)"
   ]
  },
  {
   "cell_type": "code",
   "execution_count": null,
   "id": "e2ff64f2-1d3b-4057-bf8b-3878718dd3ef",
   "metadata": {},
   "outputs": [],
   "source": [
    "# v_A = find_v_A(X_train, np.where(y_train == 1)[0], pos_idx=pos_idx, neg_idx=neg_idx)\n",
    "v_A, clusters = find_v_A_model(\n",
    "    X_train, \n",
    "    np.where(y_predt == 1)[0], \n",
    "    pos_idx=pos_idx, \n",
    "    neg_idx=neg_idx,\n",
    "    model = lambda x: 1 if np.all(mlc.predict(np.array([x])) > 0.5) else 0,\n",
    "    y=1,\n",
    ")"
   ]
  },
  {
   "cell_type": "code",
   "execution_count": null,
   "id": "2597d5e8-e019-44f8-8e36-96fcf7996690",
   "metadata": {
    "scrolled": true
   },
   "outputs": [],
   "source": [
    "v_A, clusters"
   ]
  },
  {
   "cell_type": "code",
   "execution_count": null,
   "id": "8570970a-e1d9-4e9d-a754-aa8e3eb69415",
   "metadata": {},
   "outputs": [],
   "source": [
    "X_train.shape, v_A.shape"
   ]
  },
  {
   "cell_type": "code",
   "execution_count": null,
   "id": "bac5f5dd-4561-4c8c-bc15-fd3ab1da0ffb",
   "metadata": {
    "scrolled": true
   },
   "outputs": [],
   "source": [
    "G_As = find_G_xs(X_test, v_A, pos_idx=pos_idx, neg_idx=neg_idx)"
   ]
  },
  {
   "cell_type": "code",
   "execution_count": null,
   "id": "5ed7964c-3dd4-4978-99e9-6948e8c5ebbb",
   "metadata": {
    "scrolled": true
   },
   "outputs": [],
   "source": [
    "G_As"
   ]
  },
  {
   "cell_type": "code",
   "execution_count": null,
   "id": "6b6f82bd-ebef-4200-a863-c8821bbe981d",
   "metadata": {},
   "outputs": [],
   "source": [
    "X_test.shape"
   ]
  },
  {
   "cell_type": "code",
   "execution_count": null,
   "id": "49dfe60e-53dc-4c5e-989d-8f3618cdb43e",
   "metadata": {},
   "outputs": [],
   "source": [
    "ga_ls = list()\n",
    "for x in G_As:\n",
    "    ga_ls.extend(x)\n",
    "ga_st = set(ga_ls)"
   ]
  },
  {
   "cell_type": "code",
   "execution_count": null,
   "id": "51cbefff-73dc-4216-ad59-e497c471c9e5",
   "metadata": {},
   "outputs": [],
   "source": [
    "len(ga_st) , ga_st"
   ]
  },
  {
   "cell_type": "code",
   "execution_count": null,
   "id": "95f4a79b-663e-40b7-9f66-d08c28931a0c",
   "metadata": {
    "scrolled": true
   },
   "outputs": [],
   "source": [
    "for G_x in G_As:\n",
    "    print(mlc.predict(X_test[np.array(G_x)]))"
   ]
  },
  {
   "cell_type": "code",
   "execution_count": null,
   "id": "e2c7db49-425c-49a8-ad67-8952b5594a0e",
   "metadata": {
    "scrolled": true
   },
   "outputs": [],
   "source": [
    "i = 0\n",
    "for x in X_test:\n",
    "    for v in ga_st:\n",
    "        if le(X_test[v], x, pos_idx=pos_idx, neg_idx=neg_idx):\n",
    "            i += 1\n",
    "print(i)"
   ]
  },
  {
   "cell_type": "code",
   "execution_count": null,
   "id": "bc9d2fa5-0c52-4710-8af2-2bce0e34339a",
   "metadata": {
    "scrolled": true
   },
   "outputs": [],
   "source": [
    "y_pred = mlc.predict(X_test)"
   ]
  },
  {
   "cell_type": "code",
   "execution_count": null,
   "id": "1447c3f0-3078-4286-a3d7-bcc0f19ac0e6",
   "metadata": {},
   "outputs": [],
   "source": [
    "np.count_nonzero(y_pred == 1)"
   ]
  },
  {
   "cell_type": "code",
   "execution_count": null,
   "id": "3b6ddce3-ae9e-4065-b150-cd2ae2342693",
   "metadata": {},
   "outputs": [],
   "source": [
    "G_A = find_G_x(X_train, v_A, pos_idx=pos_idx, neg_idx=neg_idx)"
   ]
  },
  {
   "cell_type": "code",
   "execution_count": null,
   "id": "9ef675d8-9baf-4ed2-9af9-e7fad4395411",
   "metadata": {},
   "outputs": [],
   "source": [
    "v_A"
   ]
  },
  {
   "cell_type": "code",
   "execution_count": null,
   "id": "7e7d5987-fc63-497d-bee2-7817fff93f0a",
   "metadata": {},
   "outputs": [],
   "source": [
    "np.count_nonzero(y_train[G_A] == 1) / np.count_nonzero(y_train == 1)"
   ]
  },
  {
   "cell_type": "code",
   "execution_count": null,
   "id": "0a8264f9-47b9-4f10-8de0-49cf8ab063ed",
   "metadata": {},
   "outputs": [],
   "source": [
    "np.count_nonzero(y_train[G_A] == 0) / np.count_nonzero(y_train == 1)"
   ]
  },
  {
   "cell_type": "code",
   "execution_count": null,
   "id": "a29db8b8-0a3f-42cb-94eb-e49e3034369f",
   "metadata": {},
   "outputs": [],
   "source": [
    "(np.count_nonzero(y_train[G_A] == 1) - np.count_nonzero(y_train[G_A] == 0)) / np.count_nonzero(y_train == 1)"
   ]
  },
  {
   "cell_type": "code",
   "execution_count": null,
   "id": "d95c7597-e84d-455f-86fb-45fbaec88174",
   "metadata": {},
   "outputs": [],
   "source": [
    "v_B = find_v_A(X_test, np.where(y_test == 1), pos_idx=pos_idx, neg_idx=neg_idx)\n",
    "G_B = find_G_x(X_test, v_A, pos_idx=pos_idx, neg_idx=neg_idx)"
   ]
  },
  {
   "cell_type": "code",
   "execution_count": null,
   "id": "1a4b504f-282a-4207-9ac6-b981563db009",
   "metadata": {},
   "outputs": [],
   "source": [
    "v_B"
   ]
  },
  {
   "cell_type": "code",
   "execution_count": null,
   "id": "a37e7cc9-f634-43c1-a56c-d0c8cfec4556",
   "metadata": {},
   "outputs": [],
   "source": [
    "np.count_nonzero(y_test[G_B] == 1) / np.count_nonzero(y_test == 1)"
   ]
  },
  {
   "cell_type": "code",
   "execution_count": null,
   "id": "fe1bcffa-36d2-424a-87b7-fe7797529c48",
   "metadata": {},
   "outputs": [],
   "source": [
    "np.count_nonzero(y_test[G_B] == 0) / np.count_nonzero(y_test == 1)"
   ]
  },
  {
   "cell_type": "code",
   "execution_count": null,
   "id": "92767900-0379-4748-8ea0-bb599309f2ad",
   "metadata": {
    "scrolled": true
   },
   "outputs": [],
   "source": [
    "(np.count_nonzero(y_test[G_B] == 1) - np.count_nonzero(y_test[G_B] == 0)) / np.count_nonzero(y_test == 1)"
   ]
  },
  {
   "cell_type": "code",
   "execution_count": null,
   "id": "45a8bff3-2739-4cb5-8ceb-41d003937f10",
   "metadata": {},
   "outputs": [],
   "source": []
  }
 ],
 "metadata": {
  "kernelspec": {
   "display_name": "Python 3 (ipykernel)",
   "language": "python",
   "name": "python3"
  },
  "language_info": {
   "codemirror_mode": {
    "name": "ipython",
    "version": 3
   },
   "file_extension": ".py",
   "mimetype": "text/x-python",
   "name": "python",
   "nbconvert_exporter": "python",
   "pygments_lexer": "ipython3",
   "version": "3.12.8"
  }
 },
 "nbformat": 4,
 "nbformat_minor": 5
}
