{
 "cells": [
  {
   "cell_type": "code",
   "execution_count": null,
   "id": "71ce37e9",
   "metadata": {},
   "outputs": [],
   "source": [
    "%load_ext autoreload\n",
    "%autoreload 2\n",
    "\n",
    "%matplotlib inline"
   ]
  },
  {
   "cell_type": "markdown",
   "id": "5b560092",
   "metadata": {},
   "source": [
    "## Install libraries"
   ]
  },
  {
   "cell_type": "markdown",
   "id": "89885fa7",
   "metadata": {},
   "source": [
    "```bash\n",
    "conda create -n edu4 python=3.11 jupyter matplotlib\n",
    "```"
   ]
  },
  {
   "cell_type": "markdown",
   "id": "cd23589d",
   "metadata": {},
   "source": [
    "```bash \n",
    "! pip install -U -r requirements.txt\n",
    "```"
   ]
  },
  {
   "cell_type": "markdown",
   "id": "9d16321f",
   "metadata": {},
   "source": [
    "```bash\n",
    "! pip install -U numpy\n",
    "! pip install -U scikit-learn\n",
    "```"
   ]
  },
  {
   "cell_type": "markdown",
   "id": "b4cab43a",
   "metadata": {},
   "source": [
    "## Update repository"
   ]
  },
  {
   "cell_type": "code",
   "execution_count": null,
   "id": "46bcb5dc",
   "metadata": {},
   "outputs": [],
   "source": [
    "! git pull"
   ]
  },
  {
   "cell_type": "markdown",
   "id": "bad216da",
   "metadata": {},
   "source": [
    "## Add import path"
   ]
  },
  {
   "cell_type": "code",
   "execution_count": null,
   "id": "baafb705",
   "metadata": {},
   "outputs": [],
   "source": [
    "import os\n",
    "import sys\n",
    "import gc"
   ]
  },
  {
   "cell_type": "code",
   "execution_count": null,
   "id": "b2930983",
   "metadata": {},
   "outputs": [],
   "source": [
    "module_path = os.path.abspath(os.path.join('..'))\n",
    "if module_path not in sys.path:\n",
    "    sys.path.append(module_path)"
   ]
  },
  {
   "cell_type": "code",
   "execution_count": null,
   "id": "7984d32f",
   "metadata": {},
   "outputs": [],
   "source": [
    "del module_path"
   ]
  },
  {
   "cell_type": "markdown",
   "id": "07a1e9c8",
   "metadata": {},
   "source": [
    "## Organize imports"
   ]
  },
  {
   "cell_type": "code",
   "execution_count": null,
   "id": "ae177357",
   "metadata": {},
   "outputs": [],
   "source": [
    "import multiprocessing\n",
    "from pathlib import Path"
   ]
  },
  {
   "cell_type": "code",
   "execution_count": null,
   "id": "a523557a",
   "metadata": {},
   "outputs": [],
   "source": [
    "import seaborn as sns"
   ]
  },
  {
   "cell_type": "code",
   "execution_count": null,
   "id": "25750a3d",
   "metadata": {},
   "outputs": [],
   "source": [
    "import matplotlib.pyplot as plt\n",
    "import numpy as np\n",
    "import pandas as pd"
   ]
  },
  {
   "cell_type": "code",
   "execution_count": null,
   "id": "125950ab",
   "metadata": {},
   "outputs": [],
   "source": [
    "import plotly.express as px"
   ]
  },
  {
   "cell_type": "code",
   "execution_count": null,
   "id": "262d0a5a-ccb6-4a7d-a4a2-76a276c2ce88",
   "metadata": {},
   "outputs": [],
   "source": [
    "from sklearn.linear_model import LinearRegression, LogisticRegression\n",
    "from sklearn.discriminant_analysis import (\n",
    "    LinearDiscriminantAnalysis, \n",
    "    QuadraticDiscriminantAnalysis\n",
    ")\n",
    "from sklearn.tree import DecisionTreeClassifier\n",
    "from sklearn.ensemble import RandomForestClassifier \n",
    "from sklearn.datasets import (\n",
    "    load_iris,\n",
    "    load_wine,\n",
    "    load_breast_cancer\n",
    ")\n",
    "from sklearn.model_selection import train_test_split, GridSearchCV\n",
    "from sklearn.preprocessing import (\n",
    "    MaxAbsScaler,\n",
    "    MinMaxScaler,\n",
    "    StandardScaler,\n",
    "    LabelEncoder, \n",
    "    OneHotEncoder,\n",
    ")\n",
    "from sklearn.metrics import (\n",
    "    precision_score, \n",
    "    recall_score, \n",
    "    f1_score,\n",
    "    classification_report,\n",
    "    confusion_matrix\n",
    ")\n",
    "from sklearn.compose import ColumnTransformer, make_column_transformer"
   ]
  },
  {
   "cell_type": "code",
   "execution_count": null,
   "id": "e1c75655-adba-4f78-811e-9fd3c0286a9e",
   "metadata": {},
   "outputs": [],
   "source": [
    "from scipy import stats\n",
    "from scipy.interpolate import interp1d"
   ]
  },
  {
   "cell_type": "code",
   "execution_count": null,
   "id": "dd35ae26-e0e9-4e5a-9302-5f968b1eb8c9",
   "metadata": {},
   "outputs": [],
   "source": [
    "from src.lattmc.fca.utils import *\n",
    "from src.lattmc.fca.data_utils import *\n",
    "from src.lattmc.fca.image_utils import *\n",
    "from src.lattmc.fca.models import *\n",
    "from src.lattmc.fca.fca_utils import *\n",
    "from src.lattmc.fca.image_gens import *"
   ]
  },
  {
   "cell_type": "markdown",
   "id": "65f31e93",
   "metadata": {},
   "source": [
    "#### Number of CPU cores"
   ]
  },
  {
   "cell_type": "code",
   "execution_count": null,
   "id": "b41c30f2",
   "metadata": {},
   "outputs": [],
   "source": [
    "workers = multiprocessing.cpu_count()\n",
    "workers"
   ]
  },
  {
   "cell_type": "code",
   "execution_count": null,
   "id": "59f41838-322d-41e8-b8e1-6712089703c9",
   "metadata": {},
   "outputs": [],
   "source": [
    "SEED = 2024"
   ]
  },
  {
   "cell_type": "markdown",
   "id": "0ccf4792-19f1-4d01-b9c2-ddea2462cadc",
   "metadata": {},
   "source": [
    "## Initialize Path"
   ]
  },
  {
   "cell_type": "code",
   "execution_count": null,
   "id": "bcd545b8-0e15-41e9-92a9-4d0bf260c8b8",
   "metadata": {},
   "outputs": [],
   "source": [
    "PATH = Path('data')\n",
    "images_path = PATH / 'images'\n",
    "images_path.mkdir(exist_ok=True, parents=True)\n",
    "pumpkin_path = PATH / 'Pumpkin_Seeds_Dataset.xlsx'\n",
    "ad_click_path = PATH / 'advertising.csv'"
   ]
  },
  {
   "cell_type": "markdown",
   "id": "be07aad4-53a7-456b-b026-80295db7d84d",
   "metadata": {},
   "source": [
    "## Prepare the model"
   ]
  },
  {
   "cell_type": "markdown",
   "id": "4c87c758-59cd-4632-b98a-7b439b762c01",
   "metadata": {},
   "source": [
    "#### IRIS data"
   ]
  },
  {
   "cell_type": "code",
   "execution_count": null,
   "id": "2496c678-79ae-408a-a669-88b3a3f34dbc",
   "metadata": {},
   "outputs": [],
   "source": [
    "# Step 1: Load the Breast Cancer Wisconsin Dataset\n",
    "X, y = load_iris(return_X_y=True)\n",
    "\n",
    "# Step 2: Data Preprocessing\n",
    "# Standardize the features\n",
    "scaler = StandardScaler()\n",
    "X_scaled = scaler.fit_transform(X)\n",
    "\n",
    "# Step 3: Split the dataset into training and testing sets\n",
    "X_train, X_test, y_train, y_test = train_test_split(X_scaled, y, test_size=0.2, random_state=42)\n",
    "\n",
    "# Step 4: Hyperparameter Tuning with GridSearchCV\n",
    "param_grid = {\n",
    "    'C': np.logspace(-4, 4, 20),\n",
    "    'penalty': ['l1', 'l2'],\n",
    "    'solver': ['liblinear']\n",
    "}\n",
    "grid_search = GridSearchCV(LogisticRegression(max_iter=10000), param_grid, cv=5)\n",
    "grid_search.fit(X_train, y_train)\n",
    "\n",
    "# Best parameters\n",
    "print(f\"Best parameters: {grid_search.best_params_}\")\n",
    "\n",
    "# Step 5: Make predictions on the test set\n",
    "y_pred = grid_search.predict(X_test)\n",
    "\n",
    "# Step 6: Evaluate the model\n",
    "precision = precision_score(y_test, y_pred, average='macro')\n",
    "recall = recall_score(y_test, y_pred, average='macro')\n",
    "f1 = f1_score(y_test, y_pred, average='macro')\n",
    "\n",
    "# Print evaluation metrics\n",
    "print('\\nClassification Report:')\n",
    "print(classification_report(y_test, y_pred))\n",
    "print(f'Precision: {precision:.3f}')\n",
    "print(f'Recall: {recall:.3f}')\n",
    "print(f'F1 Score: {f1:.3f}')"
   ]
  },
  {
   "cell_type": "markdown",
   "id": "0a1f0496-b783-428a-b29c-3532eb4b7066",
   "metadata": {},
   "source": [
    "## GV build"
   ]
  },
  {
   "cell_type": "code",
   "execution_count": null,
   "id": "ff47f5d2-a141-4c7b-90e1-e11da17eaca7",
   "metadata": {},
   "outputs": [],
   "source": [
    "mlc = grid_search.best_estimator_"
   ]
  },
  {
   "cell_type": "code",
   "execution_count": null,
   "id": "b666add9-84bc-4a61-b48c-741eecb819a7",
   "metadata": {},
   "outputs": [],
   "source": [
    "mlc.coef_"
   ]
  },
  {
   "cell_type": "code",
   "execution_count": null,
   "id": "4feced37-8706-4ed8-9b74-e91a6fbdc555",
   "metadata": {},
   "outputs": [],
   "source": [
    "mlc.coef_.shape"
   ]
  },
  {
   "cell_type": "code",
   "execution_count": null,
   "id": "68b15b2f-202b-4467-acd1-fa2df7968838",
   "metadata": {},
   "outputs": [],
   "source": [
    "if len(mlc.coef_.shape) == 2 and mlc.coef_.shape[0] > 1:\n",
    "    st = mlc.coef_.shape[1]\n",
    "    pos_list = list()\n",
    "    neg_list = list()\n",
    "    for i, cf in enumerate(mlc.coef_):\n",
    "        pd = i * st + np.where(cf >= 0)[0]\n",
    "        ng = i * st + np.where(cf < 0)[0]\n",
    "        pos_list.append(pd)\n",
    "        neg_list.append(ng)\n",
    "    pos_idx = np.concatenate(pos_list)\n",
    "    neg_idx = np.concatenate(neg_list)\n",
    "    x_tr = list()\n",
    "    x_ts = list()\n",
    "    for x in X_train:\n",
    "        x_tr.append(np.concatenate([x for _ in range(mlc.coef_.shape[0])]))\n",
    "    X_traic = np.array(x_tr)\n",
    "    for x in X_test:\n",
    "        x_ts.append(np.concatenate([x for _ in range(mlc.coef_.shape[0])]))\n",
    "    X_tesc = np.array(x_ts)\n",
    "else:\n",
    "    pos_idx = np.where(mlc.coef_ >= 0)[1]\n",
    "    neg_idx = np.where(mlc.coef_ < 0)[1]\n",
    "    X_traic = X_train\n",
    "    X_tesc = X_test"
   ]
  },
  {
   "cell_type": "code",
   "execution_count": null,
   "id": "4a3055ca-c4d5-47be-883d-9947434154a3",
   "metadata": {},
   "outputs": [],
   "source": [
    "pos_idx, neg_idx"
   ]
  },
  {
   "cell_type": "code",
   "execution_count": null,
   "id": "cd1f4a8c-2d0c-4588-8e84-023b851c0b1f",
   "metadata": {},
   "outputs": [],
   "source": [
    "X_trains = dict()\n",
    "for i in range(np.max(y_train) + 1):\n",
    "    X_trains[i] = X_traic[np.where(y_train == i)]"
   ]
  },
  {
   "cell_type": "code",
   "execution_count": null,
   "id": "4b295d76-cd37-4809-90da-0dd3d5cc5625",
   "metadata": {},
   "outputs": [],
   "source": [
    "X_tests = dict()\n",
    "for i in range(np.max(y_test) + 1):\n",
    "    X_tests[i] = X_tesc[np.where(y_test == i)]"
   ]
  },
  {
   "cell_type": "code",
   "execution_count": null,
   "id": "cd224658-fa55-4885-9deb-63279d82147b",
   "metadata": {},
   "outputs": [],
   "source": [
    "np.where(y_test == 1)"
   ]
  },
  {
   "cell_type": "code",
   "execution_count": null,
   "id": "862bab59-869a-4ab6-a17b-5f2cf84b0441",
   "metadata": {},
   "outputs": [],
   "source": [
    "y_test[np.where(y_test == 1)]"
   ]
  },
  {
   "cell_type": "code",
   "execution_count": null,
   "id": "e2ff64f2-1d3b-4057-bf8b-3878718dd3ef",
   "metadata": {},
   "outputs": [],
   "source": [
    "v_A = find_v_A(X_traic, np.where(y_train == 1), pos_idx=pos_idx, neg_idx=neg_idx)\n",
    "G_A = find_G_x(X_traic, v_A, pos_idx=pos_idx, neg_idx=neg_idx)"
   ]
  },
  {
   "cell_type": "code",
   "execution_count": null,
   "id": "9ef675d8-9baf-4ed2-9af9-e7fad4395411",
   "metadata": {},
   "outputs": [],
   "source": [
    "v_A"
   ]
  },
  {
   "cell_type": "code",
   "execution_count": null,
   "id": "7e7d5987-fc63-497d-bee2-7817fff93f0a",
   "metadata": {},
   "outputs": [],
   "source": [
    "np.count_nonzero(y_train[G_A] == 1) / np.count_nonzero(y_train == 1)"
   ]
  },
  {
   "cell_type": "code",
   "execution_count": null,
   "id": "0a8264f9-47b9-4f10-8de0-49cf8ab063ed",
   "metadata": {},
   "outputs": [],
   "source": [
    "np.count_nonzero(y_train[G_A] == 0) / np.count_nonzero(y_train == 1)"
   ]
  },
  {
   "cell_type": "code",
   "execution_count": null,
   "id": "a29db8b8-0a3f-42cb-94eb-e49e3034369f",
   "metadata": {},
   "outputs": [],
   "source": [
    "(np.count_nonzero(y_train[G_A] == 1) - np.count_nonzero(y_train[G_A] == 0)) / np.count_nonzero(y_train == 1)"
   ]
  },
  {
   "cell_type": "code",
   "execution_count": null,
   "id": "d95c7597-e84d-455f-86fb-45fbaec88174",
   "metadata": {},
   "outputs": [],
   "source": [
    "v_B = find_v_A(X_tesc, np.where(y_test == 1), pos_idx=pos_idx, neg_idx=neg_idx)\n",
    "G_B = find_G_x(X_tesc, v_A, pos_idx=pos_idx, neg_idx=neg_idx)"
   ]
  },
  {
   "cell_type": "code",
   "execution_count": null,
   "id": "1a4b504f-282a-4207-9ac6-b981563db009",
   "metadata": {},
   "outputs": [],
   "source": [
    "v_B"
   ]
  },
  {
   "cell_type": "code",
   "execution_count": null,
   "id": "a37e7cc9-f634-43c1-a56c-d0c8cfec4556",
   "metadata": {},
   "outputs": [],
   "source": [
    "np.count_nonzero(y_test[G_B] == 1) / np.count_nonzero(y_test == 1)"
   ]
  },
  {
   "cell_type": "code",
   "execution_count": null,
   "id": "fe1bcffa-36d2-424a-87b7-fe7797529c48",
   "metadata": {},
   "outputs": [],
   "source": [
    "np.count_nonzero(y_test[G_B] == 0) / np.count_nonzero(y_test == 1)"
   ]
  },
  {
   "cell_type": "code",
   "execution_count": null,
   "id": "92767900-0379-4748-8ea0-bb599309f2ad",
   "metadata": {
    "scrolled": true
   },
   "outputs": [],
   "source": [
    "(np.count_nonzero(y_test[G_B] == 1) - np.count_nonzero(y_test[G_B] == 0)) / np.count_nonzero(y_test == 1)"
   ]
  },
  {
   "cell_type": "code",
   "execution_count": null,
   "id": "d6f7bff4-79f7-464f-a2d3-73b231168ec2",
   "metadata": {},
   "outputs": [],
   "source": []
  }
 ],
 "metadata": {
  "kernelspec": {
   "display_name": "Python 3 (ipykernel)",
   "language": "python",
   "name": "python3"
  },
  "language_info": {
   "codemirror_mode": {
    "name": "ipython",
    "version": 3
   },
   "file_extension": ".py",
   "mimetype": "text/x-python",
   "name": "python",
   "nbconvert_exporter": "python",
   "pygments_lexer": "ipython3",
   "version": "3.12.8"
  }
 },
 "nbformat": 4,
 "nbformat_minor": 5
}
