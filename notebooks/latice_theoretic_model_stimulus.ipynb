{
 "cells": [
  {
   "cell_type": "code",
   "execution_count": null,
   "id": "71ce37e9",
   "metadata": {},
   "outputs": [],
   "source": [
    "%load_ext autoreload\n",
    "%autoreload 2\n",
    "\n",
    "%matplotlib inline"
   ]
  },
  {
   "cell_type": "markdown",
   "id": "5b560092",
   "metadata": {},
   "source": [
    "## Install libraries"
   ]
  },
  {
   "cell_type": "markdown",
   "id": "89885fa7",
   "metadata": {},
   "source": [
    "```bash\n",
    "conda create -n edu4 python=3.11 jupyter matplotlib\n",
    "```"
   ]
  },
  {
   "cell_type": "markdown",
   "id": "cd23589d",
   "metadata": {},
   "source": [
    "```bash \n",
    "! pip install -U -r requirements.txt\n",
    "```"
   ]
  },
  {
   "cell_type": "markdown",
   "id": "9d16321f",
   "metadata": {},
   "source": [
    "```bash\n",
    "! pip install -U numpy\n",
    "! pip install -U scikit-learn\n",
    "```"
   ]
  },
  {
   "cell_type": "markdown",
   "id": "b4cab43a",
   "metadata": {},
   "source": [
    "## Update repository"
   ]
  },
  {
   "cell_type": "code",
   "execution_count": null,
   "id": "46bcb5dc",
   "metadata": {},
   "outputs": [],
   "source": [
    "! git pull"
   ]
  },
  {
   "cell_type": "markdown",
   "id": "bad216da",
   "metadata": {},
   "source": [
    "## Add import path"
   ]
  },
  {
   "cell_type": "code",
   "execution_count": null,
   "id": "baafb705",
   "metadata": {},
   "outputs": [],
   "source": [
    "import os\n",
    "import sys\n",
    "import gc"
   ]
  },
  {
   "cell_type": "code",
   "execution_count": null,
   "id": "b2930983",
   "metadata": {},
   "outputs": [],
   "source": [
    "module_path = os.path.abspath(os.path.join('..'))\n",
    "if module_path not in sys.path:\n",
    "    sys.path.append(module_path)"
   ]
  },
  {
   "cell_type": "code",
   "execution_count": null,
   "id": "7984d32f",
   "metadata": {},
   "outputs": [],
   "source": [
    "del module_path"
   ]
  },
  {
   "cell_type": "markdown",
   "id": "07a1e9c8",
   "metadata": {},
   "source": [
    "## Organize imports"
   ]
  },
  {
   "cell_type": "code",
   "execution_count": null,
   "id": "ae177357",
   "metadata": {},
   "outputs": [],
   "source": [
    "import multiprocessing\n",
    "from pathlib import Path"
   ]
  },
  {
   "cell_type": "code",
   "execution_count": null,
   "id": "a523557a",
   "metadata": {},
   "outputs": [],
   "source": [
    "import seaborn as sns"
   ]
  },
  {
   "cell_type": "code",
   "execution_count": null,
   "id": "25750a3d",
   "metadata": {},
   "outputs": [],
   "source": [
    "import matplotlib.pyplot as plt\n",
    "import numpy as np\n",
    "import pandas as pd"
   ]
  },
  {
   "cell_type": "code",
   "execution_count": null,
   "id": "125950ab",
   "metadata": {},
   "outputs": [],
   "source": [
    "import plotly.express as px"
   ]
  },
  {
   "cell_type": "code",
   "execution_count": null,
   "id": "262d0a5a-ccb6-4a7d-a4a2-76a276c2ce88",
   "metadata": {},
   "outputs": [],
   "source": [
    "from sklearn.linear_model import LinearRegression, LogisticRegression\n",
    "from sklearn.discriminant_analysis import (\n",
    "    LinearDiscriminantAnalysis, \n",
    "    QuadraticDiscriminantAnalysis\n",
    ")\n",
    "from sklearn.tree import DecisionTreeClassifier\n",
    "from sklearn.ensemble import RandomForestClassifier \n",
    "from sklearn.datasets import (\n",
    "    load_iris,\n",
    "    load_wine,\n",
    "    load_breast_cancer\n",
    ")\n",
    "from sklearn.model_selection import train_test_split\n",
    "from sklearn.preprocessing import (\n",
    "    MaxAbsScaler,\n",
    "    MinMaxScaler,\n",
    "    StandardScaler\n",
    ")\n",
    "from sklearn.metrics import (\n",
    "    classification_report,\n",
    "    confusion_matrix\n",
    ")"
   ]
  },
  {
   "cell_type": "code",
   "execution_count": null,
   "id": "e1c75655-adba-4f78-811e-9fd3c0286a9e",
   "metadata": {},
   "outputs": [],
   "source": [
    "from scipy import stats\n",
    "from scipy.interpolate import interp1d"
   ]
  },
  {
   "cell_type": "code",
   "execution_count": null,
   "id": "dd35ae26-e0e9-4e5a-9302-5f968b1eb8c9",
   "metadata": {},
   "outputs": [],
   "source": [
    "from src.lattmc.fca.utils import *\n",
    "from src.lattmc.fca.data_utils import *\n",
    "from src.lattmc.fca.image_utils import *\n",
    "from src.lattmc.fca.models import *\n",
    "from src.lattmc.fca.fca_utils import *\n",
    "from src.lattmc.fca.image_gens import *"
   ]
  },
  {
   "cell_type": "markdown",
   "id": "65f31e93",
   "metadata": {},
   "source": [
    "#### Number of CPU cores"
   ]
  },
  {
   "cell_type": "code",
   "execution_count": null,
   "id": "b41c30f2",
   "metadata": {},
   "outputs": [],
   "source": [
    "workers = multiprocessing.cpu_count()\n",
    "workers"
   ]
  },
  {
   "cell_type": "code",
   "execution_count": null,
   "id": "59f41838-322d-41e8-b8e1-6712089703c9",
   "metadata": {},
   "outputs": [],
   "source": [
    "SEED = 2024"
   ]
  },
  {
   "cell_type": "markdown",
   "id": "0ccf4792-19f1-4d01-b9c2-ddea2462cadc",
   "metadata": {},
   "source": [
    "## Initialize Path"
   ]
  },
  {
   "cell_type": "code",
   "execution_count": null,
   "id": "bcd545b8-0e15-41e9-92a9-4d0bf260c8b8",
   "metadata": {},
   "outputs": [],
   "source": [
    "PATH = Path('data')\n",
    "images_path = PATH / 'images'\n",
    "images_path.mkdir(exist_ok=True, parents=True)\n",
    "pumpkin_path = PATH / 'Pumpkin_Seeds_Dataset.xlsx'"
   ]
  },
  {
   "cell_type": "markdown",
   "id": "be07aad4-53a7-456b-b026-80295db7d84d",
   "metadata": {},
   "source": [
    "## Initialize simple dataset"
   ]
  },
  {
   "cell_type": "code",
   "execution_count": null,
   "id": "c3ddebc9-6b60-403d-aaa1-13c71e3215e6",
   "metadata": {},
   "outputs": [],
   "source": [
    "iris = load_iris()"
   ]
  },
  {
   "cell_type": "code",
   "execution_count": null,
   "id": "20e2e843-2637-46e4-bd85-c66eeb5224a9",
   "metadata": {},
   "outputs": [],
   "source": [
    "wines = load_wine()"
   ]
  },
  {
   "cell_type": "code",
   "execution_count": null,
   "id": "d475af9c-7863-4d44-9daf-16516cdde830",
   "metadata": {},
   "outputs": [],
   "source": [
    "df = pd.read_excel(pumpkin_path)"
   ]
  },
  {
   "cell_type": "code",
   "execution_count": null,
   "id": "6e1ebae1-5609-41e6-ad31-5fac2f33596c",
   "metadata": {},
   "outputs": [],
   "source": [
    "X = iris['data']\n",
    "y = iris['target']"
   ]
  },
  {
   "cell_type": "code",
   "execution_count": null,
   "id": "bf944d64-f144-4b87-9e93-8e83ef375908",
   "metadata": {},
   "outputs": [],
   "source": [
    "X = wines['data']\n",
    "y = wines['target']"
   ]
  },
  {
   "cell_type": "code",
   "execution_count": null,
   "id": "284053df-5ff0-4a0f-a7ee-b31787fe6bba",
   "metadata": {},
   "outputs": [],
   "source": [
    "y = df['Class']\n",
    "X = df.drop(columns=['Class'], axis=1)"
   ]
  },
  {
   "cell_type": "code",
   "execution_count": null,
   "id": "563bff21-f12f-41cf-8cb9-6ee8acd9226d",
   "metadata": {},
   "outputs": [],
   "source": [
    "y"
   ]
  },
  {
   "cell_type": "code",
   "execution_count": null,
   "id": "5556660e-a14c-4a43-bc80-c29866301812",
   "metadata": {},
   "outputs": [],
   "source": [
    "y = y.replace('Çerçevelik', 0).replace('Ürgüp Sivrisi', 1)"
   ]
  },
  {
   "cell_type": "code",
   "execution_count": null,
   "id": "8e6d0014-9a82-49a3-b2ad-2e0ce6eb65ca",
   "metadata": {},
   "outputs": [],
   "source": [
    "y = y.to_numpy()"
   ]
  },
  {
   "cell_type": "code",
   "execution_count": null,
   "id": "9b5755cd-75e5-401f-91cd-2cf8841779e2",
   "metadata": {},
   "outputs": [],
   "source": [
    "X_train, X_test, y_train, y_test = train_test_split(\n",
    "    X, y, \n",
    "    test_size=0.2, \n",
    "    random_state=SEED\n",
    ")"
   ]
  },
  {
   "cell_type": "code",
   "execution_count": null,
   "id": "2623f5df-c7e8-47e7-b676-2f5965ad1591",
   "metadata": {},
   "outputs": [],
   "source": [
    "X_train.shape, y_train.shape, X_test.shape, y_test.shape"
   ]
  },
  {
   "cell_type": "code",
   "execution_count": null,
   "id": "75b6b9fc-e8b7-49ec-847f-40c333cf7c96",
   "metadata": {},
   "outputs": [],
   "source": [
    "scaler = MaxAbsScaler()\n",
    "X_train = scaler.fit_transform(X_train)"
   ]
  },
  {
   "cell_type": "code",
   "execution_count": null,
   "id": "e040d2b4-80cc-45da-af38-7938c5fbff13",
   "metadata": {},
   "outputs": [],
   "source": [
    "X_test = scaler.transform(X_test)"
   ]
  },
  {
   "cell_type": "markdown",
   "id": "807137b2-c1f9-42eb-a4aa-2ad0f60c93b2",
   "metadata": {},
   "source": [
    "## Fitting Logistic Regression"
   ]
  },
  {
   "cell_type": "code",
   "execution_count": null,
   "id": "b12f6e30-97c2-40bb-8b7b-92bee7870686",
   "metadata": {},
   "outputs": [],
   "source": [
    "multi_class='ovr'"
   ]
  },
  {
   "cell_type": "code",
   "execution_count": null,
   "id": "1049c048-6722-4751-9dd9-b6602832d749",
   "metadata": {},
   "outputs": [],
   "source": [
    "multi_class='auto'"
   ]
  },
  {
   "cell_type": "code",
   "execution_count": null,
   "id": "86ecbb2e-8222-42dd-a40e-84ae4900b816",
   "metadata": {},
   "outputs": [],
   "source": [
    "mlc = LogisticRegression(\n",
    "    multi_class=multi_class,\n",
    "    max_iter=1000000,\n",
    "    n_jobs=workers\n",
    ")"
   ]
  },
  {
   "cell_type": "code",
   "execution_count": null,
   "id": "b2ee006c-0082-4214-95cd-70080e3d671c",
   "metadata": {},
   "outputs": [],
   "source": [
    "mlc = LinearDiscriminantAnalysis()"
   ]
  },
  {
   "cell_type": "code",
   "execution_count": null,
   "id": "a6a8a41f-321e-4972-9f87-67c590d3bc86",
   "metadata": {},
   "outputs": [],
   "source": [
    "mlc = QuadraticDiscriminantAnalysis()"
   ]
  },
  {
   "cell_type": "code",
   "execution_count": null,
   "id": "c4849abe-0cf5-4060-9018-6634a8020277",
   "metadata": {},
   "outputs": [],
   "source": [
    "mlc = mlc.fit(X_train, y_train)"
   ]
  },
  {
   "cell_type": "code",
   "execution_count": null,
   "id": "8d4700da-bcc9-468e-a4fe-8808afc15d39",
   "metadata": {},
   "outputs": [],
   "source": [
    "mlc.classes_"
   ]
  },
  {
   "cell_type": "code",
   "execution_count": null,
   "id": "16134ec4-d73a-4b8d-a785-a89df9f5a400",
   "metadata": {},
   "outputs": [],
   "source": [
    "V_test = mlc.predict_log_proba(X_test)\n",
    "y_pred = mlc.predict_proba(X_test)\n",
    "y_hats = mlc.predict(X_test)"
   ]
  },
  {
   "cell_type": "code",
   "execution_count": null,
   "id": "1aa82140-f8d2-4b95-ada5-128ab6ba0517",
   "metadata": {},
   "outputs": [],
   "source": [
    "print(classification_report(y_test, y_hats))"
   ]
  },
  {
   "cell_type": "code",
   "execution_count": null,
   "id": "46e01927-cdbd-458e-9f07-86b88d50cf3e",
   "metadata": {},
   "outputs": [],
   "source": [
    "confusion_matrix(y_train, mlc.predict(X_train))"
   ]
  },
  {
   "cell_type": "code",
   "execution_count": null,
   "id": "23dca298-cd7c-4c4d-89b1-ee8e3358c2e4",
   "metadata": {},
   "outputs": [],
   "source": [
    "confusion_matrix(y_test, y_hats)"
   ]
  },
  {
   "cell_type": "markdown",
   "id": "0a1f0496-b783-428a-b29c-3532eb4b7066",
   "metadata": {},
   "source": [
    "## GV build"
   ]
  },
  {
   "cell_type": "code",
   "execution_count": null,
   "id": "ff47f5d2-a141-4c7b-90e1-e11da17eaca7",
   "metadata": {},
   "outputs": [],
   "source": [
    "mlc.coef_"
   ]
  },
  {
   "cell_type": "code",
   "execution_count": null,
   "id": "9a966483-064b-4767-9ea9-3fd0e0320961",
   "metadata": {},
   "outputs": [],
   "source": [
    "pos_idx = np.where(mlc.coef_ >= 0)[1]\n",
    "neg_idx = np.where(mlc.coef_ < 0)[1]\n",
    "neg_idx, pos_idx"
   ]
  },
  {
   "cell_type": "code",
   "execution_count": null,
   "id": "cd1f4a8c-2d0c-4588-8e84-023b851c0b1f",
   "metadata": {},
   "outputs": [],
   "source": [
    "X_trains = dict()\n",
    "X_trains[0] = X_train[np.where(y_train == 0)]\n",
    "X_trains[1] = X_train[np.where(y_train == 1)]"
   ]
  },
  {
   "cell_type": "code",
   "execution_count": null,
   "id": "4b295d76-cd37-4809-90da-0dd3d5cc5625",
   "metadata": {},
   "outputs": [],
   "source": [
    "X_tests = dict()\n",
    "X_tests[0] = X_test[np.where(y_test == 0)]\n",
    "X_tests[1] = X_test[np.where(y_test == 1)]"
   ]
  },
  {
   "cell_type": "code",
   "execution_count": null,
   "id": "862bab59-869a-4ab6-a17b-5f2cf84b0441",
   "metadata": {},
   "outputs": [],
   "source": [
    "y_test[np.where(y_test == 1)]"
   ]
  },
  {
   "cell_type": "code",
   "execution_count": null,
   "id": "e2ff64f2-1d3b-4057-bf8b-3878718dd3ef",
   "metadata": {},
   "outputs": [],
   "source": [
    "v_A = find_v_A(X_train, np.where(y_train == 1), pos_idx=pos_idx, neg_idx=neg_idx)"
   ]
  },
  {
   "cell_type": "code",
   "execution_count": null,
   "id": "9ef675d8-9baf-4ed2-9af9-e7fad4395411",
   "metadata": {},
   "outputs": [],
   "source": [
    "v_A"
   ]
  },
  {
   "cell_type": "code",
   "execution_count": null,
   "id": "9ed39d06-c6bc-4550-bce9-3581a15a4aed",
   "metadata": {},
   "outputs": [],
   "source": [
    "G_A = find_G_x(X_train, v_A, pos_idx=pos_idx, neg_idx=neg_idx)"
   ]
  },
  {
   "cell_type": "code",
   "execution_count": null,
   "id": "2fe36575-eabd-4092-b145-4645647951fb",
   "metadata": {},
   "outputs": [],
   "source": [
    "y_train[G_A]"
   ]
  },
  {
   "cell_type": "code",
   "execution_count": null,
   "id": "de1e7d0b-b842-4d25-b188-21c754ae113c",
   "metadata": {},
   "outputs": [],
   "source": [
    "np.count_nonzero(y_train[G_A] == 0) / np.count_nonzero(y_train == 1)"
   ]
  },
  {
   "cell_type": "code",
   "execution_count": null,
   "id": "970e9f67-2ac5-406d-b0a7-4d6f0e1b0160",
   "metadata": {},
   "outputs": [],
   "source": [
    "y_train.shape, y_train[G_A].shape"
   ]
  },
  {
   "cell_type": "code",
   "execution_count": null,
   "id": "f629c5b7-51cf-4e69-9eef-04c44a96ab7b",
   "metadata": {},
   "outputs": [],
   "source": [
    "np.where(y_train[G_A] == 1)[0].shape, np.where(y_train[G_A] == 0)[0].shape"
   ]
  },
  {
   "cell_type": "code",
   "execution_count": null,
   "id": "47a90338-7033-463a-9658-2b46fc9bd092",
   "metadata": {},
   "outputs": [],
   "source": [
    "V_train = mlc.predict_log_proba(X_test)"
   ]
  },
  {
   "cell_type": "code",
   "execution_count": null,
   "id": "609773a1-d724-499e-bcd6-8f6f601848c6",
   "metadata": {},
   "outputs": [],
   "source": [
    "I_X = [[x, v_x] for x, v_x in zip(X_test, V_test)]"
   ]
  },
  {
   "cell_type": "code",
   "execution_count": null,
   "id": "4d73ce6d-c8a0-43b1-9c82-8a2d1ea08ec0",
   "metadata": {
    "scrolled": true
   },
   "outputs": [],
   "source": [
    "np.sum(V_test, axis=1)"
   ]
  },
  {
   "cell_type": "code",
   "execution_count": null,
   "id": "d6efe65b-9ed2-491f-8657-4390900201ee",
   "metadata": {},
   "outputs": [],
   "source": [
    "np.sum(y_pred, axis=1)"
   ]
  },
  {
   "cell_type": "code",
   "execution_count": null,
   "id": "669a0c2e-77c6-4f3a-a138-824f195d5b2c",
   "metadata": {},
   "outputs": [],
   "source": [
    "y_pred[-1]"
   ]
  },
  {
   "cell_type": "code",
   "execution_count": null,
   "id": "809c6b67-7dfb-45d0-a956-2ed3a761d3d0",
   "metadata": {},
   "outputs": [],
   "source": [
    "x = X_test[-1]\n",
    "v_x = V_test[-1]"
   ]
  },
  {
   "cell_type": "code",
   "execution_count": null,
   "id": "0d172c6d-a456-48b0-bd37-114be88590f6",
   "metadata": {},
   "outputs": [],
   "source": [
    "def upset(v):\n",
    "    B, v_B = list(), list()\n",
    "    for x_t, v_t in zip(X_test, V_test):\n",
    "        if np.all(v <= v_t):\n",
    "            B.append(x_t)\n",
    "            v_B.append(v_t)\n",
    "\n",
    "    return B, v_B"
   ]
  },
  {
   "cell_type": "code",
   "execution_count": null,
   "id": "9b8315ef-a6c2-4549-a5c3-4e06d2c939d3",
   "metadata": {},
   "outputs": [],
   "source": [
    "Bs = list()\n",
    "v_Bs = list()\n",
    "for x_a, v_a in zip(X_test, V_test):\n",
    "    B_a, v_B_a = upset(v_a)\n",
    "    Bs.append(B_a)\n",
    "    v_Bs.append(v_B_a)"
   ]
  },
  {
   "cell_type": "code",
   "execution_count": null,
   "id": "b326ab72-5d9e-4848-93fe-49c0afb61686",
   "metadata": {},
   "outputs": [],
   "source": [
    "len(Bs)"
   ]
  },
  {
   "cell_type": "code",
   "execution_count": null,
   "id": "830336fa-74ed-4d02-9e5d-d9bc05d411d3",
   "metadata": {},
   "outputs": [],
   "source": [
    "i = 0\n",
    "for B_c in Bs:\n",
    "    i += len(B_c)\n",
    "i"
   ]
  },
  {
   "cell_type": "markdown",
   "id": "455ec37a-81e5-494a-b780-c9580bcb8981",
   "metadata": {},
   "source": [
    "## Clustering lattices"
   ]
  },
  {
   "cell_type": "code",
   "execution_count": null,
   "id": "8499cc0a-589f-4ced-ab5d-130c294dc83d",
   "metadata": {},
   "outputs": [],
   "source": [
    "V_0 = list()\n",
    "A = list()\n",
    "V_1 = list()\n",
    "B = list()\n",
    "V_2 = list()\n",
    "C = list()\n",
    "for x, v_x, y in zip(X_test, V_test, y_test):\n",
    "    if y == 0:\n",
    "        A.append(x)\n",
    "        V_0.append(v_x)\n",
    "    elif y == 1:\n",
    "        B.append(x)\n",
    "        V_1.append(v_x)\n",
    "    elif y == 2:\n",
    "        C.append(x)\n",
    "        V_2.append(v_x)"
   ]
  },
  {
   "cell_type": "code",
   "execution_count": null,
   "id": "8a9e0d38-22c5-483c-a9d6-6a891cfb3a02",
   "metadata": {},
   "outputs": [],
   "source": [
    "len(V_0)"
   ]
  },
  {
   "cell_type": "code",
   "execution_count": null,
   "id": "0626f419-bce0-4fe3-bc27-ab671417820d",
   "metadata": {},
   "outputs": [],
   "source": [
    "V_0[0]"
   ]
  },
  {
   "cell_type": "code",
   "execution_count": null,
   "id": "28eac588-f950-4dc5-b418-b5aa7ed7df45",
   "metadata": {},
   "outputs": [],
   "source": [
    "# np.array(V_0)"
   ]
  },
  {
   "cell_type": "code",
   "execution_count": null,
   "id": "62d2a2a6-b854-4a1e-9609-d4300e841fcc",
   "metadata": {},
   "outputs": [],
   "source": [
    "v_A = np.min(np.array(V_0), axis = 0)\n",
    "v_B = np.min(np.array(V_1), axis = 0)\n",
    "# v_C = np.min(np.array(V_2))"
   ]
  },
  {
   "cell_type": "code",
   "execution_count": null,
   "id": "ae539c6b-d1f0-4973-8d21-a361d2e45f1b",
   "metadata": {},
   "outputs": [],
   "source": [
    "v_A, v_B"
   ]
  },
  {
   "cell_type": "code",
   "execution_count": null,
   "id": "c1f695de-edf9-4a76-97fc-fbfea8db77d1",
   "metadata": {},
   "outputs": [],
   "source": [
    "G_v_A = list()\n",
    "G_v_B = list()\n",
    "for x, v_x, y in zip(X_test, V_test, y_test):\n",
    "    if np.all(v_A <= v_x):\n",
    "        G_v_A.append((x, y))\n",
    "    if np.all(v_B <= v_x):\n",
    "        G_v_B.append((x, y))"
   ]
  },
  {
   "cell_type": "code",
   "execution_count": null,
   "id": "539e18b7-93a7-43de-8adf-4f46edc7460d",
   "metadata": {},
   "outputs": [],
   "source": [
    "i_A = 0\n",
    "for v_x, y in G_v_A:\n",
    "    i_A += y\n",
    "print(f'{i_A} {len(G_v_A)} {len(G_v_A) - i_A}')"
   ]
  },
  {
   "cell_type": "code",
   "execution_count": null,
   "id": "9300fa22-48a5-482e-86d5-b1f4667e9627",
   "metadata": {},
   "outputs": [],
   "source": [
    "i_B = 0\n",
    "for v_x, y in G_v_B:\n",
    "    i_B += y\n",
    "print(f'{i_B} {len(G_v_B)} {len(G_v_B) - i_B}')"
   ]
  },
  {
   "cell_type": "code",
   "execution_count": null,
   "id": "0be26253-65d3-4dc0-ae57-88a9bdee023d",
   "metadata": {},
   "outputs": [],
   "source": []
  }
 ],
 "metadata": {
  "kernelspec": {
   "display_name": "Python 3 (ipykernel)",
   "language": "python",
   "name": "python3"
  },
  "language_info": {
   "codemirror_mode": {
    "name": "ipython",
    "version": 3
   },
   "file_extension": ".py",
   "mimetype": "text/x-python",
   "name": "python",
   "nbconvert_exporter": "python",
   "pygments_lexer": "ipython3",
   "version": "3.12.0"
  }
 },
 "nbformat": 4,
 "nbformat_minor": 5
}
