{
 "cells": [
  {
   "cell_type": "code",
   "execution_count": null,
   "id": "71ce37e9",
   "metadata": {},
   "outputs": [],
   "source": [
    "%load_ext autoreload\n",
    "%autoreload 2\n",
    "\n",
    "%matplotlib inline"
   ]
  },
  {
   "cell_type": "markdown",
   "id": "5b560092",
   "metadata": {},
   "source": [
    "## Install libraries"
   ]
  },
  {
   "cell_type": "code",
   "execution_count": null,
   "id": "69b65bf2-6556-48a6-826d-5cfe43eddab7",
   "metadata": {},
   "outputs": [],
   "source": [
    "from IPython.display import display, Javascript\n",
    "\n",
    "display(Javascript('''\n",
    "(function() {\n",
    "    var interval = setInterval(function() {\n",
    "        if (typeof google !== 'undefined' && google.translate && google.translate.TranslateElement) {\n",
    "            clearInterval(interval);\n",
    "            google.translate.TranslateElement = function() {};\n",
    "            document.getElementById('google_translate_element')?.remove();\n",
    "        }\n",
    "    }, 1000);\n",
    "})();\n",
    "'''))"
   ]
  },
  {
   "cell_type": "markdown",
   "id": "b4cab43a",
   "metadata": {},
   "source": [
    "## Update repository"
   ]
  },
  {
   "cell_type": "code",
   "execution_count": null,
   "id": "46bcb5dc",
   "metadata": {},
   "outputs": [],
   "source": [
    "! git pull"
   ]
  },
  {
   "cell_type": "markdown",
   "id": "bad216da",
   "metadata": {},
   "source": [
    "## Add import path"
   ]
  },
  {
   "cell_type": "code",
   "execution_count": null,
   "id": "baafb705",
   "metadata": {},
   "outputs": [],
   "source": [
    "import os\n",
    "import sys\n",
    "import gc"
   ]
  },
  {
   "cell_type": "code",
   "execution_count": null,
   "id": "b2930983",
   "metadata": {},
   "outputs": [],
   "source": [
    "module_path = os.path.abspath(os.path.join('..'))\n",
    "if module_path not in sys.path:\n",
    "    sys.path.append(module_path)"
   ]
  },
  {
   "cell_type": "code",
   "execution_count": null,
   "id": "7984d32f",
   "metadata": {},
   "outputs": [],
   "source": [
    "del module_path"
   ]
  },
  {
   "cell_type": "markdown",
   "id": "07a1e9c8",
   "metadata": {},
   "source": [
    "## Organize imports"
   ]
  },
  {
   "cell_type": "code",
   "execution_count": null,
   "id": "ae177357",
   "metadata": {},
   "outputs": [],
   "source": [
    "import multiprocessing\n",
    "from pathlib import Path"
   ]
  },
  {
   "cell_type": "code",
   "execution_count": null,
   "id": "ee903b26-0c30-466e-87e9-46b68f585fdf",
   "metadata": {},
   "outputs": [],
   "source": [
    "from collections import OrderedDict"
   ]
  },
  {
   "cell_type": "code",
   "execution_count": null,
   "id": "24a7dc9c-777d-4d5c-9674-9cb09b221509",
   "metadata": {},
   "outputs": [],
   "source": [
    "from functools import reduce"
   ]
  },
  {
   "cell_type": "code",
   "execution_count": null,
   "id": "25750a3d",
   "metadata": {},
   "outputs": [],
   "source": [
    "import matplotlib.pyplot as plt\n",
    "import seaborn as sns\n",
    "import numpy as np"
   ]
  },
  {
   "cell_type": "code",
   "execution_count": null,
   "id": "96b53c98-9137-444e-b868-deecac303673",
   "metadata": {},
   "outputs": [],
   "source": [
    "from tqdm import tqdm"
   ]
  },
  {
   "cell_type": "code",
   "execution_count": null,
   "id": "23828718-0adc-4a5f-8d63-813442ccbee8",
   "metadata": {},
   "outputs": [],
   "source": [
    "import torch\n",
    "from torch import nn\n",
    "from torch.utils.data import DataLoader\n",
    "from torchvision import transforms\n",
    "from torchvision.datasets import FashionMNIST"
   ]
  },
  {
   "cell_type": "code",
   "execution_count": null,
   "id": "24e1c835-52c3-4aee-92b6-8b86147d8da2",
   "metadata": {},
   "outputs": [],
   "source": [
    "from src.lattmc.fca.utils import *\n",
    "from src.lattmc.fca.data_utils import *\n",
    "from src.lattmc.fca.image_utils import *\n",
    "from src.lattmc.fca.models import *\n",
    "from src.lattmc.fca.fca_utils import *\n",
    "from src.lattmc.fca.image_gens import *"
   ]
  },
  {
   "cell_type": "markdown",
   "id": "65f31e93",
   "metadata": {},
   "source": [
    "#### Number of CPU cores"
   ]
  },
  {
   "cell_type": "code",
   "execution_count": null,
   "id": "b41c30f2",
   "metadata": {},
   "outputs": [],
   "source": [
    "workers = multiprocessing.cpu_count()\n",
    "workers"
   ]
  },
  {
   "cell_type": "code",
   "execution_count": null,
   "id": "59f41838-322d-41e8-b8e1-6712089703c9",
   "metadata": {},
   "outputs": [],
   "source": [
    "SEED = 2024"
   ]
  },
  {
   "cell_type": "markdown",
   "id": "0ccf4792-19f1-4d01-b9c2-ddea2462cadc",
   "metadata": {},
   "source": [
    "## Initialize Path"
   ]
  },
  {
   "cell_type": "code",
   "execution_count": null,
   "id": "bcd545b8-0e15-41e9-92a9-4d0bf260c8b8",
   "metadata": {},
   "outputs": [],
   "source": [
    "PATH = Path('data')\n",
    "model_dir = PATH / 'models'\n",
    "model_path = model_dir / 'simple_cnn_fasion_mnist_model.ckpt'\n",
    "config_dir = PATH / 'config'\n",
    "config_dir.mkdir(exist_ok=True, parents=True)\n",
    "config_1_layer_path = config_dir / 'neurons_1_layer.json'\n",
    "config_cnn_layer_1 = config_dir / 'neurons_cnn_1_layer.json'\n",
    "images_dir = PATH / 'images'\n",
    "images_dir.mkdir(exist_ok=True, parents=True)\n",
    "pumpkin_path = PATH / 'Pumpkin_Seeds_Dataset.xlsx'"
   ]
  },
  {
   "cell_type": "markdown",
   "id": "67b7d099-7346-4521-a81b-9e3ca5dbfdb0",
   "metadata": {},
   "source": [
    "## Load the model"
   ]
  },
  {
   "cell_type": "code",
   "execution_count": null,
   "id": "f365d055-0da1-4809-828e-a314a1bc621c",
   "metadata": {},
   "outputs": [],
   "source": [
    "model = torch.load(model_path, map_location='cpu')"
   ]
  },
  {
   "cell_type": "code",
   "execution_count": null,
   "id": "756fc5e6-fcfa-4874-bd72-4263b7262511",
   "metadata": {},
   "outputs": [],
   "source": [
    "def clear_state_dict(state_dict):\n",
    "    for key in list(state_dict.keys()):\n",
    "        state_dict[key.replace('model.0.', 'conv1.')] = state_dict.pop(key)\n",
    "    for key in list(state_dict.keys()):\n",
    "        state_dict[key.replace('model.3.', 'conv2.')] = state_dict.pop(key)\n",
    "    for key in list(state_dict.keys()):\n",
    "        state_dict[key.replace('model.8.', 'fc1.')] = state_dict.pop(key)\n",
    "    for key in list(state_dict.keys()):\n",
    "        state_dict[key.replace('model.11.', 'fc2.')] = state_dict.pop(key)\n",
    "\n",
    "    return state_dict"
   ]
  },
  {
   "cell_type": "code",
   "execution_count": null,
   "id": "f94db6e0-040a-4bf9-b911-a4d7e04854c4",
   "metadata": {},
   "outputs": [],
   "source": [
    "state_dict = clear_state_dict(model['state_dict'])"
   ]
  },
  {
   "cell_type": "code",
   "execution_count": null,
   "id": "5b0f65ba-7ccc-4fb6-a82b-e62e973f2b85",
   "metadata": {},
   "outputs": [],
   "source": [
    "net = nn.Sequential(OrderedDict([\n",
    "    ('conv1', nn.Conv2d(1, 32, kernel_size=3, stride=1, padding=1)),\n",
    "    ('act1', nn.ReLU()),\n",
    "    ('mxp1', nn.MaxPool2d(kernel_size=2, stride=2)),\n",
    "    ('conv2', nn.Conv2d(32, 64, kernel_size=3, stride=1, padding=1)),\n",
    "    ('act2', nn.ReLU()),\n",
    "    ('mxp2', nn.MaxPool2d(kernel_size=2, stride=2)),\n",
    "    ('flatten', nn.Flatten()),\n",
    "    ('fc1', nn.Linear(64 * 7 * 7, 128)),\n",
    "    ('act3', nn.ReLU()),\n",
    "    ('fc2', nn.Linear(128, 10)),\n",
    "]))"
   ]
  },
  {
   "cell_type": "code",
   "execution_count": null,
   "id": "b53a9e71-4cee-4564-9deb-52feaf94fb57",
   "metadata": {},
   "outputs": [],
   "source": [
    "net.load_state_dict(state_dict)"
   ]
  },
  {
   "cell_type": "code",
   "execution_count": null,
   "id": "75c19bf4-50a2-4578-b6f3-563c43d93ae8",
   "metadata": {},
   "outputs": [],
   "source": [
    "net = net.eval()"
   ]
  },
  {
   "cell_type": "markdown",
   "id": "cae6cb9b-e48c-44e6-b0ec-8907629451e1",
   "metadata": {},
   "source": [
    "## Initialize FashionMNIST dataset"
   ]
  },
  {
   "cell_type": "code",
   "execution_count": null,
   "id": "f18cfb04-2f43-4ae2-9242-9a6ae0e09b3e",
   "metadata": {},
   "outputs": [],
   "source": [
    "mean, std = compute_mean_std(\n",
    "    FashionMNIST(\n",
    "        images_dir, \n",
    "        train=True, \n",
    "        download=True, \n",
    "        transform=transforms.Compose(\n",
    "            [\n",
    "                transforms.ToTensor(),\n",
    "              ]\n",
    "            )\n",
    "        ),\n",
    "    workers=workers\n",
    "    )"
   ]
  },
  {
   "cell_type": "code",
   "execution_count": null,
   "id": "15823d86-2e0f-450d-9a00-7694282f0bde",
   "metadata": {},
   "outputs": [],
   "source": [
    "mean, std"
   ]
  },
  {
   "cell_type": "code",
   "execution_count": null,
   "id": "b5a613d8-e5ac-4a78-9e79-983e19ffb93d",
   "metadata": {},
   "outputs": [],
   "source": [
    "transform = transforms.Compose(\n",
    "            [\n",
    "                ToTensor(),\n",
    "                transforms.Normalize((mean,), (std,)),\n",
    "            ]\n",
    ")"
   ]
  },
  {
   "cell_type": "code",
   "execution_count": null,
   "id": "9d206541-1930-4ce3-a629-b9deed2b7c0f",
   "metadata": {},
   "outputs": [],
   "source": [
    "data_train = FashionMNIST(images_dir, train=True, download=True)\n",
    "data_test = FashionMNIST(images_dir, train=False, download=True)"
   ]
  },
  {
   "cell_type": "code",
   "execution_count": null,
   "id": "55a9639b-ba83-4a8f-a06d-5d8e68f08cfc",
   "metadata": {},
   "outputs": [],
   "source": [
    "next(net.parameters()).device"
   ]
  },
  {
   "cell_type": "code",
   "execution_count": null,
   "id": "b34a7580-c9fe-4db9-adab-f7ffd8115c05",
   "metadata": {},
   "outputs": [],
   "source": [
    "device = find_device()\n",
    "device"
   ]
  },
  {
   "cell_type": "code",
   "execution_count": null,
   "id": "0ed4ff52-8905-4cbd-83b3-79a12a7d21f8",
   "metadata": {},
   "outputs": [],
   "source": [
    "wnet = NetWrapper(net, transform)"
   ]
  },
  {
   "cell_type": "code",
   "execution_count": null,
   "id": "24107477-a096-4454-8498-51ec736609ee",
   "metadata": {},
   "outputs": [],
   "source": [
    "wnet.net"
   ]
  },
  {
   "cell_type": "code",
   "execution_count": null,
   "id": "b4ed25af-cd8a-45f4-be1b-b2bcbc368e68",
   "metadata": {
    "scrolled": true
   },
   "outputs": [],
   "source": [
    "wnet.net[:6]"
   ]
  },
  {
   "cell_type": "code",
   "execution_count": null,
   "id": "6dec2f3e-5d5a-4b7b-b2fd-5c2266f54087",
   "metadata": {},
   "outputs": [],
   "source": [
    "layer_V_n = 3\n",
    "layer_U_n = 6"
   ]
  },
  {
   "cell_type": "code",
   "execution_count": null,
   "id": "41b27625-58b2-4cfd-99de-8a5f2a3f684b",
   "metadata": {
    "scrolled": true
   },
   "outputs": [],
   "source": [
    "wnet.device"
   ]
  },
  {
   "cell_type": "code",
   "execution_count": null,
   "id": "aa63cd01-3435-45bc-9479-0e0997eaf7b8",
   "metadata": {
    "scrolled": true
   },
   "outputs": [],
   "source": [
    "bs = 8"
   ]
  },
  {
   "cell_type": "code",
   "execution_count": null,
   "id": "7da39f11-54d0-4e2b-8ab6-fdc8d895a058",
   "metadata": {},
   "outputs": [],
   "source": [
    "V_X_train, X_V_train = layer_V(data_train, wnet, k=layer_V_n, bs=bs)"
   ]
  },
  {
   "cell_type": "code",
   "execution_count": null,
   "id": "5f62f114-37a5-4c98-b955-c133ff39ed12",
   "metadata": {},
   "outputs": [],
   "source": [
    "V_X_test, X_V_test = layer_V(data_test, wnet, k=layer_V_n, bs=bs)"
   ]
  },
  {
   "cell_type": "code",
   "execution_count": null,
   "id": "83f78423-c986-4815-86d6-b0582f8c150b",
   "metadata": {},
   "outputs": [],
   "source": [
    "U_X_train, X_U_train = layer_V(data_train, wnet, k=layer_U_n, bs=bs)"
   ]
  },
  {
   "cell_type": "code",
   "execution_count": null,
   "id": "fb115167-5947-4fa3-b4fc-aa8862a0d0d7",
   "metadata": {},
   "outputs": [],
   "source": [
    "U_X_test, X_U_test = layer_V(data_test, wnet, k=layer_U_n, bs=bs)"
   ]
  },
  {
   "cell_type": "code",
   "execution_count": null,
   "id": "2b3308af-0368-48cb-ba2a-235f745953ff",
   "metadata": {},
   "outputs": [],
   "source": [
    "V_X_train.shape, V_X_test.shape, U_X_train.shape, U_X_test.shape"
   ]
  },
  {
   "cell_type": "markdown",
   "id": "e16cfea8-ae7e-4209-89fb-dbd1dfa3ad79",
   "metadata": {},
   "source": [
    "## Sorting vectors"
   ]
  },
  {
   "cell_type": "code",
   "execution_count": null,
   "id": "17927a97-ba89-4227-9e58-1397dfa5946b",
   "metadata": {},
   "outputs": [],
   "source": [
    "V_X_digits, V_X_sorteds = sort_V_X(V_X_train, data_train)"
   ]
  },
  {
   "cell_type": "markdown",
   "id": "7e3b79ba-84e6-455d-afca-b7674b9750e4",
   "metadata": {},
   "source": [
    "## Alanyze maximum stimulus"
   ]
  },
  {
   "cell_type": "code",
   "execution_count": null,
   "id": "49fab0be-daa7-4588-8fee-ee1253aa0667",
   "metadata": {},
   "outputs": [],
   "source": [
    "v_Ds = dict()\n",
    "u_Ds = dict()\n",
    "G_v_tests = dict()\n",
    "G_u_tests = dict()\n",
    "uncn_dict = dict()"
   ]
  },
  {
   "cell_type": "code",
   "execution_count": null,
   "id": "5de91ddf-3ad2-4dbf-a2ce-87c4d61cebf9",
   "metadata": {},
   "outputs": [],
   "source": [
    "i = 0\n",
    "ths = [\n",
    "    328, #0\n",
    "    280, #1\n",
    "    320, #2\n",
    "    384, #3\n",
    "    300, #4\n",
    "    300, #5\n",
    "    400, #6\n",
    "    200, #7\n",
    "    380, #8\n",
    "    180  #9\n",
    "]\n",
    "v = np.copy(V_X_sorteds[i][ths[i]])"
   ]
  },
  {
   "cell_type": "code",
   "execution_count": null,
   "id": "cfed857e-303b-4a73-84c7-c7d3fa2787b9",
   "metadata": {
    "scrolled": true
   },
   "outputs": [],
   "source": [
    "for i in range(10):\n",
    "    layer_fca = LayerFCA(V_X_train, U_X_train, data_train)\n",
    "    G_v, v_D, u_D, G_u, G_v_test, G_u_test, uncn_reps = layer_fca.find_G_v_us(\n",
    "        v, \n",
    "        V_X_test, \n",
    "        U_X_test, \n",
    "        data_test\n",
    "    )\n",
    "    v_Ds[i] = v_D\n",
    "    u_Ds[i] = u_D\n",
    "    G_v_tests[i] = G_v_test\n",
    "    G_u_tests[i] = G_u_test\n",
    "    uncn_dict[i] = uncn_reps"
   ]
  },
  {
   "cell_type": "code",
   "execution_count": null,
   "id": "47a48bff-58ce-41f8-a357-368c60c4ce82",
   "metadata": {
    "scrolled": true
   },
   "outputs": [],
   "source": [
    "uncn_dict[i]"
   ]
  },
  {
   "cell_type": "code",
   "execution_count": null,
   "id": "8a1f1625-638e-4327-9ce3-eb5c4132b175",
   "metadata": {
    "scrolled": true
   },
   "outputs": [],
   "source": [
    "show_grid(G_v_tests[i], data_test, nrow=32)"
   ]
  },
  {
   "cell_type": "code",
   "execution_count": null,
   "id": "4febfb14-1d86-4a92-93db-8c195d499f46",
   "metadata": {
    "scrolled": true
   },
   "outputs": [],
   "source": [
    "show_grid(G_u_tests[i], data_test, nrow=32)"
   ]
  },
  {
   "cell_type": "code",
   "execution_count": null,
   "id": "433d460e-bee7-46e5-b246-db3e3312026b",
   "metadata": {},
   "outputs": [],
   "source": [
    "y_hs = [np.argmax(wnet(data_test[idx][0])) for idx in G_u_test]"
   ]
  },
  {
   "cell_type": "code",
   "execution_count": null,
   "id": "16db8da9-062e-411a-bebc-f0cbe7c32776",
   "metadata": {},
   "outputs": [],
   "source": [
    "uncn_hat = layer_fca.count_ys(y_hs)"
   ]
  },
  {
   "cell_type": "code",
   "execution_count": null,
   "id": "6b8f766b-b25e-4268-89e7-bd91d8143c10",
   "metadata": {},
   "outputs": [],
   "source": [
    "show_grid(G_u_tests[i], data_test, nrow=48, h=64, w=64, my=i)"
   ]
  },
  {
   "cell_type": "markdown",
   "id": "5d14577c-0d07-4291-bca7-9f82e2b378b8",
   "metadata": {},
   "source": [
    "## Experiments with shapes"
   ]
  },
  {
   "cell_type": "code",
   "execution_count": null,
   "id": "bc470b51-6b24-4b4f-9f1d-eee7a7fda6b2",
   "metadata": {},
   "outputs": [],
   "source": [
    "# Example usage\n",
    "dataset = CustomShapeDataset(num_samples=1000)\n",
    "# dataloader = DataLoader(dataset, batch_size=1, shuffle=True)\n",
    "\n",
    "shapes_shp = get_digits(dataset)\n",
    "\n",
    "# Get a batch of images\n",
    "images, labels = zip(*[(x, y) for idx_l, (x, y) in enumerate(dataset) if idx_l < 32])\n",
    "\n",
    "# Show a batch of images\n",
    "show_images(images[:16], labels[:16])"
   ]
  },
  {
   "cell_type": "code",
   "execution_count": null,
   "id": "fde41132-9bdb-4d5d-bcde-6a1495fc2b41",
   "metadata": {},
   "outputs": [],
   "source": [
    "ring = np.copy(shapes_shp['nring'][0][0].numpy())\n",
    "ring[-13 :, :] = 0\n",
    "plt.imshow(ring)"
   ]
  },
  {
   "cell_type": "code",
   "execution_count": null,
   "id": "f02a0175-09fa-499d-b2ae-55492ece21ca",
   "metadata": {},
   "outputs": [],
   "source": [
    "v_X_shapes_c = wnet(ring, k=layer_V_n)\n",
    "visualize_slices(v_X_shapes_c[0])"
   ]
  },
  {
   "cell_type": "code",
   "execution_count": null,
   "id": "0b26e2d1-6145-47a3-8399-b836841da39b",
   "metadata": {},
   "outputs": [],
   "source": [
    "max_index, max_val = argmax_kd_val(v_X_shapes_c[0])\n",
    "max_index, max_index[0], max_val"
   ]
  },
  {
   "cell_type": "code",
   "execution_count": null,
   "id": "b424db01-c214-4f02-acaf-3cf3797e4f33",
   "metadata": {},
   "outputs": [],
   "source": [
    "c_idx = 0\n",
    "max_index, max_val = argmax_kd_val(v_X_shapes_c[c_idx])\n",
    "print(max_index, max_index[0], max_val)\n",
    "fl_c = max_index[0]\n",
    "neurons_c = np.zeros(v_X_shapes_c[c_idx].shape)\n",
    "th = max_val - max_val / 4.2\n",
    "idxs_c = np.where(v_X_shapes_c[c_idx][fl_c] >= th)\n",
    "idx_c_c = idxs_c[1]\n",
    "val_c = 1.0\n",
    "# idx_d_c -= 1\n",
    "neurons_c[fl_c][idxs_c] = val_c\n",
    "# neurons_c[fl_c][4, 7] = val_c\n",
    "# neurons_c[fl_c][5, 6] = val_c\n",
    "# neurons_c[fl_c][5, 8] = val_c\n",
    "# neurons_c[fl_c][6, 6] = 0\n",
    "# neurons_c[fl_c][6, 7] = 0\n",
    "# neurons_c[fl_c][6, 8] = 0\n",
    "# neurons_d[fl_c][9:14, idx_d_c[0]] = 0\n",
    "v_c = np.copy(neurons_c)\n",
    "show_activation(neurons_c[fl_c])"
   ]
  },
  {
   "cell_type": "code",
   "execution_count": null,
   "id": "539ac99c-a172-4d64-ad1c-418f2e695708",
   "metadata": {},
   "outputs": [],
   "source": [
    "layer_fca = LayerFCA(V_X_train, U_X_train, data_train)\n",
    "G_v, v_D, u_D, G_u, G_v_test, G_u_test, uncn_reps = layer_fca.find_G_v_us(\n",
    "    v_c, \n",
    "    V_X_test, \n",
    "    U_X_test, \n",
    "    data_test\n",
    ")\n",
    "print(uncn_reps)\n",
    "show_grid(G_v_test, data_test, nrow=32)"
   ]
  },
  {
   "cell_type": "code",
   "execution_count": null,
   "id": "3235e964-890e-4cbb-8c5d-c8988ee3c41e",
   "metadata": {},
   "outputs": [],
   "source": [
    "v_X_shapes_v = np.array(wnet(*shapes_shp['vertical_line'], k=layer_V_n))\n",
    "v_X_shapes_h = np.array(wnet(*shapes_shp['horizontal_line'], k=layer_V_n))\n",
    "v_X_shapes_e = np.array(wnet(*shapes_shp['sring'], k=layer_V_n))\n",
    "v_X_shapes_r = np.array(wnet(*shapes_shp['nring'], k=layer_V_n))\n",
    "v_X_shapes_v.shape, v_X_shapes_h.shape, v_X_shapes_e.shape, v_X_shapes_r.shape"
   ]
  },
  {
   "cell_type": "code",
   "execution_count": null,
   "id": "d4b542f4-4a55-442f-b723-32d9f2eccebd",
   "metadata": {},
   "outputs": [],
   "source": [
    "i = 3"
   ]
  },
  {
   "cell_type": "code",
   "execution_count": null,
   "id": "e8be40a4-a3d1-4288-b64e-864d9a53acf6",
   "metadata": {},
   "outputs": [],
   "source": [
    "show_img(shapes_shp['vertical_line'], i)"
   ]
  },
  {
   "cell_type": "code",
   "execution_count": null,
   "id": "4f4c1336-6627-4662-ba06-e2c347c3eafa",
   "metadata": {},
   "outputs": [],
   "source": [
    "visualize_slices(v_X_shapes_h[i])"
   ]
  },
  {
   "cell_type": "code",
   "execution_count": null,
   "id": "b4aa6a4e-071c-46bf-952b-a0e7c9278a58",
   "metadata": {},
   "outputs": [],
   "source": [
    "diag = torch.zeros((28, 28), dtype=torch.float32)\n",
    "for i in range(8, 24):\n",
    "    diag[28 - i, i] = 255\n",
    "diag /= 255\n",
    "# diag = diag.t()\n",
    "plt.imshow(diag)"
   ]
  },
  {
   "cell_type": "code",
   "execution_count": null,
   "id": "b4589711-9336-412c-824a-0925081640d8",
   "metadata": {},
   "outputs": [],
   "source": [
    "v_X_shapes_d = wnet(diag.unsqueeze(0), k=layer_V_n)"
   ]
  },
  {
   "cell_type": "code",
   "execution_count": null,
   "id": "5286fd45-6d3f-4ca5-b32c-5ad4b7a68fae",
   "metadata": {},
   "outputs": [],
   "source": [
    "visualize_slices(v_X_shapes_d[0])"
   ]
  },
  {
   "cell_type": "code",
   "execution_count": null,
   "id": "fa9bf16a-556f-4c12-9004-162480ddf33a",
   "metadata": {},
   "outputs": [],
   "source": [
    "d_idx = 0\n",
    "max_index, max_val = argmax_kd_val(v_X_shapes_d[d_idx])\n",
    "print(max_index, max_index[0], max_val)\n",
    "fl_d = max_index[0]\n",
    "neurons_d = np.zeros(v_X_shapes_d[d_idx].shape)\n",
    "th = max_val - max_val / 4\n",
    "idxs_d = np.where(v_X_shapes_d[d_idx][fl_d] >= th)\n",
    "idx_d_c = idxs_d[1]\n",
    "# idx_d_c -= 1\n",
    "neurons_d[fl_d][idxs_d] = 0.2\n",
    "# neurons_d[fl_d][2:8, idx_d_c[0]] = 0\n",
    "# neurons_d[fl_d][9:14, idx_d_c[0]] = 0\n",
    "v_d = np.copy(neurons_d)\n",
    "show_activation(neurons_d[fl_d])"
   ]
  },
  {
   "cell_type": "code",
   "execution_count": null,
   "id": "a4c78d50-43c8-4090-b03b-87fd16b8f8de",
   "metadata": {},
   "outputs": [],
   "source": [
    "layer_fca = LayerFCA(V_X_train, U_X_train, data_train)\n",
    "G_v, v_D, u_D, G_u, G_v_test, G_u_test, uncn_reps = layer_fca.find_G_v_us(\n",
    "    v_d, \n",
    "    V_X_test, \n",
    "    U_X_test, \n",
    "    data_test\n",
    ")\n",
    "print(uncn_reps)\n",
    "show_grid(G_v_test, data_test, nrow=64)"
   ]
  },
  {
   "cell_type": "code",
   "execution_count": null,
   "id": "b304b32b-4768-4043-a126-0193d2165b65",
   "metadata": {},
   "outputs": [],
   "source": [
    "visualize_slices(v_X_shapes_v[0])"
   ]
  },
  {
   "cell_type": "code",
   "execution_count": null,
   "id": "7e3ec4c9-ce9e-45e8-a055-c9684281e440",
   "metadata": {},
   "outputs": [],
   "source": [
    "v_idx = 0\n",
    "max_index, max_val = argmax_kd_val(v_X_shapes_v[v_idx])\n",
    "print(max_index, max_index[0], max_val)\n",
    "fl_v= max_index[0]\n",
    "nz_idx_v = gen_line_idx(hv_shift=8, sid=3, eid=12, hv='v')\n",
    "neurons_v = np.zeros(v_X_shapes_d[v_idx].shape)\n",
    "neurons_v[fl_v][nz_idx_v] = 0.2\n",
    "v_v = np.copy(neurons_v)\n",
    "show_activation(neurons_v[fl_v])"
   ]
  },
  {
   "cell_type": "code",
   "execution_count": null,
   "id": "fcab5a90-67c7-4086-9362-1b05d813c770",
   "metadata": {},
   "outputs": [],
   "source": [
    "layer_fca = LayerFCA(V_X_train, U_X_train, data_train)\n",
    "G_v, v_D, u_D, G_u, G_v_test, G_u_test, uncn_reps = layer_fca.find_G_v_us(\n",
    "    v_v, \n",
    "    V_X_test, \n",
    "    U_X_test, \n",
    "    data_test\n",
    ")\n",
    "print(uncn_reps)\n",
    "show_grid(G_v_test, data_test, nrow=32)"
   ]
  },
  {
   "cell_type": "code",
   "execution_count": null,
   "id": "3a31e55e-941b-4a4b-8536-0c52535022a6",
   "metadata": {},
   "outputs": [],
   "source": [
    "visualize_slices(v_X_shapes_h[0])"
   ]
  },
  {
   "cell_type": "code",
   "execution_count": null,
   "id": "ea8c02fc-b634-4c08-bc82-818ab4211681",
   "metadata": {},
   "outputs": [],
   "source": [
    "h_idx = 0\n",
    "max_index, max_val = argmax_kd_val(v_X_shapes_h[h_idx])\n",
    "print(max_index, max_index[0], max_val)\n",
    "fl_h = max_index[0]\n",
    "nz_idx_h = gen_line_idx(hv_shift=3, sid=4, eid=9, hv='h')\n",
    "neurons_h = np.zeros(v_X_shapes_h[h_idx].shape)\n",
    "neurons_h[fl_h][nz_idx_h] = 0.2\n",
    "v_h = np.copy(neurons_h)\n",
    "show_activation(neurons_h[fl_h])"
   ]
  },
  {
   "cell_type": "code",
   "execution_count": null,
   "id": "c42840a1-3d7a-4491-a615-6083f731ab38",
   "metadata": {},
   "outputs": [],
   "source": [
    "layer_fca = LayerFCA(V_X_train, U_X_train, data_train)\n",
    "G_v, v_D, u_D, G_u, G_v_test, G_u_test, uncn_reps = layer_fca.find_G_v_us(\n",
    "    v_h, \n",
    "    V_X_test, \n",
    "    U_X_test, \n",
    "    data_test\n",
    ")\n",
    "print(uncn_reps)\n",
    "show_grid(G_v_test, data_test, nrow=32)"
   ]
  },
  {
   "cell_type": "code",
   "execution_count": null,
   "id": "f3f45b14-c0ed-4517-8c5e-931bcb319add",
   "metadata": {},
   "outputs": [],
   "source": [
    "v_l = [v_v, v_h]\n",
    "v = np.max(np.array(v_l), axis=0)\n",
    "v.shape"
   ]
  },
  {
   "cell_type": "code",
   "execution_count": null,
   "id": "9a625e49-31fb-4741-9aa5-64cec483cad0",
   "metadata": {},
   "outputs": [],
   "source": [
    "layer_fca = LayerFCA(V_X_train, U_X_train, data_train)\n",
    "G_v, v_D, u_D, G_u, G_v_test, G_u_test, uncn_reps = layer_fca.find_G_v_us(\n",
    "    v, \n",
    "    V_X_test, \n",
    "    U_X_test, \n",
    "    data_test\n",
    ")\n",
    "print(uncn_reps)\n",
    "show_grid(G_v_test, data_test, nrow=32)"
   ]
  },
  {
   "cell_type": "code",
   "execution_count": null,
   "id": "683e86ee-9b3d-4ec1-97cc-79e14526ac94",
   "metadata": {},
   "outputs": [],
   "source": [
    "visualize_slices(v_X_shapes_r[i])"
   ]
  },
  {
   "cell_type": "code",
   "execution_count": null,
   "id": "a41dc976-3e70-44c1-ba3d-264b3150a18d",
   "metadata": {},
   "outputs": [],
   "source": [
    "r_idx = 0\n",
    "max_index, max_val = argmax_kd_val(v_X_shapes_r[r_idx])\n",
    "print(max_index, max_index[0], max_val)\n",
    "fl_r = max_index[0]\n",
    "neurons_r = np.zeros(v_X_shapes_r[r_idx].shape)\n",
    "th = max_val - max_val / 4\n",
    "idxs_r = np.where(v_X_shapes_r[r_idx][fl_r] >= th)\n",
    "idx_r_c = idxs_r[1]\n",
    "# idx_d_c -= 1\n",
    "neurons_r[fl_r][idxs_r] = 0.1\n",
    "# neurons_d[fl_d][2:8, idx_d_c[0]] = 0\n",
    "# neurons_d[fl_d][9:14, idx_d_c[0]] = 0\n",
    "v_r = np.copy(neurons_r)\n",
    "show_activation(neurons_r[fl_r])"
   ]
  },
  {
   "cell_type": "code",
   "execution_count": null,
   "id": "9fa8c1a4-2b87-4173-9319-2aa56b89ce23",
   "metadata": {},
   "outputs": [],
   "source": [
    "layer_fca = LayerFCA(V_X_train, U_X_train, data_train)\n",
    "G_v, v_D, u_D, G_u, G_v_test, G_u_test, uncn_reps = layer_fca.find_G_v_us(\n",
    "    v_r, \n",
    "    V_X_test, \n",
    "    U_X_test, \n",
    "    data_test\n",
    ")\n",
    "print(uncn_reps)\n",
    "show_grid(G_v_test, data_test, nrow=32)"
   ]
  },
  {
   "cell_type": "code",
   "execution_count": null,
   "id": "78067720-017d-45a0-9e7c-7e1a4c26182d",
   "metadata": {},
   "outputs": [],
   "source": [
    "v_l = [\n",
    "    # v_v, \n",
    "    v_h, \n",
    "    v_r, \n",
    "    v_d\n",
    "]\n",
    "v = np.max(np.array(v_l), axis=0)\n",
    "v.shape"
   ]
  },
  {
   "cell_type": "code",
   "execution_count": null,
   "id": "d18a1839-cd8f-4d3e-809f-ff658fcc7f2f",
   "metadata": {},
   "outputs": [],
   "source": [
    "layer_fca = LayerFCA(V_X_train, U_X_train, data_train)\n",
    "G_v, v_D, u_D, G_u, G_v_test, G_u_test, uncn_reps = layer_fca.find_G_v_us(\n",
    "    v, \n",
    "    V_X_test, \n",
    "    U_X_test, \n",
    "    data_test\n",
    ")\n",
    "print(uncn_reps)\n",
    "show_grid(G_v_test, data_test, nrow=32)"
   ]
  },
  {
   "cell_type": "code",
   "execution_count": null,
   "id": "b99e1b07-2142-4a03-9df9-deae27154f16",
   "metadata": {},
   "outputs": [],
   "source": [
    "show_grid(G_u_test, data_test, nrow=64)"
   ]
  },
  {
   "cell_type": "code",
   "execution_count": null,
   "id": "6a8d4556-c230-4873-9c7d-d53303d24cd4",
   "metadata": {},
   "outputs": [],
   "source": []
  }
 ],
 "metadata": {
  "kernelspec": {
   "display_name": "Python 3 (ipykernel)",
   "language": "python",
   "name": "python3"
  },
  "language_info": {
   "codemirror_mode": {
    "name": "ipython",
    "version": 3
   },
   "file_extension": ".py",
   "mimetype": "text/x-python",
   "name": "python",
   "nbconvert_exporter": "python",
   "pygments_lexer": "ipython3",
   "version": "3.12.3"
  }
 },
 "nbformat": 4,
 "nbformat_minor": 5
}
