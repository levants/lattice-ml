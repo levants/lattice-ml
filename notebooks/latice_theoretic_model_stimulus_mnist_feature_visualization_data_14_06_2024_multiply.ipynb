{
 "cells": [
  {
   "cell_type": "code",
   "execution_count": null,
   "id": "71ce37e9",
   "metadata": {},
   "outputs": [],
   "source": [
    "%load_ext autoreload\n",
    "%autoreload 2\n",
    "\n",
    "%matplotlib inline"
   ]
  },
  {
   "cell_type": "markdown",
   "id": "5b560092",
   "metadata": {},
   "source": [
    "## Install libraries"
   ]
  },
  {
   "cell_type": "markdown",
   "id": "89885fa7",
   "metadata": {},
   "source": [
    "```bash\n",
    "conda create -n edu4 python=3.11 jupyter matplotlib\n",
    "```"
   ]
  },
  {
   "cell_type": "markdown",
   "id": "cd23589d",
   "metadata": {},
   "source": [
    "```bash \n",
    "! pip install -U -r requirements.txt\n",
    "```"
   ]
  },
  {
   "cell_type": "markdown",
   "id": "9d16321f",
   "metadata": {},
   "source": [
    "```bash\n",
    "! pip install -U numpy\n",
    "! pip install -U scikit-learn\n",
    "```"
   ]
  },
  {
   "cell_type": "markdown",
   "id": "b4cab43a",
   "metadata": {},
   "source": [
    "## Update repository"
   ]
  },
  {
   "cell_type": "code",
   "execution_count": null,
   "id": "46bcb5dc",
   "metadata": {},
   "outputs": [],
   "source": [
    "! git pull"
   ]
  },
  {
   "cell_type": "markdown",
   "id": "bad216da",
   "metadata": {},
   "source": [
    "## Add import path"
   ]
  },
  {
   "cell_type": "code",
   "execution_count": null,
   "id": "baafb705",
   "metadata": {},
   "outputs": [],
   "source": [
    "import os\n",
    "import sys\n",
    "import gc"
   ]
  },
  {
   "cell_type": "code",
   "execution_count": null,
   "id": "b2930983",
   "metadata": {},
   "outputs": [],
   "source": [
    "module_path = os.path.abspath(os.path.join('..'))\n",
    "if module_path not in sys.path:\n",
    "    sys.path.append(module_path)"
   ]
  },
  {
   "cell_type": "code",
   "execution_count": null,
   "id": "7984d32f",
   "metadata": {},
   "outputs": [],
   "source": [
    "del module_path"
   ]
  },
  {
   "cell_type": "markdown",
   "id": "07a1e9c8",
   "metadata": {},
   "source": [
    "## Organize imports"
   ]
  },
  {
   "cell_type": "code",
   "execution_count": null,
   "id": "ae177357",
   "metadata": {},
   "outputs": [],
   "source": [
    "import multiprocessing\n",
    "from pathlib import Path"
   ]
  },
  {
   "cell_type": "code",
   "execution_count": null,
   "id": "0a464cd7-0f81-4f99-9d84-a0e9f807ecbf",
   "metadata": {},
   "outputs": [],
   "source": [
    "import json"
   ]
  },
  {
   "cell_type": "code",
   "execution_count": null,
   "id": "ee903b26-0c30-466e-87e9-46b68f585fdf",
   "metadata": {},
   "outputs": [],
   "source": [
    "from collections import OrderedDict"
   ]
  },
  {
   "cell_type": "code",
   "execution_count": null,
   "id": "24a7dc9c-777d-4d5c-9674-9cb09b221509",
   "metadata": {},
   "outputs": [],
   "source": [
    "from functools import reduce"
   ]
  },
  {
   "cell_type": "code",
   "execution_count": null,
   "id": "a523557a",
   "metadata": {},
   "outputs": [],
   "source": [
    "import seaborn as sns"
   ]
  },
  {
   "cell_type": "code",
   "execution_count": null,
   "id": "25750a3d",
   "metadata": {},
   "outputs": [],
   "source": [
    "import matplotlib.pyplot as plt\n",
    "import seaborn as sns\n",
    "import numpy as np\n",
    "import pandas as pd"
   ]
  },
  {
   "cell_type": "code",
   "execution_count": null,
   "id": "96b53c98-9137-444e-b868-deecac303673",
   "metadata": {},
   "outputs": [],
   "source": [
    "from tqdm import tqdm"
   ]
  },
  {
   "cell_type": "code",
   "execution_count": null,
   "id": "125950ab",
   "metadata": {},
   "outputs": [],
   "source": [
    "import plotly.express as px"
   ]
  },
  {
   "cell_type": "code",
   "execution_count": null,
   "id": "262d0a5a-ccb6-4a7d-a4a2-76a276c2ce88",
   "metadata": {},
   "outputs": [],
   "source": [
    "from sklearn.linear_model import LinearRegression, LogisticRegression\n",
    "from sklearn.discriminant_analysis import (\n",
    "    LinearDiscriminantAnalysis, \n",
    "    QuadraticDiscriminantAnalysis\n",
    ")\n",
    "from sklearn.tree import DecisionTreeClassifier\n",
    "from sklearn.ensemble import RandomForestClassifier \n",
    "from sklearn.datasets import (\n",
    "    load_iris,\n",
    "    load_wine\n",
    ")\n",
    "from sklearn.model_selection import train_test_split\n",
    "from sklearn.preprocessing import (\n",
    "    MaxAbsScaler,\n",
    "    MinMaxScaler,\n",
    "    StandardScaler\n",
    ")\n",
    "from sklearn.metrics import (\n",
    "    classification_report,\n",
    "    confusion_matrix\n",
    ")"
   ]
  },
  {
   "cell_type": "code",
   "execution_count": null,
   "id": "e1c75655-adba-4f78-811e-9fd3c0286a9e",
   "metadata": {},
   "outputs": [],
   "source": [
    "from scipy import stats\n",
    "from scipy.interpolate import interp1d"
   ]
  },
  {
   "cell_type": "code",
   "execution_count": null,
   "id": "23828718-0adc-4a5f-8d63-813442ccbee8",
   "metadata": {},
   "outputs": [],
   "source": [
    "import torch"
   ]
  },
  {
   "cell_type": "code",
   "execution_count": null,
   "id": "aafca3fc-fe8b-45ff-a4f0-9e67d332d41a",
   "metadata": {},
   "outputs": [],
   "source": [
    "from torch import nn\n",
    "from torchvision import transforms\n",
    "import torchvision.transforms.functional as F\n",
    "from torchvision.utils import make_grid\n",
    "from torchvision.datasets import MNIST"
   ]
  },
  {
   "cell_type": "code",
   "execution_count": null,
   "id": "0ed57fd4-1283-435c-922e-5c4de61ae4c1",
   "metadata": {},
   "outputs": [],
   "source": [
    "from captum.attr import (\n",
    "    IntegratedGradients, \n",
    "    LayerIntegratedGradients,\n",
    "    NeuronGradient,\n",
    "    NeuronIntegratedGradients,\n",
    "    NeuronGuidedBackprop,\n",
    "    NeuronDeepLift,\n",
    "    NeuronDeepLiftShap,\n",
    "    NeuronGradientShap,\n",
    ")\n",
    "from captum.attr import visualization as viz"
   ]
  },
  {
   "cell_type": "markdown",
   "id": "65f31e93",
   "metadata": {},
   "source": [
    "#### Number of CPU cores"
   ]
  },
  {
   "cell_type": "code",
   "execution_count": null,
   "id": "b41c30f2",
   "metadata": {},
   "outputs": [],
   "source": [
    "workers = multiprocessing.cpu_count()\n",
    "workers"
   ]
  },
  {
   "cell_type": "code",
   "execution_count": null,
   "id": "59f41838-322d-41e8-b8e1-6712089703c9",
   "metadata": {},
   "outputs": [],
   "source": [
    "SEED = 2024"
   ]
  },
  {
   "cell_type": "markdown",
   "id": "0ccf4792-19f1-4d01-b9c2-ddea2462cadc",
   "metadata": {},
   "source": [
    "## Initialize Path"
   ]
  },
  {
   "cell_type": "code",
   "execution_count": null,
   "id": "bcd545b8-0e15-41e9-92a9-4d0bf260c8b8",
   "metadata": {},
   "outputs": [],
   "source": [
    "PATH = Path('data')\n",
    "model_dir = PATH / 'models'\n",
    "model_path = model_dir / 'simple_fcn_mnist_model.ckpt'\n",
    "config_dir = PATH / 'config'\n",
    "config_dir.mkdir(exist_ok=True, parents=True)\n",
    "config_1_layer_path = config_dir / 'neurons_1_layer.json'\n",
    "images_path = PATH / 'images'\n",
    "images_path.mkdir(exist_ok=True, parents=True)\n",
    "pumpkin_path = PATH / 'Pumpkin_Seeds_Dataset.xlsx'"
   ]
  },
  {
   "cell_type": "markdown",
   "id": "e66024d6-e9ad-4204-b2fa-9e5eee726d3c",
   "metadata": {},
   "source": [
    "## Model wrapper"
   ]
  },
  {
   "cell_type": "code",
   "execution_count": null,
   "id": "48eff4fa-58d4-4465-b25d-7483cd834fad",
   "metadata": {},
   "outputs": [],
   "source": [
    "class NetWrapper(object):\n",
    "\n",
    "    def __init__(self, net, transform):\n",
    "        self._net = net.eval()\n",
    "        self.transform = transform\n",
    "\n",
    "    @property\n",
    "    def net(self):\n",
    "        return self._net\n",
    "    \n",
    "    def __getitem__(self, i):\n",
    "        return self.net[i]\n",
    "\n",
    "    def __len__(self):\n",
    "        return len(self.net)\n",
    "\n",
    "    @torch.inference_mode()\n",
    "    def forward(self, x, k=6):\n",
    "        t = self.transform(x)\n",
    "        r = self[: k](t)\n",
    "\n",
    "        return r        \n",
    "    \n",
    "    def __call__(self, *args, **kwargs):\n",
    "        return self.forward(*args, **kwargs)"
   ]
  },
  {
   "cell_type": "markdown",
   "id": "67b7d099-7346-4521-a81b-9e3ca5dbfdb0",
   "metadata": {},
   "source": [
    "## Load the model"
   ]
  },
  {
   "cell_type": "code",
   "execution_count": null,
   "id": "f365d055-0da1-4809-828e-a314a1bc621c",
   "metadata": {},
   "outputs": [],
   "source": [
    "model = torch.load(model_path, map_location='cpu')"
   ]
  },
  {
   "cell_type": "code",
   "execution_count": null,
   "id": "6db3e195-9312-4df3-bb13-81dee9fa3088",
   "metadata": {},
   "outputs": [],
   "source": [
    "def clear_state_dict(state_dict):\n",
    "    for key in list(state_dict.keys()):\n",
    "        state_dict[key.replace('model.1.', 'fc1.')] = state_dict.pop(key)\n",
    "    for key in list(state_dict.keys()):\n",
    "        state_dict[key.replace('model.4.', 'fc2.')] = state_dict.pop(key)\n",
    "    for key in list(state_dict.keys()):\n",
    "        state_dict[key.replace('model.7.', 'fc3.')] = state_dict.pop(key)\n",
    "\n",
    "    return state_dict"
   ]
  },
  {
   "cell_type": "code",
   "execution_count": null,
   "id": "f94db6e0-040a-4bf9-b911-a4d7e04854c4",
   "metadata": {},
   "outputs": [],
   "source": [
    "state_dict = clear_state_dict(model['state_dict'])"
   ]
  },
  {
   "cell_type": "code",
   "execution_count": null,
   "id": "51ad2a9b-bc25-4162-8333-8ac36799347d",
   "metadata": {},
   "outputs": [],
   "source": [
    "channels = 1\n",
    "width = 28\n",
    "height = 28\n",
    "hidden_size = 16\n",
    "num_classes = 10\n",
    "in_features = channels * width * height"
   ]
  },
  {
   "cell_type": "code",
   "execution_count": null,
   "id": "5b0f65ba-7ccc-4fb6-a82b-e62e973f2b85",
   "metadata": {},
   "outputs": [],
   "source": [
    "net = nn.Sequential(OrderedDict([\n",
    "    ('flatten', nn.Flatten()),\n",
    "    ('fc1', nn.Linear(channels * width * height, hidden_size)),\n",
    "    ('act1', nn.ReLU()),\n",
    "    ('fc2', nn.Linear(hidden_size, hidden_size)),\n",
    "    ('act2', nn.ReLU()),\n",
    "    ('fc3', nn.Linear(hidden_size, num_classes)),\n",
    "]))"
   ]
  },
  {
   "cell_type": "code",
   "execution_count": null,
   "id": "451fa9af-3892-42da-b645-6c725e27c926",
   "metadata": {},
   "outputs": [],
   "source": []
  },
  {
   "cell_type": "code",
   "execution_count": null,
   "id": "b53a9e71-4cee-4564-9deb-52feaf94fb57",
   "metadata": {},
   "outputs": [],
   "source": [
    "net.load_state_dict(state_dict)"
   ]
  },
  {
   "cell_type": "code",
   "execution_count": null,
   "id": "75c19bf4-50a2-4578-b6f3-563c43d93ae8",
   "metadata": {},
   "outputs": [],
   "source": [
    "net = net.eval()"
   ]
  },
  {
   "cell_type": "markdown",
   "id": "d5604b43-9956-46fb-a0df-994fc9615c15",
   "metadata": {},
   "source": [
    "## Helper functions"
   ]
  },
  {
   "cell_type": "code",
   "execution_count": null,
   "id": "f4ae3616-9971-4d73-a71e-d9b7d4683166",
   "metadata": {},
   "outputs": [],
   "source": [
    "def intersect(*arrs):\n",
    "    return reduce(np.intersect1d, (arrs))"
   ]
  },
  {
   "cell_type": "code",
   "execution_count": null,
   "id": "fe5aba73-dfc2-4595-aaa1-efed437ebaa3",
   "metadata": {},
   "outputs": [],
   "source": [
    "def layer_V(data, net, k=5):\n",
    "    V = list()\n",
    "    X = list()\n",
    "    with tqdm(data) as ds:\n",
    "        for i, (x, y) in enumerate(ds):\n",
    "            v = net(x, k=k).detach().numpy()[0]\n",
    "            V.append(v)\n",
    "            X.append(x)\n",
    "\n",
    "    return np.array(V), X"
   ]
  },
  {
   "cell_type": "code",
   "execution_count": null,
   "id": "cdc704f3-fc3d-4f73-bcd1-005db1d44c65",
   "metadata": {},
   "outputs": [],
   "source": [
    "def loop_maxes(V, func, *args, **kwargs):\n",
    "    with tqdm(V) as mstml:\n",
    "        for i, v in enumerate(mstml):\n",
    "            func(i, v, *args, **kwargs)"
   ]
  },
  {
   "cell_type": "code",
   "execution_count": null,
   "id": "e34fa57e-d3b0-4398-994c-77f9901c9efe",
   "metadata": {},
   "outputs": [],
   "source": [
    "def select_top(V, idx, thresh):\n",
    "    tops = list()\n",
    "    def add_to_top(i, v):\n",
    "        if thresh <= v[idx]:\n",
    "            tops.append(i)\n",
    "    loop_maxes(V, lambda i, v: add_to_top(i, v))\n",
    "    \n",
    "    return tops"
   ]
  },
  {
   "cell_type": "code",
   "execution_count": null,
   "id": "5c53d0a3-f137-460a-8304-de6e5e09f7f5",
   "metadata": {},
   "outputs": [],
   "source": [
    "def find_v_x(V, mrng, idx):\n",
    "    mid = np.argmin(np.array(V)[mrng], axis=0)[idx]\n",
    "    x_id = mrng[mid]\n",
    "    v_x = V[x_id]\n",
    "\n",
    "    return v_x, x_id"
   ]
  },
  {
   "cell_type": "code",
   "execution_count": null,
   "id": "7c1fcda3-9bb4-4217-b35b-c80d2db573a8",
   "metadata": {},
   "outputs": [],
   "source": [
    "def find_v_A(V, mrng):\n",
    "    return np.minimum.reduce(np.array(V)[mrng])"
   ]
  },
  {
   "cell_type": "code",
   "execution_count": null,
   "id": "87b32056-adc5-4cc3-bf86-f61d04b85c81",
   "metadata": {},
   "outputs": [],
   "source": [
    "def find_G_x(V, v_x):\n",
    "    with tqdm(V) as mstm:\n",
    "        G_x = np.array([i for i, v in enumerate(mstm) if np.all(v_x <= v)])\n",
    "\n",
    "    return G_x"
   ]
  },
  {
   "cell_type": "code",
   "execution_count": null,
   "id": "82e58d2a-4336-4cfe-8382-c11e3129924a",
   "metadata": {},
   "outputs": [],
   "source": [
    "def show_img(ds, idx):\n",
    "    plt.imshow(ds[idx][0])"
   ]
  },
  {
   "cell_type": "code",
   "execution_count": null,
   "id": "602ddceb-6d9a-4ccc-b67e-efdc7317a265",
   "metadata": {},
   "outputs": [],
   "source": [
    "def show(imgs, h=12, w=12):\n",
    "    if not isinstance(imgs, list):\n",
    "        imgs = [imgs]\n",
    "    fig, axs = plt.subplots(\n",
    "        ncols=len(imgs),\n",
    "        figsize=(w, h),\n",
    "        squeeze=False\n",
    "    )\n",
    "    for i, img in enumerate(imgs):\n",
    "        img = img.detach()\n",
    "        img = F.to_pil_image(img)\n",
    "        axs[0, i].imshow(np.asarray(img))\n",
    "        axs[0, i].set(xticklabels=[], yticklabels=[], xticks=[], yticks=[])"
   ]
  },
  {
   "cell_type": "code",
   "execution_count": null,
   "id": "1d9e88a1-2288-4892-91e0-86e303cd9dac",
   "metadata": {},
   "outputs": [],
   "source": [
    "def show_grid(G_A, data, nrow=8, h=12, w=12, my=None):\n",
    "    to_tensor = transforms.ToTensor()\n",
    "    A_gr = [\n",
    "        to_tensor(data[i][0]) for i in G_A\n",
    "    ] if my is None else [\n",
    "        to_tensor(data[i][0]) for i in G_A if data[i][1] != my\n",
    "    ]\n",
    "    grid = make_grid(A_gr, nrow=nrow)\n",
    "    show(grid, h=h, w=w)"
   ]
  },
  {
   "cell_type": "code",
   "execution_count": null,
   "id": "0247080b-6b6a-470e-93c2-b06195ee8667",
   "metadata": {},
   "outputs": [],
   "source": [
    "def vis_features(*n_idxs, data=None, layer=3, func=NeuronIntegratedGradients, use_plot=False, **kwargs):\n",
    "    # Assuming model is your neural network and input_img is the input image tensor\n",
    "    # Define the target layer and neuron index\n",
    "    target_layer = wnet[:layer]\n",
    "    # Initialize Integrated Gradients\n",
    "    neuron_ig = func(wnet.net, wnet.net[layer])\n",
    "\n",
    "    attr_igs = list()\n",
    "    input_imgs = list()\n",
    "    for n_idx in n_idxs:\n",
    "        # Compute the attributions for the target neuron\n",
    "        input_img = data[arg_max[n_idx]][0]\n",
    "        input_tns = transform(input_img)\n",
    "        target_neuron_index = n_idx\n",
    "        attributions_ig = neuron_ig.attribute(\n",
    "            input_tns, \n",
    "            neuron_selector=target_neuron_index,\n",
    "            **kwargs,\n",
    "        )\n",
    "        attr_ig = attributions_ig.squeeze().cpu().detach().numpy()\n",
    "        attr_igs.append(attr_ig)\n",
    "        input_imgs.append(input_img)\n",
    "\n",
    "    # fig, ax = plt.subplots(len(n_idxs), 2, figsize=(10, 5))\n",
    "\n",
    "    if use_plot:\n",
    "        for r, (attr_ig, input_img) in enumerate(zip(attr_igs, input_imgs)):\n",
    "            # Display the first image\n",
    "            fig, ax = plt.subplots(1, 2, figsize=(10, 5))\n",
    "            ax[0].imshow(input_img, cmap='gray')\n",
    "            ax[0].axis('off')  # Hide the axes\n",
    "            \n",
    "            # Display the second image\n",
    "            ax[1].imshow(attr_ig, cmap='gray')\n",
    "            ax[1].axis('off')  # Hide the axes\n",
    "        \n",
    "        # Show the plot\n",
    "        plt.show()\n",
    "\n",
    "    return attr_igs"
   ]
  },
  {
   "cell_type": "code",
   "execution_count": null,
   "id": "05b7c043-29ea-4639-9200-2bc0e9cb685e",
   "metadata": {},
   "outputs": [],
   "source": [
    "def display_features(attrs, data):\n",
    "    rows = len(attrs)\n",
    "    # fig, axes = plt.subplots(rows, 3, figsize=(15, 5 * rows))\n",
    "    for idx in range(rows):\n",
    "        attr = np.expand_dims(attrs[idx], axis=2)\n",
    "        orig = np.expand_dims(data[arg_max[idx]][0], axis=2)\n",
    "        titl = str(idx)\n",
    "        fig, axs = viz.visualize_image_attr_multiple(\n",
    "            attr, \n",
    "            orig, \n",
    "            [\n",
    "                'original_image', \n",
    "                'heat_map', \n",
    "                'masked_image',\n",
    "            ], \n",
    "            [\n",
    "                'all', \n",
    "                'positive', \n",
    "                'positive'\n",
    "            ],\n",
    "            use_pyplot=True,\n",
    "            titles=[titl, titl, titl],\n",
    "            show_colorbar=True,\n",
    "        )\n",
    "        \n",
    "    #     axes[idx, 0] = axs[0]\n",
    "        \n",
    "    #     axes[idx, 1] = axs[1]\n",
    "        \n",
    "    #     axes[idx, 2] = axs[2]\n",
    "\n",
    "    # plt.tight_layout()\n",
    "    # plt.show()\n"
   ]
  },
  {
   "cell_type": "markdown",
   "id": "07bc0a6b-0066-4536-9bd8-f31ffcd106ae",
   "metadata": {},
   "source": [
    "## Feature FCA analysis methods"
   ]
  },
  {
   "cell_type": "code",
   "execution_count": null,
   "id": "7a5ef397-808d-4209-b30f-76c145869a40",
   "metadata": {},
   "outputs": [],
   "source": [
    "def features_hist(*n_Fs, V=np.zeros((1, 16))):\n",
    "    rows = len(n_Fs)\n",
    "    vs_ls = list()\n",
    "    with tqdm(n_Fs) as pn_Fs:\n",
    "        for n_F in pn_Fs:\n",
    "            vs = [v[n_F] for v in V]\n",
    "            vs_ls.append(vs)\n",
    "    fig, axs = plt.subplots(rows, 1, sharey=True, tight_layout=True, figsize=(8 * rows, 32))\n",
    "    for r in range(rows):\n",
    "        vs_h = vs_ls[r]\n",
    "        axs[r].hist(vs_h)\n",
    "        axs[r].set_xlim(0, 32)  # Set the X-axis limit if you want a specific range\n",
    "        axs[r].set_xticks(np.arange(0, 32, 0.5))  # Ensure the ticks match the new range\n",
    "        # axs[r].set_title(str(vs_h))\n",
    "    "
   ]
  },
  {
   "cell_type": "code",
   "execution_count": null,
   "id": "96cd136f-0af4-4370-ba7e-6b651fff69a5",
   "metadata": {},
   "outputs": [],
   "source": [
    "class LayerFCA(object):\n",
    "\n",
    "    def __init__(self, V_X, U_X, data):\n",
    "        self.V_X = V_X\n",
    "        self.U_X = U_X\n",
    "        self.data = data\n",
    "        self.G_As = list()\n",
    "        self.v_As = list()\n",
    "        self.D = None\n",
    "        self.v_D = None\n",
    "        self.U_D = None\n",
    "        self.G_U_D = None\n",
    "\n",
    "    def fca_v(self, ns, ths):\n",
    "        for n_A, th_A in zip(ns, ths):\n",
    "            G_A_v_A = select_top(self.V_X, n_A, th_A)\n",
    "            v_A = find_v_A(self.V_X, G_A_v_A)\n",
    "            self.v_As.append(v_A)\n",
    "            G_A = find_G_x(self.V_X, v_A)\n",
    "            self.G_As.append(G_A)\n",
    "        self.D = intersect(*self.G_As) if self.G_As else []\n",
    "        self.v_D = np.maximum.reduce(self.v_As)\n",
    "        \n",
    "        return self.D, self.v_D\n",
    "\n",
    "    def fca_u(self, ns, ths):\n",
    "        D, _ = self.fca_v(ns, ths)\n",
    "        self.u_D = find_v_A(\n",
    "            self.U_X, D\n",
    "        ) if np.any(D) else np.zeros(\n",
    "            (16,), dtype=float\n",
    "        )\n",
    "        self.G_u_D = find_G_x(self.U_X, self.u_D)\n",
    "\n",
    "        return self.G_u_D\n",
    "\n",
    "    @staticmethod\n",
    "    def count_ys(ys):\n",
    "        un, cn = np.unique(ys, return_counts=True)\n",
    "        uncn = np.array([un, cn])\n",
    "\n",
    "        return uncn\n",
    "\n",
    "    def _report_u(self, G_u_D, data=None):\n",
    "        data_ls = self.data if data is None else data\n",
    "        ys = np.array([data_ls[idx][1] for idx in G_u_D])\n",
    "        uncn = self.count_ys(ys)\n",
    "        if data is None:\n",
    "            self.uncn = uncn\n",
    "\n",
    "        return uncn\n",
    "\n",
    "    def report(self, G_u_D, data):\n",
    "        return self._report_u(G_u_D, data=data)\n",
    "\n",
    "    def fca_u_arr(self, ns_arr):\n",
    "        ns = [nr[0] for nr in neurons[neur_idx]]\n",
    "        ts = [nr[1] for nr in neurons[neur_idx]]\n",
    "        G_U_D = self.fca_u(ns, ts)\n",
    "        self._report_u(G_U_D)\n",
    "\n",
    "        return self.G_u_D\n",
    "\n",
    "    def G_U(self, U_X):\n",
    "        return find_G_x(U_X, self.u_D)"
   ]
  },
  {
   "cell_type": "markdown",
   "id": "cae6cb9b-e48c-44e6-b0ec-8907629451e1",
   "metadata": {},
   "source": [
    "## Initialize MNIST dataset"
   ]
  },
  {
   "cell_type": "code",
   "execution_count": null,
   "id": "b5a613d8-e5ac-4a78-9e79-983e19ffb93d",
   "metadata": {},
   "outputs": [],
   "source": [
    "transform = transforms.Compose(\n",
    "            [\n",
    "                transforms.ToTensor(),\n",
    "                transforms.Normalize((0.1307,), (0.3081,)),\n",
    "            ]\n",
    ")"
   ]
  },
  {
   "cell_type": "code",
   "execution_count": null,
   "id": "9d206541-1930-4ce3-a629-b9deed2b7c0f",
   "metadata": {},
   "outputs": [],
   "source": [
    "data_train = MNIST(images_path, train=True, download=True)\n",
    "data_test = MNIST(images_path, train=False, download=True)"
   ]
  },
  {
   "cell_type": "code",
   "execution_count": null,
   "id": "0ed4ff52-8905-4cbd-83b3-79a12a7d21f8",
   "metadata": {},
   "outputs": [],
   "source": [
    "wnet = NetWrapper(net, transform)"
   ]
  },
  {
   "cell_type": "code",
   "execution_count": null,
   "id": "24107477-a096-4454-8498-51ec736609ee",
   "metadata": {},
   "outputs": [],
   "source": [
    "wnet.net"
   ]
  },
  {
   "cell_type": "code",
   "execution_count": null,
   "id": "b4ed25af-cd8a-45f4-be1b-b2bcbc368e68",
   "metadata": {},
   "outputs": [],
   "source": [
    "wnet.net[:3]"
   ]
  },
  {
   "cell_type": "code",
   "execution_count": null,
   "id": "7da39f11-54d0-4e2b-8ab6-fdc8d895a058",
   "metadata": {},
   "outputs": [],
   "source": [
    "V_X_train, X_V_train = layer_V(data_train, wnet, k=3)"
   ]
  },
  {
   "cell_type": "code",
   "execution_count": null,
   "id": "5f62f114-37a5-4c98-b955-c133ff39ed12",
   "metadata": {},
   "outputs": [],
   "source": [
    "V_X_test, X_V_test = layer_V(data_test, wnet, k=3)"
   ]
  },
  {
   "cell_type": "code",
   "execution_count": null,
   "id": "83f78423-c986-4815-86d6-b0582f8c150b",
   "metadata": {},
   "outputs": [],
   "source": [
    "U_X_train, X_U_train = layer_V(data_train, wnet, k=5)"
   ]
  },
  {
   "cell_type": "code",
   "execution_count": null,
   "id": "fb115167-5947-4fa3-b4fc-aa8862a0d0d7",
   "metadata": {},
   "outputs": [],
   "source": [
    "U_X_test, X_U_test = layer_V(data_test, wnet, k=5)"
   ]
  },
  {
   "cell_type": "code",
   "execution_count": null,
   "id": "ec67cfd1-52a8-4d61-93da-7127859c88b8",
   "metadata": {},
   "outputs": [],
   "source": [
    "arg_max = np.argmax(V_X_train, axis=0)\n",
    "arg_max"
   ]
  },
  {
   "cell_type": "code",
   "execution_count": null,
   "id": "b45f9773-5ce2-4f92-acac-08a6d1ffe318",
   "metadata": {},
   "outputs": [],
   "source": [
    "np.max(V_X_train, axis=0)"
   ]
  },
  {
   "cell_type": "code",
   "execution_count": null,
   "id": "761b8eff-3efd-4227-a7e5-a99f6644942f",
   "metadata": {},
   "outputs": [],
   "source": [
    "V_X_train[arg_max[13], :]"
   ]
  },
  {
   "cell_type": "code",
   "execution_count": null,
   "id": "b62df86c-7491-4971-b341-bd47e3a2fc93",
   "metadata": {},
   "outputs": [],
   "source": [
    "show_grid(arg_max, data_train)"
   ]
  },
  {
   "cell_type": "code",
   "execution_count": null,
   "id": "3f4d2cdf-667a-43bb-9d16-9a2788deeba7",
   "metadata": {
    "scrolled": true
   },
   "outputs": [],
   "source": [
    "attr_all = vis_features(\n",
    "    *list(range(16)),\n",
    "    data=data_train,\n",
    "    # func=NeuronGradientShap,\n",
    "    func=NeuronGuidedBackprop,\n",
    "    # n_steps=n_steps,\n",
    ")"
   ]
  },
  {
   "cell_type": "code",
   "execution_count": null,
   "id": "f4c1cd15-c662-45f7-a426-2144ed246287",
   "metadata": {},
   "outputs": [],
   "source": [
    "display_features(attr_all, data_train)"
   ]
  },
  {
   "cell_type": "code",
   "execution_count": null,
   "id": "fc3694a7-afcc-4bcd-8783-5469ca868149",
   "metadata": {},
   "outputs": [],
   "source": [
    "len(attr_all)"
   ]
  },
  {
   "cell_type": "code",
   "execution_count": null,
   "id": "17a56d56-e7cb-410d-a551-bd2bd34f706c",
   "metadata": {
    "scrolled": true
   },
   "outputs": [],
   "source": [
    "with config_1_layer_path.open('r') as js:\n",
    "    neuron_js = json.load(js)\n",
    "neurons = neuron_js['neurons']\n",
    "len(neurons)"
   ]
  },
  {
   "cell_type": "markdown",
   "id": "7e3b79ba-84e6-455d-afca-b7674b9750e4",
   "metadata": {},
   "source": [
    "## Alanyze maximum stimulus"
   ]
  },
  {
   "cell_type": "code",
   "execution_count": null,
   "id": "bf14b396-5352-4706-b187-07e71d9d2da2",
   "metadata": {},
   "outputs": [],
   "source": [
    "# neur_idx = -5 #4\n",
    "# neur_idx = -2 #0\n",
    "neur_idx = -1 #1\n",
    "neurons[neur_idx]"
   ]
  },
  {
   "cell_type": "code",
   "execution_count": null,
   "id": "70d47778-fc0a-405c-b9c2-6ccc1c2540a6",
   "metadata": {
    "scrolled": true
   },
   "outputs": [],
   "source": [
    "neur_idx = -1\n",
    "with config_1_layer_path.open('r') as js:\n",
    "    neuron_js = json.load(js)\n",
    "neurons = neuron_js['neurons']\n",
    "layer_fca = LayerFCA(V_X_train, U_X_train, data_train)\n",
    "G_u_D = layer_fca.fca_u_arr(neurons[neur_idx])"
   ]
  },
  {
   "cell_type": "code",
   "execution_count": null,
   "id": "73b4de9b-fb47-463b-ad71-81ee48291c4b",
   "metadata": {},
   "outputs": [],
   "source": [
    "[layer_fca.D.shape, G_u_D.shape], layer_fca.u_D"
   ]
  },
  {
   "cell_type": "code",
   "execution_count": null,
   "id": "a5e19d5f-54dd-4725-a98b-945390359c2d",
   "metadata": {},
   "outputs": [],
   "source": [
    "layer_fca.uncn"
   ]
  },
  {
   "cell_type": "code",
   "execution_count": null,
   "id": "34a802b0-a24e-4f1c-8c6a-a82b2a56dfbd",
   "metadata": {
    "scrolled": true
   },
   "outputs": [],
   "source": [
    "G_U_test = layer_fca.G_U(U_X_test)\n",
    "uncn_test = layer_fca.report(G_U_test, data_test)"
   ]
  },
  {
   "cell_type": "code",
   "execution_count": null,
   "id": "7c809141-417f-40d0-853d-d78a15b554df",
   "metadata": {},
   "outputs": [],
   "source": [
    "G_U_test.shape, uncn_test"
   ]
  },
  {
   "cell_type": "code",
   "execution_count": null,
   "id": "433d460e-bee7-46e5-b246-db3e3312026b",
   "metadata": {},
   "outputs": [],
   "source": [
    "y_hs = [np.argmax(wnet(data_test[idx][0])) for idx in G_U_test]"
   ]
  },
  {
   "cell_type": "code",
   "execution_count": null,
   "id": "16db8da9-062e-411a-bebc-f0cbe7c32776",
   "metadata": {},
   "outputs": [],
   "source": [
    "uncn_hat = layer_fca.count_ys(y_hs)"
   ]
  },
  {
   "cell_type": "code",
   "execution_count": null,
   "id": "ff4fe32e-6584-4a7d-bcfb-6755d396189e",
   "metadata": {},
   "outputs": [],
   "source": [
    "uncn_hat"
   ]
  },
  {
   "cell_type": "code",
   "execution_count": null,
   "id": "fdaa5754-177f-41b0-97b6-9d3020e98d65",
   "metadata": {},
   "outputs": [],
   "source": [
    "layer_fca.v_As[1]"
   ]
  },
  {
   "cell_type": "code",
   "execution_count": null,
   "id": "7eac4c43-2479-4ddf-8c19-a209d53d5950",
   "metadata": {},
   "outputs": [],
   "source": [
    "net[3].weight[:, 0], net[3].bias"
   ]
  },
  {
   "cell_type": "code",
   "execution_count": null,
   "id": "6877f3c5-9378-4a32-9ac0-c196f69bb343",
   "metadata": {},
   "outputs": [],
   "source": [
    "G_u_D.shape, layer_fca.u_D"
   ]
  },
  {
   "cell_type": "code",
   "execution_count": null,
   "id": "dbba2b15-035d-49e5-b961-be7c6cdbf056",
   "metadata": {},
   "outputs": [],
   "source": [
    "layer_fca.uncn"
   ]
  },
  {
   "cell_type": "code",
   "execution_count": null,
   "id": "a0b016b1-456a-4c25-8c32-d09244be9a8d",
   "metadata": {},
   "outputs": [],
   "source": [
    "show_grid(G_U_test, data_test, nrow=48, h=64, w=64)"
   ]
  },
  {
   "cell_type": "code",
   "execution_count": null,
   "id": "6b8f766b-b25e-4268-89e7-bd91d8143c10",
   "metadata": {},
   "outputs": [],
   "source": [
    "show_grid(G_U_test, data_test, nrow=48, h=64, w=64, my=2)"
   ]
  },
  {
   "cell_type": "markdown",
   "id": "9c219db3-a011-4eb9-b2a4-a05124c63821",
   "metadata": {},
   "source": [
    "## Visualization of distribution"
   ]
  },
  {
   "cell_type": "code",
   "execution_count": null,
   "id": "84552823-369f-4047-aeda-15c01a7f2acf",
   "metadata": {
    "scrolled": true
   },
   "outputs": [],
   "source": [
    "features_hist(*list(zip(*neurons[neur_idx]))[0], V=V_X)"
   ]
  },
  {
   "cell_type": "code",
   "execution_count": null,
   "id": "79582962-e9f1-47c5-91d0-dc42c8d8bb83",
   "metadata": {},
   "outputs": [],
   "source": [
    "def layer_hist(X_y, V_X, y=None):\n",
    "    if y is None:\n",
    "        V_X_y = V_X\n",
    "    else:\n",
    "        with tqdm(V_X) as p_V_X:\n",
    "            V_X_y = np.array(\n",
    "                [v_x for x_y, v_x in zip(X_y, p_V_X) if x_y[1] == y]\n",
    "            )\n",
    "\n",
    "    return V_X_y"
   ]
  },
  {
   "cell_type": "code",
   "execution_count": null,
   "id": "eb00ad50-1c8e-4dca-b3e6-ca563d2bbbe3",
   "metadata": {
    "scrolled": true
   },
   "outputs": [],
   "source": [
    "V_X_4 = layer_hist(data_train, V_X_train, y=4)"
   ]
  },
  {
   "cell_type": "code",
   "execution_count": null,
   "id": "f3cdfafe-2a0e-4626-a6ce-2e1021f27e03",
   "metadata": {},
   "outputs": [],
   "source": [
    "V_X_4.shape"
   ]
  },
  {
   "cell_type": "code",
   "execution_count": null,
   "id": "94b38527-b2c7-4e8a-a62e-c0b8b87b0f34",
   "metadata": {},
   "outputs": [],
   "source": [
    "for i in range(V_X_4.shape[1]):\n",
    "    ax = sns.displot(V_X_4[:, i], binwidth=0.2)\n",
    "    ax.ax.set_xlabel(f'{i}')\n",
    "plt.show()"
   ]
  },
  {
   "cell_type": "code",
   "execution_count": null,
   "id": "588fc4da-c21a-431f-9817-36d84c25149c",
   "metadata": {
    "scrolled": true
   },
   "outputs": [],
   "source": [
    "V_X_0 = layer_hist(data_train, V_X_train, y=0)"
   ]
  },
  {
   "cell_type": "code",
   "execution_count": null,
   "id": "52481409-4ddc-4747-8ef9-7997507ffbd9",
   "metadata": {
    "scrolled": true
   },
   "outputs": [],
   "source": [
    "V_X_3 = layer_hist(data_train, V_X_train, y=3)"
   ]
  },
  {
   "cell_type": "code",
   "execution_count": null,
   "id": "712573d3-3d34-4ef1-aeef-0cbdcc0b8cb7",
   "metadata": {},
   "outputs": [],
   "source": [
    "V_X_0.shape, V_X_3.shape"
   ]
  },
  {
   "cell_type": "code",
   "execution_count": null,
   "id": "604fb669-c1af-4836-8c42-a44c3b3f54c5",
   "metadata": {},
   "outputs": [],
   "source": [
    "for i in range(V_X_0.shape[1]):\n",
    "    fig, axes = plt.subplots(1, 2, figsize=(14, 6))\n",
    "    sns.histplot(V_X_0[:, i], binwidth=0.2, ax=axes[0])\n",
    "    axes[0].set_xlabel(f'0 - {i}')\n",
    "    sns.histplot(V_X_3[:, i], binwidth=0.2, ax=axes[1])\n",
    "    axes[1].set_xlabel(f'3 - {i}')\n",
    "plt.show()"
   ]
  },
  {
   "cell_type": "code",
   "execution_count": null,
   "id": "903f4d76-6ff0-4960-b21e-7e8b12a9fb79",
   "metadata": {
    "scrolled": true
   },
   "outputs": [],
   "source": [
    "V_X_2 = layer_hist(data_train, V_X_train, y=2)"
   ]
  },
  {
   "cell_type": "code",
   "execution_count": null,
   "id": "c5e4f011-9a8d-4b31-becf-5809c37c1eff",
   "metadata": {},
   "outputs": [],
   "source": [
    "V_X_2.shape"
   ]
  },
  {
   "cell_type": "code",
   "execution_count": null,
   "id": "ab158e5d-193c-488a-9268-914245e44db7",
   "metadata": {},
   "outputs": [],
   "source": [
    "for i in range(V_X_2.shape[1]):\n",
    "    fig, axes = plt.subplots(1, 2, figsize=(14, 6))\n",
    "    sns.histplot(V_X_2[:, i], binwidth=0.2, ax=axes[0])\n",
    "    axes[0].set_xlabel(f'2 - {i}')\n",
    "    sns.histplot(V_X_3[:, i], binwidth=0.2, ax=axes[1])\n",
    "    axes[1].set_xlabel(f'3 - {i}')\n",
    "plt.show()"
   ]
  },
  {
   "cell_type": "code",
   "execution_count": null,
   "id": "2ea6fb43-a8b6-493c-b418-a7fe41f1d808",
   "metadata": {},
   "outputs": [],
   "source": []
  }
 ],
 "metadata": {
  "kernelspec": {
   "display_name": "Python 3 (ipykernel)",
   "language": "python",
   "name": "python3"
  },
  "language_info": {
   "codemirror_mode": {
    "name": "ipython",
    "version": 3
   },
   "file_extension": ".py",
   "mimetype": "text/x-python",
   "name": "python",
   "nbconvert_exporter": "python",
   "pygments_lexer": "ipython3",
   "version": "3.12.0"
  }
 },
 "nbformat": 4,
 "nbformat_minor": 5
}
