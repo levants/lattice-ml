{
 "cells": [
  {
   "cell_type": "code",
   "execution_count": null,
   "id": "71ce37e9",
   "metadata": {},
   "outputs": [],
   "source": [
    "%load_ext autoreload\n",
    "%autoreload 2\n",
    "\n",
    "%matplotlib inline"
   ]
  },
  {
   "cell_type": "markdown",
   "id": "5b560092",
   "metadata": {},
   "source": [
    "## Install libraries"
   ]
  },
  {
   "cell_type": "markdown",
   "id": "89885fa7",
   "metadata": {},
   "source": [
    "```bash\n",
    "conda create -n edu4 python=3.11 jupyter matplotlib\n",
    "```"
   ]
  },
  {
   "cell_type": "markdown",
   "id": "cd23589d",
   "metadata": {},
   "source": [
    "```bash \n",
    "! pip install -U -r requirements.txt\n",
    "```"
   ]
  },
  {
   "cell_type": "markdown",
   "id": "9d16321f",
   "metadata": {},
   "source": [
    "```bash\n",
    "! pip install -U numpy\n",
    "! pip install -U scikit-learn\n",
    "```"
   ]
  },
  {
   "cell_type": "markdown",
   "id": "b4cab43a",
   "metadata": {},
   "source": [
    "## Update repository"
   ]
  },
  {
   "cell_type": "code",
   "execution_count": null,
   "id": "46bcb5dc",
   "metadata": {},
   "outputs": [],
   "source": [
    "# ! git pull"
   ]
  },
  {
   "cell_type": "markdown",
   "id": "bad216da",
   "metadata": {},
   "source": [
    "## Add import path"
   ]
  },
  {
   "cell_type": "code",
   "execution_count": null,
   "id": "baafb705",
   "metadata": {},
   "outputs": [],
   "source": [
    "import gc\n",
    "import os\n",
    "import sys"
   ]
  },
  {
   "cell_type": "code",
   "execution_count": null,
   "id": "acb2d69b-1208-4910-83fe-357fef2804f7",
   "metadata": {},
   "outputs": [],
   "source": [
    "def add_library_level(level=4):\n",
    "    suf_path = ['..']\n",
    "    path = '..'\n",
    "    for i in range(0, level):\n",
    "        join_path = suf_path * i\n",
    "        path = '/'.join(join_path)\n",
    "        module_path = os.path.abspath(os.path.join(path))\n",
    "        if module_path not in sys.path:\n",
    "            sys.path.append(module_path)\n",
    "            print(f'Appendeding {path}')"
   ]
  },
  {
   "cell_type": "code",
   "execution_count": null,
   "id": "17883ca3-d72f-417c-953a-13fb7f7be2c6",
   "metadata": {},
   "outputs": [],
   "source": [
    "add_library_level(level=5)"
   ]
  },
  {
   "cell_type": "markdown",
   "id": "07a1e9c8",
   "metadata": {},
   "source": [
    "## Organize imports"
   ]
  },
  {
   "cell_type": "code",
   "execution_count": null,
   "id": "bdec2b8d-6e1e-4340-a4a1-e0950b19b23c",
   "metadata": {},
   "outputs": [],
   "source": [
    "from src.lattmc.tc.tcirc.transcoder_circuits.circuit_analysis import *\n",
    "from src.lattmc.tc.tcirc.transcoder_circuits.feature_dashboards import *\n",
    "from src.lattmc.tc.tcirc.transcoder_circuits.replacement_ctx import *"
   ]
  },
  {
   "cell_type": "code",
   "execution_count": null,
   "id": "ae177357",
   "metadata": {},
   "outputs": [],
   "source": [
    "import multiprocessing"
   ]
  },
  {
   "cell_type": "code",
   "execution_count": null,
   "id": "ee894933-eba4-4742-8fa2-51b2cff5cf6d",
   "metadata": {},
   "outputs": [],
   "source": [
    "from src.lattmc.fca.utils import *\n",
    "from src.lattmc.fca.data_utils import *\n",
    "from src.lattmc.fca.image_utils import *\n",
    "from src.lattmc.fca.models import *\n",
    "from src.lattmc.fca.fca_utils import *\n",
    "from src.lattmc.fca.image_gens import *"
   ]
  },
  {
   "cell_type": "code",
   "execution_count": null,
   "id": "8ea45057-c650-406c-84d2-5b5b21c69396",
   "metadata": {},
   "outputs": [],
   "source": [
    "from src.lattmc.tc.transcoder_analyzers import ConceptAnalysis, init_analyzer"
   ]
  },
  {
   "cell_type": "code",
   "execution_count": null,
   "id": "5545b35f-c8f8-4f2f-b891-a29bf6f96a36",
   "metadata": {},
   "outputs": [],
   "source": [
    "from src.lattmc.sae.nlp_sae_utils import *"
   ]
  },
  {
   "cell_type": "code",
   "execution_count": null,
   "id": "ebc02393-d2ee-4638-97b3-b8994e4191d6",
   "metadata": {},
   "outputs": [],
   "source": [
    "import logging"
   ]
  },
  {
   "cell_type": "markdown",
   "id": "65f31e93",
   "metadata": {},
   "source": [
    "#### Number of CPU cores"
   ]
  },
  {
   "cell_type": "code",
   "execution_count": null,
   "id": "b41c30f2",
   "metadata": {},
   "outputs": [],
   "source": [
    "workers = multiprocessing.cpu_count()\n",
    "workers"
   ]
  },
  {
   "cell_type": "code",
   "execution_count": null,
   "id": "59f41838-322d-41e8-b8e1-6712089703c9",
   "metadata": {},
   "outputs": [],
   "source": [
    "SEED = 2025"
   ]
  },
  {
   "cell_type": "code",
   "execution_count": null,
   "id": "c5516efd-39d7-4d19-9112-4a1bd0efcd30",
   "metadata": {},
   "outputs": [],
   "source": [
    "logging.basicConfig(level=logging.INFO)"
   ]
  },
  {
   "cell_type": "code",
   "execution_count": null,
   "id": "9e1c0d14-575c-491c-88a3-85f70fae7875",
   "metadata": {},
   "outputs": [],
   "source": [
    "device = init_device()\n",
    "device"
   ]
  },
  {
   "cell_type": "code",
   "execution_count": null,
   "id": "1e9fcf4c-09fe-4262-b975-56a627c02797",
   "metadata": {},
   "outputs": [],
   "source": [
    "torch.__version__"
   ]
  },
  {
   "cell_type": "code",
   "execution_count": null,
   "id": "f6916c3b-746f-4169-98eb-49d20824e8ef",
   "metadata": {},
   "outputs": [],
   "source": [
    "np.__version__"
   ]
  },
  {
   "cell_type": "code",
   "execution_count": null,
   "id": "f684b5bd-d276-48df-8a54-b111138d36bb",
   "metadata": {},
   "outputs": [],
   "source": [
    "# np.set_printoptions(precision=4, suppress=True)"
   ]
  },
  {
   "cell_type": "markdown",
   "id": "093a4b55-3a8d-4cb1-b2fa-54710060037d",
   "metadata": {},
   "source": [
    "## Initialize Paths"
   ]
  },
  {
   "cell_type": "code",
   "execution_count": null,
   "id": "965d5cc1-2325-4fcc-beaa-876ab9e4dbea",
   "metadata": {},
   "outputs": [],
   "source": [
    "PATH = Path('data')\n",
    "TRANSCODERS = PATH / 'transcoders'\n",
    "GPT2 = TRANSCODERS / 'gpt2'\n",
    "OWT_TOKENS_DIR = GPT2 / 'owt_tokens'\n",
    "TOKENS_PATH = OWT_TOKENS_DIR / 'owt_tokens_torch.pt'\n",
    "TEXT_PATH = OWT_TOKENS_DIR / 'dataset.txt'\n",
    "CSV_PATH = OWT_TOKENS_DIR / 'dataset.csv'\n",
    "LAYER0 = GPT2 / 'layer_0'\n",
    "LAYER8 = GPT2 / 'layer_8'\n",
    "OWT_TOKENS_DIR.mkdir(exist_ok=True, parents=True)\n",
    "LAYER0.mkdir(exist_ok=True, parents=True)\n",
    "LAYER8.mkdir(exist_ok=True, parents=True)"
   ]
  },
  {
   "cell_type": "markdown",
   "id": "b7630740-6722-45ad-b309-df4121abf3a6",
   "metadata": {},
   "source": [
    "## Load trancoders"
   ]
  },
  {
   "cell_type": "code",
   "execution_count": null,
   "id": "86252e89-72dc-44a7-b021-791ea1ac0c06",
   "metadata": {},
   "outputs": [],
   "source": [
    "layers = list(range(12))\n",
    "layers = [0, 4, 6, 8, 10, 11]"
   ]
  },
  {
   "cell_type": "code",
   "execution_count": null,
   "id": "9388c318-8ec7-46c4-99c6-b863a9c56924",
   "metadata": {
    "scrolled": true
   },
   "outputs": [],
   "source": [
    "tr_analyzer = init_analyzer(\n",
    "    layers,\n",
    "    TOKENS_PATH,\n",
    "    GPT2,\n",
    "    device=device\n",
    ")"
   ]
  },
  {
   "cell_type": "code",
   "execution_count": null,
   "id": "5952d6a2-5416-4131-896f-79babf182d0c",
   "metadata": {},
   "outputs": [],
   "source": [
    "import gc\n",
    "gc.collect()\n",
    "torch.cuda.empty_cache()"
   ]
  },
  {
   "cell_type": "markdown",
   "id": "9c3e2818-690f-4721-b429-2256eb20da13",
   "metadata": {},
   "source": [
    "## Load Dataset"
   ]
  },
  {
   "cell_type": "code",
   "execution_count": null,
   "id": "37b47987-3aac-4743-8cf0-ee08624e6b91",
   "metadata": {},
   "outputs": [],
   "source": [
    "tr_analyzer.tokens.shape"
   ]
  },
  {
   "cell_type": "code",
   "execution_count": null,
   "id": "c5f60bda-268e-421f-8ce0-16500a5d141c",
   "metadata": {},
   "outputs": [],
   "source": [
    "gc.collect()"
   ]
  },
  {
   "cell_type": "markdown",
   "id": "925bb69b-1bf8-4645-8931-152faf45688e",
   "metadata": {},
   "source": [
    "## Initialize Vector Spaces and Generate V Lattice¶"
   ]
  },
  {
   "cell_type": "code",
   "execution_count": null,
   "id": "ea1b126b-32b6-44ea-875f-145b01560c7b",
   "metadata": {},
   "outputs": [],
   "source": [
    "gc.collect()"
   ]
  },
  {
   "cell_type": "code",
   "execution_count": null,
   "id": "73209864-9448-4ce6-b569-6c2e1e261ac3",
   "metadata": {},
   "outputs": [],
   "source": [
    "tr_analyzer.fcas.keys()"
   ]
  },
  {
   "cell_type": "code",
   "execution_count": null,
   "id": "fe378fd9-622e-45e9-921f-8424e9c0cf1f",
   "metadata": {},
   "outputs": [],
   "source": [
    "gc.collect()"
   ]
  },
  {
   "cell_type": "markdown",
   "id": "3e3538e3-8504-4e6b-985f-0cd51efd98fe",
   "metadata": {},
   "source": [
    "## Dump Dataset"
   ]
  },
  {
   "cell_type": "code",
   "execution_count": null,
   "id": "de0c6490",
   "metadata": {},
   "outputs": [],
   "source": [
    "tr_analyzer.tokens_to_csv(CSV_PATH)"
   ]
  },
  {
   "cell_type": "code",
   "execution_count": null,
   "id": "0b3cf930-edc1-4f49-837d-ed7e7019b337",
   "metadata": {},
   "outputs": [],
   "source": []
  }
 ],
 "metadata": {
  "kernelspec": {
   "display_name": "Python 3 (ipykernel)",
   "language": "python",
   "name": "python3"
  },
  "language_info": {
   "codemirror_mode": {
    "name": "ipython",
    "version": 3
   },
   "file_extension": ".py",
   "mimetype": "text/x-python",
   "name": "python",
   "nbconvert_exporter": "python",
   "pygments_lexer": "ipython3",
   "version": "3.12.9"
  }
 },
 "nbformat": 4,
 "nbformat_minor": 5
}
