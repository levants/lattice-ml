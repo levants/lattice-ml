{
 "cells": [
  {
   "cell_type": "code",
   "execution_count": 6,
   "id": "ab454ef0-af94-4c6f-8bf8-1e4225ff89e3",
   "metadata": {},
   "outputs": [],
   "source": [
    "import random"
   ]
  },
  {
   "cell_type": "code",
   "execution_count": 14,
   "id": "320738cd-959a-4159-881e-58330e336cb2",
   "metadata": {},
   "outputs": [
    {
     "data": {
      "text/plain": [
       "8094738841"
      ]
     },
     "execution_count": 14,
     "metadata": {},
     "output_type": "execute_result"
    }
   ],
   "source": [
    "r = random.randint(0, 10**10)\n",
    "r"
   ]
  },
  {
   "cell_type": "code",
   "execution_count": 41,
   "id": "6237462e-7338-4315-a990-b94e896f4516",
   "metadata": {},
   "outputs": [],
   "source": [
    "def sum_of_digits(n: int) -> int:\n",
    "    \"\"\"\n",
    "    Compute the sum of the digits of a non-negative integer n\n",
    "    using repeated division and modulo.\n",
    "    \"\"\"\n",
    "    s = 0\n",
    "    while n > 0:\n",
    "        s += n % 10\n",
    "        n //= 10\n",
    "    return s"
   ]
  },
  {
   "cell_type": "code",
   "execution_count": 65,
   "id": "e9b51773-b09b-4703-97df-7bee3b1463fd",
   "metadata": {},
   "outputs": [],
   "source": [
    "def gen_number(a: list) -> int:\n",
    "    n = 0\n",
    "    for i, d in enumerate(reversed(a)):\n",
    "        n += d * 10**i\n",
    "\n",
    "    return n"
   ]
  },
  {
   "cell_type": "code",
   "execution_count": 66,
   "id": "59321c5c-4fd9-4ef5-9d0c-b3160e7bb7e5",
   "metadata": {},
   "outputs": [
    {
     "data": {
      "text/plain": [
       "10"
      ]
     },
     "execution_count": 66,
     "metadata": {},
     "output_type": "execute_result"
    }
   ],
   "source": [
    "sum_of_digits(1234)"
   ]
  },
  {
   "cell_type": "code",
   "execution_count": 88,
   "id": "18b98e1c-fdfa-49b8-a3eb-a3be7a72d92c",
   "metadata": {},
   "outputs": [],
   "source": [
    "def reduce_sum(n: int) -> int:\n",
    "    m = n\n",
    "    while m > 10:\n",
    "        m = m - sum_of_digits(m)\n",
    "\n",
    "    return m"
   ]
  },
  {
   "cell_type": "code",
   "execution_count": 89,
   "id": "322f6bb6-ae17-4516-b958-a7c4a512fed8",
   "metadata": {},
   "outputs": [],
   "source": [
    "a = [0, 1, 2, 3, 4, 5, 6, 7]\n",
    "l = len(a)"
   ]
  },
  {
   "cell_type": "code",
   "execution_count": 90,
   "id": "6de3b5bb-1152-4cd7-9121-67b2c6579143",
   "metadata": {},
   "outputs": [
    {
     "data": {
      "text/plain": [
       "([6, 0, 7, 1, 5, 2, 4, 3], 60715243)"
      ]
     },
     "execution_count": 90,
     "metadata": {},
     "output_type": "execute_result"
    }
   ],
   "source": [
    "random.shuffle(a)\n",
    "while a[0] == 0:\n",
    "    random.shuffle(a)\n",
    "r = gen_number(a)\n",
    "a, r"
   ]
  },
  {
   "cell_type": "code",
   "execution_count": 91,
   "id": "1e3e1f74-6f0d-4869-8c1a-cd4dc409a97a",
   "metadata": {},
   "outputs": [
    {
     "data": {
      "text/plain": [
       "9"
      ]
     },
     "execution_count": 91,
     "metadata": {},
     "output_type": "execute_result"
    }
   ],
   "source": [
    "reduce_sum(r)"
   ]
  },
  {
   "cell_type": "code",
   "execution_count": null,
   "id": "bddc232d-0663-4c0f-9332-f6e302d5bb95",
   "metadata": {},
   "outputs": [],
   "source": []
  }
 ],
 "metadata": {
  "kernelspec": {
   "display_name": "Python 3 (ipykernel)",
   "language": "python",
   "name": "python3"
  },
  "language_info": {
   "codemirror_mode": {
    "name": "ipython",
    "version": 3
   },
   "file_extension": ".py",
   "mimetype": "text/x-python",
   "name": "python",
   "nbconvert_exporter": "python",
   "pygments_lexer": "ipython3",
   "version": "3.12.9"
  }
 },
 "nbformat": 4,
 "nbformat_minor": 5
}
