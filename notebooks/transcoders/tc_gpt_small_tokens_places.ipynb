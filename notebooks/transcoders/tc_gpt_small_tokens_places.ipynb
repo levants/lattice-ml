{
 "cells": [
  {
   "cell_type": "code",
   "execution_count": null,
   "id": "71ce37e9",
   "metadata": {},
   "outputs": [],
   "source": [
    "%load_ext autoreload\n",
    "%autoreload 2\n",
    "\n",
    "%matplotlib inline"
   ]
  },
  {
   "cell_type": "markdown",
   "id": "5b560092",
   "metadata": {},
   "source": [
    "## Install libraries"
   ]
  },
  {
   "cell_type": "markdown",
   "id": "89885fa7",
   "metadata": {},
   "source": [
    "```bash\n",
    "conda create -n edu4 python=3.11 jupyter matplotlib\n",
    "```"
   ]
  },
  {
   "cell_type": "markdown",
   "id": "cd23589d",
   "metadata": {},
   "source": [
    "```bash \n",
    "! pip install -U -r requirements.txt\n",
    "```"
   ]
  },
  {
   "cell_type": "markdown",
   "id": "9d16321f",
   "metadata": {},
   "source": [
    "```bash\n",
    "! pip install -U numpy\n",
    "! pip install -U scikit-learn\n",
    "```"
   ]
  },
  {
   "cell_type": "markdown",
   "id": "b4cab43a",
   "metadata": {},
   "source": [
    "## Update repository"
   ]
  },
  {
   "cell_type": "code",
   "execution_count": null,
   "id": "46bcb5dc",
   "metadata": {},
   "outputs": [],
   "source": [
    "# ! git pull"
   ]
  },
  {
   "cell_type": "markdown",
   "id": "bad216da",
   "metadata": {},
   "source": [
    "## Add import path"
   ]
  },
  {
   "cell_type": "code",
   "execution_count": null,
   "id": "baafb705",
   "metadata": {},
   "outputs": [],
   "source": [
    "import gc\n",
    "import os\n",
    "import sys"
   ]
  },
  {
   "cell_type": "code",
   "execution_count": null,
   "id": "acb2d69b-1208-4910-83fe-357fef2804f7",
   "metadata": {},
   "outputs": [],
   "source": [
    "def add_library_level(level=4):\n",
    "    suf_path = ['..']\n",
    "    path = '..'\n",
    "    for i in range(0, level):\n",
    "        join_path = suf_path * i\n",
    "        path = '/'.join(join_path)\n",
    "        module_path = os.path.abspath(os.path.join(path))\n",
    "        if module_path not in sys.path:\n",
    "            sys.path.append(module_path)\n",
    "            print(f'Appendeding {path}')"
   ]
  },
  {
   "cell_type": "code",
   "execution_count": null,
   "id": "17883ca3-d72f-417c-953a-13fb7f7be2c6",
   "metadata": {},
   "outputs": [],
   "source": [
    "add_library_level(level=5)"
   ]
  },
  {
   "cell_type": "markdown",
   "id": "07a1e9c8",
   "metadata": {},
   "source": [
    "## Organize imports"
   ]
  },
  {
   "cell_type": "code",
   "execution_count": null,
   "id": "ae177357",
   "metadata": {},
   "outputs": [],
   "source": [
    "import multiprocessing"
   ]
  },
  {
   "cell_type": "code",
   "execution_count": null,
   "id": "ee894933-eba4-4742-8fa2-51b2cff5cf6d",
   "metadata": {},
   "outputs": [],
   "source": [
    "from src.lattmc.fca.utils import *\n",
    "from src.lattmc.fca.fca_utils import *"
   ]
  },
  {
   "cell_type": "code",
   "execution_count": null,
   "id": "8ea45057-c650-406c-84d2-5b5b21c69396",
   "metadata": {},
   "outputs": [],
   "source": [
    "from src.lattmc.tc.transcoder_analyzers import ConceptAnalysis, init_analyzer"
   ]
  },
  {
   "cell_type": "code",
   "execution_count": null,
   "id": "5545b35f-c8f8-4f2f-b891-a29bf6f96a36",
   "metadata": {},
   "outputs": [],
   "source": [
    "from src.lattmc.sae.nlp_sae_utils import init_device, gen_concept"
   ]
  },
  {
   "cell_type": "code",
   "execution_count": null,
   "id": "ebc02393-d2ee-4638-97b3-b8994e4191d6",
   "metadata": {},
   "outputs": [],
   "source": [
    "import logging"
   ]
  },
  {
   "cell_type": "markdown",
   "id": "65f31e93",
   "metadata": {},
   "source": [
    "#### Number of CPU cores"
   ]
  },
  {
   "cell_type": "code",
   "execution_count": null,
   "id": "b41c30f2",
   "metadata": {},
   "outputs": [],
   "source": [
    "workers = multiprocessing.cpu_count()\n",
    "workers"
   ]
  },
  {
   "cell_type": "code",
   "execution_count": null,
   "id": "59f41838-322d-41e8-b8e1-6712089703c9",
   "metadata": {},
   "outputs": [],
   "source": [
    "SEED = 2025"
   ]
  },
  {
   "cell_type": "code",
   "execution_count": null,
   "id": "c5516efd-39d7-4d19-9112-4a1bd0efcd30",
   "metadata": {},
   "outputs": [],
   "source": [
    "logging.basicConfig(level=logging.INFO)"
   ]
  },
  {
   "cell_type": "code",
   "execution_count": null,
   "id": "9e1c0d14-575c-491c-88a3-85f70fae7875",
   "metadata": {},
   "outputs": [],
   "source": [
    "device = init_device()\n",
    "device"
   ]
  },
  {
   "cell_type": "code",
   "execution_count": null,
   "id": "1e9fcf4c-09fe-4262-b975-56a627c02797",
   "metadata": {},
   "outputs": [],
   "source": [
    "torch.__version__"
   ]
  },
  {
   "cell_type": "code",
   "execution_count": null,
   "id": "f6916c3b-746f-4169-98eb-49d20824e8ef",
   "metadata": {},
   "outputs": [],
   "source": [
    "np.__version__"
   ]
  },
  {
   "cell_type": "code",
   "execution_count": null,
   "id": "f684b5bd-d276-48df-8a54-b111138d36bb",
   "metadata": {},
   "outputs": [],
   "source": [
    "# np.set_printoptions(precision=4, suppress=True)"
   ]
  },
  {
   "cell_type": "markdown",
   "id": "093a4b55-3a8d-4cb1-b2fa-54710060037d",
   "metadata": {},
   "source": [
    "## Initialize Paths"
   ]
  },
  {
   "cell_type": "code",
   "execution_count": null,
   "id": "965d5cc1-2325-4fcc-beaa-876ab9e4dbea",
   "metadata": {},
   "outputs": [],
   "source": [
    "PATH = Path('data')\n",
    "GPT2 = PATH / 'transcoders' / 'gpt2'\n",
    "OWT_TOKENS_DIR = GPT2 / 'owt_tokens'\n",
    "TOKENS_PATH = OWT_TOKENS_DIR / 'owt_tokens_torch.pt'\n",
    "OWT_TOKENS_DIR.mkdir(exist_ok=True, parents=True)"
   ]
  },
  {
   "cell_type": "markdown",
   "id": "b7630740-6722-45ad-b309-df4121abf3a6",
   "metadata": {},
   "source": [
    "## Load trancoders"
   ]
  },
  {
   "cell_type": "code",
   "execution_count": null,
   "id": "86252e89-72dc-44a7-b021-791ea1ac0c06",
   "metadata": {},
   "outputs": [],
   "source": [
    "layers = list(range(12))\n",
    "layers = [0, 4, 6, 8, 10, 11]"
   ]
  },
  {
   "cell_type": "code",
   "execution_count": null,
   "id": "9388c318-8ec7-46c4-99c6-b863a9c56924",
   "metadata": {
    "scrolled": true
   },
   "outputs": [],
   "source": [
    "tr_analyzer = init_analyzer(\n",
    "    layers,\n",
    "    TOKENS_PATH,\n",
    "    GPT2,\n",
    "    device=device\n",
    ")"
   ]
  },
  {
   "cell_type": "code",
   "execution_count": null,
   "id": "5952d6a2-5416-4131-896f-79babf182d0c",
   "metadata": {},
   "outputs": [],
   "source": [
    "import gc\n",
    "gc.collect()\n",
    "torch.cuda.empty_cache()"
   ]
  },
  {
   "cell_type": "markdown",
   "id": "d3b22fc7-2383-488a-bcad-ed9ce9ff4916",
   "metadata": {},
   "source": [
    "## New York City"
   ]
  },
  {
   "cell_type": "code",
   "execution_count": null,
   "id": "9875de9a-1ba3-4777-9cf6-9d86cfbd1080",
   "metadata": {},
   "outputs": [],
   "source": [
    "text = ' New York City'\n",
    "text"
   ]
  },
  {
   "cell_type": "code",
   "execution_count": null,
   "id": "aaa785bf-9ae8-4a31-8bb6-9585ac2ff035",
   "metadata": {},
   "outputs": [],
   "source": [
    "text = tr_analyzer.texts(3457)\n",
    "text"
   ]
  },
  {
   "cell_type": "code",
   "execution_count": null,
   "id": "c2b2b48c-9ef0-42d9-a846-f6ebcace1ec0",
   "metadata": {},
   "outputs": [],
   "source": [
    "concept_an = ConceptAnalysis(text, tr_analyzer)"
   ]
  },
  {
   "cell_type": "code",
   "execution_count": null,
   "id": "9b350cb1-5f58-4792-bec0-6315d4eb9cac",
   "metadata": {
    "scrolled": true
   },
   "outputs": [],
   "source": [
    "concept_an.analyze_concepts()"
   ]
  },
  {
   "cell_type": "code",
   "execution_count": null,
   "id": "dfe7f2a8-87a9-4ea6-ab7c-bc4cdbe6a56e",
   "metadata": {},
   "outputs": [],
   "source": [
    "t_idcs = [2, 3]\n",
    "t_idcs = [1]\n",
    "# t_idcs = [2]\n",
    "t_idcs = [1, 2, 3]"
   ]
  },
  {
   "cell_type": "code",
   "execution_count": null,
   "id": "16d657ee-590f-41a1-bb90-f57afbca52a1",
   "metadata": {},
   "outputs": [],
   "source": [
    "layer = 0"
   ]
  },
  {
   "cell_type": "code",
   "execution_count": null,
   "id": "2498b3d3-fcc6-4b32-982f-2bc8685d6510",
   "metadata": {
    "scrolled": true
   },
   "outputs": [],
   "source": [
    "concept_an.gen_text(t_idcs, layer)"
   ]
  },
  {
   "cell_type": "code",
   "execution_count": null,
   "id": "1ac8e0ba-3446-49d9-835b-8d7e8f997219",
   "metadata": {},
   "outputs": [],
   "source": [
    "v0_GF = concept_an.v_FG[layer][t_idcs[0]]\n",
    "vals, idcs = topK(v0_GF, v0_GF.shape[0])\n",
    "vals, idcs"
   ]
  },
  {
   "cell_type": "code",
   "execution_count": null,
   "id": "a0e48eaf-daa5-46ef-86c9-5d346ffb1880",
   "metadata": {
    "scrolled": true
   },
   "outputs": [],
   "source": [
    "c = concept_an.gen_and_print(idcs, vals, layer, with_text=True, limit=100)"
   ]
  },
  {
   "cell_type": "code",
   "execution_count": null,
   "id": "09f4bc76-0ec8-4121-80bc-8c3de6531b15",
   "metadata": {},
   "outputs": [],
   "source": [
    "v0_GF = concept_an.v_FG[layer][t_idcs[1]]\n",
    "vals, idcs = topK(v0_GF, v0_GF.shape[0])\n",
    "vals, idcs"
   ]
  },
  {
   "cell_type": "code",
   "execution_count": null,
   "id": "96b92da6-11fc-44f5-a70c-146648bdf22e",
   "metadata": {
    "scrolled": true
   },
   "outputs": [],
   "source": [
    "concept_an.gen_and_print(idcs, vals, layer, with_text=True, limit=100)"
   ]
  },
  {
   "cell_type": "code",
   "execution_count": null,
   "id": "d32bde4a-6062-4b79-a285-183f242545ec",
   "metadata": {},
   "outputs": [],
   "source": [
    "v0_GF = concept_an.v_FG[layer][t_idcs[2]]\n",
    "vals, idcs = topK(v0_GF, v0_GF.shape[0])\n",
    "vals, idcs"
   ]
  },
  {
   "cell_type": "code",
   "execution_count": null,
   "id": "2ffe63c7-f85f-45e7-8d73-371c193489c2",
   "metadata": {
    "scrolled": true
   },
   "outputs": [],
   "source": [
    "concept_an.gen_and_print(idcs, vals, layer, with_text=True, limit=100)"
   ]
  },
  {
   "cell_type": "code",
   "execution_count": null,
   "id": "b01d3685-866a-4cc3-9252-a68204f44ca9",
   "metadata": {},
   "outputs": [],
   "source": [
    "v_1 = concept_an.v_FG[layer][t_idcs[0]]\n",
    "v_2 = concept_an.v_FG[layer][t_idcs[1]]\n",
    "v_3 = concept_an.v_FG[layer][t_idcs[2]]\n",
    "v_meet = meet(v_1, v_2)\n",
    "v_meet = meet(v_meet, v_3)\n",
    "vals, idcs = topK(v_meet, v_meet.shape[0])\n",
    "vals, idcs"
   ]
  },
  {
   "cell_type": "code",
   "execution_count": null,
   "id": "fd81ed55-b033-4dd7-b5a7-d700edd57b7b",
   "metadata": {
    "scrolled": true
   },
   "outputs": [],
   "source": [
    "concept_an.gen_and_print(idcs, vals, layer, with_text=True, limit=100)"
   ]
  },
  {
   "cell_type": "code",
   "execution_count": null,
   "id": "5cf364f3-cef2-411c-8f8d-293144c8828a",
   "metadata": {},
   "outputs": [],
   "source": [
    "v_1 = concept_an.v_FG[layer][t_idcs[0]]\n",
    "v_2 = concept_an.v_FG[layer][t_idcs[1]]\n",
    "v_3 = concept_an.v_FG[layer][t_idcs[2]]\n",
    "# v_meet = meet(v_1, v_2)\n",
    "# v_meet = meet(v_1, v_3)\n",
    "v_meet = meet(v_2, v_3)\n",
    "# v_meet = meet(v_meet, v_3)\n",
    "vals, idcs = topK(v_meet, v_meet.shape[0])\n",
    "vals, idcs"
   ]
  },
  {
   "cell_type": "code",
   "execution_count": null,
   "id": "a61e9dd4-e982-486c-914a-1a2ed72eda6f",
   "metadata": {},
   "outputs": [],
   "source": [
    "concept_an.gen_and_print(idcs, vals, layer, with_text=True, limit=100)"
   ]
  },
  {
   "cell_type": "code",
   "execution_count": null,
   "id": "3baceed6-81ec-40e4-939d-27ec2af8b074",
   "metadata": {},
   "outputs": [],
   "source": [
    "v_1 = concept_an.v_FG[layer][t_idcs[0]]\n",
    "v_2 = concept_an.v_FG[layer][t_idcs[1]]\n",
    "v_3 = concept_an.v_FG[layer][t_idcs[2]]\n",
    "v_meet = meet(v_1, v_2)\n",
    "# v_meet = meet(v_1, v_3)\n",
    "# v_meet = meet(v_2, v_3)\n",
    "# v_meet = meet(v_meet, v_3)\n",
    "vals, idcs = topK(v_meet, v_meet.shape[0])\n",
    "vals, idcs"
   ]
  },
  {
   "cell_type": "code",
   "execution_count": null,
   "id": "1e95a12c-d6f2-45ab-bdaf-0592633859e0",
   "metadata": {
    "scrolled": true
   },
   "outputs": [],
   "source": [
    "concept_an.gen_and_print(idcs, vals, layer, with_text=True, limit=10)"
   ]
  },
  {
   "cell_type": "code",
   "execution_count": null,
   "id": "160440b9-1542-4499-a911-1c98b619d846",
   "metadata": {},
   "outputs": [],
   "source": [
    "v_1 = concept_an.v_FG[layer][t_idcs[0]]\n",
    "v_2 = concept_an.v_FG[layer][t_idcs[1]]\n",
    "v_3 = concept_an.v_FG[layer][t_idcs[2]]\n",
    "# v_meet = meet(v_1, v_2)\n",
    "v_meet = meet(v_1, v_3)\n",
    "# v_meet = meet(v_2, v_3)\n",
    "# v_meet = meet(v_meet, v_3)\n",
    "vals, idcs = topK(v_meet, v_meet.shape[0])\n",
    "vals, idcs"
   ]
  },
  {
   "cell_type": "code",
   "execution_count": null,
   "id": "493f1281-65fb-4fb6-98ca-621249b29faa",
   "metadata": {
    "scrolled": true
   },
   "outputs": [],
   "source": [
    "concept_an.gen_and_print(idcs, vals, layer, with_text=True, limit=100)"
   ]
  },
  {
   "cell_type": "code",
   "execution_count": null,
   "id": "692dcd6a-2765-499c-8d8d-171a7dba12a0",
   "metadata": {},
   "outputs": [],
   "source": [
    "layer = 8"
   ]
  },
  {
   "cell_type": "code",
   "execution_count": null,
   "id": "74df75ba-1ae7-4d15-bd5c-821f04d2cbd8",
   "metadata": {
    "scrolled": true
   },
   "outputs": [],
   "source": [
    "concept_an.gen_text(t_idcs, layer)"
   ]
  },
  {
   "cell_type": "code",
   "execution_count": null,
   "id": "5433d312-9290-4dd5-8f99-174b7c8a032c",
   "metadata": {},
   "outputs": [],
   "source": [
    "v8_GF = concept_an.v_FG[layer][t_idcs[0]]\n",
    "vals, idcs = topK(v8_GF, v8_GF.shape[0])\n",
    "vals[:10], idcs[:10]"
   ]
  },
  {
   "cell_type": "code",
   "execution_count": null,
   "id": "d71d407b-5d00-4891-b283-e0a6590fe3b4",
   "metadata": {
    "scrolled": true
   },
   "outputs": [],
   "source": [
    "concept_an.gen_and_print(idcs, vals, layer, with_text=True, limit=100)"
   ]
  },
  {
   "cell_type": "code",
   "execution_count": null,
   "id": "a33d5901-453b-4c63-9dc9-f5b414fbb0e8",
   "metadata": {
    "scrolled": true
   },
   "outputs": [],
   "source": [
    "concept_an.gen_and_print(idcs[1:], vals[1:], layer, with_text=True, limit=100)"
   ]
  },
  {
   "cell_type": "code",
   "execution_count": null,
   "id": "2807bb81-88b8-403c-b028-8a88b52af4d4",
   "metadata": {},
   "outputs": [],
   "source": [
    "v8_GF = concept_an.v_FG[layer][t_idcs[1]]\n",
    "vals, idcs = topK(v8_GF, v8_GF.shape[0])\n",
    "vals, idcs"
   ]
  },
  {
   "cell_type": "code",
   "execution_count": null,
   "id": "ce659dd9-edb0-4c1f-bd29-d52de1c2cdbc",
   "metadata": {
    "scrolled": true
   },
   "outputs": [],
   "source": [
    "concept_an.gen_and_print(idcs, vals, layer, with_text=True, limit=100)"
   ]
  },
  {
   "cell_type": "code",
   "execution_count": null,
   "id": "f352c5dc-746b-4884-a5fb-4bd62aa38d2f",
   "metadata": {},
   "outputs": [],
   "source": [
    "v8_GF = concept_an.v_FG[layer][t_idcs[2]]\n",
    "vals, idcs = topK(v8_GF, v8_GF.shape[0])\n",
    "vals, idcs"
   ]
  },
  {
   "cell_type": "code",
   "execution_count": null,
   "id": "31674946-aedc-4fb9-b433-344b4d7eb973",
   "metadata": {
    "scrolled": true
   },
   "outputs": [],
   "source": [
    "concept_an.gen_and_print(idcs, vals, layer, with_text=True, limit=100)"
   ]
  },
  {
   "cell_type": "code",
   "execution_count": null,
   "id": "ff854f1d-281b-4140-8a2e-946877012ec1",
   "metadata": {},
   "outputs": [],
   "source": [
    "v_1 = concept_an.v_FG[layer][t_idcs[0]]\n",
    "v_2 = concept_an.v_FG[layer][t_idcs[1]]\n",
    "v_3 = concept_an.v_FG[layer][t_idcs[2]]\n",
    "v_meet = meet(v_1, v_2)\n",
    "v_meet = meet(v_meet, v_3)\n",
    "vals, idcs = topK(v_meet, v_meet.shape[0])\n",
    "vals, idcs"
   ]
  },
  {
   "cell_type": "code",
   "execution_count": null,
   "id": "331f7abf-9d21-4888-a27a-893bca73683d",
   "metadata": {
    "scrolled": true
   },
   "outputs": [],
   "source": [
    "concept_an.gen_and_print([16679, 10130, 20994], [12, 9, 9], layer, with_text=True, limit=100)"
   ]
  },
  {
   "cell_type": "code",
   "execution_count": null,
   "id": "dd677a34-2e0e-4699-84bf-43c6c1a63d91",
   "metadata": {},
   "outputs": [],
   "source": [
    "v_1 = concept_an.v_FG[layer][t_idcs[0]]\n",
    "v_2 = concept_an.v_FG[layer][t_idcs[1]]\n",
    "v_3 = concept_an.v_FG[layer][t_idcs[2]]\n",
    "# v_meet = meet(v_1, v_2)\n",
    "# v_meet = meet(v_1, v_3)\n",
    "v_meet = meet(v_2, v_3)\n",
    "# v_meet = meet(v_meet, v_3)\n",
    "vals, idcs = topK(v_meet, v_meet.shape[0])\n",
    "vals, idcs"
   ]
  },
  {
   "cell_type": "code",
   "execution_count": null,
   "id": "5e42da18-6a91-4a4c-96c0-2eb24cc2abe6",
   "metadata": {
    "scrolled": true
   },
   "outputs": [],
   "source": [
    "c = concept_an.gen_and_print(idcs, vals, layer, with_text=True, limit=10)"
   ]
  },
  {
   "cell_type": "code",
   "execution_count": null,
   "id": "a97ceeb4-a51f-4cfd-8e48-749d1c3165c5",
   "metadata": {},
   "outputs": [],
   "source": [
    "v_1 = concept_an.v_FG[layer][t_idcs[0]]\n",
    "v_2 = concept_an.v_FG[layer][t_idcs[1]]\n",
    "v_3 = concept_an.v_FG[layer][t_idcs[2]]\n",
    "v_meet = meet(v_1, v_2)\n",
    "# v_meet = meet(v_1, v_3)\n",
    "# v_meet = meet(v_2, v_3)\n",
    "# v_meet = meet(v_meet, v_3)\n",
    "vals, idcs = topK(v_meet, v_meet.shape[0])\n",
    "vals, idcs"
   ]
  },
  {
   "cell_type": "code",
   "execution_count": null,
   "id": "60b9d044-7219-4f50-bb84-e4134226abf6",
   "metadata": {
    "scrolled": true
   },
   "outputs": [],
   "source": [
    "concept_an.gen_and_print(idcs, vals, layer, with_text=True, limit=100)"
   ]
  },
  {
   "cell_type": "code",
   "execution_count": null,
   "id": "4c8b0346-641f-4db9-a505-10402d116414",
   "metadata": {},
   "outputs": [],
   "source": [
    "v_1 = concept_an.v_FG[layer][t_idcs[0]]\n",
    "v_2 = concept_an.v_FG[layer][t_idcs[1]]\n",
    "v_3 = concept_an.v_FG[layer][t_idcs[2]]\n",
    "# v_meet = meet(v_1, v_2)\n",
    "v_meet = meet(v_1, v_3)\n",
    "# v_meet = meet(v_2, v_3)\n",
    "# v_meet = meet(v_meet, v_3)\n",
    "vals, idcs = topK(v_meet, v_meet.shape[0])\n",
    "vals, idcs"
   ]
  },
  {
   "cell_type": "code",
   "execution_count": null,
   "id": "906350e9-ec82-4832-b39c-56e90aa6ba6e",
   "metadata": {
    "scrolled": true
   },
   "outputs": [],
   "source": [
    "concept_an.gen_and_print(idcs, vals, layer, with_text=True, limit=100)"
   ]
  },
  {
   "cell_type": "code",
   "execution_count": null,
   "id": "ed88f565-fb2a-4eab-9fda-8c853b05f7ad",
   "metadata": {},
   "outputs": [],
   "source": [
    "layer = 11"
   ]
  },
  {
   "cell_type": "code",
   "execution_count": null,
   "id": "f808d461-361d-467c-bddc-df339e98a30f",
   "metadata": {
    "scrolled": true
   },
   "outputs": [],
   "source": [
    "concept_an.gen_text(t_idcs, layer)"
   ]
  },
  {
   "cell_type": "code",
   "execution_count": null,
   "id": "11313804-28f1-4e7e-8b52-330e93aaf623",
   "metadata": {},
   "outputs": [],
   "source": [
    "v11_GF = concept_an.v_FG[layer][t_idcs[0]]\n",
    "vals, idcs = topK(v11_GF, v11_GF.shape[0])\n",
    "vals, idcs"
   ]
  },
  {
   "cell_type": "code",
   "execution_count": null,
   "id": "af7ded81-ec6e-4e8b-b0d9-825cb4235f57",
   "metadata": {
    "scrolled": true
   },
   "outputs": [],
   "source": [
    "concept_an.gen_and_print(idcs, vals, layer, with_text=True, limit=100)"
   ]
  },
  {
   "cell_type": "code",
   "execution_count": null,
   "id": "00c07fb4-ec37-4490-bdc2-b9c1bbe0bbb3",
   "metadata": {},
   "outputs": [],
   "source": [
    "v11_GF = concept_an.v_FG[layer][t_idcs[1]]\n",
    "vals, idcs = topK(v11_GF, v11_GF.shape[0])\n",
    "vals, idcs"
   ]
  },
  {
   "cell_type": "code",
   "execution_count": null,
   "id": "f0462be9-963f-4617-91d9-47bc3a6a9c11",
   "metadata": {
    "scrolled": true
   },
   "outputs": [],
   "source": [
    "concept_an.gen_and_print(idcs, vals, layer, with_text=True, limit=100)"
   ]
  },
  {
   "cell_type": "code",
   "execution_count": null,
   "id": "40890ff7-4025-417e-aba0-7b578c78aaf3",
   "metadata": {},
   "outputs": [],
   "source": [
    "v11_GF = concept_an.v_FG[layer][t_idcs[2]]\n",
    "vals, idcs = topK(v11_GF, v11_GF.shape[0])\n",
    "vals, idcs"
   ]
  },
  {
   "cell_type": "code",
   "execution_count": null,
   "id": "d8f7afbc-c8af-4c79-808a-a2c7102e4658",
   "metadata": {
    "scrolled": true
   },
   "outputs": [],
   "source": [
    "concept_an.gen_and_print(idcs, vals, layer, with_text=True, limit=100)"
   ]
  },
  {
   "cell_type": "code",
   "execution_count": null,
   "id": "f4f33875-3c4f-46c0-8f92-ab486bcfe9d9",
   "metadata": {
    "scrolled": true
   },
   "outputs": [],
   "source": [
    "c = concept_an.gen_and_print([2094, 10988, 10533], [20, 14, 12], layer, with_text=True, limit=100)"
   ]
  },
  {
   "cell_type": "code",
   "execution_count": null,
   "id": "cdf8ad8a-b572-4c9d-975b-8b2ffd3645e2",
   "metadata": {
    "scrolled": true
   },
   "outputs": [],
   "source": [
    "concept_an.gen_and_print(idcs[1:2], vals[1:2], layer, with_text=True, limit=10)"
   ]
  },
  {
   "cell_type": "code",
   "execution_count": null,
   "id": "eb16abd1-47cc-40ed-93bf-89d97fed32e3",
   "metadata": {},
   "outputs": [],
   "source": [
    "v_1 = concept_an.v_FG[layer][t_idcs[0]]\n",
    "v_2 = concept_an.v_FG[layer][t_idcs[1]]\n",
    "v_3 = concept_an.v_FG[layer][t_idcs[2]]\n",
    "# v_meet = meet(v_1, v_2)\n",
    "# v_meet = meet(v_1, v_3)\n",
    "v_meet = meet(v_2, v_3)\n",
    "# v_meet = meet(v_meet, v_3)\n",
    "vals, idcs = topK(v_meet, v_meet.shape[0])\n",
    "vals, idcs"
   ]
  },
  {
   "cell_type": "code",
   "execution_count": null,
   "id": "1406a5e7-c2d4-472b-8b57-4a3d53754aa9",
   "metadata": {
    "scrolled": true
   },
   "outputs": [],
   "source": [
    "concept_an.gen_and_print(idcs, vals, layer, with_text=True, limit=10)"
   ]
  },
  {
   "cell_type": "code",
   "execution_count": null,
   "id": "78deaccd-7970-44f8-b828-0b3bb805b748",
   "metadata": {},
   "outputs": [],
   "source": [
    "v_1 = concept_an.v_FG[layer][t_idcs[0]]\n",
    "v_2 = concept_an.v_FG[layer][t_idcs[1]]\n",
    "v_3 = concept_an.v_FG[layer][t_idcs[2]]\n",
    "v_meet = meet(v_1, v_2)\n",
    "# v_meet = meet(v_1, v_3)\n",
    "# v_meet = meet(v_2, v_3)\n",
    "# v_meet = meet(v_meet, v_3)\n",
    "vals, idcs = topK(v_meet, v_meet.shape[0])\n",
    "vals, idcs"
   ]
  },
  {
   "cell_type": "code",
   "execution_count": null,
   "id": "323812c2-2e71-4046-9a03-2d9f7e67fca2",
   "metadata": {
    "scrolled": true
   },
   "outputs": [],
   "source": [
    "concept_an.gen_and_print(idcs, vals, layer, with_text=True, limit=10)"
   ]
  },
  {
   "cell_type": "code",
   "execution_count": null,
   "id": "5c0caedd-19c8-4506-8b10-d6ccd7ad2da0",
   "metadata": {},
   "outputs": [],
   "source": [
    "v_1 = concept_an.v_FG[layer][t_idcs[0]]\n",
    "v_2 = concept_an.v_FG[layer][t_idcs[1]]\n",
    "v_3 = concept_an.v_FG[layer][t_idcs[2]]\n",
    "# v_meet = meet(v_1, v_2)\n",
    "v_meet = meet(v_1, v_3)\n",
    "# v_meet = meet(v_2, v_3)\n",
    "# v_meet = meet(v_meet, v_3)\n",
    "vals, idcs = topK(v_meet, v_meet.shape[0])\n",
    "vals, idcs"
   ]
  },
  {
   "cell_type": "code",
   "execution_count": null,
   "id": "54bce807-4eee-43ff-9757-38fbe7915697",
   "metadata": {
    "scrolled": true
   },
   "outputs": [],
   "source": [
    "c = concept_an.gen_and_print(idcs, vals, layer, with_text=True, limit=20)"
   ]
  },
  {
   "cell_type": "code",
   "execution_count": null,
   "id": "5a0663a0-ca2c-4ffe-be28-4e629932a9bd",
   "metadata": {},
   "outputs": [],
   "source": []
  },
  {
   "cell_type": "markdown",
   "id": "bfc1e98b-f2bd-43b1-aa0c-f8a430d1abaf",
   "metadata": {},
   "source": [
    "## Richmond Hill"
   ]
  },
  {
   "cell_type": "code",
   "execution_count": null,
   "id": "1dfe6109-397a-4a36-8205-2d3f54af23da",
   "metadata": {},
   "outputs": [],
   "source": [
    "text = tr_analyzer.texts(117)\n",
    "text"
   ]
  },
  {
   "cell_type": "code",
   "execution_count": null,
   "id": "4937b360-5523-4d75-b283-09c6b8060256",
   "metadata": {},
   "outputs": [],
   "source": [
    "concept_an = ConceptAnalysis(text, tr_analyzer)"
   ]
  },
  {
   "cell_type": "code",
   "execution_count": null,
   "id": "9d5684ae-04ac-467d-854a-0d881e07bc35",
   "metadata": {
    "scrolled": true
   },
   "outputs": [],
   "source": [
    "concept_an.analyze_concepts()"
   ]
  },
  {
   "cell_type": "code",
   "execution_count": null,
   "id": "175938c8-db07-4153-b34b-085476c653dc",
   "metadata": {},
   "outputs": [],
   "source": [
    "t_idcs = [2, 3]\n",
    "t_idcs = [1]\n",
    "# t_idcs = [2]\n",
    "t_idcs = [6, 13, 30, 31]\n",
    "t_idcs = [6, 30, 31]\n",
    "t_idcs = [30, 31]"
   ]
  },
  {
   "cell_type": "code",
   "execution_count": null,
   "id": "ec21dd35-ac06-47e4-bd71-0dcb25675559",
   "metadata": {},
   "outputs": [],
   "source": [
    "layer = 0"
   ]
  },
  {
   "cell_type": "code",
   "execution_count": null,
   "id": "b54787f2-4a9f-47d8-8e4e-fcfefc5128dd",
   "metadata": {
    "scrolled": true
   },
   "outputs": [],
   "source": [
    "concept_an.gen_text(t_idcs, layer)"
   ]
  },
  {
   "cell_type": "code",
   "execution_count": null,
   "id": "e0aa5064-eddf-4853-a60d-4c584b8b0779",
   "metadata": {},
   "outputs": [],
   "source": [
    "v0_GF = concept_an.v_FG[layer][t_idcs[0]]\n",
    "vals, idcs = topK(v0_GF, v0_GF.shape[0])\n",
    "vals, idcs"
   ]
  },
  {
   "cell_type": "code",
   "execution_count": null,
   "id": "c15468af-ec53-44e1-a91f-5461ff31da18",
   "metadata": {
    "scrolled": true
   },
   "outputs": [],
   "source": [
    "concept_an.gen_and_print(idcs, vals, layer, with_text=True, limit=100)"
   ]
  },
  {
   "cell_type": "code",
   "execution_count": null,
   "id": "0385f381-9341-460f-adb8-5993b92ed557",
   "metadata": {},
   "outputs": [],
   "source": [
    "v0_GF = concept_an.v_FG[layer][t_idcs[1]]\n",
    "vals, idcs = topK(v0_GF, v0_GF.shape[0])\n",
    "vals, idcs"
   ]
  },
  {
   "cell_type": "code",
   "execution_count": null,
   "id": "46ca1a4c-fdd7-4521-ba9b-372a2ab5553d",
   "metadata": {
    "scrolled": true
   },
   "outputs": [],
   "source": [
    "concept_an.gen_and_print(idcs, vals, layer, with_text=True, limit=100)"
   ]
  },
  {
   "cell_type": "code",
   "execution_count": null,
   "id": "e5dce448-d742-4f15-a7f3-1871e3750eb9",
   "metadata": {},
   "outputs": [],
   "source": [
    "v0_GF = concept_an.v_FG[layer][t_idcs[2]]\n",
    "vals, idcs = topK(v0_GF, v0_GF.shape[0])\n",
    "vals, idcs"
   ]
  },
  {
   "cell_type": "code",
   "execution_count": null,
   "id": "5c488ed8-95e3-4bdb-a9e4-4166fb36d0c0",
   "metadata": {},
   "outputs": [],
   "source": [
    "concept_an.gen_and_print(idcs, vals, layer, with_text=True, limit=100)"
   ]
  },
  {
   "cell_type": "code",
   "execution_count": null,
   "id": "b869409c-c7a3-43c3-86f5-d77831d808ae",
   "metadata": {},
   "outputs": [],
   "source": [
    "v_1 = concept_an.v_FG[layer][t_idcs[0]]\n",
    "v_2 = concept_an.v_FG[layer][t_idcs[1]]\n",
    "# v_3 = concept_an.v_FG[layer][t_idcs[2]]\n",
    "v_meet = meet(v_1, v_2)\n",
    "v_meet = meet(v_meet, v_3)\n",
    "vals, idcs = topK(v_meet, v_meet.shape[0])\n",
    "vals, idcs"
   ]
  },
  {
   "cell_type": "code",
   "execution_count": null,
   "id": "1b8ca3dd-d6f2-4567-8ead-1cecc0348646",
   "metadata": {
    "scrolled": true
   },
   "outputs": [],
   "source": [
    "concept_an.gen_and_print(idcs, vals, layer, with_text=True, limit=100)"
   ]
  },
  {
   "cell_type": "code",
   "execution_count": null,
   "id": "eb00942b-be22-4a42-8052-fe3187db8daa",
   "metadata": {},
   "outputs": [],
   "source": [
    "v_1 = concept_an.v_FG[layer][t_idcs[0]]\n",
    "v_2 = concept_an.v_FG[layer][t_idcs[1]]\n",
    "v_3 = concept_an.v_FG[layer][t_idcs[2]]\n",
    "# v_meet = meet(v_1, v_2)\n",
    "# v_meet = meet(v_1, v_3)\n",
    "v_meet = meet(v_2, v_3)\n",
    "# v_meet = meet(v_meet, v_3)\n",
    "vals, idcs = topK(v_meet, v_meet.shape[0])\n",
    "vals, idcs"
   ]
  },
  {
   "cell_type": "code",
   "execution_count": null,
   "id": "f8ad4eb9-3e43-4434-a7da-c6f385011528",
   "metadata": {},
   "outputs": [],
   "source": [
    "concept_an.gen_and_print(idcs, vals, layer, with_text=True, limit=100)"
   ]
  },
  {
   "cell_type": "code",
   "execution_count": null,
   "id": "7689547d-ac81-4377-8fdc-676036fb248b",
   "metadata": {},
   "outputs": [],
   "source": [
    "v_1 = concept_an.v_FG[layer][t_idcs[0]]\n",
    "v_2 = concept_an.v_FG[layer][t_idcs[1]]\n",
    "# v_3 = concept_an.v_FG[layer][t_idcs[2]]\n",
    "v_meet = meet(v_1, v_2)\n",
    "# v_meet = meet(v_1, v_3)\n",
    "# v_meet = meet(v_2, v_3)\n",
    "# v_meet = meet(v_meet, v_3)\n",
    "vals, idcs = topK(v_meet, v_meet.shape[0])\n",
    "vals, idcs"
   ]
  },
  {
   "cell_type": "code",
   "execution_count": null,
   "id": "4def073f-46ed-4218-8e20-0590e29dceff",
   "metadata": {
    "scrolled": true
   },
   "outputs": [],
   "source": [
    "concept_an.gen_and_print(idcs, vals, layer, with_text=True, limit=10)"
   ]
  },
  {
   "cell_type": "code",
   "execution_count": null,
   "id": "ed33131d-ba5c-427b-8991-a6a9e48f637d",
   "metadata": {},
   "outputs": [],
   "source": [
    "v_1 = concept_an.v_FG[layer][t_idcs[0]]\n",
    "v_2 = concept_an.v_FG[layer][t_idcs[1]]\n",
    "v_3 = concept_an.v_FG[layer][t_idcs[2]]\n",
    "# v_meet = meet(v_1, v_2)\n",
    "v_meet = meet(v_1, v_3)\n",
    "# v_meet = meet(v_2, v_3)\n",
    "# v_meet = meet(v_meet, v_3)\n",
    "vals, idcs = topK(v_meet, v_meet.shape[0])\n",
    "vals, idcs"
   ]
  },
  {
   "cell_type": "code",
   "execution_count": null,
   "id": "ae5157a7-793b-4c6f-be8b-808577921321",
   "metadata": {
    "scrolled": true
   },
   "outputs": [],
   "source": [
    "concept_an.gen_and_print(idcs, vals, layer, with_text=True, limit=100)"
   ]
  },
  {
   "cell_type": "code",
   "execution_count": null,
   "id": "5b7f0cc4-df98-4d27-bd17-92720b02335f",
   "metadata": {},
   "outputs": [],
   "source": [
    "layer = 8"
   ]
  },
  {
   "cell_type": "code",
   "execution_count": null,
   "id": "da10bec1-46b0-4235-a09e-3215cef3211f",
   "metadata": {
    "scrolled": true
   },
   "outputs": [],
   "source": [
    "concept_an.gen_text(t_idcs, layer)"
   ]
  },
  {
   "cell_type": "code",
   "execution_count": null,
   "id": "d85551ee-34f9-49d7-b641-9e14ca3da799",
   "metadata": {},
   "outputs": [],
   "source": [
    "v8_GF = concept_an.v_FG[layer][t_idcs[0]]\n",
    "vals, idcs = topK(v8_GF, v8_GF.shape[0])\n",
    "vals[:10], idcs[:10]"
   ]
  },
  {
   "cell_type": "code",
   "execution_count": null,
   "id": "cba28738-8972-4120-b16e-87140411015f",
   "metadata": {
    "scrolled": true
   },
   "outputs": [],
   "source": [
    "concept_an.gen_and_print(idcs, vals, layer, with_text=True, limit=100)"
   ]
  },
  {
   "cell_type": "code",
   "execution_count": null,
   "id": "5f356713-2e52-45fd-a25b-07a20dc299fc",
   "metadata": {
    "scrolled": true
   },
   "outputs": [],
   "source": [
    "concept_an.gen_and_print(idcs[1:], vals[1:], layer, with_text=True, limit=100)"
   ]
  },
  {
   "cell_type": "code",
   "execution_count": null,
   "id": "c6198153-6254-4ef0-b96d-a962470fb93d",
   "metadata": {},
   "outputs": [],
   "source": [
    "v8_GF = concept_an.v_FG[layer][t_idcs[1]]\n",
    "vals, idcs = topK(v8_GF, v8_GF.shape[0])\n",
    "vals, idcs"
   ]
  },
  {
   "cell_type": "code",
   "execution_count": null,
   "id": "ebd5e658-62c1-404e-b1ee-c9069e9c3570",
   "metadata": {
    "scrolled": true
   },
   "outputs": [],
   "source": [
    "concept_an.gen_and_print(idcs, vals, layer, with_text=True, limit=100)"
   ]
  },
  {
   "cell_type": "code",
   "execution_count": null,
   "id": "1ec952de-d9e2-44f8-8a9d-2a11f8378559",
   "metadata": {},
   "outputs": [],
   "source": [
    "v8_GF = concept_an.v_FG[layer][t_idcs[2]]\n",
    "vals, idcs = topK(v8_GF, v8_GF.shape[0])\n",
    "vals, idcs"
   ]
  },
  {
   "cell_type": "code",
   "execution_count": null,
   "id": "18759c13-864c-47bd-8d16-e7e366e172a0",
   "metadata": {
    "scrolled": true
   },
   "outputs": [],
   "source": [
    "concept_an.gen_and_print(idcs, vals, layer, with_text=True, limit=100)"
   ]
  },
  {
   "cell_type": "code",
   "execution_count": null,
   "id": "aa015198-20be-452e-8050-e2fb20c7c021",
   "metadata": {},
   "outputs": [],
   "source": [
    "v_1 = concept_an.v_FG[layer][t_idcs[0]]\n",
    "v_2 = concept_an.v_FG[layer][t_idcs[1]]\n",
    "# v_3 = concept_an.v_FG[layer][t_idcs[2]]\n",
    "v_meet = meet(v_1, v_2)\n",
    "v_meet = meet(v_meet, v_3)\n",
    "vals, idcs = topK(v_meet, v_meet.shape[0])\n",
    "vals, idcs"
   ]
  },
  {
   "cell_type": "code",
   "execution_count": null,
   "id": "70449e02-7c47-4560-a468-21af1ec6c38a",
   "metadata": {
    "scrolled": true
   },
   "outputs": [],
   "source": [
    "concept_an.gen_and_print([16679, 10130, 20994], [12, 9, 9], layer, with_text=True, limit=100)"
   ]
  },
  {
   "cell_type": "code",
   "execution_count": null,
   "id": "76062bdb-01c1-442b-8dee-7cf6f5354894",
   "metadata": {},
   "outputs": [],
   "source": [
    "v_1 = concept_an.v_FG[layer][t_idcs[0]]\n",
    "v_2 = concept_an.v_FG[layer][t_idcs[1]]\n",
    "v_3 = concept_an.v_FG[layer][t_idcs[2]]\n",
    "# v_meet = meet(v_1, v_2)\n",
    "# v_meet = meet(v_1, v_3)\n",
    "v_meet = meet(v_2, v_3)\n",
    "# v_meet = meet(v_meet, v_3)\n",
    "vals, idcs = topK(v_meet, v_meet.shape[0])\n",
    "vals, idcs"
   ]
  },
  {
   "cell_type": "code",
   "execution_count": null,
   "id": "427f0eec-b647-4cf3-bd5d-6252c951752c",
   "metadata": {},
   "outputs": [],
   "source": [
    "concept_an.gen_and_print(idcs, vals, layer, with_text=True, limit=100)"
   ]
  },
  {
   "cell_type": "code",
   "execution_count": null,
   "id": "d70f84ad-c611-4620-976d-e87d93476700",
   "metadata": {},
   "outputs": [],
   "source": [
    "v_1 = concept_an.v_FG[layer][t_idcs[0]]\n",
    "v_2 = concept_an.v_FG[layer][t_idcs[1]]\n",
    "# v_3 = concept_an.v_FG[layer][t_idcs[2]]\n",
    "v_meet = meet(v_1, v_2)\n",
    "# v_meet = meet(v_1, v_3)\n",
    "# v_meet = meet(v_2, v_3)\n",
    "# v_meet = meet(v_meet, v_3)\n",
    "vals, idcs = topK(v_meet, v_meet.shape[0])\n",
    "vals, idcs"
   ]
  },
  {
   "cell_type": "code",
   "execution_count": null,
   "id": "a605b5f7-cac2-40ee-975b-a224691dabbf",
   "metadata": {
    "scrolled": true
   },
   "outputs": [],
   "source": [
    "concept_an.gen_and_print(idcs, vals, layer, with_text=True, limit=100)"
   ]
  },
  {
   "cell_type": "code",
   "execution_count": null,
   "id": "8a325a3d-c640-4ef1-b0c1-2a21dd333997",
   "metadata": {},
   "outputs": [],
   "source": [
    "v_1 = concept_an.v_FG[layer][t_idcs[0]]\n",
    "v_2 = concept_an.v_FG[layer][t_idcs[1]]\n",
    "v_3 = concept_an.v_FG[layer][t_idcs[2]]\n",
    "# v_meet = meet(v_1, v_2)\n",
    "v_meet = meet(v_1, v_3)\n",
    "# v_meet = meet(v_2, v_3)\n",
    "# v_meet = meet(v_meet, v_3)\n",
    "vals, idcs = topK(v_meet, v_meet.shape[0])\n",
    "vals, idcs"
   ]
  },
  {
   "cell_type": "code",
   "execution_count": null,
   "id": "08a0ed44-01c2-45e3-960b-bb89c590dff7",
   "metadata": {
    "scrolled": true
   },
   "outputs": [],
   "source": [
    "concept_an.gen_and_print(idcs, vals, layer, with_text=True, limit=100)"
   ]
  },
  {
   "cell_type": "code",
   "execution_count": null,
   "id": "bea1853b-33fd-4576-b642-5c8040290ce6",
   "metadata": {},
   "outputs": [],
   "source": [
    "layer = 11"
   ]
  },
  {
   "cell_type": "code",
   "execution_count": null,
   "id": "045bddf7-b7a0-44a7-aa2e-1a0c0cc8063f",
   "metadata": {
    "scrolled": true
   },
   "outputs": [],
   "source": [
    "concept_an.gen_text(t_idcs, layer)"
   ]
  },
  {
   "cell_type": "code",
   "execution_count": null,
   "id": "42f72245-b66e-4666-8ccb-d35ef00501f9",
   "metadata": {},
   "outputs": [],
   "source": [
    "v11_GF = concept_an.v_FG[layer][t_idcs[0]]\n",
    "vals, idcs = topK(v11_GF, v11_GF.shape[0])\n",
    "vals, idcs"
   ]
  },
  {
   "cell_type": "code",
   "execution_count": null,
   "id": "c051dfdc-915e-4139-a346-5b49800a9eb5",
   "metadata": {
    "scrolled": true
   },
   "outputs": [],
   "source": [
    "concept_an.gen_and_print(idcs, vals, layer, with_text=True, limit=100)"
   ]
  },
  {
   "cell_type": "code",
   "execution_count": null,
   "id": "bbdec18f-9d6b-4133-ad0b-0abf18dbdde0",
   "metadata": {},
   "outputs": [],
   "source": [
    "v11_GF = concept_an.v_FG[layer][t_idcs[1]]\n",
    "vals, idcs = topK(v11_GF, v11_GF.shape[0])\n",
    "vals, idcs"
   ]
  },
  {
   "cell_type": "code",
   "execution_count": null,
   "id": "05ddfe41-04e7-4687-87eb-37fdabd4248b",
   "metadata": {
    "scrolled": true
   },
   "outputs": [],
   "source": [
    "concept_an.gen_and_print(idcs, vals, layer, with_text=True, limit=100)"
   ]
  },
  {
   "cell_type": "code",
   "execution_count": null,
   "id": "aea45c27-d509-40f8-96de-63c2641a3229",
   "metadata": {},
   "outputs": [],
   "source": [
    "v11_GF = concept_an.v_FG[layer][t_idcs[2]]\n",
    "vals, idcs = topK(v11_GF, v11_GF.shape[0])\n",
    "vals, idcs"
   ]
  },
  {
   "cell_type": "code",
   "execution_count": null,
   "id": "f12eb310-bb3a-4cdf-9d88-0158dbd89959",
   "metadata": {
    "scrolled": true
   },
   "outputs": [],
   "source": [
    "concept_an.gen_and_print(idcs, vals, layer, with_text=True, limit=100)"
   ]
  },
  {
   "cell_type": "code",
   "execution_count": null,
   "id": "ee0b1b99-2148-44ae-99e1-a40dba7b8e62",
   "metadata": {
    "scrolled": true
   },
   "outputs": [],
   "source": [
    "concept_an.gen_and_print([2094, 10988, 10533], [20, 14, 12], layer, with_text=True, limit=100)"
   ]
  },
  {
   "cell_type": "code",
   "execution_count": null,
   "id": "9bad30a7-0d85-44d6-98a5-31ec5f37f6b7",
   "metadata": {
    "scrolled": true
   },
   "outputs": [],
   "source": [
    "concept_an.gen_and_print(idcs[1:2], vals[1:2], layer, with_text=True, limit=100)"
   ]
  },
  {
   "cell_type": "code",
   "execution_count": null,
   "id": "32402dab-7277-4277-97dc-2917ddea6c7c",
   "metadata": {},
   "outputs": [],
   "source": [
    "v_1 = concept_an.v_FG[layer][t_idcs[0]]\n",
    "v_2 = concept_an.v_FG[layer][t_idcs[1]]\n",
    "v_3 = concept_an.v_FG[layer][t_idcs[2]]\n",
    "# v_meet = meet(v_1, v_2)\n",
    "# v_meet = meet(v_1, v_3)\n",
    "v_meet = meet(v_2, v_3)\n",
    "# v_meet = meet(v_meet, v_3)\n",
    "vals, idcs = topK(v_meet, v_meet.shape[0])\n",
    "vals, idcs"
   ]
  },
  {
   "cell_type": "code",
   "execution_count": null,
   "id": "6d80815a-66fb-4699-abf3-3be0022d056b",
   "metadata": {},
   "outputs": [],
   "source": [
    "concept_an.gen_and_print(idcs, vals, layer, with_text=True, limit=10)"
   ]
  },
  {
   "cell_type": "code",
   "execution_count": null,
   "id": "feb79f63-c8c2-4273-b29e-06b10ef57ace",
   "metadata": {},
   "outputs": [],
   "source": [
    "v_1 = concept_an.v_FG[layer][t_idcs[0]]\n",
    "v_2 = concept_an.v_FG[layer][t_idcs[1]]\n",
    "# v_3 = concept_an.v_FG[layer][t_idcs[2]]\n",
    "v_meet = meet(v_1, v_2)\n",
    "# v_meet = meet(v_1, v_3)\n",
    "# v_meet = meet(v_2, v_3)\n",
    "# v_meet = meet(v_meet, v_3)\n",
    "vals, idcs = topK(v_meet, v_meet.shape[0])\n",
    "vals, idcs"
   ]
  },
  {
   "cell_type": "code",
   "execution_count": null,
   "id": "85aaf1c7-b74c-4543-88c0-aae7eebb521b",
   "metadata": {
    "scrolled": true
   },
   "outputs": [],
   "source": [
    "c = concept_an.gen_and_print(idcs, vals, layer, with_text=True, limit=12)"
   ]
  },
  {
   "cell_type": "code",
   "execution_count": null,
   "id": "a1d90480-4ebc-4bee-84d7-f70c97901098",
   "metadata": {},
   "outputs": [],
   "source": [
    "v_1 = concept_an.v_FG[layer][t_idcs[0]]\n",
    "v_2 = concept_an.v_FG[layer][t_idcs[1]]\n",
    "v_3 = concept_an.v_FG[layer][t_idcs[2]]\n",
    "# v_meet = meet(v_1, v_2)\n",
    "v_meet = meet(v_1, v_3)\n",
    "# v_meet = meet(v_2, v_3)\n",
    "# v_meet = meet(v_meet, v_3)\n",
    "vals, idcs = topK(v_meet, v_meet.shape[0])\n",
    "vals, idcs"
   ]
  },
  {
   "cell_type": "code",
   "execution_count": null,
   "id": "e9d5c5ef-1c0d-4b8d-ad6b-cd08f0118290",
   "metadata": {
    "scrolled": true
   },
   "outputs": [],
   "source": [
    "concept_an.gen_and_print(idcs, vals, layer, with_text=True, limit=100)"
   ]
  },
  {
   "cell_type": "code",
   "execution_count": null,
   "id": "9bd401cc-4ee7-43ef-bcfa-f6d4ecf16144",
   "metadata": {},
   "outputs": [],
   "source": []
  },
  {
   "cell_type": "markdown",
   "id": "3917b346-dbe6-4c7d-b71f-9967472f7c84",
   "metadata": {},
   "source": [
    "## National Park Service"
   ]
  },
  {
   "cell_type": "code",
   "execution_count": null,
   "id": "a4ba7bba-04b3-4de3-bb9a-70b4391862bc",
   "metadata": {},
   "outputs": [],
   "source": [
    "text = tr_analyzer.to_clean(tr_analyzer.tokens[21481])\n",
    "text"
   ]
  },
  {
   "cell_type": "code",
   "execution_count": null,
   "id": "42575ecd-e2b0-4a82-b11f-f70a038fa81a",
   "metadata": {},
   "outputs": [],
   "source": [
    "concept_an = ConceptAnalysis(text, tr_analyzer)"
   ]
  },
  {
   "cell_type": "code",
   "execution_count": null,
   "id": "0e259e11-5324-4e44-8458-80c9cb61a3bc",
   "metadata": {
    "scrolled": true
   },
   "outputs": [],
   "source": [
    "concept_an.analyze_concepts()"
   ]
  },
  {
   "cell_type": "code",
   "execution_count": null,
   "id": "8d3a7ac0-b462-4dac-b1d7-8f024e324d9f",
   "metadata": {},
   "outputs": [],
   "source": [
    "t_idcs = [2, 3]\n",
    "t_idcs = [1]\n",
    "# t_idcs = [2]\n",
    "t_idcs = [24, 25, 26]"
   ]
  },
  {
   "cell_type": "code",
   "execution_count": null,
   "id": "d3cf5228-9370-4b98-ad2f-ba410b38043e",
   "metadata": {},
   "outputs": [],
   "source": [
    "layer = 0"
   ]
  },
  {
   "cell_type": "code",
   "execution_count": null,
   "id": "f412745f-a254-4187-810e-4911d2993066",
   "metadata": {
    "scrolled": true
   },
   "outputs": [],
   "source": [
    "concept_an.gen_text(t_idcs, layer)"
   ]
  },
  {
   "cell_type": "code",
   "execution_count": null,
   "id": "cef9f530-a533-4d2a-9ee2-3f82589d24e5",
   "metadata": {},
   "outputs": [],
   "source": [
    "v0_GF = concept_an.v_FG[layer][t_idcs[0]]\n",
    "vals, idcs = topK(v0_GF, v0_GF.shape[0])\n",
    "vals, idcs"
   ]
  },
  {
   "cell_type": "code",
   "execution_count": null,
   "id": "178478ce-db30-495e-aa4a-54eebde15c6e",
   "metadata": {
    "scrolled": true
   },
   "outputs": [],
   "source": [
    "concept_an.gen_and_print(idcs, vals, layer, with_text=True, limit=100)"
   ]
  },
  {
   "cell_type": "code",
   "execution_count": null,
   "id": "121e317b-d04d-486b-8395-94bda5ce0b69",
   "metadata": {},
   "outputs": [],
   "source": [
    "v0_GF = concept_an.v_FG[layer][t_idcs[1]]\n",
    "vals, idcs = topK(v0_GF, v0_GF.shape[0])\n",
    "vals, idcs"
   ]
  },
  {
   "cell_type": "code",
   "execution_count": null,
   "id": "83d9d865-515e-4999-8070-3dd87a0fa2be",
   "metadata": {
    "scrolled": true
   },
   "outputs": [],
   "source": [
    "concept_an.gen_and_print(idcs, vals, layer, with_text=True, limit=100)"
   ]
  },
  {
   "cell_type": "code",
   "execution_count": null,
   "id": "c18ba862-6674-40e0-9d77-8eeb03dfd1e5",
   "metadata": {},
   "outputs": [],
   "source": [
    "v0_GF = concept_an.v_FG[layer][t_idcs[2]]\n",
    "vals, idcs = topK(v0_GF, v0_GF.shape[0])\n",
    "vals, idcs"
   ]
  },
  {
   "cell_type": "code",
   "execution_count": null,
   "id": "cffb06c5-83c8-41d5-b8b0-24b9819a97c0",
   "metadata": {
    "scrolled": true
   },
   "outputs": [],
   "source": [
    "concept_an.gen_and_print(idcs, vals, layer, with_text=True, limit=100)"
   ]
  },
  {
   "cell_type": "code",
   "execution_count": null,
   "id": "61d9f678-1006-40aa-97cc-82388ae3f49d",
   "metadata": {},
   "outputs": [],
   "source": [
    "v_1 = concept_an.v_FG[layer][t_idcs[0]]\n",
    "v_2 = concept_an.v_FG[layer][t_idcs[1]]\n",
    "v_3 = concept_an.v_FG[layer][t_idcs[2]]\n",
    "v_meet = meet(v_1, v_2)\n",
    "v_meet = meet(v_meet, v_3)\n",
    "vals, idcs = topK(v_meet, v_meet.shape[0])\n",
    "vals, idcs"
   ]
  },
  {
   "cell_type": "code",
   "execution_count": null,
   "id": "090c0f6f-05f4-48c5-a956-216000ade1cb",
   "metadata": {
    "scrolled": true
   },
   "outputs": [],
   "source": [
    "concept_an.gen_and_print(idcs, vals, layer, with_text=True, limit=100)"
   ]
  },
  {
   "cell_type": "code",
   "execution_count": null,
   "id": "6f7d6457-1637-4b42-b9be-c09d1034e5f0",
   "metadata": {},
   "outputs": [],
   "source": [
    "v_1 = concept_an.v_FG[layer][t_idcs[0]]\n",
    "v_2 = concept_an.v_FG[layer][t_idcs[1]]\n",
    "v_3 = concept_an.v_FG[layer][t_idcs[2]]\n",
    "# v_meet = meet(v_1, v_2)\n",
    "# v_meet = meet(v_1, v_3)\n",
    "v_meet = meet(v_2, v_3)\n",
    "# v_meet = meet(v_meet, v_3)\n",
    "vals, idcs = topK(v_meet, v_meet.shape[0])\n",
    "vals, idcs"
   ]
  },
  {
   "cell_type": "code",
   "execution_count": null,
   "id": "684013d8-20ad-4f9b-bf52-61594eba8e00",
   "metadata": {
    "scrolled": true
   },
   "outputs": [],
   "source": [
    "concept_an.gen_and_print(idcs, vals, layer, with_text=True, limit=100)"
   ]
  },
  {
   "cell_type": "code",
   "execution_count": null,
   "id": "ab1a1d2b-291d-4d59-8f7b-d1e8716cf5eb",
   "metadata": {},
   "outputs": [],
   "source": [
    "v_1 = concept_an.v_FG[layer][t_idcs[0]]\n",
    "v_2 = concept_an.v_FG[layer][t_idcs[1]]\n",
    "v_3 = concept_an.v_FG[layer][t_idcs[2]]\n",
    "v_meet = meet(v_1, v_2)\n",
    "# v_meet = meet(v_1, v_3)\n",
    "# v_meet = meet(v_2, v_3)\n",
    "# v_meet = meet(v_meet, v_3)\n",
    "vals, idcs = topK(v_meet, v_meet.shape[0])\n",
    "vals, idcs"
   ]
  },
  {
   "cell_type": "code",
   "execution_count": null,
   "id": "cf253d2d-b7f8-48e1-9ef2-b5a8505dd557",
   "metadata": {
    "scrolled": true
   },
   "outputs": [],
   "source": [
    "concept_an.gen_and_print(idcs, vals, layer, with_text=True, limit=100)"
   ]
  },
  {
   "cell_type": "code",
   "execution_count": null,
   "id": "185dc668-56e9-41b0-9fb5-ca428120eb4a",
   "metadata": {},
   "outputs": [],
   "source": [
    "v_1 = concept_an.v_FG[layer][t_idcs[0]]\n",
    "v_2 = concept_an.v_FG[layer][t_idcs[1]]\n",
    "v_3 = concept_an.v_FG[layer][t_idcs[2]]\n",
    "# v_meet = meet(v_1, v_2)\n",
    "v_meet = meet(v_1, v_3)\n",
    "# v_meet = meet(v_2, v_3)\n",
    "# v_meet = meet(v_meet, v_3)\n",
    "vals, idcs = topK(v_meet, v_meet.shape[0])\n",
    "vals, idcs"
   ]
  },
  {
   "cell_type": "code",
   "execution_count": null,
   "id": "3350d410-234e-4737-a6a9-fd06ca32177b",
   "metadata": {
    "scrolled": true
   },
   "outputs": [],
   "source": [
    "concept_an.gen_and_print(idcs, vals, layer, with_text=True, limit=100)"
   ]
  },
  {
   "cell_type": "code",
   "execution_count": null,
   "id": "a34cb7dc-73f8-4c16-aece-77fd1754b731",
   "metadata": {},
   "outputs": [],
   "source": [
    "layer = 8"
   ]
  },
  {
   "cell_type": "code",
   "execution_count": null,
   "id": "34f6d895-025a-46ec-bd29-040e007a0570",
   "metadata": {
    "scrolled": true
   },
   "outputs": [],
   "source": [
    "concept_an.gen_text(t_idcs, layer)"
   ]
  },
  {
   "cell_type": "code",
   "execution_count": null,
   "id": "143a6c5f-4c0f-4253-8740-3dc962bfec79",
   "metadata": {},
   "outputs": [],
   "source": [
    "v8_GF = concept_an.v_FG[layer][t_idcs[0]]\n",
    "vals, idcs = topK(v8_GF, v8_GF.shape[0])\n",
    "vals[:10], idcs[:10]"
   ]
  },
  {
   "cell_type": "code",
   "execution_count": null,
   "id": "3cbed707-173f-4c1e-ba3f-47740cc2ffcb",
   "metadata": {
    "scrolled": true
   },
   "outputs": [],
   "source": [
    "concept_an.gen_and_print(idcs, vals, layer, with_text=True, limit=100)"
   ]
  },
  {
   "cell_type": "code",
   "execution_count": null,
   "id": "b4850b7d-0f26-4985-b054-7cf761be77ee",
   "metadata": {
    "scrolled": true
   },
   "outputs": [],
   "source": [
    "concept_an.gen_and_print(idcs[1:], vals[1:], layer, with_text=True, limit=100)"
   ]
  },
  {
   "cell_type": "code",
   "execution_count": null,
   "id": "de982384-ab0f-4778-b004-77e1ee1d9a0d",
   "metadata": {},
   "outputs": [],
   "source": [
    "v8_GF = concept_an.v_FG[layer][t_idcs[1]]\n",
    "vals, idcs = topK(v8_GF, v8_GF.shape[0])\n",
    "vals, idcs"
   ]
  },
  {
   "cell_type": "code",
   "execution_count": null,
   "id": "810c4922-ceb9-428b-87d9-b8c1543c0829",
   "metadata": {
    "scrolled": true
   },
   "outputs": [],
   "source": [
    "c = concept_an.gen_and_print(idcs, vals, layer, with_text=True, limit=100)"
   ]
  },
  {
   "cell_type": "code",
   "execution_count": null,
   "id": "46e6b7de-1a6b-4ee7-94b7-6b520ffe87e8",
   "metadata": {},
   "outputs": [],
   "source": [
    "v8_GF = concept_an.v_FG[layer][t_idcs[2]]\n",
    "vals, idcs = topK(v8_GF, v8_GF.shape[0])\n",
    "vals, idcs"
   ]
  },
  {
   "cell_type": "code",
   "execution_count": null,
   "id": "b6d52532-9e2d-4018-a45e-bcdc0343597b",
   "metadata": {
    "scrolled": true
   },
   "outputs": [],
   "source": [
    "c = concept_an.gen_and_print(idcs, vals, layer, with_text=True, limit=10)"
   ]
  },
  {
   "cell_type": "code",
   "execution_count": null,
   "id": "5e40c631-7825-4178-b514-91cde05eca3c",
   "metadata": {},
   "outputs": [],
   "source": [
    "v_1 = concept_an.v_FG[layer][t_idcs[0]]\n",
    "v_2 = concept_an.v_FG[layer][t_idcs[1]]\n",
    "v_3 = concept_an.v_FG[layer][t_idcs[2]]\n",
    "v_meet = meet(v_1, v_2)\n",
    "v_meet = meet(v_meet, v_3)\n",
    "vals, idcs = topK(v_meet, v_meet.shape[0])\n",
    "vals, idcs"
   ]
  },
  {
   "cell_type": "code",
   "execution_count": null,
   "id": "7bc78bc5-3d80-4640-83bc-828e3c8e736b",
   "metadata": {
    "scrolled": true
   },
   "outputs": [],
   "source": [
    "concept_an.gen_and_print([16679, 10130, 20994], [12, 9, 9], layer, with_text=True, limit=100)"
   ]
  },
  {
   "cell_type": "code",
   "execution_count": null,
   "id": "a7caf21a-bad8-4885-8d9b-f49de831b6cf",
   "metadata": {},
   "outputs": [],
   "source": [
    "v_1 = concept_an.v_FG[layer][t_idcs[0]]\n",
    "v_2 = concept_an.v_FG[layer][t_idcs[1]]\n",
    "v_3 = concept_an.v_FG[layer][t_idcs[2]]\n",
    "# v_meet = meet(v_1, v_2)\n",
    "# v_meet = meet(v_1, v_3)\n",
    "v_meet = meet(v_2, v_3)\n",
    "# v_meet = meet(v_meet, v_3)\n",
    "vals, idcs = topK(v_meet, v_meet.shape[0])\n",
    "vals, idcs"
   ]
  },
  {
   "cell_type": "code",
   "execution_count": null,
   "id": "020927a8-8d86-4f20-833e-b279bcf30d3f",
   "metadata": {
    "scrolled": true
   },
   "outputs": [],
   "source": [
    "concept_an.gen_and_print(idcs, vals, layer, with_text=True, limit=10)"
   ]
  },
  {
   "cell_type": "code",
   "execution_count": null,
   "id": "8bdbbeac-60e7-477e-be25-f65cae32dc22",
   "metadata": {},
   "outputs": [],
   "source": [
    "v_1 = concept_an.v_FG[layer][t_idcs[0]]\n",
    "v_2 = concept_an.v_FG[layer][t_idcs[1]]\n",
    "v_3 = concept_an.v_FG[layer][t_idcs[2]]\n",
    "v_meet = meet(v_1, v_2)\n",
    "# v_meet = meet(v_1, v_3)\n",
    "# v_meet = meet(v_2, v_3)\n",
    "# v_meet = meet(v_meet, v_3)\n",
    "vals, idcs = topK(v_meet, v_meet.shape[0])\n",
    "vals, idcs"
   ]
  },
  {
   "cell_type": "code",
   "execution_count": null,
   "id": "1f973aa9-e6c3-472a-aa3e-19f2175618ab",
   "metadata": {
    "scrolled": true
   },
   "outputs": [],
   "source": [
    "c = concept_an.gen_and_print(idcs, vals, layer, with_text=True, limit=10)"
   ]
  },
  {
   "cell_type": "code",
   "execution_count": null,
   "id": "fe458597-7548-44f9-89e4-efaa6be9b671",
   "metadata": {},
   "outputs": [],
   "source": [
    "v_1 = concept_an.v_FG[layer][t_idcs[0]]\n",
    "v_2 = concept_an.v_FG[layer][t_idcs[1]]\n",
    "v_3 = concept_an.v_FG[layer][t_idcs[2]]\n",
    "# v_meet = meet(v_1, v_2)\n",
    "v_meet = meet(v_1, v_3)\n",
    "# v_meet = meet(v_2, v_3)\n",
    "# v_meet = meet(v_meet, v_3)\n",
    "vals, idcs = topK(v_meet, v_meet.shape[0])\n",
    "vals, idcs"
   ]
  },
  {
   "cell_type": "code",
   "execution_count": null,
   "id": "f00261db-7767-406d-9d5c-50ddc143cd9f",
   "metadata": {
    "scrolled": true
   },
   "outputs": [],
   "source": [
    "concept_an.gen_and_print(idcs, vals, layer, with_text=True, limit=100)"
   ]
  },
  {
   "cell_type": "code",
   "execution_count": null,
   "id": "15d8f561-9889-4244-9ecf-779d02288968",
   "metadata": {},
   "outputs": [],
   "source": [
    "layer = 11"
   ]
  },
  {
   "cell_type": "code",
   "execution_count": null,
   "id": "c03693cd-8d50-446b-8da8-2fb0fc5acbcd",
   "metadata": {
    "scrolled": true
   },
   "outputs": [],
   "source": [
    "concept_an.gen_text(t_idcs, layer)"
   ]
  },
  {
   "cell_type": "code",
   "execution_count": null,
   "id": "8ee87b2e-3afa-4da3-b26d-eb740a44f835",
   "metadata": {},
   "outputs": [],
   "source": [
    "v11_GF = concept_an.v_FG[layer][t_idcs[0]]\n",
    "vals, idcs = topK(v11_GF, v11_GF.shape[0])\n",
    "vals, idcs"
   ]
  },
  {
   "cell_type": "code",
   "execution_count": null,
   "id": "d02e2892-5774-4c30-be83-9bbb1f09c97f",
   "metadata": {
    "scrolled": true
   },
   "outputs": [],
   "source": [
    "concept_an.gen_and_print(idcs, vals, layer, with_text=True, limit=100)"
   ]
  },
  {
   "cell_type": "code",
   "execution_count": null,
   "id": "502c48be-e661-4e27-b30a-a6dc418c2cb1",
   "metadata": {},
   "outputs": [],
   "source": [
    "v11_GF = concept_an.v_FG[layer][t_idcs[1]]\n",
    "vals, idcs = topK(v11_GF, v11_GF.shape[0])\n",
    "vals, idcs"
   ]
  },
  {
   "cell_type": "code",
   "execution_count": null,
   "id": "0e68d981-1c26-4a11-8a21-b67732998ce6",
   "metadata": {
    "scrolled": true
   },
   "outputs": [],
   "source": [
    "concept_an.gen_and_print(idcs, vals, layer, with_text=True, limit=10)"
   ]
  },
  {
   "cell_type": "code",
   "execution_count": null,
   "id": "237fc6e2-a198-4c03-a727-677b7be748fe",
   "metadata": {},
   "outputs": [],
   "source": [
    "v11_GF = concept_an.v_FG[layer][t_idcs[2]]\n",
    "vals, idcs = topK(v11_GF, v11_GF.shape[0])\n",
    "vals, idcs"
   ]
  },
  {
   "cell_type": "code",
   "execution_count": null,
   "id": "39cc0592-fa5f-4886-abe7-47a6cf128f7c",
   "metadata": {
    "scrolled": true
   },
   "outputs": [],
   "source": [
    "c = concept_an.gen_and_print(idcs, vals, layer, with_text=True, limit=10)"
   ]
  },
  {
   "cell_type": "code",
   "execution_count": null,
   "id": "af9107dc-51e2-46b6-b90e-1e30a26f1eb8",
   "metadata": {
    "scrolled": true
   },
   "outputs": [],
   "source": [
    "concept_an.gen_and_print([2094, 10988, 10533], [20, 14, 12], layer, with_text=True, limit=100)"
   ]
  },
  {
   "cell_type": "code",
   "execution_count": null,
   "id": "8b28de01-0b76-485b-a0db-1e3fac5a67ec",
   "metadata": {
    "scrolled": true
   },
   "outputs": [],
   "source": [
    "concept_an.gen_and_print(idcs[1:2], vals[1:2], layer, with_text=True, limit=100)"
   ]
  },
  {
   "cell_type": "code",
   "execution_count": null,
   "id": "3430a09b-3ba8-4393-af58-2199984b82ba",
   "metadata": {},
   "outputs": [],
   "source": [
    "v_1 = concept_an.v_FG[layer][t_idcs[0]]\n",
    "v_2 = concept_an.v_FG[layer][t_idcs[1]]\n",
    "v_3 = concept_an.v_FG[layer][t_idcs[2]]\n",
    "# v_meet = meet(v_1, v_2)\n",
    "# v_meet = meet(v_1, v_3)\n",
    "v_meet = meet(v_2, v_3)\n",
    "# v_meet = meet(v_meet, v_3)\n",
    "vals, idcs = topK(v_meet, v_meet.shape[0])\n",
    "vals, idcs"
   ]
  },
  {
   "cell_type": "code",
   "execution_count": null,
   "id": "171dcfab-b962-4aef-ad6d-fd70f0e8c55c",
   "metadata": {},
   "outputs": [],
   "source": [
    "concept_an.gen_and_print(idcs, vals, layer, with_text=True, limit=10)"
   ]
  },
  {
   "cell_type": "code",
   "execution_count": null,
   "id": "17a6a0c5-e342-47d8-a204-7c2926c1eb0a",
   "metadata": {},
   "outputs": [],
   "source": [
    "v_1 = concept_an.v_FG[layer][t_idcs[0]]\n",
    "v_2 = concept_an.v_FG[layer][t_idcs[1]]\n",
    "v_3 = concept_an.v_FG[layer][t_idcs[2]]\n",
    "v_meet = meet(v_1, v_2)\n",
    "# v_meet = meet(v_1, v_3)\n",
    "# v_meet = meet(v_2, v_3)\n",
    "# v_meet = meet(v_meet, v_3)\n",
    "vals, idcs = topK(v_meet, v_meet.shape[0])\n",
    "vals, idcs"
   ]
  },
  {
   "cell_type": "code",
   "execution_count": null,
   "id": "8802a74d-4467-44e8-9d42-d0a45ad36e31",
   "metadata": {
    "scrolled": true
   },
   "outputs": [],
   "source": [
    "concept_an.gen_and_print(idcs, vals, layer, with_text=True, limit=10)"
   ]
  },
  {
   "cell_type": "code",
   "execution_count": null,
   "id": "21e406a2-7efd-4b22-a388-4e7546fb39d1",
   "metadata": {},
   "outputs": [],
   "source": [
    "v_1 = concept_an.v_FG[layer][t_idcs[0]]\n",
    "v_2 = concept_an.v_FG[layer][t_idcs[1]]\n",
    "v_3 = concept_an.v_FG[layer][t_idcs[2]]\n",
    "# v_meet = meet(v_1, v_2)\n",
    "v_meet = meet(v_1, v_3)\n",
    "# v_meet = meet(v_2, v_3)\n",
    "# v_meet = meet(v_meet, v_3)\n",
    "vals, idcs = topK(v_meet, v_meet.shape[0])\n",
    "vals, idcs"
   ]
  },
  {
   "cell_type": "code",
   "execution_count": null,
   "id": "867b5073-0e1d-4491-9614-6fd74d367d0b",
   "metadata": {
    "scrolled": true
   },
   "outputs": [],
   "source": [
    "concept_an.gen_and_print(idcs, vals, layer, with_text=True, limit=100)"
   ]
  },
  {
   "cell_type": "code",
   "execution_count": null,
   "id": "34c78e3a-8ed2-43af-b5ec-9cb059c409fc",
   "metadata": {},
   "outputs": [],
   "source": []
  },
  {
   "cell_type": "markdown",
   "id": "68144825-dcba-4dad-96d7-340b8d1b95dd",
   "metadata": {},
   "source": [
    "## Rio de Janeiro"
   ]
  },
  {
   "cell_type": "code",
   "execution_count": null,
   "id": "e605f023-0b28-4a93-b466-d611ecceae0a",
   "metadata": {},
   "outputs": [],
   "source": [
    "text = tr_analyzer.texts(5411)\n",
    "text"
   ]
  },
  {
   "cell_type": "code",
   "execution_count": null,
   "id": "3841001e-3431-4cc7-b0a7-ac82ed562184",
   "metadata": {},
   "outputs": [],
   "source": [
    "concept_an = ConceptAnalysis(text, tr_analyzer)"
   ]
  },
  {
   "cell_type": "code",
   "execution_count": null,
   "id": "9cc54792-a0fd-4171-a3a1-12cc5fc129d2",
   "metadata": {
    "scrolled": true
   },
   "outputs": [],
   "source": [
    "concept_an.analyze_concepts()"
   ]
  },
  {
   "cell_type": "code",
   "execution_count": null,
   "id": "106a557e-6a5f-46c3-aff6-4e0069cd68b1",
   "metadata": {},
   "outputs": [],
   "source": [
    "t_idcs = [2, 3]\n",
    "t_idcs = [1]\n",
    "# t_idcs = [2]\n",
    "t_idcs = [15, 26, 17]"
   ]
  },
  {
   "cell_type": "code",
   "execution_count": null,
   "id": "e54ab5d0-b509-4826-bfe8-f86ce297ea1b",
   "metadata": {},
   "outputs": [],
   "source": [
    "layer = 0"
   ]
  },
  {
   "cell_type": "code",
   "execution_count": null,
   "id": "d4331136-711c-403e-83ca-2f6a32df6e7e",
   "metadata": {
    "scrolled": true
   },
   "outputs": [],
   "source": [
    "concept_an.gen_text(t_idcs, layer)"
   ]
  },
  {
   "cell_type": "code",
   "execution_count": null,
   "id": "9015aa61-2825-44df-a22d-867633a06415",
   "metadata": {},
   "outputs": [],
   "source": [
    "v0_GF = concept_an.v_FG[layer][t_idcs[0]]\n",
    "vals, idcs = topK(v0_GF, v0_GF.shape[0])\n",
    "vals, idcs"
   ]
  },
  {
   "cell_type": "code",
   "execution_count": null,
   "id": "0832db57-19b9-499a-a4fe-1bc867f04f26",
   "metadata": {
    "scrolled": true
   },
   "outputs": [],
   "source": [
    "concept_an.gen_and_print(idcs, vals, layer, with_text=True, limit=10)"
   ]
  },
  {
   "cell_type": "code",
   "execution_count": null,
   "id": "48585548-d5be-4b18-9582-83195f0fee47",
   "metadata": {},
   "outputs": [],
   "source": [
    "v0_GF = concept_an.v_FG[layer][t_idcs[1]]\n",
    "vals, idcs = topK(v0_GF, v0_GF.shape[0])\n",
    "vals, idcs"
   ]
  },
  {
   "cell_type": "code",
   "execution_count": null,
   "id": "cec83900-939f-4b8d-b781-730cc74cc6b1",
   "metadata": {
    "scrolled": true
   },
   "outputs": [],
   "source": [
    "concept_an.gen_and_print(idcs, vals, layer, with_text=True, limit=10)"
   ]
  },
  {
   "cell_type": "code",
   "execution_count": null,
   "id": "7cff404e-5a90-47b6-862b-f1e753b34d1a",
   "metadata": {},
   "outputs": [],
   "source": [
    "v0_GF = concept_an.v_FG[layer][t_idcs[2]]\n",
    "vals, idcs = topK(v0_GF, v0_GF.shape[0])\n",
    "vals, idcs"
   ]
  },
  {
   "cell_type": "code",
   "execution_count": null,
   "id": "3695a074-f81d-432f-870e-97191bef579b",
   "metadata": {
    "scrolled": true
   },
   "outputs": [],
   "source": [
    "concept_an.gen_and_print(idcs, vals, layer, with_text=True, limit=10)"
   ]
  },
  {
   "cell_type": "code",
   "execution_count": null,
   "id": "5e0e81d6-b3b3-4490-8af7-2a7bd135ca4b",
   "metadata": {},
   "outputs": [],
   "source": [
    "v_1 = concept_an.v_FG[layer][t_idcs[0]]\n",
    "v_2 = concept_an.v_FG[layer][t_idcs[1]]\n",
    "v_3 = concept_an.v_FG[layer][t_idcs[2]]\n",
    "v_meet = meet(v_1, v_2)\n",
    "v_meet = meet(v_meet, v_3)\n",
    "vals, idcs = topK(v_meet, v_meet.shape[0])\n",
    "vals, idcs"
   ]
  },
  {
   "cell_type": "code",
   "execution_count": null,
   "id": "56f2c4ca-6ee7-4e3b-b624-414f4843fba4",
   "metadata": {
    "scrolled": true
   },
   "outputs": [],
   "source": [
    "c = concept_an.gen_and_print(idcs, vals, layer, with_text=True, limit=10)"
   ]
  },
  {
   "cell_type": "code",
   "execution_count": null,
   "id": "e0ae0bf1-99cd-44e6-aa4d-2cc52fbc15e7",
   "metadata": {},
   "outputs": [],
   "source": [
    "v_1 = concept_an.v_FG[layer][t_idcs[0]]\n",
    "v_2 = concept_an.v_FG[layer][t_idcs[1]]\n",
    "v_3 = concept_an.v_FG[layer][t_idcs[2]]\n",
    "# v_meet = meet(v_1, v_2)\n",
    "# v_meet = meet(v_1, v_3)\n",
    "v_meet = meet(v_2, v_3)\n",
    "# v_meet = meet(v_meet, v_3)\n",
    "vals, idcs = topK(v_meet, v_meet.shape[0])\n",
    "vals, idcs"
   ]
  },
  {
   "cell_type": "code",
   "execution_count": null,
   "id": "2d7fdd0b-8836-468c-88fc-8f4b5b065d61",
   "metadata": {
    "scrolled": true
   },
   "outputs": [],
   "source": [
    "concept_an.gen_and_print(idcs, vals, layer, with_text=True, limit=10)"
   ]
  },
  {
   "cell_type": "code",
   "execution_count": null,
   "id": "d06c0ed5-3cbc-40dd-b9ae-e2b4caa737fc",
   "metadata": {},
   "outputs": [],
   "source": [
    "v_1 = concept_an.v_FG[layer][t_idcs[0]]\n",
    "v_2 = concept_an.v_FG[layer][t_idcs[1]]\n",
    "v_3 = concept_an.v_FG[layer][t_idcs[2]]\n",
    "v_meet = meet(v_1, v_2)\n",
    "# v_meet = meet(v_1, v_3)\n",
    "# v_meet = meet(v_2, v_3)\n",
    "# v_meet = meet(v_meet, v_3)\n",
    "vals, idcs = topK(v_meet, v_meet.shape[0])\n",
    "vals, idcs"
   ]
  },
  {
   "cell_type": "code",
   "execution_count": null,
   "id": "7aa87051-ae40-47f0-a475-b01a8bcb6537",
   "metadata": {
    "scrolled": true
   },
   "outputs": [],
   "source": [
    "concept_an.gen_and_print(idcs, vals, layer, with_text=True, limit=10)"
   ]
  },
  {
   "cell_type": "code",
   "execution_count": null,
   "id": "7477bacd-100f-44cc-919a-9a4241b323b1",
   "metadata": {},
   "outputs": [],
   "source": [
    "v_1 = concept_an.v_FG[layer][t_idcs[0]]\n",
    "v_2 = concept_an.v_FG[layer][t_idcs[1]]\n",
    "v_3 = concept_an.v_FG[layer][t_idcs[2]]\n",
    "# v_meet = meet(v_1, v_2)\n",
    "v_meet = meet(v_1, v_3)\n",
    "# v_meet = meet(v_2, v_3)\n",
    "# v_meet = meet(v_meet, v_3)\n",
    "vals, idcs = topK(v_meet, v_meet.shape[0])\n",
    "vals, idcs"
   ]
  },
  {
   "cell_type": "code",
   "execution_count": null,
   "id": "aa9db98e-9bfd-4249-805e-4dcaa602f2e1",
   "metadata": {
    "scrolled": true
   },
   "outputs": [],
   "source": [
    "concept_an.gen_and_print(idcs, vals, layer, with_text=True, limit=10)"
   ]
  },
  {
   "cell_type": "code",
   "execution_count": null,
   "id": "b02febd4-bc1a-4fcd-8d53-a6a368dce909",
   "metadata": {},
   "outputs": [],
   "source": [
    "layer = 8"
   ]
  },
  {
   "cell_type": "code",
   "execution_count": null,
   "id": "1878ca6b-e597-4482-a4e7-4e5114d214ca",
   "metadata": {
    "scrolled": true
   },
   "outputs": [],
   "source": [
    "concept_an.gen_text(t_idcs, layer)"
   ]
  },
  {
   "cell_type": "code",
   "execution_count": null,
   "id": "82249795-9723-41d3-8ded-90a16efd102e",
   "metadata": {},
   "outputs": [],
   "source": [
    "v8_GF = concept_an.v_FG[layer][t_idcs[0]]\n",
    "vals, idcs = topK(v8_GF, v8_GF.shape[0])\n",
    "vals[:10], idcs[:10]"
   ]
  },
  {
   "cell_type": "code",
   "execution_count": null,
   "id": "71e7a8ee-60f5-4065-9963-5146f03a88dd",
   "metadata": {
    "scrolled": true
   },
   "outputs": [],
   "source": [
    "concept_an.gen_and_print(idcs, vals, layer, with_text=True, limit=10)"
   ]
  },
  {
   "cell_type": "code",
   "execution_count": null,
   "id": "71d494cb-6e21-4fa8-a9df-e6a76ee81809",
   "metadata": {
    "scrolled": true
   },
   "outputs": [],
   "source": [
    "concept_an.gen_and_print(idcs[1:], vals[1:], layer, with_text=True, limit=10)"
   ]
  },
  {
   "cell_type": "code",
   "execution_count": null,
   "id": "5148823d-8549-4d96-b18d-e056f8aecb56",
   "metadata": {},
   "outputs": [],
   "source": [
    "v8_GF = concept_an.v_FG[layer][t_idcs[1]]\n",
    "vals, idcs = topK(v8_GF, v8_GF.shape[0])\n",
    "vals, idcs"
   ]
  },
  {
   "cell_type": "code",
   "execution_count": null,
   "id": "9f32ea07-debb-42e3-9e71-3f3ec74ad0ba",
   "metadata": {
    "scrolled": true
   },
   "outputs": [],
   "source": [
    "concept_an.gen_and_print(idcs, vals, layer, with_text=True, limit=10)"
   ]
  },
  {
   "cell_type": "code",
   "execution_count": null,
   "id": "ec6d5c39-8609-4b42-9ad4-04d9791f1cd7",
   "metadata": {},
   "outputs": [],
   "source": [
    "v8_GF = concept_an.v_FG[layer][t_idcs[2]]\n",
    "vals, idcs = topK(v8_GF, v8_GF.shape[0])\n",
    "vals, idcs"
   ]
  },
  {
   "cell_type": "code",
   "execution_count": null,
   "id": "1e85f801-de67-4bbf-8094-ee1ba0cebe86",
   "metadata": {
    "scrolled": true
   },
   "outputs": [],
   "source": [
    "concept_an.gen_and_print(idcs, vals, layer, with_text=True, limit=10)"
   ]
  },
  {
   "cell_type": "code",
   "execution_count": null,
   "id": "154ed7e5-595f-4d6e-9b55-0899e9c65662",
   "metadata": {},
   "outputs": [],
   "source": [
    "v_1 = concept_an.v_FG[layer][t_idcs[0]]\n",
    "v_2 = concept_an.v_FG[layer][t_idcs[1]]\n",
    "v_3 = concept_an.v_FG[layer][t_idcs[2]]\n",
    "v_meet = meet(v_1, v_2)\n",
    "v_meet = meet(v_meet, v_3)\n",
    "vals, idcs = topK(v_meet, v_meet.shape[0])\n",
    "vals, idcs"
   ]
  },
  {
   "cell_type": "code",
   "execution_count": null,
   "id": "315bd037-165d-4ed1-b854-e67fb55bf6ee",
   "metadata": {
    "scrolled": true
   },
   "outputs": [],
   "source": [
    "concept_an.gen_and_print([16679, 10130, 20994], [12, 9, 9], layer, with_text=True, limit=10)"
   ]
  },
  {
   "cell_type": "code",
   "execution_count": null,
   "id": "56160af2-762e-49ed-9030-5591c9acbcef",
   "metadata": {},
   "outputs": [],
   "source": [
    "v_1 = concept_an.v_FG[layer][t_idcs[0]]\n",
    "v_2 = concept_an.v_FG[layer][t_idcs[1]]\n",
    "v_3 = concept_an.v_FG[layer][t_idcs[2]]\n",
    "# v_meet = meet(v_1, v_2)\n",
    "# v_meet = meet(v_1, v_3)\n",
    "v_meet = meet(v_2, v_3)\n",
    "# v_meet = meet(v_meet, v_3)\n",
    "vals, idcs = topK(v_meet, v_meet.shape[0])\n",
    "vals, idcs"
   ]
  },
  {
   "cell_type": "code",
   "execution_count": null,
   "id": "d78b1320-8e0b-44d8-9863-7e10b85db4d0",
   "metadata": {},
   "outputs": [],
   "source": [
    "concept_an.gen_and_print(idcs, vals, layer, with_text=True, limit=10)"
   ]
  },
  {
   "cell_type": "code",
   "execution_count": null,
   "id": "7fcfda40-c93f-461b-9a15-456c253fcec5",
   "metadata": {},
   "outputs": [],
   "source": [
    "v_1 = concept_an.v_FG[layer][t_idcs[0]]\n",
    "v_2 = concept_an.v_FG[layer][t_idcs[1]]\n",
    "v_3 = concept_an.v_FG[layer][t_idcs[2]]\n",
    "v_meet = meet(v_1, v_2)\n",
    "# v_meet = meet(v_1, v_3)\n",
    "# v_meet = meet(v_2, v_3)\n",
    "# v_meet = meet(v_meet, v_3)\n",
    "vals, idcs = topK(v_meet, v_meet.shape[0])\n",
    "vals, idcs"
   ]
  },
  {
   "cell_type": "code",
   "execution_count": null,
   "id": "5467a165-d797-42f4-8ed5-6dba468d2741",
   "metadata": {
    "scrolled": true
   },
   "outputs": [],
   "source": [
    "concept_an.gen_and_print(idcs, vals, layer, with_text=True, limit=10)"
   ]
  },
  {
   "cell_type": "code",
   "execution_count": null,
   "id": "109c66af-655d-45b9-8b9c-ce235eeee469",
   "metadata": {},
   "outputs": [],
   "source": [
    "v_1 = concept_an.v_FG[layer][t_idcs[0]]\n",
    "v_2 = concept_an.v_FG[layer][t_idcs[1]]\n",
    "v_3 = concept_an.v_FG[layer][t_idcs[2]]\n",
    "# v_meet = meet(v_1, v_2)\n",
    "v_meet = meet(v_1, v_3)\n",
    "# v_meet = meet(v_2, v_3)\n",
    "# v_meet = meet(v_meet, v_3)\n",
    "vals, idcs = topK(v_meet, v_meet.shape[0])\n",
    "vals, idcs"
   ]
  },
  {
   "cell_type": "code",
   "execution_count": null,
   "id": "4cff5bae-2522-4af4-8c77-ca74b50f24fd",
   "metadata": {
    "scrolled": true
   },
   "outputs": [],
   "source": [
    "concept_an.gen_and_print(idcs, vals, layer, with_text=True, limit=10)"
   ]
  },
  {
   "cell_type": "code",
   "execution_count": null,
   "id": "7cbff525-4327-4efa-92fb-b168462d6007",
   "metadata": {},
   "outputs": [],
   "source": [
    "layer = 11"
   ]
  },
  {
   "cell_type": "code",
   "execution_count": null,
   "id": "10028f90-2625-4794-864f-0c5688730853",
   "metadata": {
    "scrolled": true
   },
   "outputs": [],
   "source": [
    "concept_an.gen_text(t_idcs, layer)"
   ]
  },
  {
   "cell_type": "code",
   "execution_count": null,
   "id": "6d32bff8-5ef1-4020-9169-6c682a8233e5",
   "metadata": {},
   "outputs": [],
   "source": [
    "v11_GF = concept_an.v_FG[layer][t_idcs[0]]\n",
    "vals, idcs = topK(v11_GF, v11_GF.shape[0])\n",
    "vals, idcs"
   ]
  },
  {
   "cell_type": "code",
   "execution_count": null,
   "id": "dea5cf82-75a9-4e3f-83a8-b28c6de3ad5d",
   "metadata": {
    "scrolled": true
   },
   "outputs": [],
   "source": [
    "concept_an.gen_and_print(idcs, vals, layer, with_text=True, limit=10)"
   ]
  },
  {
   "cell_type": "code",
   "execution_count": null,
   "id": "07d8d280-89f1-483f-be5b-344cf29078b9",
   "metadata": {},
   "outputs": [],
   "source": [
    "v11_GF = concept_an.v_FG[layer][t_idcs[1]]\n",
    "vals, idcs = topK(v11_GF, v11_GF.shape[0])\n",
    "vals, idcs"
   ]
  },
  {
   "cell_type": "code",
   "execution_count": null,
   "id": "d1fee514-2b89-4166-addc-c75b7054e1a3",
   "metadata": {
    "scrolled": true
   },
   "outputs": [],
   "source": [
    "c = concept_an.gen_and_print(idcs, vals, layer, with_text=True, limit=10)"
   ]
  },
  {
   "cell_type": "code",
   "execution_count": null,
   "id": "e9c29391-de9a-4be9-9e4a-e7ba6ffe4105",
   "metadata": {},
   "outputs": [],
   "source": [
    "v11_GF = concept_an.v_FG[layer][t_idcs[2]]\n",
    "vals, idcs = topK(v11_GF, v11_GF.shape[0])\n",
    "vals, idcs"
   ]
  },
  {
   "cell_type": "code",
   "execution_count": null,
   "id": "f65d3808-11c3-443f-aa69-1185b4d96ce1",
   "metadata": {
    "scrolled": true
   },
   "outputs": [],
   "source": [
    "concept_an.gen_and_print(idcs, vals, layer, with_text=True, limit=10)"
   ]
  },
  {
   "cell_type": "code",
   "execution_count": null,
   "id": "5613521c-d8a3-462d-b307-786869be1f3b",
   "metadata": {
    "scrolled": true
   },
   "outputs": [],
   "source": [
    "concept_an.gen_and_print(idcs[1:2], vals[1:2], layer, with_text=True, limit=10)"
   ]
  },
  {
   "cell_type": "code",
   "execution_count": null,
   "id": "84ddba1e-6453-4cdd-96e7-f96775ba495a",
   "metadata": {},
   "outputs": [],
   "source": [
    "v_1 = concept_an.v_FG[layer][t_idcs[0]]\n",
    "v_2 = concept_an.v_FG[layer][t_idcs[1]]\n",
    "v_3 = concept_an.v_FG[layer][t_idcs[2]]\n",
    "# v_meet = meet(v_1, v_2)\n",
    "# v_meet = meet(v_1, v_3)\n",
    "v_meet = meet(v_2, v_3)\n",
    "# v_meet = meet(v_meet, v_3)\n",
    "vals, idcs = topK(v_meet, v_meet.shape[0])\n",
    "vals, idcs"
   ]
  },
  {
   "cell_type": "code",
   "execution_count": null,
   "id": "27e62875-1d7f-4382-a9d6-ff8188181ab2",
   "metadata": {
    "scrolled": true
   },
   "outputs": [],
   "source": [
    "concept_an.gen_and_print(idcs, vals, layer, with_text=True, limit=10)"
   ]
  },
  {
   "cell_type": "code",
   "execution_count": null,
   "id": "84fd8924-879d-4da2-8b34-63a329e9a1d8",
   "metadata": {},
   "outputs": [],
   "source": [
    "v_1 = concept_an.v_FG[layer][t_idcs[0]]\n",
    "v_2 = concept_an.v_FG[layer][t_idcs[1]]\n",
    "v_3 = concept_an.v_FG[layer][t_idcs[2]]\n",
    "v_meet = meet(v_1, v_2)\n",
    "# v_meet = meet(v_1, v_3)\n",
    "# v_meet = meet(v_2, v_3)\n",
    "# v_meet = meet(v_meet, v_3)\n",
    "vals, idcs = topK(v_meet, v_meet.shape[0])\n",
    "vals, idcs"
   ]
  },
  {
   "cell_type": "code",
   "execution_count": null,
   "id": "2205b602-3936-4d27-989c-f934c09ebfbd",
   "metadata": {
    "scrolled": true
   },
   "outputs": [],
   "source": [
    "c = concept_an.gen_and_print(idcs, vals, layer, with_text=True, limit=10)"
   ]
  },
  {
   "cell_type": "code",
   "execution_count": null,
   "id": "be934091-e233-474a-890b-dbb35cf9de50",
   "metadata": {},
   "outputs": [],
   "source": [
    "v_1 = concept_an.v_FG[layer][t_idcs[0]]\n",
    "v_2 = concept_an.v_FG[layer][t_idcs[1]]\n",
    "v_3 = concept_an.v_FG[layer][t_idcs[2]]\n",
    "# v_meet = meet(v_1, v_2)\n",
    "v_meet = meet(v_1, v_3)\n",
    "# v_meet = meet(v_2, v_3)\n",
    "# v_meet = meet(v_meet, v_3)\n",
    "vals, idcs = topK(v_meet, v_meet.shape[0])\n",
    "vals, idcs"
   ]
  },
  {
   "cell_type": "code",
   "execution_count": null,
   "id": "181910ba-ed44-482d-a964-3463c46afffb",
   "metadata": {
    "scrolled": true
   },
   "outputs": [],
   "source": [
    "c = concept_an.gen_and_print(idcs, vals, layer, with_text=True, limit=12)"
   ]
  },
  {
   "cell_type": "code",
   "execution_count": null,
   "id": "9d6b488a-68b2-482a-bb01-7fc9937609c2",
   "metadata": {},
   "outputs": [],
   "source": []
  },
  {
   "cell_type": "markdown",
   "id": "5e8ca592-f1b8-4119-8e39-8f30285a0354",
   "metadata": {},
   "source": [
    "## Sport Teams Cleveland, Clippers, Cavaliers"
   ]
  },
  {
   "cell_type": "code",
   "execution_count": null,
   "id": "5bcc9084-52b6-4f05-8d84-453f5fc81243",
   "metadata": {},
   "outputs": [],
   "source": [
    "text = ' Los Angeles Clippers'\n",
    "text"
   ]
  },
  {
   "cell_type": "code",
   "execution_count": null,
   "id": "a922acba-39ae-43b8-a217-19e6795b2baf",
   "metadata": {},
   "outputs": [],
   "source": [
    "token_idx = 1924\n",
    "text = tr_analyzer.to_clean(tr_analyzer.tokens[token_idx])\n",
    "text"
   ]
  },
  {
   "cell_type": "code",
   "execution_count": null,
   "id": "30eae350-0031-49ba-948b-6de86b0f3c64",
   "metadata": {},
   "outputs": [],
   "source": [
    "concept_an = ConceptAnalysis(text, tr_analyzer)"
   ]
  },
  {
   "cell_type": "code",
   "execution_count": null,
   "id": "b8d7e9e9-04f9-41f8-b2ff-d41a7fc89c20",
   "metadata": {
    "scrolled": true
   },
   "outputs": [],
   "source": [
    "concept_an.analyze_concepts()"
   ]
  },
  {
   "cell_type": "code",
   "execution_count": null,
   "id": "68ad9937-c0f6-43a2-a3fb-333bd2f165d8",
   "metadata": {},
   "outputs": [],
   "source": [
    "t_idcs = [2, 3]\n",
    "t_idcs = [1]\n",
    "# t_idcs = [2]\n",
    "t_idcs = [15, 39, 94]"
   ]
  },
  {
   "cell_type": "code",
   "execution_count": null,
   "id": "2453dca5-7379-4762-b29f-30dc71c92cfd",
   "metadata": {},
   "outputs": [],
   "source": [
    "layer = 0"
   ]
  },
  {
   "cell_type": "code",
   "execution_count": null,
   "id": "522a835e-b103-4887-94a4-18d5bdc490cb",
   "metadata": {
    "scrolled": true
   },
   "outputs": [],
   "source": [
    "concept_an.gen_text(t_idcs, layer)"
   ]
  },
  {
   "cell_type": "code",
   "execution_count": null,
   "id": "9f16a5e7-c4bd-4e12-9a6e-f4f517ab4533",
   "metadata": {},
   "outputs": [],
   "source": [
    "v0_GF = concept_an.v_FG[layer][t_idcs[0]]\n",
    "vals, idcs = topK(v0_GF, v0_GF.shape[0])\n",
    "vals, idcs"
   ]
  },
  {
   "cell_type": "code",
   "execution_count": null,
   "id": "89bf44b1-622f-4699-90de-de4f2fff7fa5",
   "metadata": {
    "scrolled": true
   },
   "outputs": [],
   "source": [
    "concept_an.gen_and_print(idcs, vals, layer, with_text=True, limit=10)"
   ]
  },
  {
   "cell_type": "code",
   "execution_count": null,
   "id": "5f72263b-c795-40f8-bc3a-6604edd0484b",
   "metadata": {},
   "outputs": [],
   "source": [
    "v0_GF = concept_an.v_FG[layer][t_idcs[1]]\n",
    "vals, idcs = topK(v0_GF, v0_GF.shape[0])\n",
    "vals, idcs"
   ]
  },
  {
   "cell_type": "code",
   "execution_count": null,
   "id": "c0f1d1fb-45e4-4f78-b56c-82cb6a7d9599",
   "metadata": {
    "scrolled": true
   },
   "outputs": [],
   "source": [
    "concept_an.gen_and_print(idcs, vals, layer, with_text=True, limit=10)"
   ]
  },
  {
   "cell_type": "code",
   "execution_count": null,
   "id": "6baeaadd-13f3-4934-8bc3-7d8ccc8e8256",
   "metadata": {},
   "outputs": [],
   "source": [
    "v0_GF = concept_an.v_FG[layer][t_idcs[2]]\n",
    "vals, idcs = topK(v0_GF, v0_GF.shape[0])\n",
    "vals, idcs"
   ]
  },
  {
   "cell_type": "code",
   "execution_count": null,
   "id": "119a6dee-d422-4577-8485-8b58de7d0cb2",
   "metadata": {
    "scrolled": true
   },
   "outputs": [],
   "source": [
    "concept_an.gen_and_print(idcs, vals, layer, with_text=True, limit=10)"
   ]
  },
  {
   "cell_type": "code",
   "execution_count": null,
   "id": "63caa899-cb44-473e-8f25-2b17dab709cb",
   "metadata": {},
   "outputs": [],
   "source": [
    "v_1 = concept_an.v_FG[layer][t_idcs[0]]\n",
    "v_2 = concept_an.v_FG[layer][t_idcs[1]]\n",
    "v_3 = concept_an.v_FG[layer][t_idcs[2]]\n",
    "v_meet = meet(v_1, v_2)\n",
    "v_meet = meet(v_meet, v_3)\n",
    "vals, idcs = topK(v_meet, v_meet.shape[0])\n",
    "vals, idcs"
   ]
  },
  {
   "cell_type": "code",
   "execution_count": null,
   "id": "a847f8eb-741d-429e-a239-f896c7951780",
   "metadata": {
    "scrolled": true
   },
   "outputs": [],
   "source": [
    "concept_an.gen_and_print(idcs, vals, layer, with_text=True, limit=10)"
   ]
  },
  {
   "cell_type": "code",
   "execution_count": null,
   "id": "b5eb2eb4-bdbb-4ad5-ba54-ea815e0d604d",
   "metadata": {},
   "outputs": [],
   "source": [
    "v_1 = concept_an.v_FG[layer][t_idcs[0]]\n",
    "v_2 = concept_an.v_FG[layer][t_idcs[1]]\n",
    "v_3 = concept_an.v_FG[layer][t_idcs[2]]\n",
    "# v_meet = meet(v_1, v_2)\n",
    "# v_meet = meet(v_1, v_3)\n",
    "v_meet = meet(v_2, v_3)\n",
    "# v_meet = meet(v_meet, v_3)\n",
    "vals, idcs = topK(v_meet, v_meet.shape[0])\n",
    "vals, idcs"
   ]
  },
  {
   "cell_type": "code",
   "execution_count": null,
   "id": "38a180cf-f958-40f8-aa69-97143ee51783",
   "metadata": {
    "scrolled": true
   },
   "outputs": [],
   "source": [
    "concept_an.gen_and_print(idcs, vals, layer, with_text=True, limit=10)"
   ]
  },
  {
   "cell_type": "code",
   "execution_count": null,
   "id": "20ebef1f-34fb-4493-9046-78cb270beb24",
   "metadata": {},
   "outputs": [],
   "source": [
    "v_1 = concept_an.v_FG[layer][t_idcs[0]]\n",
    "v_2 = concept_an.v_FG[layer][t_idcs[1]]\n",
    "v_3 = concept_an.v_FG[layer][t_idcs[2]]\n",
    "v_meet = meet(v_1, v_2)\n",
    "# v_meet = meet(v_1, v_3)\n",
    "# v_meet = meet(v_2, v_3)\n",
    "# v_meet = meet(v_meet, v_3)\n",
    "vals, idcs = topK(v_meet, v_meet.shape[0])\n",
    "vals, idcs"
   ]
  },
  {
   "cell_type": "code",
   "execution_count": null,
   "id": "1a9ae083-abc1-482d-a606-e20c9f3e2de2",
   "metadata": {
    "scrolled": true
   },
   "outputs": [],
   "source": [
    "concept_an.gen_and_print(idcs, vals, layer, with_text=True, limit=10)"
   ]
  },
  {
   "cell_type": "code",
   "execution_count": null,
   "id": "6a23a04d-7aad-4d96-8461-166d1b520da6",
   "metadata": {},
   "outputs": [],
   "source": [
    "v_1 = concept_an.v_FG[layer][t_idcs[0]]\n",
    "v_2 = concept_an.v_FG[layer][t_idcs[1]]\n",
    "v_3 = concept_an.v_FG[layer][t_idcs[2]]\n",
    "# v_meet = meet(v_1, v_2)\n",
    "v_meet = meet(v_1, v_3)\n",
    "# v_meet = meet(v_2, v_3)\n",
    "# v_meet = meet(v_meet, v_3)\n",
    "vals, idcs = topK(v_meet, v_meet.shape[0])\n",
    "vals, idcs"
   ]
  },
  {
   "cell_type": "code",
   "execution_count": null,
   "id": "2c3f66ac-bad8-473d-ae5b-1e042cbf867b",
   "metadata": {
    "scrolled": true
   },
   "outputs": [],
   "source": [
    "concept_an.gen_and_print(idcs, vals, layer, with_text=True, limit=10)"
   ]
  },
  {
   "cell_type": "code",
   "execution_count": null,
   "id": "4ae2495c-a182-4b81-82ee-44eaa194f3af",
   "metadata": {},
   "outputs": [],
   "source": [
    "layer = 8"
   ]
  },
  {
   "cell_type": "code",
   "execution_count": null,
   "id": "942a52b5-f4b3-4563-b509-ade53198e810",
   "metadata": {
    "scrolled": true
   },
   "outputs": [],
   "source": [
    "concept_an.gen_text(t_idcs, layer)"
   ]
  },
  {
   "cell_type": "code",
   "execution_count": null,
   "id": "7e0eabfc-ddc2-41d4-97ac-47b1e0528e6d",
   "metadata": {},
   "outputs": [],
   "source": [
    "v8_GF = concept_an.v_FG[layer][t_idcs[0]]\n",
    "vals, idcs = topK(v8_GF, v8_GF.shape[0])\n",
    "vals[:10], idcs[:10]"
   ]
  },
  {
   "cell_type": "code",
   "execution_count": null,
   "id": "36b8e6c2-ecf6-4852-9d14-ab9b9fd5aaa3",
   "metadata": {
    "scrolled": true
   },
   "outputs": [],
   "source": [
    "concept_an.gen_and_print(idcs, vals, layer, with_text=True, limit=10)"
   ]
  },
  {
   "cell_type": "code",
   "execution_count": null,
   "id": "700ce595-7860-4271-9e2b-d88b46ed7377",
   "metadata": {
    "scrolled": true
   },
   "outputs": [],
   "source": [
    "concept_an.gen_and_print(idcs[1:], vals[1:], layer, with_text=True, limit=10)"
   ]
  },
  {
   "cell_type": "code",
   "execution_count": null,
   "id": "eefee49d-f499-4062-abe1-c9667177c4a2",
   "metadata": {},
   "outputs": [],
   "source": [
    "v8_GF = concept_an.v_FG[layer][t_idcs[1]]\n",
    "vals, idcs = topK(v8_GF, v8_GF.shape[0])\n",
    "vals, idcs"
   ]
  },
  {
   "cell_type": "code",
   "execution_count": null,
   "id": "ea0dafa6-a248-4c47-9856-a0ec297fcf9d",
   "metadata": {
    "scrolled": true
   },
   "outputs": [],
   "source": [
    "concept_an.gen_and_print(idcs, vals, layer, with_text=True, limit=10)"
   ]
  },
  {
   "cell_type": "code",
   "execution_count": null,
   "id": "003aa4dc-6e5d-48e7-ba3b-5c98c6e2173b",
   "metadata": {},
   "outputs": [],
   "source": [
    "v8_GF = concept_an.v_FG[layer][t_idcs[2]]\n",
    "vals, idcs = topK(v8_GF, v8_GF.shape[0])\n",
    "vals, idcs"
   ]
  },
  {
   "cell_type": "code",
   "execution_count": null,
   "id": "1e2c249f-18e1-402c-9b91-5ad0e9ae7b29",
   "metadata": {
    "scrolled": true
   },
   "outputs": [],
   "source": [
    "concept_an.gen_and_print(idcs, vals, layer, with_text=True, limit=10)"
   ]
  },
  {
   "cell_type": "code",
   "execution_count": null,
   "id": "b0f8c8b1-4d26-4af1-8679-c8a531a2341e",
   "metadata": {},
   "outputs": [],
   "source": [
    "v_1 = concept_an.v_FG[layer][t_idcs[0]]\n",
    "v_2 = concept_an.v_FG[layer][t_idcs[1]]\n",
    "v_3 = concept_an.v_FG[layer][t_idcs[2]]\n",
    "v_meet = meet(v_1, v_2)\n",
    "v_meet = meet(v_meet, v_3)\n",
    "vals, idcs = topK(v_meet, v_meet.shape[0])\n",
    "vals, idcs"
   ]
  },
  {
   "cell_type": "code",
   "execution_count": null,
   "id": "4f09796b-77c1-4a65-943b-7a3a21839910",
   "metadata": {
    "scrolled": true
   },
   "outputs": [],
   "source": [
    "concept_an.gen_and_print([16679, 10130, 20994], [12, 9, 9], layer, with_text=True, limit=10)"
   ]
  },
  {
   "cell_type": "code",
   "execution_count": null,
   "id": "0969ee67-75d3-43ad-bc97-0e1f722653c6",
   "metadata": {},
   "outputs": [],
   "source": [
    "v_1 = concept_an.v_FG[layer][t_idcs[0]]\n",
    "v_2 = concept_an.v_FG[layer][t_idcs[1]]\n",
    "v_3 = concept_an.v_FG[layer][t_idcs[2]]\n",
    "# v_meet = meet(v_1, v_2)\n",
    "# v_meet = meet(v_1, v_3)\n",
    "v_meet = meet(v_2, v_3)\n",
    "# v_meet = meet(v_meet, v_3)\n",
    "vals, idcs = topK(v_meet, v_meet.shape[0])\n",
    "vals, idcs"
   ]
  },
  {
   "cell_type": "code",
   "execution_count": null,
   "id": "e515aebc-90cd-4ee4-a60d-57e335940772",
   "metadata": {
    "scrolled": true
   },
   "outputs": [],
   "source": [
    "concept_an.gen_and_print(idcs, vals, layer, with_text=True, limit=10)"
   ]
  },
  {
   "cell_type": "code",
   "execution_count": null,
   "id": "72262ca2-af70-4bcd-90eb-94076ad9084e",
   "metadata": {},
   "outputs": [],
   "source": [
    "v_1 = concept_an.v_FG[layer][t_idcs[0]]\n",
    "v_2 = concept_an.v_FG[layer][t_idcs[1]]\n",
    "v_3 = concept_an.v_FG[layer][t_idcs[2]]\n",
    "v_meet = meet(v_1, v_2)\n",
    "# v_meet = meet(v_1, v_3)\n",
    "# v_meet = meet(v_2, v_3)\n",
    "# v_meet = meet(v_meet, v_3)\n",
    "vals, idcs = topK(v_meet, v_meet.shape[0])\n",
    "vals, idcs"
   ]
  },
  {
   "cell_type": "code",
   "execution_count": null,
   "id": "ad95cb28-6da7-4bf4-9832-b235141eedda",
   "metadata": {
    "scrolled": true
   },
   "outputs": [],
   "source": [
    "concept_an.gen_and_print(idcs, vals, layer, with_text=True, limit=10)"
   ]
  },
  {
   "cell_type": "code",
   "execution_count": null,
   "id": "1618dc82-5c62-46dd-a36c-dc32a1108694",
   "metadata": {},
   "outputs": [],
   "source": [
    "v_1 = concept_an.v_FG[layer][t_idcs[0]]\n",
    "v_2 = concept_an.v_FG[layer][t_idcs[1]]\n",
    "v_3 = concept_an.v_FG[layer][t_idcs[2]]\n",
    "# v_meet = meet(v_1, v_2)\n",
    "v_meet = meet(v_1, v_3)\n",
    "# v_meet = meet(v_2, v_3)\n",
    "# v_meet = meet(v_meet, v_3)\n",
    "vals, idcs = topK(v_meet, v_meet.shape[0])\n",
    "vals, idcs"
   ]
  },
  {
   "cell_type": "code",
   "execution_count": null,
   "id": "814c3724-c5a8-4f7b-83b0-b9851f7c577d",
   "metadata": {
    "scrolled": true
   },
   "outputs": [],
   "source": [
    "concept_an.gen_and_print(idcs, vals, layer, with_text=True, limit=10)"
   ]
  },
  {
   "cell_type": "code",
   "execution_count": null,
   "id": "78445290-450c-4467-a7e4-0924d4c072e2",
   "metadata": {},
   "outputs": [],
   "source": [
    "layer = 11"
   ]
  },
  {
   "cell_type": "code",
   "execution_count": null,
   "id": "b381a71c-2a97-4677-954c-5e2cddc2e844",
   "metadata": {
    "scrolled": true
   },
   "outputs": [],
   "source": [
    "concept_an.gen_text(t_idcs, layer)"
   ]
  },
  {
   "cell_type": "code",
   "execution_count": null,
   "id": "8c80693b-720e-43f7-8a4b-d8e1a63a2a63",
   "metadata": {},
   "outputs": [],
   "source": [
    "v11_GF = concept_an.v_FG[layer][t_idcs[0]]\n",
    "vals, idcs = topK(v11_GF, v11_GF.shape[0])\n",
    "vals, idcs"
   ]
  },
  {
   "cell_type": "code",
   "execution_count": null,
   "id": "12a6913e-66ea-4c64-a208-16577b86e44c",
   "metadata": {
    "scrolled": true
   },
   "outputs": [],
   "source": [
    "concept_an.gen_and_print(idcs, vals, layer, with_text=True, limit=10)"
   ]
  },
  {
   "cell_type": "code",
   "execution_count": null,
   "id": "9b09a4f9-ec47-4284-a9f1-e59c454bfc19",
   "metadata": {},
   "outputs": [],
   "source": [
    "v11_GF = concept_an.v_FG[layer][t_idcs[1]]\n",
    "vals, idcs = topK(v11_GF, v11_GF.shape[0])\n",
    "vals, idcs"
   ]
  },
  {
   "cell_type": "code",
   "execution_count": null,
   "id": "52024208-2a26-4d79-bf5a-8bb3f20da283",
   "metadata": {
    "scrolled": true
   },
   "outputs": [],
   "source": [
    "concept_an.gen_and_print(idcs, vals, layer, with_text=True, limit=10)"
   ]
  },
  {
   "cell_type": "code",
   "execution_count": null,
   "id": "e40cee83-55f7-4bcf-bdb1-cd97183e91fe",
   "metadata": {},
   "outputs": [],
   "source": [
    "v11_GF = concept_an.v_FG[layer][t_idcs[2]]\n",
    "vals, idcs = topK(v11_GF, v11_GF.shape[0])\n",
    "vals, idcs"
   ]
  },
  {
   "cell_type": "code",
   "execution_count": null,
   "id": "63697633-21fc-4a26-98ab-e44747935742",
   "metadata": {
    "scrolled": true
   },
   "outputs": [],
   "source": [
    "concept_an.gen_and_print(idcs, vals, layer, with_text=True, limit=10)"
   ]
  },
  {
   "cell_type": "code",
   "execution_count": null,
   "id": "5b7538ea-715b-4db3-a0e6-2ca454dc6901",
   "metadata": {
    "scrolled": true
   },
   "outputs": [],
   "source": [
    "concept_an.gen_and_print([4416, 13040, 13098], [7, 23, 7], layer, with_text=True, limit=10)"
   ]
  },
  {
   "cell_type": "code",
   "execution_count": null,
   "id": "32269a31-23ba-4674-b4a0-2770256be962",
   "metadata": {},
   "outputs": [],
   "source": [
    "v_1 = concept_an.v_FG[layer][t_idcs[0]]\n",
    "v_2 = concept_an.v_FG[layer][t_idcs[1]]\n",
    "v_3 = concept_an.v_FG[layer][t_idcs[2]]\n",
    "# v_meet = meet(v_1, v_2)\n",
    "# v_meet = meet(v_1, v_3)\n",
    "v_meet = meet(v_2, v_3)\n",
    "# v_meet = meet(v_meet, v_3)\n",
    "vals, idcs = topK(v_meet, v_meet.shape[0])\n",
    "vals, idcs"
   ]
  },
  {
   "cell_type": "code",
   "execution_count": null,
   "id": "2dfcc488-eee2-4357-8f5e-5abef2207af9",
   "metadata": {},
   "outputs": [],
   "source": [
    "concept_an.gen_and_print(idcs, vals, layer, with_text=True, limit=10)"
   ]
  },
  {
   "cell_type": "code",
   "execution_count": null,
   "id": "67df03a3-c6a4-46c7-9a1a-d00c9860e7f4",
   "metadata": {},
   "outputs": [],
   "source": [
    "v_1 = concept_an.v_FG[layer][t_idcs[0]]\n",
    "v_2 = concept_an.v_FG[layer][t_idcs[1]]\n",
    "v_3 = concept_an.v_FG[layer][t_idcs[2]]\n",
    "v_meet = meet(v_1, v_2)\n",
    "# v_meet = meet(v_1, v_3)\n",
    "# v_meet = meet(v_2, v_3)\n",
    "# v_meet = meet(v_meet, v_3)\n",
    "vals, idcs = topK(v_meet, v_meet.shape[0])\n",
    "vals, idcs"
   ]
  },
  {
   "cell_type": "code",
   "execution_count": null,
   "id": "b7279baf-740a-4c82-b043-af5e5688bc23",
   "metadata": {},
   "outputs": [],
   "source": [
    "concept_an.gen_and_print(idcs, vals, layer, with_text=True, limit=10)"
   ]
  },
  {
   "cell_type": "code",
   "execution_count": null,
   "id": "cca4bf3b-edd9-4ef7-9778-e3e159679ec8",
   "metadata": {},
   "outputs": [],
   "source": [
    "v_1 = concept_an.v_FG[layer][t_idcs[0]]\n",
    "v_2 = concept_an.v_FG[layer][t_idcs[1]]\n",
    "v_3 = concept_an.v_FG[layer][t_idcs[2]]\n",
    "# v_meet = meet(v_1, v_2)\n",
    "v_meet = meet(v_1, v_3)\n",
    "# v_meet = meet(v_2, v_3)\n",
    "# v_meet = meet(v_meet, v_3)\n",
    "vals, idcs = topK(v_meet, v_meet.shape[0])\n",
    "vals, idcs"
   ]
  },
  {
   "cell_type": "code",
   "execution_count": null,
   "id": "6b5b9b0e-1b4c-42f3-8891-7f6346f6f869",
   "metadata": {
    "scrolled": true
   },
   "outputs": [],
   "source": [
    "concept_an.gen_and_print(idcs, vals, layer, with_text=True, limit=10)"
   ]
  },
  {
   "cell_type": "code",
   "execution_count": null,
   "id": "2cdc9cb9-1311-463d-94db-1de2fb0da2a7",
   "metadata": {},
   "outputs": [],
   "source": []
  },
  {
   "cell_type": "markdown",
   "id": "472bac16-54ce-49dd-b6f6-f4c57565ba7e",
   "metadata": {},
   "source": [
    "## Pets Dogs and Cats"
   ]
  },
  {
   "cell_type": "code",
   "execution_count": null,
   "id": "4bd76962-ddd0-4f95-81f4-973028961bf0",
   "metadata": {},
   "outputs": [],
   "source": [
    "concept_an = ConceptAnalysis(\n",
    "    ' The dog and cat are familiar domestic animals and beloved pets; both the dog and the cat also feature in various mythological stories.',\n",
    "    tr_analyzer\n",
    ")"
   ]
  },
  {
   "cell_type": "code",
   "execution_count": null,
   "id": "e450736c-4ac3-4cea-92f2-7ebcdbe93056",
   "metadata": {},
   "outputs": [],
   "source": [
    "token_idx = 4042\n",
    "text = tr_analyzer.to_clean(tr_analyzer.tokens[token_idx])\n",
    "text"
   ]
  },
  {
   "cell_type": "code",
   "execution_count": null,
   "id": "e7bb7c59-4a2e-483a-8160-32d37853a969",
   "metadata": {},
   "outputs": [],
   "source": [
    "concept_an = ConceptAnalysis(text, tr_analyzer)"
   ]
  },
  {
   "cell_type": "code",
   "execution_count": null,
   "id": "9cc6cd3e-d791-4685-b52c-52f2d295717e",
   "metadata": {
    "scrolled": true
   },
   "outputs": [],
   "source": [
    "concept_an.analyze_concepts()"
   ]
  },
  {
   "cell_type": "code",
   "execution_count": null,
   "id": "979f44d9-7758-4ca8-a673-9a6d46f1cef9",
   "metadata": {},
   "outputs": [],
   "source": [
    "t_idcs = [2, 3]\n",
    "t_idcs = [1]\n",
    "# t_idcs = [2]\n",
    "t_idcs = [8, 82]"
   ]
  },
  {
   "cell_type": "code",
   "execution_count": null,
   "id": "97065418-2185-421c-a5aa-f3245d9ab7d9",
   "metadata": {},
   "outputs": [],
   "source": [
    "layer = 0"
   ]
  },
  {
   "cell_type": "code",
   "execution_count": null,
   "id": "100a1de3-7afc-4f59-9dbc-799e35e2b9e3",
   "metadata": {
    "scrolled": true
   },
   "outputs": [],
   "source": [
    "concept_an.gen_text(t_idcs, layer)"
   ]
  },
  {
   "cell_type": "code",
   "execution_count": null,
   "id": "25a59254-c98f-4ff7-bf21-bbd3dbae5682",
   "metadata": {},
   "outputs": [],
   "source": [
    "v0_GF = concept_an.v_FG[layer][t_idcs[0]]\n",
    "vals, idcs = topK(v0_GF, v0_GF.shape[0])\n",
    "vals, idcs"
   ]
  },
  {
   "cell_type": "code",
   "execution_count": null,
   "id": "3cc4972d-06c0-46f0-aed5-5dbf2ea7f0da",
   "metadata": {
    "scrolled": true
   },
   "outputs": [],
   "source": [
    "concept_an.gen_and_print(idcs, vals, layer, with_text=True, limit=10)"
   ]
  },
  {
   "cell_type": "code",
   "execution_count": null,
   "id": "86beca7a-2670-4a69-a80d-5cadb4c2d8b4",
   "metadata": {},
   "outputs": [],
   "source": [
    "v0_GF = concept_an.v_FG[layer][t_idcs[1]]\n",
    "vals, idcs = topK(v0_GF, v0_GF.shape[0])\n",
    "vals, idcs"
   ]
  },
  {
   "cell_type": "code",
   "execution_count": null,
   "id": "a71f74c3-7666-4fd5-8cd4-94ad131258b6",
   "metadata": {
    "scrolled": true
   },
   "outputs": [],
   "source": [
    "concept_an.gen_and_print(idcs, vals, layer, with_text=True, limit=10)"
   ]
  },
  {
   "cell_type": "code",
   "execution_count": null,
   "id": "cddb32c6-43dd-47c3-9f5f-a7de33a15cf4",
   "metadata": {},
   "outputs": [],
   "source": [
    "v0_GF = concept_an.v_FG[layer][t_idcs[2]]\n",
    "vals, idcs = topK(v0_GF, v0_GF.shape[0])\n",
    "vals, idcs"
   ]
  },
  {
   "cell_type": "code",
   "execution_count": null,
   "id": "1c97d960-b52e-4f81-b821-09196d5b9f78",
   "metadata": {
    "scrolled": true
   },
   "outputs": [],
   "source": [
    "concept_an.gen_and_print(idcs, vals, layer, with_text=True, limit=10)"
   ]
  },
  {
   "cell_type": "code",
   "execution_count": null,
   "id": "80480a4f-508b-421d-86fc-4fe3392993ce",
   "metadata": {},
   "outputs": [],
   "source": [
    "v_1 = concept_an.v_FG[layer][t_idcs[0]]\n",
    "v_2 = concept_an.v_FG[layer][t_idcs[1]]\n",
    "# v_3 = concept_an.v_FG[layer][t_idcs[2]]\n",
    "v_meet = meet(v_1, v_2)\n",
    "v_meet = meet(v_meet, v_3)\n",
    "vals, idcs = topK(v_meet, v_meet.shape[0])\n",
    "vals, idcs"
   ]
  },
  {
   "cell_type": "code",
   "execution_count": null,
   "id": "8fab9f6a-5e2e-4457-bf32-a65a0d14000d",
   "metadata": {
    "scrolled": true
   },
   "outputs": [],
   "source": [
    "concept_an.gen_and_print(idcs, vals, layer, with_text=True, limit=10)"
   ]
  },
  {
   "cell_type": "code",
   "execution_count": null,
   "id": "2aa2b550-b3ba-4fca-8ddc-051facdb3010",
   "metadata": {},
   "outputs": [],
   "source": [
    "v_1 = concept_an.v_FG[layer][t_idcs[0]]\n",
    "v_2 = concept_an.v_FG[layer][t_idcs[1]]\n",
    "v_3 = concept_an.v_FG[layer][t_idcs[2]]\n",
    "# v_meet = meet(v_1, v_2)\n",
    "# v_meet = meet(v_1, v_3)\n",
    "v_meet = meet(v_2, v_3)\n",
    "# v_meet = meet(v_meet, v_3)\n",
    "vals, idcs = topK(v_meet, v_meet.shape[0])\n",
    "vals, idcs"
   ]
  },
  {
   "cell_type": "code",
   "execution_count": null,
   "id": "ad7760d0-b35a-4047-bcb7-18d3f58d5085",
   "metadata": {
    "scrolled": true
   },
   "outputs": [],
   "source": [
    "concept_an.gen_and_print(idcs, vals, layer, with_text=True, limit=10)"
   ]
  },
  {
   "cell_type": "code",
   "execution_count": null,
   "id": "4bc8be80-f74e-4a94-992a-d154b94a64dc",
   "metadata": {},
   "outputs": [],
   "source": [
    "v_1 = concept_an.v_FG[layer][t_idcs[0]]\n",
    "v_2 = concept_an.v_FG[layer][t_idcs[1]]\n",
    "# v_3 = concept_an.v_FG[layer][t_idcs[2]]\n",
    "v_meet = meet(v_1, v_2)\n",
    "# v_meet = meet(v_1, v_3)\n",
    "# v_meet = meet(v_2, v_3)\n",
    "# v_meet = meet(v_meet, v_3)\n",
    "vals, idcs = topK(v_meet, v_meet.shape[0])\n",
    "vals, idcs"
   ]
  },
  {
   "cell_type": "code",
   "execution_count": null,
   "id": "9b2d68ea-e451-4fd9-ba81-6d5afaccdf41",
   "metadata": {
    "scrolled": true
   },
   "outputs": [],
   "source": [
    "concept_an.gen_and_print(idcs, vals, layer, with_text=True, limit=10)"
   ]
  },
  {
   "cell_type": "code",
   "execution_count": null,
   "id": "1d3b25c1-8819-4481-bb1e-65623e19a8d0",
   "metadata": {},
   "outputs": [],
   "source": [
    "v_1 = concept_an.v_FG[layer][t_idcs[0]]\n",
    "v_2 = concept_an.v_FG[layer][t_idcs[1]]\n",
    "v_3 = concept_an.v_FG[layer][t_idcs[2]]\n",
    "# v_meet = meet(v_1, v_2)\n",
    "v_meet = meet(v_1, v_3)\n",
    "# v_meet = meet(v_2, v_3)\n",
    "# v_meet = meet(v_meet, v_3)\n",
    "vals, idcs = topK(v_meet, v_meet.shape[0])\n",
    "vals, idcs"
   ]
  },
  {
   "cell_type": "code",
   "execution_count": null,
   "id": "2529b21b-4489-4d90-8479-c44e990c1fa4",
   "metadata": {
    "scrolled": true
   },
   "outputs": [],
   "source": [
    "concept_an.gen_and_print(idcs, vals, layer, with_text=True, limit=10)"
   ]
  },
  {
   "cell_type": "code",
   "execution_count": null,
   "id": "36d6a81d-d4cd-493b-84a7-70e1aceaaf45",
   "metadata": {},
   "outputs": [],
   "source": [
    "layer = 8"
   ]
  },
  {
   "cell_type": "code",
   "execution_count": null,
   "id": "9a10aeaf-19bc-45f9-8cf6-d5536dac9d04",
   "metadata": {
    "scrolled": true
   },
   "outputs": [],
   "source": [
    "concept_an.gen_text(t_idcs, layer)"
   ]
  },
  {
   "cell_type": "code",
   "execution_count": null,
   "id": "34722138-67d3-4456-ab96-9883247c94ba",
   "metadata": {},
   "outputs": [],
   "source": [
    "v8_GF = concept_an.v_FG[layer][t_idcs[0]]\n",
    "vals, idcs = topK(v8_GF, v8_GF.shape[0])\n",
    "vals[:10], idcs[:10]"
   ]
  },
  {
   "cell_type": "code",
   "execution_count": null,
   "id": "4932a0e8-8843-4d62-aaef-d2a4c5181f93",
   "metadata": {
    "scrolled": true
   },
   "outputs": [],
   "source": [
    "concept_an.gen_and_print(idcs, vals, layer, with_text=True, limit=10)"
   ]
  },
  {
   "cell_type": "code",
   "execution_count": null,
   "id": "a2263467-44b0-42f1-991e-41400073983e",
   "metadata": {
    "scrolled": true
   },
   "outputs": [],
   "source": [
    "concept_an.gen_and_print(idcs[1:], vals[1:], layer, with_text=True, limit=10)"
   ]
  },
  {
   "cell_type": "code",
   "execution_count": null,
   "id": "05bae4a5-9867-4249-b272-a2e2bb0ba318",
   "metadata": {},
   "outputs": [],
   "source": [
    "v8_GF = concept_an.v_FG[layer][t_idcs[1]]\n",
    "vals, idcs = topK(v8_GF, v8_GF.shape[0])\n",
    "vals, idcs"
   ]
  },
  {
   "cell_type": "code",
   "execution_count": null,
   "id": "cf7779c9-b067-45fd-a10d-769afa82ddc6",
   "metadata": {
    "scrolled": true
   },
   "outputs": [],
   "source": [
    "concept_an.gen_and_print(idcs, vals, layer, with_text=True, limit=10)"
   ]
  },
  {
   "cell_type": "code",
   "execution_count": null,
   "id": "b554c779-7aaf-4e2f-9db2-2f885d540cb5",
   "metadata": {},
   "outputs": [],
   "source": [
    "v8_GF = concept_an.v_FG[layer][t_idcs[2]]\n",
    "vals, idcs = topK(v8_GF, v8_GF.shape[0])\n",
    "vals, idcs"
   ]
  },
  {
   "cell_type": "code",
   "execution_count": null,
   "id": "2ac71c1b-268a-4758-a60e-6ba69d741d7c",
   "metadata": {
    "scrolled": true
   },
   "outputs": [],
   "source": [
    "concept_an.gen_and_print(idcs, vals, layer, with_text=True, limit=10)"
   ]
  },
  {
   "cell_type": "code",
   "execution_count": null,
   "id": "a5083d34-c1a6-48ed-ba19-f2b5b3449fe8",
   "metadata": {},
   "outputs": [],
   "source": [
    "v_1 = concept_an.v_FG[layer][t_idcs[0]]\n",
    "v_2 = concept_an.v_FG[layer][t_idcs[1]]\n",
    "v_3 = concept_an.v_FG[layer][t_idcs[2]]\n",
    "v_meet = meet(v_1, v_2)\n",
    "v_meet = meet(v_meet, v_3)\n",
    "vals, idcs = topK(v_meet, v_meet.shape[0])\n",
    "vals, idcs"
   ]
  },
  {
   "cell_type": "code",
   "execution_count": null,
   "id": "2b687f3e-75a6-4401-9b32-fe6d13f109c8",
   "metadata": {
    "scrolled": true
   },
   "outputs": [],
   "source": [
    "concept_an.gen_and_print([16679, 10130, 20994], [12, 9, 9], layer, with_text=True, limit=10)"
   ]
  },
  {
   "cell_type": "code",
   "execution_count": null,
   "id": "f148a4cb-66ec-4ad0-ab26-f4f59d42a3d6",
   "metadata": {},
   "outputs": [],
   "source": [
    "v_1 = concept_an.v_FG[layer][t_idcs[0]]\n",
    "v_2 = concept_an.v_FG[layer][t_idcs[1]]\n",
    "v_3 = concept_an.v_FG[layer][t_idcs[2]]\n",
    "# v_meet = meet(v_1, v_2)\n",
    "# v_meet = meet(v_1, v_3)\n",
    "v_meet = meet(v_2, v_3)\n",
    "# v_meet = meet(v_meet, v_3)\n",
    "vals, idcs = topK(v_meet, v_meet.shape[0])\n",
    "vals, idcs"
   ]
  },
  {
   "cell_type": "code",
   "execution_count": null,
   "id": "16e43c10-a678-4a86-988c-2ec835829871",
   "metadata": {
    "scrolled": true
   },
   "outputs": [],
   "source": [
    "concept_an.gen_and_print(idcs, vals, layer, with_text=True, limit=10)"
   ]
  },
  {
   "cell_type": "code",
   "execution_count": null,
   "id": "d7bc64ff-350d-4082-86cb-0d111ca2400a",
   "metadata": {},
   "outputs": [],
   "source": [
    "v_1 = concept_an.v_FG[layer][t_idcs[0]]\n",
    "v_2 = concept_an.v_FG[layer][t_idcs[1]]\n",
    "# v_3 = concept_an.v_FG[layer][t_idcs[2]]\n",
    "v_meet = meet(v_1, v_2)\n",
    "# v_meet = meet(v_1, v_3)\n",
    "# v_meet = meet(v_2, v_3)\n",
    "# v_meet = meet(v_meet, v_3)\n",
    "vals, idcs = topK(v_meet, v_meet.shape[0])\n",
    "vals, idcs"
   ]
  },
  {
   "cell_type": "code",
   "execution_count": null,
   "id": "8118c584-a525-480e-ab26-c784e2140907",
   "metadata": {
    "scrolled": true
   },
   "outputs": [],
   "source": [
    "concept_an.gen_and_print(idcs, vals, layer, with_text=True, limit=10)"
   ]
  },
  {
   "cell_type": "code",
   "execution_count": null,
   "id": "c09e43bf-d7fc-4ae7-9c02-c4db5f7b7bdf",
   "metadata": {},
   "outputs": [],
   "source": [
    "v_1 = concept_an.v_FG[layer][t_idcs[0]]\n",
    "v_2 = concept_an.v_FG[layer][t_idcs[1]]\n",
    "v_3 = concept_an.v_FG[layer][t_idcs[2]]\n",
    "# v_meet = meet(v_1, v_2)\n",
    "v_meet = meet(v_1, v_3)\n",
    "# v_meet = meet(v_2, v_3)\n",
    "# v_meet = meet(v_meet, v_3)\n",
    "vals, idcs = topK(v_meet, v_meet.shape[0])\n",
    "vals, idcs"
   ]
  },
  {
   "cell_type": "code",
   "execution_count": null,
   "id": "0ff7e576-e90b-4348-92f7-66235ead4914",
   "metadata": {
    "scrolled": true
   },
   "outputs": [],
   "source": [
    "concept_an.gen_and_print(idcs, vals, layer, with_text=True, limit=10)"
   ]
  },
  {
   "cell_type": "code",
   "execution_count": null,
   "id": "6897f4f1-abdc-4007-a15e-e7918281b5dd",
   "metadata": {},
   "outputs": [],
   "source": [
    "layer = 11"
   ]
  },
  {
   "cell_type": "code",
   "execution_count": null,
   "id": "648bef83-fd64-4c5a-9630-e23f164f461c",
   "metadata": {
    "scrolled": true
   },
   "outputs": [],
   "source": [
    "concept_an.gen_text(t_idcs, layer)"
   ]
  },
  {
   "cell_type": "code",
   "execution_count": null,
   "id": "9ec98eba-d39b-45c8-8a96-d3548df37b2b",
   "metadata": {},
   "outputs": [],
   "source": [
    "v11_GF = concept_an.v_FG[layer][t_idcs[0]]\n",
    "vals, idcs = topK(v11_GF, v11_GF.shape[0])\n",
    "vals, idcs"
   ]
  },
  {
   "cell_type": "code",
   "execution_count": null,
   "id": "decc76ff-7270-4642-a8ea-0152a4c600be",
   "metadata": {
    "scrolled": true
   },
   "outputs": [],
   "source": [
    "concept_an.gen_and_print(idcs, vals, layer, with_text=True, limit=10)"
   ]
  },
  {
   "cell_type": "code",
   "execution_count": null,
   "id": "2141341c-7189-4a63-ae3f-d4b98ddbea02",
   "metadata": {},
   "outputs": [],
   "source": [
    "v11_GF = concept_an.v_FG[layer][t_idcs[1]]\n",
    "vals, idcs = topK(v11_GF, v11_GF.shape[0])\n",
    "vals, idcs"
   ]
  },
  {
   "cell_type": "code",
   "execution_count": null,
   "id": "f155ada8-0275-4daf-ad00-b421cf00223c",
   "metadata": {
    "scrolled": true
   },
   "outputs": [],
   "source": [
    "concept_an.gen_and_print(idcs, vals, layer, with_text=True, limit=10)"
   ]
  },
  {
   "cell_type": "code",
   "execution_count": null,
   "id": "a6209614-4206-4d4e-bee1-cf9fb909f7de",
   "metadata": {},
   "outputs": [],
   "source": [
    "v11_GF = concept_an.v_FG[layer][t_idcs[2]]\n",
    "vals, idcs = topK(v11_GF, v11_GF.shape[0])\n",
    "vals, idcs"
   ]
  },
  {
   "cell_type": "code",
   "execution_count": null,
   "id": "9097ac1a-684f-4512-aaf3-167d292879ed",
   "metadata": {
    "scrolled": true
   },
   "outputs": [],
   "source": [
    "concept_an.gen_and_print(idcs, vals, layer, with_text=True, limit=10)"
   ]
  },
  {
   "cell_type": "code",
   "execution_count": null,
   "id": "184a4996-a0d9-4d5b-b71e-6990c2acc7c7",
   "metadata": {
    "scrolled": true
   },
   "outputs": [],
   "source": [
    "concept_an.gen_and_print([4416, 13040, 13098], [7, 23, 7], layer, with_text=True, limit=10)"
   ]
  },
  {
   "cell_type": "code",
   "execution_count": null,
   "id": "64a40709-36e6-48ea-8be5-923d140641da",
   "metadata": {},
   "outputs": [],
   "source": [
    "v_1 = concept_an.v_FG[layer][t_idcs[0]]\n",
    "v_2 = concept_an.v_FG[layer][t_idcs[1]]\n",
    "v_3 = concept_an.v_FG[layer][t_idcs[2]]\n",
    "# v_meet = meet(v_1, v_2)\n",
    "# v_meet = meet(v_1, v_3)\n",
    "v_meet = meet(v_2, v_3)\n",
    "# v_meet = meet(v_meet, v_3)\n",
    "vals, idcs = topK(v_meet, v_meet.shape[0])\n",
    "vals, idcs"
   ]
  },
  {
   "cell_type": "code",
   "execution_count": null,
   "id": "2658a5f0-8033-4402-8639-9eca7d77fbc1",
   "metadata": {},
   "outputs": [],
   "source": [
    "concept_an.gen_and_print(idcs, vals, layer, with_text=True, limit=10)"
   ]
  },
  {
   "cell_type": "code",
   "execution_count": null,
   "id": "f6a5a48c-9490-4697-b0c8-52539ed71eed",
   "metadata": {},
   "outputs": [],
   "source": [
    "v_1 = concept_an.v_FG[layer][t_idcs[0]]\n",
    "v_2 = concept_an.v_FG[layer][t_idcs[1]]\n",
    "# v_3 = concept_an.v_FG[layer][t_idcs[2]]\n",
    "v_meet = meet(v_1, v_2)\n",
    "# v_meet = meet(v_1, v_3)\n",
    "# v_meet = meet(v_2, v_3)\n",
    "# v_meet = meet(v_meet, v_3)\n",
    "vals, idcs = topK(v_meet, v_meet.shape[0])\n",
    "vals, idcs"
   ]
  },
  {
   "cell_type": "code",
   "execution_count": null,
   "id": "ca51b404-7bbd-4be8-9eec-e106c70b57be",
   "metadata": {},
   "outputs": [],
   "source": [
    "concept_an.gen_and_print(idcs, vals, layer, with_text=True, limit=10)"
   ]
  },
  {
   "cell_type": "code",
   "execution_count": null,
   "id": "11f42dc4-d83b-4127-928c-eb0632c9b16b",
   "metadata": {},
   "outputs": [],
   "source": [
    "v_1 = concept_an.v_FG[layer][t_idcs[0]]\n",
    "v_2 = concept_an.v_FG[layer][t_idcs[1]]\n",
    "v_3 = concept_an.v_FG[layer][t_idcs[2]]\n",
    "# v_meet = meet(v_1, v_2)\n",
    "v_meet = meet(v_1, v_3)\n",
    "# v_meet = meet(v_2, v_3)\n",
    "# v_meet = meet(v_meet, v_3)\n",
    "vals, idcs = topK(v_meet, v_meet.shape[0])\n",
    "vals, idcs"
   ]
  },
  {
   "cell_type": "code",
   "execution_count": null,
   "id": "288b8376-a06b-438e-9c59-a4c4ffe50be1",
   "metadata": {
    "scrolled": true
   },
   "outputs": [],
   "source": [
    "concept_an.gen_and_print(idcs, vals, layer, with_text=True, limit=10)"
   ]
  },
  {
   "cell_type": "code",
   "execution_count": null,
   "id": "ddf46fa4-5f1a-4146-945c-1ff661bfafd3",
   "metadata": {},
   "outputs": [],
   "source": []
  }
 ],
 "metadata": {
  "kernelspec": {
   "display_name": "Python 3 (ipykernel)",
   "language": "python",
   "name": "python3"
  },
  "language_info": {
   "codemirror_mode": {
    "name": "ipython",
    "version": 3
   },
   "file_extension": ".py",
   "mimetype": "text/x-python",
   "name": "python",
   "nbconvert_exporter": "python",
   "pygments_lexer": "ipython3",
   "version": "3.12.9"
  }
 },
 "nbformat": 4,
 "nbformat_minor": 5
}
