{
 "cells": [
  {
   "cell_type": "code",
   "execution_count": null,
   "id": "71ce37e9",
   "metadata": {},
   "outputs": [],
   "source": [
    "%load_ext autoreload\n",
    "%autoreload 2\n",
    "\n",
    "%matplotlib inline"
   ]
  },
  {
   "cell_type": "markdown",
   "id": "5b560092",
   "metadata": {},
   "source": [
    "## Install libraries"
   ]
  },
  {
   "cell_type": "markdown",
   "id": "89885fa7",
   "metadata": {},
   "source": [
    "```bash\n",
    "conda create -n edu4 python=3.11 jupyter matplotlib\n",
    "```"
   ]
  },
  {
   "cell_type": "markdown",
   "id": "cd23589d",
   "metadata": {},
   "source": [
    "```bash \n",
    "! pip install -U -r requirements.txt\n",
    "```"
   ]
  },
  {
   "cell_type": "markdown",
   "id": "9d16321f",
   "metadata": {},
   "source": [
    "```bash\n",
    "! pip install -U numpy\n",
    "! pip install -U scikit-learn\n",
    "```"
   ]
  },
  {
   "cell_type": "markdown",
   "id": "b4cab43a",
   "metadata": {},
   "source": [
    "## Update repository"
   ]
  },
  {
   "cell_type": "code",
   "execution_count": null,
   "id": "46bcb5dc",
   "metadata": {},
   "outputs": [],
   "source": [
    "# ! git pull"
   ]
  },
  {
   "cell_type": "markdown",
   "id": "bad216da",
   "metadata": {},
   "source": [
    "## Add import path"
   ]
  },
  {
   "cell_type": "code",
   "execution_count": null,
   "id": "baafb705",
   "metadata": {},
   "outputs": [],
   "source": [
    "import gc\n",
    "import os\n",
    "import sys"
   ]
  },
  {
   "cell_type": "code",
   "execution_count": null,
   "id": "acb2d69b-1208-4910-83fe-357fef2804f7",
   "metadata": {},
   "outputs": [],
   "source": [
    "def add_library_level(level=4):\n",
    "    suf_path = ['..']\n",
    "    path = '..'\n",
    "    for i in range(0, level):\n",
    "        join_path = suf_path * i\n",
    "        path = '/'.join(join_path)\n",
    "        module_path = os.path.abspath(os.path.join(path))\n",
    "        if module_path not in sys.path:\n",
    "            sys.path.append(module_path)\n",
    "            print(f'Appendeding {path}')"
   ]
  },
  {
   "cell_type": "code",
   "execution_count": null,
   "id": "17883ca3-d72f-417c-953a-13fb7f7be2c6",
   "metadata": {},
   "outputs": [],
   "source": [
    "add_library_level(level=5)"
   ]
  },
  {
   "cell_type": "markdown",
   "id": "07a1e9c8",
   "metadata": {},
   "source": [
    "## Organize imports"
   ]
  },
  {
   "cell_type": "code",
   "execution_count": null,
   "id": "ae177357",
   "metadata": {},
   "outputs": [],
   "source": [
    "import multiprocessing"
   ]
  },
  {
   "cell_type": "code",
   "execution_count": null,
   "id": "ee894933-eba4-4742-8fa2-51b2cff5cf6d",
   "metadata": {},
   "outputs": [],
   "source": [
    "from src.lattmc.fca.utils import *\n",
    "from src.lattmc.fca.fca_utils import *"
   ]
  },
  {
   "cell_type": "code",
   "execution_count": null,
   "id": "8ea45057-c650-406c-84d2-5b5b21c69396",
   "metadata": {},
   "outputs": [],
   "source": [
    "from src.lattmc.tc.transcoder_analyzers import ConceptAnalysis, init_analyzer"
   ]
  },
  {
   "cell_type": "code",
   "execution_count": null,
   "id": "5545b35f-c8f8-4f2f-b891-a29bf6f96a36",
   "metadata": {},
   "outputs": [],
   "source": [
    "from src.lattmc.sae.nlp_sae_utils import init_device, gen_concept"
   ]
  },
  {
   "cell_type": "code",
   "execution_count": null,
   "id": "ebc02393-d2ee-4638-97b3-b8994e4191d6",
   "metadata": {},
   "outputs": [],
   "source": [
    "import logging"
   ]
  },
  {
   "cell_type": "markdown",
   "id": "65f31e93",
   "metadata": {},
   "source": [
    "#### Number of CPU cores"
   ]
  },
  {
   "cell_type": "code",
   "execution_count": null,
   "id": "b41c30f2",
   "metadata": {},
   "outputs": [],
   "source": [
    "workers = multiprocessing.cpu_count()\n",
    "workers"
   ]
  },
  {
   "cell_type": "code",
   "execution_count": null,
   "id": "59f41838-322d-41e8-b8e1-6712089703c9",
   "metadata": {},
   "outputs": [],
   "source": [
    "SEED = 2025"
   ]
  },
  {
   "cell_type": "code",
   "execution_count": null,
   "id": "c5516efd-39d7-4d19-9112-4a1bd0efcd30",
   "metadata": {},
   "outputs": [],
   "source": [
    "logging.basicConfig(level=logging.INFO)"
   ]
  },
  {
   "cell_type": "code",
   "execution_count": null,
   "id": "9e1c0d14-575c-491c-88a3-85f70fae7875",
   "metadata": {},
   "outputs": [],
   "source": [
    "device = init_device()\n",
    "device"
   ]
  },
  {
   "cell_type": "code",
   "execution_count": null,
   "id": "1e9fcf4c-09fe-4262-b975-56a627c02797",
   "metadata": {},
   "outputs": [],
   "source": [
    "torch.__version__"
   ]
  },
  {
   "cell_type": "code",
   "execution_count": null,
   "id": "f6916c3b-746f-4169-98eb-49d20824e8ef",
   "metadata": {},
   "outputs": [],
   "source": [
    "np.__version__"
   ]
  },
  {
   "cell_type": "code",
   "execution_count": null,
   "id": "f684b5bd-d276-48df-8a54-b111138d36bb",
   "metadata": {},
   "outputs": [],
   "source": [
    "# np.set_printoptions(precision=4, suppress=True)"
   ]
  },
  {
   "cell_type": "markdown",
   "id": "093a4b55-3a8d-4cb1-b2fa-54710060037d",
   "metadata": {},
   "source": [
    "## Initialize Paths"
   ]
  },
  {
   "cell_type": "code",
   "execution_count": null,
   "id": "965d5cc1-2325-4fcc-beaa-876ab9e4dbea",
   "metadata": {},
   "outputs": [],
   "source": [
    "PATH = Path('data')\n",
    "GPT2 = PATH / 'transcoders' / 'gpt2'\n",
    "OWT_TOKENS_DIR = GPT2 / 'owt_tokens'\n",
    "TOKENS_PATH = OWT_TOKENS_DIR / 'owt_tokens_torch.pt'\n",
    "QA_CSV = GPT2 / 'qa_synthetic.csv'\n",
    "QA_TOKENS = OWT_TOKENS_DIR / 'qa_tokens.joblib'\n",
    "QA_VECTORS = OWT_TOKENS_DIR / 'qa_vectors'\n",
    "OWT_TOKENS_DIR.mkdir(exist_ok=True, parents=True)\n",
    "QA_VECTORS.mkdir(exist_ok=True, parents=True)"
   ]
  },
  {
   "cell_type": "markdown",
   "id": "b7630740-6722-45ad-b309-df4121abf3a6",
   "metadata": {},
   "source": [
    "## Load trancoders"
   ]
  },
  {
   "cell_type": "code",
   "execution_count": null,
   "id": "86252e89-72dc-44a7-b021-791ea1ac0c06",
   "metadata": {},
   "outputs": [],
   "source": [
    "layers = list(range(12))\n",
    "# layers = [0, 4, 6, 8, 10, 11]"
   ]
  },
  {
   "cell_type": "code",
   "execution_count": null,
   "id": "3a00fc4d-9e30-4a8f-9dec-eb05770be661",
   "metadata": {
    "scrolled": true
   },
   "outputs": [],
   "source": [
    "transcoder = init_transcoder(\n",
    "    layers,\n",
    "    device=device,\n",
    ")"
   ]
  },
  {
   "cell_type": "code",
   "execution_count": null,
   "id": "9388c318-8ec7-46c4-99c6-b863a9c56924",
   "metadata": {
    "scrolled": true
   },
   "outputs": [],
   "source": [
    "tr_analyzer = init_analyzer(\n",
    "    layers,\n",
    "    QA_TOKENS,\n",
    "    GPT2,\n",
    "    device=device,\n",
    "    dataset_path=QA_CSV,\n",
    "    columns=['description' ,'target_concept'],\n",
    "    vector_dir=QA_VECTORS\n",
    ")"
   ]
  },
  {
   "cell_type": "code",
   "execution_count": null,
   "id": "5952d6a2-5416-4131-896f-79babf182d0c",
   "metadata": {},
   "outputs": [],
   "source": [
    "import gc\n",
    "gc.collect()\n",
    "torch.cuda.empty_cache()"
   ]
  },
  {
   "cell_type": "markdown",
   "id": "fe82c082-2667-45d0-9cc6-2683e0cc8d63",
   "metadata": {},
   "source": [
    "## Experiment with Question and Answers Asia"
   ]
  },
  {
   "cell_type": "code",
   "execution_count": null,
   "id": "86daddb0-de3c-4c78-b14a-0b9920c961e2",
   "metadata": {},
   "outputs": [],
   "source": [
    "text_asia = tr_analyzer.to_clean(tokens[6])\n",
    "text_asia"
   ]
  },
  {
   "cell_type": "code",
   "execution_count": null,
   "id": "1cdfe11a-b84d-4283-a8a3-af23e5cf164b",
   "metadata": {},
   "outputs": [],
   "source": [
    "concept_an = ConceptAnalysis(text_asia, tr_analyzer)"
   ]
  },
  {
   "cell_type": "code",
   "execution_count": null,
   "id": "1e98a30e-b890-4cef-8143-0d481a114613",
   "metadata": {},
   "outputs": [],
   "source": [
    "concept_an.analyze_concepts()"
   ]
  },
  {
   "cell_type": "code",
   "execution_count": null,
   "id": "babf79e4-c176-42eb-95a6-287974e277a4",
   "metadata": {},
   "outputs": [],
   "source": [
    "t_idcs = [19]"
   ]
  },
  {
   "cell_type": "code",
   "execution_count": null,
   "id": "db5b5b2a-fa75-4d74-8802-b19152d621c6",
   "metadata": {},
   "outputs": [],
   "source": [
    "layer_0 = 0"
   ]
  },
  {
   "cell_type": "code",
   "execution_count": null,
   "id": "cce61f2d-a44b-4b4c-a5df-1bf3d81cc35d",
   "metadata": {
    "scrolled": true
   },
   "outputs": [],
   "source": [
    "concept_an.gen_text(t_idcs, layer_0)"
   ]
  },
  {
   "cell_type": "code",
   "execution_count": null,
   "id": "2f24f67a-670d-44d2-be86-b58650838592",
   "metadata": {},
   "outputs": [],
   "source": [
    "layer_8 = 8"
   ]
  },
  {
   "cell_type": "code",
   "execution_count": null,
   "id": "151d0eef-102d-4846-b281-fcdcbcd9eb48",
   "metadata": {},
   "outputs": [],
   "source": [
    "concept_an.gen_text(t_idcs, layer_8)"
   ]
  },
  {
   "cell_type": "code",
   "execution_count": null,
   "id": "f2008d95-7ea2-4abc-9873-8f43f54a188a",
   "metadata": {},
   "outputs": [],
   "source": [
    "layer_11 = 11"
   ]
  },
  {
   "cell_type": "code",
   "execution_count": null,
   "id": "a57c8bf8-5b80-454d-b2ca-246d297015e1",
   "metadata": {},
   "outputs": [],
   "source": [
    "concept_an.gen_text(t_idcs, layer_11)"
   ]
  },
  {
   "cell_type": "code",
   "execution_count": null,
   "id": "33780f8f-1a49-4014-826b-7efd0a51d8b0",
   "metadata": {},
   "outputs": [],
   "source": []
  },
  {
   "cell_type": "markdown",
   "id": "7a6379ae-b53a-424f-abd9-d62bf371bb32",
   "metadata": {},
   "source": [
    "## Experiment with Question and Answers Tiger"
   ]
  },
  {
   "cell_type": "code",
   "execution_count": null,
   "id": "bbf7aa55-43e6-4615-be6e-57255b1d11b9",
   "metadata": {},
   "outputs": [],
   "source": [
    "text_tiger = tr_analyzer.to_clean(tokens[12])\n",
    "text_tiger"
   ]
  },
  {
   "cell_type": "code",
   "execution_count": null,
   "id": "9fd31ccf-48bd-4752-b6ce-76e4bfc27c58",
   "metadata": {},
   "outputs": [],
   "source": [
    "concept_an = ConceptAnalysis(text_tiger, tr_analyzer)"
   ]
  },
  {
   "cell_type": "code",
   "execution_count": null,
   "id": "d3815fa5-6cfd-4775-bb26-da296369b3e7",
   "metadata": {},
   "outputs": [],
   "source": [
    "concept_an.analyze_concepts()"
   ]
  },
  {
   "cell_type": "code",
   "execution_count": null,
   "id": "8e039d30-fef4-4774-9bb4-ed71c272751d",
   "metadata": {},
   "outputs": [],
   "source": [
    "t_idcs = [1, 2]"
   ]
  },
  {
   "cell_type": "code",
   "execution_count": null,
   "id": "a0c822b8-dab1-409d-a93e-cded7037bd78",
   "metadata": {},
   "outputs": [],
   "source": [
    "layer_0 = 0"
   ]
  },
  {
   "cell_type": "code",
   "execution_count": null,
   "id": "87c0e079-1395-4a4b-a530-de1d913182ba",
   "metadata": {
    "scrolled": true
   },
   "outputs": [],
   "source": [
    "concept_an.gen_text(t_idcs, layer_0)"
   ]
  },
  {
   "cell_type": "code",
   "execution_count": null,
   "id": "a52f3c34-2388-469b-9870-7ed2b1e2991d",
   "metadata": {},
   "outputs": [],
   "source": [
    "layer_8 = 8"
   ]
  },
  {
   "cell_type": "code",
   "execution_count": null,
   "id": "d5d197f0-0419-4b47-b949-942d296b04de",
   "metadata": {},
   "outputs": [],
   "source": [
    "concept_an.gen_text(t_idcs, layer_8)"
   ]
  },
  {
   "cell_type": "code",
   "execution_count": null,
   "id": "387176b0-ed07-4073-b146-bcfe87f5402a",
   "metadata": {},
   "outputs": [],
   "source": [
    "layer_11 = 11"
   ]
  },
  {
   "cell_type": "code",
   "execution_count": null,
   "id": "3512b64f-4b5b-45f4-b32a-f3c1e1844647",
   "metadata": {},
   "outputs": [],
   "source": [
    "concept_an.gen_text(t_idcs, layer_11)"
   ]
  },
  {
   "cell_type": "code",
   "execution_count": null,
   "id": "e91627af-c1f9-430e-b4b7-096e1df698e3",
   "metadata": {},
   "outputs": [],
   "source": []
  },
  {
   "cell_type": "markdown",
   "id": "5c3c522e-90dd-4585-ab83-070215be1c22",
   "metadata": {},
   "source": [
    "## Experiment with Question and Answers Monument"
   ]
  },
  {
   "cell_type": "code",
   "execution_count": null,
   "id": "20921022-9011-4d0b-98aa-e7f25edf7872",
   "metadata": {},
   "outputs": [],
   "source": [
    "text_monument = tr_analyzer.to_clean(tokens[60])\n",
    "text_monument"
   ]
  },
  {
   "cell_type": "code",
   "execution_count": null,
   "id": "1333ab22-94b1-4c0f-947f-db3dea7f8010",
   "metadata": {},
   "outputs": [],
   "source": [
    "concept_an = ConceptAnalysis(text_monument, tr_analyzer)"
   ]
  },
  {
   "cell_type": "code",
   "execution_count": null,
   "id": "964693d9-dc1d-46f7-9b39-49cf5ee88448",
   "metadata": {
    "scrolled": true
   },
   "outputs": [],
   "source": [
    "concept_an.analyze_concepts()"
   ]
  },
  {
   "cell_type": "code",
   "execution_count": null,
   "id": "dd57c517-64cd-4b70-a712-04ca23252a39",
   "metadata": {},
   "outputs": [],
   "source": [
    "t_idcs = [3, 23]"
   ]
  },
  {
   "cell_type": "code",
   "execution_count": null,
   "id": "90a16b00-b292-4324-ba38-2be0b827b6b3",
   "metadata": {},
   "outputs": [],
   "source": [
    "layer_0 = 0"
   ]
  },
  {
   "cell_type": "code",
   "execution_count": null,
   "id": "75898175-3f20-4010-b473-d1f63c0df927",
   "metadata": {
    "scrolled": true
   },
   "outputs": [],
   "source": [
    "concept_an.gen_text(t_idcs, layer_0)"
   ]
  },
  {
   "cell_type": "code",
   "execution_count": null,
   "id": "98a0eec1-1a77-42bb-a9cf-a1178ce2d54f",
   "metadata": {},
   "outputs": [],
   "source": [
    "layer_8 = 8"
   ]
  },
  {
   "cell_type": "code",
   "execution_count": null,
   "id": "59f08143-9cd4-4b24-a4be-68facfb08d02",
   "metadata": {},
   "outputs": [],
   "source": [
    "concept_an.gen_text(t_idcs, layer_8)"
   ]
  },
  {
   "cell_type": "code",
   "execution_count": null,
   "id": "0d6eca58-27f9-4b46-bf5a-6916decc5f43",
   "metadata": {},
   "outputs": [],
   "source": [
    "layer_11 = 11"
   ]
  },
  {
   "cell_type": "code",
   "execution_count": null,
   "id": "6a2e8bd4-f9ab-436a-9c59-06408e3430ee",
   "metadata": {},
   "outputs": [],
   "source": [
    "concept_an.gen_text(t_idcs, layer_11)"
   ]
  },
  {
   "cell_type": "code",
   "execution_count": null,
   "id": "5693ff93-6bad-445a-b828-3ade1fd601ca",
   "metadata": {},
   "outputs": [],
   "source": []
  },
  {
   "cell_type": "markdown",
   "id": "020d7665-a2f1-4b17-b181-290350a790a8",
   "metadata": {},
   "source": [
    "## Experiment with Question and Answers Monument"
   ]
  },
  {
   "cell_type": "code",
   "execution_count": null,
   "id": "c178146c-3347-478c-bad2-6bbf2fb5294e",
   "metadata": {},
   "outputs": [],
   "source": [
    "text_detoken = tr_analyzer.to_clean(tokens[68])\n",
    "text_detoken"
   ]
  },
  {
   "cell_type": "code",
   "execution_count": null,
   "id": "302a18a8-9546-4ed0-a169-15fafb1f61b1",
   "metadata": {},
   "outputs": [],
   "source": [
    "concept_an = ConceptAnalysis(text_detoken, tr_analyzer)"
   ]
  },
  {
   "cell_type": "code",
   "execution_count": null,
   "id": "fdbe086d-49d6-4478-8fa4-0f11d6aba1d9",
   "metadata": {
    "scrolled": true
   },
   "outputs": [],
   "source": [
    "concept_an.analyze_concepts()"
   ]
  },
  {
   "cell_type": "code",
   "execution_count": null,
   "id": "995eed64-89a5-4a7a-813b-6c2a8fc5c769",
   "metadata": {},
   "outputs": [],
   "source": [
    "t_idcs = [9]"
   ]
  },
  {
   "cell_type": "code",
   "execution_count": null,
   "id": "7f4fed50-64c0-4ff8-ab6b-0bc2935a21d0",
   "metadata": {},
   "outputs": [],
   "source": [
    "layer_0 = 0"
   ]
  },
  {
   "cell_type": "code",
   "execution_count": null,
   "id": "4615bc77-f630-4557-bd24-4fca5331565c",
   "metadata": {
    "scrolled": true
   },
   "outputs": [],
   "source": [
    "concept_an.gen_text(t_idcs, layer_0)"
   ]
  },
  {
   "cell_type": "code",
   "execution_count": null,
   "id": "25036c47-c505-4a77-8985-825f4b0015d9",
   "metadata": {},
   "outputs": [],
   "source": [
    "layer_8 = 8"
   ]
  },
  {
   "cell_type": "code",
   "execution_count": null,
   "id": "e5225190-3689-47b1-822d-569969156c95",
   "metadata": {},
   "outputs": [],
   "source": [
    "concept_an.gen_text(t_idcs, layer_8)"
   ]
  },
  {
   "cell_type": "code",
   "execution_count": null,
   "id": "9229f88a-29c9-4824-907e-c46f44aa552e",
   "metadata": {},
   "outputs": [],
   "source": [
    "layer_11 = 11"
   ]
  },
  {
   "cell_type": "code",
   "execution_count": null,
   "id": "bf752972-e59a-44df-b67c-fd9eed7bf6e2",
   "metadata": {},
   "outputs": [],
   "source": [
    "concept_an.gen_text(t_idcs, layer_11)"
   ]
  },
  {
   "cell_type": "code",
   "execution_count": null,
   "id": "da3b0cb7-931b-4085-ba3f-dd793ec469a6",
   "metadata": {},
   "outputs": [],
   "source": []
  },
  {
   "cell_type": "markdown",
   "id": "082998cc-eb30-4ec2-b46b-12a58b7609e9",
   "metadata": {},
   "source": [
    "## Experiment with Question and Answers Monument"
   ]
  },
  {
   "cell_type": "code",
   "execution_count": null,
   "id": "f92c7029-8321-4f4f-a75a-ca2a53e28bb0",
   "metadata": {},
   "outputs": [],
   "source": [
    "text_detoken = tr_analyzer.to_clean(tokens[28])\n",
    "text_detoken"
   ]
  },
  {
   "cell_type": "code",
   "execution_count": null,
   "id": "2f0fb967-b2fe-4149-8e5e-a659d544a7ee",
   "metadata": {},
   "outputs": [],
   "source": [
    "concept_an = ConceptAnalysis(text_detoken, tr_analyzer)"
   ]
  },
  {
   "cell_type": "code",
   "execution_count": null,
   "id": "107d9e69-08e9-4efb-8a0c-3c2d23b9a807",
   "metadata": {
    "scrolled": true
   },
   "outputs": [],
   "source": [
    "concept_an.analyze_concepts()"
   ]
  },
  {
   "cell_type": "code",
   "execution_count": null,
   "id": "9ba1b629-857e-4c38-a537-5254e2d2c6b0",
   "metadata": {},
   "outputs": [],
   "source": [
    "t_idcs = [9]"
   ]
  },
  {
   "cell_type": "code",
   "execution_count": null,
   "id": "8338eeee-cff5-4f0e-85fc-9b4d9cf28168",
   "metadata": {},
   "outputs": [],
   "source": [
    "layer_0 = 0"
   ]
  },
  {
   "cell_type": "code",
   "execution_count": null,
   "id": "208627cd-1db4-4e35-919d-cc6e55f417b8",
   "metadata": {
    "scrolled": true
   },
   "outputs": [],
   "source": [
    "concept_an.gen_text(t_idcs, layer_0)"
   ]
  },
  {
   "cell_type": "code",
   "execution_count": null,
   "id": "c10f7251-562c-40f4-9124-76ad3fc934b6",
   "metadata": {},
   "outputs": [],
   "source": [
    "layer_8 = 8"
   ]
  },
  {
   "cell_type": "code",
   "execution_count": null,
   "id": "01a7a418-3815-4438-8a28-1abded641bd4",
   "metadata": {},
   "outputs": [],
   "source": [
    "concept_an.gen_text(t_idcs, layer_8)"
   ]
  },
  {
   "cell_type": "code",
   "execution_count": null,
   "id": "efe8ffbf-06e5-4843-9d5e-0d760a4acea1",
   "metadata": {},
   "outputs": [],
   "source": [
    "layer_11 = 11"
   ]
  },
  {
   "cell_type": "code",
   "execution_count": null,
   "id": "24eab359-f2fe-49be-a242-f90ae5d2b5f3",
   "metadata": {},
   "outputs": [],
   "source": [
    "concept_an.gen_text(t_idcs, layer_11)"
   ]
  },
  {
   "cell_type": "code",
   "execution_count": null,
   "id": "eb2c378e-2a67-4639-ab7b-788b3d0cbd78",
   "metadata": {},
   "outputs": [],
   "source": []
  },
  {
   "cell_type": "markdown",
   "id": "3e3538e3-8504-4e6b-985f-0cd51efd98fe",
   "metadata": {},
   "source": [
    "## Experiments Pos and Negs Black"
   ]
  },
  {
   "cell_type": "code",
   "execution_count": null,
   "id": "ce89c08a-9433-4a12-b5b6-10afd7dd9783",
   "metadata": {},
   "outputs": [],
   "source": [
    "tok_indx = 143"
   ]
  },
  {
   "cell_type": "code",
   "execution_count": null,
   "id": "72b6895f-8322-4494-8213-4d79bfffda21",
   "metadata": {},
   "outputs": [],
   "source": [
    "text_black_full = tr_analyzer.to_clean(tr_analyzer.tokens[tok_indx])\n",
    "text_black_full"
   ]
  },
  {
   "cell_type": "code",
   "execution_count": null,
   "id": "ce24e5bf-a7ac-4d3d-88e2-ccc5c32d9260",
   "metadata": {},
   "outputs": [],
   "source": [
    "tr_analyzer.to_string(tr_analyzer.tokens[tok_indx])"
   ]
  },
  {
   "cell_type": "code",
   "execution_count": null,
   "id": "5fa9ce73-7bb4-4931-814e-bee1bd1ada2e",
   "metadata": {},
   "outputs": [],
   "source": [
    "text_black = ' but the black intelligentsia allowed itself to get bogged down in petty university politics instead'\n",
    "text_black = tr_analyzer.tokenize(text_black)"
   ]
  },
  {
   "cell_type": "code",
   "execution_count": null,
   "id": "be4681f8-c724-458b-aecf-ffbd7b135109",
   "metadata": {},
   "outputs": [],
   "source": [
    "concept_an = ConceptAnalysis(text_black_full, tr_analyzer)"
   ]
  },
  {
   "cell_type": "code",
   "execution_count": null,
   "id": "1ad58cdb-f69d-4d80-9af7-16cb898ecab8",
   "metadata": {
    "scrolled": true
   },
   "outputs": [],
   "source": [
    "concept_an.analyze_concepts()"
   ]
  },
  {
   "cell_type": "code",
   "execution_count": null,
   "id": "1bdb04d4-cb5f-41eb-8cf2-88efaf63d4f0",
   "metadata": {},
   "outputs": [],
   "source": [
    "i, j = 27, 28\n",
    "t_idcs = [127]"
   ]
  },
  {
   "cell_type": "code",
   "execution_count": null,
   "id": "0d305d60-4b23-445f-84cb-b603803fd7d3",
   "metadata": {},
   "outputs": [],
   "source": [
    "layer_0 = 0"
   ]
  },
  {
   "cell_type": "code",
   "execution_count": null,
   "id": "b9f556af-225b-498f-8a35-734ce92f3e2b",
   "metadata": {},
   "outputs": [],
   "source": [
    "trunc = 0"
   ]
  },
  {
   "cell_type": "code",
   "execution_count": null,
   "id": "bc1d2624-f8fb-4457-8e45-8811782b2790",
   "metadata": {},
   "outputs": [],
   "source": [
    "concept_an.v_is"
   ]
  },
  {
   "cell_type": "code",
   "execution_count": null,
   "id": "fb755f77-cfbf-4eca-b06f-3e81b9b3d6f0",
   "metadata": {
    "scrolled": true
   },
   "outputs": [],
   "source": [
    "concept_an.gen_concepts(t_idcs, layer_0, trunc=trunc)"
   ]
  },
  {
   "cell_type": "code",
   "execution_count": null,
   "id": "205bb2cb-a96a-4d11-8cf8-0ef026ce48ea",
   "metadata": {
    "scrolled": true
   },
   "outputs": [],
   "source": [
    "concept_an.analyze_text(layer_0, limit=20)"
   ]
  },
  {
   "cell_type": "code",
   "execution_count": null,
   "id": "51c7da8d-a2b0-46c4-9a94-1647aebabf48",
   "metadata": {},
   "outputs": [],
   "source": [
    "c0 = concept_an.c_is[layer_0]\n",
    "c0"
   ]
  },
  {
   "cell_type": "code",
   "execution_count": null,
   "id": "8bae0600-9ebe-4bce-8857-89fa2eadc08e",
   "metadata": {},
   "outputs": [],
   "source": [
    "topK(concept_an.v_is[layer_0][t_idcs[layer_0]], 10)"
   ]
  },
  {
   "cell_type": "code",
   "execution_count": null,
   "id": "d2c620f5-43ec-497e-8341-c7f95be2c971",
   "metadata": {},
   "outputs": [],
   "source": [
    "fca_0 = FCA(concept_an.fcas[0].V, neg_idx=[18407])"
   ]
  },
  {
   "cell_type": "code",
   "execution_count": null,
   "id": "a0dfcdff-852e-43ec-9077-4e24c6091734",
   "metadata": {},
   "outputs": [],
   "source": [
    "fca_0.neg_idcs"
   ]
  },
  {
   "cell_type": "code",
   "execution_count": null,
   "id": "eae9f746-aa38-4e2c-a5b7-5f8305c7b0c7",
   "metadata": {},
   "outputs": [],
   "source": [
    "fca_0.pos_idcs"
   ]
  },
  {
   "cell_type": "code",
   "execution_count": null,
   "id": "2f77cb06-e2f0-4640-a381-95c172559add",
   "metadata": {},
   "outputs": [],
   "source": [
    "c_op = gen_concept(18407, 21, fca_0)\n",
    "c_op"
   ]
  },
  {
   "cell_type": "code",
   "execution_count": null,
   "id": "2ab953ed-6a56-440b-9ddb-624fb2ffca5c",
   "metadata": {},
   "outputs": [],
   "source": [
    "fca_0.V.shape"
   ]
  },
  {
   "cell_type": "code",
   "execution_count": null,
   "id": "94c10abe-92e2-4459-a231-a5b4efaa98ad",
   "metadata": {},
   "outputs": [],
   "source": [
    "c_op.c.v[18407]"
   ]
  },
  {
   "cell_type": "code",
   "execution_count": null,
   "id": "a4d1432a-d448-46e3-a368-32577306217a",
   "metadata": {},
   "outputs": [],
   "source": [
    "topK(c_op.v, 10)"
   ]
  },
  {
   "cell_type": "code",
   "execution_count": null,
   "id": "79a932c2-225b-45de-8665-9dcec6d2d6fb",
   "metadata": {},
   "outputs": [],
   "source": [
    "concept_an.c_is[layer_0].v[18407]"
   ]
  },
  {
   "cell_type": "code",
   "execution_count": null,
   "id": "a07bbec0-2f67-4e7e-bc31-9e038fdf1da1",
   "metadata": {},
   "outputs": [],
   "source": [
    "topK(c0.v, 20)"
   ]
  },
  {
   "cell_type": "code",
   "execution_count": null,
   "id": "a79bb314-04a9-43a2-8999-24d243c8085d",
   "metadata": {},
   "outputs": [],
   "source": [
    "topK(tr_analyzer.fcas[layer_0].V[tok_indx], 20)"
   ]
  },
  {
   "cell_type": "code",
   "execution_count": null,
   "id": "fb258eaf-3817-4c24-afcd-00e54fdf49b9",
   "metadata": {},
   "outputs": [],
   "source": [
    "tr_analyzer.fcas[layer_0].V[tok_indx][[887,  6198,  6930, 5530,  5346, 12606,  9190, 13300,  1894]]"
   ]
  },
  {
   "cell_type": "code",
   "execution_count": null,
   "id": "9af8ffef-8fbc-4f1e-ba7a-e832bb9460ca",
   "metadata": {},
   "outputs": [],
   "source": [
    "layer_8 = 8"
   ]
  },
  {
   "cell_type": "code",
   "execution_count": null,
   "id": "a55d3a14-8289-41a6-a9fd-406e80f5efb7",
   "metadata": {},
   "outputs": [],
   "source": [
    "concept_an.gen_concepts([i, j], layer_8, trunc=trunc)"
   ]
  },
  {
   "cell_type": "code",
   "execution_count": null,
   "id": "afb9547c-0e13-4604-ab35-7b3c09536e49",
   "metadata": {},
   "outputs": [],
   "source": []
  },
  {
   "cell_type": "code",
   "execution_count": null,
   "id": "50879ce2-06f2-4809-8392-109ef99fd1fe",
   "metadata": {
    "scrolled": true
   },
   "outputs": [],
   "source": [
    "concept_an.analyze_text(layer_8)"
   ]
  },
  {
   "cell_type": "code",
   "execution_count": null,
   "id": "a3e45de9-6364-4955-9e17-80e40e301378",
   "metadata": {},
   "outputs": [],
   "source": [
    "c8 = concept_an.c_is[layer_8]\n",
    "c8"
   ]
  },
  {
   "cell_type": "code",
   "execution_count": null,
   "id": "471c3e1c-4eb7-452a-bb11-bf39a871514d",
   "metadata": {},
   "outputs": [],
   "source": [
    "c8 & c0"
   ]
  },
  {
   "cell_type": "code",
   "execution_count": null,
   "id": "3b44ceff-398b-42d8-a4d2-c7d315482851",
   "metadata": {},
   "outputs": [],
   "source": [
    "layer_11 = 11"
   ]
  },
  {
   "cell_type": "code",
   "execution_count": null,
   "id": "65ee0acb-1d58-4f85-8a54-d2c0f3917fc5",
   "metadata": {},
   "outputs": [],
   "source": [
    "concept_an.gen_concepts([i, j], layer_11, trunc=trunc)"
   ]
  },
  {
   "cell_type": "code",
   "execution_count": null,
   "id": "4a380831-2c8d-4e36-a558-4eb31d3a26bd",
   "metadata": {
    "scrolled": true
   },
   "outputs": [],
   "source": [
    "concept_an.analyze_text(layer_11)"
   ]
  },
  {
   "cell_type": "code",
   "execution_count": null,
   "id": "abce7a00-3af9-47a2-8442-32163cc83795",
   "metadata": {},
   "outputs": [],
   "source": [
    "c11 = concept_an.c_is[layer_11]\n",
    "c11"
   ]
  },
  {
   "cell_type": "code",
   "execution_count": null,
   "id": "31bd5743-1ecd-40d2-ac6f-be7142311a00",
   "metadata": {},
   "outputs": [],
   "source": [
    "c11_0 = c11 & c0\n",
    "c11_8 = c11 & c8\n",
    "c11_0, c11_8"
   ]
  },
  {
   "cell_type": "code",
   "execution_count": null,
   "id": "adcca46b-135b-4004-8848-e7ed62addb4a",
   "metadata": {},
   "outputs": [],
   "source": [
    "tr_analyzer.det_clean(c11_0.A)"
   ]
  },
  {
   "cell_type": "code",
   "execution_count": null,
   "id": "71fa6eb0-91e8-46c9-b210-c15eb2b382e2",
   "metadata": {},
   "outputs": [],
   "source": [
    "tr_analyzer.det_clean(c11_8.A)"
   ]
  },
  {
   "cell_type": "markdown",
   "id": "6cbde2ed-3688-4841-a9bf-e147eaef2d79",
   "metadata": {},
   "source": [
    "## Test \"Tall Man\""
   ]
  },
  {
   "cell_type": "code",
   "execution_count": null,
   "id": "6fa30096-2e33-4456-90f4-77014a2ea0ca",
   "metadata": {},
   "outputs": [],
   "source": [
    "tok_indx = 3815"
   ]
  },
  {
   "cell_type": "code",
   "execution_count": null,
   "id": "5cecdaa6-1dcc-452e-96bc-9fb3d6fd5702",
   "metadata": {},
   "outputs": [],
   "source": [
    "text_tall_full = tr_analyzer.to_clean(tr_analyzer.tokens[tok_indx])\n",
    "text_tall_full"
   ]
  },
  {
   "cell_type": "code",
   "execution_count": null,
   "id": "b0694e4f-4b68-465f-a418-14e4b9ad50a2",
   "metadata": {},
   "outputs": [],
   "source": [
    "tr_analyzer.to_string(tr_analyzer.tokens[tok_indx])"
   ]
  },
  {
   "cell_type": "code",
   "execution_count": null,
   "id": "0dd03970-f61b-43e8-acf0-c5459d922e41",
   "metadata": {},
   "outputs": [],
   "source": [
    "text_tall = ' Faris — a tall man with a booming laugh — writes the banners'\n",
    "tokn_tall = tr_analyzer.tokenize(text_tall)"
   ]
  },
  {
   "cell_type": "code",
   "execution_count": null,
   "id": "9f6f7b70-5c54-4aba-9d6c-ce890ed15d44",
   "metadata": {},
   "outputs": [],
   "source": [
    "concept_an = ConceptAnalysis(text_tall_full, tr_analyzer)"
   ]
  },
  {
   "cell_type": "code",
   "execution_count": null,
   "id": "cd869609-f1ea-44a2-ab4a-45495adab89d",
   "metadata": {
    "scrolled": true
   },
   "outputs": [],
   "source": [
    "concept_an.analyze_concepts()"
   ]
  },
  {
   "cell_type": "code",
   "execution_count": null,
   "id": "78bd17de-8f2d-431f-838d-bdd9977f3964",
   "metadata": {},
   "outputs": [],
   "source": [
    "t_idcs = [21, 22] #[48, 49, 51]"
   ]
  },
  {
   "cell_type": "code",
   "execution_count": null,
   "id": "f0b870e2-462e-4127-8a08-5b13093c68c9",
   "metadata": {},
   "outputs": [],
   "source": [
    "layer_0 = 0"
   ]
  },
  {
   "cell_type": "code",
   "execution_count": null,
   "id": "ea974c22-2ef1-4118-a10c-d52a18449db7",
   "metadata": {},
   "outputs": [],
   "source": [
    "trunc = 0"
   ]
  },
  {
   "cell_type": "code",
   "execution_count": null,
   "id": "7ee6e8cf-533f-46ff-b0f9-fe0a0a22fa7e",
   "metadata": {
    "scrolled": true
   },
   "outputs": [],
   "source": [
    "concept_an.gen_concepts(t_idcs, layer_0, trunc=trunc)"
   ]
  },
  {
   "cell_type": "code",
   "execution_count": null,
   "id": "4b7bec09-7fff-4293-90c1-a54b96ee87dc",
   "metadata": {
    "scrolled": true
   },
   "outputs": [],
   "source": [
    "concept_an.analyze_text(layer_0, limit=10)"
   ]
  },
  {
   "cell_type": "code",
   "execution_count": null,
   "id": "9e08bfba-8930-4ab7-b318-866d251c3835",
   "metadata": {},
   "outputs": [],
   "source": [
    "topK(concept_an.v_is[layer_0][t_idcs[0]], 10)"
   ]
  },
  {
   "cell_type": "code",
   "execution_count": null,
   "id": "0344d819-3c67-4d4e-ba68-26d7fbe91727",
   "metadata": {},
   "outputs": [],
   "source": [
    "topK(concept_an.v_is[layer_0][t_idcs[1]], 10)"
   ]
  },
  {
   "cell_type": "code",
   "execution_count": null,
   "id": "e0da65d7-de2b-462b-97af-f52ed75bffd6",
   "metadata": {},
   "outputs": [],
   "source": [
    "c_0 = concept_an.gen_concept([20908, 20020], [24, 12], layer_0, neg_idxs=[20908, 20020])\n",
    "c_0"
   ]
  },
  {
   "cell_type": "code",
   "execution_count": null,
   "id": "1a0df5bc-4369-4b4a-9e39-ac31cadab894",
   "metadata": {},
   "outputs": [],
   "source": []
  },
  {
   "cell_type": "code",
   "execution_count": null,
   "id": "d8d7bc90-e753-4c12-9ff9-fe16e088e136",
   "metadata": {},
   "outputs": [],
   "source": []
  },
  {
   "cell_type": "code",
   "execution_count": null,
   "id": "691cf0fb-1714-4d50-964b-3b03df985c6e",
   "metadata": {},
   "outputs": [],
   "source": [
    "concept_an.v_is[layer_0]"
   ]
  },
  {
   "cell_type": "code",
   "execution_count": null,
   "id": "9659e4e6-d195-45e2-9e3a-aff56c2b62e5",
   "metadata": {},
   "outputs": [],
   "source": [
    "layer_8 = 8"
   ]
  },
  {
   "cell_type": "code",
   "execution_count": null,
   "id": "08ba261b-823f-4043-aff4-faff89c9d9a0",
   "metadata": {},
   "outputs": [],
   "source": [
    "concept_an.gen_concepts(t_idcs, layer_8, trunc=trunc)"
   ]
  },
  {
   "cell_type": "code",
   "execution_count": null,
   "id": "46639814-f3e0-4590-8318-00f432bc6f97",
   "metadata": {
    "scrolled": true
   },
   "outputs": [],
   "source": [
    "concept_an.analyze_text(layer_8)"
   ]
  },
  {
   "cell_type": "code",
   "execution_count": null,
   "id": "11eed9a8-939f-46ad-a203-6968bd289607",
   "metadata": {},
   "outputs": [],
   "source": [
    "c8 = concept_an.c_is\n",
    "c8"
   ]
  },
  {
   "cell_type": "code",
   "execution_count": null,
   "id": "3349f526-4f09-4b82-94fc-77324d467e43",
   "metadata": {},
   "outputs": [],
   "source": [
    "c8 & c0"
   ]
  },
  {
   "cell_type": "code",
   "execution_count": null,
   "id": "a44526ad-73cc-478c-803c-cb59586eff7d",
   "metadata": {},
   "outputs": [],
   "source": [
    "layer_11 = 11"
   ]
  },
  {
   "cell_type": "code",
   "execution_count": null,
   "id": "bb6ecd90-184a-4402-b7dd-daaeace9d244",
   "metadata": {},
   "outputs": [],
   "source": [
    "concept_an.gen_concepts(t_idcs, layer_11, trunc=trunc)"
   ]
  },
  {
   "cell_type": "code",
   "execution_count": null,
   "id": "bfff545c-3408-478c-b8ce-1f9f8e4b77e4",
   "metadata": {
    "scrolled": true
   },
   "outputs": [],
   "source": [
    "concept_an.analyze_text(layer_11)"
   ]
  },
  {
   "cell_type": "code",
   "execution_count": null,
   "id": "26f58ef3-7d03-4388-bc57-8bc3fa91f3ec",
   "metadata": {},
   "outputs": [],
   "source": [
    "c11 = concept_an.c_is\n",
    "c11"
   ]
  },
  {
   "cell_type": "code",
   "execution_count": null,
   "id": "2bbbe05c-9fe9-4cfc-9805-3a7cc6f30cb8",
   "metadata": {},
   "outputs": [],
   "source": [
    "c11_0 = c11 & c0\n",
    "c11_8 = c11 & c8\n",
    "c11_0, c11_8"
   ]
  },
  {
   "cell_type": "markdown",
   "id": "426e41f7-3388-44bb-8448-52c61d32ced3",
   "metadata": {},
   "source": [
    "## Experiments with 355 Layer 0 Neuron"
   ]
  },
  {
   "cell_type": "code",
   "execution_count": null,
   "id": "43921878-80da-432b-8ac0-3d0f047f374e",
   "metadata": {},
   "outputs": [],
   "source": [
    "c8 = gen_concept(355, 12, tr_analyzer.fcas[8])\n",
    "c8"
   ]
  },
  {
   "cell_type": "code",
   "execution_count": null,
   "id": "76269bbf-3a49-4cce-bdb4-93ac34c70531",
   "metadata": {},
   "outputs": [],
   "source": [
    "det8 = tr_analyzer.tokens[c8.c.A]"
   ]
  },
  {
   "cell_type": "code",
   "execution_count": null,
   "id": "43b5e819-1adf-41f7-bf64-46c24b91685d",
   "metadata": {},
   "outputs": [],
   "source": [
    "tr_analyzer.to_string(det8[0])"
   ]
  },
  {
   "cell_type": "code",
   "execution_count": null,
   "id": "85052561-05df-442b-97df-729232efa400",
   "metadata": {},
   "outputs": [],
   "source": [
    "topK(c8.v, 10)"
   ]
  },
  {
   "cell_type": "code",
   "execution_count": null,
   "id": "9ea86bee-23e1-481e-b291-992efb2d3c8f",
   "metadata": {
    "scrolled": true
   },
   "outputs": [],
   "source": [
    "tr_analyzer.print_all_detected_tokens(8, det8, c8.v, with_text=True)"
   ]
  },
  {
   "cell_type": "code",
   "execution_count": null,
   "id": "2a9c1fa9-ec46-4b0d-9e3c-4a6dd2c527d9",
   "metadata": {},
   "outputs": [],
   "source": [
    "c01 = gen_concept(16632, 8.8, tr_analyzer.fcas[0])\n",
    "c02 = gen_concept(9188, 8.8, tr_analyzer.fcas[0])\n",
    "c03 = gen_concept(9853, 8.8, tr_analyzer.fcas[0])\n",
    "c01, c02, c03"
   ]
  },
  {
   "cell_type": "code",
   "execution_count": null,
   "id": "dfe1fc9f-870f-43e8-abd1-10a024541e26",
   "metadata": {},
   "outputs": [],
   "source": [
    "det01 = tr_analyzer.tokens[c01.c.A]\n",
    "det02 = tr_analyzer.tokens[c02.c.A]\n",
    "det03 = tr_analyzer.tokens[c03.c.A]"
   ]
  },
  {
   "cell_type": "code",
   "execution_count": null,
   "id": "1d61b1d1-1472-4eb5-902d-ee6e3ab2ef12",
   "metadata": {
    "scrolled": true
   },
   "outputs": [],
   "source": [
    "w01, _, _ = tr_analyzer.detect_token(0, det01[0], c01.v)\n",
    "w02, _, _ = tr_analyzer.detect_token(0, det02[0], c02.v)\n",
    "w03, _, _ = tr_analyzer.detect_token(0, det03[0], c03.v)"
   ]
  },
  {
   "cell_type": "code",
   "execution_count": null,
   "id": "80374be1-87c6-4cd9-b8e2-1b42a2585479",
   "metadata": {},
   "outputs": [],
   "source": [
    "w01, w02, w03"
   ]
  },
  {
   "cell_type": "code",
   "execution_count": null,
   "id": "8dfb22a4-ee33-416c-af2c-c4ed261d4156",
   "metadata": {},
   "outputs": [],
   "source": [
    "w81, vs, ts = tr_analyzer.detect_token(8, det8[0], c8.v)"
   ]
  },
  {
   "cell_type": "code",
   "execution_count": null,
   "id": "d8cc3006-9ba6-4c08-877c-adee052e1dca",
   "metadata": {
    "scrolled": true
   },
   "outputs": [],
   "source": [
    "topK(vs[0], 100)"
   ]
  },
  {
   "cell_type": "code",
   "execution_count": null,
   "id": "4a264517-adf3-4ed6-a19c-20f556abb445",
   "metadata": {},
   "outputs": [],
   "source": [
    "w81"
   ]
  },
  {
   "cell_type": "code",
   "execution_count": null,
   "id": "315215f8-64b1-456d-9b00-eba3ed6a7a7b",
   "metadata": {},
   "outputs": [],
   "source": [
    "wr8 = tr_analyzer.to_string(det8[0][108])\n",
    "wr8"
   ]
  },
  {
   "cell_type": "code",
   "execution_count": null,
   "id": "09a71c21-1080-4a29-8ceb-f7986153805a",
   "metadata": {},
   "outputs": [],
   "source": [
    "tr_analyzer.to_string(det01[0][32])"
   ]
  },
  {
   "cell_type": "code",
   "execution_count": null,
   "id": "b6722e09-423a-433d-a765-9cb3f14a429b",
   "metadata": {},
   "outputs": [],
   "source": [
    "tr_analyzer.to_string(det02[0][79])"
   ]
  },
  {
   "cell_type": "code",
   "execution_count": null,
   "id": "88258bad-54b8-41ce-9007-a939266db09a",
   "metadata": {},
   "outputs": [],
   "source": [
    "tr_analyzer.to_string(det03[0][[66, 71]])"
   ]
  },
  {
   "cell_type": "code",
   "execution_count": null,
   "id": "d24a4e42-024c-4399-9fc9-0077fda8ba18",
   "metadata": {},
   "outputs": [],
   "source": [
    "v_c8 = tr_analyzer.encode(wr8, 8)[0]"
   ]
  },
  {
   "cell_type": "code",
   "execution_count": null,
   "id": "652d02b8-ab23-41ce-a8bf-12c0ae6cac56",
   "metadata": {
    "scrolled": true
   },
   "outputs": [],
   "source": [
    "topK(v_c8[1], 100)"
   ]
  },
  {
   "cell_type": "code",
   "execution_count": null,
   "id": "92c88643-2870-4639-8c6c-062490d7c516",
   "metadata": {},
   "outputs": [],
   "source": [
    "c8_idx = gen_concept(8232, 12, tr_analyzer.fcas[8])\n",
    "c8_idx"
   ]
  },
  {
   "cell_type": "code",
   "execution_count": null,
   "id": "ac82c6b2-3594-447d-b4fa-5e45b7f5b1e4",
   "metadata": {},
   "outputs": [],
   "source": [
    "det8_idx = tr_analyzer.tokens[c8_idx.c.A]"
   ]
  },
  {
   "cell_type": "code",
   "execution_count": null,
   "id": "7e72139a-0094-48e4-bc64-da17f6ec11ed",
   "metadata": {},
   "outputs": [],
   "source": [
    "w8_idx = tr_analyzer.detect_token(8, det8_idx[0], c8_idx.v)"
   ]
  },
  {
   "cell_type": "code",
   "execution_count": null,
   "id": "6f8ca9e5-4019-4702-a8a6-96586fa2a6a2",
   "metadata": {},
   "outputs": [],
   "source": [
    "w8_idx"
   ]
  },
  {
   "cell_type": "code",
   "execution_count": null,
   "id": "9726feb5-fdc4-44fc-9ba2-6b9472503de2",
   "metadata": {},
   "outputs": [],
   "source": [
    "tr_analyzer.to_string(det8_idx[0][1])"
   ]
  },
  {
   "cell_type": "code",
   "execution_count": null,
   "id": "6c6c7c36-6b17-4b1b-a1a1-2ac71970bfe1",
   "metadata": {
    "scrolled": true
   },
   "outputs": [],
   "source": [
    "tr_analyzer.to_string(det8_idx)"
   ]
  },
  {
   "cell_type": "code",
   "execution_count": null,
   "id": "8dcb2848-fce6-47f4-94ee-e03d470e6cbd",
   "metadata": {},
   "outputs": [],
   "source": [
    "text = tr_analyzer.to_string(tr_analyzer.tokens[0])"
   ]
  },
  {
   "cell_type": "code",
   "execution_count": null,
   "id": "99cdd5ff-fa97-4cf0-bd64-0c6a8349e60d",
   "metadata": {},
   "outputs": [],
   "source": [
    "text"
   ]
  },
  {
   "cell_type": "code",
   "execution_count": null,
   "id": "f3317788-8dc6-407a-9d92-0db65acf0982",
   "metadata": {},
   "outputs": [],
   "source": [
    "text2 = 'him from behind, Heat get offensive Rebound. This shouldn’t have been a big deal because this type of thing happens all the time. It occurred before the previous play shown, but I moved it to draw attention to what happened two minutes later. Noah gets called for his second foul for jumping behind LeBron James. Just after Bosh did the same. He sits for the remainder of the quarter. A fan provokes him, you know the rest. This wasn’t a foul. I have two replays of it. And if it was a foul, then how come Bosh is allowed to do the same thing?'"
   ]
  },
  {
   "cell_type": "code",
   "execution_count": null,
   "id": "acbf9a98-c837-41ed-805a-29d43bc04bb5",
   "metadata": {},
   "outputs": [],
   "source": []
  },
  {
   "cell_type": "code",
   "execution_count": null,
   "id": "191261c0-3bb6-4796-be3c-243a05b9ea27",
   "metadata": {},
   "outputs": [],
   "source": [
    "v1 = tr_analyzer.encode(text2, 0)[0]\n",
    "v2 = tr_analyzer.encode(tr_analyzer.tokens[0], 0)[0]"
   ]
  },
  {
   "cell_type": "code",
   "execution_count": null,
   "id": "e6fd2f86-75db-4008-856c-d3b12608f559",
   "metadata": {},
   "outputs": [],
   "source": [
    "v1.shape, v2.shape"
   ]
  },
  {
   "cell_type": "code",
   "execution_count": null,
   "id": "53194bfc-8eaf-4cd1-8679-f8989a60dfff",
   "metadata": {},
   "outputs": [],
   "source": [
    "v1[v1 != v2], v2[v1 != v2]"
   ]
  },
  {
   "cell_type": "code",
   "execution_count": null,
   "id": "e34e77a6-3d7c-4c9f-98ec-cf4bc6db0a50",
   "metadata": {},
   "outputs": [],
   "source": [
    "tokens = tr_analyzer.tokenize(text2)[0]\n",
    "tr_analyzer.to_string(tokens)"
   ]
  },
  {
   "cell_type": "code",
   "execution_count": null,
   "id": "0685c1fe-45d0-4d4e-8400-1000cf28f4cc",
   "metadata": {},
   "outputs": [],
   "source": [
    "tokens.shape, tr_analyzer.tokens[0].shape"
   ]
  },
  {
   "cell_type": "markdown",
   "id": "cecc8233-4197-41fa-b317-447089d0ece9",
   "metadata": {},
   "source": [
    "## Test from Data NBA"
   ]
  },
  {
   "cell_type": "code",
   "execution_count": null,
   "id": "d689c64a-e2bb-40f5-8b92-ed59599e5cdf",
   "metadata": {},
   "outputs": [],
   "source": [
    "tok_indx = 0"
   ]
  },
  {
   "cell_type": "code",
   "execution_count": null,
   "id": "98b8e326-edb5-4648-b309-1077220d81df",
   "metadata": {},
   "outputs": [],
   "source": [
    "text_nba_full = tr_analyzer.to_clean(tr_analyzer.tokens[tok_indx])\n",
    "text_nba_full"
   ]
  },
  {
   "cell_type": "code",
   "execution_count": null,
   "id": "afb85887-f7a9-4497-b35e-0ac8190e91de",
   "metadata": {},
   "outputs": [],
   "source": [
    "tr_analyzer.to_string(tr_analyzer.tokens[tok_indx])"
   ]
  },
  {
   "cell_type": "code",
   "execution_count": null,
   "id": "5a536bb7-4ea2-485c-9063-ba1868154f72",
   "metadata": {},
   "outputs": [],
   "source": [
    "text_nba = ' Noah gets called for his second foul for jumping behind LeBron James'\n",
    "tokn_nba = tr_analyzer.tokenize(text_nba)"
   ]
  },
  {
   "cell_type": "code",
   "execution_count": null,
   "id": "80eb34f4-7900-4d14-9da7-0e24c5beac20",
   "metadata": {},
   "outputs": [],
   "source": [
    "concept_an = ConceptAnalysis(text_nba_full, tr_analyzer)"
   ]
  },
  {
   "cell_type": "code",
   "execution_count": null,
   "id": "5ed411d6-2a94-41fa-acd4-5149a5a656ea",
   "metadata": {
    "scrolled": true
   },
   "outputs": [],
   "source": [
    "concept_an.analyze_concepts()"
   ]
  },
  {
   "cell_type": "code",
   "execution_count": null,
   "id": "b37b6e12-7e90-4693-a71c-9647e3a207d5",
   "metadata": {},
   "outputs": [],
   "source": [
    "i, j = 56, 57"
   ]
  },
  {
   "cell_type": "code",
   "execution_count": null,
   "id": "343a9df1-5d0e-4260-8ed7-e513ad69bd8f",
   "metadata": {},
   "outputs": [],
   "source": [
    "layer_0 = 0"
   ]
  },
  {
   "cell_type": "code",
   "execution_count": null,
   "id": "f56c2b75-e498-46ca-8725-5726955f2d4a",
   "metadata": {},
   "outputs": [],
   "source": [
    "trunc = 0"
   ]
  },
  {
   "cell_type": "code",
   "execution_count": null,
   "id": "dbf59e97-8af2-4a92-bd74-dff185a34210",
   "metadata": {
    "scrolled": true
   },
   "outputs": [],
   "source": [
    "concept_an.gen_concepts([i, j], layer_0, trunc=trunc)"
   ]
  },
  {
   "cell_type": "code",
   "execution_count": null,
   "id": "bd6942cb-6dd3-4c45-8b96-5c8750fc43a7",
   "metadata": {
    "scrolled": true
   },
   "outputs": [],
   "source": [
    "concept_an.analyze_text(layer_0, limit=10)"
   ]
  },
  {
   "cell_type": "code",
   "execution_count": null,
   "id": "ee553150-cae1-4cac-8885-99d14567b5f7",
   "metadata": {},
   "outputs": [],
   "source": [
    "c0 = concept_an.c_is\n",
    "c0"
   ]
  },
  {
   "cell_type": "code",
   "execution_count": null,
   "id": "f8fd57b3-7693-41ed-851d-d4837cb2fdf3",
   "metadata": {
    "scrolled": true
   },
   "outputs": [],
   "source": [
    "c0.A"
   ]
  },
  {
   "cell_type": "code",
   "execution_count": null,
   "id": "20a47408-56c7-4c0f-bba6-e4410e464c4c",
   "metadata": {},
   "outputs": [],
   "source": [
    "concept_an.v_is"
   ]
  },
  {
   "cell_type": "code",
   "execution_count": null,
   "id": "80e89fe5-6e71-46d8-b1e7-33e1529c7ca6",
   "metadata": {},
   "outputs": [],
   "source": [
    "le(\n",
    "    concept_an.v_is[layer_0][i], tr_analyzer.fcas[layer_0].V[tok_indx]\n",
    "), le(\n",
    "    concept_an.v_is[layer_0][j], tr_analyzer.fcas[layer_0].V[tok_indx]\n",
    "), le(join(\n",
    "    concept_an.v_is[layer_0][i], concept_an.v_is[layer_0][j]\n",
    "), tr_analyzer.fcas[layer_0].V[tok_indx])"
   ]
  },
  {
   "cell_type": "code",
   "execution_count": null,
   "id": "1ea25fd6-6583-43b8-a964-737ea04e839b",
   "metadata": {},
   "outputs": [],
   "source": [
    "topK(c0.v, 20)"
   ]
  },
  {
   "cell_type": "code",
   "execution_count": null,
   "id": "7cd901fd-5eb9-40d2-a443-454ede385935",
   "metadata": {},
   "outputs": [],
   "source": [
    "topK(tr_analyzer.fcas[0].V[0], 20)"
   ]
  },
  {
   "cell_type": "code",
   "execution_count": null,
   "id": "ed7fd57a-ac26-4788-9ca3-2c4360ee9cd9",
   "metadata": {},
   "outputs": [],
   "source": [
    "tr_analyzer.fcas[0].V[0][[887,  6198,  6930, 5530,  5346, 12606,  9190, 13300,  1894]]"
   ]
  },
  {
   "cell_type": "code",
   "execution_count": null,
   "id": "73954bb1-278c-4321-b9df-62632e048dae",
   "metadata": {},
   "outputs": [],
   "source": [
    "layer_8 = 8"
   ]
  },
  {
   "cell_type": "code",
   "execution_count": null,
   "id": "a039914f-67af-4ae9-9cfe-11bc404fd99d",
   "metadata": {},
   "outputs": [],
   "source": [
    "concept_an.gen_concepts([i, j], layer_8, trunc=trunc)"
   ]
  },
  {
   "cell_type": "code",
   "execution_count": null,
   "id": "592fd393-ad09-43bc-8a59-732d6b2fcf9f",
   "metadata": {
    "scrolled": true
   },
   "outputs": [],
   "source": [
    "concept_an.analyze_text(layer_8)"
   ]
  },
  {
   "cell_type": "code",
   "execution_count": null,
   "id": "8215692c-448e-4172-947b-86298859638f",
   "metadata": {},
   "outputs": [],
   "source": [
    "c8 = concept_an.c_is\n",
    "c8"
   ]
  },
  {
   "cell_type": "code",
   "execution_count": null,
   "id": "23ef8de5-f22d-4236-bf7d-f7b5327fa891",
   "metadata": {},
   "outputs": [],
   "source": [
    "c8 & c0"
   ]
  },
  {
   "cell_type": "code",
   "execution_count": null,
   "id": "4cbfc855-20c4-4a1b-ab77-2d892d06060c",
   "metadata": {},
   "outputs": [],
   "source": [
    "layer_11 = 11"
   ]
  },
  {
   "cell_type": "code",
   "execution_count": null,
   "id": "e3894142-b366-48b1-9e63-ddc0629911f7",
   "metadata": {},
   "outputs": [],
   "source": [
    "concept_an.gen_concepts([i, j], layer_11, trunc=trunc)"
   ]
  },
  {
   "cell_type": "code",
   "execution_count": null,
   "id": "8734cdf5-e101-4460-9ba4-41424d24a1c6",
   "metadata": {
    "scrolled": true
   },
   "outputs": [],
   "source": [
    "concept_an.analyze_text(layer_11)"
   ]
  },
  {
   "cell_type": "code",
   "execution_count": null,
   "id": "d1a1eaff-9496-4649-802c-41764f8fdb70",
   "metadata": {},
   "outputs": [],
   "source": [
    "c11 = concept_an.c_is\n",
    "c11"
   ]
  },
  {
   "cell_type": "code",
   "execution_count": null,
   "id": "06775acd-a776-4d4a-94ac-2d31aaa59f68",
   "metadata": {},
   "outputs": [],
   "source": [
    "c11_0 = c11 & c0\n",
    "c11_8 = c11 & c8\n",
    "c11_0, c11_8"
   ]
  },
  {
   "cell_type": "markdown",
   "id": "cd6269a5-05bb-4fe0-976e-e2511c85e5b5",
   "metadata": {},
   "source": [
    "## Test NBA Name and Last Name"
   ]
  },
  {
   "cell_type": "code",
   "execution_count": null,
   "id": "8a711e07-0574-480e-8dfa-5f425a2ea8c3",
   "metadata": {},
   "outputs": [],
   "source": [
    "tok_indx = 0"
   ]
  },
  {
   "cell_type": "code",
   "execution_count": null,
   "id": "d434ed7b-09cb-412f-9140-cb56d59c0660",
   "metadata": {},
   "outputs": [],
   "source": [
    "text_nba_full = tr_analyzer.to_clean(tr_analyzer.tokens[tok_indx])\n",
    "text_nba_full"
   ]
  },
  {
   "cell_type": "code",
   "execution_count": null,
   "id": "b6fbf06a-090b-42e6-b027-8a4850248609",
   "metadata": {},
   "outputs": [],
   "source": [
    "tr_analyzer.to_string(tr_analyzer.tokens[tok_indx])"
   ]
  },
  {
   "cell_type": "code",
   "execution_count": null,
   "id": "09a5ec60-c22b-4cbb-b28a-50d663892b55",
   "metadata": {},
   "outputs": [],
   "source": [
    "text_nba = ' Noah gets called for his second foul for jumping behind LeBron James'\n",
    "tokn_nba = tr_analyzer.tokenize(text_nba)"
   ]
  },
  {
   "cell_type": "code",
   "execution_count": null,
   "id": "57167d8e-49fc-4e42-a1bd-c028d8b3a0c5",
   "metadata": {},
   "outputs": [],
   "source": [
    "concept_an = ConceptAnalysis(text_nba_full, tr_analyzer)"
   ]
  },
  {
   "cell_type": "code",
   "execution_count": null,
   "id": "544b8aaa-194d-4cff-921f-d4fdf0832f07",
   "metadata": {
    "scrolled": true
   },
   "outputs": [],
   "source": [
    "concept_an.analyze_concepts()"
   ]
  },
  {
   "cell_type": "code",
   "execution_count": null,
   "id": "c43bf464-b298-4b2e-bc95-926c2e185079",
   "metadata": {},
   "outputs": [],
   "source": [
    "i, j = 63, 64"
   ]
  },
  {
   "cell_type": "code",
   "execution_count": null,
   "id": "2d250c05-fc04-450b-a2ea-a5d05dcecaf1",
   "metadata": {},
   "outputs": [],
   "source": [
    "layer_0 = 0"
   ]
  },
  {
   "cell_type": "code",
   "execution_count": null,
   "id": "29e570bc-c2e9-47b1-af56-bad9a0d59683",
   "metadata": {},
   "outputs": [],
   "source": [
    "trunc = 0"
   ]
  },
  {
   "cell_type": "code",
   "execution_count": null,
   "id": "da279b18-167a-49c3-8621-31163451d647",
   "metadata": {
    "scrolled": true
   },
   "outputs": [],
   "source": [
    "concept_an.gen_concepts([i, j], layer_0, trunc=trunc)"
   ]
  },
  {
   "cell_type": "code",
   "execution_count": null,
   "id": "94137218-288e-43c3-914c-c134b07659b4",
   "metadata": {
    "scrolled": true
   },
   "outputs": [],
   "source": [
    "concept_an.analyze_text(layer_0)"
   ]
  },
  {
   "cell_type": "code",
   "execution_count": null,
   "id": "b7797fda-ec6d-44bb-a594-2aeef92e63f3",
   "metadata": {},
   "outputs": [],
   "source": [
    "c0 = concept_an.c_is\n",
    "c0"
   ]
  },
  {
   "cell_type": "code",
   "execution_count": null,
   "id": "bbcad407-9c04-4d1e-87a7-d6598ce1dcfa",
   "metadata": {
    "scrolled": true
   },
   "outputs": [],
   "source": [
    "c0.A"
   ]
  },
  {
   "cell_type": "code",
   "execution_count": null,
   "id": "74e28222-8309-4023-a292-f66423d51328",
   "metadata": {},
   "outputs": [],
   "source": [
    "concept_an.v_is"
   ]
  },
  {
   "cell_type": "code",
   "execution_count": null,
   "id": "c6701d68-b72c-437c-9dbf-ab2251688ee9",
   "metadata": {},
   "outputs": [],
   "source": [
    "le(\n",
    "    concept_an.v_is[layer_0][i], tr_analyzer.fcas[layer_0].V[tok_indx]\n",
    "), le(\n",
    "    concept_an.v_is[layer_0][j], tr_analyzer.fcas[layer_0].V[tok_indx]\n",
    "), le(join(\n",
    "    concept_an.v_is[layer_0][i], concept_an.v_is[layer_0][j]\n",
    "), tr_analyzer.fcas[layer_0].V[tok_indx])"
   ]
  },
  {
   "cell_type": "code",
   "execution_count": null,
   "id": "9f3b85f7-7fb8-445b-ab9c-c3cb155df688",
   "metadata": {},
   "outputs": [],
   "source": [
    "topK(c0.v, 20)"
   ]
  },
  {
   "cell_type": "code",
   "execution_count": null,
   "id": "78959a82-4a75-4ed9-a67d-d1dfb0464582",
   "metadata": {},
   "outputs": [],
   "source": [
    "topK(tr_analyzer.fcas[layer_0].V[tok_indx], 20)"
   ]
  },
  {
   "cell_type": "code",
   "execution_count": null,
   "id": "ea5baff7-bf5d-4063-8620-0ab732938eaf",
   "metadata": {},
   "outputs": [],
   "source": [
    "tr_analyzer.fcas[layer_0].V[tok_indx][[887, 6198, 6930, 5530, 5346, 12606, 9190, 13300, 1894]]"
   ]
  },
  {
   "cell_type": "code",
   "execution_count": null,
   "id": "e4100820-46e9-4f78-915c-4cd204494414",
   "metadata": {},
   "outputs": [],
   "source": [
    "layer_8 = 8"
   ]
  },
  {
   "cell_type": "code",
   "execution_count": null,
   "id": "5c210bdd-9ca7-42f4-b7c8-bbd4c14cdd6d",
   "metadata": {},
   "outputs": [],
   "source": [
    "concept_an.gen_concepts([i, j], layer_8, trunc=trunc)"
   ]
  },
  {
   "cell_type": "code",
   "execution_count": null,
   "id": "ef199acd-fa7e-4904-91c5-4c161ec98038",
   "metadata": {
    "scrolled": true
   },
   "outputs": [],
   "source": [
    "concept_an.analyze_text(layer_8)"
   ]
  },
  {
   "cell_type": "code",
   "execution_count": null,
   "id": "ccef2581-0329-43b6-a28c-c3b179559e0b",
   "metadata": {},
   "outputs": [],
   "source": [
    "c8 = concept_an.c_is\n",
    "c8"
   ]
  },
  {
   "cell_type": "code",
   "execution_count": null,
   "id": "5596d4a9-c307-45e1-a3ed-37706f03334e",
   "metadata": {},
   "outputs": [],
   "source": [
    "c8 & c0"
   ]
  },
  {
   "cell_type": "code",
   "execution_count": null,
   "id": "5417acaa-f664-4bcd-9914-97dcf5d7cef8",
   "metadata": {},
   "outputs": [],
   "source": [
    "layer_11 = 11"
   ]
  },
  {
   "cell_type": "code",
   "execution_count": null,
   "id": "6e26e34d-e1a6-4cb0-a2e8-8ebef27a319f",
   "metadata": {},
   "outputs": [],
   "source": [
    "concept_an.gen_concepts([i, j], layer_11, trunc=trunc)"
   ]
  },
  {
   "cell_type": "code",
   "execution_count": null,
   "id": "e634883c-75c8-4dbf-8566-1deb8b18421e",
   "metadata": {
    "scrolled": true
   },
   "outputs": [],
   "source": [
    "concept_an.analyze_text(layer_11)"
   ]
  },
  {
   "cell_type": "code",
   "execution_count": null,
   "id": "af45a56a-76c9-4f29-b335-50696226bd74",
   "metadata": {},
   "outputs": [],
   "source": [
    "c11 = concept_an.c_is\n",
    "c11"
   ]
  },
  {
   "cell_type": "code",
   "execution_count": null,
   "id": "3cc61bbb-6893-4909-8b58-9b09f5fa8f07",
   "metadata": {},
   "outputs": [],
   "source": [
    "c11_0 = c11 & c0\n",
    "c11_8 = c11 & c8\n",
    "c11_0, c11_8"
   ]
  },
  {
   "cell_type": "code",
   "execution_count": null,
   "id": "572dfc39-131f-418d-9c1d-aaae3d8c209d",
   "metadata": {},
   "outputs": [],
   "source": []
  },
  {
   "cell_type": "markdown",
   "id": "5e47260b-4866-48ca-bd1c-9a093e36a918",
   "metadata": {},
   "source": [
    "## Test Cat Out of Bag"
   ]
  },
  {
   "cell_type": "code",
   "execution_count": null,
   "id": "5d8774b0-cda3-432e-849f-799092766b21",
   "metadata": {},
   "outputs": [],
   "source": [
    "tok_indx = 4077"
   ]
  },
  {
   "cell_type": "code",
   "execution_count": null,
   "id": "1e1a930a-4b53-4c35-8030-d081978d26d7",
   "metadata": {},
   "outputs": [],
   "source": [
    "text_cat_full = tr_analyzer.to_clean(tr_analyzer.tokens[tok_indx])\n",
    "text_cat_full"
   ]
  },
  {
   "cell_type": "code",
   "execution_count": null,
   "id": "0204ec23-ddb2-4ebc-a667-457e55b34b4d",
   "metadata": {},
   "outputs": [],
   "source": [
    "tr_analyzer.to_string(tr_analyzer.tokens[tok_indx])"
   ]
  },
  {
   "cell_type": "code",
   "execution_count": null,
   "id": "9c82c0d4-c7db-4281-b6af-2737ad618826",
   "metadata": {},
   "outputs": [],
   "source": [
    "text_cat = ' Ha. You think I’m gonna let the cat out of the bag today?'\n",
    "tokn_cat = tr_analyzer.tokenize(text_cat)"
   ]
  },
  {
   "cell_type": "code",
   "execution_count": null,
   "id": "6c2c4a0f-ede8-44a5-a763-cf98ea314d98",
   "metadata": {},
   "outputs": [],
   "source": [
    "concept_an = ConceptAnalysis(text_cat_full, tr_analyzer)"
   ]
  },
  {
   "cell_type": "code",
   "execution_count": null,
   "id": "c3c407f6-f06f-4231-96ba-21f9187f6be5",
   "metadata": {
    "scrolled": true
   },
   "outputs": [],
   "source": [
    "concept_an.analyze_concepts()"
   ]
  },
  {
   "cell_type": "code",
   "execution_count": null,
   "id": "9e38c29f-ab1d-465b-bbb3-406722b58b10",
   "metadata": {},
   "outputs": [],
   "source": [
    "i, j = 27, 31"
   ]
  },
  {
   "cell_type": "code",
   "execution_count": null,
   "id": "06b886ee-0120-4da0-ba60-481e2686d834",
   "metadata": {},
   "outputs": [],
   "source": [
    "layer_0 = 0"
   ]
  },
  {
   "cell_type": "code",
   "execution_count": null,
   "id": "72e9f46d-c33a-4c28-8bf1-b96b81842990",
   "metadata": {},
   "outputs": [],
   "source": [
    "trunc = 0"
   ]
  },
  {
   "cell_type": "code",
   "execution_count": null,
   "id": "2d663d21-bdd3-4186-bc30-1ca806a9771a",
   "metadata": {
    "scrolled": true
   },
   "outputs": [],
   "source": [
    "concept_an.gen_concepts([i, j], layer_0, trunc=trunc)"
   ]
  },
  {
   "cell_type": "code",
   "execution_count": null,
   "id": "06008b74-2055-43c4-9821-a2aad22d7d65",
   "metadata": {
    "scrolled": true
   },
   "outputs": [],
   "source": [
    "concept_an.analyze_text(layer_0)"
   ]
  },
  {
   "cell_type": "code",
   "execution_count": null,
   "id": "65c2438d-ff64-4a58-b92e-1871b95a34e1",
   "metadata": {},
   "outputs": [],
   "source": [
    "c0 = concept_an.c_is\n",
    "c0"
   ]
  },
  {
   "cell_type": "code",
   "execution_count": null,
   "id": "bb95ccbe-2aab-4a5a-9c5e-66dfb6bdb0f8",
   "metadata": {
    "scrolled": true
   },
   "outputs": [],
   "source": [
    "c0.A"
   ]
  },
  {
   "cell_type": "code",
   "execution_count": null,
   "id": "6d9fe9dd-e465-42c4-bd65-2f36a9dd9a0a",
   "metadata": {},
   "outputs": [],
   "source": [
    "layer_8 = 8"
   ]
  },
  {
   "cell_type": "code",
   "execution_count": null,
   "id": "5db2be62-c0e1-48d1-88b5-a5098816fd78",
   "metadata": {},
   "outputs": [],
   "source": [
    "concept_an.gen_concepts([i, j], layer_8, trunc=trunc)"
   ]
  },
  {
   "cell_type": "code",
   "execution_count": null,
   "id": "7d9ef519-8386-4b3e-9060-b31fd889945e",
   "metadata": {
    "scrolled": true
   },
   "outputs": [],
   "source": [
    "concept_an.analyze_text(layer_8)"
   ]
  },
  {
   "cell_type": "code",
   "execution_count": null,
   "id": "1b4f2d87-2b29-420f-8bb7-65d1ea0d4926",
   "metadata": {},
   "outputs": [],
   "source": [
    "c8 = concept_an.c_is\n",
    "c8"
   ]
  },
  {
   "cell_type": "code",
   "execution_count": null,
   "id": "adc4aeef-83d3-4014-b999-9fc97f7d23d5",
   "metadata": {},
   "outputs": [],
   "source": [
    "c8 & c0"
   ]
  },
  {
   "cell_type": "code",
   "execution_count": null,
   "id": "c741295a-55f5-4269-bcda-b880b32bc6ad",
   "metadata": {},
   "outputs": [],
   "source": [
    "layer_11 = 11"
   ]
  },
  {
   "cell_type": "code",
   "execution_count": null,
   "id": "478b138f-4998-43cf-b549-e80369237002",
   "metadata": {},
   "outputs": [],
   "source": [
    "concept_an.gen_concepts([i, j], layer_11, trunc=trunc)"
   ]
  },
  {
   "cell_type": "code",
   "execution_count": null,
   "id": "25b4dd9d-bfd2-4b18-8db7-18c53ff729e2",
   "metadata": {
    "scrolled": true
   },
   "outputs": [],
   "source": [
    "concept_an.analyze_text(layer_11)"
   ]
  },
  {
   "cell_type": "code",
   "execution_count": null,
   "id": "95681486-4d82-4651-9658-c409f2d8a2a5",
   "metadata": {},
   "outputs": [],
   "source": [
    "c11 = concept_an.c_is\n",
    "c11"
   ]
  },
  {
   "cell_type": "code",
   "execution_count": null,
   "id": "b2b6bbbf-1a20-4921-bcca-4459e0dbb0b4",
   "metadata": {},
   "outputs": [],
   "source": [
    "c11_0 = c11 & c0\n",
    "c11_8 = c11 & c8\n",
    "c11_0, c11_8"
   ]
  },
  {
   "cell_type": "code",
   "execution_count": null,
   "id": "12f53921-23d9-4051-9e1a-9cedaf514a45",
   "metadata": {},
   "outputs": [],
   "source": []
  },
  {
   "cell_type": "markdown",
   "id": "4768fdd6-9c42-4a5d-bf30-956aae1401b4",
   "metadata": {},
   "source": [
    "# Test \"political sphere\""
   ]
  },
  {
   "cell_type": "code",
   "execution_count": null,
   "id": "31ddd798-6dea-4757-8c60-7a8bb6ff7a98",
   "metadata": {},
   "outputs": [],
   "source": [
    "tok_indx = 1"
   ]
  },
  {
   "cell_type": "code",
   "execution_count": null,
   "id": "16629ede-6c25-4b85-b62a-eaffd2349747",
   "metadata": {},
   "outputs": [],
   "source": [
    "text_pol_full = tr_analyzer.to_clean(tr_analyzer.tokens[tok_indx])\n",
    "text_pol_full"
   ]
  },
  {
   "cell_type": "code",
   "execution_count": null,
   "id": "df6108f2-80d3-40c3-a38e-a144f73f1354",
   "metadata": {},
   "outputs": [],
   "source": [
    "text_pol = ' According to Sangh system, office bearers cannot work in the political sphere.'\n",
    "tokn_pol = tr_analyzer.tokenize(text_pol)"
   ]
  },
  {
   "cell_type": "code",
   "execution_count": null,
   "id": "bf0d1523-bb57-4ca5-8939-165f976ddbfd",
   "metadata": {},
   "outputs": [],
   "source": [
    "concept_an = ConceptAnalysis(text_pol_full, tr_analyzer)"
   ]
  },
  {
   "cell_type": "code",
   "execution_count": null,
   "id": "fb69c70e-8287-414d-b701-3124a3429bd9",
   "metadata": {
    "scrolled": true
   },
   "outputs": [],
   "source": [
    "concept_an.analyze_concepts()"
   ]
  },
  {
   "cell_type": "code",
   "execution_count": null,
   "id": "304b3418-e6bc-40c6-b0bb-3bbfe015477b",
   "metadata": {},
   "outputs": [],
   "source": [
    "layer_0 = 0"
   ]
  },
  {
   "cell_type": "code",
   "execution_count": null,
   "id": "520c8616-9ed1-4da1-beaa-a0ca85f48614",
   "metadata": {},
   "outputs": [],
   "source": [
    "i, j = 21, 22"
   ]
  },
  {
   "cell_type": "code",
   "execution_count": null,
   "id": "d9dac3b5-4e55-4050-8c99-f2860cb73534",
   "metadata": {
    "scrolled": true
   },
   "outputs": [],
   "source": [
    "concept_an.gen_concepts([i, j], layer_0)"
   ]
  },
  {
   "cell_type": "code",
   "execution_count": null,
   "id": "c54beaad-db4d-4c1a-8206-1a679da53a46",
   "metadata": {
    "scrolled": true
   },
   "outputs": [],
   "source": [
    "concept_an.analyze_text(layer_0)"
   ]
  },
  {
   "cell_type": "code",
   "execution_count": null,
   "id": "46aa42e7-ef61-4ca5-8800-3b5a61b6927b",
   "metadata": {},
   "outputs": [],
   "source": [
    "layer_8 = 8"
   ]
  },
  {
   "cell_type": "code",
   "execution_count": null,
   "id": "39db95eb-10ee-4b32-aa6f-eb8b3462f367",
   "metadata": {
    "scrolled": true
   },
   "outputs": [],
   "source": [
    "concept_an.gen_concepts([i, j], layer_8)"
   ]
  },
  {
   "cell_type": "code",
   "execution_count": null,
   "id": "a9ae71b1-d959-4ddd-8f34-56f19b9184de",
   "metadata": {
    "scrolled": true
   },
   "outputs": [],
   "source": [
    "concept_an.analyze_text(layer_8)"
   ]
  },
  {
   "cell_type": "code",
   "execution_count": null,
   "id": "0a1f63ae-44a3-4c4f-982e-6855322dd44f",
   "metadata": {},
   "outputs": [],
   "source": [
    "layer_11 = 11"
   ]
  },
  {
   "cell_type": "code",
   "execution_count": null,
   "id": "b1f5c613-45c3-454b-b182-180ba7f89fe7",
   "metadata": {},
   "outputs": [],
   "source": [
    "concept_an.gen_concepts([i, j], layer_11)"
   ]
  },
  {
   "cell_type": "code",
   "execution_count": null,
   "id": "1d99fa8d-dce7-47cc-b6a0-b8d46121300f",
   "metadata": {
    "scrolled": true
   },
   "outputs": [],
   "source": [
    "concept_an.analyze_text(layer_11)"
   ]
  },
  {
   "cell_type": "markdown",
   "id": "4d9aaadf-50c6-442e-9adf-8ed8cd213c80",
   "metadata": {},
   "source": [
    "# Test \"payng attention sphere\""
   ]
  },
  {
   "cell_type": "code",
   "execution_count": null,
   "id": "eaa08f4b-424e-4b92-9dda-65b1cfaeb3ad",
   "metadata": {},
   "outputs": [],
   "source": [
    "tok_indx = 6"
   ]
  },
  {
   "cell_type": "code",
   "execution_count": null,
   "id": "b9094308-f94f-44dd-bcff-e3ceecd75691",
   "metadata": {},
   "outputs": [],
   "source": [
    "text_pya_full = tr_analyzer.to_clean(tr_analyzer.tokens[tok_indx])\n",
    "text_pya_full"
   ]
  },
  {
   "cell_type": "code",
   "execution_count": null,
   "id": "c61f7003-2d7b-4a48-9597-8739f4811432",
   "metadata": {},
   "outputs": [],
   "source": [
    "text_pol = ' According to Sangh system, office bearers cannot work in the political sphere.'\n",
    "tokn_pol = tr_analyzer.tokenize(text_pya_full)"
   ]
  },
  {
   "cell_type": "code",
   "execution_count": null,
   "id": "59fcd717-491f-47c7-bda8-39650a441944",
   "metadata": {},
   "outputs": [],
   "source": [
    "concept_an = ConceptAnalysis(text_pya_full, tr_analyzer)"
   ]
  },
  {
   "cell_type": "code",
   "execution_count": null,
   "id": "f02bc7ce-c315-4124-8370-d218850d7bb1",
   "metadata": {
    "scrolled": true
   },
   "outputs": [],
   "source": [
    "concept_an.analyze_concepts()"
   ]
  },
  {
   "cell_type": "code",
   "execution_count": null,
   "id": "118b5ccf-7381-4bfd-9a28-90b607807aba",
   "metadata": {},
   "outputs": [],
   "source": [
    "layer_0 = 0"
   ]
  },
  {
   "cell_type": "code",
   "execution_count": null,
   "id": "17f2e3d6-5d78-47fc-9f43-d84563d9fd65",
   "metadata": {},
   "outputs": [],
   "source": [
    "i, j = 5, 6"
   ]
  },
  {
   "cell_type": "code",
   "execution_count": null,
   "id": "dda6f4b5-dd47-4974-a7d5-81809ec182ab",
   "metadata": {
    "scrolled": true
   },
   "outputs": [],
   "source": [
    "concept_an.gen_concepts([i, j], layer_0)"
   ]
  },
  {
   "cell_type": "code",
   "execution_count": null,
   "id": "74c0d94c-2b62-4d33-9c97-801895bae49c",
   "metadata": {
    "scrolled": true
   },
   "outputs": [],
   "source": [
    "concept_an.analyze_text(layer_0)"
   ]
  },
  {
   "cell_type": "code",
   "execution_count": null,
   "id": "a5a19bd0-d814-4387-ba15-2818f3cb33c3",
   "metadata": {},
   "outputs": [],
   "source": [
    "layer_8 = 8"
   ]
  },
  {
   "cell_type": "code",
   "execution_count": null,
   "id": "e75d8db9-e701-483e-80eb-0949d520a63d",
   "metadata": {
    "scrolled": true
   },
   "outputs": [],
   "source": [
    "concept_an.gen_concepts([i, j], layer_8)"
   ]
  },
  {
   "cell_type": "code",
   "execution_count": null,
   "id": "a305e236-f2f2-4565-b68c-55c08f6458f7",
   "metadata": {
    "scrolled": true
   },
   "outputs": [],
   "source": [
    "concept_an.analyze_text(layer_8)"
   ]
  },
  {
   "cell_type": "code",
   "execution_count": null,
   "id": "5c95ce6f-58fd-4fb4-8bd3-4179aaf4845a",
   "metadata": {},
   "outputs": [],
   "source": [
    "layer_11 = 11"
   ]
  },
  {
   "cell_type": "code",
   "execution_count": null,
   "id": "ee5beb9e-cecc-43ab-8c2a-1c4d791d4128",
   "metadata": {},
   "outputs": [],
   "source": [
    "concept_an.gen_concepts([i, j], layer_11)"
   ]
  },
  {
   "cell_type": "code",
   "execution_count": null,
   "id": "3f704440-7a9d-4ff3-b3df-8a96387aff1a",
   "metadata": {
    "scrolled": true
   },
   "outputs": [],
   "source": [
    "concept_an.analyze_text(layer_11)"
   ]
  },
  {
   "cell_type": "markdown",
   "id": "44c96551-809e-4fa2-8f7e-1c17fef00c17",
   "metadata": {},
   "source": [
    "# Test \"for two\""
   ]
  },
  {
   "cell_type": "code",
   "execution_count": null,
   "id": "01d2065a-a1a8-4c36-9308-0514f777a3ec",
   "metadata": {},
   "outputs": [],
   "source": [
    "tok_indx = 2"
   ]
  },
  {
   "cell_type": "code",
   "execution_count": null,
   "id": "4a3135c2-e3c4-4416-879f-24d59dda75a0",
   "metadata": {},
   "outputs": [],
   "source": [
    "text_upd_all = tr_analyzer.to_clean(tr_analyzer.tokens[tok_indx])\n",
    "text_upd_all"
   ]
  },
  {
   "cell_type": "code",
   "execution_count": null,
   "id": "2c4f7fa6-21c0-43c5-8b2f-f376107f8a8b",
   "metadata": {},
   "outputs": [],
   "source": [
    "text_upd = ' so why have you now just made a commitment for two more years from this point?'\n",
    "tokn_upd = tr_analyzer.tokenize(text_upd)"
   ]
  },
  {
   "cell_type": "code",
   "execution_count": null,
   "id": "e972be20-7dc5-434d-b93b-e4d8c17f3203",
   "metadata": {},
   "outputs": [],
   "source": [
    "concept_an = ConceptAnalysis(text_upd_all, tr_analyzer)"
   ]
  },
  {
   "cell_type": "code",
   "execution_count": null,
   "id": "92b54da9-ede1-4290-a1a9-cb547040901e",
   "metadata": {
    "scrolled": true
   },
   "outputs": [],
   "source": [
    "concept_an.analyze_concepts()"
   ]
  },
  {
   "cell_type": "code",
   "execution_count": null,
   "id": "389cd19f-5b41-4c61-9bf2-ff4cd0d8e2f8",
   "metadata": {},
   "outputs": [],
   "source": [
    "i, j = 78, 79"
   ]
  },
  {
   "cell_type": "code",
   "execution_count": null,
   "id": "ac6bff61-02ba-4dfa-8d38-7cdbc49f8c3b",
   "metadata": {},
   "outputs": [],
   "source": [
    "layer_0 = 0"
   ]
  },
  {
   "cell_type": "code",
   "execution_count": null,
   "id": "523fa68e-b838-4847-8bda-5da6d56aef4a",
   "metadata": {
    "scrolled": true
   },
   "outputs": [],
   "source": [
    "concept_an.gen_concepts([i, j], layer_0)"
   ]
  },
  {
   "cell_type": "code",
   "execution_count": null,
   "id": "f283e37b-7a4e-45c5-a829-2facdab76578",
   "metadata": {
    "scrolled": true
   },
   "outputs": [],
   "source": [
    "concept_an.analyze_text(layer_0, limit=20)"
   ]
  },
  {
   "cell_type": "code",
   "execution_count": null,
   "id": "3483933d-7da9-4496-80f6-b8c10922e6f6",
   "metadata": {},
   "outputs": [],
   "source": [
    "topK(concept_an.v_is[layer_0][i], 10)"
   ]
  },
  {
   "cell_type": "code",
   "execution_count": null,
   "id": "15871f54-f229-414e-9f44-9930c5c33994",
   "metadata": {},
   "outputs": [],
   "source": [
    "c_0 = gen_concept(7825, 4, concept_an.fcas[layer_0])\n",
    "c_0"
   ]
  },
  {
   "cell_type": "code",
   "execution_count": null,
   "id": "c8e64e66-bf90-4e68-9b3f-f53650794ca8",
   "metadata": {},
   "outputs": [],
   "source": [
    "topK(c_0.v, 10)"
   ]
  },
  {
   "cell_type": "code",
   "execution_count": null,
   "id": "5426ebce-4d02-4038-9893-f97f88b403f1",
   "metadata": {},
   "outputs": [],
   "source": [
    "fca_0 = FCA(concept_an.fcas[layer_0].V, neg_idx=[7825])"
   ]
  },
  {
   "cell_type": "code",
   "execution_count": null,
   "id": "b9cfd66b-395a-4ca8-8b5d-404b07bd2c8f",
   "metadata": {},
   "outputs": [],
   "source": [
    "gen_concept(7825, 4., fca_0)"
   ]
  },
  {
   "cell_type": "code",
   "execution_count": null,
   "id": "cea2336e-2bf0-4df7-be5e-9373b8b06ab9",
   "metadata": {},
   "outputs": [],
   "source": [
    "layer_8 = 8"
   ]
  },
  {
   "cell_type": "code",
   "execution_count": null,
   "id": "6f71f44f-c9b8-430d-935c-349cd30235fa",
   "metadata": {
    "scrolled": true
   },
   "outputs": [],
   "source": [
    "concept_an.gen_concepts([i, j], layer_8)"
   ]
  },
  {
   "cell_type": "code",
   "execution_count": null,
   "id": "0f83ce07-0eca-40df-a66c-fc03a7902b4a",
   "metadata": {
    "scrolled": true
   },
   "outputs": [],
   "source": [
    "concept_an.analyze_text(layer_8)"
   ]
  },
  {
   "cell_type": "code",
   "execution_count": null,
   "id": "7c373b71-229f-4742-ba84-d7cef3adf54d",
   "metadata": {},
   "outputs": [],
   "source": [
    "topK(concept_an.v_is[layer_8][i], 10)"
   ]
  },
  {
   "cell_type": "code",
   "execution_count": null,
   "id": "e67c5849-bad7-45af-ab62-30272956a565",
   "metadata": {},
   "outputs": [],
   "source": [
    "c_8 = gen_concept(2422, 8, concept_an.fcas[layer_8])\n",
    "c_8"
   ]
  },
  {
   "cell_type": "code",
   "execution_count": null,
   "id": "d02189d4-3fdd-441a-850d-5f9bcf22bf3f",
   "metadata": {},
   "outputs": [],
   "source": [
    "fca_8 = FCA(concept_an.fcas[layer_8].V, neg_idx=[2422])"
   ]
  },
  {
   "cell_type": "code",
   "execution_count": null,
   "id": "c602992a-a218-418a-b81b-8f89ee17db82",
   "metadata": {},
   "outputs": [],
   "source": [
    "gen_concept(2422, 8., fca_8)"
   ]
  },
  {
   "cell_type": "code",
   "execution_count": null,
   "id": "20f8143d-4986-4317-8e93-a816041f9bc8",
   "metadata": {},
   "outputs": [],
   "source": []
  },
  {
   "cell_type": "code",
   "execution_count": null,
   "id": "6e4b6bcb-3ca9-4231-87c1-8a044071a5b5",
   "metadata": {},
   "outputs": [],
   "source": [
    "layer_11 = 11"
   ]
  },
  {
   "cell_type": "code",
   "execution_count": null,
   "id": "50c4ad9f-2f9b-47bf-8b26-7a7b62958c21",
   "metadata": {
    "scrolled": true
   },
   "outputs": [],
   "source": [
    "concept_an.gen_concepts([i, j], layer_11)"
   ]
  },
  {
   "cell_type": "code",
   "execution_count": null,
   "id": "ae835cf1-d124-430e-a91b-0f96dbc68e44",
   "metadata": {
    "scrolled": true
   },
   "outputs": [],
   "source": [
    "concept_an.analyze_text(layer_11)"
   ]
  },
  {
   "cell_type": "code",
   "execution_count": null,
   "id": "9586ab56-16f5-4a3e-8ee6-54c46fe5b0b8",
   "metadata": {},
   "outputs": [],
   "source": [
    "topK(concept_an.v_is[layer_11][i], 10)"
   ]
  },
  {
   "cell_type": "code",
   "execution_count": null,
   "id": "e5f5a053-65c0-4dff-8f64-02fe40aa6b51",
   "metadata": {},
   "outputs": [],
   "source": [
    "fca_11 = FCA(concept_an.fcas[layer_11].V, neg_idx=[5060])"
   ]
  },
  {
   "cell_type": "code",
   "execution_count": null,
   "id": "7facc6ea-8cff-4911-86c2-2f4ea6897326",
   "metadata": {},
   "outputs": [],
   "source": [
    "gen_concept(5060, 6., fca_11)"
   ]
  },
  {
   "cell_type": "markdown",
   "id": "ac12190c-f695-4173-aad3-535d1e3dc123",
   "metadata": {},
   "source": [
    "# Test Surname"
   ]
  },
  {
   "cell_type": "code",
   "execution_count": null,
   "id": "49b79371-1b01-4aec-a987-7524812a63de",
   "metadata": {},
   "outputs": [],
   "source": [
    "i_1 = 16382\n",
    "i_2 = 5468\n",
    "v_1 = 3\n",
    "v_2 = 3\n",
    "layer_0 = 0"
   ]
  },
  {
   "cell_type": "code",
   "execution_count": null,
   "id": "83033848-2ff1-4b71-85a7-b0c0b5b0e6f1",
   "metadata": {},
   "outputs": [],
   "source": [
    "cn = gen_concept([i_1, i_2], [v_1, v_2], tr_analyzer.fcas[layer_0])\n",
    "cn"
   ]
  },
  {
   "cell_type": "code",
   "execution_count": null,
   "id": "38aa1318-7765-4fde-8def-bc7bcdef072c",
   "metadata": {},
   "outputs": [],
   "source": [
    "det_tokens = tr_analyzer.tokens[cn.c.A]"
   ]
  },
  {
   "cell_type": "code",
   "execution_count": null,
   "id": "c5dc40b1-3fc5-457f-bb15-e20f8b01ccec",
   "metadata": {},
   "outputs": [],
   "source": [
    "tr_analyzer.to_string(det_tokens[0])"
   ]
  },
  {
   "cell_type": "code",
   "execution_count": null,
   "id": "d5241efc-13bb-4020-a524-268a20a80b56",
   "metadata": {},
   "outputs": [],
   "source": [
    "text_lnm = ''' \\n\\nSimpson said that, based on his recollection, \n",
    "teachers often wanted to talk about whether inspectors knew of jobs available at other offshore schools.'''"
   ]
  },
  {
   "cell_type": "code",
   "execution_count": null,
   "id": "c2ecd387-d811-4e4c-a133-945faf98e20a",
   "metadata": {},
   "outputs": [],
   "source": [
    "text_lnm"
   ]
  },
  {
   "cell_type": "code",
   "execution_count": null,
   "id": "6f77b1dc-b84c-4670-a329-213f38df3535",
   "metadata": {},
   "outputs": [],
   "source": []
  },
  {
   "cell_type": "code",
   "execution_count": null,
   "id": "7d1005a3-bc69-47ef-99cb-9ab898c54f39",
   "metadata": {},
   "outputs": [],
   "source": [
    "tr_analyzer.detect_token(layer_0, det_tokens[0], cn.v)"
   ]
  },
  {
   "cell_type": "code",
   "execution_count": null,
   "id": "3e95615d-fea7-4ad1-aa02-8cdf8586cd45",
   "metadata": {
    "scrolled": true
   },
   "outputs": [],
   "source": [
    "tr_analyzer.print_all_detected_tokens(\n",
    "    layer_0,\n",
    "    det_tokens,\n",
    "    cn.v,\n",
    "    with_text=True\n",
    ")"
   ]
  },
  {
   "cell_type": "code",
   "execution_count": null,
   "id": "b5b49269-7deb-4233-8a3b-cc753a7f5fa7",
   "metadata": {},
   "outputs": [],
   "source": [
    "layer_6 = 6"
   ]
  },
  {
   "cell_type": "code",
   "execution_count": null,
   "id": "667df433-f88a-4107-8486-4e0ac8377671",
   "metadata": {},
   "outputs": [],
   "source": [
    "c6 = tr_analyzer.fcas[layer_6].GF_F(cn.c.A)\n",
    "c6"
   ]
  },
  {
   "cell_type": "code",
   "execution_count": null,
   "id": "3d7d8939-a47f-4b69-ab47-bb1bca5de173",
   "metadata": {},
   "outputs": [],
   "source": [
    "det_tokens_lt = tr_analyzer.tokens[c6.A]"
   ]
  },
  {
   "cell_type": "code",
   "execution_count": null,
   "id": "c99a1ffb-3f6a-4cb7-ba5a-afa166d89272",
   "metadata": {},
   "outputs": [],
   "source": [
    "cn"
   ]
  },
  {
   "cell_type": "code",
   "execution_count": null,
   "id": "3d00d152-0f38-438d-8533-f367a432688e",
   "metadata": {},
   "outputs": [],
   "source": [
    "A_inter = intersect(cn.c.A, c6.A)\n",
    "np.all(A_inter == cn.c.A), cn.c.A.shape, c6.A.shape, A_inter.shape"
   ]
  },
  {
   "cell_type": "code",
   "execution_count": null,
   "id": "550ef4e5-1542-4eb5-826f-4d32ef292b3f",
   "metadata": {},
   "outputs": [],
   "source": [
    "topK(c6.v, 18)"
   ]
  },
  {
   "cell_type": "code",
   "execution_count": null,
   "id": "75380b54-ed1a-4dcf-b9b8-40f4b44e183f",
   "metadata": {},
   "outputs": [],
   "source": [
    "c6.v[21046]"
   ]
  },
  {
   "cell_type": "code",
   "execution_count": null,
   "id": "72427500-472a-491d-887e-eb2d971a9240",
   "metadata": {},
   "outputs": [],
   "source": [
    "i_dim = 15037"
   ]
  },
  {
   "cell_type": "code",
   "execution_count": null,
   "id": "e9820c83-2696-45be-a662-62de1fdd5dff",
   "metadata": {},
   "outputs": [],
   "source": [
    "v_l6 = gen_vx([19417], [0.8], tr_analyzer.fcas[layer_6])"
   ]
  },
  {
   "cell_type": "code",
   "execution_count": null,
   "id": "49759c99-cf3a-4a37-8d05-290d014ca8d6",
   "metadata": {
    "scrolled": true
   },
   "outputs": [],
   "source": [
    "tr_analyzer.print_all_detected_tokens(\n",
    "    layer_6,\n",
    "    det_tokens_lt,\n",
    "    v_l6,\n",
    "    with_text=True\n",
    ")"
   ]
  },
  {
   "cell_type": "code",
   "execution_count": null,
   "id": "2e12b47d-f14a-44c6-a5cd-d7a35276ba50",
   "metadata": {},
   "outputs": [],
   "source": []
  },
  {
   "cell_type": "code",
   "execution_count": null,
   "id": "9dbc0437-0afb-47d8-aa41-ac44617b40c6",
   "metadata": {},
   "outputs": [],
   "source": [
    "tr_analyzer.to_string(det_tokens_lt[8])"
   ]
  },
  {
   "cell_type": "code",
   "execution_count": null,
   "id": "a6100d41-1d83-4c5e-adcb-1a74319a223a",
   "metadata": {},
   "outputs": [],
   "source": [
    "det_tokens_lc = det_tokens_lt[:, 1:]"
   ]
  },
  {
   "cell_type": "code",
   "execution_count": null,
   "id": "f7302253-281c-4566-9cb5-18bacbe24618",
   "metadata": {},
   "outputs": [],
   "source": [
    "tr_analyzer.to_string(det_tokens_lc[2])"
   ]
  },
  {
   "cell_type": "code",
   "execution_count": null,
   "id": "8c4980f9-770f-49cb-bd8e-8a410946aa8c",
   "metadata": {},
   "outputs": [],
   "source": [
    "text_nms = ''' our class, he talked about how much pressure was up there and we wanted to see if the ping pong balls would squish… or pop,”\n",
    " fifth-grader Faith Duncan said.Other classes sent marshmallows, a doll, \n",
    " even live crickets to see if they could survive the trip.'''"
   ]
  },
  {
   "cell_type": "code",
   "execution_count": null,
   "id": "2d821d40-82be-4a43-8e07-a0eb2085e2c5",
   "metadata": {},
   "outputs": [],
   "source": [
    "text_nms"
   ]
  },
  {
   "cell_type": "code",
   "execution_count": null,
   "id": "0a4d7091-18d5-4b17-acf9-0a8c86968a17",
   "metadata": {},
   "outputs": [],
   "source": [
    "concept_an = ConceptAnalysis(text_nms, tr_analyzer)"
   ]
  },
  {
   "cell_type": "code",
   "execution_count": null,
   "id": "11560e75-a655-459a-8197-2ae655df7a2e",
   "metadata": {
    "scrolled": true
   },
   "outputs": [],
   "source": [
    "concept_an.analyze_concepts()"
   ]
  },
  {
   "cell_type": "code",
   "execution_count": null,
   "id": "9b48995e-45a2-4e10-8a1b-211dce119afa",
   "metadata": {},
   "outputs": [],
   "source": [
    "i, j = 38, 39"
   ]
  },
  {
   "cell_type": "code",
   "execution_count": null,
   "id": "df368192-5c7b-4223-9f39-943a42d7e09a",
   "metadata": {
    "scrolled": true
   },
   "outputs": [],
   "source": [
    "concept_an.gen_concepts([i, j], layer_0, red_val=2.0)"
   ]
  },
  {
   "cell_type": "code",
   "execution_count": null,
   "id": "0163a46c-12c8-4716-9b57-0c6b61ebf5d0",
   "metadata": {
    "scrolled": true
   },
   "outputs": [],
   "source": [
    "concept_an.analyze_text(layer_0)"
   ]
  },
  {
   "cell_type": "code",
   "execution_count": null,
   "id": "8db1e149-3ac8-4a58-8415-7a23ffbbe1d6",
   "metadata": {},
   "outputs": [],
   "source": [
    "concept_an.gen_concepts([i, j], layer_6, red_val=0.0)"
   ]
  },
  {
   "cell_type": "code",
   "execution_count": null,
   "id": "9215b1a3-01bf-4e35-8c2b-029ee854629b",
   "metadata": {
    "scrolled": true
   },
   "outputs": [],
   "source": [
    "concept_an.analyze_text(layer_6)"
   ]
  },
  {
   "cell_type": "code",
   "execution_count": null,
   "id": "f7f6ee41-ed48-4026-b148-c55c7095b6eb",
   "metadata": {},
   "outputs": [],
   "source": [
    "concept_an.c_is.A"
   ]
  },
  {
   "cell_type": "code",
   "execution_count": null,
   "id": "b5597505-169c-4658-874c-25eae229432c",
   "metadata": {},
   "outputs": [],
   "source": [
    "concept_an.det_tokens"
   ]
  },
  {
   "cell_type": "code",
   "execution_count": null,
   "id": "6d7091ce-f03b-4320-8abd-6b0d9738f729",
   "metadata": {},
   "outputs": [],
   "source": [
    "c_11 = tr_analyzer.fcas[11].GF_F(concept_an.c_is.A)\n",
    "c_11"
   ]
  },
  {
   "cell_type": "code",
   "execution_count": null,
   "id": "98821945-4cd3-4f97-96d1-2d4efb4b0d1e",
   "metadata": {},
   "outputs": [],
   "source": [
    "det_tokens_11 = tr_analyzer.tokens[c_11.A]"
   ]
  },
  {
   "cell_type": "code",
   "execution_count": null,
   "id": "34db0017-245d-4ae5-b392-8d39f4f6830a",
   "metadata": {
    "scrolled": true
   },
   "outputs": [],
   "source": [
    "for dt in det_tokens_11:\n",
    "    print(tr_analyzer.to_string(dt))\n",
    "    print()"
   ]
  },
  {
   "cell_type": "code",
   "execution_count": null,
   "id": "c96f1660-ff28-46de-890e-147c36ac0317",
   "metadata": {},
   "outputs": [],
   "source": [
    "topK(c_11.v, 20)"
   ]
  },
  {
   "cell_type": "code",
   "execution_count": null,
   "id": "e2b121e6-7874-44fc-98d8-e583590808ec",
   "metadata": {},
   "outputs": [],
   "source": [
    "v_i = gen_vx(20460, 0.8, tr_analyzer.fcas[11])"
   ]
  },
  {
   "cell_type": "code",
   "execution_count": null,
   "id": "bb04ab3b-20c9-4872-9d3d-b38025b72e7f",
   "metadata": {},
   "outputs": [],
   "source": [
    "text_nm2 = tr_analyzer.to_clean(det_tokens_11[0])\n",
    "text_nm2"
   ]
  },
  {
   "cell_type": "code",
   "execution_count": null,
   "id": "3f01c12d-37f8-4765-a667-f5a186a0e09a",
   "metadata": {},
   "outputs": [],
   "source": [
    "concept_an = ConceptAnalysis(text_nm2, tr_analyzer)"
   ]
  },
  {
   "cell_type": "code",
   "execution_count": null,
   "id": "e5b87e78-1b42-4b6e-854d-0f3d4f63e2d3",
   "metadata": {
    "scrolled": true
   },
   "outputs": [],
   "source": [
    "concept_an.analyze_concepts()"
   ]
  },
  {
   "cell_type": "code",
   "execution_count": null,
   "id": "58c66a79-dd27-4e5b-8e67-d1885379c451",
   "metadata": {},
   "outputs": [],
   "source": [
    "i, j = 65, 66\n",
    "k = 72"
   ]
  },
  {
   "cell_type": "code",
   "execution_count": null,
   "id": "b286bdb3-1291-43c7-8f48-65cc06b97a9e",
   "metadata": {},
   "outputs": [],
   "source": [
    "concept_an.gen_concepts([i, j], 11)"
   ]
  },
  {
   "cell_type": "code",
   "execution_count": null,
   "id": "965c3363-69ae-4dea-887f-46e791e6e1bb",
   "metadata": {},
   "outputs": [],
   "source": [
    "c_11.A, concept_an.c_is.A"
   ]
  },
  {
   "cell_type": "code",
   "execution_count": null,
   "id": "5f2ef90e-ce60-4370-94eb-46b7300445b1",
   "metadata": {},
   "outputs": [],
   "source": [
    "c_i1 = c_11 & concept_an.c_is\n",
    "c_i1"
   ]
  },
  {
   "cell_type": "code",
   "execution_count": null,
   "id": "4518f608-1352-4360-b5e0-83603472abd7",
   "metadata": {},
   "outputs": [],
   "source": [
    "c_i1.A"
   ]
  },
  {
   "cell_type": "code",
   "execution_count": null,
   "id": "c3d8e0cf-ef00-432f-a0f1-1abfdf11a92a",
   "metadata": {},
   "outputs": [],
   "source": [
    "det_i11 = tr_analyzer.tokens[c_i1.A]"
   ]
  },
  {
   "cell_type": "code",
   "execution_count": null,
   "id": "14125a85-c444-4457-9fdf-320ea53b4fd8",
   "metadata": {
    "scrolled": true
   },
   "outputs": [],
   "source": [
    "tr_analyzer.to_string(det_i11)"
   ]
  },
  {
   "cell_type": "code",
   "execution_count": null,
   "id": "4da1d750-fbd7-4e49-82b2-7db84166c397",
   "metadata": {},
   "outputs": [],
   "source": [
    "layer_11 = 11"
   ]
  },
  {
   "cell_type": "code",
   "execution_count": null,
   "id": "8d60525f-12d7-444d-ae0e-596bec640833",
   "metadata": {
    "scrolled": true
   },
   "outputs": [],
   "source": [
    "concept_an.analyze_text(layer_11)"
   ]
  },
  {
   "cell_type": "code",
   "execution_count": null,
   "id": "8d23d4f6-238f-47cd-8c32-43f014856e63",
   "metadata": {
    "scrolled": true
   },
   "outputs": [],
   "source": [
    "tr_analyzer.print_all_detected_tokens(\n",
    "    layer_11,\n",
    "    det_tokens_11,\n",
    "    v_i,\n",
    "    with_text=True\n",
    ")"
   ]
  },
  {
   "cell_type": "code",
   "execution_count": null,
   "id": "8e4ed4a4-b40f-4992-bd08-5739d1d78cb6",
   "metadata": {},
   "outputs": [],
   "source": []
  },
  {
   "cell_type": "code",
   "execution_count": null,
   "id": "1cea443b-d022-4cda-a7eb-6bc375c51cab",
   "metadata": {},
   "outputs": [],
   "source": [
    "v_i.shape"
   ]
  },
  {
   "cell_type": "code",
   "execution_count": null,
   "id": "732170b0-333f-45b5-93f4-55f5817cff04",
   "metadata": {},
   "outputs": [],
   "source": [
    "topK(v_i, 10)"
   ]
  },
  {
   "cell_type": "code",
   "execution_count": null,
   "id": "8af328d8-16fa-4737-a34e-0088ea134b8f",
   "metadata": {},
   "outputs": [],
   "source": [
    "tr_analyzer.print_detected_tokens(\n",
    "    layer_6,\n",
    "    det_tokens_lt[6],\n",
    "    v_i\n",
    ")"
   ]
  },
  {
   "cell_type": "code",
   "execution_count": null,
   "id": "b85a6cbf-f17e-4dd2-9ccb-00e6ed1df989",
   "metadata": {},
   "outputs": [],
   "source": [
    "vs, ic = topK(c6.v, 8)\n",
    "vs, ic"
   ]
  },
  {
   "cell_type": "code",
   "execution_count": null,
   "id": "fa2ace0f-4509-4ae7-b81a-c3b22fe0d09d",
   "metadata": {},
   "outputs": [],
   "source": [
    "ic[4:10], vs[4:10]"
   ]
  },
  {
   "cell_type": "code",
   "execution_count": null,
   "id": "352f3306-c23e-42dc-9831-76d31f5f912e",
   "metadata": {},
   "outputs": [],
   "source": [
    "t6 = gen_concept(\n",
    "    [19059, 17127, 16063],\n",
    "    [11.1636, 10.2967,  9.6322],\n",
    "    tr_analyzer.fcas[6]\n",
    ")\n",
    "t6"
   ]
  },
  {
   "cell_type": "code",
   "execution_count": null,
   "id": "4968eef8-3995-4d34-b238-c8b1882f1743",
   "metadata": {},
   "outputs": [],
   "source": [
    "tr_analyzer.to_string(det_tokens_lt[2])"
   ]
  },
  {
   "cell_type": "code",
   "execution_count": null,
   "id": "146069b8-027d-477d-92d1-5770d5c3b5c9",
   "metadata": {},
   "outputs": [],
   "source": []
  },
  {
   "cell_type": "code",
   "execution_count": null,
   "id": "61aee9b3-8c93-465f-b625-a9ea24fbd2d7",
   "metadata": {},
   "outputs": [],
   "source": [
    "v_i = gen_vx(17230, 0.3, tr_analyzer.fcas[6])\n",
    "tr_analyzer.detect_token(6, det_tokens_lt[2], v_i)"
   ]
  },
  {
   "cell_type": "code",
   "execution_count": null,
   "id": "3e7cdbb1-0c9e-43d6-9c36-94a10c6970c3",
   "metadata": {},
   "outputs": [],
   "source": [
    "tr_analyzer.to_string(tr_analyzer.tokens[2])"
   ]
  },
  {
   "cell_type": "code",
   "execution_count": null,
   "id": "45d9811c-d500-4c4e-b2be-78d4bd665e57",
   "metadata": {},
   "outputs": [],
   "source": [
    "text_nln = tr_analyzer.to_clean(det_tokens_lt[2])\n",
    "tkns_nln = tr_analyzer.tokenize(text_nln)"
   ]
  },
  {
   "cell_type": "code",
   "execution_count": null,
   "id": "ff59c5bb-39f1-4b57-a09e-b1d158788e92",
   "metadata": {},
   "outputs": [],
   "source": [
    "layer = 8"
   ]
  },
  {
   "cell_type": "code",
   "execution_count": null,
   "id": "51b8744d-a8e3-4b0c-9ff5-591c2af3a397",
   "metadata": {},
   "outputs": [],
   "source": [
    "concept_an = ConceptAnalysis(text_nln, tr_analyzer)"
   ]
  },
  {
   "cell_type": "code",
   "execution_count": null,
   "id": "2401d2bf-165c-4db9-be5a-259cd2eca365",
   "metadata": {
    "scrolled": true
   },
   "outputs": [],
   "source": [
    "concept_an.analyze_concepts()"
   ]
  },
  {
   "cell_type": "code",
   "execution_count": null,
   "id": "6fc7cc38-4dc3-46fb-9d87-4da90965c669",
   "metadata": {},
   "outputs": [],
   "source": [
    "i, j = 41, 42"
   ]
  },
  {
   "cell_type": "code",
   "execution_count": null,
   "id": "1cbb07e7-5b03-4385-a5e5-4b6104e746b2",
   "metadata": {
    "scrolled": true
   },
   "outputs": [],
   "source": [
    "concept_an.gen_concepts([i, j], layer_11)"
   ]
  },
  {
   "cell_type": "code",
   "execution_count": null,
   "id": "602420d6-ce6f-4f67-85ad-fdeb462c93ff",
   "metadata": {
    "scrolled": true
   },
   "outputs": [],
   "source": [
    "concept_an.analyze_text(layer_11)"
   ]
  },
  {
   "cell_type": "code",
   "execution_count": null,
   "id": "00088aa2-db44-44ce-be65-55ccc3a51c20",
   "metadata": {},
   "outputs": [],
   "source": [
    "topK(concept_an.c_is.v, 20)"
   ]
  },
  {
   "cell_type": "code",
   "execution_count": null,
   "id": "8a2bd9fc-42bb-4edf-a2da-0f4ad1771e67",
   "metadata": {},
   "outputs": [],
   "source": []
  }
 ],
 "metadata": {
  "kernelspec": {
   "display_name": "Python 3 (ipykernel)",
   "language": "python",
   "name": "python3"
  },
  "language_info": {
   "codemirror_mode": {
    "name": "ipython",
    "version": 3
   },
   "file_extension": ".py",
   "mimetype": "text/x-python",
   "name": "python",
   "nbconvert_exporter": "python",
   "pygments_lexer": "ipython3",
   "version": "3.12.9"
  }
 },
 "nbformat": 4,
 "nbformat_minor": 5
}
