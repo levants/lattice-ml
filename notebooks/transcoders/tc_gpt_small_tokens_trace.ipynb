{
 "cells": [
  {
   "cell_type": "code",
   "execution_count": null,
   "id": "71ce37e9",
   "metadata": {},
   "outputs": [],
   "source": [
    "%load_ext autoreload\n",
    "%autoreload 2\n",
    "\n",
    "%matplotlib inline"
   ]
  },
  {
   "cell_type": "markdown",
   "id": "5b560092",
   "metadata": {},
   "source": [
    "## Install libraries"
   ]
  },
  {
   "cell_type": "markdown",
   "id": "89885fa7",
   "metadata": {},
   "source": [
    "```bash\n",
    "conda create -n edu4 python=3.11 jupyter matplotlib\n",
    "```"
   ]
  },
  {
   "cell_type": "markdown",
   "id": "cd23589d",
   "metadata": {},
   "source": [
    "```bash \n",
    "! pip install -U -r requirements.txt\n",
    "```"
   ]
  },
  {
   "cell_type": "markdown",
   "id": "9d16321f",
   "metadata": {},
   "source": [
    "```bash\n",
    "! pip install -U numpy\n",
    "! pip install -U scikit-learn\n",
    "```"
   ]
  },
  {
   "cell_type": "markdown",
   "id": "b4cab43a",
   "metadata": {},
   "source": [
    "## Update repository"
   ]
  },
  {
   "cell_type": "code",
   "execution_count": null,
   "id": "46bcb5dc",
   "metadata": {},
   "outputs": [],
   "source": [
    "# ! git pull"
   ]
  },
  {
   "cell_type": "markdown",
   "id": "bad216da",
   "metadata": {},
   "source": [
    "## Add import path"
   ]
  },
  {
   "cell_type": "code",
   "execution_count": null,
   "id": "baafb705",
   "metadata": {},
   "outputs": [],
   "source": [
    "import gc\n",
    "import os\n",
    "import sys"
   ]
  },
  {
   "cell_type": "code",
   "execution_count": null,
   "id": "acb2d69b-1208-4910-83fe-357fef2804f7",
   "metadata": {},
   "outputs": [],
   "source": [
    "def add_library_level(level=4):\n",
    "    suf_path = ['..']\n",
    "    path = '..'\n",
    "    for i in range(0, level):\n",
    "        join_path = suf_path * i\n",
    "        path = '/'.join(join_path)\n",
    "        module_path = os.path.abspath(os.path.join(path))\n",
    "        if module_path not in sys.path:\n",
    "            sys.path.append(module_path)\n",
    "            print(f'Appendeding {path}')"
   ]
  },
  {
   "cell_type": "code",
   "execution_count": null,
   "id": "17883ca3-d72f-417c-953a-13fb7f7be2c6",
   "metadata": {},
   "outputs": [],
   "source": [
    "add_library_level(level=5)"
   ]
  },
  {
   "cell_type": "markdown",
   "id": "07a1e9c8",
   "metadata": {},
   "source": [
    "## Organize imports"
   ]
  },
  {
   "cell_type": "code",
   "execution_count": null,
   "id": "ae177357",
   "metadata": {},
   "outputs": [],
   "source": [
    "import multiprocessing"
   ]
  },
  {
   "cell_type": "code",
   "execution_count": null,
   "id": "ee894933-eba4-4742-8fa2-51b2cff5cf6d",
   "metadata": {},
   "outputs": [],
   "source": [
    "from src.lattmc.fca.utils import *\n",
    "from src.lattmc.fca.fca_utils import *"
   ]
  },
  {
   "cell_type": "code",
   "execution_count": null,
   "id": "8ea45057-c650-406c-84d2-5b5b21c69396",
   "metadata": {},
   "outputs": [],
   "source": [
    "from src.lattmc.tc.transcoder_analyzers import ConceptAnalysis, init_analyzer"
   ]
  },
  {
   "cell_type": "code",
   "execution_count": null,
   "id": "5545b35f-c8f8-4f2f-b891-a29bf6f96a36",
   "metadata": {},
   "outputs": [],
   "source": [
    "from src.lattmc.sae.nlp_sae_utils import init_device, gen_concept"
   ]
  },
  {
   "cell_type": "code",
   "execution_count": null,
   "id": "ebc02393-d2ee-4638-97b3-b8994e4191d6",
   "metadata": {},
   "outputs": [],
   "source": [
    "import logging"
   ]
  },
  {
   "cell_type": "markdown",
   "id": "65f31e93",
   "metadata": {},
   "source": [
    "#### Number of CPU cores"
   ]
  },
  {
   "cell_type": "code",
   "execution_count": null,
   "id": "b41c30f2",
   "metadata": {},
   "outputs": [],
   "source": [
    "workers = multiprocessing.cpu_count()\n",
    "workers"
   ]
  },
  {
   "cell_type": "code",
   "execution_count": null,
   "id": "59f41838-322d-41e8-b8e1-6712089703c9",
   "metadata": {},
   "outputs": [],
   "source": [
    "SEED = 2025"
   ]
  },
  {
   "cell_type": "code",
   "execution_count": null,
   "id": "c5516efd-39d7-4d19-9112-4a1bd0efcd30",
   "metadata": {},
   "outputs": [],
   "source": [
    "logging.basicConfig(level=logging.INFO)"
   ]
  },
  {
   "cell_type": "code",
   "execution_count": null,
   "id": "9e1c0d14-575c-491c-88a3-85f70fae7875",
   "metadata": {},
   "outputs": [],
   "source": [
    "device = init_device()\n",
    "device"
   ]
  },
  {
   "cell_type": "code",
   "execution_count": null,
   "id": "1e9fcf4c-09fe-4262-b975-56a627c02797",
   "metadata": {},
   "outputs": [],
   "source": [
    "torch.__version__"
   ]
  },
  {
   "cell_type": "code",
   "execution_count": null,
   "id": "f6916c3b-746f-4169-98eb-49d20824e8ef",
   "metadata": {},
   "outputs": [],
   "source": [
    "np.__version__"
   ]
  },
  {
   "cell_type": "code",
   "execution_count": null,
   "id": "f684b5bd-d276-48df-8a54-b111138d36bb",
   "metadata": {},
   "outputs": [],
   "source": [
    "# np.set_printoptions(precision=4, suppress=True)"
   ]
  },
  {
   "cell_type": "markdown",
   "id": "093a4b55-3a8d-4cb1-b2fa-54710060037d",
   "metadata": {},
   "source": [
    "## Initialize Paths"
   ]
  },
  {
   "cell_type": "code",
   "execution_count": null,
   "id": "965d5cc1-2325-4fcc-beaa-876ab9e4dbea",
   "metadata": {},
   "outputs": [],
   "source": [
    "PATH = Path('data')\n",
    "GPT2 = PATH / 'transcoders' / 'gpt2'\n",
    "OWT_TOKENS_DIR = GPT2 / 'owt_tokens'\n",
    "TOKENS_PATH = OWT_TOKENS_DIR / 'owt_tokens_torch.pt'\n",
    "OWT_TOKENS_DIR.mkdir(exist_ok=True, parents=True)"
   ]
  },
  {
   "cell_type": "markdown",
   "id": "b7630740-6722-45ad-b309-df4121abf3a6",
   "metadata": {},
   "source": [
    "## Load trancoders"
   ]
  },
  {
   "cell_type": "code",
   "execution_count": null,
   "id": "86252e89-72dc-44a7-b021-791ea1ac0c06",
   "metadata": {},
   "outputs": [],
   "source": [
    "layers = list(range(12))\n",
    "layers = [0, 4, 6, 8, 10, 11]"
   ]
  },
  {
   "cell_type": "code",
   "execution_count": null,
   "id": "9388c318-8ec7-46c4-99c6-b863a9c56924",
   "metadata": {
    "scrolled": true
   },
   "outputs": [],
   "source": [
    "tr_analyzer = init_analyzer(\n",
    "    layers,\n",
    "    TOKENS_PATH,\n",
    "    GPT2,\n",
    "    device=device\n",
    ")"
   ]
  },
  {
   "cell_type": "code",
   "execution_count": null,
   "id": "5952d6a2-5416-4131-896f-79babf182d0c",
   "metadata": {},
   "outputs": [],
   "source": [
    "import gc\n",
    "gc.collect()\n",
    "torch.cuda.empty_cache()"
   ]
  },
  {
   "cell_type": "markdown",
   "id": "9c1d9ea7-1d49-4732-b54f-20790669b6e1",
   "metadata": {},
   "source": [
    "## Analyze Neuron"
   ]
  },
  {
   "cell_type": "code",
   "execution_count": null,
   "id": "75cda50c-c936-4118-9023-a322f45316b2",
   "metadata": {
    "scrolled": true
   },
   "outputs": [],
   "source": [
    "c0 = tr_analyzer.gen_and_print_all(9854, 2, 0, with_text=True)\n",
    "c0"
   ]
  },
  {
   "cell_type": "code",
   "execution_count": null,
   "id": "50658b93-99b0-4285-af74-1f2f931be876",
   "metadata": {},
   "outputs": [],
   "source": [
    "c0.token_idcs"
   ]
  },
  {
   "cell_type": "code",
   "execution_count": null,
   "id": "a0f85ba7-5640-44a8-b38e-a18c58f3746d",
   "metadata": {},
   "outputs": [],
   "source": [
    "len(c0.token_idcs)"
   ]
  },
  {
   "cell_type": "code",
   "execution_count": null,
   "id": "cc01c3c3-c59a-4310-a9ad-e2644a823f76",
   "metadata": {},
   "outputs": [],
   "source": [
    "vs = tr_analyzer.transcoder(tr_analyzer.tokens[c0.c.A], 10)"
   ]
  },
  {
   "cell_type": "code",
   "execution_count": null,
   "id": "8853dc83-77ac-4e32-b160-f9d3948a7fd1",
   "metadata": {},
   "outputs": [],
   "source": [
    "vs.shape"
   ]
  },
  {
   "cell_type": "code",
   "execution_count": null,
   "id": "0383350b-aa35-4ce8-ad0e-0beecb1fc14c",
   "metadata": {},
   "outputs": [],
   "source": [
    "v_indices = []\n",
    "v_list = []\n",
    "for token_ids, v_i in zip(c0.token_idcs, vs):\n",
    "    v_list_i = [v_i[token_id] for token_id in token_ids]\n",
    "    v_dets_i = meet_all(np.array([v_i[token_id] for token_id in token_ids]))\n",
    "    v_indices.append(v_dets_i)\n",
    "    v_list.append(v_list_i)"
   ]
  },
  {
   "cell_type": "code",
   "execution_count": null,
   "id": "02094451-fec8-44d7-bdbb-a0060f12e6f0",
   "metadata": {},
   "outputs": [],
   "source": [
    "v_dets = meet_all(np.array(v_indices))"
   ]
  },
  {
   "cell_type": "code",
   "execution_count": null,
   "id": "eef20d96-d303-4187-9d24-b04767147fba",
   "metadata": {},
   "outputs": [],
   "source": [
    "v_list[0]"
   ]
  },
  {
   "cell_type": "code",
   "execution_count": null,
   "id": "6fe565a7-b5aa-47ba-8f1e-08ce7f800633",
   "metadata": {},
   "outputs": [],
   "source": [
    "topK(v_list[1][0], 10)"
   ]
  },
  {
   "cell_type": "code",
   "execution_count": null,
   "id": "c6ae5616-9f38-4590-9587-5b1350a397c3",
   "metadata": {},
   "outputs": [],
   "source": [
    "topK(v_list[10][0], 10)"
   ]
  },
  {
   "cell_type": "code",
   "execution_count": null,
   "id": "b25ebe48-bb5c-49a8-9b78-50d3bd929538",
   "metadata": {},
   "outputs": [],
   "source": [
    "topK(v_dets, 10)"
   ]
  },
  {
   "cell_type": "code",
   "execution_count": null,
   "id": "a236b462-4c75-4afa-829b-c9b6fe2e8a54",
   "metadata": {},
   "outputs": [],
   "source": [
    "topK(c0.v_FG, 10)"
   ]
  },
  {
   "cell_type": "code",
   "execution_count": null,
   "id": "8a1379cd-175d-4413-9a8b-11b24440b64b",
   "metadata": {
    "scrolled": true
   },
   "outputs": [],
   "source": [
    "c0_a = tr_analyzer.gen_and_print_all(4237, 0.09982419, 0, with_text=True, limit=200)"
   ]
  },
  {
   "cell_type": "code",
   "execution_count": null,
   "id": "3dcf6560-9cc1-4d51-8e65-003bc3639fc4",
   "metadata": {},
   "outputs": [],
   "source": [
    "topK(c0_a.v_FG, 10)"
   ]
  },
  {
   "cell_type": "code",
   "execution_count": null,
   "id": "69ca3317-9154-47a3-a34e-34d373558e39",
   "metadata": {
    "scrolled": true
   },
   "outputs": [],
   "source": [
    "c6 = tr_analyzer.gen_and_print_all(11831, 12, 6, with_text=True)\n",
    "c6"
   ]
  },
  {
   "cell_type": "code",
   "execution_count": null,
   "id": "d22705f2-1fd1-4bb1-b90d-d4b7d400d983",
   "metadata": {},
   "outputs": [],
   "source": [
    "topK(c6.v_FG, 10)"
   ]
  },
  {
   "cell_type": "code",
   "execution_count": null,
   "id": "512a755f-bc1b-4de2-bd1a-80e0cd6943b1",
   "metadata": {
    "scrolled": true
   },
   "outputs": [],
   "source": [
    "c6_a = tr_analyzer.gen_and_print_all(3084, 1.655886, 6, with_text=True, limit=200)"
   ]
  },
  {
   "cell_type": "code",
   "execution_count": null,
   "id": "5394dc2e-c04a-44fc-95c0-53930beb7164",
   "metadata": {},
   "outputs": [],
   "source": [
    "topK(c6_a.v_FG, 10)"
   ]
  },
  {
   "cell_type": "code",
   "execution_count": null,
   "id": "8d9a9677-1673-41f5-9f5a-805ec6e556e4",
   "metadata": {
    "scrolled": true
   },
   "outputs": [],
   "source": [
    "c8 = tr_analyzer.gen_and_print_all(355, 12, 8, with_text=True)\n",
    "c8"
   ]
  },
  {
   "cell_type": "code",
   "execution_count": null,
   "id": "5492fb3f-e412-4e63-bf0e-eb18bc044da7",
   "metadata": {},
   "outputs": [],
   "source": [
    "topK(c8.v_FG, 2)"
   ]
  },
  {
   "cell_type": "code",
   "execution_count": null,
   "id": "53d4722c-6b61-4218-9819-74d667f8de5d",
   "metadata": {
    "scrolled": true
   },
   "outputs": [],
   "source": [
    "c8_a = tr_analyzer.gen_and_print_all(8919, 1.1454895e-03, 8, with_text=True, limit=200)"
   ]
  },
  {
   "cell_type": "code",
   "execution_count": null,
   "id": "9e810fe6-7653-45bc-ba7a-8e50c249864c",
   "metadata": {},
   "outputs": [],
   "source": [
    "topK(c8_a.v_FG, 10)"
   ]
  },
  {
   "cell_type": "markdown",
   "id": "12e19332-647d-490d-935a-c2208bcd4509",
   "metadata": {},
   "source": [
    "## Detect colors"
   ]
  },
  {
   "cell_type": "code",
   "execution_count": null,
   "id": "a3e0346d-9fb1-46d7-9dec-0ae8ddc74ecc",
   "metadata": {},
   "outputs": [],
   "source": [
    "concept_an = ConceptAnalysis(\n",
    "    ' Interesting fact about color purple, which itself is a beautiful colour, there is a band named Deep Purple in 70s', \n",
    "    tr_analyzer\n",
    ")"
   ]
  },
  {
   "cell_type": "code",
   "execution_count": null,
   "id": "78cc66bf-5e54-43d0-b4f6-d0b6ffa4166c",
   "metadata": {},
   "outputs": [],
   "source": [
    "concept_an.analyze_concepts()"
   ]
  },
  {
   "cell_type": "code",
   "execution_count": null,
   "id": "3f9a2930-d357-4b85-9393-c395abe3a783",
   "metadata": {},
   "outputs": [],
   "source": [
    "t_idcs = [5, 20]\n",
    "layer = 0"
   ]
  },
  {
   "cell_type": "code",
   "execution_count": null,
   "id": "36a2f5e1-7190-4756-8b2a-d0229fefe81e",
   "metadata": {
    "scrolled": true
   },
   "outputs": [],
   "source": [
    "concept_an.gen_text(t_idcs, layer)"
   ]
  },
  {
   "cell_type": "code",
   "execution_count": null,
   "id": "43d045d4-f5c3-4638-abf7-de99ee77c0dd",
   "metadata": {},
   "outputs": [],
   "source": [
    "concept_an.c_is[0]"
   ]
  },
  {
   "cell_type": "code",
   "execution_count": null,
   "id": "aaf753d7-9506-44c6-ba30-71e40cf500e9",
   "metadata": {},
   "outputs": [],
   "source": [
    "v0_5 = concept_an.v_FG[layer][5]\n",
    "vals, idcs = topK(v0_5, v0_5.shape[0])\n",
    "vals, idcs"
   ]
  },
  {
   "cell_type": "code",
   "execution_count": null,
   "id": "c3d83d9d-c481-461e-8cf0-ff3ae31835d3",
   "metadata": {
    "scrolled": true
   },
   "outputs": [],
   "source": [
    "concept_an.detected_vs[layer][236]"
   ]
  },
  {
   "cell_type": "code",
   "execution_count": null,
   "id": "92f2ad10-74e2-4f62-8d78-9293436494c3",
   "metadata": {
    "scrolled": true
   },
   "outputs": [],
   "source": [
    "concept_an.detected_vs[layer][926]"
   ]
  },
  {
   "cell_type": "code",
   "execution_count": null,
   "id": "a36551f3-9cf0-49c9-90a2-96b6c542ac57",
   "metadata": {},
   "outputs": [],
   "source": [
    "v_5 = concept_an.detected_vs[layer][236][5][64]\n",
    "v_20 = concept_an.detected_vs[layer][236][20][84]"
   ]
  },
  {
   "cell_type": "code",
   "execution_count": null,
   "id": "6ad6eee7-463c-497a-bd79-018b33728484",
   "metadata": {},
   "outputs": [],
   "source": [
    "topK(v_5, 10)"
   ]
  },
  {
   "cell_type": "code",
   "execution_count": null,
   "id": "c1623953-b51f-49d6-987a-821b42d2f372",
   "metadata": {},
   "outputs": [],
   "source": [
    "topK(v0_5, 10)"
   ]
  },
  {
   "cell_type": "code",
   "execution_count": null,
   "id": "45bba4bd-7a2f-4adc-8f6d-61bb40d6b7ca",
   "metadata": {},
   "outputs": [],
   "source": [
    "concept_an.to_string(concept_an.corpus[236])"
   ]
  },
  {
   "cell_type": "code",
   "execution_count": null,
   "id": "1c496e27-02c6-4c24-a894-7d105d126c53",
   "metadata": {
    "scrolled": true
   },
   "outputs": [],
   "source": [
    "concept_an.gen_and_print(idcs, vals, layer, with_text=True, limit=100)"
   ]
  },
  {
   "cell_type": "code",
   "execution_count": null,
   "id": "62d69fcd-fd99-4113-a3e3-b79686bbe822",
   "metadata": {},
   "outputs": [],
   "source": [
    "concept_an.v_FG[layer]"
   ]
  },
  {
   "cell_type": "code",
   "execution_count": null,
   "id": "8ed8a803-566a-43ff-b4f3-cf5d333f25ed",
   "metadata": {},
   "outputs": [],
   "source": [
    "layer = 8"
   ]
  },
  {
   "cell_type": "code",
   "execution_count": null,
   "id": "9edf6922-2551-44f4-8c16-6316d5ce854b",
   "metadata": {
    "scrolled": true
   },
   "outputs": [],
   "source": [
    "concept_an.gen_text(t_idcs, layer)"
   ]
  },
  {
   "cell_type": "code",
   "execution_count": null,
   "id": "19d44c48-c63c-4f36-ad4c-6d39242b5791",
   "metadata": {},
   "outputs": [],
   "source": [
    "v8_5 = concept_an.v_FG[layer][5]\n",
    "vals, idcs = topK(v8_5, 10)\n",
    "vals, idcs"
   ]
  },
  {
   "cell_type": "code",
   "execution_count": null,
   "id": "15af9776-9d85-490b-8507-2d543f960785",
   "metadata": {},
   "outputs": [],
   "source": [
    "topK(concept_an.v_is[layer][5], 10)"
   ]
  },
  {
   "cell_type": "code",
   "execution_count": null,
   "id": "33c00ab9-807b-41e5-8d87-ec3971f01d3c",
   "metadata": {},
   "outputs": [],
   "source": [
    "layer = 11"
   ]
  },
  {
   "cell_type": "code",
   "execution_count": null,
   "id": "a6511acb-d856-4de7-8a09-9ad4c2c04797",
   "metadata": {
    "scrolled": true
   },
   "outputs": [],
   "source": [
    "concept_an.gen_text(t_idcs, layer, limit=100, red_val=2)"
   ]
  },
  {
   "cell_type": "code",
   "execution_count": null,
   "id": "133d5ca0-4a83-4281-af41-b8e782036b66",
   "metadata": {},
   "outputs": [],
   "source": [
    "v11_5 = concept_an.v_FG[layer][5]\n",
    "vals, idcs = topK(v11_5, v11_5.shape[0])\n",
    "vals, idcs"
   ]
  },
  {
   "cell_type": "code",
   "execution_count": null,
   "id": "7761a583-99dc-4d7c-b993-83723b4c9956",
   "metadata": {},
   "outputs": [],
   "source": [
    "concept_an.gen_and_print(idcs, vals, layer, with_text=True, limit=100)"
   ]
  },
  {
   "cell_type": "markdown",
   "id": "3e3538e3-8504-4e6b-985f-0cd51efd98fe",
   "metadata": {},
   "source": [
    "## Experiments Pos and Negs Black"
   ]
  },
  {
   "cell_type": "code",
   "execution_count": null,
   "id": "ce89c08a-9433-4a12-b5b6-10afd7dd9783",
   "metadata": {},
   "outputs": [],
   "source": [
    "tok_indx = 143"
   ]
  },
  {
   "cell_type": "code",
   "execution_count": null,
   "id": "72b6895f-8322-4494-8213-4d79bfffda21",
   "metadata": {},
   "outputs": [],
   "source": [
    "text_detoken = tr_analyzer.to_clean(tr_analyzer.tokens[tok_indx])\n",
    "text_detoken"
   ]
  },
  {
   "cell_type": "code",
   "execution_count": null,
   "id": "be4681f8-c724-458b-aecf-ffbd7b135109",
   "metadata": {},
   "outputs": [],
   "source": [
    "concept_an = ConceptAnalysis(text_detoken, tr_analyzer)"
   ]
  },
  {
   "cell_type": "code",
   "execution_count": null,
   "id": "1ad58cdb-f69d-4d80-9af7-16cb898ecab8",
   "metadata": {
    "scrolled": true
   },
   "outputs": [],
   "source": [
    "concept_an.analyze_concepts()"
   ]
  },
  {
   "cell_type": "code",
   "execution_count": null,
   "id": "1bdb04d4-cb5f-41eb-8cf2-88efaf63d4f0",
   "metadata": {},
   "outputs": [],
   "source": [
    "i, j = 27, 28\n",
    "t_idcs = [28, 127]"
   ]
  },
  {
   "cell_type": "code",
   "execution_count": null,
   "id": "0d305d60-4b23-445f-84cb-b603803fd7d3",
   "metadata": {},
   "outputs": [],
   "source": [
    "layer_0 = 0"
   ]
  },
  {
   "cell_type": "code",
   "execution_count": null,
   "id": "ef9b9ca9-c32a-4ad1-8b69-199cb7872396",
   "metadata": {},
   "outputs": [],
   "source": [
    "concept_an.tr_utils.transcoder.background_dets = None"
   ]
  },
  {
   "cell_type": "code",
   "execution_count": null,
   "id": "fb755f77-cfbf-4eca-b06f-3e81b9b3d6f0",
   "metadata": {
    "scrolled": true
   },
   "outputs": [],
   "source": [
    "concept_an.gen_text(t_idcs, layer_0)"
   ]
  },
  {
   "cell_type": "code",
   "execution_count": null,
   "id": "79d4b5a2-494a-4184-9dcb-15d9c7d2515a",
   "metadata": {},
   "outputs": [],
   "source": [
    "det_22 = concept_an.detected_vs[layer_0][22]\n",
    "det_22"
   ]
  },
  {
   "cell_type": "code",
   "execution_count": null,
   "id": "56a6f669-26ff-4088-8f00-0a295a3e0328",
   "metadata": {},
   "outputs": [],
   "source": [
    "v_b1 = det_22[28][32]\n",
    "v_b2 = det_22[127][32]"
   ]
  },
  {
   "cell_type": "code",
   "execution_count": null,
   "id": "5ea66f12-95d9-4a8c-b5a8-03e15cc57195",
   "metadata": {},
   "outputs": [],
   "source": [
    "v_b3 = det_22[127][96]\n",
    "v_b4 = det_22[127][119]"
   ]
  },
  {
   "cell_type": "code",
   "execution_count": null,
   "id": "90f499c8-44f5-407c-88de-1ef5dbac1a1a",
   "metadata": {},
   "outputs": [],
   "source": [
    "v_b = join(v_b1, v_b2)"
   ]
  },
  {
   "cell_type": "code",
   "execution_count": null,
   "id": "c05c1c17-6f48-41f4-b27e-bac0c41deeb4",
   "metadata": {},
   "outputs": [],
   "source": [
    "topK(v_b1, 20)"
   ]
  },
  {
   "cell_type": "code",
   "execution_count": null,
   "id": "b9d5c568-86f8-4765-a15a-f568ad638c7f",
   "metadata": {},
   "outputs": [],
   "source": [
    "topK(v_b3, 20)"
   ]
  },
  {
   "cell_type": "code",
   "execution_count": null,
   "id": "0b30d3e9-b749-4ac7-ab46-4d980a3c7aad",
   "metadata": {},
   "outputs": [],
   "source": [
    "topK(v_b4, 20)"
   ]
  },
  {
   "cell_type": "code",
   "execution_count": null,
   "id": "9b1776fe-05e1-4955-85bd-fe085dce93e2",
   "metadata": {},
   "outputs": [],
   "source": [
    "np.all(v_b1 == v_b2)"
   ]
  },
  {
   "cell_type": "code",
   "execution_count": null,
   "id": "9af8ffef-8fbc-4f1e-ba7a-e832bb9460ca",
   "metadata": {},
   "outputs": [],
   "source": [
    "layer_8 = 8"
   ]
  },
  {
   "cell_type": "code",
   "execution_count": null,
   "id": "a55d3a14-8289-41a6-a9fd-406e80f5efb7",
   "metadata": {
    "scrolled": true
   },
   "outputs": [],
   "source": [
    "concept_an.gen_text(t_idcs, layer_8)"
   ]
  },
  {
   "cell_type": "code",
   "execution_count": null,
   "id": "75ef490b-e98a-4b60-8744-7a842d88cc69",
   "metadata": {
    "scrolled": true
   },
   "outputs": [],
   "source": [
    "concept_an.detected_vs[layer_8]"
   ]
  },
  {
   "cell_type": "code",
   "execution_count": null,
   "id": "3b44ceff-398b-42d8-a4d2-c7d315482851",
   "metadata": {},
   "outputs": [],
   "source": [
    "layer_11 = 11"
   ]
  },
  {
   "cell_type": "code",
   "execution_count": null,
   "id": "65ee0acb-1d58-4f85-8a54-d2c0f3917fc5",
   "metadata": {
    "scrolled": true
   },
   "outputs": [],
   "source": [
    "concept_an.gen_text(t_idcs, layer_11)"
   ]
  },
  {
   "cell_type": "code",
   "execution_count": null,
   "id": "a294f394-2466-40bb-af8e-2e83f7704331",
   "metadata": {},
   "outputs": [],
   "source": [
    "concept_an.detected_vs[layer_11][3]"
   ]
  },
  {
   "cell_type": "code",
   "execution_count": null,
   "id": "9d12e7cf-f78e-4b55-b41e-e53e5fd1b846",
   "metadata": {},
   "outputs": [],
   "source": [
    "concept_an.detected_vs[layer_11][8]"
   ]
  },
  {
   "cell_type": "code",
   "execution_count": null,
   "id": "35895ae8-03b5-4cc5-a566-ef2a58ebd4a6",
   "metadata": {},
   "outputs": [],
   "source": [
    "v_white = concept_an.detected_vs[layer_11][8][28][62]\n",
    "v_black = concept_an.detected_vs[layer_11][8][127][34]"
   ]
  },
  {
   "cell_type": "code",
   "execution_count": null,
   "id": "20e6b614-b76a-4e0c-bec6-703eb08f2f1c",
   "metadata": {},
   "outputs": [],
   "source": [
    "topK(v_white, 10)"
   ]
  },
  {
   "cell_type": "code",
   "execution_count": null,
   "id": "7831257f-5201-484d-8200-fba80bf4dee5",
   "metadata": {},
   "outputs": [],
   "source": [
    "topK(v_black, 10)"
   ]
  },
  {
   "cell_type": "code",
   "execution_count": null,
   "id": "ad6d33e7-de75-4e34-ba11-b081900add10",
   "metadata": {},
   "outputs": [],
   "source": [
    "v_meet = meet(v_white, v_black)"
   ]
  },
  {
   "cell_type": "code",
   "execution_count": null,
   "id": "20325acc-893c-42d8-bc88-41fd66f139ab",
   "metadata": {},
   "outputs": [],
   "source": [
    "vals, indcs = topK(v_meet, 10)\n",
    "vals, indcs"
   ]
  },
  {
   "cell_type": "code",
   "execution_count": null,
   "id": "14cd7613-9d4c-4fb5-a744-70f0a59a280c",
   "metadata": {},
   "outputs": [],
   "source": [
    "c_meet = concept_an.gen_concept(indcs[1], vals[1], layer_11)\n",
    "c_meet"
   ]
  },
  {
   "cell_type": "code",
   "execution_count": null,
   "id": "1f986dbe-d6ba-4141-b7d8-fc7c0ff42b25",
   "metadata": {
    "scrolled": true
   },
   "outputs": [],
   "source": [
    "concept_an.gen_and_print(indcs[1:4], vals[1:4], layer_11, with_text=True, limit=20)"
   ]
  },
  {
   "cell_type": "code",
   "execution_count": null,
   "id": "1e48a282-dba4-4627-8681-2777fbf21a4b",
   "metadata": {
    "scrolled": true
   },
   "outputs": [],
   "source": [
    "concept_an.gen_and_print([21836], [17], layer_11, with_text=True, limit=20)"
   ]
  },
  {
   "cell_type": "code",
   "execution_count": null,
   "id": "519fec83-2da0-46fd-8263-26eff1abbfff",
   "metadata": {},
   "outputs": [],
   "source": []
  }
 ],
 "metadata": {
  "kernelspec": {
   "display_name": "Python 3 (ipykernel)",
   "language": "python",
   "name": "python3"
  },
  "language_info": {
   "codemirror_mode": {
    "name": "ipython",
    "version": 3
   },
   "file_extension": ".py",
   "mimetype": "text/x-python",
   "name": "python",
   "nbconvert_exporter": "python",
   "pygments_lexer": "ipython3",
   "version": "3.12.9"
  }
 },
 "nbformat": 4,
 "nbformat_minor": 5
}
