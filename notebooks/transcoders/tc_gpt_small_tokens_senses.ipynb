{
 "cells": [
  {
   "cell_type": "code",
   "execution_count": null,
   "id": "71ce37e9",
   "metadata": {},
   "outputs": [],
   "source": [
    "%load_ext autoreload\n",
    "%autoreload 2\n",
    "\n",
    "%matplotlib inline"
   ]
  },
  {
   "cell_type": "markdown",
   "id": "5b560092",
   "metadata": {},
   "source": [
    "## Install libraries"
   ]
  },
  {
   "cell_type": "markdown",
   "id": "89885fa7",
   "metadata": {},
   "source": [
    "```bash\n",
    "conda create -n edu4 python=3.11 jupyter matplotlib\n",
    "```"
   ]
  },
  {
   "cell_type": "markdown",
   "id": "cd23589d",
   "metadata": {},
   "source": [
    "```bash \n",
    "! pip install -U -r requirements.txt\n",
    "```"
   ]
  },
  {
   "cell_type": "markdown",
   "id": "9d16321f",
   "metadata": {},
   "source": [
    "```bash\n",
    "! pip install -U numpy\n",
    "! pip install -U scikit-learn\n",
    "```"
   ]
  },
  {
   "cell_type": "markdown",
   "id": "b4cab43a",
   "metadata": {},
   "source": [
    "## Update repository"
   ]
  },
  {
   "cell_type": "code",
   "execution_count": null,
   "id": "46bcb5dc",
   "metadata": {},
   "outputs": [],
   "source": [
    "# ! git pull"
   ]
  },
  {
   "cell_type": "markdown",
   "id": "bad216da",
   "metadata": {},
   "source": [
    "## Add import path"
   ]
  },
  {
   "cell_type": "code",
   "execution_count": null,
   "id": "baafb705",
   "metadata": {},
   "outputs": [],
   "source": [
    "import gc\n",
    "import os\n",
    "import sys"
   ]
  },
  {
   "cell_type": "code",
   "execution_count": null,
   "id": "acb2d69b-1208-4910-83fe-357fef2804f7",
   "metadata": {},
   "outputs": [],
   "source": [
    "def add_library_level(level=4):\n",
    "    suf_path = ['..']\n",
    "    path = '..'\n",
    "    for i in range(0, level):\n",
    "        join_path = suf_path * i\n",
    "        path = '/'.join(join_path)\n",
    "        module_path = os.path.abspath(os.path.join(path))\n",
    "        if module_path not in sys.path:\n",
    "            sys.path.append(module_path)\n",
    "            print(f'Appendeding {path}')"
   ]
  },
  {
   "cell_type": "code",
   "execution_count": null,
   "id": "17883ca3-d72f-417c-953a-13fb7f7be2c6",
   "metadata": {},
   "outputs": [],
   "source": [
    "add_library_level(level=5)"
   ]
  },
  {
   "cell_type": "markdown",
   "id": "07a1e9c8",
   "metadata": {},
   "source": [
    "## Organize imports"
   ]
  },
  {
   "cell_type": "code",
   "execution_count": null,
   "id": "ae177357",
   "metadata": {},
   "outputs": [],
   "source": [
    "import multiprocessing"
   ]
  },
  {
   "cell_type": "code",
   "execution_count": null,
   "id": "ee894933-eba4-4742-8fa2-51b2cff5cf6d",
   "metadata": {},
   "outputs": [],
   "source": [
    "from src.lattmc.fca.utils import *\n",
    "from src.lattmc.fca.fca_utils import *"
   ]
  },
  {
   "cell_type": "code",
   "execution_count": null,
   "id": "8ea45057-c650-406c-84d2-5b5b21c69396",
   "metadata": {},
   "outputs": [],
   "source": [
    "from src.lattmc.tc.transcoder_analyzers import ConceptAnalysis, init_analyzer"
   ]
  },
  {
   "cell_type": "code",
   "execution_count": null,
   "id": "5545b35f-c8f8-4f2f-b891-a29bf6f96a36",
   "metadata": {},
   "outputs": [],
   "source": [
    "from src.lattmc.sae.nlp_sae_utils import init_device, gen_concept"
   ]
  },
  {
   "cell_type": "code",
   "execution_count": null,
   "id": "ebc02393-d2ee-4638-97b3-b8994e4191d6",
   "metadata": {},
   "outputs": [],
   "source": [
    "import logging"
   ]
  },
  {
   "cell_type": "markdown",
   "id": "65f31e93",
   "metadata": {},
   "source": [
    "#### Number of CPU cores"
   ]
  },
  {
   "cell_type": "code",
   "execution_count": null,
   "id": "b41c30f2",
   "metadata": {},
   "outputs": [],
   "source": [
    "workers = multiprocessing.cpu_count()\n",
    "workers"
   ]
  },
  {
   "cell_type": "code",
   "execution_count": null,
   "id": "59f41838-322d-41e8-b8e1-6712089703c9",
   "metadata": {},
   "outputs": [],
   "source": [
    "SEED = 2025"
   ]
  },
  {
   "cell_type": "code",
   "execution_count": null,
   "id": "c5516efd-39d7-4d19-9112-4a1bd0efcd30",
   "metadata": {},
   "outputs": [],
   "source": [
    "logging.basicConfig(level=logging.INFO)"
   ]
  },
  {
   "cell_type": "code",
   "execution_count": null,
   "id": "9e1c0d14-575c-491c-88a3-85f70fae7875",
   "metadata": {},
   "outputs": [],
   "source": [
    "device = init_device()\n",
    "device"
   ]
  },
  {
   "cell_type": "code",
   "execution_count": null,
   "id": "1e9fcf4c-09fe-4262-b975-56a627c02797",
   "metadata": {},
   "outputs": [],
   "source": [
    "torch.__version__"
   ]
  },
  {
   "cell_type": "code",
   "execution_count": null,
   "id": "f6916c3b-746f-4169-98eb-49d20824e8ef",
   "metadata": {},
   "outputs": [],
   "source": [
    "np.__version__"
   ]
  },
  {
   "cell_type": "code",
   "execution_count": null,
   "id": "f684b5bd-d276-48df-8a54-b111138d36bb",
   "metadata": {},
   "outputs": [],
   "source": [
    "# np.set_printoptions(precision=4, suppress=True)"
   ]
  },
  {
   "cell_type": "markdown",
   "id": "093a4b55-3a8d-4cb1-b2fa-54710060037d",
   "metadata": {},
   "source": [
    "## Initialize Paths"
   ]
  },
  {
   "cell_type": "code",
   "execution_count": null,
   "id": "965d5cc1-2325-4fcc-beaa-876ab9e4dbea",
   "metadata": {},
   "outputs": [],
   "source": [
    "PATH = Path('data')\n",
    "GPT2 = PATH / 'transcoders' / 'gpt2'\n",
    "OWT_TOKENS_DIR = GPT2 / 'owt_tokens'\n",
    "TOKENS_PATH = OWT_TOKENS_DIR / 'owt_tokens_torch.pt'\n",
    "OWT_TOKENS_DIR.mkdir(exist_ok=True, parents=True)"
   ]
  },
  {
   "cell_type": "markdown",
   "id": "b7630740-6722-45ad-b309-df4121abf3a6",
   "metadata": {},
   "source": [
    "## Load trancoders"
   ]
  },
  {
   "cell_type": "code",
   "execution_count": null,
   "id": "86252e89-72dc-44a7-b021-791ea1ac0c06",
   "metadata": {},
   "outputs": [],
   "source": [
    "layers = list(range(12))\n",
    "layers = [0, 4, 6, 8, 10, 11]"
   ]
  },
  {
   "cell_type": "code",
   "execution_count": null,
   "id": "9388c318-8ec7-46c4-99c6-b863a9c56924",
   "metadata": {
    "scrolled": true
   },
   "outputs": [],
   "source": [
    "tr_analyzer = init_analyzer(\n",
    "    layers,\n",
    "    TOKENS_PATH,\n",
    "    GPT2,\n",
    "    device=device\n",
    ")"
   ]
  },
  {
   "cell_type": "code",
   "execution_count": null,
   "id": "5952d6a2-5416-4131-896f-79babf182d0c",
   "metadata": {},
   "outputs": [],
   "source": [
    "import gc\n",
    "gc.collect()\n",
    "torch.cuda.empty_cache()"
   ]
  },
  {
   "cell_type": "markdown",
   "id": "9c1d9ea7-1d49-4732-b54f-20790669b6e1",
   "metadata": {},
   "source": [
    "## Detect sences"
   ]
  },
  {
   "cell_type": "code",
   "execution_count": null,
   "id": "a3e0346d-9fb1-46d7-9dec-0ae8ddc74ecc",
   "metadata": {},
   "outputs": [],
   "source": [
    "concept_an = ConceptAnalysis(' The important sense is a sense of smell, odour, sense is also vision and hearing', tr_analyzer)"
   ]
  },
  {
   "cell_type": "code",
   "execution_count": null,
   "id": "78cc66bf-5e54-43d0-b4f6-d0b6ffa4166c",
   "metadata": {},
   "outputs": [],
   "source": [
    "concept_an.analyze_concepts()"
   ]
  },
  {
   "cell_type": "code",
   "execution_count": null,
   "id": "3f9a2930-d357-4b85-9393-c395abe3a783",
   "metadata": {},
   "outputs": [],
   "source": [
    "t_idcs = [8, 16]\n",
    "layer = 0"
   ]
  },
  {
   "cell_type": "code",
   "execution_count": null,
   "id": "36a2f5e1-7190-4756-8b2a-d0229fefe81e",
   "metadata": {},
   "outputs": [],
   "source": [
    "concept_an.gen_text(t_idcs, layer)"
   ]
  },
  {
   "cell_type": "code",
   "execution_count": null,
   "id": "8ed8a803-566a-43ff-b4f3-cf5d333f25ed",
   "metadata": {},
   "outputs": [],
   "source": [
    "layer = 8"
   ]
  },
  {
   "cell_type": "code",
   "execution_count": null,
   "id": "9edf6922-2551-44f4-8c16-6316d5ce854b",
   "metadata": {},
   "outputs": [],
   "source": [
    "concept_an.gen_text(t_idcs, layer)"
   ]
  },
  {
   "cell_type": "code",
   "execution_count": null,
   "id": "33c00ab9-807b-41e5-8d87-ec3971f01d3c",
   "metadata": {},
   "outputs": [],
   "source": [
    "layer = 11"
   ]
  },
  {
   "cell_type": "code",
   "execution_count": null,
   "id": "a6511acb-d856-4de7-8a09-9ad4c2c04797",
   "metadata": {},
   "outputs": [],
   "source": [
    "concept_an.gen_text(t_idcs, layer)"
   ]
  },
  {
   "cell_type": "code",
   "execution_count": null,
   "id": "7761a583-99dc-4d7c-b993-83723b4c9956",
   "metadata": {},
   "outputs": [],
   "source": []
  },
  {
   "cell_type": "markdown",
   "id": "3e3538e3-8504-4e6b-985f-0cd51efd98fe",
   "metadata": {},
   "source": [
    "## Experiments Pos and Negs Black"
   ]
  },
  {
   "cell_type": "code",
   "execution_count": null,
   "id": "ce89c08a-9433-4a12-b5b6-10afd7dd9783",
   "metadata": {},
   "outputs": [],
   "source": [
    "tok_indx = 143"
   ]
  },
  {
   "cell_type": "code",
   "execution_count": null,
   "id": "72b6895f-8322-4494-8213-4d79bfffda21",
   "metadata": {},
   "outputs": [],
   "source": [
    "text_detoken = tr_analyzer.to_clean(tr_analyzer.tokens[tok_indx])\n",
    "text_detoken"
   ]
  },
  {
   "cell_type": "code",
   "execution_count": null,
   "id": "be4681f8-c724-458b-aecf-ffbd7b135109",
   "metadata": {},
   "outputs": [],
   "source": [
    "concept_an = ConceptAnalysis(text_detoken, tr_analyzer)"
   ]
  },
  {
   "cell_type": "code",
   "execution_count": null,
   "id": "1ad58cdb-f69d-4d80-9af7-16cb898ecab8",
   "metadata": {
    "scrolled": true
   },
   "outputs": [],
   "source": [
    "concept_an.analyze_concepts()"
   ]
  },
  {
   "cell_type": "code",
   "execution_count": null,
   "id": "1bdb04d4-cb5f-41eb-8cf2-88efaf63d4f0",
   "metadata": {},
   "outputs": [],
   "source": [
    "i, j = 27, 28\n",
    "t_idcs = [28, 127]"
   ]
  },
  {
   "cell_type": "code",
   "execution_count": null,
   "id": "0d305d60-4b23-445f-84cb-b603803fd7d3",
   "metadata": {},
   "outputs": [],
   "source": [
    "layer_0 = 0"
   ]
  },
  {
   "cell_type": "code",
   "execution_count": null,
   "id": "ef9b9ca9-c32a-4ad1-8b69-199cb7872396",
   "metadata": {},
   "outputs": [],
   "source": [
    "concept_an.tr_utils.transcoder.background_dets = None"
   ]
  },
  {
   "cell_type": "code",
   "execution_count": null,
   "id": "fb755f77-cfbf-4eca-b06f-3e81b9b3d6f0",
   "metadata": {
    "scrolled": true
   },
   "outputs": [],
   "source": [
    "concept_an.gen_text(t_idcs, layer_0)"
   ]
  },
  {
   "cell_type": "code",
   "execution_count": null,
   "id": "79d4b5a2-494a-4184-9dcb-15d9c7d2515a",
   "metadata": {},
   "outputs": [],
   "source": [
    "det_22 = concept_an.detected_vs[layer_0][22]\n",
    "det_22"
   ]
  },
  {
   "cell_type": "code",
   "execution_count": null,
   "id": "56a6f669-26ff-4088-8f00-0a295a3e0328",
   "metadata": {},
   "outputs": [],
   "source": [
    "v_b1 = det_22[28][32]\n",
    "v_b2 = det_22[127][32]"
   ]
  },
  {
   "cell_type": "code",
   "execution_count": null,
   "id": "5ea66f12-95d9-4a8c-b5a8-03e15cc57195",
   "metadata": {},
   "outputs": [],
   "source": [
    "v_b3 = det_22[127][96]\n",
    "v_b4 = det_22[127][119]"
   ]
  },
  {
   "cell_type": "code",
   "execution_count": null,
   "id": "90f499c8-44f5-407c-88de-1ef5dbac1a1a",
   "metadata": {},
   "outputs": [],
   "source": [
    "v_b = join(v_b1, v_b2)"
   ]
  },
  {
   "cell_type": "code",
   "execution_count": null,
   "id": "c05c1c17-6f48-41f4-b27e-bac0c41deeb4",
   "metadata": {},
   "outputs": [],
   "source": [
    "topK(v_b1, 20)"
   ]
  },
  {
   "cell_type": "code",
   "execution_count": null,
   "id": "b9d5c568-86f8-4765-a15a-f568ad638c7f",
   "metadata": {},
   "outputs": [],
   "source": [
    "topK(v_b3, 20)"
   ]
  },
  {
   "cell_type": "code",
   "execution_count": null,
   "id": "0b30d3e9-b749-4ac7-ab46-4d980a3c7aad",
   "metadata": {},
   "outputs": [],
   "source": [
    "topK(v_b4, 20)"
   ]
  },
  {
   "cell_type": "code",
   "execution_count": null,
   "id": "9b1776fe-05e1-4955-85bd-fe085dce93e2",
   "metadata": {},
   "outputs": [],
   "source": [
    "np.all(v_b1 == v_b2)"
   ]
  },
  {
   "cell_type": "code",
   "execution_count": null,
   "id": "9af8ffef-8fbc-4f1e-ba7a-e832bb9460ca",
   "metadata": {},
   "outputs": [],
   "source": [
    "layer_8 = 8"
   ]
  },
  {
   "cell_type": "code",
   "execution_count": null,
   "id": "a55d3a14-8289-41a6-a9fd-406e80f5efb7",
   "metadata": {
    "scrolled": true
   },
   "outputs": [],
   "source": [
    "concept_an.gen_text(t_idcs, layer_8)"
   ]
  },
  {
   "cell_type": "code",
   "execution_count": null,
   "id": "75ef490b-e98a-4b60-8744-7a842d88cc69",
   "metadata": {
    "scrolled": true
   },
   "outputs": [],
   "source": [
    "concept_an.detected_vs[layer_8]"
   ]
  },
  {
   "cell_type": "code",
   "execution_count": null,
   "id": "3b44ceff-398b-42d8-a4d2-c7d315482851",
   "metadata": {},
   "outputs": [],
   "source": [
    "layer_11 = 11"
   ]
  },
  {
   "cell_type": "code",
   "execution_count": null,
   "id": "65ee0acb-1d58-4f85-8a54-d2c0f3917fc5",
   "metadata": {
    "scrolled": true
   },
   "outputs": [],
   "source": [
    "concept_an.gen_text(t_idcs, layer_11)"
   ]
  },
  {
   "cell_type": "code",
   "execution_count": null,
   "id": "a294f394-2466-40bb-af8e-2e83f7704331",
   "metadata": {},
   "outputs": [],
   "source": [
    "concept_an.detected_vs[layer_11][3]"
   ]
  },
  {
   "cell_type": "code",
   "execution_count": null,
   "id": "9d12e7cf-f78e-4b55-b41e-e53e5fd1b846",
   "metadata": {},
   "outputs": [],
   "source": [
    "concept_an.detected_vs[layer_11][8]"
   ]
  },
  {
   "cell_type": "code",
   "execution_count": null,
   "id": "35895ae8-03b5-4cc5-a566-ef2a58ebd4a6",
   "metadata": {},
   "outputs": [],
   "source": [
    "v_white = concept_an.detected_vs[layer_11][8][28][62]\n",
    "v_black = concept_an.detected_vs[layer_11][8][127][34]"
   ]
  },
  {
   "cell_type": "code",
   "execution_count": null,
   "id": "20e6b614-b76a-4e0c-bec6-703eb08f2f1c",
   "metadata": {},
   "outputs": [],
   "source": [
    "topK(v_white, 10)"
   ]
  },
  {
   "cell_type": "code",
   "execution_count": null,
   "id": "7831257f-5201-484d-8200-fba80bf4dee5",
   "metadata": {},
   "outputs": [],
   "source": [
    "topK(v_black, 10)"
   ]
  },
  {
   "cell_type": "code",
   "execution_count": null,
   "id": "ad6d33e7-de75-4e34-ba11-b081900add10",
   "metadata": {},
   "outputs": [],
   "source": [
    "v_meet = meet(v_white, v_black)"
   ]
  },
  {
   "cell_type": "code",
   "execution_count": null,
   "id": "20325acc-893c-42d8-bc88-41fd66f139ab",
   "metadata": {},
   "outputs": [],
   "source": [
    "vals, indcs = topK(v_meet, 10)\n",
    "vals, indcs"
   ]
  },
  {
   "cell_type": "code",
   "execution_count": null,
   "id": "14cd7613-9d4c-4fb5-a744-70f0a59a280c",
   "metadata": {},
   "outputs": [],
   "source": [
    "c_meet = concept_an.gen_concept(indcs[1], vals[1], layer_11)\n",
    "c_meet"
   ]
  },
  {
   "cell_type": "code",
   "execution_count": null,
   "id": "1f986dbe-d6ba-4141-b7d8-fc7c0ff42b25",
   "metadata": {
    "scrolled": true
   },
   "outputs": [],
   "source": [
    "concept_an.gen_and_print(indcs[1:4], vals[1:4], layer_11, with_text=True, limit=20)"
   ]
  },
  {
   "cell_type": "code",
   "execution_count": null,
   "id": "1e48a282-dba4-4627-8681-2777fbf21a4b",
   "metadata": {
    "scrolled": true
   },
   "outputs": [],
   "source": [
    "concept_an.gen_and_print([21836], [17], layer_11, with_text=True, limit=20)"
   ]
  },
  {
   "cell_type": "code",
   "execution_count": null,
   "id": "519fec83-2da0-46fd-8263-26eff1abbfff",
   "metadata": {},
   "outputs": [],
   "source": []
  }
 ],
 "metadata": {
  "kernelspec": {
   "display_name": "Python 3 (ipykernel)",
   "language": "python",
   "name": "python3"
  },
  "language_info": {
   "codemirror_mode": {
    "name": "ipython",
    "version": 3
   },
   "file_extension": ".py",
   "mimetype": "text/x-python",
   "name": "python",
   "nbconvert_exporter": "python",
   "pygments_lexer": "ipython3",
   "version": "3.12.9"
  }
 },
 "nbformat": 4,
 "nbformat_minor": 5
}
