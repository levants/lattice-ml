{
 "cells": [
  {
   "cell_type": "code",
   "execution_count": null,
   "id": "71ce37e9",
   "metadata": {},
   "outputs": [],
   "source": [
    "%load_ext autoreload\n",
    "%autoreload 2\n",
    "\n",
    "%matplotlib inline"
   ]
  },
  {
   "cell_type": "markdown",
   "id": "5b560092",
   "metadata": {},
   "source": [
    "## Install libraries"
   ]
  },
  {
   "cell_type": "markdown",
   "id": "89885fa7",
   "metadata": {},
   "source": [
    "```bash\n",
    "conda create -n edu4 python=3.11 jupyter matplotlib\n",
    "```"
   ]
  },
  {
   "cell_type": "markdown",
   "id": "cd23589d",
   "metadata": {},
   "source": [
    "```bash \n",
    "! pip install -U -r requirements.txt\n",
    "```"
   ]
  },
  {
   "cell_type": "markdown",
   "id": "9d16321f",
   "metadata": {},
   "source": [
    "```bash\n",
    "! pip install -U numpy\n",
    "! pip install -U scikit-learn\n",
    "```"
   ]
  },
  {
   "cell_type": "markdown",
   "id": "b4cab43a",
   "metadata": {},
   "source": [
    "## Update repository"
   ]
  },
  {
   "cell_type": "code",
   "execution_count": null,
   "id": "46bcb5dc",
   "metadata": {},
   "outputs": [],
   "source": [
    "# ! git pull"
   ]
  },
  {
   "cell_type": "markdown",
   "id": "bad216da",
   "metadata": {},
   "source": [
    "## Add import path"
   ]
  },
  {
   "cell_type": "code",
   "execution_count": null,
   "id": "baafb705",
   "metadata": {},
   "outputs": [],
   "source": [
    "import gc\n",
    "import os\n",
    "import sys"
   ]
  },
  {
   "cell_type": "code",
   "execution_count": null,
   "id": "acb2d69b-1208-4910-83fe-357fef2804f7",
   "metadata": {},
   "outputs": [],
   "source": [
    "def add_library_level(level=4):\n",
    "    suf_path = ['..']\n",
    "    path = '..'\n",
    "    for i in range(0, level):\n",
    "        join_path = suf_path * i\n",
    "        path = '/'.join(join_path)\n",
    "        module_path = os.path.abspath(os.path.join(path))\n",
    "        if module_path not in sys.path:\n",
    "            sys.path.append(module_path)\n",
    "            print(f'Appendeding {path}')"
   ]
  },
  {
   "cell_type": "code",
   "execution_count": null,
   "id": "17883ca3-d72f-417c-953a-13fb7f7be2c6",
   "metadata": {},
   "outputs": [],
   "source": [
    "add_library_level(level=5)"
   ]
  },
  {
   "cell_type": "markdown",
   "id": "07a1e9c8",
   "metadata": {},
   "source": [
    "## Organize imports"
   ]
  },
  {
   "cell_type": "code",
   "execution_count": null,
   "id": "ae177357",
   "metadata": {},
   "outputs": [],
   "source": [
    "import multiprocessing"
   ]
  },
  {
   "cell_type": "code",
   "execution_count": null,
   "id": "ee894933-eba4-4742-8fa2-51b2cff5cf6d",
   "metadata": {},
   "outputs": [],
   "source": [
    "from src.lattmc.fca.utils import *\n",
    "from src.lattmc.fca.fca_utils import *"
   ]
  },
  {
   "cell_type": "code",
   "execution_count": null,
   "id": "8ea45057-c650-406c-84d2-5b5b21c69396",
   "metadata": {},
   "outputs": [],
   "source": [
    "from src.lattmc.tc.transcoder_analyzers import ConceptAnalysis, init_analyzer"
   ]
  },
  {
   "cell_type": "code",
   "execution_count": null,
   "id": "5545b35f-c8f8-4f2f-b891-a29bf6f96a36",
   "metadata": {},
   "outputs": [],
   "source": [
    "from src.lattmc.sae.nlp_sae_utils import init_device, gen_concept"
   ]
  },
  {
   "cell_type": "code",
   "execution_count": null,
   "id": "ebc02393-d2ee-4638-97b3-b8994e4191d6",
   "metadata": {},
   "outputs": [],
   "source": [
    "import logging"
   ]
  },
  {
   "cell_type": "markdown",
   "id": "65f31e93",
   "metadata": {},
   "source": [
    "#### Number of CPU cores"
   ]
  },
  {
   "cell_type": "code",
   "execution_count": null,
   "id": "b41c30f2",
   "metadata": {},
   "outputs": [],
   "source": [
    "workers = multiprocessing.cpu_count()\n",
    "workers"
   ]
  },
  {
   "cell_type": "code",
   "execution_count": null,
   "id": "59f41838-322d-41e8-b8e1-6712089703c9",
   "metadata": {},
   "outputs": [],
   "source": [
    "SEED = 2025"
   ]
  },
  {
   "cell_type": "code",
   "execution_count": null,
   "id": "c5516efd-39d7-4d19-9112-4a1bd0efcd30",
   "metadata": {},
   "outputs": [],
   "source": [
    "logging.basicConfig(level=logging.INFO)"
   ]
  },
  {
   "cell_type": "code",
   "execution_count": null,
   "id": "9e1c0d14-575c-491c-88a3-85f70fae7875",
   "metadata": {},
   "outputs": [],
   "source": [
    "device = init_device()\n",
    "device"
   ]
  },
  {
   "cell_type": "code",
   "execution_count": null,
   "id": "1e9fcf4c-09fe-4262-b975-56a627c02797",
   "metadata": {},
   "outputs": [],
   "source": [
    "torch.__version__"
   ]
  },
  {
   "cell_type": "code",
   "execution_count": null,
   "id": "f6916c3b-746f-4169-98eb-49d20824e8ef",
   "metadata": {},
   "outputs": [],
   "source": [
    "np.__version__"
   ]
  },
  {
   "cell_type": "code",
   "execution_count": null,
   "id": "f684b5bd-d276-48df-8a54-b111138d36bb",
   "metadata": {},
   "outputs": [],
   "source": [
    "# np.set_printoptions(precision=4, suppress=True)"
   ]
  },
  {
   "cell_type": "markdown",
   "id": "093a4b55-3a8d-4cb1-b2fa-54710060037d",
   "metadata": {},
   "source": [
    "## Initialize Paths"
   ]
  },
  {
   "cell_type": "code",
   "execution_count": null,
   "id": "965d5cc1-2325-4fcc-beaa-876ab9e4dbea",
   "metadata": {},
   "outputs": [],
   "source": [
    "PATH = Path('data')\n",
    "GPT2 = PATH / 'transcoders' / 'gpt2'\n",
    "OWT_TOKENS_DIR = GPT2 / 'owt_tokens'\n",
    "TOKENS_PATH = OWT_TOKENS_DIR / 'owt_tokens_torch.pt'\n",
    "OWT_TOKENS_DIR.mkdir(exist_ok=True, parents=True)"
   ]
  },
  {
   "cell_type": "markdown",
   "id": "b7630740-6722-45ad-b309-df4121abf3a6",
   "metadata": {},
   "source": [
    "## Load trancoders"
   ]
  },
  {
   "cell_type": "code",
   "execution_count": null,
   "id": "86252e89-72dc-44a7-b021-791ea1ac0c06",
   "metadata": {},
   "outputs": [],
   "source": [
    "layers = list(range(12))\n",
    "layers = [0, 4, 6, 8, 10, 11]"
   ]
  },
  {
   "cell_type": "code",
   "execution_count": null,
   "id": "9388c318-8ec7-46c4-99c6-b863a9c56924",
   "metadata": {
    "scrolled": true
   },
   "outputs": [],
   "source": [
    "tr_analyzer = init_analyzer(\n",
    "    layers,\n",
    "    TOKENS_PATH,\n",
    "    GPT2,\n",
    "    device=device\n",
    ")"
   ]
  },
  {
   "cell_type": "code",
   "execution_count": null,
   "id": "5952d6a2-5416-4131-896f-79babf182d0c",
   "metadata": {},
   "outputs": [],
   "source": [
    "import gc\n",
    "gc.collect()\n",
    "torch.cuda.empty_cache()"
   ]
  },
  {
   "cell_type": "markdown",
   "id": "3e3538e3-8504-4e6b-985f-0cd51efd98fe",
   "metadata": {},
   "source": [
    "## Experiments Pos and Negs Black"
   ]
  },
  {
   "cell_type": "code",
   "execution_count": null,
   "id": "ce89c08a-9433-4a12-b5b6-10afd7dd9783",
   "metadata": {},
   "outputs": [],
   "source": [
    "tok_indx = 143"
   ]
  },
  {
   "cell_type": "code",
   "execution_count": null,
   "id": "72b6895f-8322-4494-8213-4d79bfffda21",
   "metadata": {},
   "outputs": [],
   "source": [
    "text_detoken = tr_analyzer.to_clean(tr_analyzer.tokens[tok_indx])\n",
    "text_detoken"
   ]
  },
  {
   "cell_type": "code",
   "execution_count": null,
   "id": "be4681f8-c724-458b-aecf-ffbd7b135109",
   "metadata": {},
   "outputs": [],
   "source": [
    "concept_an = ConceptAnalysis(text_detoken, tr_analyzer)"
   ]
  },
  {
   "cell_type": "code",
   "execution_count": null,
   "id": "1ad58cdb-f69d-4d80-9af7-16cb898ecab8",
   "metadata": {
    "scrolled": true
   },
   "outputs": [],
   "source": [
    "concept_an.analyze_concepts()"
   ]
  },
  {
   "cell_type": "code",
   "execution_count": null,
   "id": "1bdb04d4-cb5f-41eb-8cf2-88efaf63d4f0",
   "metadata": {},
   "outputs": [],
   "source": [
    "i, j = 27, 28\n",
    "t_idcs = [28, 127]"
   ]
  },
  {
   "cell_type": "code",
   "execution_count": null,
   "id": "0d305d60-4b23-445f-84cb-b603803fd7d3",
   "metadata": {},
   "outputs": [],
   "source": [
    "layer_0 = 0"
   ]
  },
  {
   "cell_type": "code",
   "execution_count": null,
   "id": "ef9b9ca9-c32a-4ad1-8b69-199cb7872396",
   "metadata": {},
   "outputs": [],
   "source": [
    "black_text = ' black intelligents and black district'\n",
    "concept_bl = ConceptAnalysis(black_text, tr_analyzer)\n",
    "concept_bl.analyze_concepts()"
   ]
  },
  {
   "cell_type": "code",
   "execution_count": null,
   "id": "638e6baf-c4a8-47f2-8086-7d876d005aff",
   "metadata": {},
   "outputs": [],
   "source": [
    "t_idbl = [1, 5]"
   ]
  },
  {
   "cell_type": "code",
   "execution_count": null,
   "id": "fb755f77-cfbf-4eca-b06f-3e81b9b3d6f0",
   "metadata": {
    "scrolled": true
   },
   "outputs": [],
   "source": [
    "concept_an.gen_text(t_idcs, layer_0)"
   ]
  },
  {
   "cell_type": "code",
   "execution_count": null,
   "id": "5c0a562d-a019-46d5-a1f0-66f92e6fa43c",
   "metadata": {
    "scrolled": true
   },
   "outputs": [],
   "source": [
    "concept_bl.gen_text(t_idbl, layer_0)"
   ]
  },
  {
   "cell_type": "code",
   "execution_count": null,
   "id": "79d4b5a2-494a-4184-9dcb-15d9c7d2515a",
   "metadata": {},
   "outputs": [],
   "source": [
    "det_22 = concept_an.detected_vs[layer_0][22]\n",
    "det_22"
   ]
  },
  {
   "cell_type": "code",
   "execution_count": null,
   "id": "56a6f669-26ff-4088-8f00-0a295a3e0328",
   "metadata": {},
   "outputs": [],
   "source": [
    "v_b1 = det_22[28][32]\n",
    "v_b2 = det_22[127][32]"
   ]
  },
  {
   "cell_type": "code",
   "execution_count": null,
   "id": "5ea66f12-95d9-4a8c-b5a8-03e15cc57195",
   "metadata": {},
   "outputs": [],
   "source": [
    "v_b3 = det_22[127][96]\n",
    "v_b4 = det_22[127][119]"
   ]
  },
  {
   "cell_type": "code",
   "execution_count": null,
   "id": "90f499c8-44f5-407c-88de-1ef5dbac1a1a",
   "metadata": {},
   "outputs": [],
   "source": [
    "v_b = join(v_b1, v_b2)"
   ]
  },
  {
   "cell_type": "code",
   "execution_count": null,
   "id": "c05c1c17-6f48-41f4-b27e-bac0c41deeb4",
   "metadata": {},
   "outputs": [],
   "source": [
    "topK(v_b1, 20)"
   ]
  },
  {
   "cell_type": "code",
   "execution_count": null,
   "id": "b9d5c568-86f8-4765-a15a-f568ad638c7f",
   "metadata": {},
   "outputs": [],
   "source": [
    "topK(v_b3, 20)"
   ]
  },
  {
   "cell_type": "code",
   "execution_count": null,
   "id": "0b30d3e9-b749-4ac7-ab46-4d980a3c7aad",
   "metadata": {},
   "outputs": [],
   "source": [
    "topK(v_b4, 20)"
   ]
  },
  {
   "cell_type": "code",
   "execution_count": null,
   "id": "9b1776fe-05e1-4955-85bd-fe085dce93e2",
   "metadata": {},
   "outputs": [],
   "source": [
    "np.all(v_b1 == v_b2)"
   ]
  },
  {
   "cell_type": "code",
   "execution_count": null,
   "id": "9af8ffef-8fbc-4f1e-ba7a-e832bb9460ca",
   "metadata": {},
   "outputs": [],
   "source": [
    "layer_8 = 8"
   ]
  },
  {
   "cell_type": "code",
   "execution_count": null,
   "id": "a55d3a14-8289-41a6-a9fd-406e80f5efb7",
   "metadata": {
    "scrolled": true
   },
   "outputs": [],
   "source": [
    "concept_an.gen_text(t_idcs, layer_8)"
   ]
  },
  {
   "cell_type": "code",
   "execution_count": null,
   "id": "acd9923e-325f-4a4b-9d5d-20cf13666617",
   "metadata": {
    "scrolled": true
   },
   "outputs": [],
   "source": [
    "concept_bl.gen_text(t_idbl, layer_8)"
   ]
  },
  {
   "cell_type": "code",
   "execution_count": null,
   "id": "75ef490b-e98a-4b60-8744-7a842d88cc69",
   "metadata": {
    "scrolled": true
   },
   "outputs": [],
   "source": [
    "concept_an.detected_vs[layer_8]"
   ]
  },
  {
   "cell_type": "code",
   "execution_count": null,
   "id": "3b44ceff-398b-42d8-a4d2-c7d315482851",
   "metadata": {},
   "outputs": [],
   "source": [
    "layer_11 = 11"
   ]
  },
  {
   "cell_type": "code",
   "execution_count": null,
   "id": "65ee0acb-1d58-4f85-8a54-d2c0f3917fc5",
   "metadata": {
    "scrolled": true
   },
   "outputs": [],
   "source": [
    "concept_an.gen_text(t_idcs, layer_11)"
   ]
  },
  {
   "cell_type": "code",
   "execution_count": null,
   "id": "bf26b2a0-7bde-48ce-aaa5-cada0847d5c7",
   "metadata": {
    "scrolled": true
   },
   "outputs": [],
   "source": [
    "concept_bl.gen_text(t_idbl, layer_11)"
   ]
  },
  {
   "cell_type": "code",
   "execution_count": null,
   "id": "0be23984-9165-4212-9084-66d95aeba2bf",
   "metadata": {
    "scrolled": true
   },
   "outputs": [],
   "source": [
    "intersect(concept_an.c_is[11].A, concept_bl.c_is[11].A)"
   ]
  },
  {
   "cell_type": "code",
   "execution_count": null,
   "id": "a294f394-2466-40bb-af8e-2e83f7704331",
   "metadata": {},
   "outputs": [],
   "source": [
    "concept_an.detected_vs[layer_11][3]"
   ]
  },
  {
   "cell_type": "code",
   "execution_count": null,
   "id": "9d12e7cf-f78e-4b55-b41e-e53e5fd1b846",
   "metadata": {},
   "outputs": [],
   "source": [
    "concept_an.detected_vs[layer_11][8]"
   ]
  },
  {
   "cell_type": "code",
   "execution_count": null,
   "id": "ee3a2ad0-20c1-4884-8ff1-025404d5802e",
   "metadata": {},
   "outputs": [],
   "source": [
    "concept_an.detected_vs[layer_11][9]"
   ]
  },
  {
   "cell_type": "code",
   "execution_count": null,
   "id": "35895ae8-03b5-4cc5-a566-ef2a58ebd4a6",
   "metadata": {},
   "outputs": [],
   "source": [
    "v_white = concept_an.detected_vs[layer_11][3][28][47]\n",
    "v_black = concept_an.detected_vs[layer_11][3][127][76]"
   ]
  },
  {
   "cell_type": "code",
   "execution_count": null,
   "id": "f1c42192-644a-403d-abde-5c85e794df88",
   "metadata": {},
   "outputs": [],
   "source": [
    "v_white = concept_an.detected_vs[layer_11][8][28][62]\n",
    "v_black = concept_an.detected_vs[layer_11][8][127][34]"
   ]
  },
  {
   "cell_type": "code",
   "execution_count": null,
   "id": "4c18b736-0621-4c82-be22-28eb75ca16df",
   "metadata": {},
   "outputs": [],
   "source": [
    "v_white = concept_an.detected_vs[layer_11][9][28][74]\n",
    "v_black = concept_an.detected_vs[layer_11][9][127][92]"
   ]
  },
  {
   "cell_type": "code",
   "execution_count": null,
   "id": "20e6b614-b76a-4e0c-bec6-703eb08f2f1c",
   "metadata": {},
   "outputs": [],
   "source": [
    "topK(v_white, 10)"
   ]
  },
  {
   "cell_type": "code",
   "execution_count": null,
   "id": "7831257f-5201-484d-8200-fba80bf4dee5",
   "metadata": {},
   "outputs": [],
   "source": [
    "topK(v_black, 10)"
   ]
  },
  {
   "cell_type": "code",
   "execution_count": null,
   "id": "ad6d33e7-de75-4e34-ba11-b081900add10",
   "metadata": {},
   "outputs": [],
   "source": [
    "v_meet = meet(v_white, v_black)"
   ]
  },
  {
   "cell_type": "code",
   "execution_count": null,
   "id": "20325acc-893c-42d8-bc88-41fd66f139ab",
   "metadata": {},
   "outputs": [],
   "source": [
    "vals, indcs = topK(v_meet, 100)\n",
    "vals, indcs"
   ]
  },
  {
   "cell_type": "code",
   "execution_count": null,
   "id": "379a42be-2ed7-417c-9468-11e483c8d23a",
   "metadata": {},
   "outputs": [],
   "source": [
    "c_meet = concept_an.gen_concept(indcs, vals, layer_11)\n",
    "c_meet"
   ]
  },
  {
   "cell_type": "code",
   "execution_count": null,
   "id": "66893f24-1d22-4eac-af0a-e8280647f287",
   "metadata": {
    "scrolled": true
   },
   "outputs": [],
   "source": [
    "concept_an.gen_and_print(indcs, vals, layer_11)"
   ]
  },
  {
   "cell_type": "code",
   "execution_count": null,
   "id": "14cd7613-9d4c-4fb5-a744-70f0a59a280c",
   "metadata": {},
   "outputs": [],
   "source": [
    "c_meet = concept_an.gen_concept(indcs[1], vals[1], layer_11)\n",
    "c_meet"
   ]
  },
  {
   "cell_type": "code",
   "execution_count": null,
   "id": "1f986dbe-d6ba-4141-b7d8-fc7c0ff42b25",
   "metadata": {
    "scrolled": true
   },
   "outputs": [],
   "source": [
    "concept_an.gen_and_print(indcs[1:4], vals[1:4], layer_11, with_text=True, limit=20)"
   ]
  },
  {
   "cell_type": "code",
   "execution_count": null,
   "id": "1e48a282-dba4-4627-8681-2777fbf21a4b",
   "metadata": {
    "scrolled": true
   },
   "outputs": [],
   "source": [
    "concept_an.gen_and_print([21836], [17], layer_11, with_text=True, limit=20)"
   ]
  },
  {
   "cell_type": "code",
   "execution_count": null,
   "id": "519fec83-2da0-46fd-8263-26eff1abbfff",
   "metadata": {},
   "outputs": [],
   "source": [
    "vs = concept_an.transcoder(concept_an.corpus[8], layer_11)[0]"
   ]
  },
  {
   "cell_type": "code",
   "execution_count": null,
   "id": "53eeb5b5-b106-44d5-8d4b-d71ac25d89f4",
   "metadata": {},
   "outputs": [],
   "source": [
    "topK(vs[62], 10)"
   ]
  },
  {
   "cell_type": "markdown",
   "id": "eda0794b-e6f3-4aba-903e-c9d933a99fa4",
   "metadata": {},
   "source": [
    "## Embed Text"
   ]
  },
  {
   "cell_type": "code",
   "execution_count": null,
   "id": "e2ab7d36-3ce3-4dad-8e29-cbac484ed2f6",
   "metadata": {},
   "outputs": [],
   "source": [
    "emb_text = ' wonderful options'\n",
    "concept_bl = ConceptAnalysis(emb_text, tr_analyzer)\n",
    "concept_bl.analyze_concepts()"
   ]
  },
  {
   "cell_type": "code",
   "execution_count": null,
   "id": "dda6d28b-5ce7-48a1-9be7-a33d702baa05",
   "metadata": {},
   "outputs": [],
   "source": [
    "t_idbl = [1, 2]"
   ]
  },
  {
   "cell_type": "code",
   "execution_count": null,
   "id": "58a461ed-6ea7-4e90-9c6d-ca98f114f42a",
   "metadata": {
    "scrolled": true
   },
   "outputs": [],
   "source": [
    "concept_bl.gen_text(t_idbl, layer_0)"
   ]
  },
  {
   "cell_type": "code",
   "execution_count": null,
   "id": "bbb1e03e-28a9-40c1-a2a7-5e92ba030934",
   "metadata": {
    "scrolled": true
   },
   "outputs": [],
   "source": [
    "concept_bl.gen_text(t_idbl, layer_8)"
   ]
  },
  {
   "cell_type": "code",
   "execution_count": null,
   "id": "d5c1707d-53c4-4874-a975-35fd117d9078",
   "metadata": {},
   "outputs": [],
   "source": [
    "concept_bl.gen_text(t_idbl, layer_11)"
   ]
  },
  {
   "cell_type": "code",
   "execution_count": null,
   "id": "70350374-51e8-42c9-9b82-5b4668af979f",
   "metadata": {},
   "outputs": [],
   "source": []
  }
 ],
 "metadata": {
  "kernelspec": {
   "display_name": "Python 3 (ipykernel)",
   "language": "python",
   "name": "python3"
  },
  "language_info": {
   "codemirror_mode": {
    "name": "ipython",
    "version": 3
   },
   "file_extension": ".py",
   "mimetype": "text/x-python",
   "name": "python",
   "nbconvert_exporter": "python",
   "pygments_lexer": "ipython3",
   "version": "3.12.9"
  }
 },
 "nbformat": 4,
 "nbformat_minor": 5
}
