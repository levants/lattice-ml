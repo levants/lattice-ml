{
 "cells": [
  {
   "cell_type": "code",
   "execution_count": null,
   "id": "71ce37e9",
   "metadata": {},
   "outputs": [],
   "source": [
    "%load_ext autoreload\n",
    "%autoreload 2\n",
    "\n",
    "%matplotlib inline"
   ]
  },
  {
   "cell_type": "markdown",
   "id": "5b560092",
   "metadata": {},
   "source": [
    "## Install libraries"
   ]
  },
  {
   "cell_type": "markdown",
   "id": "89885fa7",
   "metadata": {},
   "source": [
    "```bash\n",
    "conda create -n edu4 python=3.11 jupyter matplotlib\n",
    "```"
   ]
  },
  {
   "cell_type": "markdown",
   "id": "cd23589d",
   "metadata": {},
   "source": [
    "```bash \n",
    "! pip install -U -r requirements.txt\n",
    "```"
   ]
  },
  {
   "cell_type": "markdown",
   "id": "9d16321f",
   "metadata": {},
   "source": [
    "```bash\n",
    "! pip install -U numpy\n",
    "! pip install -U scikit-learn\n",
    "```"
   ]
  },
  {
   "cell_type": "markdown",
   "id": "b4cab43a",
   "metadata": {},
   "source": [
    "## Update repository"
   ]
  },
  {
   "cell_type": "code",
   "execution_count": null,
   "id": "46bcb5dc",
   "metadata": {},
   "outputs": [],
   "source": [
    "# ! git pull"
   ]
  },
  {
   "cell_type": "markdown",
   "id": "bad216da",
   "metadata": {},
   "source": [
    "## Add import path"
   ]
  },
  {
   "cell_type": "code",
   "execution_count": null,
   "id": "baafb705",
   "metadata": {},
   "outputs": [],
   "source": [
    "import gc\n",
    "import os\n",
    "import sys"
   ]
  },
  {
   "cell_type": "code",
   "execution_count": null,
   "id": "acb2d69b-1208-4910-83fe-357fef2804f7",
   "metadata": {},
   "outputs": [],
   "source": [
    "def add_library_level(level=4):\n",
    "    suf_path = ['..']\n",
    "    path = '..'\n",
    "    for i in range(0, level):\n",
    "        join_path = suf_path * i\n",
    "        path = '/'.join(join_path)\n",
    "        module_path = os.path.abspath(os.path.join(path))\n",
    "        if module_path not in sys.path:\n",
    "            sys.path.append(module_path)\n",
    "            print(f'Appendeding {path}')"
   ]
  },
  {
   "cell_type": "code",
   "execution_count": null,
   "id": "17883ca3-d72f-417c-953a-13fb7f7be2c6",
   "metadata": {},
   "outputs": [],
   "source": [
    "add_library_level(level=5)"
   ]
  },
  {
   "cell_type": "markdown",
   "id": "07a1e9c8",
   "metadata": {},
   "source": [
    "## Organize imports"
   ]
  },
  {
   "cell_type": "code",
   "execution_count": null,
   "id": "ae177357",
   "metadata": {},
   "outputs": [],
   "source": [
    "import multiprocessing"
   ]
  },
  {
   "cell_type": "code",
   "execution_count": null,
   "id": "ee894933-eba4-4742-8fa2-51b2cff5cf6d",
   "metadata": {},
   "outputs": [],
   "source": [
    "from src.lattmc.fca.utils import *\n",
    "from src.lattmc.fca.fca_utils import *"
   ]
  },
  {
   "cell_type": "code",
   "execution_count": null,
   "id": "8ea45057-c650-406c-84d2-5b5b21c69396",
   "metadata": {},
   "outputs": [],
   "source": [
    "from src.lattmc.tc.transcoder_analyzers import ConceptAnalysis, init_analyzer"
   ]
  },
  {
   "cell_type": "code",
   "execution_count": null,
   "id": "5545b35f-c8f8-4f2f-b891-a29bf6f96a36",
   "metadata": {},
   "outputs": [],
   "source": [
    "from src.lattmc.sae.nlp_sae_utils import init_device, gen_concept"
   ]
  },
  {
   "cell_type": "code",
   "execution_count": null,
   "id": "ebc02393-d2ee-4638-97b3-b8994e4191d6",
   "metadata": {},
   "outputs": [],
   "source": [
    "import logging"
   ]
  },
  {
   "cell_type": "markdown",
   "id": "65f31e93",
   "metadata": {},
   "source": [
    "#### Number of CPU cores"
   ]
  },
  {
   "cell_type": "code",
   "execution_count": null,
   "id": "b41c30f2",
   "metadata": {},
   "outputs": [],
   "source": [
    "workers = multiprocessing.cpu_count()\n",
    "workers"
   ]
  },
  {
   "cell_type": "code",
   "execution_count": null,
   "id": "59f41838-322d-41e8-b8e1-6712089703c9",
   "metadata": {},
   "outputs": [],
   "source": [
    "SEED = 2025"
   ]
  },
  {
   "cell_type": "code",
   "execution_count": null,
   "id": "c5516efd-39d7-4d19-9112-4a1bd0efcd30",
   "metadata": {},
   "outputs": [],
   "source": [
    "logging.basicConfig(level=logging.INFO)"
   ]
  },
  {
   "cell_type": "code",
   "execution_count": null,
   "id": "9e1c0d14-575c-491c-88a3-85f70fae7875",
   "metadata": {},
   "outputs": [],
   "source": [
    "device = init_device()\n",
    "device"
   ]
  },
  {
   "cell_type": "code",
   "execution_count": null,
   "id": "1e9fcf4c-09fe-4262-b975-56a627c02797",
   "metadata": {},
   "outputs": [],
   "source": [
    "torch.__version__"
   ]
  },
  {
   "cell_type": "code",
   "execution_count": null,
   "id": "f6916c3b-746f-4169-98eb-49d20824e8ef",
   "metadata": {},
   "outputs": [],
   "source": [
    "np.__version__"
   ]
  },
  {
   "cell_type": "code",
   "execution_count": null,
   "id": "f684b5bd-d276-48df-8a54-b111138d36bb",
   "metadata": {},
   "outputs": [],
   "source": [
    "# np.set_printoptions(precision=4, suppress=True)"
   ]
  },
  {
   "cell_type": "markdown",
   "id": "093a4b55-3a8d-4cb1-b2fa-54710060037d",
   "metadata": {},
   "source": [
    "## Initialize Paths"
   ]
  },
  {
   "cell_type": "code",
   "execution_count": null,
   "id": "965d5cc1-2325-4fcc-beaa-876ab9e4dbea",
   "metadata": {},
   "outputs": [],
   "source": [
    "PATH = Path('data')\n",
    "GPT2 = PATH / 'transcoders' / 'gpt2'\n",
    "OWT_TOKENS_DIR = GPT2 / 'owt_tokens'\n",
    "TOKENS_PATH = OWT_TOKENS_DIR / 'owt_tokens_torch.pt'\n",
    "OWT_TOKENS_DIR.mkdir(exist_ok=True, parents=True)"
   ]
  },
  {
   "cell_type": "markdown",
   "id": "b7630740-6722-45ad-b309-df4121abf3a6",
   "metadata": {},
   "source": [
    "## Load trancoders"
   ]
  },
  {
   "cell_type": "code",
   "execution_count": null,
   "id": "86252e89-72dc-44a7-b021-791ea1ac0c06",
   "metadata": {},
   "outputs": [],
   "source": [
    "layers = list(range(12))\n",
    "layers = [0, 4, 6, 8, 10, 11]"
   ]
  },
  {
   "cell_type": "code",
   "execution_count": null,
   "id": "9388c318-8ec7-46c4-99c6-b863a9c56924",
   "metadata": {
    "scrolled": true
   },
   "outputs": [],
   "source": [
    "tr_analyzer = init_analyzer(\n",
    "    layers,\n",
    "    TOKENS_PATH,\n",
    "    GPT2,\n",
    "    device=device\n",
    ")"
   ]
  },
  {
   "cell_type": "code",
   "execution_count": null,
   "id": "5952d6a2-5416-4131-896f-79babf182d0c",
   "metadata": {},
   "outputs": [],
   "source": [
    "import gc\n",
    "gc.collect()\n",
    "torch.cuda.empty_cache()"
   ]
  },
  {
   "cell_type": "markdown",
   "id": "9c1d9ea7-1d49-4732-b54f-20790669b6e1",
   "metadata": {},
   "source": [
    "## Detect pets"
   ]
  },
  {
   "cell_type": "code",
   "execution_count": null,
   "id": "a3e0346d-9fb1-46d7-9dec-0ae8ddc74ecc",
   "metadata": {},
   "outputs": [],
   "source": [
    "concept_an = ConceptAnalysis(\n",
    "    ' The dog and cat are familiar domestic animals and beloved pets; both the dog and the cat also feature in various mythological stories.',\n",
    "    tr_analyzer\n",
    ")"
   ]
  },
  {
   "cell_type": "code",
   "execution_count": null,
   "id": "78cc66bf-5e54-43d0-b4f6-d0b6ffa4166c",
   "metadata": {
    "scrolled": true
   },
   "outputs": [],
   "source": [
    "concept_an.analyze_concepts()"
   ]
  },
  {
   "cell_type": "code",
   "execution_count": null,
   "id": "3f9a2930-d357-4b85-9393-c395abe3a783",
   "metadata": {},
   "outputs": [],
   "source": [
    "t_idcs = [3, 13]\n",
    "t_idcs = [10, 11, 12]\n",
    "t_idcs = [10, 11]\n",
    "t_idcs = [7, 15]\n",
    "t_idcs = [1, 15]\n",
    "t_idcs = [1]\n",
    "t_idcs = [2]\n",
    "layer = 0"
   ]
  },
  {
   "cell_type": "code",
   "execution_count": null,
   "id": "36a2f5e1-7190-4756-8b2a-d0229fefe81e",
   "metadata": {
    "scrolled": true
   },
   "outputs": [],
   "source": [
    "concept_an.gen_text(t_idcs, layer, rng=1)"
   ]
  },
  {
   "cell_type": "code",
   "execution_count": null,
   "id": "d96c0d94-a8ab-401e-99d0-7b6919243372",
   "metadata": {},
   "outputs": [],
   "source": [
    "concept_an.c_is"
   ]
  },
  {
   "cell_type": "code",
   "execution_count": null,
   "id": "604bc2a7-60ae-4f64-9bc1-44bdfd12b886",
   "metadata": {},
   "outputs": [],
   "source": [
    "v0_FG = concept_an.v_FG[layer][t_idcs[0]]\n",
    "vals, idcs = topK(v0_FG, v0_FG.shape[0])\n",
    "vals, idcs"
   ]
  },
  {
   "cell_type": "code",
   "execution_count": null,
   "id": "6d27ebb1-2ed9-4410-8982-69f720d137fb",
   "metadata": {},
   "outputs": [],
   "source": [
    "v0_FG = concept_an.v_FG[layer][t_idcs[1]]\n",
    "vals, idcs = topK(v0_FG, v0_FG.shape[0])\n",
    "vals, idcs"
   ]
  },
  {
   "cell_type": "code",
   "execution_count": null,
   "id": "6fce7bde-31c4-44cc-9b29-489bddb4eab0",
   "metadata": {
    "scrolled": true
   },
   "outputs": [],
   "source": [
    "concept_an.gen_and_print(idcs, vals, layer, with_text=True, limit=100)"
   ]
  },
  {
   "cell_type": "code",
   "execution_count": null,
   "id": "8ed8a803-566a-43ff-b4f3-cf5d333f25ed",
   "metadata": {},
   "outputs": [],
   "source": [
    "layer = 8"
   ]
  },
  {
   "cell_type": "code",
   "execution_count": null,
   "id": "9edf6922-2551-44f4-8c16-6316d5ce854b",
   "metadata": {
    "scrolled": true
   },
   "outputs": [],
   "source": [
    "concept_an.gen_text(t_idcs, layer)"
   ]
  },
  {
   "cell_type": "code",
   "execution_count": null,
   "id": "3251f38a-f245-46c6-8764-0906f42ef37a",
   "metadata": {},
   "outputs": [],
   "source": [
    "v8_GF = concept_an.v_FG[layer][t_idcs[0]]\n",
    "vals, idcs = topK(v8_GF, v8_GF.shape[0])\n",
    "vals, idcs"
   ]
  },
  {
   "cell_type": "code",
   "execution_count": null,
   "id": "f2ca876e-c776-49ab-8189-7c02212ffe0c",
   "metadata": {},
   "outputs": [],
   "source": [
    "v8_GF = concept_an.v_FG[layer][t_idcs[1]]\n",
    "vals, idcs = topK(v8_GF, v8_GF.shape[0])\n",
    "vals, idcs"
   ]
  },
  {
   "cell_type": "code",
   "execution_count": null,
   "id": "703895aa-4ff1-4f0d-99f7-6da5ebabfa2f",
   "metadata": {
    "scrolled": true
   },
   "outputs": [],
   "source": [
    "c = concept_an.gen_and_print(idcs, vals, layer, with_text=True, limit=100)"
   ]
  },
  {
   "cell_type": "code",
   "execution_count": null,
   "id": "70460cee-bae9-4243-a7c7-ca9dc20b770a",
   "metadata": {},
   "outputs": [],
   "source": [
    "tr_analyzer.to_string(tr_analyzer.tokens[1281])"
   ]
  },
  {
   "cell_type": "code",
   "execution_count": null,
   "id": "33c00ab9-807b-41e5-8d87-ec3971f01d3c",
   "metadata": {},
   "outputs": [],
   "source": [
    "layer = 11"
   ]
  },
  {
   "cell_type": "code",
   "execution_count": null,
   "id": "a6511acb-d856-4de7-8a09-9ad4c2c04797",
   "metadata": {
    "scrolled": true
   },
   "outputs": [],
   "source": [
    "concept_an.gen_text(t_idcs, layer)"
   ]
  },
  {
   "cell_type": "code",
   "execution_count": null,
   "id": "7b72d18f-d548-4436-ac8b-93b21cd6ebef",
   "metadata": {},
   "outputs": [],
   "source": []
  },
  {
   "cell_type": "code",
   "execution_count": null,
   "id": "a2c80559-24b3-44b4-a08a-f5d1f5b7c70d",
   "metadata": {},
   "outputs": [],
   "source": [
    "v11_GF = concept_an.v_FG[layer][t_idcs[0]]\n",
    "vals, idcs = topK(v11_GF, v11_GF.shape[0])\n",
    "vals, idcs"
   ]
  },
  {
   "cell_type": "code",
   "execution_count": null,
   "id": "74d0b006-e895-4aa0-8c8d-95792398a55f",
   "metadata": {},
   "outputs": [],
   "source": [
    "concept_an.corpus.shape"
   ]
  },
  {
   "cell_type": "code",
   "execution_count": null,
   "id": "46d88637-8202-473b-ad8e-3281e196d6d5",
   "metadata": {},
   "outputs": [],
   "source": [
    "v11_GF = concept_an.v_FG[layer][t_idcs[1]]\n",
    "vals, idcs = topK(v11_GF, v11_GF.shape[0])\n",
    "vals, idcs"
   ]
  },
  {
   "cell_type": "code",
   "execution_count": null,
   "id": "178c817c-cd19-4d0d-b2e3-ed03f8fc2b75",
   "metadata": {
    "scrolled": true
   },
   "outputs": [],
   "source": [
    "v_c, ids = concept_an.gen_and_print(idcs, vals, layer, with_text=True, limit=100)"
   ]
  },
  {
   "cell_type": "code",
   "execution_count": null,
   "id": "7761a583-99dc-4d7c-b993-83723b4c9956",
   "metadata": {
    "scrolled": true
   },
   "outputs": [],
   "source": [
    "count = 0\n",
    "for i_d in ids:\n",
    "    for i_v in i_d:\n",
    "        count += i_v.size\n",
    "count"
   ]
  },
  {
   "cell_type": "code",
   "execution_count": null,
   "id": "550b68ac-c77d-4d62-bcd9-a9ac94a3851b",
   "metadata": {},
   "outputs": [],
   "source": [
    "len(ids)"
   ]
  },
  {
   "cell_type": "markdown",
   "id": "6abdb9c6-e81b-4cc2-b7f8-7dff29ddd7e0",
   "metadata": {},
   "source": [
    "## Detect dog and cat"
   ]
  },
  {
   "cell_type": "code",
   "execution_count": null,
   "id": "f0dfd253-fedd-4b01-8e94-b8f73c52b32d",
   "metadata": {},
   "outputs": [],
   "source": [
    "concept_an = ConceptAnalysis(\n",
    "    ' The dog and cat are familiar domestic animals and beloved pets; both the dog and the cat also feature in various mythological stories.',\n",
    "    tr_analyzer\n",
    ")"
   ]
  },
  {
   "cell_type": "code",
   "execution_count": null,
   "id": "22dc7560-8d47-437d-8a40-a1c8736d6495",
   "metadata": {},
   "outputs": [],
   "source": [
    "concept_an = ConceptAnalysis(\n",
    "    ' cat dog.',\n",
    "    tr_analyzer\n",
    ")"
   ]
  },
  {
   "cell_type": "code",
   "execution_count": null,
   "id": "b26fa1d2-020a-4473-a37d-296d97a9262a",
   "metadata": {
    "scrolled": true
   },
   "outputs": [],
   "source": [
    "concept_an.analyze_concepts()"
   ]
  },
  {
   "cell_type": "code",
   "execution_count": null,
   "id": "54748cc7-cea2-44e0-81f4-ad47ab41eae3",
   "metadata": {},
   "outputs": [],
   "source": [
    "t_idcs = [3, 13]\n",
    "t_idcs = [10, 11, 12]\n",
    "t_idcs = [10, 11]\n",
    "t_idcs = [7, 15]\n",
    "t_idcs = [1, 15]\n",
    "t_idcs = [1]\n",
    "t_idcs = [2]\n",
    "t_idcs = [1]\n",
    "layer = 0"
   ]
  },
  {
   "cell_type": "code",
   "execution_count": null,
   "id": "01d5425f-f33c-47d0-adf7-8e8033fa88f7",
   "metadata": {
    "scrolled": true
   },
   "outputs": [],
   "source": [
    "concept_an.gen_text(t_idcs, layer, rng=1)"
   ]
  },
  {
   "cell_type": "code",
   "execution_count": null,
   "id": "5ca3995f-5f80-4b17-8e7d-7b05a410f3ae",
   "metadata": {},
   "outputs": [],
   "source": [
    "concept_an.c_is"
   ]
  },
  {
   "cell_type": "code",
   "execution_count": null,
   "id": "4c28d057-df07-4d56-99a2-f19e7559d182",
   "metadata": {},
   "outputs": [],
   "source": [
    "v0_FG = concept_an.v_FG[layer][t_idcs[0]]\n",
    "vals, idcs = topK(v0_FG, v0_FG.shape[0])\n",
    "vals, idcs"
   ]
  },
  {
   "cell_type": "code",
   "execution_count": null,
   "id": "ec6a3db5-9d11-4643-b819-5f10a83258e9",
   "metadata": {},
   "outputs": [],
   "source": [
    "v0_FG = concept_an.v_FG[layer][t_idcs[1]]\n",
    "vals, idcs = topK(v0_FG, v0_FG.shape[0])\n",
    "vals, idcs"
   ]
  },
  {
   "cell_type": "code",
   "execution_count": null,
   "id": "dccef161-74e7-414a-8de9-56344802bf8b",
   "metadata": {
    "scrolled": true
   },
   "outputs": [],
   "source": [
    "concept_an.gen_and_print(idcs, vals, layer, with_text=True, limit=100)"
   ]
  },
  {
   "cell_type": "code",
   "execution_count": null,
   "id": "85f090ef-e8df-4fc3-a78c-23a1a23087a1",
   "metadata": {},
   "outputs": [],
   "source": [
    "layer = 8"
   ]
  },
  {
   "cell_type": "code",
   "execution_count": null,
   "id": "e22c3c8b-2fb5-431c-90a0-403939705af4",
   "metadata": {
    "scrolled": true
   },
   "outputs": [],
   "source": [
    "concept_an.gen_text(t_idcs, layer)"
   ]
  },
  {
   "cell_type": "code",
   "execution_count": null,
   "id": "2d4ad431-3da7-439c-ac24-9c5a24faaeb1",
   "metadata": {},
   "outputs": [],
   "source": [
    "v8_GF = concept_an.v_FG[layer][t_idcs[0]]\n",
    "vals, idcs = topK(v8_GF, v8_GF.shape[0])\n",
    "vals, idcs"
   ]
  },
  {
   "cell_type": "code",
   "execution_count": null,
   "id": "5456b7f6-5949-4fdc-8ef5-8680dcfc82db",
   "metadata": {},
   "outputs": [],
   "source": [
    "v8_GF = concept_an.v_FG[layer][t_idcs[1]]\n",
    "vals, idcs = topK(v8_GF, v8_GF.shape[0])\n",
    "vals, idcs"
   ]
  },
  {
   "cell_type": "code",
   "execution_count": null,
   "id": "57890ac7-91bf-4ac5-a095-8920b9e04885",
   "metadata": {
    "scrolled": true
   },
   "outputs": [],
   "source": [
    "c = concept_an.gen_and_print(idcs, vals, layer, with_text=True, limit=100)"
   ]
  },
  {
   "cell_type": "code",
   "execution_count": null,
   "id": "3b1ff2b2-e114-4f8c-80d5-17ea42a21971",
   "metadata": {},
   "outputs": [],
   "source": [
    "tr_analyzer.to_string(tr_analyzer.tokens[1281])"
   ]
  },
  {
   "cell_type": "code",
   "execution_count": null,
   "id": "167d6d52-9a27-4f99-8c8f-fdcd4f4f215a",
   "metadata": {},
   "outputs": [],
   "source": [
    "layer = 11"
   ]
  },
  {
   "cell_type": "code",
   "execution_count": null,
   "id": "4af6fb45-be25-4fd5-9502-9c748bfaa141",
   "metadata": {
    "scrolled": true
   },
   "outputs": [],
   "source": [
    "concept_an.gen_text(t_idcs, layer)"
   ]
  },
  {
   "cell_type": "code",
   "execution_count": null,
   "id": "43f1d19e-4875-45ed-9597-f59ede8823db",
   "metadata": {},
   "outputs": [],
   "source": [
    "v11_GF = concept_an.v_FG[layer][t_idcs[0]]\n",
    "vals, idcs = topK(v11_GF, v11_GF.shape[0])\n",
    "vals, idcs"
   ]
  },
  {
   "cell_type": "code",
   "execution_count": null,
   "id": "cfb426b4-428d-42fa-a90d-51318cdb3ac3",
   "metadata": {},
   "outputs": [],
   "source": [
    "concept_an.corpus.shape"
   ]
  },
  {
   "cell_type": "code",
   "execution_count": null,
   "id": "57f02998-0335-45a3-b1fd-0249d3ed3967",
   "metadata": {},
   "outputs": [],
   "source": [
    "v11_GF = concept_an.v_FG[layer][t_idcs[1]]\n",
    "vals, idcs = topK(v11_GF, v11_GF.shape[0])\n",
    "vals, idcs"
   ]
  },
  {
   "cell_type": "code",
   "execution_count": null,
   "id": "5807f2c0-090e-4282-b2c7-6579c986b8dc",
   "metadata": {
    "scrolled": true
   },
   "outputs": [],
   "source": [
    "v_c, ids = concept_an.gen_and_print(idcs, vals, layer, with_text=True, limit=100)"
   ]
  },
  {
   "cell_type": "code",
   "execution_count": null,
   "id": "4ba18ca9-abcd-4e55-8d5d-f34404d35a50",
   "metadata": {
    "scrolled": true
   },
   "outputs": [],
   "source": [
    "count = 0\n",
    "for i_d in ids:\n",
    "    for i_v in i_d:\n",
    "        count += i_v.size\n",
    "count"
   ]
  },
  {
   "cell_type": "code",
   "execution_count": null,
   "id": "20541a89-a175-46c9-80f8-d12fbfc1692c",
   "metadata": {},
   "outputs": [],
   "source": [
    "len(ids)"
   ]
  },
  {
   "cell_type": "markdown",
   "id": "db9a8a20-5641-40c4-b8fb-2030771de45e",
   "metadata": {},
   "source": [
    "## Experiment with tokens"
   ]
  },
  {
   "cell_type": "code",
   "execution_count": null,
   "id": "7798b8d9-d5bd-4a93-a10d-5213af21d6db",
   "metadata": {},
   "outputs": [],
   "source": [
    "prompt = tr_analyzer.tokens[1197]\n",
    "text = tr_analyzer.to_clean(prompt)\n",
    "text"
   ]
  },
  {
   "cell_type": "code",
   "execution_count": null,
   "id": "0e2f7ff3-3f0f-46e9-9c08-b76c8f7ab22f",
   "metadata": {},
   "outputs": [],
   "source": [
    "concept_an = ConceptAnalysis(text, tr_analyzer)"
   ]
  },
  {
   "cell_type": "code",
   "execution_count": null,
   "id": "dc123daf-cf15-4bc2-91c5-8c79023a5d11",
   "metadata": {
    "scrolled": true
   },
   "outputs": [],
   "source": [
    "concept_an.analyze_concepts()"
   ]
  },
  {
   "cell_type": "code",
   "execution_count": null,
   "id": "b9d64ce1-c82a-4b0f-b1c2-cab828aee3f1",
   "metadata": {},
   "outputs": [],
   "source": [
    "t_idcs = [33, 34]"
   ]
  },
  {
   "cell_type": "code",
   "execution_count": null,
   "id": "88091c93-6eb7-4df3-a2cd-43153d71b4a6",
   "metadata": {},
   "outputs": [],
   "source": [
    "layer = 0"
   ]
  },
  {
   "cell_type": "code",
   "execution_count": null,
   "id": "cee45d35-0017-4dd0-a459-8589e6014524",
   "metadata": {
    "scrolled": true
   },
   "outputs": [],
   "source": [
    "concept_an.gen_text(t_idcs, layer)"
   ]
  },
  {
   "cell_type": "code",
   "execution_count": null,
   "id": "878fecea-c770-4a21-a24c-0b1249f79746",
   "metadata": {},
   "outputs": [],
   "source": [
    "v0_GF = concept_an.v_FG[layer][t_idcs[0]]\n",
    "vals, idcs = topK(v0_GF, v0_GF.shape[0])\n",
    "vals, idcs"
   ]
  },
  {
   "cell_type": "code",
   "execution_count": null,
   "id": "b523c01c-9cf8-4641-8880-383873224edf",
   "metadata": {},
   "outputs": [],
   "source": [
    "v0_GF = concept_an.v_FG[layer][t_idcs[1]]\n",
    "vals, idcs = topK(v0_GF, v0_GF.shape[0])\n",
    "vals, idcs"
   ]
  },
  {
   "cell_type": "code",
   "execution_count": null,
   "id": "5c8f1de1-3464-499b-bf72-437b1dffe72f",
   "metadata": {
    "scrolled": true
   },
   "outputs": [],
   "source": [
    "concept_an.gen_and_print(idcs, vals, layer, with_text=True, limit=400)"
   ]
  },
  {
   "cell_type": "code",
   "execution_count": null,
   "id": "2aba826c-6325-43de-b527-5a92be5b8169",
   "metadata": {},
   "outputs": [],
   "source": [
    "concept_an.gen_and_print([8118, 10840], [23, 13], layer, with_text=True, limit=400)"
   ]
  },
  {
   "cell_type": "code",
   "execution_count": null,
   "id": "37f584e2-c832-4018-ae53-94ab4e323c54",
   "metadata": {},
   "outputs": [],
   "source": [
    "layer = 8"
   ]
  },
  {
   "cell_type": "code",
   "execution_count": null,
   "id": "edd7b41b-80f7-4d55-80e6-536d21380ca5",
   "metadata": {
    "scrolled": true
   },
   "outputs": [],
   "source": [
    "concept_an.gen_text(t_idcs, layer)"
   ]
  },
  {
   "cell_type": "code",
   "execution_count": null,
   "id": "4246caf8-87b8-4d8a-ab6f-1fad6cc0aaa3",
   "metadata": {},
   "outputs": [],
   "source": [
    "v8_GF = concept_an.v_FG[layer][t_idcs[0]]\n",
    "vals, idcs = topK(v8_GF, v8_GF.shape[0])\n",
    "vals, idcs"
   ]
  },
  {
   "cell_type": "code",
   "execution_count": null,
   "id": "700bfb4e-e1b9-4b0d-baae-09f1dda39006",
   "metadata": {},
   "outputs": [],
   "source": [
    "v8_GF = concept_an.v_FG[layer][t_idcs[1]]\n",
    "vals, idcs = topK(v8_GF, v8_GF.shape[0])\n",
    "vals, idcs"
   ]
  },
  {
   "cell_type": "code",
   "execution_count": null,
   "id": "f5843b23-d148-436e-a252-1c651dc31030",
   "metadata": {
    "scrolled": true
   },
   "outputs": [],
   "source": [
    "concept_an.gen_and_print(idcs, vals, layer, with_text=True, limit=400)"
   ]
  },
  {
   "cell_type": "code",
   "execution_count": null,
   "id": "6508a603-0d3a-446a-9831-af1f9374bc76",
   "metadata": {
    "scrolled": true
   },
   "outputs": [],
   "source": [
    "concept_an.gen_and_print(idcs, vals, layer, with_text=True, limit=400)"
   ]
  },
  {
   "cell_type": "code",
   "execution_count": null,
   "id": "3d72f6e9-403b-477f-90db-edc1f6c0d742",
   "metadata": {},
   "outputs": [],
   "source": [
    "concept_an.gen_and_print([2393, 1950], [15, 4], layer, with_text=True, limit=400)"
   ]
  },
  {
   "cell_type": "code",
   "execution_count": null,
   "id": "cd5f2f97-ae4f-4a93-8683-9cb5b9f4f40f",
   "metadata": {},
   "outputs": [],
   "source": [
    "layer = 11"
   ]
  },
  {
   "cell_type": "code",
   "execution_count": null,
   "id": "bb7956a3-53ec-41dc-9e0d-61cd11c6ceb8",
   "metadata": {},
   "outputs": [],
   "source": [
    "concept_an.gen_text(t_idcs, layer)"
   ]
  },
  {
   "cell_type": "code",
   "execution_count": null,
   "id": "f0f1ef99-b693-4736-99fa-133cc7748478",
   "metadata": {},
   "outputs": [],
   "source": [
    "v11_GF = concept_an.v_FG[layer][t_idcs[0]]\n",
    "vals, idcs = topK(v11_GF, v11_GF.shape[0])\n",
    "vals, idcs"
   ]
  },
  {
   "cell_type": "code",
   "execution_count": null,
   "id": "ad7e4aea-03b5-4888-ab5e-1ed09668c691",
   "metadata": {},
   "outputs": [],
   "source": [
    "v11_GF = concept_an.v_FG[layer][t_idcs[1]]\n",
    "vals, idcs = topK(v11_GF, v11_GF.shape[0])\n",
    "vals, idcs"
   ]
  },
  {
   "cell_type": "code",
   "execution_count": null,
   "id": "1deee4b7-9cc4-43ba-afe2-5d5d2db58330",
   "metadata": {},
   "outputs": [],
   "source": [
    "concept_an.gen_and_print(idcs, vals, layer, with_text=True, limit=400)"
   ]
  },
  {
   "cell_type": "code",
   "execution_count": null,
   "id": "d52fc0b6-dfbd-4fb4-98f6-60182dffbb62",
   "metadata": {
    "scrolled": true
   },
   "outputs": [],
   "source": [
    "concept_an.gen_and_print(idcs, vals, layer, with_text=True, limit=400)"
   ]
  },
  {
   "cell_type": "code",
   "execution_count": null,
   "id": "fd0d3d2a-aa38-4262-9a39-eb6c10ccaa72",
   "metadata": {
    "scrolled": true
   },
   "outputs": [],
   "source": [
    "concept_an.gen_and_print([22746, 3493], [15, 7], layer, with_text=True, limit=400)"
   ]
  },
  {
   "cell_type": "code",
   "execution_count": null,
   "id": "ab732fb1-73de-4658-a36f-e90f02c059cd",
   "metadata": {},
   "outputs": [],
   "source": []
  },
  {
   "cell_type": "markdown",
   "id": "1423f84e-a79d-4074-b3cc-fbfe505c840c",
   "metadata": {},
   "source": [
    "## One Token Features"
   ]
  },
  {
   "cell_type": "code",
   "execution_count": null,
   "id": "85717f29-878a-4e09-94b2-27036c504203",
   "metadata": {},
   "outputs": [],
   "source": [
    "text = ' catwoman ' \n",
    "text"
   ]
  },
  {
   "cell_type": "code",
   "execution_count": null,
   "id": "002429cb-fc2f-497b-b554-4fe7d9df7ca1",
   "metadata": {},
   "outputs": [],
   "source": [
    "concept_an = ConceptAnalysis(text, tr_analyzer)"
   ]
  },
  {
   "cell_type": "code",
   "execution_count": null,
   "id": "30dd65d8-4d38-4baa-ae81-5180a4175c01",
   "metadata": {
    "scrolled": true
   },
   "outputs": [],
   "source": [
    "concept_an.analyze_concepts()"
   ]
  },
  {
   "cell_type": "code",
   "execution_count": null,
   "id": "715925af-0dbe-4b83-b64c-26a4f8fd1826",
   "metadata": {},
   "outputs": [],
   "source": [
    "t_idcs = [1, 2]"
   ]
  },
  {
   "cell_type": "code",
   "execution_count": null,
   "id": "34cc4f18-7049-4326-8fc6-7e4a79983ce5",
   "metadata": {},
   "outputs": [],
   "source": [
    "layer = 0"
   ]
  },
  {
   "cell_type": "code",
   "execution_count": null,
   "id": "351b72a0-82cf-4e44-9f72-90fc709f4f1d",
   "metadata": {
    "scrolled": true
   },
   "outputs": [],
   "source": [
    "concept_an.gen_text(t_idcs, layer)"
   ]
  },
  {
   "cell_type": "code",
   "execution_count": null,
   "id": "a459a22c-8fea-4337-9227-c53e292ad46d",
   "metadata": {},
   "outputs": [],
   "source": [
    "v0_GF = concept_an.v_FG[layer][1]\n",
    "vals, idcs = topK(v0_GF, v0_GF.shape[0])\n",
    "vals, idcs"
   ]
  },
  {
   "cell_type": "code",
   "execution_count": null,
   "id": "8dd9f300-13c1-4150-80d0-12a3064d7994",
   "metadata": {
    "scrolled": true
   },
   "outputs": [],
   "source": [
    "concept_an.gen_and_print(idcs, vals, layer, with_text=True, limit=400)"
   ]
  },
  {
   "cell_type": "code",
   "execution_count": null,
   "id": "a57796c6-b34e-4d79-9cda-df7abdf13b69",
   "metadata": {},
   "outputs": [],
   "source": [
    "layer = 8"
   ]
  },
  {
   "cell_type": "code",
   "execution_count": null,
   "id": "0377e56d-2c10-444e-9798-ec4141d3ae8d",
   "metadata": {
    "scrolled": true
   },
   "outputs": [],
   "source": [
    "concept_an.gen_text(t_idcs, layer)"
   ]
  },
  {
   "cell_type": "code",
   "execution_count": null,
   "id": "ec9017f6-0d22-4520-938c-af081b9b5511",
   "metadata": {},
   "outputs": [],
   "source": [
    "v8_GF = concept_an.v_FG[layer][1]\n",
    "vals, idcs = topK(v8_GF, v8_GF.shape[0])\n",
    "vals[:10], idcs[:10]"
   ]
  },
  {
   "cell_type": "code",
   "execution_count": null,
   "id": "eab9ca64-fbe5-4dd9-a430-6f120885a8d4",
   "metadata": {},
   "outputs": [],
   "source": [
    "v8_GF = concept_an.v_FG[layer][2]\n",
    "vals, idcs = topK(v8_GF, v8_GF.shape[0])\n",
    "vals, idcs"
   ]
  },
  {
   "cell_type": "code",
   "execution_count": null,
   "id": "6c9bb101-aad0-4518-bca7-a4ce03c6324e",
   "metadata": {
    "scrolled": true
   },
   "outputs": [],
   "source": [
    "concept_an.gen_and_print(idcs, vals, layer, with_text=True, limit=400)"
   ]
  },
  {
   "cell_type": "code",
   "execution_count": null,
   "id": "e22dec2d-e01a-48d7-9608-dee5f63989e4",
   "metadata": {
    "scrolled": true
   },
   "outputs": [],
   "source": [
    "concept_an.gen_and_print(idcs[1], vals[1], layer, with_text=True, limit=400)"
   ]
  },
  {
   "cell_type": "code",
   "execution_count": null,
   "id": "a63d193c-2f4a-43ea-895f-3277c5f64e4c",
   "metadata": {},
   "outputs": [],
   "source": [
    "layer = 11"
   ]
  },
  {
   "cell_type": "code",
   "execution_count": null,
   "id": "09912781-ca3e-4908-98bd-b8fd13a6681e",
   "metadata": {},
   "outputs": [],
   "source": [
    "concept_an.gen_text(t_idcs, layer)"
   ]
  },
  {
   "cell_type": "code",
   "execution_count": null,
   "id": "dfb97f3b-4dc2-4fc7-8048-ab991b924793",
   "metadata": {},
   "outputs": [],
   "source": [
    "v11_GF = concept_an.v_FG[layer][1]\n",
    "vals, idcs = topK(v11_GF, v11_GF.shape[0])\n",
    "vals, idcs"
   ]
  },
  {
   "cell_type": "code",
   "execution_count": null,
   "id": "7e78fdf3-0e49-4c27-bc5d-2f0a1e706af8",
   "metadata": {
    "scrolled": true
   },
   "outputs": [],
   "source": [
    "concept_an.gen_and_print(idcs, vals, layer, with_text=True, limit=400)"
   ]
  },
  {
   "cell_type": "code",
   "execution_count": null,
   "id": "1907fe96-1e2a-4878-9445-4bed0786a32b",
   "metadata": {
    "scrolled": true
   },
   "outputs": [],
   "source": [
    "concept_an.gen_and_print(idcs[1:3], vals[1:3], layer, with_text=True, limit=400)"
   ]
  },
  {
   "cell_type": "code",
   "execution_count": null,
   "id": "11a92f75-b661-4a1d-a6a4-c1105d57513a",
   "metadata": {},
   "outputs": [],
   "source": []
  },
  {
   "cell_type": "markdown",
   "id": "d3b22fc7-2383-488a-bcad-ed9ce9ff4916",
   "metadata": {},
   "source": [
    "## Other Text"
   ]
  },
  {
   "cell_type": "code",
   "execution_count": null,
   "id": "7c8a857c-8f60-4c28-b99a-9b6a7e1a62bb",
   "metadata": {},
   "outputs": [],
   "source": [
    "text = ' A Golden Gate Bridge'\n",
    "text"
   ]
  },
  {
   "cell_type": "code",
   "execution_count": null,
   "id": "9875de9a-1ba3-4777-9cf6-9d86cfbd1080",
   "metadata": {},
   "outputs": [],
   "source": [
    "text = ' New York City'\n",
    "text"
   ]
  },
  {
   "cell_type": "code",
   "execution_count": null,
   "id": "c2b2b48c-9ef0-42d9-a846-f6ebcace1ec0",
   "metadata": {},
   "outputs": [],
   "source": [
    "concept_an = ConceptAnalysis(text, tr_analyzer)"
   ]
  },
  {
   "cell_type": "code",
   "execution_count": null,
   "id": "9b350cb1-5f58-4792-bec0-6315d4eb9cac",
   "metadata": {
    "scrolled": true
   },
   "outputs": [],
   "source": [
    "concept_an.analyze_concepts()"
   ]
  },
  {
   "cell_type": "code",
   "execution_count": null,
   "id": "dfe7f2a8-87a9-4ea6-ab7c-bc4cdbe6a56e",
   "metadata": {},
   "outputs": [],
   "source": [
    "t_idcs = [2, 3]\n",
    "t_idcs = [1]\n",
    "# t_idcs = [2]\n",
    "t_idcs = [1, 2, 3]"
   ]
  },
  {
   "cell_type": "code",
   "execution_count": null,
   "id": "16d657ee-590f-41a1-bb90-f57afbca52a1",
   "metadata": {},
   "outputs": [],
   "source": [
    "layer = 0"
   ]
  },
  {
   "cell_type": "code",
   "execution_count": null,
   "id": "2498b3d3-fcc6-4b32-982f-2bc8685d6510",
   "metadata": {
    "scrolled": true
   },
   "outputs": [],
   "source": [
    "concept_an.gen_text(t_idcs, layer)"
   ]
  },
  {
   "cell_type": "code",
   "execution_count": null,
   "id": "1ac8e0ba-3446-49d9-835b-8d7e8f997219",
   "metadata": {},
   "outputs": [],
   "source": [
    "v0_GF = concept_an.v_FG[layer][t_idcs[0]]\n",
    "vals, idcs = topK(v0_GF, v0_GF.shape[0])\n",
    "vals, idcs"
   ]
  },
  {
   "cell_type": "code",
   "execution_count": null,
   "id": "a0e48eaf-daa5-46ef-86c9-5d346ffb1880",
   "metadata": {
    "scrolled": true
   },
   "outputs": [],
   "source": [
    "concept_an.gen_and_print(idcs, vals, layer, with_text=True, limit=100)"
   ]
  },
  {
   "cell_type": "code",
   "execution_count": null,
   "id": "09f4bc76-0ec8-4121-80bc-8c3de6531b15",
   "metadata": {},
   "outputs": [],
   "source": [
    "v0_GF = concept_an.v_FG[layer][t_idcs[1]]\n",
    "vals, idcs = topK(v0_GF, v0_GF.shape[0])\n",
    "vals, idcs"
   ]
  },
  {
   "cell_type": "code",
   "execution_count": null,
   "id": "96b92da6-11fc-44f5-a70c-146648bdf22e",
   "metadata": {
    "scrolled": true
   },
   "outputs": [],
   "source": [
    "concept_an.gen_and_print(idcs, vals, layer, with_text=True, limit=100)"
   ]
  },
  {
   "cell_type": "code",
   "execution_count": null,
   "id": "d32bde4a-6062-4b79-a285-183f242545ec",
   "metadata": {},
   "outputs": [],
   "source": [
    "v0_GF = concept_an.v_FG[layer][t_idcs[2]]\n",
    "vals, idcs = topK(v0_GF, v0_GF.shape[0])\n",
    "vals, idcs"
   ]
  },
  {
   "cell_type": "code",
   "execution_count": null,
   "id": "2ffe63c7-f85f-45e7-8d73-371c193489c2",
   "metadata": {},
   "outputs": [],
   "source": [
    "concept_an.gen_and_print(idcs, vals, layer, with_text=True, limit=100)"
   ]
  },
  {
   "cell_type": "code",
   "execution_count": null,
   "id": "b01d3685-866a-4cc3-9252-a68204f44ca9",
   "metadata": {},
   "outputs": [],
   "source": [
    "v_1 = concept_an.v_FG[layer][t_idcs[0]]\n",
    "v_2 = concept_an.v_FG[layer][t_idcs[1]]\n",
    "v_3 = concept_an.v_FG[layer][t_idcs[2]]\n",
    "v_meet = meet(v_1, v_2)\n",
    "v_meet = meet(v_meet, v_3)\n",
    "vals, idcs = topK(v_meet, v_meet.shape[0])\n",
    "vals, idcs"
   ]
  },
  {
   "cell_type": "code",
   "execution_count": null,
   "id": "fd81ed55-b033-4dd7-b5a7-d700edd57b7b",
   "metadata": {
    "scrolled": true
   },
   "outputs": [],
   "source": [
    "concept_an.gen_and_print(idcs, vals, layer, with_text=True, limit=400)"
   ]
  },
  {
   "cell_type": "code",
   "execution_count": null,
   "id": "e2a935d2-62b4-42a9-982c-6aa49c6639db",
   "metadata": {},
   "outputs": [],
   "source": [
    "v_1 = concept_an.v_FG[layer][t_idcs[0]]\n",
    "v_2 = concept_an.v_FG[layer][t_idcs[1]]\n",
    "v_3 = concept_an.v_FG[layer][t_idcs[2]]\n",
    "# v_meet = meet(v_1, v_2)\n",
    "# v_meet = meet(v_1, v_3)\n",
    "v_meet = meet(v_2, v_3)\n",
    "# v_meet = meet(v_meet, v_3)\n",
    "vals, idcs = topK(v_meet, v_meet.shape[0])\n",
    "vals, idcs"
   ]
  },
  {
   "cell_type": "code",
   "execution_count": null,
   "id": "af928f1d-658c-4f8c-a310-1e1ab9658159",
   "metadata": {},
   "outputs": [],
   "source": [
    "concept_an.gen_and_print(idcs, vals, layer, with_text=True, limit=100)"
   ]
  },
  {
   "cell_type": "code",
   "execution_count": null,
   "id": "c8c1a28d-2517-4373-bbca-788c70382cff",
   "metadata": {},
   "outputs": [],
   "source": [
    "v_1 = concept_an.v_FG[layer][t_idcs[0]]\n",
    "v_2 = concept_an.v_FG[layer][t_idcs[1]]\n",
    "v_3 = concept_an.v_FG[layer][t_idcs[2]]\n",
    "v_meet = meet(v_1, v_2)\n",
    "# v_meet = meet(v_1, v_3)\n",
    "# v_meet = meet(v_2, v_3)\n",
    "# v_meet = meet(v_meet, v_3)\n",
    "vals, idcs = topK(v_meet, v_meet.shape[0])\n",
    "vals, idcs"
   ]
  },
  {
   "cell_type": "code",
   "execution_count": null,
   "id": "2e703e6d-3822-487b-9ae6-e67f1451ba35",
   "metadata": {
    "scrolled": true
   },
   "outputs": [],
   "source": [
    "concept_an.gen_and_print(idcs, vals, layer, with_text=True, limit=100)"
   ]
  },
  {
   "cell_type": "code",
   "execution_count": null,
   "id": "e46c1005-d9ca-4ea8-862d-5a1d51a2d33e",
   "metadata": {},
   "outputs": [],
   "source": [
    "v_1 = concept_an.v_FG[layer][t_idcs[0]]\n",
    "v_2 = concept_an.v_FG[layer][t_idcs[1]]\n",
    "v_3 = concept_an.v_FG[layer][t_idcs[2]]\n",
    "# v_meet = meet(v_1, v_2)\n",
    "v_meet = meet(v_1, v_3)\n",
    "# v_meet = meet(v_2, v_3)\n",
    "# v_meet = meet(v_meet, v_3)\n",
    "vals, idcs = topK(v_meet, v_meet.shape[0])\n",
    "vals, idcs"
   ]
  },
  {
   "cell_type": "code",
   "execution_count": null,
   "id": "3af22d10-339e-4ff7-8ec7-4f7009432850",
   "metadata": {
    "scrolled": true
   },
   "outputs": [],
   "source": [
    "concept_an.gen_and_print(idcs, vals, layer, with_text=True, limit=100)"
   ]
  },
  {
   "cell_type": "code",
   "execution_count": null,
   "id": "692dcd6a-2765-499c-8d8d-171a7dba12a0",
   "metadata": {},
   "outputs": [],
   "source": [
    "layer = 8"
   ]
  },
  {
   "cell_type": "code",
   "execution_count": null,
   "id": "74df75ba-1ae7-4d15-bd5c-821f04d2cbd8",
   "metadata": {
    "scrolled": true
   },
   "outputs": [],
   "source": [
    "concept_an.gen_text(t_idcs, layer)"
   ]
  },
  {
   "cell_type": "code",
   "execution_count": null,
   "id": "5433d312-9290-4dd5-8f99-174b7c8a032c",
   "metadata": {},
   "outputs": [],
   "source": [
    "v8_GF = concept_an.v_FG[layer][t_idcs[0]]\n",
    "vals, idcs = topK(v8_GF, v8_GF.shape[0])\n",
    "vals[:10], idcs[:10]"
   ]
  },
  {
   "cell_type": "code",
   "execution_count": null,
   "id": "d71d407b-5d00-4891-b283-e0a6590fe3b4",
   "metadata": {
    "scrolled": true
   },
   "outputs": [],
   "source": [
    "concept_an.gen_and_print(idcs, vals, layer, with_text=True, limit=400)"
   ]
  },
  {
   "cell_type": "code",
   "execution_count": null,
   "id": "a33d5901-453b-4c63-9dc9-f5b414fbb0e8",
   "metadata": {
    "scrolled": true
   },
   "outputs": [],
   "source": [
    "concept_an.gen_and_print(idcs[1:], vals[1:], layer, with_text=True, limit=100)"
   ]
  },
  {
   "cell_type": "code",
   "execution_count": null,
   "id": "2807bb81-88b8-403c-b028-8a88b52af4d4",
   "metadata": {},
   "outputs": [],
   "source": [
    "v8_GF = concept_an.v_FG[layer][t_idcs[1]]\n",
    "vals, idcs = topK(v8_GF, v8_GF.shape[0])\n",
    "vals, idcs"
   ]
  },
  {
   "cell_type": "code",
   "execution_count": null,
   "id": "ce659dd9-edb0-4c1f-bd29-d52de1c2cdbc",
   "metadata": {
    "scrolled": true
   },
   "outputs": [],
   "source": [
    "concept_an.gen_and_print(idcs, vals, layer, with_text=True, limit=100)"
   ]
  },
  {
   "cell_type": "code",
   "execution_count": null,
   "id": "f352c5dc-746b-4884-a5fb-4bd62aa38d2f",
   "metadata": {},
   "outputs": [],
   "source": [
    "v8_GF = concept_an.v_FG[layer][t_idcs[2]]\n",
    "vals, idcs = topK(v8_GF, v8_GF.shape[0])\n",
    "vals, idcs"
   ]
  },
  {
   "cell_type": "code",
   "execution_count": null,
   "id": "31674946-aedc-4fb9-b433-344b4d7eb973",
   "metadata": {
    "scrolled": true
   },
   "outputs": [],
   "source": [
    "concept_an.gen_and_print(idcs, vals, layer, with_text=True, limit=100)"
   ]
  },
  {
   "cell_type": "code",
   "execution_count": null,
   "id": "ff854f1d-281b-4140-8a2e-946877012ec1",
   "metadata": {},
   "outputs": [],
   "source": [
    "v_1 = concept_an.v_FG[layer][t_idcs[0]]\n",
    "v_2 = concept_an.v_FG[layer][t_idcs[1]]\n",
    "v_3 = concept_an.v_FG[layer][t_idcs[2]]\n",
    "v_meet = meet(v_1, v_2)\n",
    "v_meet = meet(v_meet, v_3)\n",
    "vals, idcs = topK(v_meet, v_meet.shape[0])\n",
    "vals, idcs"
   ]
  },
  {
   "cell_type": "code",
   "execution_count": null,
   "id": "331f7abf-9d21-4888-a27a-893bca73683d",
   "metadata": {
    "scrolled": true
   },
   "outputs": [],
   "source": [
    "concept_an.gen_and_print([16679, 10130, 20994], [12, 9, 9], layer, with_text=True, limit=100)"
   ]
  },
  {
   "cell_type": "code",
   "execution_count": null,
   "id": "dd677a34-2e0e-4699-84bf-43c6c1a63d91",
   "metadata": {},
   "outputs": [],
   "source": [
    "v_1 = concept_an.v_FG[layer][t_idcs[0]]\n",
    "v_2 = concept_an.v_FG[layer][t_idcs[1]]\n",
    "v_3 = concept_an.v_FG[layer][t_idcs[2]]\n",
    "# v_meet = meet(v_1, v_2)\n",
    "# v_meet = meet(v_1, v_3)\n",
    "v_meet = meet(v_2, v_3)\n",
    "# v_meet = meet(v_meet, v_3)\n",
    "vals, idcs = topK(v_meet, v_meet.shape[0])\n",
    "vals, idcs"
   ]
  },
  {
   "cell_type": "code",
   "execution_count": null,
   "id": "5e42da18-6a91-4a4c-96c0-2eb24cc2abe6",
   "metadata": {},
   "outputs": [],
   "source": [
    "concept_an.gen_and_print(idcs, vals, layer, with_text=True, limit=100)"
   ]
  },
  {
   "cell_type": "code",
   "execution_count": null,
   "id": "a97ceeb4-a51f-4cfd-8e48-749d1c3165c5",
   "metadata": {},
   "outputs": [],
   "source": [
    "v_1 = concept_an.v_FG[layer][t_idcs[0]]\n",
    "v_2 = concept_an.v_FG[layer][t_idcs[1]]\n",
    "v_3 = concept_an.v_FG[layer][t_idcs[2]]\n",
    "v_meet = meet(v_1, v_2)\n",
    "# v_meet = meet(v_1, v_3)\n",
    "# v_meet = meet(v_2, v_3)\n",
    "# v_meet = meet(v_meet, v_3)\n",
    "vals, idcs = topK(v_meet, v_meet.shape[0])\n",
    "vals, idcs"
   ]
  },
  {
   "cell_type": "code",
   "execution_count": null,
   "id": "60b9d044-7219-4f50-bb84-e4134226abf6",
   "metadata": {
    "scrolled": true
   },
   "outputs": [],
   "source": [
    "concept_an.gen_and_print(idcs, vals, layer, with_text=True, limit=100)"
   ]
  },
  {
   "cell_type": "code",
   "execution_count": null,
   "id": "4c8b0346-641f-4db9-a505-10402d116414",
   "metadata": {},
   "outputs": [],
   "source": [
    "v_1 = concept_an.v_FG[layer][t_idcs[0]]\n",
    "v_2 = concept_an.v_FG[layer][t_idcs[1]]\n",
    "v_3 = concept_an.v_FG[layer][t_idcs[2]]\n",
    "# v_meet = meet(v_1, v_2)\n",
    "v_meet = meet(v_1, v_3)\n",
    "# v_meet = meet(v_2, v_3)\n",
    "# v_meet = meet(v_meet, v_3)\n",
    "vals, idcs = topK(v_meet, v_meet.shape[0])\n",
    "vals, idcs"
   ]
  },
  {
   "cell_type": "code",
   "execution_count": null,
   "id": "906350e9-ec82-4832-b39c-56e90aa6ba6e",
   "metadata": {
    "scrolled": true
   },
   "outputs": [],
   "source": [
    "concept_an.gen_and_print(idcs, vals, layer, with_text=True, limit=100)"
   ]
  },
  {
   "cell_type": "code",
   "execution_count": null,
   "id": "ed88f565-fb2a-4eab-9fda-8c853b05f7ad",
   "metadata": {},
   "outputs": [],
   "source": [
    "layer = 11"
   ]
  },
  {
   "cell_type": "code",
   "execution_count": null,
   "id": "f808d461-361d-467c-bddc-df339e98a30f",
   "metadata": {
    "scrolled": true
   },
   "outputs": [],
   "source": [
    "concept_an.gen_text(t_idcs, layer)"
   ]
  },
  {
   "cell_type": "code",
   "execution_count": null,
   "id": "11313804-28f1-4e7e-8b52-330e93aaf623",
   "metadata": {},
   "outputs": [],
   "source": [
    "v11_GF = concept_an.v_FG[layer][t_idcs[0]]\n",
    "vals, idcs = topK(v11_GF, v11_GF.shape[0])\n",
    "vals, idcs"
   ]
  },
  {
   "cell_type": "code",
   "execution_count": null,
   "id": "af7ded81-ec6e-4e8b-b0d9-825cb4235f57",
   "metadata": {
    "scrolled": true
   },
   "outputs": [],
   "source": [
    "concept_an.gen_and_print(idcs, vals, layer, with_text=True, limit=400)"
   ]
  },
  {
   "cell_type": "code",
   "execution_count": null,
   "id": "00c07fb4-ec37-4490-bdc2-b9c1bbe0bbb3",
   "metadata": {},
   "outputs": [],
   "source": [
    "v11_GF = concept_an.v_FG[layer][t_idcs[1]]\n",
    "vals, idcs = topK(v11_GF, v11_GF.shape[0])\n",
    "vals, idcs"
   ]
  },
  {
   "cell_type": "code",
   "execution_count": null,
   "id": "f0462be9-963f-4617-91d9-47bc3a6a9c11",
   "metadata": {
    "scrolled": true
   },
   "outputs": [],
   "source": [
    "concept_an.gen_and_print(idcs, vals, layer, with_text=True, limit=400)"
   ]
  },
  {
   "cell_type": "code",
   "execution_count": null,
   "id": "40890ff7-4025-417e-aba0-7b578c78aaf3",
   "metadata": {},
   "outputs": [],
   "source": [
    "v11_GF = concept_an.v_FG[layer][t_idcs[2]]\n",
    "vals, idcs = topK(v11_GF, v11_GF.shape[0])\n",
    "vals, idcs"
   ]
  },
  {
   "cell_type": "code",
   "execution_count": null,
   "id": "d8f7afbc-c8af-4c79-808a-a2c7102e4658",
   "metadata": {
    "scrolled": true
   },
   "outputs": [],
   "source": [
    "concept_an.gen_and_print(idcs, vals, layer, with_text=True, limit=400)"
   ]
  },
  {
   "cell_type": "code",
   "execution_count": null,
   "id": "f4f33875-3c4f-46c0-8f92-ab486bcfe9d9",
   "metadata": {
    "scrolled": true
   },
   "outputs": [],
   "source": [
    "concept_an.gen_and_print([2094, 10988, 10533], [20, 14, 12], layer, with_text=True, limit=400)"
   ]
  },
  {
   "cell_type": "code",
   "execution_count": null,
   "id": "cdf8ad8a-b572-4c9d-975b-8b2ffd3645e2",
   "metadata": {
    "scrolled": true
   },
   "outputs": [],
   "source": [
    "concept_an.gen_and_print(idcs[1:2], vals[1:2], layer, with_text=True, limit=400)"
   ]
  },
  {
   "cell_type": "code",
   "execution_count": null,
   "id": "eb16abd1-47cc-40ed-93bf-89d97fed32e3",
   "metadata": {},
   "outputs": [],
   "source": [
    "v_1 = concept_an.v_FG[layer][t_idcs[0]]\n",
    "v_2 = concept_an.v_FG[layer][t_idcs[1]]\n",
    "v_3 = concept_an.v_FG[layer][t_idcs[2]]\n",
    "# v_meet = meet(v_1, v_2)\n",
    "# v_meet = meet(v_1, v_3)\n",
    "v_meet = meet(v_2, v_3)\n",
    "# v_meet = meet(v_meet, v_3)\n",
    "vals, idcs = topK(v_meet, v_meet.shape[0])\n",
    "vals, idcs"
   ]
  },
  {
   "cell_type": "code",
   "execution_count": null,
   "id": "1406a5e7-c2d4-472b-8b57-4a3d53754aa9",
   "metadata": {},
   "outputs": [],
   "source": [
    "concept_an.gen_and_print(idcs, vals, layer, with_text=True, limit=400)"
   ]
  },
  {
   "cell_type": "code",
   "execution_count": null,
   "id": "78deaccd-7970-44f8-b828-0b3bb805b748",
   "metadata": {},
   "outputs": [],
   "source": [
    "v_1 = concept_an.v_FG[layer][t_idcs[0]]\n",
    "v_2 = concept_an.v_FG[layer][t_idcs[1]]\n",
    "v_3 = concept_an.v_FG[layer][t_idcs[2]]\n",
    "v_meet = meet(v_1, v_2)\n",
    "# v_meet = meet(v_1, v_3)\n",
    "# v_meet = meet(v_2, v_3)\n",
    "# v_meet = meet(v_meet, v_3)\n",
    "vals, idcs = topK(v_meet, v_meet.shape[0])\n",
    "vals, idcs"
   ]
  },
  {
   "cell_type": "code",
   "execution_count": null,
   "id": "323812c2-2e71-4046-9a03-2d9f7e67fca2",
   "metadata": {},
   "outputs": [],
   "source": [
    "concept_an.gen_and_print(idcs, vals, layer, with_text=True, limit=400)"
   ]
  },
  {
   "cell_type": "code",
   "execution_count": null,
   "id": "5c0caedd-19c8-4506-8b10-d6ccd7ad2da0",
   "metadata": {},
   "outputs": [],
   "source": [
    "v_1 = concept_an.v_FG[layer][t_idcs[0]]\n",
    "v_2 = concept_an.v_FG[layer][t_idcs[1]]\n",
    "v_3 = concept_an.v_FG[layer][t_idcs[2]]\n",
    "# v_meet = meet(v_1, v_2)\n",
    "v_meet = meet(v_1, v_3)\n",
    "# v_meet = meet(v_2, v_3)\n",
    "# v_meet = meet(v_meet, v_3)\n",
    "vals, idcs = topK(v_meet, v_meet.shape[0])\n",
    "vals, idcs"
   ]
  },
  {
   "cell_type": "code",
   "execution_count": null,
   "id": "54bce807-4eee-43ff-9757-38fbe7915697",
   "metadata": {
    "scrolled": true
   },
   "outputs": [],
   "source": [
    "concept_an.gen_and_print(idcs, vals, layer, with_text=True, limit=100)"
   ]
  },
  {
   "cell_type": "code",
   "execution_count": null,
   "id": "5a0663a0-ca2c-4ffe-be28-4e629932a9bd",
   "metadata": {},
   "outputs": [],
   "source": []
  },
  {
   "cell_type": "markdown",
   "id": "4c27f5db-f7ad-461c-b15a-817c0945fb4d",
   "metadata": {},
   "source": [
    "## Corss Features"
   ]
  },
  {
   "cell_type": "code",
   "execution_count": null,
   "id": "9a34b3a5-5604-4897-ab29-5f4e6726e654",
   "metadata": {},
   "outputs": [],
   "source": [
    "v_is = concept_an.v_is[11]\n",
    "v_is"
   ]
  },
  {
   "cell_type": "code",
   "execution_count": null,
   "id": "bffca7c7-0ed3-4b08-9b31-f3e108686cb6",
   "metadata": {},
   "outputs": [],
   "source": [
    "concept_an.detected_vs[11][24][7]"
   ]
  },
  {
   "cell_type": "code",
   "execution_count": null,
   "id": "61e0330e-7313-4d55-bd8e-e20a1adf2b6c",
   "metadata": {},
   "outputs": [],
   "source": [
    "v_the = concept_an.detected_vs[11][24][7][92]\n",
    "v_extremely = concept_an.detected_vs[11][24][7][123]"
   ]
  },
  {
   "cell_type": "code",
   "execution_count": null,
   "id": "a71e7760-6e1d-4652-b527-380eb5474e46",
   "metadata": {},
   "outputs": [],
   "source": [
    "v_meet = meet(v_is[3], v_is[11])"
   ]
  },
  {
   "cell_type": "code",
   "execution_count": null,
   "id": "142544c1-bbd3-4c9f-ab6a-13e5da8ca983",
   "metadata": {},
   "outputs": [],
   "source": [
    "v_meet = meet(v_the, v_extremely)"
   ]
  },
  {
   "cell_type": "code",
   "execution_count": null,
   "id": "a57f34e4-a8b5-4505-a3ae-26c7ef099a3d",
   "metadata": {},
   "outputs": [],
   "source": [
    "topK(v_is[3], 10)"
   ]
  },
  {
   "cell_type": "code",
   "execution_count": null,
   "id": "5702678f-2392-41ff-93c2-ac9d80ee9f2b",
   "metadata": {},
   "outputs": [],
   "source": [
    "topK(v_is[11], 10)"
   ]
  },
  {
   "cell_type": "code",
   "execution_count": null,
   "id": "e9527efb-9959-4b63-ab54-a97a8431eaf2",
   "metadata": {},
   "outputs": [],
   "source": [
    "topK(v_meet, 10)"
   ]
  },
  {
   "cell_type": "code",
   "execution_count": null,
   "id": "59812969-6528-4c1e-a69a-f7af2c2c2c3a",
   "metadata": {},
   "outputs": [],
   "source": [
    "topK(v_the, 10)"
   ]
  },
  {
   "cell_type": "code",
   "execution_count": null,
   "id": "240b59d5-008c-434c-98ed-bb768949b4b4",
   "metadata": {},
   "outputs": [],
   "source": [
    "topK(v_extremely, 10)"
   ]
  },
  {
   "cell_type": "code",
   "execution_count": null,
   "id": "8f5440aa-b968-4f43-b793-fcfc74e4f858",
   "metadata": {},
   "outputs": [],
   "source": [
    "topK(v_meet, 10)"
   ]
  },
  {
   "cell_type": "code",
   "execution_count": null,
   "id": "30f39ff1-010f-406d-80ca-214daf841b1f",
   "metadata": {},
   "outputs": [],
   "source": [
    "v_dets = concept_an.detected_vs[11][0]\n",
    "v_dets"
   ]
  },
  {
   "cell_type": "code",
   "execution_count": null,
   "id": "6ab4a03a-86db-4e32-aabb-c34a46679bbf",
   "metadata": {},
   "outputs": [],
   "source": [
    "v1 = v_dets[3][9]\n",
    "v2 = v_dets[11][6]\n",
    "v12 = meet(v1, v2)"
   ]
  },
  {
   "cell_type": "code",
   "execution_count": null,
   "id": "e68f6790-2006-45c6-81ec-3f2c2e153440",
   "metadata": {},
   "outputs": [],
   "source": [
    "topK(v12, 10)"
   ]
  },
  {
   "cell_type": "code",
   "execution_count": null,
   "id": "d170bc99-6bef-43a6-bc36-b80a58bf7840",
   "metadata": {},
   "outputs": [],
   "source": [
    "c12 = concept_an.G_FG(v12, 11)\n",
    "c12"
   ]
  },
  {
   "cell_type": "code",
   "execution_count": null,
   "id": "d9c32cd2-9a45-492f-8c86-02e27d9a0387",
   "metadata": {},
   "outputs": [],
   "source": [
    "for st in concept_an.corpus[c12.A]:\n",
    "    print(concept_an.to_string(st))"
   ]
  },
  {
   "cell_type": "code",
   "execution_count": null,
   "id": "03ac5618-7e9f-49d8-825b-ec91950b1d9a",
   "metadata": {},
   "outputs": [],
   "source": [
    "c_the_extr = concept_an.G_FG(v_meet, 11)\n",
    "c_the_extr"
   ]
  },
  {
   "cell_type": "code",
   "execution_count": null,
   "id": "9011c390-a66d-40c1-88ad-791612bf2660",
   "metadata": {},
   "outputs": [],
   "source": [
    "for st in concept_an.corpus[c_the_extr.A]:\n",
    "    print(concept_an.to_string(st))"
   ]
  },
  {
   "cell_type": "markdown",
   "id": "3e3538e3-8504-4e6b-985f-0cd51efd98fe",
   "metadata": {},
   "source": [
    "## Experiments Pos and Negs Black"
   ]
  },
  {
   "cell_type": "code",
   "execution_count": null,
   "id": "ce89c08a-9433-4a12-b5b6-10afd7dd9783",
   "metadata": {},
   "outputs": [],
   "source": [
    "tok_indx = 143"
   ]
  },
  {
   "cell_type": "code",
   "execution_count": null,
   "id": "72b6895f-8322-4494-8213-4d79bfffda21",
   "metadata": {},
   "outputs": [],
   "source": [
    "text_detoken = tr_analyzer.to_clean(tr_analyzer.tokens[tok_indx])\n",
    "text_detoken"
   ]
  },
  {
   "cell_type": "code",
   "execution_count": null,
   "id": "be4681f8-c724-458b-aecf-ffbd7b135109",
   "metadata": {},
   "outputs": [],
   "source": [
    "concept_an = ConceptAnalysis(text_detoken, tr_analyzer)"
   ]
  },
  {
   "cell_type": "code",
   "execution_count": null,
   "id": "1ad58cdb-f69d-4d80-9af7-16cb898ecab8",
   "metadata": {
    "scrolled": true
   },
   "outputs": [],
   "source": [
    "concept_an.analyze_concepts()"
   ]
  },
  {
   "cell_type": "code",
   "execution_count": null,
   "id": "1bdb04d4-cb5f-41eb-8cf2-88efaf63d4f0",
   "metadata": {},
   "outputs": [],
   "source": [
    "i, j = 27, 28\n",
    "t_idcs = [28, 127]"
   ]
  },
  {
   "cell_type": "code",
   "execution_count": null,
   "id": "0d305d60-4b23-445f-84cb-b603803fd7d3",
   "metadata": {},
   "outputs": [],
   "source": [
    "layer_0 = 0"
   ]
  },
  {
   "cell_type": "code",
   "execution_count": null,
   "id": "ef9b9ca9-c32a-4ad1-8b69-199cb7872396",
   "metadata": {},
   "outputs": [],
   "source": [
    "concept_an.tr_utils.transcoder.background_dets = None"
   ]
  },
  {
   "cell_type": "code",
   "execution_count": null,
   "id": "fb755f77-cfbf-4eca-b06f-3e81b9b3d6f0",
   "metadata": {
    "scrolled": true
   },
   "outputs": [],
   "source": [
    "concept_an.gen_text(t_idcs, layer_0)"
   ]
  },
  {
   "cell_type": "code",
   "execution_count": null,
   "id": "79d4b5a2-494a-4184-9dcb-15d9c7d2515a",
   "metadata": {},
   "outputs": [],
   "source": [
    "det_22 = concept_an.detected_vs[layer_0][22]\n",
    "det_22"
   ]
  },
  {
   "cell_type": "code",
   "execution_count": null,
   "id": "56a6f669-26ff-4088-8f00-0a295a3e0328",
   "metadata": {},
   "outputs": [],
   "source": [
    "v_b1 = det_22[28][32]\n",
    "v_b2 = det_22[127][32]"
   ]
  },
  {
   "cell_type": "code",
   "execution_count": null,
   "id": "5ea66f12-95d9-4a8c-b5a8-03e15cc57195",
   "metadata": {},
   "outputs": [],
   "source": [
    "v_b3 = det_22[127][96]\n",
    "v_b4 = det_22[127][119]"
   ]
  },
  {
   "cell_type": "code",
   "execution_count": null,
   "id": "90f499c8-44f5-407c-88de-1ef5dbac1a1a",
   "metadata": {},
   "outputs": [],
   "source": [
    "v_b = join(v_b1, v_b2)"
   ]
  },
  {
   "cell_type": "code",
   "execution_count": null,
   "id": "c05c1c17-6f48-41f4-b27e-bac0c41deeb4",
   "metadata": {},
   "outputs": [],
   "source": [
    "topK(v_b1, 20)"
   ]
  },
  {
   "cell_type": "code",
   "execution_count": null,
   "id": "b9d5c568-86f8-4765-a15a-f568ad638c7f",
   "metadata": {},
   "outputs": [],
   "source": [
    "topK(v_b3, 20)"
   ]
  },
  {
   "cell_type": "code",
   "execution_count": null,
   "id": "0b30d3e9-b749-4ac7-ab46-4d980a3c7aad",
   "metadata": {},
   "outputs": [],
   "source": [
    "topK(v_b4, 20)"
   ]
  },
  {
   "cell_type": "code",
   "execution_count": null,
   "id": "9b1776fe-05e1-4955-85bd-fe085dce93e2",
   "metadata": {},
   "outputs": [],
   "source": [
    "np.all(v_b1 == v_b2)"
   ]
  },
  {
   "cell_type": "code",
   "execution_count": null,
   "id": "9af8ffef-8fbc-4f1e-ba7a-e832bb9460ca",
   "metadata": {},
   "outputs": [],
   "source": [
    "layer_8 = 8"
   ]
  },
  {
   "cell_type": "code",
   "execution_count": null,
   "id": "a55d3a14-8289-41a6-a9fd-406e80f5efb7",
   "metadata": {
    "scrolled": true
   },
   "outputs": [],
   "source": [
    "concept_an.gen_text(t_idcs, layer_8)"
   ]
  },
  {
   "cell_type": "code",
   "execution_count": null,
   "id": "75ef490b-e98a-4b60-8744-7a842d88cc69",
   "metadata": {
    "scrolled": true
   },
   "outputs": [],
   "source": [
    "concept_an.detected_vs[layer_8]"
   ]
  },
  {
   "cell_type": "code",
   "execution_count": null,
   "id": "3b44ceff-398b-42d8-a4d2-c7d315482851",
   "metadata": {},
   "outputs": [],
   "source": [
    "layer_11 = 11"
   ]
  },
  {
   "cell_type": "code",
   "execution_count": null,
   "id": "65ee0acb-1d58-4f85-8a54-d2c0f3917fc5",
   "metadata": {
    "scrolled": true
   },
   "outputs": [],
   "source": [
    "concept_an.gen_text(t_idcs, layer_11)"
   ]
  },
  {
   "cell_type": "code",
   "execution_count": null,
   "id": "a294f394-2466-40bb-af8e-2e83f7704331",
   "metadata": {},
   "outputs": [],
   "source": [
    "concept_an.detected_vs[layer_11][3]"
   ]
  },
  {
   "cell_type": "code",
   "execution_count": null,
   "id": "9d12e7cf-f78e-4b55-b41e-e53e5fd1b846",
   "metadata": {},
   "outputs": [],
   "source": [
    "concept_an.detected_vs[layer_11][8]"
   ]
  },
  {
   "cell_type": "code",
   "execution_count": null,
   "id": "35895ae8-03b5-4cc5-a566-ef2a58ebd4a6",
   "metadata": {},
   "outputs": [],
   "source": [
    "v_white = concept_an.detected_vs[layer_11][8][28][62]\n",
    "v_black = concept_an.detected_vs[layer_11][8][127][34]"
   ]
  },
  {
   "cell_type": "code",
   "execution_count": null,
   "id": "20e6b614-b76a-4e0c-bec6-703eb08f2f1c",
   "metadata": {},
   "outputs": [],
   "source": [
    "topK(v_white, 10)"
   ]
  },
  {
   "cell_type": "code",
   "execution_count": null,
   "id": "7831257f-5201-484d-8200-fba80bf4dee5",
   "metadata": {},
   "outputs": [],
   "source": [
    "topK(v_black, 10)"
   ]
  },
  {
   "cell_type": "code",
   "execution_count": null,
   "id": "ad6d33e7-de75-4e34-ba11-b081900add10",
   "metadata": {},
   "outputs": [],
   "source": [
    "v_meet = meet(v_white, v_black)"
   ]
  },
  {
   "cell_type": "code",
   "execution_count": null,
   "id": "20325acc-893c-42d8-bc88-41fd66f139ab",
   "metadata": {},
   "outputs": [],
   "source": [
    "vals, indcs = topK(v_meet, 10)\n",
    "vals, indcs"
   ]
  },
  {
   "cell_type": "code",
   "execution_count": null,
   "id": "14cd7613-9d4c-4fb5-a744-70f0a59a280c",
   "metadata": {},
   "outputs": [],
   "source": [
    "c_meet = concept_an.gen_concept(indcs[1], vals[1], layer_11)\n",
    "c_meet"
   ]
  },
  {
   "cell_type": "code",
   "execution_count": null,
   "id": "1f986dbe-d6ba-4141-b7d8-fc7c0ff42b25",
   "metadata": {
    "scrolled": true
   },
   "outputs": [],
   "source": [
    "concept_an.gen_and_print(indcs[1:4], vals[1:4], layer_11, with_text=True, limit=20)"
   ]
  },
  {
   "cell_type": "code",
   "execution_count": null,
   "id": "1e48a282-dba4-4627-8681-2777fbf21a4b",
   "metadata": {
    "scrolled": true
   },
   "outputs": [],
   "source": [
    "concept_an.gen_and_print([21836], [17], layer_11, with_text=True, limit=20)"
   ]
  },
  {
   "cell_type": "code",
   "execution_count": null,
   "id": "519fec83-2da0-46fd-8263-26eff1abbfff",
   "metadata": {},
   "outputs": [],
   "source": []
  }
 ],
 "metadata": {
  "kernelspec": {
   "display_name": "Python 3 (ipykernel)",
   "language": "python",
   "name": "python3"
  },
  "language_info": {
   "codemirror_mode": {
    "name": "ipython",
    "version": 3
   },
   "file_extension": ".py",
   "mimetype": "text/x-python",
   "name": "python",
   "nbconvert_exporter": "python",
   "pygments_lexer": "ipython3",
   "version": "3.12.9"
  }
 },
 "nbformat": 4,
 "nbformat_minor": 5
}
