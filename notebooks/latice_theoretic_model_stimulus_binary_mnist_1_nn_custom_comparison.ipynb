{
 "cells": [
  {
   "cell_type": "code",
   "execution_count": null,
   "id": "71ce37e9",
   "metadata": {},
   "outputs": [],
   "source": [
    "%load_ext autoreload\n",
    "%autoreload 2\n",
    "\n",
    "%matplotlib inline"
   ]
  },
  {
   "cell_type": "markdown",
   "id": "5b560092",
   "metadata": {},
   "source": [
    "## Install libraries"
   ]
  },
  {
   "cell_type": "markdown",
   "id": "89885fa7",
   "metadata": {},
   "source": [
    "```bash\n",
    "conda create -n edu4 python=3.11 jupyter matplotlib\n",
    "```"
   ]
  },
  {
   "cell_type": "markdown",
   "id": "cd23589d",
   "metadata": {},
   "source": [
    "```bash \n",
    "! pip install -U -r requirements.txt\n",
    "```"
   ]
  },
  {
   "cell_type": "markdown",
   "id": "9d16321f",
   "metadata": {},
   "source": [
    "```bash\n",
    "! pip install -U numpy\n",
    "! pip install -U scikit-learn\n",
    "```"
   ]
  },
  {
   "cell_type": "markdown",
   "id": "b4cab43a",
   "metadata": {},
   "source": [
    "## Update repository"
   ]
  },
  {
   "cell_type": "code",
   "execution_count": null,
   "id": "46bcb5dc",
   "metadata": {},
   "outputs": [],
   "source": [
    "! git pull"
   ]
  },
  {
   "cell_type": "markdown",
   "id": "bad216da",
   "metadata": {},
   "source": [
    "## Add import path"
   ]
  },
  {
   "cell_type": "code",
   "execution_count": null,
   "id": "baafb705",
   "metadata": {},
   "outputs": [],
   "source": [
    "import os\n",
    "import sys\n",
    "import gc"
   ]
  },
  {
   "cell_type": "code",
   "execution_count": null,
   "id": "b2930983",
   "metadata": {},
   "outputs": [],
   "source": [
    "module_path = os.path.abspath(os.path.join('..'))\n",
    "if module_path not in sys.path:\n",
    "    sys.path.append(module_path)"
   ]
  },
  {
   "cell_type": "code",
   "execution_count": null,
   "id": "7984d32f",
   "metadata": {},
   "outputs": [],
   "source": [
    "del module_path"
   ]
  },
  {
   "cell_type": "markdown",
   "id": "07a1e9c8",
   "metadata": {},
   "source": [
    "## Organize imports"
   ]
  },
  {
   "cell_type": "code",
   "execution_count": null,
   "id": "ae177357",
   "metadata": {},
   "outputs": [],
   "source": [
    "import multiprocessing\n",
    "from pathlib import Path"
   ]
  },
  {
   "cell_type": "code",
   "execution_count": null,
   "id": "a523557a",
   "metadata": {},
   "outputs": [],
   "source": [
    "import seaborn as sns"
   ]
  },
  {
   "cell_type": "code",
   "execution_count": null,
   "id": "25750a3d",
   "metadata": {},
   "outputs": [],
   "source": [
    "import matplotlib.pyplot as plt\n",
    "import numpy as np\n",
    "import pandas as pd"
   ]
  },
  {
   "cell_type": "code",
   "execution_count": null,
   "id": "125950ab",
   "metadata": {},
   "outputs": [],
   "source": [
    "import plotly.express as px"
   ]
  },
  {
   "cell_type": "code",
   "execution_count": null,
   "id": "a92b171e-807f-49c7-aa0a-f3c9d845d320",
   "metadata": {},
   "outputs": [],
   "source": [
    "import torch\n",
    "from torch import nn\n",
    "import torch.nn.functional as F\n",
    "from torch.utils.data import DataLoader\n",
    "from torchvision import datasets, transforms"
   ]
  },
  {
   "cell_type": "code",
   "execution_count": null,
   "id": "262d0a5a-ccb6-4a7d-a4a2-76a276c2ce88",
   "metadata": {},
   "outputs": [],
   "source": [
    "from sklearn.linear_model import LinearRegression, LogisticRegression\n",
    "from sklearn.discriminant_analysis import (\n",
    "    LinearDiscriminantAnalysis, \n",
    "    QuadraticDiscriminantAnalysis\n",
    ")\n",
    "from sklearn.tree import DecisionTreeClassifier\n",
    "from sklearn.ensemble import RandomForestClassifier \n",
    "from sklearn.datasets import (\n",
    "    load_iris,\n",
    "    load_wine,\n",
    "    load_breast_cancer\n",
    ")\n",
    "from sklearn.model_selection import train_test_split, GridSearchCV\n",
    "from sklearn.preprocessing import (\n",
    "    MaxAbsScaler,\n",
    "    MinMaxScaler,\n",
    "    StandardScaler,\n",
    "    LabelEncoder, \n",
    "    OneHotEncoder,\n",
    ")\n",
    "from sklearn.metrics import (\n",
    "    precision_score, \n",
    "    recall_score, \n",
    "    f1_score,\n",
    "    classification_report,\n",
    "    confusion_matrix\n",
    ")\n",
    "from sklearn.compose import ColumnTransformer, make_column_transformer"
   ]
  },
  {
   "cell_type": "code",
   "execution_count": null,
   "id": "e1c75655-adba-4f78-811e-9fd3c0286a9e",
   "metadata": {},
   "outputs": [],
   "source": [
    "from scipy import stats\n",
    "from scipy.interpolate import interp1d"
   ]
  },
  {
   "cell_type": "code",
   "execution_count": null,
   "id": "dd35ae26-e0e9-4e5a-9302-5f968b1eb8c9",
   "metadata": {
    "scrolled": true
   },
   "outputs": [],
   "source": [
    "from src.lattmc.fca.utils import *\n",
    "from src.lattmc.fca.data_utils import *\n",
    "from src.lattmc.fca.image_utils import *\n",
    "from src.lattmc.fca.models import *\n",
    "from src.lattmc.fca.fca_utils import *\n",
    "from src.lattmc.fca.image_gens import *"
   ]
  },
  {
   "cell_type": "markdown",
   "id": "65f31e93",
   "metadata": {},
   "source": [
    "#### Number of CPU cores"
   ]
  },
  {
   "cell_type": "code",
   "execution_count": null,
   "id": "b41c30f2",
   "metadata": {},
   "outputs": [],
   "source": [
    "workers = multiprocessing.cpu_count()\n",
    "workers"
   ]
  },
  {
   "cell_type": "code",
   "execution_count": null,
   "id": "59f41838-322d-41e8-b8e1-6712089703c9",
   "metadata": {},
   "outputs": [],
   "source": [
    "SEED = 2024"
   ]
  },
  {
   "cell_type": "markdown",
   "id": "0ccf4792-19f1-4d01-b9c2-ddea2462cadc",
   "metadata": {},
   "source": [
    "## Initialize Path"
   ]
  },
  {
   "cell_type": "code",
   "execution_count": null,
   "id": "bcd545b8-0e15-41e9-92a9-4d0bf260c8b8",
   "metadata": {},
   "outputs": [],
   "source": [
    "PATH = Path('data')\n",
    "images_path = PATH / 'images'\n",
    "MODELS = PATH / 'models'\n",
    "images_path.mkdir(exist_ok=True, parents=True)\n",
    "pumpkin_path = PATH / 'Pumpkin_Seeds_Dataset.xlsx'\n",
    "ad_click_path = PATH / 'advertising.csv'"
   ]
  },
  {
   "cell_type": "code",
   "execution_count": null,
   "id": "794a3711-012d-4f8e-8054-e03daf34fc2b",
   "metadata": {},
   "outputs": [],
   "source": [
    "model_path = MODELS / 'simple_nn_1_hidden_128_sigmoid.ckpt'"
   ]
  },
  {
   "cell_type": "markdown",
   "id": "06bc9778-bbd2-445f-b337-3148a2b6f1b4",
   "metadata": {},
   "source": [
    "## Initialize the model"
   ]
  },
  {
   "cell_type": "code",
   "execution_count": null,
   "id": "966ea657-0b17-48ac-8434-c6f4a32cc942",
   "metadata": {},
   "outputs": [],
   "source": [
    "class SimpleNN(nn.Module):\n",
    "    \n",
    "    def __init__(self, input_size, hidden_size, dropout_prob=0.5):\n",
    "        super().__init__()\n",
    "        # Define layers\n",
    "        self.hidden = nn.Linear(input_size, hidden_size)\n",
    "        self.relu = nn.ReLU()\n",
    "        # self.dropout = nn.Dropout(p=dropout_prob)\n",
    "        self.output = nn.Linear(hidden_size, 1)\n",
    "        self.sigmoid = nn.Sigmoid()\n",
    "\n",
    "    def encode(self, x):\n",
    "        # Flatten the image tensors\n",
    "        x = x.view(x.size(0), -1)\n",
    "        # Hidden layer with ReLU activation\n",
    "        h = self.hidden(x)\n",
    "        z = self.relu(h)\n",
    "\n",
    "        return z\n",
    "\n",
    "    def run_logits(self, x):\n",
    "        # Flatten the image tensors\n",
    "        h = self.encode(x)\n",
    "\n",
    "        # Apply dropout\n",
    "        # h = self.dropout(h)\n",
    "\n",
    "        # Output layer with Sigmoid activation\n",
    "        r = self.output(h)\n",
    "\n",
    "        return r\n",
    "\n",
    "    def regress_vec(self, z):\n",
    "        l = self.output(z)\n",
    "        p = self.sigmoid(l)\n",
    "\n",
    "        return p\n",
    "\n",
    "    def run_inference(self, x):\n",
    "        r = self.run_logits(x)\n",
    "\n",
    "        y_hat = self.sigmoid(r)\n",
    "        \n",
    "        return y_hat\n",
    "      \n",
    "    def forward(self, x):\n",
    "        r = self.run_inference(x)\n",
    "        \n",
    "        return r"
   ]
  },
  {
   "cell_type": "code",
   "execution_count": null,
   "id": "f56bce08-f5d0-4a95-b8c3-f5c3267b2cf0",
   "metadata": {},
   "outputs": [],
   "source": [
    "class InferenceModel(object):\n",
    "\n",
    "    def __init__(self, model):\n",
    "        self.model = model.eval()\n",
    "\n",
    "    @torch.inference_mode()\n",
    "    def run_encode(self, x):\n",
    "        return self.model.encode(x)\n",
    "\n",
    "    @torch.inference_mode()\n",
    "    def inference_np(self, x):\n",
    "        y_hat = self.model.run_inference(x)\n",
    "        y_np = y_hat.cpu().detach().numpy()\n",
    "\n",
    "        return y_np\n",
    "\n",
    "    @torch.inference_mode()\n",
    "    def encode_np(self, x):\n",
    "        z = self.run_encode(x)\n",
    "        z_np = z.cpu().detach().numpy()\n",
    "\n",
    "        return z_np\n",
    "\n",
    "    @torch.inference_mode()\n",
    "    def regress_vec(self, z):\n",
    "        return self.model.regress_vec(z)\n",
    "\n",
    "    @torch.inference_mode()\n",
    "    def regress_np(self, z):\n",
    "        p = self.regress_vec(z)\n",
    "        p_np = p.cpu().detach().numpy()\n",
    "\n",
    "        return p_np\n",
    "\n",
    "    def __call__(*args, **kwargs):\n",
    "        return self.run(*args, **kwargs)"
   ]
  },
  {
   "cell_type": "code",
   "execution_count": null,
   "id": "e6b60b56-752e-4644-8175-ddc2b06ff5ff",
   "metadata": {},
   "outputs": [],
   "source": [
    "def inference_ds(ds):\n",
    "    with tqdm(ds) as prds:\n",
    "        zs = np.array(\n",
    "            [model.encode_np(x) for x, _ in prds]\n",
    "        )\n",
    "\n",
    "    return zs"
   ]
  },
  {
   "cell_type": "code",
   "execution_count": null,
   "id": "c57697d0-f4bf-4d6d-b423-68c869ccc2ad",
   "metadata": {},
   "outputs": [],
   "source": [
    "def find_zs(ds):\n",
    "    z_kl = dict()\n",
    "    x_kl = dict()\n",
    "    z_ks = dict()\n",
    "    x_ks = dict()\n",
    "    with tqdm(ds) as prds:\n",
    "        for x, y in prds:\n",
    "            z_k = model.encode_np(x)\n",
    "            z_kl.setdefault(y, list())\n",
    "            x_kl.setdefault(y, list())\n",
    "            z_kl[y].append(z_k)\n",
    "            x_kl[y].append(x)\n",
    "    for k, v in z_kl.items():\n",
    "        z_ks[k] = np.array(v)\n",
    "        x_ks[k] = x_kl[k]\n",
    "\n",
    "    return x_ks, z_ks"
   ]
  },
  {
   "cell_type": "code",
   "execution_count": null,
   "id": "0822544f-c751-4a81-86ba-3ec76e56d203",
   "metadata": {},
   "outputs": [],
   "source": [
    "def gr_idx(z, zs):\n",
    "    with tqdm(zs) as przs:\n",
    "        gr = np.array(\n",
    "            [i for i, z_s in enumerate(przs) if (z <= z_s).all()]\n",
    "        )\n",
    "\n",
    "    return gr"
   ]
  },
  {
   "cell_type": "markdown",
   "id": "96f4f5a1-bccb-4a18-8c42-99fbf2f0f904",
   "metadata": {},
   "source": [
    "## Load the model"
   ]
  },
  {
   "cell_type": "code",
   "execution_count": null,
   "id": "fe02ef1a-8fb6-4ae6-bbca-a5600c8aa08b",
   "metadata": {},
   "outputs": [],
   "source": [
    "pl_state_dict = torch.load(model_path, map_location='cpu')['state_dict']"
   ]
  },
  {
   "cell_type": "code",
   "execution_count": null,
   "id": "ce4f6f6e-6d57-4a5f-a121-3bc42b2ad59d",
   "metadata": {},
   "outputs": [],
   "source": [
    "state_dict = {k.replace('model.', ''): v for k, v in pl_state_dict.items()}"
   ]
  },
  {
   "cell_type": "code",
   "execution_count": null,
   "id": "8266fee7-7745-48bf-bd69-35757b43d21d",
   "metadata": {},
   "outputs": [],
   "source": [
    "state_dict"
   ]
  },
  {
   "cell_type": "code",
   "execution_count": null,
   "id": "96119ac8-fd66-47ca-a9ff-c43e94bb42c5",
   "metadata": {},
   "outputs": [],
   "source": [
    "net = SimpleNN(input_size= 28 * 28, hidden_size=128)"
   ]
  },
  {
   "cell_type": "code",
   "execution_count": null,
   "id": "36196e5d-cdaf-4ce8-b197-5cc56fdbc50a",
   "metadata": {},
   "outputs": [],
   "source": [
    "net.load_state_dict(state_dict)"
   ]
  },
  {
   "cell_type": "code",
   "execution_count": null,
   "id": "c7e86377-f3ff-45a6-b991-68b2986592af",
   "metadata": {},
   "outputs": [],
   "source": [
    "net = net.eval()"
   ]
  },
  {
   "cell_type": "code",
   "execution_count": null,
   "id": "a84da8c8-1a25-4bc5-afe9-d3e61b9a8127",
   "metadata": {},
   "outputs": [],
   "source": [
    "model = InferenceModel(net)"
   ]
  },
  {
   "cell_type": "markdown",
   "id": "5867be5b-7070-48c9-9b38-8232bf72416b",
   "metadata": {},
   "source": [
    "## Visualize weights"
   ]
  },
  {
   "cell_type": "code",
   "execution_count": null,
   "id": "c9d78840-c1e4-4740-8742-d2a42ab22d01",
   "metadata": {},
   "outputs": [],
   "source": [
    "def get_normalized_weights(layer):\n",
    "    # Get the weights from the first layer\n",
    "    weights = layer.weight.data.cpu()\n",
    "    # Reshape weights to (num_neurons, 28, 28)\n",
    "    weights = weights.view(weights.size(0), 28, 28)\n",
    "    # Normalize weights to [0, 1]\n",
    "    min_w = weights.min(dim=1, keepdim=True)[0].min(dim=2, keepdim=True)[0]\n",
    "    max_w = weights.max(dim=1, keepdim=True)[0].max(dim=2, keepdim=True)[0]\n",
    "    weights_normalized = (weights - min_w) / (max_w - min_w)\n",
    "    # Number of neurons in the first layer\n",
    "\n",
    "    return weights_normalized"
   ]
  },
  {
   "cell_type": "code",
   "execution_count": null,
   "id": "0c577d5c-b66a-48ae-9087-1b6a07d9faa1",
   "metadata": {},
   "outputs": [],
   "source": [
    "# Visualize the first layer weights after training\n",
    "def visualize_first_layer_weights(layer):\n",
    "    import matplotlib.pyplot as plt\n",
    "    \n",
    "    weights_normalized = get_normalized_weights(layer)\n",
    "    # Number of neurons in the first layer\n",
    "    num_neurons = weights_normalized.size(0)\n",
    "    # Determine grid size for plotting\n",
    "    rows = int(num_neurons / 8) + 1\n",
    "    cols = 8\n",
    "    fig, axes = plt.subplots(rows, cols, figsize=(15, 15))\n",
    "    for i, ax in enumerate(axes.flat):\n",
    "        if i < num_neurons:\n",
    "            # Get the normalized weights for the i-th neuron\n",
    "            w = weights_normalized[i]\n",
    "            # Display the weights as an image\n",
    "            ax.imshow(w, cmap='gray')\n",
    "            ax.set_title(f'Neuron {i}')\n",
    "            ax.axis('off')\n",
    "        else:\n",
    "            ax.axis('off')\n",
    "    plt.tight_layout()\n",
    "    plt.show()"
   ]
  },
  {
   "cell_type": "code",
   "execution_count": null,
   "id": "c505f90b-0960-4511-9d92-6bc34321a265",
   "metadata": {},
   "outputs": [],
   "source": [
    "def visualize_first_layer_weights_for_neurons(layer, neurons_list):\n",
    "    import matplotlib.pyplot as plt\n",
    "\n",
    "    weights_normalized = get_normalized_weights(layer)\n",
    "    # Number of neurons to visualize\n",
    "    num_neurons = len(neurons_list)\n",
    "    # Determine grid size for plotting\n",
    "    cols = min(4, num_neurons)\n",
    "    rows = (num_neurons + cols - 1) // cols\n",
    "    fig, axes = plt.subplots(rows, cols, figsize=(4 * cols, 4 * rows))\n",
    "    axes = axes.flatten()\n",
    "    for i, ax in enumerate(axes):\n",
    "        if i < num_neurons:\n",
    "            # Get the normalized weights for the i-th neuron\n",
    "            w = weights_normalized[i]\n",
    "            # Display the weights as an image\n",
    "            ax.imshow(w.numpy(), cmap='gray')\n",
    "            ax.set_title(f'Neuron {neurons_list[i]}')\n",
    "            ax.axis('off')\n",
    "        else:\n",
    "            ax.axis('off')\n",
    "    plt.tight_layout()\n",
    "    plt.show()\n"
   ]
  },
  {
   "cell_type": "code",
   "execution_count": null,
   "id": "7b77de03-8dfe-4e3d-8137-c9203626c0f6",
   "metadata": {},
   "outputs": [],
   "source": [
    "visualize_first_layer_weights(net.hidden)"
   ]
  },
  {
   "cell_type": "code",
   "execution_count": null,
   "id": "7f276332-f3fb-4a5c-b77c-3756afb6b595",
   "metadata": {},
   "outputs": [],
   "source": [
    "def visualize_last_layer_weights(layer):\n",
    "    import matplotlib.pyplot as plt\n",
    "    import numpy as np\n",
    "\n",
    "    # Get the weights from the last layer\n",
    "    last_layer_weights = layer.weight.data.cpu().squeeze()  # Shape: [hidden_size]\n",
    "    hidden_size = last_layer_weights.size(0)\n",
    "    # Create an array of neuron indices\n",
    "    neurons = np.arange(hidden_size)\n",
    "    # Plot the weights as a bar chart\n",
    "    plt.figure(figsize=(12, 6))\n",
    "    plt.bar(neurons, last_layer_weights.numpy())\n",
    "    plt.xlabel('Hidden Neuron Index')\n",
    "    plt.ylabel('Weight')\n",
    "    plt.title('Weights from Hidden Layer to Output Neuron')\n",
    "    plt.show()\n",
    "    \n",
    "    # Optionally, print out the bias\n",
    "    last_layer_bias = layer.bias.data.cpu().item()\n",
    "    print(f\"Bias of the output neuron: {last_layer_bias:.4f}\")"
   ]
  },
  {
   "cell_type": "code",
   "execution_count": null,
   "id": "999d188e-89af-41c2-9d79-24b934c39a5c",
   "metadata": {},
   "outputs": [],
   "source": [
    "# Call the visualization function\n",
    "visualize_last_layer_weights(net.output)"
   ]
  },
  {
   "cell_type": "markdown",
   "id": "be07aad4-53a7-456b-b026-80295db7d84d",
   "metadata": {},
   "source": [
    "## Load data"
   ]
  },
  {
   "cell_type": "code",
   "execution_count": null,
   "id": "87f8b3d0-1db1-4db3-b7c3-a8bbf3153ee0",
   "metadata": {},
   "outputs": [],
   "source": [
    "# Updated MNIST data loaders with normalization and validation set\n",
    "def prepare_data(batch_size=128):\n",
    "    # Normalize to [0, 1] for MNIST\n",
    "    transform = transforms.Compose([\n",
    "        transforms.ToTensor(),\n",
    "        transforms.Normalize(mean=(0.1307,), std=(0.3081,)),  # Mean and std from MNIST\n",
    "        # transforms.Lambda(lambda x: x.view(-1))  # Flatten the image\n",
    "    ])\n",
    "\n",
    "    # Training set\n",
    "    train_dataset = datasets.MNIST(root='./data', train=True, transform=transform, download=True)\n",
    "    train_loader = DataLoader(train_dataset, batch_size=batch_size, shuffle=True)\n",
    "\n",
    "    # Validation set\n",
    "    val_dataset = datasets.MNIST(root='./data', train=False, transform=transform, download=True)\n",
    "    val_loader = DataLoader(val_dataset, batch_size=batch_size, shuffle=False)\n",
    "\n",
    "    return train_dataset, train_loader, val_dataset, val_loader"
   ]
  },
  {
   "cell_type": "code",
   "execution_count": null,
   "id": "55e934ee-f7a2-4036-96a9-b10ffe635a4a",
   "metadata": {},
   "outputs": [],
   "source": [
    "train_dataset, train_loader, val_dataset, val_loader = prepare_data()"
   ]
  },
  {
   "cell_type": "markdown",
   "id": "1f7b6b3c-5dd7-4a28-937a-06b1c43ebcdf",
   "metadata": {},
   "source": [
    "## Prepare embeddings"
   ]
  },
  {
   "cell_type": "code",
   "execution_count": null,
   "id": "3688a288-0803-48ac-b26f-aa3ea0a9b1bc",
   "metadata": {},
   "outputs": [],
   "source": [
    "train_y = np.array([y for _, y in train_dataset])\n",
    "val_y = np.array([y for _, y in val_dataset])"
   ]
  },
  {
   "cell_type": "code",
   "execution_count": null,
   "id": "8c3464a2-99af-475f-94c5-014808bc8782",
   "metadata": {},
   "outputs": [],
   "source": [
    "x_trlabs, z_train = find_zs(train_dataset)\n",
    "x_vllabs, z_val = find_zs(val_dataset)"
   ]
  },
  {
   "cell_type": "code",
   "execution_count": null,
   "id": "05d8c115-1e43-4c0f-9b03-f75fa3c90a48",
   "metadata": {},
   "outputs": [],
   "source": [
    "train_z = inference_ds(train_dataset)\n",
    "val_z = inference_ds(val_dataset)"
   ]
  },
  {
   "cell_type": "code",
   "execution_count": null,
   "id": "430d866c-3b42-40f1-b15f-3f3fd4c9590e",
   "metadata": {},
   "outputs": [],
   "source": [
    "train_z"
   ]
  },
  {
   "cell_type": "code",
   "execution_count": null,
   "id": "bab50937-2812-499b-bdf4-424e1bf8951e",
   "metadata": {},
   "outputs": [],
   "source": [
    "pos_idx = np.where(net.output.weight.data.cpu().numpy() >= 0)[1]\n",
    "neg_idx = np.where(net.output.weight.data.cpu().numpy() < 0)[1]\n",
    "neg_idx, pos_idx"
   ]
  },
  {
   "cell_type": "code",
   "execution_count": null,
   "id": "6c457e1f-f455-4ddd-b8c5-ea5e188acb31",
   "metadata": {},
   "outputs": [],
   "source": [
    "z = z_train[1][0] \n",
    "x = x_trlabs[1][0]"
   ]
  },
  {
   "cell_type": "code",
   "execution_count": null,
   "id": "b8282b80-cfdf-42fa-8b4f-9f263045e10d",
   "metadata": {},
   "outputs": [],
   "source": [
    "x = x_trlabs[1][0]\n",
    "model.inference_np(x.unsqueeze(0))"
   ]
  },
  {
   "cell_type": "code",
   "execution_count": null,
   "id": "e5c2f416-2852-4cd2-9179-f3c48da08f92",
   "metadata": {},
   "outputs": [],
   "source": [
    "z_en = model.run_encode(x)"
   ]
  },
  {
   "cell_type": "code",
   "execution_count": null,
   "id": "d295fa80-35ee-4be4-9698-ab36b1159f6c",
   "metadata": {},
   "outputs": [],
   "source": [
    "z_en.shape[0]"
   ]
  },
  {
   "cell_type": "code",
   "execution_count": null,
   "id": "4de588e1-55e1-4482-91c3-7160aacd1ff2",
   "metadata": {},
   "outputs": [],
   "source": [
    "with torch.inference_mode():\n",
    "    z_en[0][neg_idx] = 0"
   ]
  },
  {
   "cell_type": "code",
   "execution_count": null,
   "id": "3e1d0694-4ef7-460e-a174-167859f46b69",
   "metadata": {},
   "outputs": [],
   "source": [
    "z_en[0][neg_idx]"
   ]
  },
  {
   "cell_type": "code",
   "execution_count": null,
   "id": "5358a1b4-4b74-445e-8997-e3f15ce452d6",
   "metadata": {},
   "outputs": [],
   "source": [
    "y_np = model.regress_np(z_en)\n",
    "y_np"
   ]
  },
  {
   "cell_type": "code",
   "execution_count": null,
   "id": "d875fba8-f7e1-4cf1-916e-368907849771",
   "metadata": {},
   "outputs": [],
   "source": [
    "# Visualize the first layer weights for the specified neurons\n",
    "visualize_first_layer_weights_for_neurons(net.hidden, pos_idx)"
   ]
  },
  {
   "cell_type": "code",
   "execution_count": null,
   "id": "5ff2809f-b30b-4de9-bdb9-acde0ee82b36",
   "metadata": {},
   "outputs": [],
   "source": []
  }
 ],
 "metadata": {
  "kernelspec": {
   "display_name": "Python 3 (ipykernel)",
   "language": "python",
   "name": "python3"
  },
  "language_info": {
   "codemirror_mode": {
    "name": "ipython",
    "version": 3
   },
   "file_extension": ".py",
   "mimetype": "text/x-python",
   "name": "python",
   "nbconvert_exporter": "python",
   "pygments_lexer": "ipython3",
   "version": "3.12.7"
  }
 },
 "nbformat": 4,
 "nbformat_minor": 5
}
