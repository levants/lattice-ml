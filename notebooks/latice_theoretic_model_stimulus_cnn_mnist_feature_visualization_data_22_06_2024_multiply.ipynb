{
 "cells": [
  {
   "cell_type": "code",
   "execution_count": null,
   "id": "71ce37e9",
   "metadata": {},
   "outputs": [],
   "source": [
    "%load_ext autoreload\n",
    "%autoreload 2\n",
    "\n",
    "%matplotlib inline"
   ]
  },
  {
   "cell_type": "markdown",
   "id": "5b560092",
   "metadata": {},
   "source": [
    "## Install libraries"
   ]
  },
  {
   "cell_type": "code",
   "execution_count": null,
   "id": "69b65bf2-6556-48a6-826d-5cfe43eddab7",
   "metadata": {},
   "outputs": [],
   "source": [
    "from IPython.display import display, Javascript\n",
    "\n",
    "display(Javascript('''\n",
    "(function() {\n",
    "    var interval = setInterval(function() {\n",
    "        if (typeof google !== 'undefined' && google.translate && google.translate.TranslateElement) {\n",
    "            clearInterval(interval);\n",
    "            google.translate.TranslateElement = function() {};\n",
    "            document.getElementById('google_translate_element')?.remove();\n",
    "        }\n",
    "    }, 1000);\n",
    "})();\n",
    "'''))"
   ]
  },
  {
   "cell_type": "markdown",
   "id": "b4cab43a",
   "metadata": {},
   "source": [
    "## Update repository"
   ]
  },
  {
   "cell_type": "code",
   "execution_count": null,
   "id": "46bcb5dc",
   "metadata": {},
   "outputs": [],
   "source": [
    "! git pull"
   ]
  },
  {
   "cell_type": "markdown",
   "id": "bad216da",
   "metadata": {},
   "source": [
    "## Add import path"
   ]
  },
  {
   "cell_type": "code",
   "execution_count": null,
   "id": "baafb705",
   "metadata": {},
   "outputs": [],
   "source": [
    "import os\n",
    "import sys\n",
    "import gc"
   ]
  },
  {
   "cell_type": "code",
   "execution_count": null,
   "id": "b2930983",
   "metadata": {},
   "outputs": [],
   "source": [
    "module_path = os.path.abspath(os.path.join('..'))\n",
    "if module_path not in sys.path:\n",
    "    sys.path.append(module_path)"
   ]
  },
  {
   "cell_type": "code",
   "execution_count": null,
   "id": "7984d32f",
   "metadata": {},
   "outputs": [],
   "source": [
    "del module_path"
   ]
  },
  {
   "cell_type": "markdown",
   "id": "07a1e9c8",
   "metadata": {},
   "source": [
    "## Organize imports"
   ]
  },
  {
   "cell_type": "code",
   "execution_count": null,
   "id": "ae177357",
   "metadata": {},
   "outputs": [],
   "source": [
    "import multiprocessing\n",
    "from pathlib import Path"
   ]
  },
  {
   "cell_type": "code",
   "execution_count": null,
   "id": "74167915-2cdc-4066-b063-bb9f28926dc4",
   "metadata": {},
   "outputs": [],
   "source": [
    "from collections import OrderedDict"
   ]
  },
  {
   "cell_type": "code",
   "execution_count": null,
   "id": "25750a3d",
   "metadata": {},
   "outputs": [],
   "source": [
    "import matplotlib.pyplot as plt\n",
    "import seaborn as sns\n",
    "import numpy as np"
   ]
  },
  {
   "cell_type": "code",
   "execution_count": null,
   "id": "96b53c98-9137-444e-b868-deecac303673",
   "metadata": {},
   "outputs": [],
   "source": [
    "from tqdm import tqdm"
   ]
  },
  {
   "cell_type": "code",
   "execution_count": null,
   "id": "125950ab",
   "metadata": {},
   "outputs": [],
   "source": [
    "import torch\n",
    "from torch import nn\n",
    "from torch.utils.data import DataLoader\n",
    "from torchvision import transforms\n",
    "from torchvision.datasets import MNIST"
   ]
  },
  {
   "cell_type": "code",
   "execution_count": null,
   "id": "262d0a5a-ccb6-4a7d-a4a2-76a276c2ce88",
   "metadata": {},
   "outputs": [],
   "source": [
    "from src.lattmc.fca.utils import *\n",
    "from src.lattmc.fca.data_utils import *\n",
    "from src.lattmc.fca.image_utils import *\n",
    "from src.lattmc.fca.models import *\n",
    "from src.lattmc.fca.fca_utils import *"
   ]
  },
  {
   "cell_type": "markdown",
   "id": "65f31e93",
   "metadata": {},
   "source": [
    "#### Number of CPU cores"
   ]
  },
  {
   "cell_type": "code",
   "execution_count": null,
   "id": "b41c30f2",
   "metadata": {},
   "outputs": [],
   "source": [
    "workers = multiprocessing.cpu_count()\n",
    "workers"
   ]
  },
  {
   "cell_type": "code",
   "execution_count": null,
   "id": "59f41838-322d-41e8-b8e1-6712089703c9",
   "metadata": {},
   "outputs": [],
   "source": [
    "SEED = 2024"
   ]
  },
  {
   "cell_type": "markdown",
   "id": "0ccf4792-19f1-4d01-b9c2-ddea2462cadc",
   "metadata": {},
   "source": [
    "## Initialize Path"
   ]
  },
  {
   "cell_type": "code",
   "execution_count": null,
   "id": "bcd545b8-0e15-41e9-92a9-4d0bf260c8b8",
   "metadata": {},
   "outputs": [],
   "source": [
    "PATH = Path('data')\n",
    "model_dir = PATH / 'models'\n",
    "model_path = model_dir / 'simple_cnn_mnist_model.ckpt'\n",
    "config_dir = PATH / 'config'\n",
    "config_dir.mkdir(exist_ok=True, parents=True)\n",
    "config_1_layer_path = config_dir / 'neurons_1_layer.json'\n",
    "config_cnn_layer_1 = config_dir / 'neurons_cnn_1_layer.json'\n",
    "images_dir = PATH / 'images'\n",
    "images_dir.mkdir(exist_ok=True, parents=True)\n",
    "pumpkin_path = PATH / 'Pumpkin_Seeds_Dataset.xlsx'"
   ]
  },
  {
   "cell_type": "markdown",
   "id": "67b7d099-7346-4521-a81b-9e3ca5dbfdb0",
   "metadata": {},
   "source": [
    "## Load the model"
   ]
  },
  {
   "cell_type": "code",
   "execution_count": null,
   "id": "f365d055-0da1-4809-828e-a314a1bc621c",
   "metadata": {},
   "outputs": [],
   "source": [
    "model = torch.load(model_path, map_location='cpu')"
   ]
  },
  {
   "cell_type": "code",
   "execution_count": null,
   "id": "756fc5e6-fcfa-4874-bd72-4263b7262511",
   "metadata": {},
   "outputs": [],
   "source": [
    "def clear_state_dict(state_dict):\n",
    "    for key in list(state_dict.keys()):\n",
    "        state_dict[key.replace('model.0.', 'conv1.')] = state_dict.pop(key)\n",
    "    for key in list(state_dict.keys()):\n",
    "        state_dict[key.replace('model.3.', 'conv2.')] = state_dict.pop(key)\n",
    "    for key in list(state_dict.keys()):\n",
    "        state_dict[key.replace('model.8.', 'fc1.')] = state_dict.pop(key)\n",
    "    for key in list(state_dict.keys()):\n",
    "        state_dict[key.replace('model.11.', 'fc2.')] = state_dict.pop(key)\n",
    "\n",
    "    return state_dict"
   ]
  },
  {
   "cell_type": "code",
   "execution_count": null,
   "id": "f94db6e0-040a-4bf9-b911-a4d7e04854c4",
   "metadata": {},
   "outputs": [],
   "source": [
    "state_dict = clear_state_dict(model['state_dict'])"
   ]
  },
  {
   "cell_type": "code",
   "execution_count": null,
   "id": "5b0f65ba-7ccc-4fb6-a82b-e62e973f2b85",
   "metadata": {},
   "outputs": [],
   "source": [
    "net = nn.Sequential(OrderedDict([\n",
    "    ('conv1', nn.Conv2d(1, 32, kernel_size=3, stride=1, padding=1)),\n",
    "    ('act1', nn.ReLU()),\n",
    "    ('mxp1', nn.MaxPool2d(kernel_size=2, stride=2)),\n",
    "    ('conv2', nn.Conv2d(32, 64, kernel_size=3, stride=1, padding=1)),\n",
    "    ('act2', nn.ReLU()),\n",
    "    ('mxp2', nn.MaxPool2d(kernel_size=2, stride=2)),\n",
    "    ('flatten', nn.Flatten()),\n",
    "    ('fc1', nn.Linear(64 * 7 * 7, 128)),\n",
    "    ('act3', nn.ReLU()),\n",
    "    ('fc2', nn.Linear(128, 10)),\n",
    "]))"
   ]
  },
  {
   "cell_type": "code",
   "execution_count": null,
   "id": "b53a9e71-4cee-4564-9deb-52feaf94fb57",
   "metadata": {},
   "outputs": [],
   "source": [
    "net.load_state_dict(state_dict)"
   ]
  },
  {
   "cell_type": "code",
   "execution_count": null,
   "id": "75c19bf4-50a2-4578-b6f3-563c43d93ae8",
   "metadata": {},
   "outputs": [],
   "source": [
    "net = net.eval()"
   ]
  },
  {
   "cell_type": "markdown",
   "id": "cae6cb9b-e48c-44e6-b0ec-8907629451e1",
   "metadata": {},
   "source": [
    "## Initialize MNIST dataset"
   ]
  },
  {
   "cell_type": "code",
   "execution_count": null,
   "id": "b5a613d8-e5ac-4a78-9e79-983e19ffb93d",
   "metadata": {},
   "outputs": [],
   "source": [
    "transform = transforms.Compose(\n",
    "            [\n",
    "                ToTensor(),\n",
    "                transforms.Normalize((0.1307,), (0.3081,)),\n",
    "            ]\n",
    ")"
   ]
  },
  {
   "cell_type": "code",
   "execution_count": null,
   "id": "9d206541-1930-4ce3-a629-b9deed2b7c0f",
   "metadata": {},
   "outputs": [],
   "source": [
    "data_train = MNIST(images_dir, train=True, download=True)\n",
    "data_test = MNIST(images_dir, train=False, download=True)"
   ]
  },
  {
   "cell_type": "code",
   "execution_count": null,
   "id": "55a9639b-ba83-4a8f-a06d-5d8e68f08cfc",
   "metadata": {},
   "outputs": [],
   "source": [
    "next(net.parameters()).device"
   ]
  },
  {
   "cell_type": "code",
   "execution_count": null,
   "id": "b34a7580-c9fe-4db9-adab-f7ffd8115c05",
   "metadata": {},
   "outputs": [],
   "source": [
    "device = find_device()\n",
    "device"
   ]
  },
  {
   "cell_type": "code",
   "execution_count": null,
   "id": "0ed4ff52-8905-4cbd-83b3-79a12a7d21f8",
   "metadata": {},
   "outputs": [],
   "source": [
    "wnet = NetWrapper(net, transform)"
   ]
  },
  {
   "cell_type": "code",
   "execution_count": null,
   "id": "24107477-a096-4454-8498-51ec736609ee",
   "metadata": {},
   "outputs": [],
   "source": [
    "wnet.net"
   ]
  },
  {
   "cell_type": "code",
   "execution_count": null,
   "id": "b4ed25af-cd8a-45f4-be1b-b2bcbc368e68",
   "metadata": {
    "scrolled": true
   },
   "outputs": [],
   "source": [
    "wnet.net[:6]"
   ]
  },
  {
   "cell_type": "code",
   "execution_count": null,
   "id": "6dec2f3e-5d5a-4b7b-b2fd-5c2266f54087",
   "metadata": {},
   "outputs": [],
   "source": [
    "layer_V_n = 3\n",
    "layer_U_n = 6"
   ]
  },
  {
   "cell_type": "code",
   "execution_count": null,
   "id": "41b27625-58b2-4cfd-99de-8a5f2a3f684b",
   "metadata": {},
   "outputs": [],
   "source": [
    "wnet.device"
   ]
  },
  {
   "cell_type": "code",
   "execution_count": null,
   "id": "6c613730-234a-4097-9804-6cf11d81735f",
   "metadata": {},
   "outputs": [],
   "source": [
    "bs = 8"
   ]
  },
  {
   "cell_type": "code",
   "execution_count": null,
   "id": "7da39f11-54d0-4e2b-8ab6-fdc8d895a058",
   "metadata": {},
   "outputs": [],
   "source": [
    "V_X_train, X_V_train = layer_V(data_train, wnet, k=layer_V_n, bs=bs)"
   ]
  },
  {
   "cell_type": "code",
   "execution_count": null,
   "id": "5f62f114-37a5-4c98-b955-c133ff39ed12",
   "metadata": {},
   "outputs": [],
   "source": [
    "V_X_test, X_V_test = layer_V(data_test, wnet, k=layer_V_n, bs=bs)"
   ]
  },
  {
   "cell_type": "code",
   "execution_count": null,
   "id": "83f78423-c986-4815-86d6-b0582f8c150b",
   "metadata": {},
   "outputs": [],
   "source": [
    "U_X_train, X_U_train = layer_V(data_train, wnet, k=layer_U_n, bs=bs)"
   ]
  },
  {
   "cell_type": "code",
   "execution_count": null,
   "id": "fb115167-5947-4fa3-b4fc-aa8862a0d0d7",
   "metadata": {},
   "outputs": [],
   "source": [
    "U_X_test, X_U_test = layer_V(data_test, wnet, k=layer_U_n, bs=bs)"
   ]
  },
  {
   "cell_type": "code",
   "execution_count": null,
   "id": "ec67cfd1-52a8-4d61-93da-7127859c88b8",
   "metadata": {},
   "outputs": [],
   "source": [
    "arg_max = np.argmax(V_X_train, axis=0)\n",
    "arg_max.shape"
   ]
  },
  {
   "cell_type": "code",
   "execution_count": null,
   "id": "7003b961-347f-49d3-b5a6-1d37144ae1a8",
   "metadata": {},
   "outputs": [],
   "source": [
    "arg_top = np.argsort(V_X_train, axis=0)\n",
    "arg_top.shape"
   ]
  },
  {
   "cell_type": "code",
   "execution_count": null,
   "id": "dca1bf61-224e-4fa1-998c-6c4a34863601",
   "metadata": {},
   "outputs": [],
   "source": [
    "i = 0"
   ]
  },
  {
   "cell_type": "code",
   "execution_count": null,
   "id": "f349ab15-12f3-4a9a-a804-774efb0b2e27",
   "metadata": {},
   "outputs": [],
   "source": [
    "arg_top[-10:].shape"
   ]
  },
  {
   "cell_type": "code",
   "execution_count": null,
   "id": "e285ba8d-cf0c-4795-86da-ee5f3a64d367",
   "metadata": {},
   "outputs": [],
   "source": [
    "arg_top[-10:,:, :].shape"
   ]
  },
  {
   "cell_type": "code",
   "execution_count": null,
   "id": "bbbc4b25-7c79-43bd-8d95-670bd2ec82f2",
   "metadata": {},
   "outputs": [],
   "source": [
    "# V_X_train[arg_top[-16:,1, 9, 2]][:,1, 9, 2]"
   ]
  },
  {
   "cell_type": "code",
   "execution_count": null,
   "id": "ec5b8639-5021-4437-b8f0-248b9cdb8972",
   "metadata": {},
   "outputs": [],
   "source": [
    "show_grid(arg_top[-16:,1, 9, 2], data_train, nrow=32)"
   ]
  },
  {
   "cell_type": "code",
   "execution_count": null,
   "id": "b45f9773-5ce2-4f92-acac-08a6d1ffe318",
   "metadata": {
    "scrolled": true
   },
   "outputs": [],
   "source": [
    "# np.max(V_X_train, axis=0)"
   ]
  },
  {
   "cell_type": "code",
   "execution_count": null,
   "id": "761b8eff-3efd-4227-a7e5-a99f6644942f",
   "metadata": {
    "scrolled": true
   },
   "outputs": [],
   "source": [
    "# V_X_train[arg_max[13], :]"
   ]
  },
  {
   "cell_type": "code",
   "execution_count": null,
   "id": "15a6802a-c1a1-4e99-ba4f-c93c689ea54f",
   "metadata": {},
   "outputs": [],
   "source": [
    "show_grid(arg_max[1,:], data_train, nrow=14)"
   ]
  },
  {
   "cell_type": "code",
   "execution_count": null,
   "id": "b62df86c-7491-4971-b341-bd47e3a2fc93",
   "metadata": {},
   "outputs": [],
   "source": [
    "# show_grid(arg_max[0], data_train, nrow=14)"
   ]
  },
  {
   "cell_type": "markdown",
   "id": "e16cfea8-ae7e-4209-89fb-dbd1dfa3ad79",
   "metadata": {},
   "source": [
    "## Sorting vectors"
   ]
  },
  {
   "cell_type": "code",
   "execution_count": null,
   "id": "17927a97-ba89-4227-9e58-1397dfa5946b",
   "metadata": {
    "scrolled": true
   },
   "outputs": [],
   "source": [
    "V_X_digits, V_X_sorteds = sort_V_X(V_X_train, data_train)"
   ]
  },
  {
   "cell_type": "markdown",
   "id": "7e3b79ba-84e6-455d-afca-b7674b9750e4",
   "metadata": {},
   "source": [
    "## Alanyze maximum stimulus"
   ]
  },
  {
   "cell_type": "code",
   "execution_count": null,
   "id": "de1615bf-d4d1-43f0-9006-17bc899c1602",
   "metadata": {},
   "outputs": [],
   "source": [
    "v_Ds = dict()\n",
    "u_Ds = dict()\n",
    "G_v_tests = dict()\n",
    "G_u_tests = dict()"
   ]
  },
  {
   "cell_type": "code",
   "execution_count": null,
   "id": "5de91ddf-3ad2-4dbf-a2ce-87c4d61cebf9",
   "metadata": {},
   "outputs": [],
   "source": [
    "i = 9\n",
    "ths = [\n",
    "    568, #0\n",
    "    330, #1\n",
    "    672, #2\n",
    "    580, #3\n",
    "    470, #4\n",
    "    590, #5\n",
    "    484, #6\n",
    "    544, #7\n",
    "    640, #8\n",
    "    584  #9\n",
    "]\n",
    "v = np.copy(V_X_sorteds[i][ths[i]])\n",
    "# v[13] = 0.0"
   ]
  },
  {
   "cell_type": "code",
   "execution_count": null,
   "id": "2a8b2bef-6047-4e8b-a4e8-858ae0fcd875",
   "metadata": {
    "scrolled": true
   },
   "outputs": [],
   "source": [
    "for i in range(10):\n",
    "    layer_fca = LayerFCA(V_X_train, U_X_train, data_train)\n",
    "    G_v, v_D, u_D, G_u, G_v_test, G_u_test, uncn_reps = layer_fca.find_G_v_us(\n",
    "        v, \n",
    "        V_X_test, \n",
    "        U_X_test, \n",
    "        data_test\n",
    "    )\n",
    "    v_Ds[i] = v_D\n",
    "    u_Ds[i] = u_D\n",
    "    G_v_tests[i] = G_v_test\n",
    "    G_u_tests[i] = G_u_test"
   ]
  },
  {
   "cell_type": "code",
   "execution_count": null,
   "id": "38dbb691-441d-46ab-9e1d-7edf59c5bc2f",
   "metadata": {},
   "outputs": [],
   "source": [
    "uncn_reps"
   ]
  },
  {
   "cell_type": "code",
   "execution_count": null,
   "id": "4c6f5e65-5b95-4d63-b48e-1534e9a030fd",
   "metadata": {},
   "outputs": [],
   "source": [
    "show_grid(G_v_tests[i], data_test, nrow=32)"
   ]
  },
  {
   "cell_type": "code",
   "execution_count": null,
   "id": "e235e89b-43ed-43e5-a7f7-c142773ac01a",
   "metadata": {},
   "outputs": [],
   "source": [
    "show_grid(G_u_tests[i], data_test, nrow=32)"
   ]
  },
  {
   "cell_type": "code",
   "execution_count": null,
   "id": "433d460e-bee7-46e5-b246-db3e3312026b",
   "metadata": {},
   "outputs": [],
   "source": [
    "y_hs = np.argmax(wnet(*[data_test[idx][0] for idx in G_u_test]))"
   ]
  },
  {
   "cell_type": "code",
   "execution_count": null,
   "id": "16db8da9-062e-411a-bebc-f0cbe7c32776",
   "metadata": {},
   "outputs": [],
   "source": [
    "uncn_hat = layer_fca.count_ys(y_hs)"
   ]
  },
  {
   "cell_type": "code",
   "execution_count": null,
   "id": "ff4fe32e-6584-4a7d-bcfb-6755d396189e",
   "metadata": {},
   "outputs": [],
   "source": [
    "uncn_hat"
   ]
  },
  {
   "cell_type": "code",
   "execution_count": null,
   "id": "7eac4c43-2479-4ddf-8c19-a209d53d5950",
   "metadata": {},
   "outputs": [],
   "source": [
    "# net[3].weight[:, 0], net[3].bias"
   ]
  },
  {
   "cell_type": "code",
   "execution_count": null,
   "id": "dbba2b15-035d-49e5-b961-be7c6cdbf056",
   "metadata": {},
   "outputs": [],
   "source": [
    "layer_fca.uncn"
   ]
  },
  {
   "cell_type": "code",
   "execution_count": null,
   "id": "a0b016b1-456a-4c25-8c32-d09244be9a8d",
   "metadata": {},
   "outputs": [],
   "source": [
    "show_grid(G_u_test, data_test, nrow=48, h=64, w=64)"
   ]
  },
  {
   "cell_type": "code",
   "execution_count": null,
   "id": "6b8f766b-b25e-4268-89e7-bd91d8143c10",
   "metadata": {},
   "outputs": [],
   "source": [
    "show_grid(G_u_test, data_test, nrow=48, h=64, w=64, my=i)"
   ]
  },
  {
   "cell_type": "markdown",
   "id": "9c219db3-a011-4eb9-b2a4-a05124c63821",
   "metadata": {},
   "source": [
    "## Visualization of distribution"
   ]
  },
  {
   "cell_type": "code",
   "execution_count": null,
   "id": "6de9b530-216e-4a52-a290-6dd2f34614e3",
   "metadata": {},
   "outputs": [],
   "source": [
    "argmax_kd_val(V_X_sorteds[idx][ths[idx]][2])"
   ]
  },
  {
   "cell_type": "code",
   "execution_count": null,
   "id": "1aa8530e-cf29-4700-a750-5fb1c51d60c2",
   "metadata": {},
   "outputs": [],
   "source": [
    "V_X_sorteds[idx][ths[idx]][2][7, 9]"
   ]
  },
  {
   "cell_type": "code",
   "execution_count": null,
   "id": "b49a0f79-13c1-4424-934b-128889765ba1",
   "metadata": {},
   "outputs": [],
   "source": [
    "idx = 7\n",
    "v_test = V_X_sorteds[idx][ths[idx]]\n",
    "# v_test = V_X_test[0]"
   ]
  },
  {
   "cell_type": "code",
   "execution_count": null,
   "id": "9f54ecd3-c6fc-4a45-b2dd-51fa526e1154",
   "metadata": {},
   "outputs": [],
   "source": [
    "visualize_slices(v_test)"
   ]
  },
  {
   "cell_type": "code",
   "execution_count": null,
   "id": "ada93f25-1df5-4ebf-a21a-5bab542709e2",
   "metadata": {},
   "outputs": [],
   "source": [
    "digits_train = get_digits(data_train)"
   ]
  },
  {
   "cell_type": "code",
   "execution_count": null,
   "id": "b19e19b7-5e24-4b5b-8315-329fe100662a",
   "metadata": {},
   "outputs": [],
   "source": [
    "# digits_train[0]"
   ]
  },
  {
   "cell_type": "code",
   "execution_count": null,
   "id": "6107b014-ab95-4e87-b05f-3ca4171f1272",
   "metadata": {},
   "outputs": [],
   "source": [
    "# Load an example image\n",
    "example_image, _ = data_test[i]\n",
    "# example_image = example_image.unsqueeze(0)  # Add batch dimension\n",
    "\n",
    "# Visualize the activations\n",
    "acts = visualize_activations(wnet, digits_train[7][8], layers=[3, 6], hist=False)"
   ]
  },
  {
   "cell_type": "code",
   "execution_count": null,
   "id": "5ccff658-5b95-42f9-8252-8317325e8862",
   "metadata": {},
   "outputs": [],
   "source": [
    "digits_train[0][:4]"
   ]
  },
  {
   "cell_type": "code",
   "execution_count": null,
   "id": "5eee8cfc-a804-42b1-9715-d6f0d7225f4d",
   "metadata": {},
   "outputs": [],
   "source": [
    "res = [wnet(x, k=3) for x in digits_train[0]]"
   ]
  },
  {
   "cell_type": "code",
   "execution_count": null,
   "id": "dc75dcaf-2357-480d-981a-81c69bb0e318",
   "metadata": {},
   "outputs": [],
   "source": [
    "res_k = list()\n",
    "int_k = list()\n",
    "with tqdm(list(range(32))) as pange:\n",
    "    for k in pange:\n",
    "        r_k = [r[k] for r in res]\n",
    "        res_k.append(r_k)\n",
    "        int_k.append(intersect_xd(*r_k))"
   ]
  },
  {
   "cell_type": "code",
   "execution_count": null,
   "id": "f6cbfe4d-6cd6-4c4e-bc3d-7c1acbce6fea",
   "metadata": {},
   "outputs": [],
   "source": [
    "visualize_slices(int_k)"
   ]
  },
  {
   "cell_type": "code",
   "execution_count": null,
   "id": "c96ce16b-9cff-4618-8f85-224848b94d91",
   "metadata": {},
   "outputs": [],
   "source": [
    "int_30.shape"
   ]
  },
  {
   "cell_type": "code",
   "execution_count": null,
   "id": "2d766b46-33b0-4bec-bd41-d0ab4c2708fc",
   "metadata": {},
   "outputs": [],
   "source": [
    "show_activation(int_k[28])"
   ]
  },
  {
   "cell_type": "code",
   "execution_count": null,
   "id": "16d43420-1ce6-4c73-ad65-03404364910f",
   "metadata": {},
   "outputs": [],
   "source": [
    "show_activation(acts[0][1])"
   ]
  },
  {
   "cell_type": "code",
   "execution_count": null,
   "id": "8b09e347-cb58-4ebb-846b-283ed1d1dfe8",
   "metadata": {},
   "outputs": [],
   "source": [
    "indices1 = np.where(acts[0][1] >= 1.2)\n",
    "indices1, acts[0][1][indices1]"
   ]
  },
  {
   "cell_type": "code",
   "execution_count": null,
   "id": "4297bc09-a931-4d59-baf0-14a84b81a41d",
   "metadata": {},
   "outputs": [],
   "source": [
    "show_activation(acts[0][8])"
   ]
  },
  {
   "cell_type": "code",
   "execution_count": null,
   "id": "4bcb7286-d862-4014-89a0-be53699065cd",
   "metadata": {
    "scrolled": true
   },
   "outputs": [],
   "source": [
    "indices2 = np.where(acts[0][8] >= 1.4)"
   ]
  },
  {
   "cell_type": "code",
   "execution_count": null,
   "id": "b0f8f511-eb4e-4e7a-9679-3b96787634bd",
   "metadata": {},
   "outputs": [],
   "source": [
    "acts[0][8][indices2]"
   ]
  },
  {
   "cell_type": "code",
   "execution_count": null,
   "id": "9f97424e-d026-49c6-9d97-7c7b67a318d4",
   "metadata": {},
   "outputs": [],
   "source": [
    "acts[0][1].shape"
   ]
  },
  {
   "cell_type": "code",
   "execution_count": null,
   "id": "2fe2b4e4-84e8-41a4-b354-337943da66fc",
   "metadata": {},
   "outputs": [],
   "source": [
    "acts[0][1][idcs].shape"
   ]
  },
  {
   "cell_type": "code",
   "execution_count": null,
   "id": "51b5562a-0a60-47d7-823b-db40293adb4a",
   "metadata": {},
   "outputs": [],
   "source": [
    "wnet.net[3]"
   ]
  },
  {
   "cell_type": "code",
   "execution_count": null,
   "id": "93a2eee9-5d96-4e41-b91d-872b695ef0a4",
   "metadata": {},
   "outputs": [],
   "source": [
    "# Visualize weights of the first convolutional layer\n",
    "visualize_weights(wnet.net[0], num_filters=32)\n",
    "\n",
    "# Visualize weights of the second convolutional layer\n",
    "visualize_weights(wnet.net[3], num_filters=64)"
   ]
  },
  {
   "cell_type": "code",
   "execution_count": null,
   "id": "4dfc239e-3994-40f3-8e96-31c1a6ada390",
   "metadata": {},
   "outputs": [],
   "source": [
    "V_X_ds[0].shape"
   ]
  },
  {
   "cell_type": "code",
   "execution_count": null,
   "id": "d27b6fb4-3f5d-4bd1-9faf-80fd05e2de81",
   "metadata": {},
   "outputs": [],
   "source": [
    "cprs = np.array([np.all(V_X_ds[0][0] <= V_X_d) or np.all(V_X_d < V_X_ds[0][0]) for V_X_d in V_X_ds[0]])"
   ]
  },
  {
   "cell_type": "code",
   "execution_count": null,
   "id": "5a212de0-faf0-49ef-9499-9af016691226",
   "metadata": {},
   "outputs": [],
   "source": [
    "np.where(cprs)"
   ]
  },
  {
   "cell_type": "markdown",
   "id": "02a7b26b-c193-49d4-86b2-1dab5bb6c57d",
   "metadata": {},
   "source": [
    "## Inference with FCA"
   ]
  },
  {
   "cell_type": "code",
   "execution_count": null,
   "id": "be37cc75-fefd-46c3-a4e4-310853407a7c",
   "metadata": {},
   "outputs": [],
   "source": [
    "class InferFCA(object):\n",
    "\n",
    "    def __init__(self, model, layer, us):\n",
    "        self.model = model\n",
    "        self.layer = layer\n",
    "        self.us = us\n",
    "\n",
    "    def forward(self, x):\n",
    "        u_x = self.model(x, k=self.layer)\n",
    "        y_f = list()\n",
    "        ds = list()\n",
    "        for n, u in self.us.items():\n",
    "            if le(u, u_x):\n",
    "                y_f.append(n)\n",
    "                d = dist(u, u_x)\n",
    "                ds.append(d)\n",
    "        if y_f:\n",
    "            md= np.argmax(np.array(ds))\n",
    "            y_mx = y_f[md]\n",
    "        else:\n",
    "            y_mx = -1\n",
    "\n",
    "        return y_f, y_mx\n",
    "    \n",
    "    def forward_all(self, data):\n",
    "        y_fs = list()\n",
    "        y_fc = list()\n",
    "        count_fc = 0\n",
    "        with tqdm(data) as pdta:\n",
    "            for x, y in pdta:\n",
    "                y_f, y_mx = self.forward(x)\n",
    "                y_fs.append(y_f)\n",
    "                y_fc.append(y_mx)\n",
    "                if y_f:\n",
    "                    count_fc += 1\n",
    "\n",
    "        return y_fs, y_fc, count_fc"
   ]
  },
  {
   "cell_type": "code",
   "execution_count": null,
   "id": "6bb865db-c13f-470d-a361-5c1202e629ad",
   "metadata": {},
   "outputs": [],
   "source": [
    "inferFCA = InferFCA(wnet, layer_U_n, u_Ds)\n",
    "y_fcs, y_fds, cn = inferFCA.forward_all(data_test)"
   ]
  },
  {
   "cell_type": "code",
   "execution_count": null,
   "id": "16ae4f4f-53f8-4f03-84fe-88f2a97d2d93",
   "metadata": {},
   "outputs": [],
   "source": [
    "for i, y_f in enumerate(y_fcs):\n",
    "    if len(y_f) > 1:\n",
    "        print(i, len(y_f), y_f, data_test[i][1], y_fds[i], np.argmax(wnet(data_test[i][0]).to('cpu').detach().numpy()))"
   ]
  },
  {
   "cell_type": "code",
   "execution_count": null,
   "id": "8c917558-e1df-4d32-8d8c-e1d848003605",
   "metadata": {},
   "outputs": [],
   "source": [
    "count_fc"
   ]
  },
  {
   "cell_type": "code",
   "execution_count": null,
   "id": "77ae6331-33e9-4398-b570-4c33dc83369b",
   "metadata": {},
   "outputs": [],
   "source": [
    "le(u_Ds[3], u_Ds[5]) or le(u_Ds[5], u_Ds[3])"
   ]
  },
  {
   "cell_type": "code",
   "execution_count": null,
   "id": "41e410ad-a93c-42a8-a903-4b3c24a0d372",
   "metadata": {},
   "outputs": [],
   "source": [
    "np.sum(u_Ds[3] * U_X_test[64]), np.sum(u_Ds[5] * U_X_test[64])"
   ]
  },
  {
   "cell_type": "code",
   "execution_count": null,
   "id": "35fdfadc-cd85-4532-a7d6-f8f3bf3debba",
   "metadata": {},
   "outputs": [],
   "source": [
    "u_Ds[3].shape"
   ]
  },
  {
   "cell_type": "code",
   "execution_count": null,
   "id": "56a3e896-0da8-4afe-85ed-22db1891df7e",
   "metadata": {},
   "outputs": [],
   "source": [
    "visualize_slices(u_Ds[3], filters=64)"
   ]
  },
  {
   "cell_type": "code",
   "execution_count": null,
   "id": "9f06bfb0-2ad6-4be2-b85c-b906341280b7",
   "metadata": {},
   "outputs": [],
   "source": [
    "visualize_slices(u_Ds[5], filters=64)"
   ]
  },
  {
   "cell_type": "markdown",
   "id": "08c9dd34-80d6-44fb-b460-a5a802e78db7",
   "metadata": {},
   "source": [
    "## Experiments with shapes"
   ]
  },
  {
   "cell_type": "code",
   "execution_count": null,
   "id": "a8e44924-6462-4535-a6f5-33d9cf14f151",
   "metadata": {},
   "outputs": [],
   "source": [
    "import numpy as np\n",
    "from PIL import Image, ImageDraw\n",
    "import torch\n",
    "from torch.utils.data import Dataset, DataLoader\n",
    "import matplotlib.pyplot as plt\n",
    "\n",
    "# Functions to generate images using PIL with variations\n",
    "def generate_vertical_line_image(height, width, line_length=14, line_thickness=2, shift=0, intensity=255):\n",
    "    image = Image.new('L', (width, height), 0)\n",
    "    draw = ImageDraw.Draw(image)\n",
    "    x = width // 2 + shift\n",
    "    start_y = (height - line_length) // 2\n",
    "    end_y = start_y + line_length\n",
    "    draw.line((x, start_y, x, end_y), fill=intensity, width=line_thickness)\n",
    "    return np.array(image)\n",
    "\n",
    "def generate_horizontal_line_image(height, width, line_length=14, line_thickness=2, shift=0, intensity=255):\n",
    "    image = Image.new('L', (width, height), 0)\n",
    "    draw = ImageDraw.Draw(image)\n",
    "    y = height // 2 + shift\n",
    "    start_x = (width - line_length) // 2\n",
    "    end_x = start_x + line_length\n",
    "    draw.line((start_x, y, end_x, y), fill=intensity, width=line_thickness)\n",
    "    return np.array(image)\n",
    "\n",
    "def generate_stretched_ring_image(height, width, radius_x=None, radius_y=None, thickness=2, intensity=255):\n",
    "    image = Image.new('L', (width, height), 0)\n",
    "    draw = ImageDraw.Draw(image)\n",
    "    if radius_x is None:\n",
    "        radius_x = width // 4\n",
    "    if radius_y is None:\n",
    "        radius_y = height // 8\n",
    "    center = (width // 2, height // 2)\n",
    "    draw.ellipse((center[0] - radius_x, center[1] - radius_y, center[0] + radius_x, center[1] + radius_y), outline=intensity, width=thickness)\n",
    "    return np.array(image)\n",
    "\n",
    "# Custom PyTorch Dataset\n",
    "class CustomShapeDataset(Dataset):\n",
    "    def __init__(self, num_samples, height=28, width=28):\n",
    "        self.num_samples = num_samples\n",
    "        self.height = height\n",
    "        self.width = width\n",
    "        self.shapes = ['vertical_line', 'horizontal_line', 'ring']\n",
    "\n",
    "    def __len__(self):\n",
    "        return self.num_samples\n",
    "\n",
    "    def __getitem__(self, idx):\n",
    "        shape_type = np.random.choice(self.shapes)\n",
    "        shift = np.random.randint(-5, 6)  # Shift lines by up to ±5 pixels\n",
    "        intensity = np.random.randint(16, 256)  # Random intensity between 50 and 255\n",
    "        if shape_type == 'vertical_line':\n",
    "            image = generate_vertical_line_image(self.height, self.width, shift=shift, intensity=intensity)\n",
    "        elif shape_type == 'horizontal_line':\n",
    "            image = generate_horizontal_line_image(self.height, self.width, shift=shift, intensity=intensity)\n",
    "        elif shape_type == 'ring':\n",
    "            image = generate_stretched_ring_image(self.height, self.width, intensity=intensity)\n",
    "        \n",
    "        # Convert image to PyTorch tensor and normalize to [0, 1]\n",
    "        image = torch.tensor(image, dtype=torch.float32).unsqueeze(0) / 255.0\n",
    "        \n",
    "        return image, shape_type\n",
    "\n",
    "# Example usage\n",
    "dataset = CustomShapeDataset(num_samples=1000)\n",
    "dataloader = DataLoader(dataset, batch_size=32, shuffle=True)\n",
    "\n",
    "# Display some examples\n",
    "def show_images(images, titles, ncols=4):\n",
    "    nrows = len(images) // ncols\n",
    "    fig, axs = plt.subplots(nrows, ncols, figsize=(10, 10))\n",
    "    for i, (img, title) in enumerate(zip(images, titles)):\n",
    "        ax = axs[i // ncols, i % ncols]\n",
    "        ax.imshow(img.squeeze(), cmap='gray')\n",
    "        ax.set_title(title)\n",
    "        ax.axis('off')\n",
    "    plt.show()\n",
    "\n",
    "# Get a batch of images\n",
    "images, labels = next(iter(dataloader))\n",
    "\n",
    "# Show a batch of images\n",
    "show_images(images[:16], labels[:16])"
   ]
  },
  {
   "cell_type": "code",
   "execution_count": null,
   "id": "c4e23bb7-0fc4-46c8-a2f4-30a969b4f20d",
   "metadata": {
    "scrolled": true
   },
   "outputs": [],
   "source": [
    "shapes_shp = dict()\n",
    "for images, labels in dataloader:\n",
    "    for im, lb in zip(images, labels):\n",
    "        shapes_shp.setdefault(lb, list())\n",
    "        shapes_shp[lb].append(im)"
   ]
  },
  {
   "cell_type": "code",
   "execution_count": null,
   "id": "5a1ef9c7-fcb7-4d58-8fe5-a10f89805ec3",
   "metadata": {},
   "outputs": [],
   "source": [
    "v_X_shapes_v = np.array(wnet(*shapes_shp['vertical_line'], k=layer_V_n))\n",
    "v_X_shapes_v.shape"
   ]
  },
  {
   "cell_type": "code",
   "execution_count": null,
   "id": "db4af32a-26f8-4eab-88f8-8a73165d8989",
   "metadata": {},
   "outputs": [],
   "source": [
    "v_X_shapes_h = np.array(wnet(*shapes_shp['horizontal_line'], k=layer_V_n))\n",
    "v_X_shapes_h.shape"
   ]
  },
  {
   "cell_type": "code",
   "execution_count": null,
   "id": "ee2c6853-896d-4419-94ec-ef7532878c7f",
   "metadata": {},
   "outputs": [],
   "source": [
    "i = 3"
   ]
  },
  {
   "cell_type": "code",
   "execution_count": null,
   "id": "2f95786f-83f9-4471-ae64-6bd63c497064",
   "metadata": {},
   "outputs": [],
   "source": [
    "show_img(shapes_shp['vertical_line'], i)"
   ]
  },
  {
   "cell_type": "code",
   "execution_count": null,
   "id": "349f8adb-dd53-4805-a899-a449f813ef7f",
   "metadata": {},
   "outputs": [],
   "source": [
    "visualize_slices(v_X_shapes_h[i])"
   ]
  },
  {
   "cell_type": "code",
   "execution_count": null,
   "id": "0d779120-1a0f-4483-8e71-25da57ad44a9",
   "metadata": {},
   "outputs": [],
   "source": [
    "v_X_shapes_v_inter = intersect_xd(*[v_X_shapes_v[r] for r in range(v_X_shapes_v.shape[0])])#np.min(v_X_shapes_v, axis=0)"
   ]
  },
  {
   "cell_type": "code",
   "execution_count": null,
   "id": "29b81b74-83e0-4d3e-ab12-6a05c60e43c6",
   "metadata": {},
   "outputs": [],
   "source": [
    "v_X_shapes_v_inter = np.min(v_X_shapes_v, axis=0)"
   ]
  },
  {
   "cell_type": "code",
   "execution_count": null,
   "id": "563c9144-b5a6-41fe-9431-22076acf1504",
   "metadata": {},
   "outputs": [],
   "source": [
    "v_X_shapes_v.shape, v_X_shapes_v_inter.shape"
   ]
  },
  {
   "cell_type": "code",
   "execution_count": null,
   "id": "1083818e-973a-4472-b5c3-1c20f379956d",
   "metadata": {},
   "outputs": [],
   "source": [
    "diag = torch.zeros((28, 28), dtype=torch.float32)\n",
    "for i in range(12, 18):\n",
    "    diag[28 - i, i] = 255\n",
    "diag /= 255\n",
    "# diag = diag.t()"
   ]
  },
  {
   "cell_type": "code",
   "execution_count": null,
   "id": "40f6ae04-672f-4566-a905-915d9c55e601",
   "metadata": {},
   "outputs": [],
   "source": [
    "plt.imshow(diag)"
   ]
  },
  {
   "cell_type": "code",
   "execution_count": null,
   "id": "b8296794-ae58-4ae1-ba9f-3278e135978c",
   "metadata": {},
   "outputs": [],
   "source": [
    "v_X_shapes_d = wnet(diag.unsqueeze(0), k=layer_V_n)"
   ]
  },
  {
   "cell_type": "code",
   "execution_count": null,
   "id": "76096e4d-8d57-4b5c-a396-b79887357d70",
   "metadata": {},
   "outputs": [],
   "source": [
    "visualize_slices(v_X_shapes_d[0])"
   ]
  },
  {
   "cell_type": "code",
   "execution_count": null,
   "id": "da2ad872-dcb5-434c-9648-2d565d8730a1",
   "metadata": {},
   "outputs": [],
   "source": [
    "visualize_slices(v_X_shapes_v[0])"
   ]
  },
  {
   "cell_type": "code",
   "execution_count": null,
   "id": "ee4009b6-16a9-4d9a-b796-af2fbd6524c7",
   "metadata": {},
   "outputs": [],
   "source": [
    "v_idx = 0\n",
    "# fl_v = 16\n",
    "fl_v = 2\n",
    "neurons_v = np.zeros(v_X_shapes_v[v_idx].shape)\n",
    "th = np.max(v_X_shapes_v[v_idx][fl_v]) - np.max(v_X_shapes_v[v_idx][fl_v]) / 4.88\n",
    "idxs_v = np.where(v_X_shapes_v[v_idx][fl_v] >= th)\n",
    "idx_v_c = idxs_v[1]\n",
    "# idx_v_c -= 1\n",
    "neurons_v[fl_v][idxs_v] = 0.2\n",
    "# neurons_v[fl_v][2:8, idx_v_c[0]] = 0\n",
    "# neurons_v[fl_v][9:14, idx_v_c[0]] = 0\n",
    "v_v = neurons_v"
   ]
  },
  {
   "cell_type": "code",
   "execution_count": null,
   "id": "624eb001-8096-4781-a5d3-32f1cb28fbb1",
   "metadata": {},
   "outputs": [],
   "source": [
    "show_activation(neurons_v[fl_v])"
   ]
  },
  {
   "cell_type": "code",
   "execution_count": null,
   "id": "82df2d4d-f8b4-44c9-a1f9-ca00323d9b7d",
   "metadata": {},
   "outputs": [],
   "source": [
    "d_idx = 0\n",
    "# fl_d = 16\n",
    "fl_d = 28\n",
    "neurons_d = np.zeros(v_X_shapes_d[v_idx].shape)\n",
    "th = np.max(v_X_shapes_d[v_idx][fl_v]) - np.max(v_X_shapes_d[v_idx][fl_d]) / 4.88\n",
    "idxs_d = np.where(v_X_shapes_d[d_idx][fl_d] >= th)\n",
    "idx_d_c = idxs_d[1]\n",
    "# idx_d_c -= 1\n",
    "neurons_d[fl_d][idxs_d] = 0.1\n",
    "# neurons_d[fl_d][2:8, idx_d_c[0]] = 0\n",
    "# neurons_d[fl_d][9:14, idx_d_c[0]] = 0\n",
    "v_d = neurons_d"
   ]
  },
  {
   "cell_type": "code",
   "execution_count": null,
   "id": "c2c2686b-a186-4df5-9815-8fd0f10ecb3a",
   "metadata": {},
   "outputs": [],
   "source": [
    "show_activation(neurons_d[fl_d])"
   ]
  },
  {
   "cell_type": "code",
   "execution_count": null,
   "id": "c2190bfb-3b6b-4acd-9b1a-676605a4d9a1",
   "metadata": {},
   "outputs": [],
   "source": [
    "layer_fca = LayerFCA(V_X_train, U_X_train, data_train)\n",
    "G_v, v_D, u_D, G_u, G_v_test, G_u_test, uncn_reps = layer_fca.find_G_v_us(\n",
    "    v_v, \n",
    "    V_X_test, \n",
    "    U_X_test, \n",
    "    data_test\n",
    ")\n",
    "uncn_reps"
   ]
  },
  {
   "cell_type": "code",
   "execution_count": null,
   "id": "8ef84948-2816-4d17-9284-0193fb92a3b0",
   "metadata": {},
   "outputs": [],
   "source": [
    "show_grid(G_v_test, data_test, nrow=32)"
   ]
  },
  {
   "cell_type": "code",
   "execution_count": null,
   "id": "394b828b-3466-4cd9-95a7-aa3809031ef3",
   "metadata": {},
   "outputs": [],
   "source": [
    "layer_fca = LayerFCA(V_X_train, U_X_train, data_train)\n",
    "G_v, v_D, u_D, G_u, G_v_test, G_u_test, uncn_reps = layer_fca.find_G_v_us(\n",
    "    v_d, \n",
    "    V_X_test, \n",
    "    U_X_test, \n",
    "    data_test\n",
    ")\n",
    "uncn_reps"
   ]
  },
  {
   "cell_type": "code",
   "execution_count": null,
   "id": "56f02ea7-b7b7-4235-bf5c-c0fffe9665ec",
   "metadata": {},
   "outputs": [],
   "source": [
    "show_grid(G_v_test, data_test, nrow=32)"
   ]
  },
  {
   "cell_type": "code",
   "execution_count": null,
   "id": "c61981cc-f32e-42fc-98ba-081406537df3",
   "metadata": {},
   "outputs": [],
   "source": [
    "# show_grid(G_u_test, data_test, nrow=32)"
   ]
  },
  {
   "cell_type": "code",
   "execution_count": null,
   "id": "5d8752c6-1302-465b-94a3-b80afe0505b6",
   "metadata": {},
   "outputs": [],
   "source": [
    "h_idx = 0\n",
    "fl_h = 8\n",
    "neurons_h = np.zeros(v_X_shapes_h[h_idx].shape)\n",
    "th = np.max(v_X_shapes_h[h_idx][fl_h]) - (np.max(v_X_shapes_h[h_idx][fl_h]) / 4.88)\n",
    "idx_h = np.where(v_X_shapes_h[h_idx][fl_h] >= th)\n",
    "idx_h_r = idx_h[0]\n",
    "idx_h_r_idx = idx_h_r[0]\n",
    "# idx_h_r += 2\n",
    "neurons_h[fl_h][idx_h] = 0.2\n",
    "neurons_h[fl_h][idx_h_r_idx, :4] = 0\n",
    "neurons_h[fl_h][idx_h_r_idx, 10:12] = 0\n",
    "v_h = neurons_h\n",
    "th"
   ]
  },
  {
   "cell_type": "code",
   "execution_count": null,
   "id": "fdf544bb-e645-41db-a97b-69c21181aa5f",
   "metadata": {},
   "outputs": [],
   "source": [
    "show_activation(neurons_h[fl_h])"
   ]
  },
  {
   "cell_type": "code",
   "execution_count": null,
   "id": "d1703ad0-855d-4c88-a569-df3d2c2ab9a2",
   "metadata": {},
   "outputs": [],
   "source": [
    "layer_fca = LayerFCA(V_X_train, U_X_train, data_train)\n",
    "G_v, v_D, u_D, G_u, G_v_test, G_u_test, uncn_reps = layer_fca.find_G_v_us(\n",
    "    v_h, \n",
    "    V_X_test, \n",
    "    U_X_test, \n",
    "    data_test\n",
    ")\n",
    "uncn_reps"
   ]
  },
  {
   "cell_type": "code",
   "execution_count": null,
   "id": "bb38dce6-41e0-4b44-be66-a38c1a2607b3",
   "metadata": {},
   "outputs": [],
   "source": [
    "show_grid(G_v_test, data_test, nrow=32)"
   ]
  },
  {
   "cell_type": "code",
   "execution_count": null,
   "id": "1e73d6b8-3057-4c06-b078-bb7d5200c403",
   "metadata": {},
   "outputs": [],
   "source": [
    "# show_grid(G_u_test, data_test, nrow=32)"
   ]
  },
  {
   "cell_type": "code",
   "execution_count": null,
   "id": "b70a5c71-b049-48ef-a767-515509550138",
   "metadata": {},
   "outputs": [],
   "source": [
    "# v_l = [v_v, v_h]\n",
    "v_l = [v_d, v_h]\n",
    "v = np.max(np.array(v_l), axis=0)\n",
    "v.shape"
   ]
  },
  {
   "cell_type": "code",
   "execution_count": null,
   "id": "3e7ef6fe-0f44-4ecf-b5bb-a917b6bd1162",
   "metadata": {},
   "outputs": [],
   "source": [
    "layer_fca = LayerFCA(V_X_train, U_X_train, data_train)\n",
    "G_v, v_D, u_D, G_u, G_v_test, G_u_test, uncn_reps = layer_fca.find_G_v_us(\n",
    "    v, \n",
    "    V_X_test, \n",
    "    U_X_test, \n",
    "    data_test\n",
    ")\n",
    "uncn_reps"
   ]
  },
  {
   "cell_type": "code",
   "execution_count": null,
   "id": "714bee15-953b-4ed5-9549-68db9403962e",
   "metadata": {},
   "outputs": [],
   "source": [
    "show_grid(G_v_test, data_test, nrow=32)"
   ]
  },
  {
   "cell_type": "code",
   "execution_count": null,
   "id": "91bf5389-0f3d-433f-a930-d11b4cb96233",
   "metadata": {},
   "outputs": [],
   "source": [
    "show_grid(G_u_test, data_test, nrow=64)"
   ]
  },
  {
   "cell_type": "code",
   "execution_count": null,
   "id": "98833ed6-2953-4422-816c-cff9abfe8ec5",
   "metadata": {},
   "outputs": [],
   "source": []
  }
 ],
 "metadata": {
  "kernelspec": {
   "display_name": "Python 3 (ipykernel)",
   "language": "python",
   "name": "python3"
  },
  "language_info": {
   "codemirror_mode": {
    "name": "ipython",
    "version": 3
   },
   "file_extension": ".py",
   "mimetype": "text/x-python",
   "name": "python",
   "nbconvert_exporter": "python",
   "pygments_lexer": "ipython3",
   "version": "3.12.3"
  }
 },
 "nbformat": 4,
 "nbformat_minor": 5
}
