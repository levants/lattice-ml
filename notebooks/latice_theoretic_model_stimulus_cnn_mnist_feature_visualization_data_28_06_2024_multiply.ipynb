{
 "cells": [
  {
   "cell_type": "code",
   "execution_count": null,
   "id": "71ce37e9",
   "metadata": {},
   "outputs": [],
   "source": [
    "%load_ext autoreload\n",
    "%autoreload 2\n",
    "\n",
    "%matplotlib inline"
   ]
  },
  {
   "cell_type": "markdown",
   "id": "5b560092",
   "metadata": {},
   "source": [
    "## Install libraries"
   ]
  },
  {
   "cell_type": "code",
   "execution_count": null,
   "id": "69b65bf2-6556-48a6-826d-5cfe43eddab7",
   "metadata": {},
   "outputs": [],
   "source": [
    "from IPython.display import display, Javascript\n",
    "\n",
    "display(Javascript('''\n",
    "(function() {\n",
    "    var interval = setInterval(function() {\n",
    "        if (typeof google !== 'undefined' && google.translate && google.translate.TranslateElement) {\n",
    "            clearInterval(interval);\n",
    "            google.translate.TranslateElement = function() {};\n",
    "            document.getElementById('google_translate_element')?.remove();\n",
    "        }\n",
    "    }, 1000);\n",
    "})();\n",
    "'''))"
   ]
  },
  {
   "cell_type": "markdown",
   "id": "b4cab43a",
   "metadata": {},
   "source": [
    "## Update repository"
   ]
  },
  {
   "cell_type": "code",
   "execution_count": null,
   "id": "46bcb5dc",
   "metadata": {},
   "outputs": [],
   "source": [
    "! git pull"
   ]
  },
  {
   "cell_type": "markdown",
   "id": "bad216da",
   "metadata": {},
   "source": [
    "## Add import path"
   ]
  },
  {
   "cell_type": "code",
   "execution_count": null,
   "id": "baafb705",
   "metadata": {},
   "outputs": [],
   "source": [
    "import os\n",
    "import sys\n",
    "import gc"
   ]
  },
  {
   "cell_type": "code",
   "execution_count": null,
   "id": "b2930983",
   "metadata": {},
   "outputs": [],
   "source": [
    "module_path = os.path.abspath(os.path.join('..'))\n",
    "if module_path not in sys.path:\n",
    "    sys.path.append(module_path)"
   ]
  },
  {
   "cell_type": "code",
   "execution_count": null,
   "id": "7984d32f",
   "metadata": {},
   "outputs": [],
   "source": [
    "del module_path"
   ]
  },
  {
   "cell_type": "markdown",
   "id": "07a1e9c8",
   "metadata": {},
   "source": [
    "## Organize imports"
   ]
  },
  {
   "cell_type": "code",
   "execution_count": null,
   "id": "ae177357",
   "metadata": {},
   "outputs": [],
   "source": [
    "import multiprocessing\n",
    "from pathlib import Path\n",
    "from collections import OrderedDict\n",
    "import logging"
   ]
  },
  {
   "cell_type": "code",
   "execution_count": null,
   "id": "25750a3d",
   "metadata": {},
   "outputs": [],
   "source": [
    "import matplotlib.pyplot as plt\n",
    "import seaborn as sns\n",
    "import numpy as np"
   ]
  },
  {
   "cell_type": "code",
   "execution_count": null,
   "id": "96b53c98-9137-444e-b868-deecac303673",
   "metadata": {},
   "outputs": [],
   "source": [
    "from tqdm import tqdm"
   ]
  },
  {
   "cell_type": "code",
   "execution_count": null,
   "id": "125950ab",
   "metadata": {},
   "outputs": [],
   "source": [
    "import torch\n",
    "from torch import nn\n",
    "from torch.utils.data import DataLoader\n",
    "from torchvision import transforms\n",
    "from torchvision.datasets import MNIST"
   ]
  },
  {
   "cell_type": "code",
   "execution_count": null,
   "id": "262d0a5a-ccb6-4a7d-a4a2-76a276c2ce88",
   "metadata": {},
   "outputs": [],
   "source": [
    "from src.lattmc.fca.utils import *\n",
    "from src.lattmc.fca.data_utils import *\n",
    "from src.lattmc.fca.image_utils import *\n",
    "from src.lattmc.fca.models import *\n",
    "from src.lattmc.fca.fca_utils import *\n",
    "from src.lattmc.fca.image_gens import *"
   ]
  },
  {
   "cell_type": "markdown",
   "id": "65f31e93",
   "metadata": {},
   "source": [
    "#### Number of CPU cores"
   ]
  },
  {
   "cell_type": "code",
   "execution_count": null,
   "id": "b41c30f2",
   "metadata": {},
   "outputs": [],
   "source": [
    "workers = multiprocessing.cpu_count()\n",
    "workers"
   ]
  },
  {
   "cell_type": "code",
   "execution_count": null,
   "id": "59f41838-322d-41e8-b8e1-6712089703c9",
   "metadata": {},
   "outputs": [],
   "source": [
    "SEED = 2024"
   ]
  },
  {
   "cell_type": "markdown",
   "id": "0ccf4792-19f1-4d01-b9c2-ddea2462cadc",
   "metadata": {},
   "source": [
    "## Initialize Path"
   ]
  },
  {
   "cell_type": "code",
   "execution_count": null,
   "id": "bcd545b8-0e15-41e9-92a9-4d0bf260c8b8",
   "metadata": {},
   "outputs": [],
   "source": [
    "PATH = Path('data')\n",
    "model_dir = PATH / 'models'\n",
    "model_path = model_dir / 'simple_cnn_mnist_model.ckpt'\n",
    "config_dir = PATH / 'config'\n",
    "config_dir.mkdir(exist_ok=True, parents=True)\n",
    "config_1_layer_path = config_dir / 'neurons_1_layer.json'\n",
    "config_cnn_layer_1 = config_dir / 'neurons_cnn_1_layer.json'\n",
    "images_dir = PATH / 'images'\n",
    "images_dir.mkdir(exist_ok=True, parents=True)\n",
    "pumpkin_path = PATH / 'Pumpkin_Seeds_Dataset.xlsx'"
   ]
  },
  {
   "cell_type": "markdown",
   "id": "67b7d099-7346-4521-a81b-9e3ca5dbfdb0",
   "metadata": {},
   "source": [
    "## Load the model"
   ]
  },
  {
   "cell_type": "code",
   "execution_count": null,
   "id": "f365d055-0da1-4809-828e-a314a1bc621c",
   "metadata": {},
   "outputs": [],
   "source": [
    "model = torch.load(model_path, map_location='cpu')"
   ]
  },
  {
   "cell_type": "code",
   "execution_count": null,
   "id": "756fc5e6-fcfa-4874-bd72-4263b7262511",
   "metadata": {},
   "outputs": [],
   "source": [
    "def clear_state_dict(state_dict):\n",
    "    for key in list(state_dict.keys()):\n",
    "        state_dict[key.replace('model.0.', 'conv1.')] = state_dict.pop(key)\n",
    "    for key in list(state_dict.keys()):\n",
    "        state_dict[key.replace('model.3.', 'conv2.')] = state_dict.pop(key)\n",
    "    for key in list(state_dict.keys()):\n",
    "        state_dict[key.replace('model.8.', 'fc1.')] = state_dict.pop(key)\n",
    "    for key in list(state_dict.keys()):\n",
    "        state_dict[key.replace('model.11.', 'fc2.')] = state_dict.pop(key)\n",
    "\n",
    "    return state_dict"
   ]
  },
  {
   "cell_type": "code",
   "execution_count": null,
   "id": "f94db6e0-040a-4bf9-b911-a4d7e04854c4",
   "metadata": {},
   "outputs": [],
   "source": [
    "state_dict = clear_state_dict(model['state_dict'])"
   ]
  },
  {
   "cell_type": "code",
   "execution_count": null,
   "id": "5b0f65ba-7ccc-4fb6-a82b-e62e973f2b85",
   "metadata": {},
   "outputs": [],
   "source": [
    "net = nn.Sequential(OrderedDict([\n",
    "    ('conv1', nn.Conv2d(1, 32, kernel_size=3, stride=1, padding=1)),\n",
    "    ('act1', nn.ReLU()),\n",
    "    ('mxp1', nn.MaxPool2d(kernel_size=2, stride=2)),\n",
    "    ('conv2', nn.Conv2d(32, 64, kernel_size=3, stride=1, padding=1)),\n",
    "    ('act2', nn.ReLU()),\n",
    "    ('mxp2', nn.MaxPool2d(kernel_size=2, stride=2)),\n",
    "    ('flatten', nn.Flatten()),\n",
    "    ('fc1', nn.Linear(64 * 7 * 7, 128)),\n",
    "    ('act3', nn.ReLU()),\n",
    "    ('fc2', nn.Linear(128, 10)),\n",
    "]))"
   ]
  },
  {
   "cell_type": "code",
   "execution_count": null,
   "id": "b53a9e71-4cee-4564-9deb-52feaf94fb57",
   "metadata": {},
   "outputs": [],
   "source": [
    "net.load_state_dict(state_dict)"
   ]
  },
  {
   "cell_type": "code",
   "execution_count": null,
   "id": "75c19bf4-50a2-4578-b6f3-563c43d93ae8",
   "metadata": {},
   "outputs": [],
   "source": [
    "net = net.eval()"
   ]
  },
  {
   "cell_type": "markdown",
   "id": "cae6cb9b-e48c-44e6-b0ec-8907629451e1",
   "metadata": {},
   "source": [
    "## Initialize MNIST dataset"
   ]
  },
  {
   "cell_type": "code",
   "execution_count": null,
   "id": "b5a613d8-e5ac-4a78-9e79-983e19ffb93d",
   "metadata": {},
   "outputs": [],
   "source": [
    "transform = transforms.Compose(\n",
    "            [\n",
    "                ToTensor(),\n",
    "                transforms.Normalize((0.1307,), (0.3081,)),\n",
    "            ]\n",
    ")"
   ]
  },
  {
   "cell_type": "code",
   "execution_count": null,
   "id": "9d206541-1930-4ce3-a629-b9deed2b7c0f",
   "metadata": {},
   "outputs": [],
   "source": [
    "data_train = MNIST(images_dir, train=True, download=True)\n",
    "data_test = MNIST(images_dir, train=False, download=True)"
   ]
  },
  {
   "cell_type": "code",
   "execution_count": null,
   "id": "55a9639b-ba83-4a8f-a06d-5d8e68f08cfc",
   "metadata": {},
   "outputs": [],
   "source": [
    "next(net.parameters()).device"
   ]
  },
  {
   "cell_type": "code",
   "execution_count": null,
   "id": "b34a7580-c9fe-4db9-adab-f7ffd8115c05",
   "metadata": {},
   "outputs": [],
   "source": [
    "device = find_device()\n",
    "device"
   ]
  },
  {
   "cell_type": "code",
   "execution_count": null,
   "id": "0ed4ff52-8905-4cbd-83b3-79a12a7d21f8",
   "metadata": {},
   "outputs": [],
   "source": [
    "wnet = NetWrapper(net, transform)"
   ]
  },
  {
   "cell_type": "code",
   "execution_count": null,
   "id": "24107477-a096-4454-8498-51ec736609ee",
   "metadata": {},
   "outputs": [],
   "source": [
    "wnet.net"
   ]
  },
  {
   "cell_type": "code",
   "execution_count": null,
   "id": "b4ed25af-cd8a-45f4-be1b-b2bcbc368e68",
   "metadata": {
    "scrolled": true
   },
   "outputs": [],
   "source": [
    "wnet.net[:6]"
   ]
  },
  {
   "cell_type": "code",
   "execution_count": null,
   "id": "6dec2f3e-5d5a-4b7b-b2fd-5c2266f54087",
   "metadata": {},
   "outputs": [],
   "source": [
    "layer_V_n = 3\n",
    "layer_U_n = 6"
   ]
  },
  {
   "cell_type": "code",
   "execution_count": null,
   "id": "41b27625-58b2-4cfd-99de-8a5f2a3f684b",
   "metadata": {},
   "outputs": [],
   "source": [
    "wnet.device"
   ]
  },
  {
   "cell_type": "code",
   "execution_count": null,
   "id": "6c613730-234a-4097-9804-6cf11d81735f",
   "metadata": {},
   "outputs": [],
   "source": [
    "bs = 8"
   ]
  },
  {
   "cell_type": "code",
   "execution_count": null,
   "id": "7da39f11-54d0-4e2b-8ab6-fdc8d895a058",
   "metadata": {},
   "outputs": [],
   "source": [
    "V_X_train, X_V_train = layer_V(data_train, wnet, k=layer_V_n, bs=bs)"
   ]
  },
  {
   "cell_type": "code",
   "execution_count": null,
   "id": "5f62f114-37a5-4c98-b955-c133ff39ed12",
   "metadata": {},
   "outputs": [],
   "source": [
    "V_X_test, X_V_test = layer_V(data_test, wnet, k=layer_V_n, bs=bs)"
   ]
  },
  {
   "cell_type": "code",
   "execution_count": null,
   "id": "83f78423-c986-4815-86d6-b0582f8c150b",
   "metadata": {},
   "outputs": [],
   "source": [
    "U_X_train, X_U_train = layer_V(data_train, wnet, k=layer_U_n, bs=bs)"
   ]
  },
  {
   "cell_type": "code",
   "execution_count": null,
   "id": "fb115167-5947-4fa3-b4fc-aa8862a0d0d7",
   "metadata": {},
   "outputs": [],
   "source": [
    "U_X_test, X_U_test = layer_V(data_test, wnet, k=layer_U_n, bs=bs)"
   ]
  },
  {
   "cell_type": "markdown",
   "id": "e16cfea8-ae7e-4209-89fb-dbd1dfa3ad79",
   "metadata": {},
   "source": [
    "## Sorting vectors"
   ]
  },
  {
   "cell_type": "code",
   "execution_count": null,
   "id": "17927a97-ba89-4227-9e58-1397dfa5946b",
   "metadata": {
    "scrolled": true
   },
   "outputs": [],
   "source": [
    "V_X_digits, V_X_sorteds = sort_V_X(V_X_train, data_train)"
   ]
  },
  {
   "cell_type": "markdown",
   "id": "7e3b79ba-84e6-455d-afca-b7674b9750e4",
   "metadata": {},
   "source": [
    "## Alanyze maximum stimulus"
   ]
  },
  {
   "cell_type": "code",
   "execution_count": null,
   "id": "de1615bf-d4d1-43f0-9006-17bc899c1602",
   "metadata": {},
   "outputs": [],
   "source": [
    "v_Ds = dict()\n",
    "u_Ds = dict()\n",
    "G_v_tests = dict()\n",
    "G_u_tests = dict()\n",
    "uncn_dict = dict()"
   ]
  },
  {
   "cell_type": "code",
   "execution_count": null,
   "id": "5de91ddf-3ad2-4dbf-a2ce-87c4d61cebf9",
   "metadata": {},
   "outputs": [],
   "source": [
    "i = 9\n",
    "ths = [\n",
    "    568, #0\n",
    "    330, #1\n",
    "    672, #2\n",
    "    580, #3\n",
    "    470, #4\n",
    "    590, #5\n",
    "    484, #6\n",
    "    544, #7\n",
    "    640, #8\n",
    "    584  #9\n",
    "]\n",
    "v = np.copy(V_X_sorteds[i][ths[i]])"
   ]
  },
  {
   "cell_type": "code",
   "execution_count": null,
   "id": "2a8b2bef-6047-4e8b-a4e8-858ae0fcd875",
   "metadata": {
    "scrolled": true
   },
   "outputs": [],
   "source": [
    "for i in range(10):\n",
    "    layer_fca = LayerFCA(V_X_train, U_X_train, data_train)\n",
    "    G_v, v_D, u_D, G_u, G_v_test, G_u_test, uncn_reps = layer_fca.find_G_v_us(\n",
    "        v, \n",
    "        V_X_test, \n",
    "        U_X_test, \n",
    "        data_test\n",
    "    )\n",
    "    v_Ds[i] = v_D\n",
    "    u_Ds[i] = u_D\n",
    "    G_v_tests[i] = G_v_test\n",
    "    G_u_tests[i] = G_u_test\n",
    "    uncn_dict[i] = uncn_reps"
   ]
  },
  {
   "cell_type": "code",
   "execution_count": null,
   "id": "38dbb691-441d-46ab-9e1d-7edf59c5bc2f",
   "metadata": {},
   "outputs": [],
   "source": [
    "uncn_dict[i]"
   ]
  },
  {
   "cell_type": "code",
   "execution_count": null,
   "id": "4c6f5e65-5b95-4d63-b48e-1534e9a030fd",
   "metadata": {},
   "outputs": [],
   "source": [
    "show_grid(G_v_tests[i], data_test, nrow=32)"
   ]
  },
  {
   "cell_type": "code",
   "execution_count": null,
   "id": "e235e89b-43ed-43e5-a7f7-c142773ac01a",
   "metadata": {},
   "outputs": [],
   "source": [
    "show_grid(G_u_tests[i], data_test, nrow=32)"
   ]
  },
  {
   "cell_type": "code",
   "execution_count": null,
   "id": "433d460e-bee7-46e5-b246-db3e3312026b",
   "metadata": {},
   "outputs": [],
   "source": [
    "y_hs = np.argmax(wnet(*[data_test[idx][0] for idx in G_u_test]))"
   ]
  },
  {
   "cell_type": "code",
   "execution_count": null,
   "id": "16db8da9-062e-411a-bebc-f0cbe7c32776",
   "metadata": {},
   "outputs": [],
   "source": [
    "uncn_hat = layer_fca.count_ys(y_hs)"
   ]
  },
  {
   "cell_type": "code",
   "execution_count": null,
   "id": "6b8f766b-b25e-4268-89e7-bd91d8143c10",
   "metadata": {},
   "outputs": [],
   "source": [
    "show_grid(G_u_tests[i], data_test, nrow=48, h=64, w=64, my=i)"
   ]
  },
  {
   "cell_type": "markdown",
   "id": "08c9dd34-80d6-44fb-b460-a5a802e78db7",
   "metadata": {},
   "source": [
    "## Experiments with shapes"
   ]
  },
  {
   "cell_type": "code",
   "execution_count": null,
   "id": "a8e44924-6462-4535-a6f5-33d9cf14f151",
   "metadata": {},
   "outputs": [],
   "source": [
    "# Example usage\n",
    "dataset = CustomShapeDataset(num_samples=1000)\n",
    "# dataloader = DataLoader(dataset, batch_size=1, shuffle=True)\n",
    "\n",
    "shapes_shp = get_digits(dataset)\n",
    "\n",
    "data_digits = get_digits(data_train)\n",
    "\n",
    "# Get a batch of images\n",
    "images, labels = zip(*[(x, y) for idx_l, (x, y) in enumerate(dataset) if idx_l < 32])\n",
    "\n",
    "asgn_max = True\n",
    "\n",
    "# Show a batch of images\n",
    "show_images(images[:16], labels[:16])"
   ]
  },
  {
   "cell_type": "code",
   "execution_count": null,
   "id": "13ff166e-c242-404b-a2fd-9f2164784d4f",
   "metadata": {},
   "outputs": [],
   "source": [
    "ring = np.copy(shapes_shp['nring'][0][0].numpy())\n",
    "ring[-13 :, :] = 0\n",
    "plt.imshow(ring)"
   ]
  },
  {
   "cell_type": "code",
   "execution_count": null,
   "id": "cedf1770-e479-48d8-a141-abc2552a181b",
   "metadata": {},
   "outputs": [],
   "source": [
    "v_X_shapes_c = wnet(ring, k=layer_V_n)\n",
    "visualize_slices(v_X_shapes_c[0])"
   ]
  },
  {
   "cell_type": "code",
   "execution_count": null,
   "id": "415443d0-6c5f-4aef-94e7-fb791d25a44c",
   "metadata": {},
   "outputs": [],
   "source": [
    "c_idx = 0\n",
    "max_index, _, v_c = set_v(v_X_shapes_c[c_idx], denm=4.0, val_th=0.2, asgn_max=asgn_max)\n",
    "show_activation(v_c[max_index[0]])"
   ]
  },
  {
   "cell_type": "code",
   "execution_count": null,
   "id": "248cb72f-99a1-48b7-849a-f05556c1e269",
   "metadata": {},
   "outputs": [],
   "source": [
    "layer_fca = LayerFCA(V_X_train, U_X_train, data_train)\n",
    "G_v, v_D, u_D, G_u, G_v_test, G_u_test, uncn_reps = layer_fca.find_G_v_us(\n",
    "    v_c, \n",
    "    V_X_test, \n",
    "    U_X_test, \n",
    "    data_test\n",
    ")\n",
    "print(uncn_reps)\n",
    "show_grid(G_v_test, data_test, nrow=32)"
   ]
  },
  {
   "cell_type": "code",
   "execution_count": null,
   "id": "5a1ef9c7-fcb7-4d58-8fe5-a10f89805ec3",
   "metadata": {},
   "outputs": [],
   "source": [
    "v_X_shapes_v = np.array(wnet(*shapes_shp['vertical_line'], k=layer_V_n))\n",
    "v_X_shapes_h = np.array(wnet(*shapes_shp['horizontal_line'], k=layer_V_n))\n",
    "v_X_shapes_e = np.array(wnet(*shapes_shp['sring'], k=layer_V_n))\n",
    "v_X_shapes_r = np.array(wnet(*shapes_shp['nring'], k=layer_V_n))\n",
    "v_X_shapes_v.shape, v_X_shapes_h.shape, v_X_shapes_e.shape, v_X_shapes_r.shape"
   ]
  },
  {
   "cell_type": "code",
   "execution_count": null,
   "id": "ee2c6853-896d-4419-94ec-ef7532878c7f",
   "metadata": {},
   "outputs": [],
   "source": [
    "i = 3"
   ]
  },
  {
   "cell_type": "code",
   "execution_count": null,
   "id": "2f95786f-83f9-4471-ae64-6bd63c497064",
   "metadata": {},
   "outputs": [],
   "source": [
    "show_img(shapes_shp['vertical_line'], i)"
   ]
  },
  {
   "cell_type": "code",
   "execution_count": null,
   "id": "349f8adb-dd53-4805-a899-a449f813ef7f",
   "metadata": {},
   "outputs": [],
   "source": [
    "visualize_slices(v_X_shapes_h[i])"
   ]
  },
  {
   "cell_type": "code",
   "execution_count": null,
   "id": "1083818e-973a-4472-b5c3-1c20f379956d",
   "metadata": {},
   "outputs": [],
   "source": [
    "diag = torch.zeros((28, 28), dtype=torch.float32)\n",
    "for i in range(12, 18):\n",
    "    diag[28 - i, i] = 255\n",
    "diag /= 255\n",
    "# diag = diag.t()\n",
    "plt.imshow(diag)"
   ]
  },
  {
   "cell_type": "code",
   "execution_count": null,
   "id": "76096e4d-8d57-4b5c-a396-b79887357d70",
   "metadata": {},
   "outputs": [],
   "source": [
    "v_X_shapes_d = wnet(diag.unsqueeze(0), k=layer_V_n)\n",
    "visualize_slices(v_X_shapes_d[0])"
   ]
  },
  {
   "cell_type": "code",
   "execution_count": null,
   "id": "36130242-c97d-49c4-b9d2-8f33129ed0d3",
   "metadata": {},
   "outputs": [],
   "source": [
    "d_idx = 0\n",
    "max_index, _, v_d = set_v(v_X_shapes_d[d_idx], denm=4.0, val_th=0.2, asgn_max=asgn_max)\n",
    "show_activation(v_d[max_index[0]])"
   ]
  },
  {
   "cell_type": "code",
   "execution_count": null,
   "id": "394b828b-3466-4cd9-95a7-aa3809031ef3",
   "metadata": {},
   "outputs": [],
   "source": [
    "layer_fca = LayerFCA(V_X_train, U_X_train, data_train)\n",
    "G_v, v_D, u_D, G_u, G_v_test, G_u_test, uncn_reps = layer_fca.find_G_v_us(\n",
    "    v_d, \n",
    "    V_X_test, \n",
    "    U_X_test, \n",
    "    data_test\n",
    ")\n",
    "print(uncn_reps)\n",
    "show_grid(G_v_test, data_test, nrow=32)"
   ]
  },
  {
   "cell_type": "code",
   "execution_count": null,
   "id": "da2ad872-dcb5-434c-9648-2d565d8730a1",
   "metadata": {},
   "outputs": [],
   "source": [
    "visualize_slices(v_X_shapes_v[0])"
   ]
  },
  {
   "cell_type": "code",
   "execution_count": null,
   "id": "d35b15ca-3046-4c5f-9c43-6c4bcedbaf79",
   "metadata": {},
   "outputs": [],
   "source": [
    "v_idx = 0\n",
    "max_index, _, v_v = set_v(v_X_shapes_v[v_idx], denm=4.0, val_th=0.2, asgn_max=asgn_max)\n",
    "show_activation(v_v[max_index[0]])"
   ]
  },
  {
   "cell_type": "code",
   "execution_count": null,
   "id": "c2190bfb-3b6b-4acd-9b1a-676605a4d9a1",
   "metadata": {},
   "outputs": [],
   "source": [
    "layer_fca = LayerFCA(V_X_train, U_X_train, data_train)\n",
    "G_v, v_D, u_D, G_u, G_v_test, G_u_test, uncn_reps = layer_fca.find_G_v_us(\n",
    "    v_v, \n",
    "    V_X_test, \n",
    "    U_X_test, \n",
    "    data_test\n",
    ")\n",
    "print(uncn_reps)\n",
    "show_grid(G_v_test, data_test, nrow=32)"
   ]
  },
  {
   "cell_type": "code",
   "execution_count": null,
   "id": "83c66f36-8fb9-47d2-bc0a-2274e4db97df",
   "metadata": {},
   "outputs": [],
   "source": [
    "h_idx = 0\n",
    "max_index, _, v_h = set_v(v_X_shapes_h[h_idx], denm=4.0, val_th=0.2, asgn_max=asgn_max)\n",
    "show_activation(v_h[max_index[0]])"
   ]
  },
  {
   "cell_type": "code",
   "execution_count": null,
   "id": "d1703ad0-855d-4c88-a569-df3d2c2ab9a2",
   "metadata": {},
   "outputs": [],
   "source": [
    "layer_fca = LayerFCA(V_X_train, U_X_train, data_train)\n",
    "G_v, v_D, u_D, G_u, G_v_test, G_u_test, uncn_reps = layer_fca.find_G_v_us(\n",
    "    v_h, \n",
    "    V_X_test, \n",
    "    U_X_test, \n",
    "    data_test\n",
    ")\n",
    "print(uncn_reps)\n",
    "show_grid(G_v_test, data_test, nrow=32)"
   ]
  },
  {
   "cell_type": "code",
   "execution_count": null,
   "id": "c8c5cc29-7412-4801-87ed-fed9d6d6cd01",
   "metadata": {},
   "outputs": [],
   "source": [
    "c_idx = 0\n",
    "max_index, _, v_c = set_v(v_X_shapes_c[c_idx], denm=4.0, val_th=0.2, asgn_max=asgn_max)\n",
    "show_activation(v_c[max_index[0]])"
   ]
  },
  {
   "cell_type": "code",
   "execution_count": null,
   "id": "3f9c250b-e80b-46db-a725-c8d50d10f296",
   "metadata": {},
   "outputs": [],
   "source": [
    "layer_fca = LayerFCA(V_X_train, U_X_train, data_train)\n",
    "G_v, v_D, u_D, G_u, G_v_test, G_u_test, uncn_reps = layer_fca.find_G_v_us(\n",
    "    v_c, \n",
    "    V_X_test, \n",
    "    U_X_test, \n",
    "    data_test\n",
    ")\n",
    "print(uncn_reps)\n",
    "show_grid(G_v_test, data_test, nrow=32)"
   ]
  },
  {
   "cell_type": "code",
   "execution_count": null,
   "id": "1a26c8d8-c35e-470c-8737-71cd33b2b8a1",
   "metadata": {},
   "outputs": [],
   "source": [
    "e_idx = 0\n",
    "max_index, _, v_e = set_v(v_X_shapes_e[e_idx], denm=4.0, val_th=0.2, asgn_max=asgn_max)\n",
    "show_activation(v_e[max_index[0]])"
   ]
  },
  {
   "cell_type": "code",
   "execution_count": null,
   "id": "b3b8d2d2-830f-4bbb-b626-b09920b3ed80",
   "metadata": {},
   "outputs": [],
   "source": [
    "layer_fca = LayerFCA(V_X_train, U_X_train, data_train)\n",
    "G_v, v_D, u_D, G_u, G_v_test, G_u_test, uncn_reps = layer_fca.find_G_v_us(\n",
    "    v_e, \n",
    "    V_X_test, \n",
    "    U_X_test, \n",
    "    data_test\n",
    ")\n",
    "print(uncn_reps)\n",
    "show_grid(G_v_test, data_test, nrow=32)"
   ]
  },
  {
   "cell_type": "code",
   "execution_count": null,
   "id": "b70a5c71-b049-48ef-a767-515509550138",
   "metadata": {},
   "outputs": [],
   "source": [
    "v_l = [\n",
    "    v_v,\n",
    "    v_d, \n",
    "    v_h,\n",
    "]\n",
    "v = np.max(np.array(v_l), axis=0)\n",
    "v.shape"
   ]
  },
  {
   "cell_type": "code",
   "execution_count": null,
   "id": "3e7ef6fe-0f44-4ecf-b5bb-a917b6bd1162",
   "metadata": {},
   "outputs": [],
   "source": [
    "layer_fca = LayerFCA(V_X_train, U_X_train, data_train)\n",
    "G_v, v_D, u_D, G_u, G_v_test, G_u_test, uncn_reps = layer_fca.find_G_v_us(\n",
    "    v, \n",
    "    V_X_test, \n",
    "    U_X_test, \n",
    "    data_test\n",
    ")\n",
    "print(uncn_reps)\n",
    "show_grid(G_v_test, data_test, nrow=32)"
   ]
  },
  {
   "cell_type": "code",
   "execution_count": null,
   "id": "91bf5389-0f3d-433f-a930-d11b4cb96233",
   "metadata": {},
   "outputs": [],
   "source": [
    "show_grid(G_u_test, data_test, nrow=64)"
   ]
  },
  {
   "cell_type": "code",
   "execution_count": null,
   "id": "f09fb2ca-2e86-4fd3-bbfe-26e33208225c",
   "metadata": {},
   "outputs": [],
   "source": [
    "show(data_digits[0][52:65])"
   ]
  },
  {
   "cell_type": "code",
   "execution_count": null,
   "id": "41406749-7875-4d30-94d0-f31d6672e9d8",
   "metadata": {},
   "outputs": [],
   "source": [
    "img_indices = [2, 3, 9, 10, 12, 16, 34, 38, 39, 53, 55, 58, 62]\n",
    "show([data_digits[0][k] for k in img_indices])"
   ]
  },
  {
   "cell_type": "code",
   "execution_count": null,
   "id": "c273255a-d214-414d-a4d0-8aa58edd977e",
   "metadata": {},
   "outputs": [],
   "source": [
    "z_idx = 2\n",
    "max_index, _, v_z = set_vs(*V_X_digits[0][img_indices], denm=2.0, val_th=0.2, asgn_max=asgn_max, verbose=logging.DEBUG)\n",
    "v_z[17, 11, 4] = 1 \n",
    "show_activation(v_z[max_index[0][0]])"
   ]
  },
  {
   "cell_type": "code",
   "execution_count": null,
   "id": "98de8311-1f28-4f53-8e1d-d318c4916f52",
   "metadata": {},
   "outputs": [],
   "source": [
    "layer_fca = LayerFCA(V_X_train, U_X_train, data_train)\n",
    "G_v, v_D, u_D, G_u, G_v_test, G_u_test, uncn_reps = layer_fca.find_G_v_us(\n",
    "    v_z, \n",
    "    V_X_test, \n",
    "    U_X_test, \n",
    "    data_test\n",
    ")\n",
    "print(uncn_reps)\n",
    "show_grid(G_v_test, data_test, nrow=32)"
   ]
  },
  {
   "cell_type": "code",
   "execution_count": null,
   "id": "b6877e03-751c-4ebe-b72a-c177adea8bd5",
   "metadata": {},
   "outputs": [],
   "source": [
    "show_grid(G_u_test, data_test, nrow=64)"
   ]
  },
  {
   "cell_type": "code",
   "execution_count": null,
   "id": "35b4b901-9e31-4fd2-8b1a-7a4bf6c9d5de",
   "metadata": {},
   "outputs": [],
   "source": [
    "show(data_digits[1][52:65])"
   ]
  },
  {
   "cell_type": "code",
   "execution_count": null,
   "id": "5a640294-7e70-4ea0-a8c8-8734209a65f1",
   "metadata": {},
   "outputs": [],
   "source": [
    "img_indices = [0, 4, 7, 11, 12, 16, 18, 24, 27, 28, 39, 41, 42, 43, 44, 45, 50] #+ [55, 56, 59] #+ [60, 62, 64]\n",
    "show([data_digits[1][k] for k in img_indices])"
   ]
  },
  {
   "cell_type": "code",
   "execution_count": null,
   "id": "a236536e-35a0-4359-ba3b-c02b63a5c1b9",
   "metadata": {},
   "outputs": [],
   "source": [
    "o_idx = 2\n",
    "max_index, _, v_o = set_vs(*V_X_digits[1][img_indices], denm=2.0, val_th=0.2, asgn_max=asgn_max, verbose=logging.DEBUG)\n",
    "show_activation(v_o[max_index[0][0]])"
   ]
  },
  {
   "cell_type": "code",
   "execution_count": null,
   "id": "8f9d8e89-05ee-4fa6-bfb7-11deb3592ed5",
   "metadata": {},
   "outputs": [],
   "source": [
    "layer_fca = LayerFCA(V_X_train, U_X_train, data_train)\n",
    "G_v, v_D, u_D, G_u, G_v_test, G_u_test, uncn_reps = layer_fca.find_G_v_us(\n",
    "    v_o, \n",
    "    V_X_test, \n",
    "    U_X_test, \n",
    "    data_test\n",
    ")\n",
    "print(uncn_reps)\n",
    "show_grid(G_v_test, data_test, nrow=32)"
   ]
  },
  {
   "cell_type": "code",
   "execution_count": null,
   "id": "7c1c9801-9d8f-4856-98cb-37b28ddb44c0",
   "metadata": {},
   "outputs": [],
   "source": [
    "show_grid(G_u_test, data_test, nrow=64)"
   ]
  },
  {
   "cell_type": "code",
   "execution_count": null,
   "id": "8956c939-4605-497a-911a-0a4e9fb8c441",
   "metadata": {},
   "outputs": [],
   "source": [
    "show(data_digits[2][26:39])"
   ]
  },
  {
   "cell_type": "code",
   "execution_count": null,
   "id": "000a889c-2d38-451c-8d82-3f3ad0ab9e72",
   "metadata": {},
   "outputs": [],
   "source": [
    "img_indices = [0, 1, 5, 22, 24, 27, 28, 29, 31, 32, 33, 36, 37, 38] #+ [2, 3, 7] + [10, 11, 12]\n",
    "show([data_digits[2][k] for k in img_indices])"
   ]
  },
  {
   "cell_type": "code",
   "execution_count": null,
   "id": "2e01192c-e143-4093-afca-f4214c44d984",
   "metadata": {},
   "outputs": [],
   "source": [
    "t_idx = 2\n",
    "max_index, _, v_t = set_vs(*V_X_digits[2][img_indices], denm=5.0, val_th=0.2, asgn_max=asgn_max, verbose=logging.DEBUG)\n",
    "show_activation(v_t[max_index[0][0]])"
   ]
  },
  {
   "cell_type": "code",
   "execution_count": null,
   "id": "b7c0f643-b528-43a9-b7fa-c6f2b89b500b",
   "metadata": {},
   "outputs": [],
   "source": [
    "layer_fca = LayerFCA(V_X_train, U_X_train, data_train)\n",
    "G_v, v_D, u_D, G_u, G_v_test, G_u_test, uncn_reps = layer_fca.find_G_v_us(\n",
    "    v_t, \n",
    "    V_X_test, \n",
    "    U_X_test, \n",
    "    data_test\n",
    ")\n",
    "print(uncn_reps)\n",
    "show_grid(G_v_test, data_test, nrow=32)"
   ]
  },
  {
   "cell_type": "code",
   "execution_count": null,
   "id": "f2b9b691-d2a1-4e14-8454-6df7051325e8",
   "metadata": {},
   "outputs": [],
   "source": [
    "show_grid(G_u_test, data_test, nrow=32)"
   ]
  },
  {
   "cell_type": "code",
   "execution_count": null,
   "id": "71cad25d-6d51-47ca-8a0d-8211fd593625",
   "metadata": {},
   "outputs": [],
   "source": [
    "nz_idx_v = gen_line_idx(hv_shift=8, sid=4, eid=9, hv='v')\n",
    "neurons_v = np.zeros(v_X_shapes_v[v_idx].shape)\n",
    "neurons_v[fl_v][nz_idx_v] = 0.1\n",
    "v_v = np.copy(neurons_v)\n",
    "show_activation(neurons_v[fl_v])"
   ]
  },
  {
   "cell_type": "code",
   "execution_count": null,
   "id": "a6a64614-c93d-454f-8f34-5dbe905c8cbe",
   "metadata": {},
   "outputs": [],
   "source": [
    "layer_fca = LayerFCA(V_X_train, U_X_train, data_train)\n",
    "G_v, v_D, u_D, G_u, G_v_test, G_u_test, uncn_reps = layer_fca.find_G_v_us(\n",
    "    v_v, \n",
    "    V_X_test, \n",
    "    U_X_test, \n",
    "    data_test\n",
    ")\n",
    "print(uncn_reps)\n",
    "show_grid(G_v_test, data_test, nrow=32)"
   ]
  },
  {
   "cell_type": "code",
   "execution_count": null,
   "id": "e3e13c7d-52c1-4c6a-9fff-0259d6d2bfb6",
   "metadata": {},
   "outputs": [],
   "source": [
    "nz_idx_h = gen_line_idx(hv_shift=3, sid=4, eid=8, hv='h')\n",
    "neurons_h = np.zeros(v_X_shapes_h[h_idx].shape)\n",
    "neurons_h[fl_h][nz_idx_h] = 0.1\n",
    "v_h = np.copy(neurons_h)\n",
    "show_activation(neurons_h[fl_h])"
   ]
  },
  {
   "cell_type": "code",
   "execution_count": null,
   "id": "06c751d8-6be0-467e-ab3e-4f1309ee13eb",
   "metadata": {},
   "outputs": [],
   "source": [
    "layer_fca = LayerFCA(V_X_train, U_X_train, data_train)\n",
    "G_v, v_D, u_D, G_u, G_v_test, G_u_test, uncn_reps = layer_fca.find_G_v_us(\n",
    "    v_h, \n",
    "    V_X_test, \n",
    "    U_X_test, \n",
    "    data_test\n",
    ")\n",
    "print(uncn_reps)\n",
    "show_grid(G_v_test, data_test, nrow=32)"
   ]
  },
  {
   "cell_type": "code",
   "execution_count": null,
   "id": "94be95c3-eaf5-431a-8364-36f32cea3252",
   "metadata": {},
   "outputs": [],
   "source": [
    "v_l = [v_v, v_h]\n",
    "v = np.max(np.array(v_l), axis=0)\n",
    "v.shape"
   ]
  },
  {
   "cell_type": "code",
   "execution_count": null,
   "id": "2872f11e-8bc7-4ec2-a3de-a6f0738daa0f",
   "metadata": {},
   "outputs": [],
   "source": [
    "layer_fca = LayerFCA(V_X_train, U_X_train, data_train)\n",
    "G_v, v_D, u_D, G_u, G_v_test, G_u_test, uncn_reps = layer_fca.find_G_v_us(\n",
    "    v, \n",
    "    V_X_test, \n",
    "    U_X_test, \n",
    "    data_test\n",
    ")\n",
    "print(uncn_reps)\n",
    "show_grid(G_v_test, data_test, nrow=32)"
   ]
  },
  {
   "cell_type": "code",
   "execution_count": null,
   "id": "43b9493e-a2c6-47e6-96db-03a1ec56d578",
   "metadata": {},
   "outputs": [],
   "source": [
    "show_grid(G_u_test, data_test, nrow=32)"
   ]
  },
  {
   "cell_type": "code",
   "execution_count": null,
   "id": "c8d3cb69-0da1-49af-a799-9167b8becd2f",
   "metadata": {},
   "outputs": [],
   "source": []
  }
 ],
 "metadata": {
  "kernelspec": {
   "display_name": "Python 3 (ipykernel)",
   "language": "python",
   "name": "python3"
  },
  "language_info": {
   "codemirror_mode": {
    "name": "ipython",
    "version": 3
   },
   "file_extension": ".py",
   "mimetype": "text/x-python",
   "name": "python",
   "nbconvert_exporter": "python",
   "pygments_lexer": "ipython3",
   "version": "3.12.3"
  }
 },
 "nbformat": 4,
 "nbformat_minor": 5
}
