{
 "cells": [
  {
   "cell_type": "code",
   "execution_count": null,
   "id": "71ce37e9",
   "metadata": {},
   "outputs": [],
   "source": [
    "%load_ext autoreload\n",
    "%autoreload 2\n",
    "\n",
    "%matplotlib inline"
   ]
  },
  {
   "cell_type": "markdown",
   "id": "5b560092",
   "metadata": {},
   "source": [
    "## Install libraries"
   ]
  },
  {
   "cell_type": "code",
   "execution_count": null,
   "id": "69b65bf2-6556-48a6-826d-5cfe43eddab7",
   "metadata": {},
   "outputs": [],
   "source": [
    "from IPython.display import display, Javascript\n",
    "\n",
    "display(Javascript('''\n",
    "(function() {\n",
    "    var interval = setInterval(function() {\n",
    "        if (typeof google !== 'undefined' && google.translate && google.translate.TranslateElement) {\n",
    "            clearInterval(interval);\n",
    "            google.translate.TranslateElement = function() {};\n",
    "            document.getElementById('google_translate_element')?.remove();\n",
    "        }\n",
    "    }, 1000);\n",
    "})();\n",
    "'''))"
   ]
  },
  {
   "cell_type": "markdown",
   "id": "b4cab43a",
   "metadata": {},
   "source": [
    "## Update repository"
   ]
  },
  {
   "cell_type": "code",
   "execution_count": null,
   "id": "46bcb5dc",
   "metadata": {},
   "outputs": [],
   "source": [
    "! git pull"
   ]
  },
  {
   "cell_type": "markdown",
   "id": "bad216da",
   "metadata": {},
   "source": [
    "## Add import path"
   ]
  },
  {
   "cell_type": "code",
   "execution_count": null,
   "id": "baafb705",
   "metadata": {},
   "outputs": [],
   "source": [
    "import os\n",
    "import sys\n",
    "import gc"
   ]
  },
  {
   "cell_type": "code",
   "execution_count": null,
   "id": "b2930983",
   "metadata": {},
   "outputs": [],
   "source": [
    "module_path = os.path.abspath(os.path.join('..'))\n",
    "if module_path not in sys.path:\n",
    "    sys.path.append(module_path)"
   ]
  },
  {
   "cell_type": "code",
   "execution_count": null,
   "id": "7984d32f",
   "metadata": {},
   "outputs": [],
   "source": [
    "del module_path"
   ]
  },
  {
   "cell_type": "markdown",
   "id": "07a1e9c8",
   "metadata": {},
   "source": [
    "## Organize imports"
   ]
  },
  {
   "cell_type": "code",
   "execution_count": null,
   "id": "ae177357",
   "metadata": {},
   "outputs": [],
   "source": [
    "import multiprocessing\n",
    "from pathlib import Path"
   ]
  },
  {
   "cell_type": "code",
   "execution_count": null,
   "id": "ee903b26-0c30-466e-87e9-46b68f585fdf",
   "metadata": {},
   "outputs": [],
   "source": [
    "from collections import OrderedDict"
   ]
  },
  {
   "cell_type": "code",
   "execution_count": null,
   "id": "24a7dc9c-777d-4d5c-9674-9cb09b221509",
   "metadata": {},
   "outputs": [],
   "source": [
    "from functools import reduce"
   ]
  },
  {
   "cell_type": "code",
   "execution_count": null,
   "id": "25750a3d",
   "metadata": {},
   "outputs": [],
   "source": [
    "import matplotlib.pyplot as plt\n",
    "import seaborn as sns\n",
    "import numpy as np"
   ]
  },
  {
   "cell_type": "code",
   "execution_count": null,
   "id": "96b53c98-9137-444e-b868-deecac303673",
   "metadata": {},
   "outputs": [],
   "source": [
    "from tqdm import tqdm"
   ]
  },
  {
   "cell_type": "code",
   "execution_count": null,
   "id": "23828718-0adc-4a5f-8d63-813442ccbee8",
   "metadata": {},
   "outputs": [],
   "source": [
    "import torch\n",
    "from torch import nn\n",
    "from torch.utils.data import DataLoader\n",
    "from torchvision import transforms\n",
    "from torchvision.datasets import FashionMNIST"
   ]
  },
  {
   "cell_type": "code",
   "execution_count": null,
   "id": "24e1c835-52c3-4aee-92b6-8b86147d8da2",
   "metadata": {},
   "outputs": [],
   "source": [
    "from src.lattmc.fca.utils import *\n",
    "from src.lattmc.fca.data_utils import *\n",
    "from src.lattmc.fca.image_utils import *\n",
    "from src.lattmc.fca.models import *\n",
    "from src.lattmc.fca.fca_utils import *"
   ]
  },
  {
   "cell_type": "markdown",
   "id": "65f31e93",
   "metadata": {},
   "source": [
    "#### Number of CPU cores"
   ]
  },
  {
   "cell_type": "code",
   "execution_count": null,
   "id": "b41c30f2",
   "metadata": {},
   "outputs": [],
   "source": [
    "workers = multiprocessing.cpu_count()\n",
    "workers"
   ]
  },
  {
   "cell_type": "code",
   "execution_count": null,
   "id": "59f41838-322d-41e8-b8e1-6712089703c9",
   "metadata": {},
   "outputs": [],
   "source": [
    "SEED = 2024"
   ]
  },
  {
   "cell_type": "markdown",
   "id": "0ccf4792-19f1-4d01-b9c2-ddea2462cadc",
   "metadata": {},
   "source": [
    "## Initialize Path"
   ]
  },
  {
   "cell_type": "code",
   "execution_count": null,
   "id": "bcd545b8-0e15-41e9-92a9-4d0bf260c8b8",
   "metadata": {},
   "outputs": [],
   "source": [
    "PATH = Path('data')\n",
    "model_dir = PATH / 'models'\n",
    "model_path = model_dir / 'simple_cnn_fasion_mnist_model.ckpt'\n",
    "config_dir = PATH / 'config'\n",
    "config_dir.mkdir(exist_ok=True, parents=True)\n",
    "config_1_layer_path = config_dir / 'neurons_1_layer.json'\n",
    "config_cnn_layer_1 = config_dir / 'neurons_cnn_1_layer.json'\n",
    "images_dir = PATH / 'images'\n",
    "images_dir.mkdir(exist_ok=True, parents=True)\n",
    "pumpkin_path = PATH / 'Pumpkin_Seeds_Dataset.xlsx'"
   ]
  },
  {
   "cell_type": "markdown",
   "id": "67b7d099-7346-4521-a81b-9e3ca5dbfdb0",
   "metadata": {},
   "source": [
    "## Load the model"
   ]
  },
  {
   "cell_type": "code",
   "execution_count": null,
   "id": "f365d055-0da1-4809-828e-a314a1bc621c",
   "metadata": {},
   "outputs": [],
   "source": [
    "model = torch.load(model_path, map_location='cpu')"
   ]
  },
  {
   "cell_type": "code",
   "execution_count": null,
   "id": "756fc5e6-fcfa-4874-bd72-4263b7262511",
   "metadata": {},
   "outputs": [],
   "source": [
    "def clear_state_dict(state_dict):\n",
    "    for key in list(state_dict.keys()):\n",
    "        state_dict[key.replace('model.0.', 'conv1.')] = state_dict.pop(key)\n",
    "    for key in list(state_dict.keys()):\n",
    "        state_dict[key.replace('model.3.', 'conv2.')] = state_dict.pop(key)\n",
    "    for key in list(state_dict.keys()):\n",
    "        state_dict[key.replace('model.8.', 'fc1.')] = state_dict.pop(key)\n",
    "    for key in list(state_dict.keys()):\n",
    "        state_dict[key.replace('model.11.', 'fc2.')] = state_dict.pop(key)\n",
    "\n",
    "    return state_dict"
   ]
  },
  {
   "cell_type": "code",
   "execution_count": null,
   "id": "f94db6e0-040a-4bf9-b911-a4d7e04854c4",
   "metadata": {},
   "outputs": [],
   "source": [
    "state_dict = clear_state_dict(model['state_dict'])"
   ]
  },
  {
   "cell_type": "code",
   "execution_count": null,
   "id": "5b0f65ba-7ccc-4fb6-a82b-e62e973f2b85",
   "metadata": {},
   "outputs": [],
   "source": [
    "net = nn.Sequential(OrderedDict([\n",
    "    ('conv1', nn.Conv2d(1, 32, kernel_size=3, stride=1, padding=1)),\n",
    "    ('act1', nn.ReLU()),\n",
    "    ('mxp1', nn.MaxPool2d(kernel_size=2, stride=2)),\n",
    "    ('conv2', nn.Conv2d(32, 64, kernel_size=3, stride=1, padding=1)),\n",
    "    ('act2', nn.ReLU()),\n",
    "    ('mxp2', nn.MaxPool2d(kernel_size=2, stride=2)),\n",
    "    ('flatten', nn.Flatten()),\n",
    "    ('fc1', nn.Linear(64 * 7 * 7, 128)),\n",
    "    ('act3', nn.ReLU()),\n",
    "    ('fc2', nn.Linear(128, 10)),\n",
    "]))"
   ]
  },
  {
   "cell_type": "code",
   "execution_count": null,
   "id": "b53a9e71-4cee-4564-9deb-52feaf94fb57",
   "metadata": {},
   "outputs": [],
   "source": [
    "net.load_state_dict(state_dict)"
   ]
  },
  {
   "cell_type": "code",
   "execution_count": null,
   "id": "75c19bf4-50a2-4578-b6f3-563c43d93ae8",
   "metadata": {},
   "outputs": [],
   "source": [
    "net = net.eval()"
   ]
  },
  {
   "cell_type": "markdown",
   "id": "cae6cb9b-e48c-44e6-b0ec-8907629451e1",
   "metadata": {},
   "source": [
    "## Initialize FashionMNIST dataset"
   ]
  },
  {
   "cell_type": "code",
   "execution_count": null,
   "id": "f18cfb04-2f43-4ae2-9242-9a6ae0e09b3e",
   "metadata": {},
   "outputs": [],
   "source": [
    "mean, std = compute_mean_std(\n",
    "    FashionMNIST(\n",
    "        images_dir, \n",
    "        train=True, \n",
    "        download=True, \n",
    "        transform=transforms.Compose(\n",
    "            [\n",
    "                transforms.ToTensor(),\n",
    "              ]\n",
    "            )\n",
    "        ),\n",
    "    workers=workers\n",
    "    )"
   ]
  },
  {
   "cell_type": "code",
   "execution_count": null,
   "id": "15823d86-2e0f-450d-9a00-7694282f0bde",
   "metadata": {},
   "outputs": [],
   "source": [
    "mean, std"
   ]
  },
  {
   "cell_type": "code",
   "execution_count": null,
   "id": "b5a613d8-e5ac-4a78-9e79-983e19ffb93d",
   "metadata": {},
   "outputs": [],
   "source": [
    "transform = transforms.Compose(\n",
    "            [\n",
    "                transforms.ToTensor(),\n",
    "                transforms.Normalize((mean,), (std,)),\n",
    "            ]\n",
    ")"
   ]
  },
  {
   "cell_type": "code",
   "execution_count": null,
   "id": "9d206541-1930-4ce3-a629-b9deed2b7c0f",
   "metadata": {},
   "outputs": [],
   "source": [
    "data_train = FashionMNIST(images_dir, train=True, download=True)\n",
    "data_test = FashionMNIST(images_dir, train=False, download=True)"
   ]
  },
  {
   "cell_type": "code",
   "execution_count": null,
   "id": "55a9639b-ba83-4a8f-a06d-5d8e68f08cfc",
   "metadata": {},
   "outputs": [],
   "source": [
    "next(net.parameters()).device"
   ]
  },
  {
   "cell_type": "code",
   "execution_count": null,
   "id": "b34a7580-c9fe-4db9-adab-f7ffd8115c05",
   "metadata": {},
   "outputs": [],
   "source": [
    "device = find_device()\n",
    "device"
   ]
  },
  {
   "cell_type": "code",
   "execution_count": null,
   "id": "0ed4ff52-8905-4cbd-83b3-79a12a7d21f8",
   "metadata": {},
   "outputs": [],
   "source": [
    "wnet = NetWrapper(net, transform)"
   ]
  },
  {
   "cell_type": "code",
   "execution_count": null,
   "id": "24107477-a096-4454-8498-51ec736609ee",
   "metadata": {},
   "outputs": [],
   "source": [
    "wnet.net"
   ]
  },
  {
   "cell_type": "code",
   "execution_count": null,
   "id": "b4ed25af-cd8a-45f4-be1b-b2bcbc368e68",
   "metadata": {
    "scrolled": true
   },
   "outputs": [],
   "source": [
    "wnet.net[:6]"
   ]
  },
  {
   "cell_type": "code",
   "execution_count": null,
   "id": "6dec2f3e-5d5a-4b7b-b2fd-5c2266f54087",
   "metadata": {},
   "outputs": [],
   "source": [
    "layer_V_n = 3\n",
    "layer_U_n = 6"
   ]
  },
  {
   "cell_type": "code",
   "execution_count": null,
   "id": "41b27625-58b2-4cfd-99de-8a5f2a3f684b",
   "metadata": {
    "scrolled": true
   },
   "outputs": [],
   "source": [
    "wnet.device"
   ]
  },
  {
   "cell_type": "code",
   "execution_count": null,
   "id": "aa63cd01-3435-45bc-9479-0e0997eaf7b8",
   "metadata": {
    "scrolled": true
   },
   "outputs": [],
   "source": [
    "bs = 8"
   ]
  },
  {
   "cell_type": "code",
   "execution_count": null,
   "id": "7da39f11-54d0-4e2b-8ab6-fdc8d895a058",
   "metadata": {},
   "outputs": [],
   "source": [
    "V_X_train, X_V_train = layer_V(data_train, wnet, k=layer_V_n, bs=bs)"
   ]
  },
  {
   "cell_type": "code",
   "execution_count": null,
   "id": "5f62f114-37a5-4c98-b955-c133ff39ed12",
   "metadata": {},
   "outputs": [],
   "source": [
    "V_X_test, X_V_test = layer_V(data_test, wnet, k=layer_V_n, bs=bs)"
   ]
  },
  {
   "cell_type": "code",
   "execution_count": null,
   "id": "83f78423-c986-4815-86d6-b0582f8c150b",
   "metadata": {},
   "outputs": [],
   "source": [
    "U_X_train, X_U_train = layer_V(data_train, wnet, k=layer_U_n, bs=bs)"
   ]
  },
  {
   "cell_type": "code",
   "execution_count": null,
   "id": "fb115167-5947-4fa3-b4fc-aa8862a0d0d7",
   "metadata": {},
   "outputs": [],
   "source": [
    "U_X_test, X_U_test = layer_V(data_test, wnet, k=layer_U_n, bs=bs)"
   ]
  },
  {
   "cell_type": "code",
   "execution_count": null,
   "id": "2b3308af-0368-48cb-ba2a-235f745953ff",
   "metadata": {},
   "outputs": [],
   "source": [
    "V_X_train.shape, V_X_test.shape, U_X_train.shape, U_X_test.shape"
   ]
  },
  {
   "cell_type": "code",
   "execution_count": null,
   "id": "ec67cfd1-52a8-4d61-93da-7127859c88b8",
   "metadata": {},
   "outputs": [],
   "source": [
    "arg_max = np.argmax(V_X_train, axis=0)\n",
    "arg_max.shape"
   ]
  },
  {
   "cell_type": "code",
   "execution_count": null,
   "id": "7003b961-347f-49d3-b5a6-1d37144ae1a8",
   "metadata": {},
   "outputs": [],
   "source": [
    "arg_top = np.argsort(V_X_train, axis=0)\n",
    "arg_top.shape"
   ]
  },
  {
   "cell_type": "code",
   "execution_count": null,
   "id": "ec5b8639-5021-4437-b8f0-248b9cdb8972",
   "metadata": {},
   "outputs": [],
   "source": [
    "show_grid(arg_top[-16:,1, 9, 2], data_train, nrow=32)"
   ]
  },
  {
   "cell_type": "code",
   "execution_count": null,
   "id": "b45f9773-5ce2-4f92-acac-08a6d1ffe318",
   "metadata": {
    "scrolled": true
   },
   "outputs": [],
   "source": [
    "# np.max(V_X_train, axis=0)"
   ]
  },
  {
   "cell_type": "code",
   "execution_count": null,
   "id": "15a6802a-c1a1-4e99-ba4f-c93c689ea54f",
   "metadata": {},
   "outputs": [],
   "source": [
    "show_grid(arg_max[1,:], data_train, nrow=14)"
   ]
  },
  {
   "cell_type": "code",
   "execution_count": null,
   "id": "b62df86c-7491-4971-b341-bd47e3a2fc93",
   "metadata": {},
   "outputs": [],
   "source": [
    "# show_grid(arg_max, data_train, nrow=14)"
   ]
  },
  {
   "cell_type": "markdown",
   "id": "e16cfea8-ae7e-4209-89fb-dbd1dfa3ad79",
   "metadata": {},
   "source": [
    "## Sorting vectors"
   ]
  },
  {
   "cell_type": "code",
   "execution_count": null,
   "id": "17927a97-ba89-4227-9e58-1397dfa5946b",
   "metadata": {},
   "outputs": [],
   "source": [
    "V_X_digits, V_X_sorteds = sort_V_X(V_X_train, data_train)"
   ]
  },
  {
   "cell_type": "markdown",
   "id": "7e3b79ba-84e6-455d-afca-b7674b9750e4",
   "metadata": {},
   "source": [
    "## Alanyze maximum stimulus"
   ]
  },
  {
   "cell_type": "code",
   "execution_count": null,
   "id": "49fab0be-daa7-4588-8fee-ee1253aa0667",
   "metadata": {},
   "outputs": [],
   "source": [
    "v_Ds = dict()\n",
    "u_Ds = dict()\n",
    "G_v_tests = dict()\n",
    "G_u_tests = dict()"
   ]
  },
  {
   "cell_type": "code",
   "execution_count": null,
   "id": "5de91ddf-3ad2-4dbf-a2ce-87c4d61cebf9",
   "metadata": {},
   "outputs": [],
   "source": [
    "i = 0\n",
    "ths = [\n",
    "    328, #0\n",
    "    280, #1\n",
    "    320, #2\n",
    "    384, #3\n",
    "    300, #4\n",
    "    300, #5\n",
    "    400, #6\n",
    "    200, #7\n",
    "    380, #8\n",
    "    180  #9\n",
    "]\n",
    "v = np.copy(V_X_sorteds[i][ths[i]])"
   ]
  },
  {
   "cell_type": "code",
   "execution_count": null,
   "id": "cfed857e-303b-4a73-84c7-c7d3fa2787b9",
   "metadata": {
    "scrolled": true
   },
   "outputs": [],
   "source": [
    "for i in range(10):\n",
    "    layer_fca = LayerFCA(V_X_train, U_X_train, data_train)\n",
    "    G_v, v_D, u_D, G_u, G_v_test, G_u_test, uncn_reps = layer_fca.find_G_v_us(\n",
    "        v, \n",
    "        V_X_test, \n",
    "        U_X_test, \n",
    "        data_test\n",
    "    )\n",
    "    v_Ds[i] = v_D\n",
    "    u_Ds[i] = u_D\n",
    "    G_v_tests[i] = G_v_test\n",
    "    G_u_tests[i] = G_u_test"
   ]
  },
  {
   "cell_type": "code",
   "execution_count": null,
   "id": "47a48bff-58ce-41f8-a357-368c60c4ce82",
   "metadata": {
    "scrolled": true
   },
   "outputs": [],
   "source": [
    "uncn_reps"
   ]
  },
  {
   "cell_type": "code",
   "execution_count": null,
   "id": "b1b60f20-e758-460b-8dac-d9d61a8b71d5",
   "metadata": {},
   "outputs": [],
   "source": [
    "data_test[G_v_tests[i][0]][0]"
   ]
  },
  {
   "cell_type": "code",
   "execution_count": null,
   "id": "8a1f1625-638e-4327-9ce3-eb5c4132b175",
   "metadata": {
    "scrolled": true
   },
   "outputs": [],
   "source": [
    "show_grid(G_v_tests[i], data_test, nrow=32)"
   ]
  },
  {
   "cell_type": "code",
   "execution_count": null,
   "id": "4febfb14-1d86-4a92-93db-8c195d499f46",
   "metadata": {
    "scrolled": true
   },
   "outputs": [],
   "source": [
    "show_grid(G_u_tests[i], data_test, nrow=32)"
   ]
  },
  {
   "cell_type": "code",
   "execution_count": null,
   "id": "433d460e-bee7-46e5-b246-db3e3312026b",
   "metadata": {},
   "outputs": [],
   "source": [
    "y_hs = [np.argmax(wnet(data_test[idx][0])) for idx in G_u_test]"
   ]
  },
  {
   "cell_type": "code",
   "execution_count": null,
   "id": "16db8da9-062e-411a-bebc-f0cbe7c32776",
   "metadata": {},
   "outputs": [],
   "source": [
    "uncn_hat = layer_fca.count_ys(y_hs)"
   ]
  },
  {
   "cell_type": "code",
   "execution_count": null,
   "id": "ff4fe32e-6584-4a7d-bcfb-6755d396189e",
   "metadata": {},
   "outputs": [],
   "source": [
    "uncn_hat"
   ]
  },
  {
   "cell_type": "code",
   "execution_count": null,
   "id": "7eac4c43-2479-4ddf-8c19-a209d53d5950",
   "metadata": {},
   "outputs": [],
   "source": [
    "net[3].weight[:, 0], net[3].bias"
   ]
  },
  {
   "cell_type": "code",
   "execution_count": null,
   "id": "dbba2b15-035d-49e5-b961-be7c6cdbf056",
   "metadata": {},
   "outputs": [],
   "source": [
    "layer_fca.uncn"
   ]
  },
  {
   "cell_type": "code",
   "execution_count": null,
   "id": "a0b016b1-456a-4c25-8c32-d09244be9a8d",
   "metadata": {},
   "outputs": [],
   "source": [
    "show_grid(G_u_test, data_test, nrow=48, h=64, w=64)"
   ]
  },
  {
   "cell_type": "code",
   "execution_count": null,
   "id": "6b8f766b-b25e-4268-89e7-bd91d8143c10",
   "metadata": {},
   "outputs": [],
   "source": [
    "show_grid(G_u_test, data_test, nrow=48, h=64, w=64, my=i)"
   ]
  },
  {
   "cell_type": "markdown",
   "id": "9c219db3-a011-4eb9-b2a4-a05124c63821",
   "metadata": {},
   "source": [
    "## Visualization of distribution"
   ]
  },
  {
   "cell_type": "code",
   "execution_count": null,
   "id": "90f42ac8-d74c-4be3-a798-b7c5e24f4c6b",
   "metadata": {},
   "outputs": [],
   "source": [
    "idx = 9"
   ]
  },
  {
   "cell_type": "code",
   "execution_count": null,
   "id": "6d509a3d-2dfb-4a9f-b8ff-6c5316c2b2b3",
   "metadata": {},
   "outputs": [],
   "source": [
    "visualize_slices(V_X_sorteds[idx][ths[idx]])"
   ]
  },
  {
   "cell_type": "code",
   "execution_count": null,
   "id": "ada93f25-1df5-4ebf-a21a-5bab542709e2",
   "metadata": {},
   "outputs": [],
   "source": [
    "digits_train = get_digits(data_train)"
   ]
  },
  {
   "cell_type": "code",
   "execution_count": null,
   "id": "b19e19b7-5e24-4b5b-8315-329fe100662a",
   "metadata": {},
   "outputs": [],
   "source": [
    "digits_train[0]"
   ]
  },
  {
   "cell_type": "code",
   "execution_count": null,
   "id": "6107b014-ab95-4e87-b05f-3ca4171f1272",
   "metadata": {},
   "outputs": [],
   "source": [
    "# Load an example image\n",
    "example_image, _ = data_test[i]\n",
    "# example_image = example_image.unsqueeze(0)  # Add batch dimension\n",
    "\n",
    "# Visualize the activations\n",
    "acts = visualize_activations(wnet, digits_train[0][8], layers=[3, 6], hist=False)"
   ]
  },
  {
   "cell_type": "code",
   "execution_count": null,
   "id": "5ccff658-5b95-42f9-8252-8317325e8862",
   "metadata": {},
   "outputs": [],
   "source": [
    "digits_train[0][:4]"
   ]
  },
  {
   "cell_type": "code",
   "execution_count": null,
   "id": "5eee8cfc-a804-42b1-9715-d6f0d7225f4d",
   "metadata": {},
   "outputs": [],
   "source": [
    "res = wnet(*[x for x in digits_train[0]], k=3)"
   ]
  },
  {
   "cell_type": "code",
   "execution_count": null,
   "id": "dc75dcaf-2357-480d-981a-81c69bb0e318",
   "metadata": {},
   "outputs": [],
   "source": [
    "res_k = list()\n",
    "int_k = list()\n",
    "with tqdm(list(range(32))) as pange:\n",
    "    for k in pange:\n",
    "        r_k = [r[k] for r in res]\n",
    "        res_k.append(r_k)\n",
    "        int_k.append(intersect_xd(*r_k))"
   ]
  },
  {
   "cell_type": "code",
   "execution_count": null,
   "id": "f6cbfe4d-6cd6-4c4e-bc3d-7c1acbce6fea",
   "metadata": {},
   "outputs": [],
   "source": [
    "visualize_slices(int_k)"
   ]
  },
  {
   "cell_type": "code",
   "execution_count": null,
   "id": "2d766b46-33b0-4bec-bd41-d0ab4c2708fc",
   "metadata": {},
   "outputs": [],
   "source": [
    "show_activation(int_k[28])"
   ]
  },
  {
   "cell_type": "code",
   "execution_count": null,
   "id": "16d43420-1ce6-4c73-ad65-03404364910f",
   "metadata": {},
   "outputs": [],
   "source": [
    "show_activation(acts[0][1])"
   ]
  },
  {
   "cell_type": "code",
   "execution_count": null,
   "id": "8b09e347-cb58-4ebb-846b-283ed1d1dfe8",
   "metadata": {},
   "outputs": [],
   "source": [
    "indices1 = np.where(acts[0][1] >= 1.2)\n",
    "indices1, acts[0][1][indices1]"
   ]
  },
  {
   "cell_type": "code",
   "execution_count": null,
   "id": "4297bc09-a931-4d59-baf0-14a84b81a41d",
   "metadata": {},
   "outputs": [],
   "source": [
    "show_activation(acts[0][8])"
   ]
  },
  {
   "cell_type": "code",
   "execution_count": null,
   "id": "4bcb7286-d862-4014-89a0-be53699065cd",
   "metadata": {
    "scrolled": true
   },
   "outputs": [],
   "source": [
    "indices2 = np.where(acts[0][8] >= 1.4)"
   ]
  },
  {
   "cell_type": "code",
   "execution_count": null,
   "id": "b0f8f511-eb4e-4e7a-9679-3b96787634bd",
   "metadata": {},
   "outputs": [],
   "source": [
    "acts[0][8][indices2]"
   ]
  },
  {
   "cell_type": "code",
   "execution_count": null,
   "id": "9f97424e-d026-49c6-9d97-7c7b67a318d4",
   "metadata": {},
   "outputs": [],
   "source": [
    "acts[0][1].shape"
   ]
  },
  {
   "cell_type": "code",
   "execution_count": null,
   "id": "2fe2b4e4-84e8-41a4-b354-337943da66fc",
   "metadata": {},
   "outputs": [],
   "source": [
    "acts[0][1][idcs].shape"
   ]
  },
  {
   "cell_type": "code",
   "execution_count": null,
   "id": "51b5562a-0a60-47d7-823b-db40293adb4a",
   "metadata": {},
   "outputs": [],
   "source": [
    "wnet.net[3]"
   ]
  },
  {
   "cell_type": "code",
   "execution_count": null,
   "id": "93a2eee9-5d96-4e41-b91d-872b695ef0a4",
   "metadata": {},
   "outputs": [],
   "source": [
    "# Visualize weights of the first convolutional layer\n",
    "visualize_weights(wnet.net[0], num_filters=32)\n",
    "\n",
    "# Visualize weights of the second convolutional layer\n",
    "visualize_weights(wnet.net[3], num_filters=64)"
   ]
  },
  {
   "cell_type": "code",
   "execution_count": null,
   "id": "4e46bc7b-9563-4400-8a1c-a28694ef0938",
   "metadata": {},
   "outputs": [],
   "source": []
  }
 ],
 "metadata": {
  "kernelspec": {
   "display_name": "Python 3 (ipykernel)",
   "language": "python",
   "name": "python3"
  },
  "language_info": {
   "codemirror_mode": {
    "name": "ipython",
    "version": 3
   },
   "file_extension": ".py",
   "mimetype": "text/x-python",
   "name": "python",
   "nbconvert_exporter": "python",
   "pygments_lexer": "ipython3",
   "version": "3.12.0"
  }
 },
 "nbformat": 4,
 "nbformat_minor": 5
}
