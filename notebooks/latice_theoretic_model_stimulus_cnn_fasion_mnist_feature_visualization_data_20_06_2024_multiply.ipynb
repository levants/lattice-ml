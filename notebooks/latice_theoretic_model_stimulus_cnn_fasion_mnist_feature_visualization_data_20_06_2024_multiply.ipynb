{
 "cells": [
  {
   "cell_type": "code",
   "execution_count": null,
   "id": "71ce37e9",
   "metadata": {},
   "outputs": [],
   "source": [
    "%load_ext autoreload\n",
    "%autoreload 2\n",
    "\n",
    "%matplotlib inline"
   ]
  },
  {
   "cell_type": "markdown",
   "id": "5b560092",
   "metadata": {},
   "source": [
    "## Install libraries"
   ]
  },
  {
   "cell_type": "code",
   "execution_count": null,
   "id": "69b65bf2-6556-48a6-826d-5cfe43eddab7",
   "metadata": {},
   "outputs": [],
   "source": [
    "from IPython.display import display, Javascript\n",
    "\n",
    "display(Javascript('''\n",
    "(function() {\n",
    "    var interval = setInterval(function() {\n",
    "        if (typeof google !== 'undefined' && google.translate && google.translate.TranslateElement) {\n",
    "            clearInterval(interval);\n",
    "            google.translate.TranslateElement = function() {};\n",
    "            document.getElementById('google_translate_element')?.remove();\n",
    "        }\n",
    "    }, 1000);\n",
    "})();\n",
    "'''))"
   ]
  },
  {
   "cell_type": "markdown",
   "id": "89885fa7",
   "metadata": {},
   "source": [
    "```bash\n",
    "conda create -n edu4 python=3.11 jupyter matplotlib\n",
    "```"
   ]
  },
  {
   "cell_type": "markdown",
   "id": "cd23589d",
   "metadata": {},
   "source": [
    "```bash \n",
    "! pip install -U -r requirements.txt\n",
    "```"
   ]
  },
  {
   "cell_type": "markdown",
   "id": "9d16321f",
   "metadata": {},
   "source": [
    "```bash\n",
    "! pip install -U numpy\n",
    "! pip install -U scikit-learn\n",
    "```"
   ]
  },
  {
   "cell_type": "markdown",
   "id": "b4cab43a",
   "metadata": {},
   "source": [
    "## Update repository"
   ]
  },
  {
   "cell_type": "code",
   "execution_count": null,
   "id": "46bcb5dc",
   "metadata": {},
   "outputs": [],
   "source": [
    "! git pull"
   ]
  },
  {
   "cell_type": "markdown",
   "id": "bad216da",
   "metadata": {},
   "source": [
    "## Add import path"
   ]
  },
  {
   "cell_type": "code",
   "execution_count": null,
   "id": "baafb705",
   "metadata": {},
   "outputs": [],
   "source": [
    "import os\n",
    "import sys\n",
    "import gc"
   ]
  },
  {
   "cell_type": "code",
   "execution_count": null,
   "id": "b2930983",
   "metadata": {},
   "outputs": [],
   "source": [
    "module_path = os.path.abspath(os.path.join('..'))\n",
    "if module_path not in sys.path:\n",
    "    sys.path.append(module_path)"
   ]
  },
  {
   "cell_type": "code",
   "execution_count": null,
   "id": "7984d32f",
   "metadata": {},
   "outputs": [],
   "source": [
    "del module_path"
   ]
  },
  {
   "cell_type": "markdown",
   "id": "07a1e9c8",
   "metadata": {},
   "source": [
    "## Organize imports"
   ]
  },
  {
   "cell_type": "code",
   "execution_count": null,
   "id": "ae177357",
   "metadata": {},
   "outputs": [],
   "source": [
    "import multiprocessing\n",
    "from pathlib import Path"
   ]
  },
  {
   "cell_type": "code",
   "execution_count": null,
   "id": "0a464cd7-0f81-4f99-9d84-a0e9f807ecbf",
   "metadata": {},
   "outputs": [],
   "source": [
    "import json"
   ]
  },
  {
   "cell_type": "code",
   "execution_count": null,
   "id": "ee903b26-0c30-466e-87e9-46b68f585fdf",
   "metadata": {},
   "outputs": [],
   "source": [
    "from collections import OrderedDict"
   ]
  },
  {
   "cell_type": "code",
   "execution_count": null,
   "id": "24a7dc9c-777d-4d5c-9674-9cb09b221509",
   "metadata": {},
   "outputs": [],
   "source": [
    "from functools import reduce"
   ]
  },
  {
   "cell_type": "code",
   "execution_count": null,
   "id": "a523557a",
   "metadata": {},
   "outputs": [],
   "source": [
    "import seaborn as sns"
   ]
  },
  {
   "cell_type": "code",
   "execution_count": null,
   "id": "25750a3d",
   "metadata": {},
   "outputs": [],
   "source": [
    "import matplotlib.pyplot as plt\n",
    "import seaborn as sns\n",
    "import numpy as np\n",
    "import pandas as pd"
   ]
  },
  {
   "cell_type": "code",
   "execution_count": null,
   "id": "96b53c98-9137-444e-b868-deecac303673",
   "metadata": {},
   "outputs": [],
   "source": [
    "from tqdm import tqdm"
   ]
  },
  {
   "cell_type": "code",
   "execution_count": null,
   "id": "125950ab",
   "metadata": {},
   "outputs": [],
   "source": [
    "import plotly.express as px"
   ]
  },
  {
   "cell_type": "code",
   "execution_count": null,
   "id": "262d0a5a-ccb6-4a7d-a4a2-76a276c2ce88",
   "metadata": {},
   "outputs": [],
   "source": [
    "from sklearn.linear_model import LinearRegression, LogisticRegression\n",
    "from sklearn.discriminant_analysis import (\n",
    "    LinearDiscriminantAnalysis, \n",
    "    QuadraticDiscriminantAnalysis\n",
    ")\n",
    "from sklearn.tree import DecisionTreeClassifier\n",
    "from sklearn.ensemble import RandomForestClassifier \n",
    "from sklearn.datasets import (\n",
    "    load_iris,\n",
    "    load_wine\n",
    ")\n",
    "from sklearn.model_selection import train_test_split\n",
    "from sklearn.preprocessing import (\n",
    "    MaxAbsScaler,\n",
    "    MinMaxScaler,\n",
    "    StandardScaler\n",
    ")\n",
    "from sklearn.metrics import (\n",
    "    classification_report,\n",
    "    confusion_matrix\n",
    ")"
   ]
  },
  {
   "cell_type": "code",
   "execution_count": null,
   "id": "e1c75655-adba-4f78-811e-9fd3c0286a9e",
   "metadata": {},
   "outputs": [],
   "source": [
    "from scipy import stats\n",
    "from scipy.interpolate import interp1d"
   ]
  },
  {
   "cell_type": "code",
   "execution_count": null,
   "id": "23828718-0adc-4a5f-8d63-813442ccbee8",
   "metadata": {},
   "outputs": [],
   "source": [
    "import torch"
   ]
  },
  {
   "cell_type": "code",
   "execution_count": null,
   "id": "aafca3fc-fe8b-45ff-a4f0-9e67d332d41a",
   "metadata": {},
   "outputs": [],
   "source": [
    "from torch import nn\n",
    "from torch.utils.data import DataLoader\n",
    "from torchvision import transforms\n",
    "import torchvision.transforms.functional as F\n",
    "from torchvision.utils import make_grid\n",
    "from torchvision.datasets import FashionMNIST"
   ]
  },
  {
   "cell_type": "code",
   "execution_count": null,
   "id": "0ed57fd4-1283-435c-922e-5c4de61ae4c1",
   "metadata": {},
   "outputs": [],
   "source": [
    "from captum.attr import (\n",
    "    IntegratedGradients, \n",
    "    LayerIntegratedGradients,\n",
    "    NeuronGradient,\n",
    "    NeuronIntegratedGradients,\n",
    "    NeuronGuidedBackprop,\n",
    "    NeuronDeepLift,\n",
    "    NeuronDeepLiftShap,\n",
    "    NeuronGradientShap,\n",
    ")\n",
    "from captum.attr import visualization as viz"
   ]
  },
  {
   "cell_type": "markdown",
   "id": "65f31e93",
   "metadata": {},
   "source": [
    "#### Number of CPU cores"
   ]
  },
  {
   "cell_type": "code",
   "execution_count": null,
   "id": "b41c30f2",
   "metadata": {},
   "outputs": [],
   "source": [
    "workers = multiprocessing.cpu_count()\n",
    "workers"
   ]
  },
  {
   "cell_type": "code",
   "execution_count": null,
   "id": "59f41838-322d-41e8-b8e1-6712089703c9",
   "metadata": {},
   "outputs": [],
   "source": [
    "SEED = 2024"
   ]
  },
  {
   "cell_type": "markdown",
   "id": "0ccf4792-19f1-4d01-b9c2-ddea2462cadc",
   "metadata": {},
   "source": [
    "## Initialize Path"
   ]
  },
  {
   "cell_type": "code",
   "execution_count": null,
   "id": "bcd545b8-0e15-41e9-92a9-4d0bf260c8b8",
   "metadata": {},
   "outputs": [],
   "source": [
    "PATH = Path('data')\n",
    "model_dir = PATH / 'models'\n",
    "model_path = model_dir / 'simple_cnn_fasion_mnist_model.ckpt'\n",
    "config_dir = PATH / 'config'\n",
    "config_dir.mkdir(exist_ok=True, parents=True)\n",
    "config_1_layer_path = config_dir / 'neurons_1_layer.json'\n",
    "config_cnn_layer_1 = config_dir / 'neurons_cnn_1_layer.json'\n",
    "images_dir = PATH / 'images'\n",
    "images_dir.mkdir(exist_ok=True, parents=True)\n",
    "pumpkin_path = PATH / 'Pumpkin_Seeds_Dataset.xlsx'"
   ]
  },
  {
   "cell_type": "markdown",
   "id": "e66024d6-e9ad-4204-b2fa-9e5eee726d3c",
   "metadata": {},
   "source": [
    "## Model wrapper"
   ]
  },
  {
   "cell_type": "code",
   "execution_count": null,
   "id": "4c6267d4-bee4-4e18-b9f0-6868fde8b762",
   "metadata": {},
   "outputs": [],
   "source": [
    "def find_device():\n",
    "    if torch.cuda.is_available():\n",
    "        device = torch.device('cuda')\n",
    "    elif torch.backends.mps.is_available():\n",
    "        device = torch.device('mps')\n",
    "    else:\n",
    "        device = torch.device('cpu')\n",
    "\n",
    "    return device"
   ]
  },
  {
   "cell_type": "code",
   "execution_count": null,
   "id": "47de4c93-f406-474d-95db-51e820bb5835",
   "metadata": {},
   "outputs": [],
   "source": [
    "class Device(object):\n",
    "\n",
    "    def __init__(self, x, device):\n",
    "        self.x = x\n",
    "        self.device = device\n",
    "        self.cpu = torch.device('cpu')\n",
    "\n",
    "    def __enter__(self):\n",
    "        self.x = self.x.to(self.device)\n",
    "\n",
    "        return self\n",
    "\n",
    "    def __exit__(self):\n",
    "        self.xx = self.x.to(self.cpu)\n",
    "\n",
    "        return self"
   ]
  },
  {
   "cell_type": "code",
   "execution_count": null,
   "id": "48eff4fa-58d4-4465-b25d-7483cd834fad",
   "metadata": {},
   "outputs": [],
   "source": [
    "class NetWrapper(object):\n",
    "\n",
    "    def __init__(self, net, transform, device=None):\n",
    "        self._net = net.eval()\n",
    "        self.transform = transform\n",
    "        self._device = device if device else find_device()\n",
    "        self._net.to(self._device)\n",
    "        self.cpu = torch.device('cpu')\n",
    "\n",
    "    @property\n",
    "    def net(self):\n",
    "        return self._net\n",
    "\n",
    "    @property\n",
    "    def device(self):\n",
    "        return self._device\n",
    "    \n",
    "    def __getitem__(self, i):\n",
    "        return self.net[i]\n",
    "\n",
    "    def __len__(self):\n",
    "        return len(self.net)\n",
    "\n",
    "    @torch.inference_mode()\n",
    "    def forward(self, *xs, k=6):\n",
    "        ts = torch.stack(\n",
    "            [self.transform(x) for x in xs], \n",
    "            dim=0\n",
    "        )\n",
    "        ts = ts.to(self.device)\n",
    "        rs = self[: k](ts) if k else self.net(ts)\n",
    "        rs = rs.to(self.cpu).detach().numpy()\n",
    "\n",
    "        return rs\n",
    "\n",
    "    def to(self, device=None):\n",
    "        dvc = device if device else find_device()\n",
    "        self._device = dvc\n",
    "        self.net.to(self._device)\n",
    "        \n",
    "    \n",
    "    def __call__(self, *xs, k=6):\n",
    "        return self.forward(*xs, k=k)"
   ]
  },
  {
   "cell_type": "markdown",
   "id": "67b7d099-7346-4521-a81b-9e3ca5dbfdb0",
   "metadata": {},
   "source": [
    "## Load the model"
   ]
  },
  {
   "cell_type": "code",
   "execution_count": null,
   "id": "f365d055-0da1-4809-828e-a314a1bc621c",
   "metadata": {},
   "outputs": [],
   "source": [
    "model = torch.load(model_path, map_location='cpu')"
   ]
  },
  {
   "cell_type": "code",
   "execution_count": null,
   "id": "756fc5e6-fcfa-4874-bd72-4263b7262511",
   "metadata": {},
   "outputs": [],
   "source": [
    "def clear_state_dict(state_dict):\n",
    "    for key in list(state_dict.keys()):\n",
    "        state_dict[key.replace('model.0.', 'conv1.')] = state_dict.pop(key)\n",
    "    for key in list(state_dict.keys()):\n",
    "        state_dict[key.replace('model.3.', 'conv2.')] = state_dict.pop(key)\n",
    "    for key in list(state_dict.keys()):\n",
    "        state_dict[key.replace('model.8.', 'fc1.')] = state_dict.pop(key)\n",
    "    for key in list(state_dict.keys()):\n",
    "        state_dict[key.replace('model.11.', 'fc2.')] = state_dict.pop(key)\n",
    "\n",
    "    return state_dict"
   ]
  },
  {
   "cell_type": "code",
   "execution_count": null,
   "id": "f94db6e0-040a-4bf9-b911-a4d7e04854c4",
   "metadata": {},
   "outputs": [],
   "source": [
    "state_dict = clear_state_dict(model['state_dict'])"
   ]
  },
  {
   "cell_type": "code",
   "execution_count": null,
   "id": "51ad2a9b-bc25-4162-8333-8ac36799347d",
   "metadata": {},
   "outputs": [],
   "source": [
    "channels = 1\n",
    "width = 28\n",
    "height = 28\n",
    "hidden_size = 16\n",
    "num_classes = 10\n",
    "in_features = channels * width * height"
   ]
  },
  {
   "cell_type": "code",
   "execution_count": null,
   "id": "5b0f65ba-7ccc-4fb6-a82b-e62e973f2b85",
   "metadata": {},
   "outputs": [],
   "source": [
    "net = nn.Sequential(OrderedDict([\n",
    "    ('conv1', nn.Conv2d(1, 32, kernel_size=3, stride=1, padding=1)),\n",
    "    ('act1', nn.ReLU()),\n",
    "    ('mxp1', nn.MaxPool2d(kernel_size=2, stride=2)),\n",
    "    ('conv2', nn.Conv2d(32, 64, kernel_size=3, stride=1, padding=1)),\n",
    "    ('act2', nn.ReLU()),\n",
    "    ('mxp2', nn.MaxPool2d(kernel_size=2, stride=2)),\n",
    "    ('flatten', nn.Flatten()),\n",
    "    ('fc1', nn.Linear(64 * 7 * 7, 128)),\n",
    "    ('act3', nn.ReLU()),\n",
    "    ('fc2', nn.Linear(128, 10)),\n",
    "]))"
   ]
  },
  {
   "cell_type": "code",
   "execution_count": null,
   "id": "b53a9e71-4cee-4564-9deb-52feaf94fb57",
   "metadata": {},
   "outputs": [],
   "source": [
    "net.load_state_dict(state_dict)"
   ]
  },
  {
   "cell_type": "code",
   "execution_count": null,
   "id": "75c19bf4-50a2-4578-b6f3-563c43d93ae8",
   "metadata": {},
   "outputs": [],
   "source": [
    "net = net.eval()"
   ]
  },
  {
   "cell_type": "markdown",
   "id": "d5604b43-9956-46fb-a0df-994fc9615c15",
   "metadata": {},
   "source": [
    "## Helper functions"
   ]
  },
  {
   "cell_type": "code",
   "execution_count": null,
   "id": "59604e06-1e65-4eaa-bbb9-bfe4c25d20ae",
   "metadata": {},
   "outputs": [],
   "source": [
    "def argmax_kd(v):\n",
    "    return np.unravel_index(np.argmax(v), v.shape)"
   ]
  },
  {
   "cell_type": "code",
   "execution_count": null,
   "id": "f2701f5c-8fdd-47e2-bb18-64a87e18e848",
   "metadata": {},
   "outputs": [],
   "source": [
    "def argmax_kd_val(v):\n",
    "    max_idxs = argmax_kd(v)\n",
    "    max_vals = v[max_idxs]\n",
    "\n",
    "    return max_idxs, max_vals"
   ]
  },
  {
   "cell_type": "code",
   "execution_count": null,
   "id": "01f138a4-528f-4d4d-9ca1-f6f3960f6761",
   "metadata": {},
   "outputs": [],
   "source": [
    "def to_numpy(v):\n",
    "    return v.to('cpu').detach().numpy() if isinstance(\n",
    "        v, \n",
    "        (torch.Tensor,)\n",
    "    ) else v"
   ]
  },
  {
   "cell_type": "code",
   "execution_count": null,
   "id": "f4ae3616-9971-4d73-a71e-d9b7d4683166",
   "metadata": {},
   "outputs": [],
   "source": [
    "def intersect(*arrs):\n",
    "    return reduce(np.intersect1d, (arrs))"
   ]
  },
  {
   "cell_type": "code",
   "execution_count": null,
   "id": "9b213265-92f8-4077-9f7c-d3078fcee87c",
   "metadata": {},
   "outputs": [],
   "source": [
    "def intersect_xd(*arrs):\n",
    "    return np.minimum.reduce(arrs)"
   ]
  },
  {
   "cell_type": "code",
   "execution_count": null,
   "id": "2e7dec08-8187-4b18-bb2d-a0129bbd7f65",
   "metadata": {},
   "outputs": [],
   "source": [
    "def le(v1, v2):\n",
    "    v1_np = to_numpy(v1)\n",
    "    v2_np = to_numpy(v2)\n",
    "    return np.all(v1_np <= v2_np)"
   ]
  },
  {
   "cell_type": "code",
   "execution_count": null,
   "id": "fe5aba73-dfc2-4595-aaa1-efed437ebaa3",
   "metadata": {},
   "outputs": [],
   "source": [
    "def layer_V(data, net, k=5, bs=1):\n",
    "    V = list()\n",
    "    X = list()\n",
    "    with tqdm(list(range(0, len(data), bs))) as ds:\n",
    "        for bi in ds:\n",
    "            xs = [data[batch][0] for batch in range(bi, bi + bs)]\n",
    "            vs = net(*xs, k=k)\n",
    "            V.append(vs)\n",
    "            X.extend(xs)\n",
    "\n",
    "    return np.vstack(V), X"
   ]
  },
  {
   "cell_type": "code",
   "execution_count": null,
   "id": "cdc704f3-fc3d-4f73-bcd1-005db1d44c65",
   "metadata": {},
   "outputs": [],
   "source": [
    "def loop_maxes(V, func, *args, **kwargs):\n",
    "    with tqdm(V) as mstml:\n",
    "        for i, v in enumerate(mstml):\n",
    "            func(i, v, *args, **kwargs)"
   ]
  },
  {
   "cell_type": "code",
   "execution_count": null,
   "id": "e34fa57e-d3b0-4398-994c-77f9901c9efe",
   "metadata": {},
   "outputs": [],
   "source": [
    "def select_top(V, idx, thresh):\n",
    "    tops = list()\n",
    "    def add_to_top(i, v):\n",
    "        if thresh <= v[idx]:\n",
    "            tops.append(i)\n",
    "    loop_maxes(V, lambda i, v: add_to_top(i, v))\n",
    "    \n",
    "    return tops"
   ]
  },
  {
   "cell_type": "code",
   "execution_count": null,
   "id": "5c53d0a3-f137-460a-8304-de6e5e09f7f5",
   "metadata": {},
   "outputs": [],
   "source": [
    "def find_v_x(V, mrng, idx):\n",
    "    mid = np.argmin(np.array(V)[mrng], axis=0)[idx]\n",
    "    x_id = mrng[mid]\n",
    "    v_x = V[x_id]\n",
    "\n",
    "    return v_x, x_id"
   ]
  },
  {
   "cell_type": "code",
   "execution_count": null,
   "id": "7c1fcda3-9bb4-4217-b35b-c80d2db573a8",
   "metadata": {},
   "outputs": [],
   "source": [
    "def find_v_A(V, mrng):\n",
    "    return np.minimum.reduce(np.array(V)[mrng])"
   ]
  },
  {
   "cell_type": "code",
   "execution_count": null,
   "id": "87b32056-adc5-4cc3-bf86-f61d04b85c81",
   "metadata": {},
   "outputs": [],
   "source": [
    "def find_G_x(V, v_x):\n",
    "    with tqdm(V) as mstm:\n",
    "        G_x = np.array([i for i, v in enumerate(mstm) if np.all(v_x <= v)])\n",
    "\n",
    "    return G_x"
   ]
  },
  {
   "cell_type": "code",
   "execution_count": null,
   "id": "82e58d2a-4336-4cfe-8382-c11e3129924a",
   "metadata": {},
   "outputs": [],
   "source": [
    "def show_img(ds, idx):\n",
    "    plt.imshow(ds[idx][0])"
   ]
  },
  {
   "cell_type": "code",
   "execution_count": null,
   "id": "602ddceb-6d9a-4ccc-b67e-efdc7317a265",
   "metadata": {},
   "outputs": [],
   "source": [
    "def show(imgs, h=12, w=12):\n",
    "    if not isinstance(imgs, list):\n",
    "        imgs = [imgs]\n",
    "    fig, axs = plt.subplots(\n",
    "        ncols=len(imgs),\n",
    "        figsize=(w, h),\n",
    "        squeeze=False\n",
    "    )\n",
    "    for i, img in enumerate(imgs):\n",
    "        img = img.detach()\n",
    "        img = F.to_pil_image(img)\n",
    "        axs[0, i].imshow(np.asarray(img))\n",
    "        axs[0, i].set(xticklabels=[], yticklabels=[], xticks=[], yticks=[])"
   ]
  },
  {
   "cell_type": "code",
   "execution_count": null,
   "id": "1d9e88a1-2288-4892-91e0-86e303cd9dac",
   "metadata": {},
   "outputs": [],
   "source": [
    "def show_grid(G_A, data, nrow=8, h=12, w=12, my=None):\n",
    "    G_A_F = G_A.ravel()\n",
    "    to_tensor = transforms.ToTensor()\n",
    "    A_gr = [\n",
    "        to_tensor(data[i][0]) for i in G_A_F\n",
    "    ] if my is None else [\n",
    "        to_tensor(data[i][0]) for i in G_A_F if data[i][1] != my\n",
    "    ]\n",
    "    grid = make_grid(A_gr, nrow=nrow)\n",
    "    show(grid, h=h, w=w)"
   ]
  },
  {
   "cell_type": "markdown",
   "id": "587b4d04-b682-45a7-9da6-9c3827324bff",
   "metadata": {},
   "source": [
    "#### Data processing"
   ]
  },
  {
   "cell_type": "code",
   "execution_count": null,
   "id": "79582962-e9f1-47c5-91d0-dc42c8d8bb83",
   "metadata": {},
   "outputs": [],
   "source": [
    "def layer_hist(X_y, V_X, y=None):\n",
    "    if y is None:\n",
    "        V_X_y = V_X\n",
    "    else:\n",
    "        with tqdm(V_X) as p_V_X:\n",
    "            V_X_y = np.array(\n",
    "                [v_x for x_y, v_x in zip(X_y, p_V_X) if x_y[1] == y]\n",
    "            )\n",
    "\n",
    "    return V_X_y"
   ]
  },
  {
   "cell_type": "code",
   "execution_count": null,
   "id": "b65ceec6-18d8-4601-a7cc-d2c54a9e5822",
   "metadata": {},
   "outputs": [],
   "source": [
    "def get_digits(data):\n",
    "    digits = dict()\n",
    "    with tqdm(data) as pdata:\n",
    "        for x, y in pdata:\n",
    "            digits.setdefault(y, list())\n",
    "            digits[y].append(x)\n",
    "\n",
    "    return digits"
   ]
  },
  {
   "cell_type": "markdown",
   "id": "fd03525d-0e1b-4526-a5d9-2b1dc1a3b114",
   "metadata": {},
   "source": [
    "#### Feature visualizations"
   ]
  },
  {
   "cell_type": "code",
   "execution_count": null,
   "id": "b0ac1ece-2237-4252-94e9-ea4d5620e642",
   "metadata": {},
   "outputs": [],
   "source": [
    "def visualize_slices(activations, filters=32):\n",
    "    for k in range(0, filters, 16):\n",
    "        fig, axes = plt.subplots(4, 4, figsize=(12, 12))\n",
    "        for i, ax in enumerate(axes.flat):\n",
    "            if i < 16:\n",
    "                activation = activations[k + i]\n",
    "                activation = activation.cpu() if isinstance(activation, torch.Tensor) else activation\n",
    "                im = ax.imshow(activation, cmap='viridis')\n",
    "                ax.set_title(f'Conv1 - Filter {k + i}')\n",
    "                ax.axis('off')\n",
    "                # fig.colorbar(im, ax=ax, fraction=0.046, pad=0.04)\n",
    "        plt.show()    "
   ]
  },
  {
   "cell_type": "code",
   "execution_count": null,
   "id": "2ea6fb43-a8b6-493c-b418-a7fe41f1d808",
   "metadata": {},
   "outputs": [],
   "source": [
    "# Function to visualize the activations\n",
    "def visualize_activations(model, image, layers=[2, 4], hist=False):\n",
    "    # Pass the image through the network\n",
    "    activations = list()\n",
    "    with torch.no_grad():\n",
    "        for k in layers:\n",
    "            output = model(image, k=k)\n",
    "            activations.append(output.detach())\n",
    "\n",
    "    # Plot the activations\n",
    "    for k in range(0, 32, 16):\n",
    "        fig, axes = plt.subplots(4, 4, figsize=(12, 12))\n",
    "        for i, ax in enumerate(axes.flat):\n",
    "            if i < 16:\n",
    "                activation = activations[0][k + i].cpu()\n",
    "                if hist:\n",
    "                    ax = fig.add_subplot(4, 4, i + 1, projection='3d')\n",
    "                    activation = activation.numpy()\n",
    "                    x, y = np.meshgrid(np.arange(activation.shape[1]), np.arange(activation.shape[0]))\n",
    "                    ax.bar3d(x.ravel(), y.ravel(), np.zeros_like(x.ravel()), 1, 1, activation.ravel(), shade=True)\n",
    "                else:\n",
    "                    im = ax.imshow(activation, cmap='viridis')\n",
    "                    ax.set_title(f'Conv1 - Filter {k + i}')\n",
    "                    ax.axis('off')\n",
    "                # fig.colorbar(im, ax=ax, fraction=0.046, pad=0.04)\n",
    "        plt.show()\n",
    "    print('======================')\n",
    "    for k in range(0, 64, 16):\n",
    "        fig, axes = plt.subplots(4, 4, figsize=(12, 12))\n",
    "        for i, ax in enumerate(axes.flat):\n",
    "            if i < 16:\n",
    "                im = ax.imshow(activations[1][k + i].cpu(), cmap='viridis')\n",
    "                ax.set_title(f'Conv2 - Filter {k + i}')\n",
    "                ax.axis('off')\n",
    "                fig.colorbar(im, ax=ax, fraction=0.046, pad=0.04)\n",
    "        plt.show()\n",
    "\n",
    "    return activations"
   ]
  },
  {
   "cell_type": "code",
   "execution_count": null,
   "id": "76ce2364-441a-4e44-9bfc-2a205040696f",
   "metadata": {},
   "outputs": [],
   "source": [
    "def show_activation(activation, layer_name='', filter_index=0):\n",
    "    # Plot the activation as a grid of numbers\n",
    "    fig, ax = plt.subplots(figsize=(16, 16))\n",
    "    cax = ax.matshow(activation, cmap='viridis')\n",
    "\n",
    "    # Customize the ticks to show each step\n",
    "    ax.set_xticks(np.arange(activation.shape[1]))\n",
    "    ax.set_yticks(np.arange(activation.shape[0]))\n",
    "\n",
    "    # Show grid lines\n",
    "    ax.grid(color='black', linestyle='-', linewidth=1, which='both')\n",
    "    ax.xaxis.set_ticks_position('bottom')\n",
    "\n",
    "    # Annotate the grid with the activation values\n",
    "    for (i, j), val in np.ndenumerate(activation):\n",
    "        ax.text(j, i, f'{val:.2f}', ha='center', va='center', color='white')\n",
    "\n",
    "    fig.colorbar(cax)\n",
    "    plt.title(f'Activation of {layer_name} - Filter {filter_index}')\n",
    "    plt.show()"
   ]
  },
  {
   "cell_type": "code",
   "execution_count": null,
   "id": "ebae9206-a5b1-48be-84bc-8141a8f4ffb0",
   "metadata": {},
   "outputs": [],
   "source": [
    "def visualize_weights(layer, num_filters=32):\n",
    "    weights = layer.weight.data.cpu().numpy()\n",
    "    for k in range(0, num_filters, 16):\n",
    "        fig, axes = plt.subplots(4, 4, figsize=(12, 12))\n",
    "        for i, ax in enumerate(axes.flat):\n",
    "            if i < num_filters:\n",
    "                img = weights[i, 0, :, :]  # Select the i-th filter and the first input channel\n",
    "                im = ax.imshow(img, cmap='viridis')\n",
    "                ax.axis('off')\n",
    "                ax.set_title(f'Filter {i}')\n",
    "                fig.colorbar(im, ax=ax, fraction=0.046, pad=0.04)\n",
    "        plt.show()"
   ]
  },
  {
   "cell_type": "markdown",
   "id": "07bc0a6b-0066-4536-9bd8-f31ffcd106ae",
   "metadata": {},
   "source": [
    "## Feature FCA analysis methods"
   ]
  },
  {
   "cell_type": "code",
   "execution_count": null,
   "id": "d6b389de-22e8-459b-a7b4-889445b98dd0",
   "metadata": {},
   "outputs": [],
   "source": [
    "def find_V_X_digits(V_X):\n",
    "    return [\n",
    "        layer_hist(data_train, V_X, y=k) for k in range(10)\n",
    "    ]"
   ]
  },
  {
   "cell_type": "code",
   "execution_count": null,
   "id": "9fdc1c20-77c6-49f9-81b1-47ac2e596773",
   "metadata": {},
   "outputs": [],
   "source": [
    "def sort_V(*V_Xs):\n",
    "    with tqdm(V_Xs) as pV_Xs:\n",
    "        V_X_sr = [np.sort(V_X_d, axis=0) for V_X_d in V_Xs]\n",
    "\n",
    "    return V_X_sr"
   ]
  },
  {
   "cell_type": "code",
   "execution_count": null,
   "id": "ce524bc5-b1f6-4f12-bc5b-a4e3154fd2b9",
   "metadata": {},
   "outputs": [],
   "source": [
    "def sort_V_X(V_X):\n",
    "    V_X_ds = find_V_X_digits(V_X)\n",
    "    V_X_sr = sort_V(*V_X_ds)\n",
    "\n",
    "    return V_X_ds, V_X_sr"
   ]
  },
  {
   "cell_type": "code",
   "execution_count": null,
   "id": "7a5ef397-808d-4209-b30f-76c145869a40",
   "metadata": {},
   "outputs": [],
   "source": [
    "def features_hist(*n_Fs, V=np.zeros((1, 16))):\n",
    "    rows = len(n_Fs)\n",
    "    vs_ls = list()\n",
    "    with tqdm(n_Fs) as pn_Fs:\n",
    "        for n_F in pn_Fs:\n",
    "            vs = [v[n_F] for v in V]\n",
    "            vs_ls.append(vs)\n",
    "    fig, axs = plt.subplots(rows, 1, sharey=True, tight_layout=True, figsize=(8 * rows, 32))\n",
    "    for r in range(rows):\n",
    "        vs_h = vs_ls[r]\n",
    "        axs[r].hist(vs_h)\n",
    "        axs[r].set_xlim(0, 32)  # Set the X-axis limit if you want a specific range\n",
    "        axs[r].set_xticks(np.arange(0, 32, 0.5))  # Ensure the ticks match the new range\n",
    "        # axs[r].set_title(str(vs_h))\n",
    "    "
   ]
  },
  {
   "cell_type": "code",
   "execution_count": null,
   "id": "96cd136f-0af4-4370-ba7e-6b651fff69a5",
   "metadata": {},
   "outputs": [],
   "source": [
    "class LayerFCA(object):\n",
    "\n",
    "    def __init__(self, V_X, U_X, data):\n",
    "        self.V_X = V_X\n",
    "        self.U_X = U_X\n",
    "        self.data = data\n",
    "        self.G_As = list()\n",
    "        self.v_As = list()\n",
    "        self.D = None\n",
    "        self.v_D = None\n",
    "        self.U_D = None\n",
    "        self.G_U_D = None\n",
    "        self.find_G_x = find_G_x\n",
    "        self.find_v_A = find_v_A\n",
    "        self.find_G_x = find_G_x\n",
    "\n",
    "    def fca_v(self, ns, ths):\n",
    "        for n_A, th_A in zip(ns, ths):\n",
    "            G_A_v_A = select_top(self.V_X, n_A, th_A)\n",
    "            v_A = find_v_A(self.V_X, G_A_v_A)\n",
    "            self.v_As.append(v_A)\n",
    "            G_A = find_G_x(self.V_X, v_A)\n",
    "            self.G_As.append(G_A)\n",
    "        self.D = intersect(*self.G_As) if self.G_As else []\n",
    "        self.v_D = np.maximum.reduce(self.v_As)\n",
    "        \n",
    "        return self.D, self.v_D\n",
    "\n",
    "    def fca_u(self, ns, ths):\n",
    "        D, _ = self.fca_v(ns, ths)\n",
    "        self.u_D = find_v_A(\n",
    "            self.U_X, D\n",
    "        ) if np.any(D) else np.zeros(\n",
    "            (16,), dtype=float\n",
    "        )\n",
    "        self.G_u_D = find_G_x(self.U_X, self.u_D)\n",
    "\n",
    "        return self.G_u_D\n",
    "\n",
    "    @staticmethod\n",
    "    def count_ys(ys):\n",
    "        un, cn = np.unique(ys, return_counts=True)\n",
    "        uncn = np.array([un, cn])\n",
    "\n",
    "        return uncn\n",
    "\n",
    "    def _report_u(self, G_u_D, data=None):\n",
    "        data_ls = self.data if data is None else data\n",
    "        ys = np.array([data_ls[idx][1] for idx in G_u_D])\n",
    "        uncn = self.count_ys(ys)\n",
    "        if data is None:\n",
    "            self.uncn = uncn\n",
    "\n",
    "        return uncn\n",
    "\n",
    "    def report(self, G_u_D, data):\n",
    "        return self._report_u(G_u_D, data=data)\n",
    "\n",
    "    def fca_u_arr(self, ns_arr):\n",
    "        ns = [nr[0] for nr in neurons[neur_idx]]\n",
    "        ts = [nr[1] for nr in neurons[neur_idx]]\n",
    "        G_U_D = self.fca_u(ns, ts)\n",
    "        self._report_u(G_U_D)\n",
    "\n",
    "        return self.G_u_D\n",
    "\n",
    "    @staticmethod\n",
    "    def G_U(U_X, u_D):\n",
    "        return find_G_x(U_X, u_D)\n",
    "\n",
    "    def find_u_G_u(self, v):\n",
    "        G_v = find_G_x(self.V_X, v)\n",
    "        u_D = find_v_A(self.U_X, G_v)\n",
    "        G_u = find_G_x(self.U_X, u_D)\n",
    "        self._report_u(G_u)\n",
    "\n",
    "        return G_v, u_D, G_u\n",
    "\n",
    "\n",
    "    def find_G_u(self, v, U, X):\n",
    "        G_v, u_D, G_u = self.find_u_G_u(v)\n",
    "        G_rest = find_G_x(U, u_D)\n",
    "\n",
    "        return G_rest"
   ]
  },
  {
   "cell_type": "markdown",
   "id": "874feb42-af13-4e55-baee-b63dadbe7f30",
   "metadata": {},
   "source": [
    "#### Data processing"
   ]
  },
  {
   "cell_type": "code",
   "execution_count": null,
   "id": "df192c73-9102-4845-9c06-2348c0e334eb",
   "metadata": {},
   "outputs": [],
   "source": [
    "def compute_mean_std(dataset):\n",
    "    loader = DataLoader(dataset, batch_size=64, shuffle=False, num_workers=workers)\n",
    "    mean = 0.\n",
    "    std = 0.\n",
    "    for images, _ in loader:\n",
    "        batch_samples = images.size(0)  # batch size (the last batch can have smaller size)\n",
    "        images = images.view(batch_samples, images.size(1), -1)\n",
    "        mean += images.mean(2).sum(0)\n",
    "        std += images.std(2).sum(0)\n",
    "    \n",
    "    mean /= len(loader.dataset)\n",
    "    std /= len(loader.dataset)\n",
    "    return mean, std"
   ]
  },
  {
   "cell_type": "markdown",
   "id": "cae6cb9b-e48c-44e6-b0ec-8907629451e1",
   "metadata": {},
   "source": [
    "## Initialize FashionMNIST dataset"
   ]
  },
  {
   "cell_type": "code",
   "execution_count": null,
   "id": "f18cfb04-2f43-4ae2-9242-9a6ae0e09b3e",
   "metadata": {},
   "outputs": [],
   "source": [
    "mean, std = compute_mean_std(\n",
    "    FashionMNIST(\n",
    "        images_dir, \n",
    "        train=True, \n",
    "        download=True, \n",
    "        transform=transforms.Compose(\n",
    "            [\n",
    "                transforms.ToTensor(),\n",
    "              ]\n",
    "            )\n",
    "        )\n",
    "    )"
   ]
  },
  {
   "cell_type": "code",
   "execution_count": null,
   "id": "15823d86-2e0f-450d-9a00-7694282f0bde",
   "metadata": {},
   "outputs": [],
   "source": [
    "mean, std"
   ]
  },
  {
   "cell_type": "code",
   "execution_count": null,
   "id": "b5a613d8-e5ac-4a78-9e79-983e19ffb93d",
   "metadata": {},
   "outputs": [],
   "source": [
    "transform = transforms.Compose(\n",
    "            [\n",
    "                transforms.ToTensor(),\n",
    "                transforms.Normalize((mean,), (std,)),\n",
    "            ]\n",
    ")"
   ]
  },
  {
   "cell_type": "code",
   "execution_count": null,
   "id": "9d206541-1930-4ce3-a629-b9deed2b7c0f",
   "metadata": {},
   "outputs": [],
   "source": [
    "data_train = FashionMNIST(images_dir, train=True, download=True)\n",
    "data_test = FashionMNIST(images_dir, train=False, download=True)"
   ]
  },
  {
   "cell_type": "code",
   "execution_count": null,
   "id": "55a9639b-ba83-4a8f-a06d-5d8e68f08cfc",
   "metadata": {},
   "outputs": [],
   "source": [
    "next(net.parameters()).device"
   ]
  },
  {
   "cell_type": "code",
   "execution_count": null,
   "id": "b34a7580-c9fe-4db9-adab-f7ffd8115c05",
   "metadata": {},
   "outputs": [],
   "source": [
    "device = find_device()\n",
    "device"
   ]
  },
  {
   "cell_type": "code",
   "execution_count": null,
   "id": "0ed4ff52-8905-4cbd-83b3-79a12a7d21f8",
   "metadata": {},
   "outputs": [],
   "source": [
    "wnet = NetWrapper(net, transform)"
   ]
  },
  {
   "cell_type": "code",
   "execution_count": null,
   "id": "24107477-a096-4454-8498-51ec736609ee",
   "metadata": {},
   "outputs": [],
   "source": [
    "wnet.net"
   ]
  },
  {
   "cell_type": "code",
   "execution_count": null,
   "id": "b4ed25af-cd8a-45f4-be1b-b2bcbc368e68",
   "metadata": {
    "scrolled": true
   },
   "outputs": [],
   "source": [
    "wnet.net[:6]"
   ]
  },
  {
   "cell_type": "code",
   "execution_count": null,
   "id": "6dec2f3e-5d5a-4b7b-b2fd-5c2266f54087",
   "metadata": {},
   "outputs": [],
   "source": [
    "layer_V_n = 3\n",
    "layer_U_n = 6"
   ]
  },
  {
   "cell_type": "code",
   "execution_count": null,
   "id": "41b27625-58b2-4cfd-99de-8a5f2a3f684b",
   "metadata": {
    "scrolled": true
   },
   "outputs": [],
   "source": [
    "wnet.device"
   ]
  },
  {
   "cell_type": "code",
   "execution_count": null,
   "id": "c3df5343-a282-480d-82e4-91620c3398e7",
   "metadata": {},
   "outputs": [],
   "source": [
    "r1 = wnet(V_X_train[0][0], V_X_train[1][0], k=layer_V_n)\n",
    "r2 = wnet(V_X_train[2][0], V_X_train[3][0], k=layer_V_n)"
   ]
  },
  {
   "cell_type": "code",
   "execution_count": null,
   "id": "ad9190f4-6f4e-4aa4-a617-874e668107ef",
   "metadata": {},
   "outputs": [],
   "source": [
    "np.vstack([r1, r2]).shape"
   ]
  },
  {
   "cell_type": "code",
   "execution_count": null,
   "id": "7da39f11-54d0-4e2b-8ab6-fdc8d895a058",
   "metadata": {},
   "outputs": [],
   "source": [
    "V_X_train, X_V_train = layer_V(data_train, wnet, k=layer_V_n, bs=8)"
   ]
  },
  {
   "cell_type": "code",
   "execution_count": null,
   "id": "5f62f114-37a5-4c98-b955-c133ff39ed12",
   "metadata": {},
   "outputs": [],
   "source": [
    "V_X_test, X_V_test = layer_V(data_test, wnet, k=layer_V_n, bs=8)"
   ]
  },
  {
   "cell_type": "code",
   "execution_count": null,
   "id": "83f78423-c986-4815-86d6-b0582f8c150b",
   "metadata": {},
   "outputs": [],
   "source": [
    "U_X_train, X_U_train = layer_V(data_train, wnet, k=layer_U_n, bs=8)"
   ]
  },
  {
   "cell_type": "code",
   "execution_count": null,
   "id": "fb115167-5947-4fa3-b4fc-aa8862a0d0d7",
   "metadata": {},
   "outputs": [],
   "source": [
    "U_X_test, X_U_test = layer_V(data_test, wnet, k=layer_U_n, bs=8)"
   ]
  },
  {
   "cell_type": "code",
   "execution_count": null,
   "id": "2b3308af-0368-48cb-ba2a-235f745953ff",
   "metadata": {},
   "outputs": [],
   "source": [
    "V_X_train.shape, V_X_test.shape, U_X_train.shape, U_X_test.shape"
   ]
  },
  {
   "cell_type": "code",
   "execution_count": null,
   "id": "ec67cfd1-52a8-4d61-93da-7127859c88b8",
   "metadata": {},
   "outputs": [],
   "source": [
    "arg_max = np.argmax(V_X_train, axis=0)\n",
    "arg_max.shape"
   ]
  },
  {
   "cell_type": "code",
   "execution_count": null,
   "id": "7003b961-347f-49d3-b5a6-1d37144ae1a8",
   "metadata": {},
   "outputs": [],
   "source": [
    "arg_top = np.argsort(V_X_train, axis=0)\n",
    "arg_top.shape"
   ]
  },
  {
   "cell_type": "code",
   "execution_count": null,
   "id": "ec5b8639-5021-4437-b8f0-248b9cdb8972",
   "metadata": {},
   "outputs": [],
   "source": [
    "show_grid(arg_top[-16:,1, 9, 2], data_train, nrow=32)"
   ]
  },
  {
   "cell_type": "code",
   "execution_count": null,
   "id": "b45f9773-5ce2-4f92-acac-08a6d1ffe318",
   "metadata": {
    "scrolled": true
   },
   "outputs": [],
   "source": [
    "# np.max(V_X_train, axis=0)"
   ]
  },
  {
   "cell_type": "code",
   "execution_count": null,
   "id": "15a6802a-c1a1-4e99-ba4f-c93c689ea54f",
   "metadata": {},
   "outputs": [],
   "source": [
    "show_grid(arg_max[1,:], data_train, nrow=14)"
   ]
  },
  {
   "cell_type": "code",
   "execution_count": null,
   "id": "b62df86c-7491-4971-b341-bd47e3a2fc93",
   "metadata": {},
   "outputs": [],
   "source": [
    "# show_grid(arg_max, data_train, nrow=14)"
   ]
  },
  {
   "cell_type": "markdown",
   "id": "e16cfea8-ae7e-4209-89fb-dbd1dfa3ad79",
   "metadata": {},
   "source": [
    "## Sorting vectors"
   ]
  },
  {
   "cell_type": "code",
   "execution_count": null,
   "id": "17927a97-ba89-4227-9e58-1397dfa5946b",
   "metadata": {},
   "outputs": [],
   "source": [
    "V_X_digits, V_X_sorteds = sort_V_X(V_X_train)"
   ]
  },
  {
   "cell_type": "markdown",
   "id": "7e3b79ba-84e6-455d-afca-b7674b9750e4",
   "metadata": {},
   "source": [
    "## Alanyze maximum stimulus"
   ]
  },
  {
   "cell_type": "code",
   "execution_count": null,
   "id": "49fab0be-daa7-4588-8fee-ee1253aa0667",
   "metadata": {},
   "outputs": [],
   "source": [
    "u_Ds = dict()\n",
    "G_v_tests = dict()\n",
    "G_u_tests = dict()"
   ]
  },
  {
   "cell_type": "code",
   "execution_count": null,
   "id": "5de91ddf-3ad2-4dbf-a2ce-87c4d61cebf9",
   "metadata": {},
   "outputs": [],
   "source": [
    "i = 0\n",
    "ths = [\n",
    "    328, #0\n",
    "    280, #1\n",
    "    320, #2\n",
    "    384, #3\n",
    "    300, #4\n",
    "    300, #5\n",
    "    400, #6\n",
    "    200, #7\n",
    "    380, #8\n",
    "    180  #9\n",
    "]\n",
    "v = np.copy(V_X_sorteds[i][ths[i]])"
   ]
  },
  {
   "cell_type": "code",
   "execution_count": null,
   "id": "cfed857e-303b-4a73-84c7-c7d3fa2787b9",
   "metadata": {
    "scrolled": true
   },
   "outputs": [],
   "source": [
    "for i in range(10):\n",
    "    v = np.copy(V_X_sorteds[i][ths[i]])\n",
    "    layer_fca = LayerFCA(V_X_train, U_X_train, data_train)\n",
    "    G_v, u_D, G_u = layer_fca.find_u_G_u(v)\n",
    "    G_v_test = layer_fca.find_G_x(V_X_test, v)\n",
    "    G_u_test = layer_fca.find_G_x(U_X_test, u_D)\n",
    "    u_Ds[i] = u_D\n",
    "    G_v_tests[i] = G_v_test\n",
    "    G_u_tests[i] = G_u_test"
   ]
  },
  {
   "cell_type": "code",
   "execution_count": null,
   "id": "47a48bff-58ce-41f8-a357-368c60c4ce82",
   "metadata": {
    "scrolled": true
   },
   "outputs": [],
   "source": [
    "uncn_test = layer_fca.report(G_u_tests[i], data_test)\n",
    "uncn_test, np.round(uncn_test[1] / np.sum(uncn_test[1]), decimals=4)"
   ]
  },
  {
   "cell_type": "code",
   "execution_count": null,
   "id": "8a1f1625-638e-4327-9ce3-eb5c4132b175",
   "metadata": {
    "scrolled": true
   },
   "outputs": [],
   "source": [
    "show_grid(G_v_tests[i], data_test, nrow=32)"
   ]
  },
  {
   "cell_type": "code",
   "execution_count": null,
   "id": "4febfb14-1d86-4a92-93db-8c195d499f46",
   "metadata": {
    "scrolled": true
   },
   "outputs": [],
   "source": [
    "show_grid(G_u_tests[i], data_test, nrow=32)"
   ]
  },
  {
   "cell_type": "code",
   "execution_count": null,
   "id": "70d47778-fc0a-405c-b9c2-6ccc1c2540a6",
   "metadata": {
    "scrolled": true
   },
   "outputs": [],
   "source": [
    "layer_fca = LayerFCA(V_X_train, U_X_train, data_train)\n",
    "G_v, u_D, G_u = layer_fca.find_u_G_u(v)\n",
    "G_v_test = layer_fca.find_G_x(V_X_test, v)\n",
    "G_u_test = layer_fca.find_G_x(U_X_test, u_D)\n",
    "u_Ds[i] = u_D"
   ]
  },
  {
   "cell_type": "code",
   "execution_count": null,
   "id": "57998c97-6d34-4e2b-8f30-437891e88374",
   "metadata": {},
   "outputs": [],
   "source": [
    "G_u.shape, G_u_test.shape"
   ]
  },
  {
   "cell_type": "code",
   "execution_count": null,
   "id": "73b4de9b-fb47-463b-ad71-81ee48291c4b",
   "metadata": {
    "scrolled": true
   },
   "outputs": [],
   "source": [
    "[G_v.shape, G_u.shape], np.max(u_D)"
   ]
  },
  {
   "cell_type": "code",
   "execution_count": null,
   "id": "34a802b0-a24e-4f1c-8c6a-a82b2a56dfbd",
   "metadata": {
    "scrolled": true
   },
   "outputs": [],
   "source": [
    "uncn_test = layer_fca.report(G_u_test, data_test)"
   ]
  },
  {
   "cell_type": "code",
   "execution_count": null,
   "id": "7c809141-417f-40d0-853d-d78a15b554df",
   "metadata": {
    "scrolled": true
   },
   "outputs": [],
   "source": [
    "uncn_test, np.round(uncn_test[1] / np.sum(uncn_test[1]), decimals=4)"
   ]
  },
  {
   "cell_type": "code",
   "execution_count": null,
   "id": "a5e19d5f-54dd-4725-a98b-945390359c2d",
   "metadata": {
    "scrolled": true
   },
   "outputs": [],
   "source": [
    "layer_fca.uncn, V_X_sorteds[i].shape[0]"
   ]
  },
  {
   "cell_type": "code",
   "execution_count": null,
   "id": "0c7ccc8d-9f44-4a9f-82ee-11406505a584",
   "metadata": {},
   "outputs": [],
   "source": [
    "show_grid(G_v_tests[i], data_test, nrow=32)"
   ]
  },
  {
   "cell_type": "code",
   "execution_count": null,
   "id": "37eacafa-dde7-4b72-8564-53041f4127a2",
   "metadata": {},
   "outputs": [],
   "source": [
    "show_grid(G_u_tests[i], data_test, nrow=32)"
   ]
  },
  {
   "cell_type": "code",
   "execution_count": null,
   "id": "433d460e-bee7-46e5-b246-db3e3312026b",
   "metadata": {},
   "outputs": [],
   "source": [
    "y_hs = [np.argmax(wnet(data_test[idx][0])) for idx in G_u_test]"
   ]
  },
  {
   "cell_type": "code",
   "execution_count": null,
   "id": "16db8da9-062e-411a-bebc-f0cbe7c32776",
   "metadata": {},
   "outputs": [],
   "source": [
    "uncn_hat = layer_fca.count_ys(y_hs)"
   ]
  },
  {
   "cell_type": "code",
   "execution_count": null,
   "id": "ff4fe32e-6584-4a7d-bcfb-6755d396189e",
   "metadata": {},
   "outputs": [],
   "source": [
    "uncn_hat"
   ]
  },
  {
   "cell_type": "code",
   "execution_count": null,
   "id": "7eac4c43-2479-4ddf-8c19-a209d53d5950",
   "metadata": {},
   "outputs": [],
   "source": [
    "net[3].weight[:, 0], net[3].bias"
   ]
  },
  {
   "cell_type": "code",
   "execution_count": null,
   "id": "dbba2b15-035d-49e5-b961-be7c6cdbf056",
   "metadata": {},
   "outputs": [],
   "source": [
    "layer_fca.uncn"
   ]
  },
  {
   "cell_type": "code",
   "execution_count": null,
   "id": "a0b016b1-456a-4c25-8c32-d09244be9a8d",
   "metadata": {},
   "outputs": [],
   "source": [
    "show_grid(G_u_test, data_test, nrow=48, h=64, w=64)"
   ]
  },
  {
   "cell_type": "code",
   "execution_count": null,
   "id": "6b8f766b-b25e-4268-89e7-bd91d8143c10",
   "metadata": {},
   "outputs": [],
   "source": [
    "show_grid(G_u_test, data_test, nrow=48, h=64, w=64, my=i)"
   ]
  },
  {
   "cell_type": "markdown",
   "id": "9c219db3-a011-4eb9-b2a4-a05124c63821",
   "metadata": {},
   "source": [
    "## Visualization of distribution"
   ]
  },
  {
   "cell_type": "code",
   "execution_count": null,
   "id": "90f42ac8-d74c-4be3-a798-b7c5e24f4c6b",
   "metadata": {},
   "outputs": [],
   "source": [
    "idx = 9"
   ]
  },
  {
   "cell_type": "code",
   "execution_count": null,
   "id": "6d509a3d-2dfb-4a9f-b8ff-6c5316c2b2b3",
   "metadata": {},
   "outputs": [],
   "source": [
    "visualize_slices(V_X_sorteds[idx][ths[idx]])"
   ]
  },
  {
   "cell_type": "code",
   "execution_count": null,
   "id": "ada93f25-1df5-4ebf-a21a-5bab542709e2",
   "metadata": {},
   "outputs": [],
   "source": [
    "digits_train = get_digits(data_train)"
   ]
  },
  {
   "cell_type": "code",
   "execution_count": null,
   "id": "b19e19b7-5e24-4b5b-8315-329fe100662a",
   "metadata": {},
   "outputs": [],
   "source": [
    "digits_train[0]"
   ]
  },
  {
   "cell_type": "code",
   "execution_count": null,
   "id": "6107b014-ab95-4e87-b05f-3ca4171f1272",
   "metadata": {},
   "outputs": [],
   "source": [
    "# Load an example image\n",
    "example_image, _ = data_test[i]\n",
    "# example_image = example_image.unsqueeze(0)  # Add batch dimension\n",
    "\n",
    "# Visualize the activations\n",
    "acts = visualize_activations(wnet, digits_train[0][8], layers=[3, 6], hist=False)"
   ]
  },
  {
   "cell_type": "code",
   "execution_count": null,
   "id": "5ccff658-5b95-42f9-8252-8317325e8862",
   "metadata": {},
   "outputs": [],
   "source": [
    "digits_train[0][:4]"
   ]
  },
  {
   "cell_type": "code",
   "execution_count": null,
   "id": "5eee8cfc-a804-42b1-9715-d6f0d7225f4d",
   "metadata": {},
   "outputs": [],
   "source": [
    "res = [wnet(x, k=3) for x in digits_train[0]]"
   ]
  },
  {
   "cell_type": "code",
   "execution_count": null,
   "id": "dc75dcaf-2357-480d-981a-81c69bb0e318",
   "metadata": {},
   "outputs": [],
   "source": [
    "res_k = list()\n",
    "int_k = list()\n",
    "with tqdm(list(range(32))) as pange:\n",
    "    for k in pange:\n",
    "        r_k = [r[k] for r in res]\n",
    "        res_k.append(r_k)\n",
    "        int_k.append(intersect_xd(*r_k))"
   ]
  },
  {
   "cell_type": "code",
   "execution_count": null,
   "id": "f6cbfe4d-6cd6-4c4e-bc3d-7c1acbce6fea",
   "metadata": {},
   "outputs": [],
   "source": [
    "visualize_slices(int_k)"
   ]
  },
  {
   "cell_type": "code",
   "execution_count": null,
   "id": "c96ce16b-9cff-4618-8f85-224848b94d91",
   "metadata": {},
   "outputs": [],
   "source": [
    "int_30.shape"
   ]
  },
  {
   "cell_type": "code",
   "execution_count": null,
   "id": "2d766b46-33b0-4bec-bd41-d0ab4c2708fc",
   "metadata": {},
   "outputs": [],
   "source": [
    "show_activation(int_k[28])"
   ]
  },
  {
   "cell_type": "code",
   "execution_count": null,
   "id": "16d43420-1ce6-4c73-ad65-03404364910f",
   "metadata": {},
   "outputs": [],
   "source": [
    "show_activation(acts[0][1])"
   ]
  },
  {
   "cell_type": "code",
   "execution_count": null,
   "id": "8b09e347-cb58-4ebb-846b-283ed1d1dfe8",
   "metadata": {},
   "outputs": [],
   "source": [
    "indices1 = np.where(acts[0][1] >= 1.2)\n",
    "indices1, acts[0][1][indices1]"
   ]
  },
  {
   "cell_type": "code",
   "execution_count": null,
   "id": "4297bc09-a931-4d59-baf0-14a84b81a41d",
   "metadata": {},
   "outputs": [],
   "source": [
    "show_activation(acts[0][8])"
   ]
  },
  {
   "cell_type": "code",
   "execution_count": null,
   "id": "4bcb7286-d862-4014-89a0-be53699065cd",
   "metadata": {
    "scrolled": true
   },
   "outputs": [],
   "source": [
    "indices2 = np.where(acts[0][8] >= 1.4)"
   ]
  },
  {
   "cell_type": "code",
   "execution_count": null,
   "id": "b0f8f511-eb4e-4e7a-9679-3b96787634bd",
   "metadata": {},
   "outputs": [],
   "source": [
    "acts[0][8][indices2]"
   ]
  },
  {
   "cell_type": "code",
   "execution_count": null,
   "id": "9f97424e-d026-49c6-9d97-7c7b67a318d4",
   "metadata": {},
   "outputs": [],
   "source": [
    "acts[0][1].shape"
   ]
  },
  {
   "cell_type": "code",
   "execution_count": null,
   "id": "2fe2b4e4-84e8-41a4-b354-337943da66fc",
   "metadata": {},
   "outputs": [],
   "source": [
    "acts[0][1][idcs].shape"
   ]
  },
  {
   "cell_type": "code",
   "execution_count": null,
   "id": "51b5562a-0a60-47d7-823b-db40293adb4a",
   "metadata": {},
   "outputs": [],
   "source": [
    "wnet.net[3]"
   ]
  },
  {
   "cell_type": "code",
   "execution_count": null,
   "id": "93a2eee9-5d96-4e41-b91d-872b695ef0a4",
   "metadata": {},
   "outputs": [],
   "source": [
    "# Visualize weights of the first convolutional layer\n",
    "visualize_weights(wnet.net[0], num_filters=32)\n",
    "\n",
    "# Visualize weights of the second convolutional layer\n",
    "visualize_weights(wnet.net[3], num_filters=64)"
   ]
  },
  {
   "cell_type": "code",
   "execution_count": null,
   "id": "4dfc239e-3994-40f3-8e96-31c1a6ada390",
   "metadata": {},
   "outputs": [],
   "source": [
    "V_X_ds[0].shape"
   ]
  },
  {
   "cell_type": "code",
   "execution_count": null,
   "id": "d27b6fb4-3f5d-4bd1-9faf-80fd05e2de81",
   "metadata": {},
   "outputs": [],
   "source": [
    "cprs = np.array([np.all(V_X_ds[0][0] <= V_X_d) or np.all(V_X_d < V_X_ds[0][0]) for V_X_d in V_X_ds[0]])"
   ]
  },
  {
   "cell_type": "code",
   "execution_count": null,
   "id": "5a212de0-faf0-49ef-9499-9af016691226",
   "metadata": {},
   "outputs": [],
   "source": [
    "np.where(cprs)"
   ]
  },
  {
   "cell_type": "code",
   "execution_count": null,
   "id": "4e46bc7b-9563-4400-8a1c-a28694ef0938",
   "metadata": {},
   "outputs": [],
   "source": []
  }
 ],
 "metadata": {
  "kernelspec": {
   "display_name": "Python 3 (ipykernel)",
   "language": "python",
   "name": "python3"
  },
  "language_info": {
   "codemirror_mode": {
    "name": "ipython",
    "version": 3
   },
   "file_extension": ".py",
   "mimetype": "text/x-python",
   "name": "python",
   "nbconvert_exporter": "python",
   "pygments_lexer": "ipython3",
   "version": "3.12.0"
  }
 },
 "nbformat": 4,
 "nbformat_minor": 5
}
