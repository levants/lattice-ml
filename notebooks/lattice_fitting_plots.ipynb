{
 "cells": [
  {
   "cell_type": "code",
   "execution_count": null,
   "id": "71ce37e9",
   "metadata": {},
   "outputs": [],
   "source": [
    "%load_ext autoreload\n",
    "%autoreload 2\n",
    "\n",
    "%matplotlib inline"
   ]
  },
  {
   "cell_type": "markdown",
   "id": "5b560092",
   "metadata": {},
   "source": [
    "## Install libraries"
   ]
  },
  {
   "cell_type": "markdown",
   "id": "89885fa7",
   "metadata": {},
   "source": [
    "```bash\n",
    "conda create -n edu4 python=3.11 jupyter matplotlib\n",
    "```"
   ]
  },
  {
   "cell_type": "markdown",
   "id": "cd23589d",
   "metadata": {},
   "source": [
    "```bash \n",
    "! pip install -U -r requirements.txt\n",
    "```"
   ]
  },
  {
   "cell_type": "markdown",
   "id": "9d16321f",
   "metadata": {},
   "source": [
    "```bash\n",
    "! pip install -U numpy\n",
    "! pip install -U scikit-learn\n",
    "```"
   ]
  },
  {
   "cell_type": "markdown",
   "id": "b4cab43a",
   "metadata": {},
   "source": [
    "## Update repository"
   ]
  },
  {
   "cell_type": "code",
   "execution_count": null,
   "id": "46bcb5dc",
   "metadata": {},
   "outputs": [],
   "source": [
    "! git pull"
   ]
  },
  {
   "cell_type": "markdown",
   "id": "bad216da",
   "metadata": {},
   "source": [
    "## Add import path"
   ]
  },
  {
   "cell_type": "code",
   "execution_count": null,
   "id": "baafb705",
   "metadata": {},
   "outputs": [],
   "source": [
    "import os\n",
    "import sys\n",
    "import gc"
   ]
  },
  {
   "cell_type": "code",
   "execution_count": null,
   "id": "b2930983",
   "metadata": {},
   "outputs": [],
   "source": [
    "module_path = os.path.abspath(os.path.join('..'))\n",
    "if module_path not in sys.path:\n",
    "    sys.path.append(module_path)"
   ]
  },
  {
   "cell_type": "code",
   "execution_count": null,
   "id": "7984d32f",
   "metadata": {},
   "outputs": [],
   "source": [
    "del module_path"
   ]
  },
  {
   "cell_type": "markdown",
   "id": "07a1e9c8",
   "metadata": {},
   "source": [
    "## Organize imports"
   ]
  },
  {
   "cell_type": "code",
   "execution_count": null,
   "id": "ae177357",
   "metadata": {},
   "outputs": [],
   "source": [
    "import multiprocessing\n",
    "from pathlib import Path"
   ]
  },
  {
   "cell_type": "code",
   "execution_count": null,
   "id": "a523557a",
   "metadata": {},
   "outputs": [],
   "source": [
    "import seaborn as sns"
   ]
  },
  {
   "cell_type": "code",
   "execution_count": null,
   "id": "25750a3d",
   "metadata": {},
   "outputs": [],
   "source": [
    "import matplotlib.pyplot as plt\n",
    "import numpy as np\n",
    "import pandas as pd"
   ]
  },
  {
   "cell_type": "code",
   "execution_count": null,
   "id": "125950ab",
   "metadata": {},
   "outputs": [],
   "source": [
    "import plotly.express as px"
   ]
  },
  {
   "cell_type": "code",
   "execution_count": null,
   "id": "262d0a5a-ccb6-4a7d-a4a2-76a276c2ce88",
   "metadata": {},
   "outputs": [],
   "source": [
    "from sklearn.linear_model import LinearRegression\n",
    "from sklearn.datasets import load_iris"
   ]
  },
  {
   "cell_type": "code",
   "execution_count": null,
   "id": "e1c75655-adba-4f78-811e-9fd3c0286a9e",
   "metadata": {},
   "outputs": [],
   "source": [
    "from scipy import stats\n",
    "from scipy.interpolate import interp1d"
   ]
  },
  {
   "cell_type": "markdown",
   "id": "65f31e93",
   "metadata": {},
   "source": [
    "#### Number of CPU cores"
   ]
  },
  {
   "cell_type": "code",
   "execution_count": null,
   "id": "b41c30f2",
   "metadata": {},
   "outputs": [],
   "source": [
    "workers = multiprocessing.cpu_count()\n",
    "workers"
   ]
  },
  {
   "cell_type": "markdown",
   "id": "0ccf4792-19f1-4d01-b9c2-ddea2462cadc",
   "metadata": {},
   "source": [
    "## Initialize Path"
   ]
  },
  {
   "cell_type": "markdown",
   "id": "4ccb9087-f95f-414f-b161-7f09426b413c",
   "metadata": {},
   "source": [
    "PATH = Path.home() / 'git' / 'my_papers' / 'latticems'/ 'algebraic_theory_of_model_fitting_posets_covers'\n",
    "images_path = PATH / 'images'\n",
    "images_path.mkdir(exist_ok=True)"
   ]
  },
  {
   "cell_type": "code",
   "execution_count": null,
   "id": "bcd545b8-0e15-41e9-92a9-4d0bf260c8b8",
   "metadata": {},
   "outputs": [],
   "source": [
    "PATH = Path('data')\n",
    "images_path = PATH / 'images'\n",
    "images_path.mkdir(exist_ok=True, parents=True)"
   ]
  },
  {
   "cell_type": "markdown",
   "id": "be07aad4-53a7-456b-b026-80295db7d84d",
   "metadata": {},
   "source": [
    "## Initialize simple dataset"
   ]
  },
  {
   "cell_type": "code",
   "execution_count": null,
   "id": "91af9915-902d-4462-92f3-36753d76810a",
   "metadata": {},
   "outputs": [],
   "source": [
    "X = np.random.uniform(low=-1.0, high=1.0, size=100)"
   ]
  },
  {
   "cell_type": "code",
   "execution_count": null,
   "id": "6ea5e0ee-bd33-4974-93a4-823298c4d10c",
   "metadata": {},
   "outputs": [],
   "source": [
    "def add_noise(target, range=0.04):\n",
    "    return target + np.random.normal(0, range, size=target.shape)"
   ]
  },
  {
   "cell_type": "code",
   "execution_count": null,
   "id": "1157ba34-e6de-4def-8cdc-6353cbc0cb54",
   "metadata": {},
   "outputs": [],
   "source": [
    "def funct_ln(x: float, b: float = 1.4) -> float:\n",
    "    return x**2 + b\n",
    "\n",
    "X = np.linspace(-1, 1, 20)\n",
    "y = funct_ln(X)\n",
    "\n",
    "C = [-0.85, -0.2, 0.2, 0.75, 0.95]\n",
    "B = [-0.9, -0.6, -0.4, -0.2, 0.2, 0.4, 0.6, 0.8]\n",
    "A = [-1.0, -0.8, -0.5, -0.3, -0.2, -0.1, 0, 0.1, 0.2, 0.3, 0.5, 0.9, 1.0]\n",
    "F_C = add_noise(funct_ln(np.array(C)), range=0.8)\n",
    "F_B = add_noise(funct_ln(np.array(B)), range=0.6)\n",
    "F_A = add_noise(funct_ln(np.array(A)), range=0.4)"
   ]
  },
  {
   "cell_type": "code",
   "execution_count": null,
   "id": "81d7d101-b276-4ef6-94ad-31533fa5120d",
   "metadata": {},
   "outputs": [],
   "source": [
    "# Plotting\n",
    "plt.figure(figsize=(6, 4))\n",
    "plt.scatter(X, add_noise(y, range=0.4), label='$(X, Y)$', color='gray', marker='.')\n",
    "plt.scatter(A, F_A, color='blue', label='$(A, Y_{A})$', marker='x')\n",
    "plt.scatter(B, F_B, color='red', label='$(B, Y_{B})$', marker='s')\n",
    "plt.scatter(C, F_C, color='green', label='$(C, Y_{C})$', marker='o')\n",
    "plt.grid(False)\n",
    "plt.legend()\n",
    "plt.xlabel('$X$')\n",
    "plt.ylabel('$Y$')\n",
    "# plt.title('Quadratic Function with Specific Points')\n",
    "plt.savefig(images_path / 'x_lattice_1.png')"
   ]
  },
  {
   "cell_type": "code",
   "execution_count": null,
   "id": "5744c0cc-107a-4d84-a04d-64a20bf49f69",
   "metadata": {},
   "outputs": [],
   "source": [
    "def funct_ln(x: float, b: float = 1.4) -> float:\n",
    "    return 2 * x + b\n",
    "\n",
    "X = np.linspace(-1, 1, 20)\n",
    "y = funct_ln(X)\n",
    "\n",
    "C = [-0.85, -0.2, 0.2, 0.75, 0.95]\n",
    "B = [-0.9, -0.6, -0.4, -0.2, 0.2, 0.4, 0.6, 0.8]\n",
    "A = [-1.0, -0.8, -0.5, -0.3, -0.2, -0.1, 0, 0.1, 0.2, 0.3, 0.5, 0.9, 1.0]\n",
    "F_C = add_noise(funct_ln(np.array(C)), range=0.4)\n",
    "F_B = add_noise(funct_ln(np.array(B)), range=0.4)\n",
    "F_A = add_noise(funct_ln(np.array(A)), range=0.4)"
   ]
  },
  {
   "cell_type": "code",
   "execution_count": null,
   "id": "33f887c0-af55-4ad7-967e-29d48126e630",
   "metadata": {
    "scrolled": true
   },
   "outputs": [],
   "source": [
    "# Plotting\n",
    "plt.figure(figsize=(6, 4))\n",
    "plt.scatter(X, add_noise(y, range=0.4), label='$(X, Y)$', color='gray', marker='.')\n",
    "plt.scatter(A, F_A, color='blue', label='$(A, Y_{A})$', marker='x')\n",
    "plt.scatter(B, F_B, color='red', label='$(B, Y_{B})$', marker='s')\n",
    "plt.scatter(C, F_C, color='green', label='$(C, Y_{C})$', marker='o')\n",
    "plt.grid(False)\n",
    "plt.legend()\n",
    "plt.xlabel('$X$')\n",
    "plt.ylabel('$Y$')\n",
    "# plt.title('Quadratic Function with Specific Points')\n",
    "plt.savefig(images_path / 'x_lattice_2.png')"
   ]
  },
  {
   "cell_type": "code",
   "execution_count": null,
   "id": "545caee3-642e-4737-9b51-956cf0a58a40",
   "metadata": {},
   "outputs": [],
   "source": [
    "def funct_wv(x: float, b: float = 1.4) -> float:\n",
    "    return np.sin(12 * np.pi * x)\n",
    "\n",
    "X = np.linspace(-1, 1, 800)\n",
    "A = np.random.choice(X, size=40, replace=False)\n",
    "y = funct_wv(X)\n",
    "\n",
    "# C = [-0.85, -0.2, 0.2, 0.75, 0.95]\n",
    "B = [-1.0, -0.75, -0.5, -0.25, 0, 0.25, 0.5, 0.75, 1.0]\n",
    "A = np.array(list(set(A.tolist()).union(set(B))))\n",
    "print(A)\n",
    "C = np.random.choice(A, size=20, replace=False)\n",
    "# A = [-1.0, -0.75, -0.5, -0.25, -0.3, -0.15, 0, 0.1, 0.15, 0.25, 0.5, 0.75, 1.0]\n",
    "F_C = add_noise(funct_wv(np.array(C)), range=0.004)\n",
    "F_B = add_noise(funct_wv(np.array(B)), range=0.004)\n",
    "F_A = add_noise(funct_wv(np.array(A)), range=0.004)"
   ]
  },
  {
   "cell_type": "code",
   "execution_count": null,
   "id": "239b4103-599a-4319-811f-f74197924426",
   "metadata": {
    "scrolled": true
   },
   "outputs": [],
   "source": [
    "# Plotting\n",
    "plt.figure(figsize=(6, 4))\n",
    "plt.scatter(X, add_noise(y, range=0.004), label='$(X, Y)$', color='gray', marker='.')\n",
    "plt.scatter(A, F_A, color='blue', label='$(A, Y_{A})$', marker='x')\n",
    "plt.scatter(B, F_B, color='red', label='$(B, Y_{B})$', marker='s')\n",
    "plt.scatter(C, F_C, color='green', label='$(C, Y_{C})$', marker='o')\n",
    "plt.ylim(-1.1, 1.1)\n",
    "plt.axhline(0, color='black', linewidth=0.5)\n",
    "plt.axvline(0, color='black', linewidth=0.5)\n",
    "plt.grid(False)\n",
    "plt.legend()\n",
    "plt.xlabel('$X$')\n",
    "plt.ylabel('$Y$')\n",
    "# plt.title('Quadratic Function with Specific Points')\n",
    "plt.savefig(images_path / 'x_lattice_3.png')"
   ]
  },
  {
   "cell_type": "markdown",
   "id": "33d05b2a-7e79-4450-a140-9c0317bf9e65",
   "metadata": {},
   "source": [
    "## Simple approximations"
   ]
  },
  {
   "cell_type": "code",
   "execution_count": null,
   "id": "c84a6eae-ea85-49b6-97b0-3a8a59f542f9",
   "metadata": {},
   "outputs": [],
   "source": [
    "# Initialize the plot again\n",
    "plt.figure(figsize=(6, 4))\n",
    "plt.rc('text', usetex=True)\n",
    "plt.rc('font', family='serif')\n",
    "plt.xlim(0, 1)\n",
    "plt.ylim(0, 1)\n",
    "\n",
    "# Slopes for 12 asymmetric lines\n",
    "n_ln = 4\n",
    "func_names = ['$\\phi$', '$\\psi$', '$\\eta$', '$\\mu$',]\n",
    "func_pairs = ['$(\\phi, \\{x\\})$', '$(\\psi$, \\{x\\})$', \n",
    "              '$(\\eta$, \\{x\\})$', '$(\\mu$, \\{x\\})$',]\n",
    "colors = ['gray', 'blue', 'green', 'red']\n",
    "slopes = np.linspace(-0.2, 0.4, n_ln)\n",
    "X_text = 0.2\n",
    "\n",
    "for i, (slope, color, func_name, func_pair) in enumerate(\n",
    "        zip(\n",
    "            slopes, colors, func_names, func_pairs)):\n",
    "    # Calculate the y-intercept 'b' using the point (0.82, 0.64)\n",
    "    b = 0.64 - slope * 0.82\n",
    "    \n",
    "    # Define the x range\n",
    "    X_range = np.array([0, 1])\n",
    "    \n",
    "    # Calculate the corresponding y values using the line equation y = mx + b\n",
    "    y_range = slope * X_range + b\n",
    "\n",
    "    y_text = slope * X_text + b\n",
    "    \n",
    "    # Plot the line\n",
    "    plt.plot(X_range, y_range, color, label=func_pair)\n",
    "    plt.text(\n",
    "        X_text, y_text, \n",
    "        func_name, \n",
    "        # fontsize=9, \n",
    "        verticalalignment='bottom', \n",
    "        horizontalalignment='right')\n",
    "\n",
    "# Highlight the central point\n",
    "plt.plot(0.82, 0.64, 'o')  # 'ro' plots the point in red color\n",
    "plt.text(\n",
    "    0.82, 0.64, \n",
    "    '$P$', \n",
    "    # fontsize=9, \n",
    "    verticalalignment='bottom', \n",
    "    horizontalalignment='center')\n",
    "\n",
    "# plt.title(f'{n_ln} linear approximations on a single point')\n",
    "plt.grid(False)\n",
    "plt.savefig(images_path / 'k_1_points_1.png')\n",
    "plt.show()"
   ]
  },
  {
   "cell_type": "code",
   "execution_count": null,
   "id": "a9849d9d-9de4-4a7e-a012-36b41fcad90d",
   "metadata": {},
   "outputs": [],
   "source": [
    "X_t = np.array([0.2, 0.5, 0.8], dtype=float)\n",
    "y_t = np.array([0.4, 0.84, 0.24], dtype=float)\n",
    "y_z = np.array([0.0, 0.0], dtype=float)\n",
    "X_1 = X_t[:2]\n",
    "y_1 = y_t[:2]\n",
    "X_2 = X_t[1:]\n",
    "y_2 = y_t[1:]"
   ]
  },
  {
   "cell_type": "code",
   "execution_count": null,
   "id": "9c58834f-a00e-4f44-a58c-d8aa6d3d42a0",
   "metadata": {},
   "outputs": [],
   "source": [
    "a_1 = (y_1[1] - y_1[0]) / (X_1[1] - X_1[0])\n",
    "b_1 = y_1[0] - a_1 * X_1[0]\n",
    "a_2 = (y_2[1] - y_2[0]) / (X_2[1] - X_2[0])\n",
    "b_2 = y_2[0] - a_2 * X_2[0]"
   ]
  },
  {
   "cell_type": "code",
   "execution_count": null,
   "id": "a2a136cb-45e6-4127-b096-e9e731f779e0",
   "metadata": {},
   "outputs": [],
   "source": [
    "X_1, y_1, X_2, y_2"
   ]
  },
  {
   "cell_type": "code",
   "execution_count": null,
   "id": "c07a2e5b-2f7b-4fbd-959c-854532fbfa74",
   "metadata": {},
   "outputs": [],
   "source": [
    "# Calculate the linear regression\n",
    "slope, intercept, r_value, p_value, std_err = stats.linregress(X_t, y_t)\n",
    "\n",
    "# Create the line of best fit\n",
    "line = slope * X_t + intercept"
   ]
  },
  {
   "cell_type": "code",
   "execution_count": null,
   "id": "407422b6-a739-4b3a-84bf-f499727d3f15",
   "metadata": {},
   "outputs": [],
   "source": [
    "a = 0\n",
    "b = 1"
   ]
  },
  {
   "cell_type": "code",
   "execution_count": null,
   "id": "c4728e5a-7faa-400a-82ab-bc6eb1d3c19d",
   "metadata": {},
   "outputs": [],
   "source": [
    "X_line = np.linspace(a, b, 400)\n",
    "y_line = slope * X_line + intercept\n",
    "line_inter = interp1d(X_t, line, kind='linear')"
   ]
  },
  {
   "cell_type": "code",
   "execution_count": null,
   "id": "5e9e6661-0bea-4d02-ae8d-8dfcc0aa6f16",
   "metadata": {},
   "outputs": [],
   "source": [
    "line_1 = a_1 * X_line + b_1\n",
    "line_2 = a_2 * X_line + b_2"
   ]
  },
  {
   "cell_type": "code",
   "execution_count": null,
   "id": "f9ed154c-5c4b-4fad-b543-7a019e1f00af",
   "metadata": {},
   "outputs": [],
   "source": [
    "meet_label = r'$(K_{A \\lor B}, A \\lor B) = (K_{A}, A) \\land (K_{B}, B)$'"
   ]
  },
  {
   "cell_type": "code",
   "execution_count": null,
   "id": "fb9a31f3-9153-492b-83e0-ba3a4dfbd136",
   "metadata": {},
   "outputs": [],
   "source": [
    "meet_label"
   ]
  },
  {
   "cell_type": "code",
   "execution_count": null,
   "id": "45a873c5-3b66-4808-ac87-13542ad96bea",
   "metadata": {},
   "outputs": [],
   "source": [
    "# Plotting\n",
    "plt.figure(figsize=(6, 4))\n",
    "plt.plot(X_t, y_t, 'o', label='Original data', markersize=10)  # Plot the original data points\n",
    "plt.plot(X_1, y_z, 'x', label='$A = \\{x_{1}, x_{2}\\}$', markersize=10)  # Plot the original data points\n",
    "plt.plot(X_2, y_z, '^', label='$B = \\{x_{2}, x_{3}\\}$', markersize=10)  # Plot the original data points\n",
    "plt.plot(X_line, line_1, 'b', linestyle='-', label='$(K_A, A)$')  # Plot the line of best fit\n",
    "plt.plot(X_line, line_2, 'g', linestyle='-', label='$(K_{B}, B)$')  # Plot the line of best fit\n",
    "plt.plot(X_line, y_line, 'r', label=r\"$(K_{C}, C)$\")  # Plot the line of best fit\n",
    "plt.legend()\n",
    "plt.xlim(a, b)\n",
    "plt.ylim(a, b)\n",
    "plt.xlabel('X')\n",
    "plt.ylabel('Y')\n",
    "# plt.title('Linear Regression on Three Points')\n",
    "plt.grid(False)\n",
    "plt.savefig(images_path / 'k_3_points_1.png')\n",
    "plt.show()"
   ]
  },
  {
   "cell_type": "code",
   "execution_count": null,
   "id": "311fc114-4ca8-4527-ae87-ed73b7b466f5",
   "metadata": {},
   "outputs": [],
   "source": [
    "import numpy as np\n",
    "import matplotlib.pyplot as plt\n",
    "\n",
    "# Set the random seed for reproducibility\n",
    "np.random.seed(0)\n",
    "\n",
    "# Step 1: Generate evenly spaced data points within the range [-1, 1]\n",
    "X = np.linspace(-1, 1, 20)  # 20 data points from -1 to 1\n",
    "\n",
    "# Step 2: Define a simple function for y and add some random noise\n",
    "def simple_function(x):\n",
    "    return np.sin(2 * np.pi * x)\n",
    "\n",
    "y = simple_function(X) # + np.random.normal(0, 0.1, X.shape)  # Adding noise with mean 0 and std deviation 0.1\n",
    "\n",
    "# Step 3: Plot the original data points with noise\n",
    "plt.scatter(X, add_noise(y, range=0.4), color='red', label='Noisy Data Points')\n",
    "\n",
    "# Step 4: Create and plot the piecewise linear approximation\n",
    "for i in range(len(X)-1):\n",
    "    plt.plot([X[i], X[i+1]], [y[i], y[i+1]], 'blue')  # Connect each point to the next\n",
    "\n",
    "plt.title('Piecewise Linear Approximation with Noise')\n",
    "plt.xlabel('x')\n",
    "plt.ylabel('y')\n",
    "plt.xlim(-1, 1)\n",
    "plt.ylim(-1, 1)\n",
    "plt.grid(True)\n",
    "plt.legend()\n",
    "plt.show()"
   ]
  },
  {
   "cell_type": "markdown",
   "id": "58520af6-9457-4e37-8bff-37ace45dd3a7",
   "metadata": {},
   "source": [
    "## Join operations"
   ]
  },
  {
   "cell_type": "code",
   "execution_count": null,
   "id": "0cfb37ac-78bf-442c-bd9b-9b7da5fa2691",
   "metadata": {},
   "outputs": [],
   "source": [
    "y_inter = 0.2\n",
    "x_inter = 0.24\n",
    "A_land_B = np.array([x_inter])\n",
    "y_A_land_y_B = np.array([y_inter])\n",
    "A = np.array([-0.2, 0.12, x_inter])\n",
    "y_A = np.array([0.28, 0.4, y_inter])\n",
    "B = np.array([x_inter, 0.62, 0.8])\n",
    "y_B = np.array([y_inter, 0.48, 0.312])"
   ]
  },
  {
   "cell_type": "code",
   "execution_count": null,
   "id": "8ca4cf2f-59f3-4c47-8e43-f2f1cb0fb3c6",
   "metadata": {},
   "outputs": [],
   "source": [
    "K_A = LinearRegression().fit(np.expand_dims(A, axis=1), y_A)\n",
    "K_B = LinearRegression().fit(np.expand_dims(B, axis=1), y_B)\n",
    "K_C = LinearRegression().fit(np.array([[0.0], [x_inter]]), np.array([0.14, y_inter]))\n",
    "f_C = LinearRegression().fit(np.array([[0.0], [x_inter]]), np.array([0.1, y_inter + 0.02]))"
   ]
  },
  {
   "cell_type": "code",
   "execution_count": null,
   "id": "a96a603d-b19d-4365-a5fd-e7bced0e3466",
   "metadata": {},
   "outputs": [],
   "source": [
    "K_A.coef_, K_A.intercept_"
   ]
  },
  {
   "cell_type": "code",
   "execution_count": null,
   "id": "2d6936e6-23f3-4062-b213-47144038373e",
   "metadata": {},
   "outputs": [],
   "source": [
    "K_B.coef_, K_B.intercept_"
   ]
  },
  {
   "cell_type": "code",
   "execution_count": null,
   "id": "d7df87fc-5e71-47d4-b173-3b76fc319e64",
   "metadata": {},
   "outputs": [],
   "source": [
    "K_C.coef_, K_C.intercept_"
   ]
  },
  {
   "cell_type": "code",
   "execution_count": null,
   "id": "cd61d9ba-c10f-4f8c-9c13-c282836501fb",
   "metadata": {},
   "outputs": [],
   "source": [
    "f_C.coef_, f_C.intercept_"
   ]
  },
  {
   "cell_type": "code",
   "execution_count": null,
   "id": "7011676d-d1a8-4ac1-8c4e-9fd32c9dd829",
   "metadata": {},
   "outputs": [],
   "source": [
    "K_C_coef_ = np.array([1.0])\n",
    "K_C_intercept_ = 0.02"
   ]
  },
  {
   "cell_type": "code",
   "execution_count": null,
   "id": "dcbd5ad6-04ba-4eb4-8e9e-1f469fb817a8",
   "metadata": {},
   "outputs": [],
   "source": [
    "A.tolist()"
   ]
  },
  {
   "cell_type": "code",
   "execution_count": null,
   "id": "b7d2fcdd-592c-4e0b-aa24-72a3cd24ed72",
   "metadata": {},
   "outputs": [],
   "source": [
    "A_ext = np.concatenate([[-0.5], A, [1.0]])\n",
    "B_ext = np.concatenate([[-0.5], B, [1.0]])\n",
    "y_delta_A = K_A.coef_ * A_ext + K_A.intercept_\n",
    "y_delta_B = K_B.coef_ * B_ext + K_B.intercept_\n",
    "y_delta_C = K_C.coef_ * A_ext + K_C.intercept_\n",
    "f_delta_C = f_C.coef_ * A_ext + f_C.intercept_"
   ]
  },
  {
   "cell_type": "code",
   "execution_count": null,
   "id": "dec133c6-3994-4879-a267-79978f9aa10b",
   "metadata": {},
   "outputs": [],
   "source": [
    "label_A_land_B = '$(A \\land B, y_{A \\land B})$'"
   ]
  },
  {
   "cell_type": "code",
   "execution_count": null,
   "id": "2a323e31-5788-4881-804a-2772bc2835f0",
   "metadata": {},
   "outputs": [],
   "source": [
    "plt.figure(figsize=(6, 4))\n",
    "plt.rc('text', usetex=True)\n",
    "plt.xlim(-0.5, 1)\n",
    "plt.ylim(0, 0.5)\n",
    "plt.scatter(A, y_A, color='blue', label='$(A, Y_{A})$')\n",
    "plt.scatter(B, y_B, color='red', label='$(B, Y_{B})$')\n",
    "plt.scatter(A_land_B, y_A_land_y_B, color='brown', label='$(A \\land B, Y_{A \\land B})$')\n",
    "plt.plot(A_ext, y_delta_A, color='gray', label='$(K_{A}, A)$')\n",
    "plt.plot(B_ext, y_delta_B, color='green', label='$(K_{B}, B)$')\n",
    "plt.plot(A_ext, y_delta_C, color='blue', label='$(K_{A \\land B}, A \\land B)$')\n",
    "plt.plot(A_ext, f_delta_C, color='red', label='$(\\phi, A \\land B)$')\n",
    "plt.legend()\n",
    "plt.xlabel('X')\n",
    "plt.ylabel('Y')\n",
    "# plt.title('Linear Regression on Three Points')\n",
    "plt.grid(False)\n",
    "plt.savefig(images_path / 'k_lor_1.png')\n",
    "plt.show()"
   ]
  },
  {
   "cell_type": "markdown",
   "id": "c7d7fb02-891a-4476-84fc-0e3d4ceb99dc",
   "metadata": {},
   "source": [
    "## Piecwise and stepwise approximations"
   ]
  },
  {
   "cell_type": "code",
   "execution_count": null,
   "id": "9e3ca494-2859-441d-9719-146f50c3bdf8",
   "metadata": {},
   "outputs": [],
   "source": [
    "A_piec = np.array([-0.4, -0.2, -0.02, 0.2, 0.32, 0.4])\n",
    "y_A_piec = np.array([0.2, 0.32, 0.34, 0.28, 0.26, 0.18])"
   ]
  },
  {
   "cell_type": "markdown",
   "id": "64469602-ee85-49f1-822b-0ddf338a88f4",
   "metadata": {},
   "source": [
    "plt.figure(figsize=(6, 4))\n",
    "plt.rc('text', usetex=True)\n",
    "plt.xlim(-0.6, 0.6)\n",
    "plt.ylim(0, 0.5)\n",
    "plt.scatter(A_piec, y_A_piec, color='blue', label='$(A, Y_{A})$')\n",
    "plt.legend()\n",
    "plt.xlabel('X')\n",
    "plt.ylabel('Y')\n",
    "# plt.title('Linear Regression on Three Points')\n",
    "plt.grid(False)\n",
    "plt.savefig(images_path / 'k_picwise_1.png')\n",
    "plt.show()"
   ]
  },
  {
   "cell_type": "code",
   "execution_count": null,
   "id": "75a56ab2-0ce3-4c33-b43f-1bf45a447b94",
   "metadata": {},
   "outputs": [],
   "source": [
    "import numpy as np\n",
    "import matplotlib.pyplot as plt\n",
    "\n",
    "import os\n",
    "os.environ['PYTHONIOENCODING'] = 'utf-8'\n",
    "\n",
    "# Given points\n",
    "X = np.array([-0.4, -0.2, -0.02, 0.2, 0.32, 0.4])\n",
    "y = np.array([0.2, 0.32, 0.34, 0.28, 0.26, 0.18])\n",
    "\n",
    "X_conc = np.concatenate([[-0.6], X, [0.6]])\n",
    "X_con1 = np.array([-0.6, -0.4])\n",
    "X_con2 = np.array([0.4, 0.6])\n",
    "\n",
    "y_con11 = np.array([0.16, 0.2])\n",
    "y_con12 = np.array([0.18, 0.01])\n",
    "\n",
    "y_con21 = np.array([0.26, 0.2])\n",
    "y_con22 = np.array([0.18, 0.12])\n",
    "\n",
    "y_con2 = np.concatenate([[0.12], X, [0.24]])\n",
    "\n",
    "\n",
    "# Function to interpolate at a new point\n",
    "def piecewise_linear(x, X_data, y_data):\n",
    "    return np.interp(x, X_data, y_data)\n",
    "\n",
    "# Test the function at a new x\n",
    "x_new = np.linspace(-0.6, 0.6, 100)\n",
    "y_new = piecewise_linear(x_new, X_conc, y_con1) \n",
    "\n",
    "# Plotting\n",
    "# plt.figure(figsize=(8, 4))\n",
    "plt.figure(figsize=(6, 4))\n",
    "plt.rc('text', usetex=True)\n",
    "plt.rc('font', family='serif')\n",
    "plt.plot(X, y, 'o', label='$(A, Y_{A})$')\n",
    "plt.plot(x_new, y_new1, '-', label=\"$(\\phi, A)$\")\n",
    "\n",
    "plt.plot(X_con1, y_con11, '--', color='green', label='$(\\mu, A)$')\n",
    "plt.plot(X_con2, y_con12, '--', color='green')\n",
    "\n",
    "plt.plot(X_con1, y_con21, '--', color='red', label='$(\\eta, A)$')\n",
    "plt.plot(X_con2, y_con22, '--', color='red')\n",
    "plt.xlabel('X')\n",
    "plt.ylabel('Y')\n",
    "# plt.title('Piecewise Linear Interpolation')\n",
    "plt.legend()\n",
    "plt.grid(False)\n",
    "plt.savefig(images_path / 'k_picwise_1.png')\n",
    "plt.show()"
   ]
  },
  {
   "cell_type": "code",
   "execution_count": null,
   "id": "ecad6f26-3488-40a7-a8e1-1f960430b621",
   "metadata": {},
   "outputs": [],
   "source": [
    "from scipy.interpolate import interp1d\n",
    "\n",
    "# Define the interpolator function\n",
    "f = interp1d(X, y, kind='cubic')\n",
    "\n",
    "# Generate new x values for a smooth plot\n",
    "x_dense = np.linspace(min(X), max(X), 300)\n",
    "y_dense = f(x_dense)\n",
    "\n",
    "# Plotting\n",
    "plt.figure(figsize=(8, 4))\n",
    "plt.plot(X, y, 'o', label='Data points')\n",
    "plt.plot(x_dense, y_dense, label='Cubic spline interpolation')\n",
    "plt.xlabel('X')\n",
    "plt.ylabel('Y')\n",
    "plt.title('Cubic Spline Interpolation')\n",
    "plt.legend()\n",
    "plt.grid(True)\n",
    "plt.show()\n"
   ]
  },
  {
   "cell_type": "code",
   "execution_count": null,
   "id": "9f362423-ccd4-4e9a-8185-ec9162b4b9d3",
   "metadata": {},
   "outputs": [],
   "source": [
    "import numpy as np\n",
    "import matplotlib.pyplot as plt\n",
    "\n",
    "# Given points\n",
    "X = np.array([-0.4, -0.2, -0.02, 0.2, 0.32, 0.4])\n",
    "y = np.array([0.2, 0.32, 0.34, 0.28, 0.26, 0.18])\n",
    "\n",
    "# Plot stepwise function\n",
    "plt.figure(figsize=(8, 4))\n",
    "plt.step(X, y, where='post', label='Stepwise Function')\n",
    "\n",
    "# Mark the data points for clarity\n",
    "plt.plot(X, y, 'o', color='red', label='Data Points')\n",
    "\n",
    "# Label the axes and add a title and legend\n",
    "plt.xlabel('X')\n",
    "plt.ylabel('Y')\n",
    "plt.title('Stepwise Function from Data Points')\n",
    "plt.legend()\n",
    "\n",
    "# Show grid and plot\n",
    "plt.grid(True)\n",
    "plt.show()\n"
   ]
  },
  {
   "cell_type": "code",
   "execution_count": null,
   "id": "71a14cdb-bd13-47fe-9f86-cac1d290815a",
   "metadata": {},
   "outputs": [],
   "source": [
    "import numpy as np\n",
    "import matplotlib.pyplot as plt\n",
    "\n",
    "# Given data points\n",
    "X = np.array([-0.4, -0.3, -0.2, -0.1, -0.02, -0.01, 0.2, 0.24, 0.32, 0.36, 0.38, 0.4])\n",
    "y = np.array([0.2, 0.2, 0.32, 0.32, 0.34, 0.34, 0.28, 0.28, 0.26, 0.26, 0.18, 0.18])\n",
    "\n",
    "# Create a new figure for plotting\n",
    "plt.figure(figsize=(6, 8))\n",
    "plt.rc('text', usetex=True)\n",
    "plt.rc('font', family='serif')\n",
    "\n",
    "# Plot each segment manually\n",
    "for i in range(len(X) - 1):\n",
    "    # Plot a horizontal line from (X[i], y[i]) to (X[i+1], y[i])\n",
    "    plt.plot([X[i], X[i+1]], [y[i], y[i]], 'b-', linewidth=2)\n",
    "\n",
    "    # Optionally, if you want to also connect vertical gaps with small lines uncomment the following:\n",
    "    # plt.plot([X[i+1], X[i+1]], [y[i], y[i+1]], 'b-', linewidth=2)  # Vertical connection\n",
    "\n",
    "# Add the last horizontal part (if needed)\n",
    "plt.plot([X[-1], X[-1]], [y[-2], y[-1]], 'b-', linewidth=2)\n",
    "\n",
    "# Plot the data points as dots\n",
    "plt.plot(X, y, 'ro', label='Data Points')\n",
    "\n",
    "# Add labels and a title\n",
    "plt.xlabel('X')\n",
    "plt.ylabel('Y')\n",
    "plt.title('Custom Stepwise Function Without Vertical Lines')\n",
    "\n",
    "# Add a grid for better visibility of the graph structure\n",
    "plt.grid(True)\n",
    "\n",
    "# Show the legend\n",
    "plt.legend()\n",
    "\n",
    "# Display the plot\n",
    "plt.show()\n"
   ]
  },
  {
   "cell_type": "code",
   "execution_count": null,
   "id": "bb4f3988-9bb5-45a2-8fc6-eb24fae57b9b",
   "metadata": {},
   "outputs": [],
   "source": [
    "def generate_steps(nums=None):\n",
    "    Xs = list()\n",
    "    ns = nums if nums else [8, 8, 8, 8, 8, 8]\n",
    "    Xs.append(np.linspace(-0.4, -0.2, num=ns[0]))\n",
    "    Xs.append(np.linspace(-0.2, -0.02, num=ns[1]))\n",
    "    Xs.append(np.linspace(-0.02, 0.2, num=ns[2]))\n",
    "    Xs.append(np.linspace(0.2, 0.32, num=ns[3]))\n",
    "    Xs.append(np.linspace(0.32, 0.38, num=ns[4]))\n",
    "    Xs.append(np.linspace(0.38, 0.4, num=ns[5]))\n",
    "    y = np.array([0.2, 0.32, 0.34, 0.28, 0.26, 0.18])\n",
    "    ys = list()\n",
    "    for i, y_i in enumerate(y):\n",
    "        y_rn = np.repeat(y_i, repeats=ns[i])\n",
    "        ys.append(y_rn)\n",
    "    X_array = np.concatenate(Xs)\n",
    "    y_array = np.concatenate(ys)\n",
    "    \n",
    "    return X_array, y_array"
   ]
  },
  {
   "cell_type": "code",
   "execution_count": null,
   "id": "37fcc5c1-baf4-40e0-8331-f2a3c4eb4594",
   "metadata": {},
   "outputs": [],
   "source": [
    "X_con1 = np.linspace(-0.6, -0.4, num=num)\n",
    "X_con1 = np.linspace(0.4, 0.6, num=num)\n",
    "\n",
    "y_con11 = np.repeat(0.12, repeats=num)\n",
    "y_con12 = np.repeat(0.24, repeats=num)\n",
    "\n",
    "y_con21 = np.repeat(0.42, repeats=num)\n",
    "y_con22 = np.repeat(0.14, repeats=num)\n",
    "\n",
    "X_con1, y_con11"
   ]
  },
  {
   "cell_type": "code",
   "execution_count": null,
   "id": "fb76bc9a-a61b-4ff9-a0be-960fee69dde3",
   "metadata": {},
   "outputs": [],
   "source": [
    "import numpy as np\n",
    "import matplotlib.pyplot as plt\n",
    "\n",
    "# Given data points\n",
    "num=4\n",
    "nums = [num, num, num, num, 2, 2]\n",
    "X, y = generate_steps(nums=nums)\n",
    "\n",
    "X_con1 = np.linspace(-0.6, -0.4, num=num)\n",
    "X_con2 = np.linspace(0.4, 0.6, num=num)\n",
    "\n",
    "y_con11 = np.repeat(0.12, repeats=num)\n",
    "y_con12 = np.repeat(0.24, repeats=num)\n",
    "\n",
    "y_con21 = np.repeat(0.42, repeats=num)\n",
    "y_con22 = np.repeat(0.14, repeats=num)\n",
    "\n",
    "y_con31 = np.repeat(0.16, repeats=num)\n",
    "y_con32 = np.repeat(0.1088, repeats=num)\n",
    "\n",
    "# Create a new figure for plotting\n",
    "plt.figure(figsize=(6, 4))\n",
    "plt.rc('text', usetex=True)\n",
    "plt.rc('font', family='serif')\n",
    "\n",
    "# Plot the data points as dots\n",
    "plt.plot(X, y, 'ro', label='$(A, Y_{A})$')\n",
    "\n",
    "# Plot each segment manually\n",
    "for i in range(len(X) - 1):\n",
    "    # Plot a horizontal line from (X[i], y[i]) to (X[i+1], y[i])\n",
    "    plt.plot([X[i], X[i+1]], [y[i], y[i]], 'b-', linewidth=2)\n",
    "\n",
    "    # Optionally, if you want to also connect vertical gaps with small lines uncomment the following:\n",
    "    # plt.plot([X[i+1], X[i+1]], [y[i], y[i+1]], 'b-', linewidth=2)  # Vertical connection\n",
    "\n",
    "# Add the last horizontal part (if needed)\n",
    "plt.plot([X[-1], X[-1]], [y[-2], y[-1]], 'b-', linewidth=2, label='$(\\phi, A)$')\n",
    "\n",
    "# Add labels and a title\n",
    "plt.plot(X_con1, y_con11, '--', color='green', label='$(\\mu, A)$')\n",
    "plt.plot(X_con2, y_con12, '--', color='green')\n",
    "\n",
    "plt.plot(X_con1, y_con21, '--', color='red', label='$(\\eta, A)$')\n",
    "plt.plot(X_con2, y_con22, '--', color='red')\n",
    "\n",
    "plt.plot(X_con1, y_con31, '-', color='blue')\n",
    "plt.plot(X_con2, y_con32, '-', color='blue')\n",
    "\n",
    "plt.xlabel('X')\n",
    "plt.ylabel('Y')\n",
    "# plt.title('Piecewise Linear Interpolation')\n",
    "plt.legend()\n",
    "plt.grid(False)\n",
    "plt.savefig(images_path / 'k_stepwise_1.png')\n",
    "plt.show()"
   ]
  },
  {
   "cell_type": "markdown",
   "id": "10c237a2-ca94-427b-9bc9-2941169cdc16",
   "metadata": {},
   "source": [
    "## Linear regressions on subspaces"
   ]
  },
  {
   "cell_type": "code",
   "execution_count": null,
   "id": "b98ce1eb-300a-42cf-9e00-4fa704fad878",
   "metadata": {},
   "outputs": [],
   "source": [
    "X1 = np.linspace(-0.4, -0.12, num=14)\n",
    "X2 = np.linspace(-0.102, 0.2, num=12)\n",
    "X3 = np.linspace(0.0012, 0.4, num=18)\n",
    "X4 = np.concatenate([X1, X2, X3])\n",
    "f1 = 0.44 * X1 + 0.1\n",
    "f2 = 0.0002 * X2 + 0.12\n",
    "f3 = -0.64 * X3 + 0.04\n",
    "y1 = add_noise(f1, range=0.042)\n",
    "y2 = add_noise(f2, range=0.024)\n",
    "y3 = add_noise(f3, range=0.026)\n",
    "y4 = np.concatenate([y1, y2, y3])\n",
    "f_t1 = LinearRegression().fit(np.expand_dims(X1, axis=1), y1)\n",
    "f_t2 = LinearRegression().fit(np.expand_dims(X2, axis=1), y2)\n",
    "f_t3 = LinearRegression().fit(np.expand_dims(X3, axis=1), y3)\n",
    "f_t4 = LinearRegression().fit(np.expand_dims(X4, axis=1), y4)\n",
    "X_conc1 = np.concatenate([[-0.6], X1, [0.6]])\n",
    "X_conc2 = np.concatenate([[-0.6], X2, [0.6]])\n",
    "X_conc3 = np.concatenate([[-0.6], X3, [0.6]])\n",
    "X_conc4 = np.concatenate([[-0.6], X1, X2, X3, [0.6]])\n",
    "y_t1 = f_t1.coef_ * X_conc1 + f_t1.intercept_\n",
    "y_t2 = f_t2.coef_ * X_conc2 + f_t2.intercept_\n",
    "y_t3 = f_t3.coef_ * X_conc3 + f_t3.intercept_\n",
    "y_t4 = f_t4.coef_ * X_conc4 + f_t4.intercept_"
   ]
  },
  {
   "cell_type": "code",
   "execution_count": null,
   "id": "aa901d94-4b5b-4f81-a66e-553d5d46c614",
   "metadata": {},
   "outputs": [],
   "source": [
    "plt.figure(figsize=(6, 4))\n",
    "plt.rc('text', usetex=True)\n",
    "plt.rc('font', family='serif')\n",
    "plt.scatter(X1, y1, color='blue', label='$(A, Y_{A})$')\n",
    "plt.scatter(X2, y2, color='green', label='$(B, Y_{B})$')\n",
    "plt.scatter(X3, y3, color='red', label='$(C, Y_{C})$')\n",
    "plt.plot(X_conc1, y_t1, color='blue', label='$(K_{A}, A)$')\n",
    "plt.plot(X_conc2, y_t2, color='green', label='$(K_{B}, B)$')\n",
    "plt.plot(X_conc3, y_t3, color='red', label='$(K_{C}, C)$')\n",
    "plt.plot(\n",
    "    X_conc4, y_t4, \n",
    "    color='brown', \n",
    "    label='$(K_{A \\lor B \\lor C}, A \\lor B \\lor C)$')\n",
    "plt.xlabel('X')\n",
    "plt.ylabel('Y')\n",
    "# plt.title('Piecewise Linear Interpolation')\n",
    "plt.legend()\n",
    "plt.grid(False)\n",
    "plt.savefig(images_path / 'k_regs_1.png')\n",
    "plt.show()"
   ]
  },
  {
   "cell_type": "markdown",
   "id": "178a21dc-a65c-4c1f-bef0-045ef6597343",
   "metadata": {},
   "source": [
    "## Compare functions"
   ]
  },
  {
   "cell_type": "code",
   "execution_count": null,
   "id": "7a86034d-da3f-400b-996e-d09b4317d0be",
   "metadata": {},
   "outputs": [],
   "source": [
    "X1 = np.linspace(-0.4, -0.12, num=14)\n",
    "X2 = np.linspace(-0.102, 0.2, num=12)\n",
    "X3 = np.linspace(0.0012, 0.4, num=18)\n",
    "\n",
    "X_conc1 = np.concatenate([[-0.6], X1, [0.6]])\n",
    "X_conc3 = np.concatenate([[-0.6], X3, [0.6]])\n",
    "\n",
    "f1 = 0.12 * X_conc1 - 0.2\n",
    "f3 = -0.2 * X_conc3 - 0.04"
   ]
  },
  {
   "cell_type": "code",
   "execution_count": null,
   "id": "2970bedf-1585-4bcf-90b6-bcc9f6744df4",
   "metadata": {},
   "outputs": [],
   "source": [
    "plt.figure(figsize=(6, 4))\n",
    "plt.rc('text', usetex=True)\n",
    "plt.rc('font', family='serif')\n",
    "plt.scatter(X2, y2, color='green', label='$(A, Y_{A})$')\n",
    "plt.plot(X_conc1, f1, color='blue', label='$(\\phi, A)$')\n",
    "plt.plot(X_conc3, f3, color='red', label='$(\\mu, A)$')\n",
    "plt.xlabel('X')\n",
    "plt.ylabel('Y')\n",
    "# plt.title('Piecewise Linear Interpolation')\n",
    "plt.legend()\n",
    "plt.grid(False)\n",
    "plt.savefig(images_path / 'phi_2_regs_1.png')\n",
    "plt.show()"
   ]
  },
  {
   "cell_type": "code",
   "execution_count": null,
   "id": "95efa587-38ba-459a-8f0b-8474d59670a6",
   "metadata": {},
   "outputs": [],
   "source": [
    "import numpy as np\n",
    "import matplotlib.pyplot as plt\n",
    "\n",
    "import os\n",
    "os.environ['PYTHONIOENCODING'] = 'utf-8'\n",
    "\n",
    "# Given points\n",
    "X = np.array([-0.38, -0.24, -0.018, 0.212, 0.324, 0.3898])\n",
    "y = np.array([0.22, 0.312, 0.324, 0.282, 0.226, 0.182])\n",
    "\n",
    "X_conc = np.concatenate([[-0.6], X, [0.6]])\n",
    "X_con1 = np.array([-0.6, -0.4])\n",
    "X_con2 = np.array([0.4, 0.6])\n",
    "\n",
    "y_con11 = np.array([0.1602, 0.202])\n",
    "y_con12 = np.array([0.182, 0.204])\n",
    "\n",
    "y_con21 = np.array([0.2602, 0.202])\n",
    "y_con22 = np.array([0.182, 0.1204])\n",
    "\n",
    "y_con2 = np.concatenate([[0.1204], X, [0.2402]])\n",
    "\n",
    "\n",
    "X_left = np.random.uniform(\n",
    "    low=-0.58, high=-0.38, size=4)\n",
    "\n",
    "X_right = np.random.uniform(\n",
    "    low=0.42, high=0.56, size=2)\n",
    "\n",
    "y_left = add_noise(\n",
    "    np.random.uniform(\n",
    "        low=0.26, high=0.36, size=4),\n",
    "    range=0.002,\n",
    ")\n",
    "\n",
    "y_right = add_noise(\n",
    "    np.random.uniform(\n",
    "        low=0.26, high=0.28, size=2),\n",
    "    range=0.002\n",
    ")\n",
    "\n",
    "# Function to interpolate at a new point\n",
    "def piecewise_linear(x, X_data, y_data):\n",
    "    return np.interp(x, X_data, y_data)\n",
    "\n",
    "# Test the function at a new x\n",
    "x_new = np.linspace(-0.6, 0.6, 100)\n",
    "y_new = piecewise_linear(x_new, X_conc, y_con1) \n",
    "\n",
    "# Plotting\n",
    "# plt.figure(figsize=(8, 4))\n",
    "plt.figure(figsize=(6, 4))\n",
    "plt.rc('text', usetex=True)\n",
    "plt.rc('font', family='serif')\n",
    "plt.plot(X_left, y_left, 'o', color='red', label='$(A, Y_{A})$')\n",
    "plt.plot(X_right, y_right, 'o', color='red')\n",
    "plt.plot(X, y, 'o', color='blue', label='$(B, Y_{B})$')\n",
    "plt.plot(x_new, y_new1, '-', label=\"$(\\phi, A)$\")\n",
    "\n",
    "plt.plot(X_con1, y_con11, '--', color='green', label='$(\\mu, A)$')\n",
    "plt.plot(X_con2, y_con12, '--', color='green')\n",
    "\n",
    "plt.plot(X_con1, y_con21, '--', color='red', label='$(\\eta, A)$')\n",
    "plt.plot(X_con2, y_con22, '--', color='red')\n",
    "plt.xlabel('X')\n",
    "plt.ylabel('Y')\n",
    "# plt.title('Piecewise Linear Interpolation')\n",
    "plt.legend()\n",
    "plt.grid(False)\n",
    "plt.savefig(images_path / 'phi_picwise_on_sample_1.png')\n",
    "plt.show()"
   ]
  },
  {
   "cell_type": "code",
   "execution_count": null,
   "id": "d52c7143-a7bc-4749-9191-11980470a8bf",
   "metadata": {},
   "outputs": [],
   "source": [
    "X = np.linspace(-0.48, 0.28, num=2)\n",
    "y = np.array([0.032, 0.046])\n",
    "\n",
    "y_shift = np.array([-0.012, 0.012])\n",
    "y1 = y + y_shift\n",
    "y2 = y - y_shift\n",
    "\n",
    "X_conc = np.concatenate([[-0.6], X, [0.6]])\n",
    "\n",
    "f1 = 0.12 * X_conc1 - 0.2\n",
    "f2 = -0.2 * X_conc3 - 0.04"
   ]
  },
  {
   "cell_type": "code",
   "execution_count": null,
   "id": "9437afc2-e7dc-4b81-968d-8cc0de0b77cb",
   "metadata": {},
   "outputs": [],
   "source": [
    "def line_params(X, y):\n",
    "    a = (y[1] - y[0]) / (X[1] - X[0])\n",
    "    b = y[0] - a * X[0]\n",
    "\n",
    "    return a, b"
   ]
  },
  {
   "cell_type": "code",
   "execution_count": null,
   "id": "89409489-efd7-41ee-9ea5-92075c016b90",
   "metadata": {},
   "outputs": [],
   "source": [
    "a1, b1 = line_params(X, y1)\n",
    "a2, b2 = line_params(X, y2)"
   ]
  },
  {
   "cell_type": "code",
   "execution_count": null,
   "id": "5994208f-5c36-4780-bdec-d634c0987c59",
   "metadata": {},
   "outputs": [],
   "source": [
    "y_11 = -0.6 * a1 + b1\n",
    "y_12 = 0.6 * a1 + b1\n",
    "\n",
    "y_21 = -0.6 * a2 + b2\n",
    "y_22 = 0.6 * a2 + b2"
   ]
  },
  {
   "cell_type": "code",
   "execution_count": null,
   "id": "4418666a-0fb7-4e89-92a9-33b3985f7f65",
   "metadata": {},
   "outputs": [],
   "source": [
    "y_conc1 = np.concatenate([[y_11], y1, [y_12]])\n",
    "y_conc2 = np.concatenate([[y_21], y2, [y_22]])"
   ]
  },
  {
   "cell_type": "code",
   "execution_count": null,
   "id": "84a24f45-93cb-43ff-9875-920ea289c263",
   "metadata": {},
   "outputs": [],
   "source": [
    "plt.figure(figsize=(6, 4))\n",
    "plt.rc('text', usetex=True)\n",
    "plt.rc('font', family='serif')\n",
    "plt.xlim(-0.6, 0.6)\n",
    "plt.ylim(0, 0.05)\n",
    "plt.scatter(X, y, color='green', label='$(A, Y_{A})$')\n",
    "plt.plot(X_conc, y_conc1, color='blue', label='$(\\phi, A)$')\n",
    "plt.plot(X_conc, y_conc2, color='red', label='$(\\mu, A)$')\n",
    "plt.xlabel('X')\n",
    "plt.ylabel('Y')\n",
    "# plt.title('Piecewise Linear Interpolation')\n",
    "plt.legend()\n",
    "plt.grid(False)\n",
    "plt.savefig(images_path / 'phi_2_regs_equiv_1.png')\n",
    "plt.show()"
   ]
  },
  {
   "cell_type": "markdown",
   "id": "4533dd95-b405-4533-bdfe-0ec9fb589870",
   "metadata": {},
   "source": [
    "## Classification models"
   ]
  },
  {
   "cell_type": "code",
   "execution_count": null,
   "id": "1fc12cdb-9961-4efd-a34e-02d7282cb782",
   "metadata": {},
   "outputs": [],
   "source": [
    "import numpy as np\n",
    "import matplotlib.pyplot as plt\n",
    "from sklearn.linear_model import LogisticRegression\n",
    "from sklearn.datasets import make_classification\n",
    "from sklearn.model_selection import train_test_split\n",
    "from sklearn.metrics import accuracy_score\n",
    "\n",
    "# Generate R^1 -> R^1 data suitable for logistic regression\n",
    "X, y = make_classification(n_features=1, n_redundant=0, n_informative=1,\n",
    "                           n_clusters_per_class=1, n_samples=200, flip_y=0.05)\n",
    "\n",
    "# Split the data into training and testing sets for fair comparison\n",
    "X_train, X_test, y_train, y_test = train_test_split(X, y, test_size=0.3, random_state=42)\n",
    "\n",
    "# Instantiate the logistic regression models with different parameters\n",
    "model1 = LogisticRegression(C=1.0, solver='liblinear', random_state=42)\n",
    "model2 = LogisticRegression(C=0.1, solver='saga', max_iter=5000, random_state=42)  # Lower C and different solver\n",
    "\n",
    "# Fit the models\n",
    "model1.fit(X_train, y_train)\n",
    "model2.fit(X_train, y_train)\n",
    "\n",
    "# Evaluate the models on the test set\n",
    "accuracy1 = accuracy_score(y_test, model1.predict(X_test))\n",
    "accuracy2 = accuracy_score(y_test, model2.predict(X_test))\n",
    "\n",
    "# Generate a range of values for predictions\n",
    "X_range = np.linspace(X.min(), X.max(), 300).reshape(-1, 1)\n",
    "\n",
    "# Predict probabilities\n",
    "y_pred1 = model1.predict_proba(X_range)[:, 1]\n",
    "y_pred2 = model2.predict_proba(X_range)[:, 1]"
   ]
  },
  {
   "cell_type": "code",
   "execution_count": null,
   "id": "bcf4d0e0-dce3-42ba-836d-fc52a75c93e7",
   "metadata": {},
   "outputs": [],
   "source": [
    "y_pred1 = model1.predict_proba(X_range)[:, 1]\n",
    "y_pred2 = model2.predict_proba(X_range)[:, 1]"
   ]
  },
  {
   "cell_type": "code",
   "execution_count": null,
   "id": "3387df88-b939-486a-859e-b887d497ed2d",
   "metadata": {},
   "outputs": [],
   "source": [
    "# Plotting\n",
    "plt.figure(figsize=(6, 4))\n",
    "plt.rc('text', usetex=True)\n",
    "plt.rc('font', family='serif')\n",
    "plt.scatter(X_train.ravel(), y_train, color='gray', zorder=20, label='$(A, Y_{A})$')\n",
    "plt.scatter(X_test.ravel(), y_test, color='gray', zorder=20)\n",
    "# plt.plot(X_range.ravel(), y_pred1, color='blue', linewidth=2, label=f'Model 1 (C=1.0) - Acc: {accuracy1:.2f}')\n",
    "# plt.plot(X_range.ravel(), y_pred2, color='red', linestyle='--', linewidth=2, label=f'Model 2 (C=0.1, saga) - Acc: {accuracy2:.2f}')\n",
    "plt.plot(X_range.ravel(), y_pred1, color='blue', linewidth=2, label='$(\\phi, A)$')\n",
    "plt.plot(X_range.ravel(), y_pred2, color='red', linestyle='--', linewidth=2, label='$(\\mu, A)$')\n",
    "plt.xlabel('$X$')\n",
    "plt.ylabel('$P(y=1|X)$')\n",
    "# plt.title('Logistic Regression on Synthetic Data with Similar Model Performance')\n",
    "plt.legend()\n",
    "plt.grid(False)\n",
    "plt.savefig(images_path / 'phi_2_log_regs_equiv_1.png')\n",
    "plt.show()"
   ]
  },
  {
   "cell_type": "code",
   "execution_count": null,
   "id": "854a59ab-f49e-49c1-af93-8d2d9ffe808b",
   "metadata": {},
   "outputs": [],
   "source": [
    "from scipy.special import kl_div\n",
    "from sklearn.metrics import log_loss\n",
    "\n",
    "y_pred1 = model1.predict(X_train)\n",
    "y_pred2 = model2.predict(X_train)\n",
    "\n",
    "y_hat1 = model1.predict(X_train)\n",
    "y_hat2 = model2.predict(X_train)\n",
    "\n",
    "kl_1 = kl_div(y_train, y_pred1)\n",
    "kl_2 = kl_div(y_train, y_pred2)\n",
    "\n",
    "ce_1 = log_loss(y_train, y_pred1)\n",
    "ce_2 = log_loss(y_train, y_pred2)"
   ]
  },
  {
   "cell_type": "code",
   "execution_count": null,
   "id": "ac27303d-f518-43ac-93dc-59b4655b85b8",
   "metadata": {
    "scrolled": true
   },
   "outputs": [],
   "source": [
    "y_pred1"
   ]
  },
  {
   "cell_type": "code",
   "execution_count": null,
   "id": "6eb04494-c96d-44ae-a7b1-3751663da114",
   "metadata": {},
   "outputs": [],
   "source": [
    "y_pred2"
   ]
  },
  {
   "cell_type": "code",
   "execution_count": null,
   "id": "521757e1-29b1-4ad3-9a10-2550edc97f0a",
   "metadata": {},
   "outputs": [],
   "source": [
    "np.all(y_pred1 == y_pred2)"
   ]
  },
  {
   "cell_type": "code",
   "execution_count": null,
   "id": "01a0d77f-6ab8-4a00-aab3-a8d7c835542f",
   "metadata": {},
   "outputs": [],
   "source": [
    "np.all(y_hat1 == y_hat2)"
   ]
  },
  {
   "cell_type": "code",
   "execution_count": null,
   "id": "6428206a-9baa-4654-80f7-e0be578e8a32",
   "metadata": {},
   "outputs": [],
   "source": [
    "kl_1"
   ]
  },
  {
   "cell_type": "code",
   "execution_count": null,
   "id": "9f3ddb27-d115-4530-bb94-8c66be372dbe",
   "metadata": {},
   "outputs": [],
   "source": [
    "kl_2"
   ]
  },
  {
   "cell_type": "code",
   "execution_count": null,
   "id": "46b3b4a7-f336-4525-bdb3-3c01c64fbf30",
   "metadata": {},
   "outputs": [],
   "source": [
    "ce_1"
   ]
  },
  {
   "cell_type": "code",
   "execution_count": null,
   "id": "a772966e-62c6-49d4-bfb3-bf062fc38d0b",
   "metadata": {},
   "outputs": [],
   "source": [
    "ce_2"
   ]
  },
  {
   "cell_type": "code",
   "execution_count": null,
   "id": "c3ddebc9-6b60-403d-aaa1-13c71e3215e6",
   "metadata": {},
   "outputs": [],
   "source": []
  }
 ],
 "metadata": {
  "kernelspec": {
   "display_name": "Python 3 (ipykernel)",
   "language": "python",
   "name": "python3"
  },
  "language_info": {
   "codemirror_mode": {
    "name": "ipython",
    "version": 3
   },
   "file_extension": ".py",
   "mimetype": "text/x-python",
   "name": "python",
   "nbconvert_exporter": "python",
   "pygments_lexer": "ipython3",
   "version": "3.12.0"
  }
 },
 "nbformat": 4,
 "nbformat_minor": 5
}
