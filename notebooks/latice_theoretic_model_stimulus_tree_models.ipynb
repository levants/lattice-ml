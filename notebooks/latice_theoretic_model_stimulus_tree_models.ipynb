{
 "cells": [
  {
   "cell_type": "code",
   "execution_count": null,
   "id": "71ce37e9",
   "metadata": {},
   "outputs": [],
   "source": [
    "%load_ext autoreload\n",
    "%autoreload 2\n",
    "\n",
    "%matplotlib inline"
   ]
  },
  {
   "cell_type": "markdown",
   "id": "5b560092",
   "metadata": {},
   "source": [
    "## Install libraries"
   ]
  },
  {
   "cell_type": "markdown",
   "id": "89885fa7",
   "metadata": {},
   "source": [
    "```bash\n",
    "conda create -n edu4 python=3.11 jupyter matplotlib\n",
    "```"
   ]
  },
  {
   "cell_type": "markdown",
   "id": "cd23589d",
   "metadata": {},
   "source": [
    "```bash \n",
    "! pip install -U -r requirements.txt\n",
    "```"
   ]
  },
  {
   "cell_type": "markdown",
   "id": "9d16321f",
   "metadata": {},
   "source": [
    "```bash\n",
    "! pip install -U numpy\n",
    "! pip install -U scikit-learn\n",
    "```"
   ]
  },
  {
   "cell_type": "markdown",
   "id": "b4cab43a",
   "metadata": {},
   "source": [
    "## Update repository"
   ]
  },
  {
   "cell_type": "code",
   "execution_count": null,
   "id": "46bcb5dc",
   "metadata": {},
   "outputs": [],
   "source": [
    "! git pull"
   ]
  },
  {
   "cell_type": "markdown",
   "id": "bad216da",
   "metadata": {},
   "source": [
    "## Add import path"
   ]
  },
  {
   "cell_type": "code",
   "execution_count": null,
   "id": "baafb705",
   "metadata": {},
   "outputs": [],
   "source": [
    "import os\n",
    "import sys\n",
    "import gc"
   ]
  },
  {
   "cell_type": "code",
   "execution_count": null,
   "id": "b2930983",
   "metadata": {},
   "outputs": [],
   "source": [
    "module_path = os.path.abspath(os.path.join('..'))\n",
    "if module_path not in sys.path:\n",
    "    sys.path.append(module_path)"
   ]
  },
  {
   "cell_type": "code",
   "execution_count": null,
   "id": "7984d32f",
   "metadata": {},
   "outputs": [],
   "source": [
    "del module_path"
   ]
  },
  {
   "cell_type": "markdown",
   "id": "07a1e9c8",
   "metadata": {},
   "source": [
    "## Organize imports"
   ]
  },
  {
   "cell_type": "code",
   "execution_count": null,
   "id": "ae177357",
   "metadata": {},
   "outputs": [],
   "source": [
    "import multiprocessing\n",
    "from pathlib import Path"
   ]
  },
  {
   "cell_type": "code",
   "execution_count": null,
   "id": "06f59daa-4e0a-43b9-a1ce-e75fd36fb756",
   "metadata": {},
   "outputs": [],
   "source": [
    "import matplotlib.pyplot as plt\n",
    "from matplotlib.colors import ListedColormap"
   ]
  },
  {
   "cell_type": "code",
   "execution_count": null,
   "id": "a523557a",
   "metadata": {},
   "outputs": [],
   "source": [
    "import seaborn as sns"
   ]
  },
  {
   "cell_type": "code",
   "execution_count": null,
   "id": "25750a3d",
   "metadata": {},
   "outputs": [],
   "source": [
    "import matplotlib.pyplot as plt\n",
    "import numpy as np\n",
    "import pandas as pd"
   ]
  },
  {
   "cell_type": "code",
   "execution_count": null,
   "id": "125950ab",
   "metadata": {},
   "outputs": [],
   "source": [
    "import plotly.express as px"
   ]
  },
  {
   "cell_type": "code",
   "execution_count": null,
   "id": "262d0a5a-ccb6-4a7d-a4a2-76a276c2ce88",
   "metadata": {},
   "outputs": [],
   "source": [
    "from sklearn.linear_model import LinearRegression, LogisticRegression\n",
    "from sklearn.discriminant_analysis import (\n",
    "    LinearDiscriminantAnalysis, \n",
    "    QuadraticDiscriminantAnalysis\n",
    ")\n",
    "from sklearn.tree import DecisionTreeClassifier, _tree\n",
    "from sklearn.ensemble import RandomForestClassifier \n",
    "from sklearn.datasets import (\n",
    "    load_iris,\n",
    "    load_wine,\n",
    "    load_breast_cancer,\n",
    "    make_classification,\n",
    ")\n",
    "from sklearn.model_selection import train_test_split, GridSearchCV\n",
    "from sklearn.preprocessing import (\n",
    "    MaxAbsScaler,\n",
    "    MinMaxScaler,\n",
    "    StandardScaler,\n",
    "    LabelEncoder, \n",
    "    OneHotEncoder,\n",
    ")\n",
    "from sklearn.metrics import (\n",
    "    precision_score, \n",
    "    recall_score, \n",
    "    f1_score,\n",
    "    classification_report,\n",
    "    confusion_matrix\n",
    ")\n",
    "from sklearn.compose import ColumnTransformer, make_column_transformer"
   ]
  },
  {
   "cell_type": "code",
   "execution_count": null,
   "id": "e1c75655-adba-4f78-811e-9fd3c0286a9e",
   "metadata": {},
   "outputs": [],
   "source": [
    "from scipy import stats\n",
    "from scipy.interpolate import interp1d"
   ]
  },
  {
   "cell_type": "code",
   "execution_count": null,
   "id": "dd35ae26-e0e9-4e5a-9302-5f968b1eb8c9",
   "metadata": {},
   "outputs": [],
   "source": [
    "from src.lattmc.fca.utils import *\n",
    "from src.lattmc.fca.data_utils import *\n",
    "from src.lattmc.fca.image_utils import *\n",
    "from src.lattmc.fca.models import *\n",
    "from src.lattmc.fca.fca_utils import *\n",
    "from src.lattmc.fca.image_gens import *"
   ]
  },
  {
   "cell_type": "markdown",
   "id": "65f31e93",
   "metadata": {},
   "source": [
    "#### Number of CPU cores"
   ]
  },
  {
   "cell_type": "code",
   "execution_count": null,
   "id": "b41c30f2",
   "metadata": {},
   "outputs": [],
   "source": [
    "workers = multiprocessing.cpu_count()\n",
    "workers"
   ]
  },
  {
   "cell_type": "code",
   "execution_count": null,
   "id": "59f41838-322d-41e8-b8e1-6712089703c9",
   "metadata": {},
   "outputs": [],
   "source": [
    "SEED = 2024"
   ]
  },
  {
   "cell_type": "markdown",
   "id": "0ccf4792-19f1-4d01-b9c2-ddea2462cadc",
   "metadata": {},
   "source": [
    "## Initialize Path"
   ]
  },
  {
   "cell_type": "code",
   "execution_count": null,
   "id": "bcd545b8-0e15-41e9-92a9-4d0bf260c8b8",
   "metadata": {},
   "outputs": [],
   "source": [
    "PATH = Path('data')\n",
    "images_path = PATH / 'images'\n",
    "images_path.mkdir(exist_ok=True, parents=True)\n",
    "pumpkin_path = PATH / 'Pumpkin_Seeds_Dataset.xlsx'\n",
    "ad_click_path = PATH / 'advertising.csv'"
   ]
  },
  {
   "cell_type": "markdown",
   "id": "be07aad4-53a7-456b-b026-80295db7d84d",
   "metadata": {},
   "source": [
    "## Prepare the model"
   ]
  },
  {
   "cell_type": "markdown",
   "id": "4c87c758-59cd-4632-b98a-7b439b762c01",
   "metadata": {},
   "source": [
    "#### Visualize model"
   ]
  },
  {
   "cell_type": "code",
   "execution_count": null,
   "id": "2496c678-79ae-408a-a669-88b3a3f34dbc",
   "metadata": {},
   "outputs": [],
   "source": [
    "# Step 1: Create a dataset\n",
    "X, y = make_classification(n_features=2, n_redundant=0, n_informative=2, random_state=0, n_clusters_per_class=1)\n",
    "\n",
    "# Split the dataset into training and test sets\n",
    "X_train, X_test, y_train, y_test = train_test_split(X, y, test_size=0.2, random_state=42)\n",
    "\n",
    "# Step 2: Train a decision tree classifier\n",
    "clf = DecisionTreeClassifier(max_depth=3)\n",
    "clf.fit(X_train, y_train)\n",
    "\n",
    "# Step 3: Create a mesh grid for plotting decision regions\n",
    "x_min, x_max = X[:, 0].min() - 1, X[:, 0].max() + 1\n",
    "y_min, y_max = X[:, 1].min() - 1, X[:, 1].max() + 1\n",
    "xx, yy = np.meshgrid(np.arange(x_min, x_max, 0.1),\n",
    "                     np.arange(y_min, y_max, 0.1))\n",
    "\n",
    "# Step 4: Predict class labels for each point in the mesh\n",
    "Z = clf.predict(np.c_[xx.ravel(), yy.ravel()])\n",
    "Z = Z.reshape(xx.shape)\n",
    "\n",
    "# Step 5: Plot the decision boundaries\n",
    "plt.contourf(xx, yy, Z, alpha=0.8)\n",
    "plt.scatter(X[:, 0], X[:, 1], c=y, edgecolors='k', marker='o')\n",
    "plt.title(\"Decision Tree Classifier Decision Regions\")\n",
    "plt.xlabel(\"Feature 1\")\n",
    "plt.ylabel(\"Feature 2\")\n",
    "plt.show()"
   ]
  },
  {
   "cell_type": "code",
   "execution_count": null,
   "id": "c79fb4e5-0bf5-43b6-ace7-46fed1291927",
   "metadata": {},
   "outputs": [],
   "source": [
    "# Load the Iris dataset\n",
    "iris = load_iris()\n",
    "X = iris.data[:, [2, 3]]  # Using only the two most important features: petal length and petal width\n",
    "y = iris.target\n",
    "\n",
    "# Split the dataset into training and test sets\n",
    "X_train, X_test, y_train, y_test = train_test_split(X, y, test_size=0.2, random_state=42)\n",
    "\n",
    "# Train a decision tree classifier\n",
    "clf = DecisionTreeClassifier(max_depth=3)\n",
    "clf.fit(X_train, y_train)\n",
    "\n",
    "# Create a mesh grid for plotting decision regions\n",
    "x_min, x_max = X[:, 0].min() - 0.5, X[:, 0].max() + 0.5\n",
    "y_min, y_max = X[:, 1].min() - 0.5, X[:, 1].max() + 0.5\n",
    "xx, yy = np.meshgrid(np.arange(x_min, x_max, 0.01),\n",
    "                     np.arange(y_min, y_max, 0.01))\n",
    "\n",
    "# Predict class labels for each point in the mesh\n",
    "Z = clf.predict(np.c_[xx.ravel(), yy.ravel()])\n",
    "Z = Z.reshape(xx.shape)\n",
    "\n",
    "# Plot the decision boundaries\n",
    "plt.contourf(xx, yy, Z, alpha=0.8)\n",
    "plt.scatter(X[:, 0], X[:, 1], c=y, edgecolors='k', marker='o', s=100)\n",
    "plt.title(\"Decision Tree Classifier on IRIS Dataset (Petal Length & Width)\")\n",
    "plt.xlabel(\"Petal Length (cm)\")\n",
    "plt.ylabel(\"Petal Width (cm)\")\n",
    "plt.show()\n"
   ]
  },
  {
   "cell_type": "code",
   "execution_count": null,
   "id": "e24511e8-5449-4686-9efc-7536f305327e",
   "metadata": {},
   "outputs": [],
   "source": [
    "from sklearn.tree import _tree\n",
    "\n",
    "# Function to list all decision rules\n",
    "def list_decision_regions(tree, feature_names):\n",
    "    tree_ = tree.tree_\n",
    "    feature_name = [\n",
    "        feature_names[i] if i != _tree.TREE_UNDEFINED else \"undefined!\"\n",
    "        for i in tree_.feature\n",
    "    ]\n",
    "    \n",
    "    def recurse(node, depth):\n",
    "        indent = \"  \" * depth\n",
    "        if tree_.feature[node] != _tree.TREE_UNDEFINED:\n",
    "            name = feature_name[node]\n",
    "            threshold = tree_.threshold[node]\n",
    "            print(f\"{indent}if {name} <= {threshold:.2f}:\")\n",
    "            recurse(tree_.children_left[node], depth + 1)\n",
    "            print(f\"{indent}else:  # if {name} > {threshold:.2f}\")\n",
    "            recurse(tree_.children_right[node], depth + 1)\n",
    "        else:\n",
    "            print(f\"{indent}return class {tree_.value[node]}\")\n",
    "    \n",
    "    recurse(0, 1)\n",
    "\n",
    "# List decision regions for the trained decision tree\n",
    "list_decision_regions(clf, iris.feature_names[2:4])\n"
   ]
  },
  {
   "cell_type": "code",
   "execution_count": null,
   "id": "3ca37692-2bad-4b41-84f5-24bdd1fd5ec8",
   "metadata": {},
   "outputs": [],
   "source": [
    "from sklearn.tree import _tree\n",
    "\n",
    "def get_tree_regions(tree):\n",
    "    \"\"\"\n",
    "    Returns all decision regions of a trained decision tree classifier.\n",
    "    \n",
    "    Parameters:\n",
    "    - tree: Trained DecisionTreeClassifier instance.\n",
    "\n",
    "    Returns:\n",
    "    - regions: List of tuples, where each tuple defines a region in terms of feature thresholds\n",
    "               and the class predicted within that region.\n",
    "    \"\"\"\n",
    "    tree_ = tree.tree_\n",
    "    regions = []\n",
    "\n",
    "    def recurse(node, region):\n",
    "        if tree_.feature[node] != _tree.TREE_UNDEFINED:\n",
    "            # This is an internal node\n",
    "            feature = tree_.feature[node]\n",
    "            threshold = tree_.threshold[node]\n",
    "\n",
    "            # Left child region (feature <= threshold)\n",
    "            left_region = region.copy()\n",
    "            left_region.append((feature.item(), \"<=\", threshold.item()))\n",
    "            recurse(tree_.children_left[node], left_region)\n",
    "\n",
    "            # Right child region (feature > threshold)\n",
    "            right_region = region.copy()\n",
    "            right_region.append((feature.item(), \">\", threshold.item()))\n",
    "            recurse(tree_.children_right[node], right_region)\n",
    "        else:\n",
    "            # This is a leaf node, add region with prediction\n",
    "            predicted_class = tree_.value[node].argmax().item()\n",
    "            regions.append((region, predicted_class))\n",
    "\n",
    "    # Initialize recursion from root\n",
    "    recurse(0, [])\n",
    "    \n",
    "    return regions"
   ]
  },
  {
   "cell_type": "code",
   "execution_count": null,
   "id": "110ef01a-5036-456e-baf0-bab2ddff2431",
   "metadata": {},
   "outputs": [],
   "source": [
    "clf = DecisionTreeClassifier().fit(X, y)\n",
    "\n",
    "# Get regions\n",
    "regions = get_tree_regions(clf)\n",
    "print(regions)"
   ]
  },
  {
   "cell_type": "code",
   "execution_count": null,
   "id": "d1d31d60-9075-4306-9160-ed156b2986c0",
   "metadata": {},
   "outputs": [],
   "source": [
    "for region in regions:\n",
    "    print(region)\n",
    "    print()"
   ]
  },
  {
   "cell_type": "code",
   "execution_count": null,
   "id": "1df87e10-eedc-42a9-b5cd-b78b1b8741b5",
   "metadata": {},
   "outputs": [],
   "source": [
    "from sklearn.tree import _tree\n",
    "\n",
    "def get_tree_regions_with_and(tree):\n",
    "    \"\"\"\n",
    "    Returns all decision regions of a trained decision tree classifier with explicit AND conditions.\n",
    "    \n",
    "    Parameters:\n",
    "    - tree: Trained DecisionTreeClassifier instance.\n",
    "\n",
    "    Returns:\n",
    "    - regions: List of tuples, where each tuple contains a list of \"AND\" conditions defining\n",
    "               a region and the class predicted within that region.\n",
    "    \"\"\"\n",
    "    tree_ = tree.tree_\n",
    "    regions = []\n",
    "\n",
    "    def recurse(node, conditions):\n",
    "        if tree_.feature[node] != _tree.TREE_UNDEFINED:\n",
    "            # This is an internal node\n",
    "            feature = tree_.feature[node]\n",
    "            threshold = tree_.threshold[node]\n",
    "\n",
    "            # Left child region (feature <= threshold)\n",
    "            left_conditions = conditions.copy()\n",
    "            left_conditions.append(f\"(feature_{feature} <= {threshold})\")\n",
    "            recurse(tree_.children_left[node], left_conditions)\n",
    "\n",
    "            # Right child region (feature > threshold)\n",
    "            right_conditions = conditions.copy()\n",
    "            right_conditions.append(f\"(feature_{feature} > {threshold})\")\n",
    "            recurse(tree_.children_right[node], right_conditions)\n",
    "        else:\n",
    "            # This is a leaf node, add region with prediction\n",
    "            predicted_class = tree_.value[node].argmax()\n",
    "            region_description = \" AND \".join(conditions)\n",
    "            regions.append((region_description, predicted_class))\n",
    "\n",
    "    # Initialize recursion from root\n",
    "    recurse(0, [])\n",
    "    return regions\n"
   ]
  },
  {
   "cell_type": "code",
   "execution_count": null,
   "id": "d8ab7d41-f13a-46f1-8e7c-ce1ec1b0cbd2",
   "metadata": {},
   "outputs": [],
   "source": [
    "# Get regions with AND conditions\n",
    "regions_with_and = get_tree_regions_with_and(clf)\n",
    "for region, prediction in regions_with_and:\n",
    "    print(f\"Region: {region}, Predicted class: {prediction}\")"
   ]
  },
  {
   "cell_type": "code",
   "execution_count": null,
   "id": "34665c75-19a3-4afb-a5e6-e1c7ef754529",
   "metadata": {},
   "outputs": [],
   "source": [
    "clf.tree_.feature"
   ]
  },
  {
   "cell_type": "code",
   "execution_count": null,
   "id": "63e9facd-1ced-46f5-8e6e-ebdd509d8e6b",
   "metadata": {},
   "outputs": [],
   "source": []
  }
 ],
 "metadata": {
  "kernelspec": {
   "display_name": "Python 3 (ipykernel)",
   "language": "python",
   "name": "python3"
  },
  "language_info": {
   "codemirror_mode": {
    "name": "ipython",
    "version": 3
   },
   "file_extension": ".py",
   "mimetype": "text/x-python",
   "name": "python",
   "nbconvert_exporter": "python",
   "pygments_lexer": "ipython3",
   "version": "3.12.0"
  }
 },
 "nbformat": 4,
 "nbformat_minor": 5
}
