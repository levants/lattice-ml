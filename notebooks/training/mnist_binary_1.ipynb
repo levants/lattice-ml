{
 "cells": [
  {
   "cell_type": "code",
   "execution_count": null,
   "id": "c7f1df17-4dc9-4d72-9d4b-9582eb2e2ecd",
   "metadata": {},
   "outputs": [],
   "source": [
    "%load_ext autoreload\n",
    "%autoreload 2\n",
    "\n",
    "%matplotlib inline"
   ]
  },
  {
   "cell_type": "markdown",
   "id": "1c5867f5-3075-4cbe-b630-f4586f4ca151",
   "metadata": {},
   "source": [
    "# Install Dependencies"
   ]
  },
  {
   "cell_type": "markdown",
   "id": "3a9b7a2a-b1f5-4a4f-b9b8-ac7d34f3b76e",
   "metadata": {},
   "source": [
    "! pip install -U lightning"
   ]
  },
  {
   "cell_type": "markdown",
   "id": "3b44042a-1211-4fa6-9a71-8ef4dfb417f9",
   "metadata": {},
   "source": [
    "# Organize Imports"
   ]
  },
  {
   "cell_type": "code",
   "execution_count": null,
   "id": "ead4e81b-2cc6-4dc6-9a2f-03c1689747e0",
   "metadata": {},
   "outputs": [],
   "source": [
    "from pathlib import Path\n",
    "\n",
    "import lightning as pl\n",
    "from lightning.pytorch.callbacks import ModelCheckpoint\n",
    "import torch\n",
    "from torch import nn\n",
    "from torch.nn import functional as F\n",
    "from torchvision import transforms, datasets\n",
    "from torch.utils.data import DataLoader"
   ]
  },
  {
   "cell_type": "markdown",
   "id": "1cae67dc-5058-45d2-a7d9-e22524df0744",
   "metadata": {},
   "source": [
    "# Orginize Path"
   ]
  },
  {
   "cell_type": "code",
   "execution_count": null,
   "id": "93502da6-40e9-4b76-9dcf-5b3b09b2c88e",
   "metadata": {},
   "outputs": [],
   "source": [
    "PATH = Path('../data')\n",
    "model_path = PATH / 'models' / '2_layer_128_64_sae_sigmoid'\n",
    "model_path.mkdir(parents=True, exist_ok=True)\n",
    "MNIST_dir = PATH / 'mnist'\n",
    "MNIST_dir.mkdir(parents=True, exist_ok=True)"
   ]
  },
  {
   "cell_type": "markdown",
   "id": "f0e43d91-8859-44c4-a83d-e1ea66027c1f",
   "metadata": {},
   "source": [
    "# Initialize Device and Workers"
   ]
  },
  {
   "cell_type": "code",
   "execution_count": null,
   "id": "fed6a4a4-bd17-490a-b57d-c54bebdf6d9a",
   "metadata": {},
   "outputs": [],
   "source": [
    "import os\n",
    " \n",
    "workers = os.cpu_count()\n",
    "print(\"Number of CPUs in the system:\", workers)"
   ]
  },
  {
   "cell_type": "code",
   "execution_count": null,
   "id": "f5330aa4-0622-4277-b09e-809ec06f34e3",
   "metadata": {},
   "outputs": [],
   "source": [
    "if torch.cuda.is_available():\n",
    "    device = 'gpu'  \n",
    "elif torch.backends.mps.is_available():\n",
    "    device = 'mps'\n",
    "else:\n",
    "    device = 'cpu',"
   ]
  },
  {
   "cell_type": "markdown",
   "id": "a14ed557-3167-4dc4-851a-15b4e4229fa6",
   "metadata": {},
   "source": [
    "# Initialize the Model"
   ]
  },
  {
   "cell_type": "code",
   "execution_count": null,
   "id": "afe6e67d-3314-4072-b193-6be2fcc48c39",
   "metadata": {},
   "outputs": [],
   "source": [
    "class SimpleNN(nn.Module):\n",
    "\n",
    "    def __init__(self, input_size, hidden_size):\n",
    "        super().__init__()\n",
    "        # Define layers\n",
    "        self.hidden = nn.Linear(input_size, hidden_size)\n",
    "        self.relu = nn.ReLU()\n",
    "        self.output = nn.Linear(hidden_size, 1)\n",
    "\n",
    "    def forward(self, x):\n",
    "        # Flatten the image tensors\n",
    "        x = x.view(x.size(0), -1)\n",
    "        # Hidden layer with ReLU activation\n",
    "        h = self.hidden(x)\n",
    "        h = self.relu(h)\n",
    "        # Output layer with Sigmoid activation\n",
    "        r = self.output(h)\n",
    "\n",
    "        return r"
   ]
  },
  {
   "cell_type": "code",
   "execution_count": null,
   "id": "b0719297-21a8-453e-83fa-0f676e68383f",
   "metadata": {},
   "outputs": [],
   "source": [
    "class SimpleNNPL(pl.LightningModule):\n",
    "    def __init__(self, input_size, hidden_size):\n",
    "        super().__init__()\n",
    "        # Define layers\n",
    "        self.model = SimpleNN(input_size, hidden_size)\n",
    "        self.sigmoid = nn.Sigmoid()\n",
    "        # Loss function for binary classification\n",
    "        self.loss_fn = nn.BCEWithLogitsLoss()\n",
    "\n",
    "    def forward(self, x):\n",
    "        return self.model(x)\n",
    "\n",
    "\n",
    "    def training_step(self, batch, batch_idx):\n",
    "        x, y = batch\n",
    "        # Ensure the target is of type float and has correct shape\n",
    "        y = y.float().unsqueeze(1)\n",
    "        y_hat = self(x)\n",
    "        # Compute loss\n",
    "        loss = self.loss_fn(y_hat, y)\n",
    "        # Compute accuracy\n",
    "        preds = (self.sigmoid(y_hat) > 0.5).float()\n",
    "        acc = (preds == y).float().mean()\n",
    "        # Log metrics\n",
    "        self.log('train_loss', loss, on_epoch=True)\n",
    "        self.log('train_acc', acc, on_epoch=True)\n",
    "        return loss\n",
    "\n",
    "    def validation_step(self, batch, batch_idx):\n",
    "        x, y = batch\n",
    "        y = y.float().unsqueeze(1)\n",
    "        y_hat = self(x)\n",
    "        loss = self.loss_fn(y_hat, y)\n",
    "        preds = (self.sigmoid(y_hat) > 0.5).float()\n",
    "        acc = (preds == y).float().mean()\n",
    "        self.log('val_loss', loss, on_epoch=True)\n",
    "        self.log('val_acc', acc, on_epoch=True)\n",
    "\n",
    "\n",
    "    def configure_optimizers(self):\n",
    "        # Use Adam optimizer\n",
    "        optimizer = torch.optim.Adam(self.parameters(), lr=1e-3)\n",
    "        return optimizer\n",
    "\n",
    "# Function to convert labels to binary (even=0, odd=1)\n",
    "def binary_target_transform(target):\n",
    "    return 1 - int(target % 2 == 0 or target % 3 == 0)\n",
    "\n",
    "# Transform to convert images to tensors\n",
    "transform = transforms.Compose([transforms.ToTensor()])\n",
    "\n",
    "# Load MNIST dataset with binary targets\n",
    "train_dataset = datasets.MNIST(\n",
    "    root='.',\n",
    "    train=True,\n",
    "    download=True,\n",
    "    transform=transform,\n",
    "    target_transform=binary_target_transform\n",
    ")\n",
    "val_dataset = datasets.MNIST(\n",
    "    root='.',\n",
    "    train=False,\n",
    "    download=True,\n",
    "    transform=transform,\n",
    "    target_transform=binary_target_transform\n",
    ")\n",
    "\n",
    "val_dataset_orig = datasets.MNIST(\n",
    "    root='.',\n",
    "    train=False,\n",
    "    download=True,\n",
    "    transform=transform,\n",
    "    # target_transform=binary_target_transform\n",
    ")"
   ]
  },
  {
   "cell_type": "code",
   "execution_count": null,
   "id": "4d46ca27-803a-49af-956e-197e6d6bbeac",
   "metadata": {},
   "outputs": [],
   "source": [
    "# Data loaders\n",
    "train_loader = DataLoader(\n",
    "    train_dataset, \n",
    "    batch_size=64, \n",
    "    shuffle=True, \n",
    "    # num_workers=workers - 2,\n",
    "    # persistent_workers = True,\n",
    ")\n",
    "val_loader = DataLoader(\n",
    "    val_dataset, \n",
    "    batch_size=128, \n",
    "    # num_workers=workers - 2,\n",
    "    # persistent_workers = True,\n",
    ")\n",
    "val_loader_orig = DataLoader(\n",
    "    val_dataset_orig, \n",
    "    batch_size=128, \n",
    "    # num_workers=workers - 2,\n",
    "    # persistent_workers = True,\n",
    ")\n",
    "\n",
    "# Initialize the model\n",
    "pl_model = SimpleNNPL(input_size=28 * 28, hidden_size=128)"
   ]
  },
  {
   "cell_type": "code",
   "execution_count": null,
   "id": "c0d853c2-5540-484e-aab2-e9ae64fc4ff8",
   "metadata": {},
   "outputs": [],
   "source": [
    "for x, y in train_loader:\n",
    "    print(x.shape, y.shape)\n",
    "    y_hat = pl_model(x)\n",
    "    print(y_hat.shape)\n",
    "    # print(y, y_hat)\n",
    "    break"
   ]
  },
  {
   "cell_type": "code",
   "execution_count": null,
   "id": "76beea05-a6bc-48a5-be05-15676ee2726f",
   "metadata": {},
   "outputs": [],
   "source": [
    "for x, y in val_loader_orig:\n",
    "    print(x.shape, y.shape)\n",
    "    y_hat = pl_model(x)\n",
    "    print(y_hat.shape)\n",
    "    break"
   ]
  },
  {
   "cell_type": "code",
   "execution_count": null,
   "id": "19584a7e-c47c-4397-b672-27f33fc9362b",
   "metadata": {},
   "outputs": [],
   "source": [
    "pl_model.loss_fn(y_hat, y.float().unsqueeze(1))\n",
    "preds = (nn.Sigmoid()(y_hat) > 0.5).float()\n",
    "acc = (preds == y).float().mean()\n",
    "acc"
   ]
  },
  {
   "cell_type": "markdown",
   "id": "8cf18e38-70a4-45d8-9ee3-3983062ec47b",
   "metadata": {},
   "source": [
    "# Checkpointing the Model"
   ]
  },
  {
   "cell_type": "code",
   "execution_count": null,
   "id": "950bcc8f-3e3b-4bee-8c95-d645a853619f",
   "metadata": {},
   "outputs": [],
   "source": [
    "checkpoint_callback = ModelCheckpoint(\n",
    "    monitor='val_loss',\n",
    "    dirpath=model_path,\n",
    "    filename='sample-mnist-{epoch:02d}',\n",
    "    save_top_k = 1,\n",
    "    auto_insert_metric_name=True,\n",
    "    verbose = True,\n",
    ")"
   ]
  },
  {
   "cell_type": "markdown",
   "id": "858a7e94-d79d-4861-92fa-b13efa4ef8ff",
   "metadata": {},
   "source": [
    "# Initiate Training"
   ]
  },
  {
   "cell_type": "code",
   "execution_count": null,
   "id": "1dae9eb7-734e-47de-8be1-89e966e843ce",
   "metadata": {},
   "outputs": [],
   "source": [
    "# Initialize the model\n",
    "pl_model = SimpleNNPL(input_size=28*28, hidden_size=128)\n",
    "\n",
    "# Initialize a trainer\n",
    "trainer = pl.Trainer(\n",
    "    max_epochs=64,\n",
    "    accelerator=device,\n",
    "    # accelerator='cpu',\n",
    "    callbacks=[checkpoint_callback],\n",
    ")\n",
    "\n",
    "# Train the model\n",
    "trainer.fit(pl_model, train_loader, val_loader)"
   ]
  },
  {
   "cell_type": "code",
   "execution_count": null,
   "id": "9dca5a7c-03c8-458b-a9b5-0ec71e166da5",
   "metadata": {},
   "outputs": [],
   "source": []
  }
 ],
 "metadata": {
  "kernelspec": {
   "display_name": "Python 3 (ipykernel)",
   "language": "python",
   "name": "python3"
  },
  "language_info": {
   "codemirror_mode": {
    "name": "ipython",
    "version": 3
   },
   "file_extension": ".py",
   "mimetype": "text/x-python",
   "name": "python",
   "nbconvert_exporter": "python",
   "pygments_lexer": "ipython3",
   "version": "3.12.8"
  }
 },
 "nbformat": 4,
 "nbformat_minor": 5
}
