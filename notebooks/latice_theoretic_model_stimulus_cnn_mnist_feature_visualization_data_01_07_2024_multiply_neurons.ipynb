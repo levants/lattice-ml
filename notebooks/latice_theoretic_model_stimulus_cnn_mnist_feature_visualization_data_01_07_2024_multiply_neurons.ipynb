{
 "cells": [
  {
   "cell_type": "code",
   "execution_count": null,
   "id": "71ce37e9",
   "metadata": {},
   "outputs": [],
   "source": [
    "%load_ext autoreload\n",
    "%autoreload 2\n",
    "\n",
    "%matplotlib inline"
   ]
  },
  {
   "cell_type": "markdown",
   "id": "5b560092",
   "metadata": {},
   "source": [
    "## Install libraries"
   ]
  },
  {
   "cell_type": "code",
   "execution_count": null,
   "id": "69b65bf2-6556-48a6-826d-5cfe43eddab7",
   "metadata": {},
   "outputs": [],
   "source": [
    "from IPython.display import display, Javascript\n",
    "\n",
    "display(Javascript('''\n",
    "(function() {\n",
    "    var interval = setInterval(function() {\n",
    "        if (typeof google !== 'undefined' && google.translate && google.translate.TranslateElement) {\n",
    "            clearInterval(interval);\n",
    "            google.translate.TranslateElement = function() {};\n",
    "            document.getElementById('google_translate_element')?.remove();\n",
    "        }\n",
    "    }, 1000);\n",
    "})();\n",
    "'''))"
   ]
  },
  {
   "cell_type": "markdown",
   "id": "b4cab43a",
   "metadata": {},
   "source": [
    "## Update repository"
   ]
  },
  {
   "cell_type": "code",
   "execution_count": null,
   "id": "46bcb5dc",
   "metadata": {},
   "outputs": [],
   "source": [
    "! git pull"
   ]
  },
  {
   "cell_type": "markdown",
   "id": "512bfa8b-4954-47af-b816-185cf125555a",
   "metadata": {},
   "source": [
    "## Install libraries"
   ]
  },
  {
   "cell_type": "code",
   "execution_count": null,
   "id": "ae6232b4-29fb-4198-bdc5-1028f8d6d8f3",
   "metadata": {},
   "outputs": [],
   "source": [
    "! pip install -U --quiet git+https://github.com/greentfrapp/lucent.git"
   ]
  },
  {
   "cell_type": "markdown",
   "id": "bad216da",
   "metadata": {},
   "source": [
    "## Add import path"
   ]
  },
  {
   "cell_type": "code",
   "execution_count": null,
   "id": "baafb705",
   "metadata": {},
   "outputs": [],
   "source": [
    "import os\n",
    "import sys\n",
    "import gc"
   ]
  },
  {
   "cell_type": "code",
   "execution_count": null,
   "id": "b2930983",
   "metadata": {},
   "outputs": [],
   "source": [
    "module_path = os.path.abspath(os.path.join('..'))\n",
    "if module_path not in sys.path:\n",
    "    sys.path.append(module_path)"
   ]
  },
  {
   "cell_type": "code",
   "execution_count": null,
   "id": "7984d32f",
   "metadata": {},
   "outputs": [],
   "source": [
    "del module_path"
   ]
  },
  {
   "cell_type": "markdown",
   "id": "07a1e9c8",
   "metadata": {},
   "source": [
    "## Organize imports"
   ]
  },
  {
   "cell_type": "code",
   "execution_count": null,
   "id": "ae177357",
   "metadata": {},
   "outputs": [],
   "source": [
    "import multiprocessing\n",
    "from pathlib import Path"
   ]
  },
  {
   "cell_type": "code",
   "execution_count": null,
   "id": "ee903b26-0c30-466e-87e9-46b68f585fdf",
   "metadata": {},
   "outputs": [],
   "source": [
    "from collections import OrderedDict"
   ]
  },
  {
   "cell_type": "code",
   "execution_count": null,
   "id": "24a7dc9c-777d-4d5c-9674-9cb09b221509",
   "metadata": {},
   "outputs": [],
   "source": [
    "from functools import reduce"
   ]
  },
  {
   "cell_type": "code",
   "execution_count": null,
   "id": "25750a3d",
   "metadata": {},
   "outputs": [],
   "source": [
    "import matplotlib.pyplot as plt\n",
    "import seaborn as sns\n",
    "import numpy as np"
   ]
  },
  {
   "cell_type": "code",
   "execution_count": null,
   "id": "96b53c98-9137-444e-b868-deecac303673",
   "metadata": {},
   "outputs": [],
   "source": [
    "from tqdm import tqdm"
   ]
  },
  {
   "cell_type": "code",
   "execution_count": null,
   "id": "23828718-0adc-4a5f-8d63-813442ccbee8",
   "metadata": {},
   "outputs": [],
   "source": [
    "import torch\n",
    "from torch import nn\n",
    "from torch.utils.data import DataLoader\n",
    "from torchvision import transforms\n",
    "from torchvision.datasets import MNIST"
   ]
  },
  {
   "cell_type": "code",
   "execution_count": null,
   "id": "24e1c835-52c3-4aee-92b6-8b86147d8da2",
   "metadata": {},
   "outputs": [],
   "source": [
    "from src.lattmc.fca.utils import *\n",
    "from src.lattmc.fca.data_utils import *\n",
    "from src.lattmc.fca.image_utils import *\n",
    "from src.lattmc.fca.models import *\n",
    "from src.lattmc.fca.fca_utils import *\n",
    "from src.lattmc.fca.image_gens import *"
   ]
  },
  {
   "cell_type": "markdown",
   "id": "65f31e93",
   "metadata": {},
   "source": [
    "#### Number of CPU cores"
   ]
  },
  {
   "cell_type": "code",
   "execution_count": null,
   "id": "b41c30f2",
   "metadata": {},
   "outputs": [],
   "source": [
    "workers = multiprocessing.cpu_count()\n",
    "workers"
   ]
  },
  {
   "cell_type": "code",
   "execution_count": null,
   "id": "59f41838-322d-41e8-b8e1-6712089703c9",
   "metadata": {},
   "outputs": [],
   "source": [
    "SEED = 2024"
   ]
  },
  {
   "cell_type": "markdown",
   "id": "0ccf4792-19f1-4d01-b9c2-ddea2462cadc",
   "metadata": {},
   "source": [
    "## Initialize Path"
   ]
  },
  {
   "cell_type": "code",
   "execution_count": null,
   "id": "bcd545b8-0e15-41e9-92a9-4d0bf260c8b8",
   "metadata": {},
   "outputs": [],
   "source": [
    "PATH = Path('data')\n",
    "model_dir = PATH / 'models'\n",
    "model_path = model_dir / 'simple_cnn_mnist_model.ckpt'\n",
    "config_dir = PATH / 'config'\n",
    "config_dir.mkdir(exist_ok=True, parents=True)\n",
    "config_1_layer_path = config_dir / 'neurons_1_layer.json'\n",
    "config_cnn_layer_1 = config_dir / 'neurons_cnn_1_layer.json'\n",
    "images_dir = PATH / 'images'\n",
    "images_dir.mkdir(exist_ok=True, parents=True)\n",
    "pumpkin_path = PATH / 'Pumpkin_Seeds_Dataset.xlsx'"
   ]
  },
  {
   "cell_type": "markdown",
   "id": "67b7d099-7346-4521-a81b-9e3ca5dbfdb0",
   "metadata": {},
   "source": [
    "## Load the model"
   ]
  },
  {
   "cell_type": "code",
   "execution_count": null,
   "id": "f365d055-0da1-4809-828e-a314a1bc621c",
   "metadata": {},
   "outputs": [],
   "source": [
    "model = torch.load(model_path, map_location='cpu')"
   ]
  },
  {
   "cell_type": "code",
   "execution_count": null,
   "id": "756fc5e6-fcfa-4874-bd72-4263b7262511",
   "metadata": {},
   "outputs": [],
   "source": [
    "def clear_state_dict(state_dict):\n",
    "    for key in list(state_dict.keys()):\n",
    "        state_dict[key.replace('model.0.', 'conv1.')] = state_dict.pop(key)\n",
    "    for key in list(state_dict.keys()):\n",
    "        state_dict[key.replace('model.3.', 'conv2.')] = state_dict.pop(key)\n",
    "    for key in list(state_dict.keys()):\n",
    "        state_dict[key.replace('model.8.', 'fc1.')] = state_dict.pop(key)\n",
    "    for key in list(state_dict.keys()):\n",
    "        state_dict[key.replace('model.11.', 'fc2.')] = state_dict.pop(key)\n",
    "\n",
    "    return state_dict"
   ]
  },
  {
   "cell_type": "code",
   "execution_count": null,
   "id": "f94db6e0-040a-4bf9-b911-a4d7e04854c4",
   "metadata": {},
   "outputs": [],
   "source": [
    "state_dict = clear_state_dict(model['state_dict'])"
   ]
  },
  {
   "cell_type": "code",
   "execution_count": null,
   "id": "5b0f65ba-7ccc-4fb6-a82b-e62e973f2b85",
   "metadata": {},
   "outputs": [],
   "source": [
    "net = nn.Sequential(OrderedDict([\n",
    "    ('conv1', nn.Conv2d(1, 32, kernel_size=3, stride=1, padding=1)),\n",
    "    ('act1', nn.ReLU()),\n",
    "    ('mxp1', nn.MaxPool2d(kernel_size=2, stride=2)),\n",
    "    ('conv2', nn.Conv2d(32, 64, kernel_size=3, stride=1, padding=1)),\n",
    "    ('act2', nn.ReLU()),\n",
    "    ('mxp2', nn.MaxPool2d(kernel_size=2, stride=2)),\n",
    "    ('flatten', nn.Flatten()),\n",
    "    ('fc1', nn.Linear(64 * 7 * 7, 128)),\n",
    "    ('act3', nn.ReLU()),\n",
    "    ('fc2', nn.Linear(128, 10)),\n",
    "]))"
   ]
  },
  {
   "cell_type": "code",
   "execution_count": null,
   "id": "b53a9e71-4cee-4564-9deb-52feaf94fb57",
   "metadata": {},
   "outputs": [],
   "source": [
    "net.load_state_dict(state_dict)"
   ]
  },
  {
   "cell_type": "code",
   "execution_count": null,
   "id": "75c19bf4-50a2-4578-b6f3-563c43d93ae8",
   "metadata": {},
   "outputs": [],
   "source": [
    "net = net.eval()"
   ]
  },
  {
   "cell_type": "markdown",
   "id": "cae6cb9b-e48c-44e6-b0ec-8907629451e1",
   "metadata": {},
   "source": [
    "## Initialize MNIST dataset"
   ]
  },
  {
   "cell_type": "code",
   "execution_count": null,
   "id": "6fa621c7-0c74-4d72-b7e0-af9698f7308d",
   "metadata": {},
   "outputs": [],
   "source": [
    "transforms_list = [\n",
    "                ToTensor(),\n",
    "                transforms.Normalize((0.1307,), (0.3081,)),\n",
    "            ]"
   ]
  },
  {
   "cell_type": "code",
   "execution_count": null,
   "id": "b5a613d8-e5ac-4a78-9e79-983e19ffb93d",
   "metadata": {},
   "outputs": [],
   "source": [
    "transform = transforms.Compose(transforms_list)"
   ]
  },
  {
   "cell_type": "code",
   "execution_count": null,
   "id": "9d206541-1930-4ce3-a629-b9deed2b7c0f",
   "metadata": {},
   "outputs": [],
   "source": [
    "data_train = MNIST(images_dir, train=True, download=True)\n",
    "data_test = MNIST(images_dir, train=False, download=True)"
   ]
  },
  {
   "cell_type": "code",
   "execution_count": null,
   "id": "55a9639b-ba83-4a8f-a06d-5d8e68f08cfc",
   "metadata": {},
   "outputs": [],
   "source": [
    "next(net.parameters()).device"
   ]
  },
  {
   "cell_type": "code",
   "execution_count": null,
   "id": "b34a7580-c9fe-4db9-adab-f7ffd8115c05",
   "metadata": {},
   "outputs": [],
   "source": [
    "device = find_device()\n",
    "device"
   ]
  },
  {
   "cell_type": "code",
   "execution_count": null,
   "id": "0ed4ff52-8905-4cbd-83b3-79a12a7d21f8",
   "metadata": {},
   "outputs": [],
   "source": [
    "wnet = NetWrapper(net, transform)"
   ]
  },
  {
   "cell_type": "code",
   "execution_count": null,
   "id": "24107477-a096-4454-8498-51ec736609ee",
   "metadata": {},
   "outputs": [],
   "source": [
    "wnet.net"
   ]
  },
  {
   "cell_type": "code",
   "execution_count": null,
   "id": "b4ed25af-cd8a-45f4-be1b-b2bcbc368e68",
   "metadata": {
    "scrolled": true
   },
   "outputs": [],
   "source": [
    "wnet.net[:6]"
   ]
  },
  {
   "cell_type": "code",
   "execution_count": null,
   "id": "6dec2f3e-5d5a-4b7b-b2fd-5c2266f54087",
   "metadata": {},
   "outputs": [],
   "source": [
    "layer_V_n = 3\n",
    "layer_U_n = 6"
   ]
  },
  {
   "cell_type": "code",
   "execution_count": null,
   "id": "41b27625-58b2-4cfd-99de-8a5f2a3f684b",
   "metadata": {
    "scrolled": true
   },
   "outputs": [],
   "source": [
    "wnet.device"
   ]
  },
  {
   "cell_type": "markdown",
   "id": "590f096d-36b6-4931-8d35-454ca29aea9c",
   "metadata": {},
   "source": [
    "## Try feature visualization"
   ]
  },
  {
   "cell_type": "code",
   "execution_count": null,
   "id": "b7a1b5b3-5044-4ab2-8593-9ba656826f85",
   "metadata": {},
   "outputs": [],
   "source": [
    "from lucent.optvis import render, param, transform, objectives\n",
    "from lucent.misc.io.showing import animate_sequence\n",
    "from lucent.modelzoo.util import get_model_layers"
   ]
  },
  {
   "cell_type": "code",
   "execution_count": null,
   "id": "6ae3cf03-ecfa-4a56-bdd3-b878481c933b",
   "metadata": {},
   "outputs": [],
   "source": [
    "from torchvision.models import googlenet\n",
    "from lucent.modelzoo import inceptionv1"
   ]
  },
  {
   "cell_type": "code",
   "execution_count": null,
   "id": "426bbf1e-089f-4ac3-bbb0-dc678831b024",
   "metadata": {},
   "outputs": [],
   "source": [
    "device = 'cpu'"
   ]
  },
  {
   "cell_type": "code",
   "execution_count": null,
   "id": "b435b6f3-8122-464a-a0c5-5db9b5e37f3b",
   "metadata": {},
   "outputs": [],
   "source": [
    "# We have already downloaded the weights to inception5h.pth\n",
    "inceptionv1_model = inceptionv1(pretrained=True)\n",
    "_ = inceptionv1_model.to(device).eval()"
   ]
  },
  {
   "cell_type": "code",
   "execution_count": null,
   "id": "41ab7843-a61f-4d7e-b423-3e4a50ebf853",
   "metadata": {},
   "outputs": [],
   "source": [
    "# Print the first 20 layer names\n",
    "get_model_layers(inceptionv1_model)[:20]"
   ]
  },
  {
   "cell_type": "code",
   "execution_count": null,
   "id": "86d85e9e-7828-4a13-a7b8-993692e6d36a",
   "metadata": {},
   "outputs": [],
   "source": [
    "_ = render.render_vis(inceptionv1_model, \"mixed4a:107\", show_inline=True)"
   ]
  },
  {
   "cell_type": "markdown",
   "id": "78369d16-4f39-424f-ac62-a52ed03bde93",
   "metadata": {},
   "source": [
    "## Try feature visualization"
   ]
  },
  {
   "cell_type": "code",
   "execution_count": null,
   "id": "938a8909-247b-4247-8650-6e0d48cd06a4",
   "metadata": {},
   "outputs": [],
   "source": [
    "from lucent.optvis import render, param, transform as trsfm, objectives\n",
    "from lucent.optvis.render import hook_model, tensor_to_img_array\n",
    "from lucent.misc.io.showing import animate_sequence"
   ]
  },
  {
   "cell_type": "code",
   "execution_count": null,
   "id": "d17e4b88-db13-4205-b5ba-55e1f21b6703",
   "metadata": {},
   "outputs": [],
   "source": [
    "def render_vis(\n",
    "    model,\n",
    "    objective_f,\n",
    "    param_f=None,\n",
    "    optimizer=None,\n",
    "    transforms=None,\n",
    "    thresholds=(512,),\n",
    "    verbose=False,\n",
    "    preprocess=True,\n",
    "    progress=True,\n",
    "    show_image=True,\n",
    "    save_image=False,\n",
    "    image_name=None,\n",
    "    show_inline=False,\n",
    "    fixed_image_size=None,\n",
    "):\n",
    "    if param_f is None:\n",
    "        param_f = lambda: param.image(128, device=next(model.parameters()).device)\n",
    "    # param_f is a function that should return two things\n",
    "    # params - parameters to update, which we pass to the optimizer\n",
    "    # image_f - a function that returns an image as a tensor\n",
    "    params, image_f = param_f()\n",
    "\n",
    "    if optimizer is None:\n",
    "        optimizer = lambda params: torch.optim.Adam(params, lr=5e-2)\n",
    "    optimizer = optimizer(params)\n",
    "\n",
    "    if transforms is None:\n",
    "        transforms = transform.standard_transforms\n",
    "\n",
    "    if preprocess:\n",
    "        if model._get_name() == \"InceptionV1\":\n",
    "            # Original Tensorflow InceptionV1 takes input range [-117, 138]\n",
    "            transforms.append(transform.preprocess_inceptionv1())\n",
    "        else:\n",
    "            # Assume we use normalization for torchvision.models\n",
    "            # See https://pytorch.org/docs/stable/torchvision/models.html\n",
    "            transforms.append(transform.normalize())\n",
    "\n",
    "    # Upsample images smaller than 224\n",
    "    image_shape = image_f().shape\n",
    "    if fixed_image_size is not None:\n",
    "        new_size = fixed_image_size\n",
    "    elif image_shape[2] < 224 or image_shape[3] < 224:\n",
    "        new_size = 224\n",
    "    else:\n",
    "        new_size = None\n",
    "    if new_size:\n",
    "        transforms.append(\n",
    "            torch.nn.Upsample(size=new_size, mode=\"bilinear\", align_corners=True)\n",
    "        )\n",
    "\n",
    "    transform_f = trsfm.compose(transforms)\n",
    "\n",
    "    hook, features = hook_model(model, image_f, return_hooks=True)\n",
    "    objective_f = objectives.as_objective(objective_f)\n",
    "\n",
    "    if verbose:\n",
    "        model(transform_f(image_f()))\n",
    "        print(\"Initial loss: {:.3f}\".format(objective_f(hook)))\n",
    "\n",
    "    images = []\n",
    "    try:\n",
    "        for i in tqdm(range(1, max(thresholds) + 1), disable=(not progress)):\n",
    "            def closure():\n",
    "                optimizer.zero_grad()\n",
    "                try:\n",
    "                    model(transform_f(image_f()))\n",
    "                except RuntimeError as ex:\n",
    "                    if i == 1:\n",
    "                        # Only display the warning message\n",
    "                        # on the first iteration, no need to do that\n",
    "                        # every iteration\n",
    "                        warnings.warn(\n",
    "                            \"Some layers could not be computed because the size of the \"\n",
    "                            \"image is not big enough. It is fine, as long as the non\"\n",
    "                            \"computed layers are not used in the objective function\"\n",
    "                            f\"(exception details: '{ex}')\"\n",
    "                        )\n",
    "                loss = objective_f(hook)\n",
    "                loss.backward()\n",
    "                return loss\n",
    "                \n",
    "            optimizer.step(closure)\n",
    "            if i in thresholds:\n",
    "                # image = tensor_to_img_array(image_f())\n",
    "                if verbose:\n",
    "                    print(\"Loss at step {}: {:.3f}\".format(i, objective_f(hook)))\n",
    "                    if show_inline:\n",
    "                        show(image)\n",
    "                images.append(image_f())\n",
    "    except KeyboardInterrupt:\n",
    "        print(\"Interrupted optimization at step {:d}.\".format(i))\n",
    "        if verbose:\n",
    "            print(\"Loss at step {}: {:.3f}\".format(i, objective_f(hook)))\n",
    "        images.append(tensor_to_img_array(image_f()))\n",
    "\n",
    "    # Clear hooks\n",
    "    for module_hook in features.values():\n",
    "        del module_hook.module._forward_hooks[module_hook.hook.id]\n",
    "\n",
    "    if save_image:\n",
    "        export(image_f(), image_name)\n",
    "    if show_inline:\n",
    "        show(tensor_to_img_array(image_f()))\n",
    "    elif show_image:\n",
    "        view(image_f())\n",
    "    \n",
    "    return images"
   ]
  },
  {
   "cell_type": "code",
   "execution_count": null,
   "id": "89d435e3-d133-4974-98c0-cc25737ba849",
   "metadata": {
    "scrolled": true
   },
   "outputs": [],
   "source": [
    "img_list = list()\n",
    "chn_list = list()\n",
    "laner_name = 'mxp1'\n",
    "for ch in range(32):\n",
    "    param_f = lambda: param.image(28, batch=16, channels=1)\n",
    "    fft_decor_param_f = lambda: param.image(\n",
    "        w=28, \n",
    "        fft=True, \n",
    "        decorrelate=True, \n",
    "        channels=1,\n",
    "        batch=1,\n",
    "    )\n",
    "    obj = objectives.channel(\n",
    "        laner_name, \n",
    "        ch, \n",
    "        batch=1\n",
    "    ) - objectives.channel(\n",
    "        laner_name, \n",
    "        ch, \n",
    "        batch=0\n",
    "    )\n",
    "    vnet = wnet.net.to('cpu').eval()\n",
    "    thresholds=[2**k for k in range(9, 15)]\n",
    "    results = render_vis(\n",
    "        vnet, \n",
    "        obj,\n",
    "        fft_decor_param_f,\n",
    "        # param_f,\n",
    "        # thresholds=thresholds,\n",
    "        transforms=transforms_list,  \n",
    "        fixed_image_size=28, \n",
    "        preprocess=False,\n",
    "        save_image=False,\n",
    "        show_inline=False,\n",
    "        show_image=False,\n",
    "    )\n",
    "    img_list.append(results[0][0][0].to('cpu').detach().numpy())\n",
    "    chn_list.append(str(ch + 1))"
   ]
  },
  {
   "cell_type": "code",
   "execution_count": null,
   "id": "7f2e73ab-c519-4a33-8204-903faa9c68b5",
   "metadata": {},
   "outputs": [],
   "source": [
    "len(results), results[0].shape, results[0][0][0].shape"
   ]
  },
  {
   "cell_type": "code",
   "execution_count": null,
   "id": "480f6224-7e13-4689-a1ac-9ea7183b79f2",
   "metadata": {},
   "outputs": [],
   "source": [
    "results[0].shape"
   ]
  },
  {
   "cell_type": "code",
   "execution_count": null,
   "id": "4126c632-f00d-4039-b07b-5aea2d1ab701",
   "metadata": {},
   "outputs": [],
   "source": [
    "plt.imshow(results[0][0][0].to('cpu').detach().numpy())\n",
    "plt.show()"
   ]
  },
  {
   "cell_type": "code",
   "execution_count": null,
   "id": "6e0dd083-b78a-41e9-bdeb-b4ac8ede755c",
   "metadata": {},
   "outputs": [],
   "source": [
    "show_images([img[0] for img in results[0].detach().numpy()], [str(i + 1) for i in range(results[0].shape[0])])"
   ]
  },
  {
   "cell_type": "code",
   "execution_count": null,
   "id": "ab7269cc-3188-42af-ae30-8e543ec51cd1",
   "metadata": {},
   "outputs": [],
   "source": [
    "show_images(img_list, chn_list)"
   ]
  },
  {
   "cell_type": "code",
   "execution_count": null,
   "id": "01f88768-38ed-402f-965e-4c0cad2c32e9",
   "metadata": {},
   "outputs": [],
   "source": [
    "show_images(img_list, chn_list)"
   ]
  },
  {
   "cell_type": "markdown",
   "id": "111db372-8212-4116-a64c-aacee6588c81",
   "metadata": {},
   "source": [
    "## Get V lattices"
   ]
  },
  {
   "cell_type": "code",
   "execution_count": null,
   "id": "aa63cd01-3435-45bc-9479-0e0997eaf7b8",
   "metadata": {
    "scrolled": true
   },
   "outputs": [],
   "source": [
    "bs = 8"
   ]
  },
  {
   "cell_type": "code",
   "execution_count": null,
   "id": "7da39f11-54d0-4e2b-8ab6-fdc8d895a058",
   "metadata": {},
   "outputs": [],
   "source": [
    "V_X_train, X_V_train = layer_V(data_train, wnet, k=layer_V_n, bs=bs)"
   ]
  },
  {
   "cell_type": "code",
   "execution_count": null,
   "id": "5f62f114-37a5-4c98-b955-c133ff39ed12",
   "metadata": {},
   "outputs": [],
   "source": [
    "V_X_test, X_V_test = layer_V(data_test, wnet, k=layer_V_n, bs=bs)"
   ]
  },
  {
   "cell_type": "code",
   "execution_count": null,
   "id": "83f78423-c986-4815-86d6-b0582f8c150b",
   "metadata": {},
   "outputs": [],
   "source": [
    "U_X_train, X_U_train = layer_V(data_train, wnet, k=layer_U_n, bs=bs)"
   ]
  },
  {
   "cell_type": "code",
   "execution_count": null,
   "id": "fb115167-5947-4fa3-b4fc-aa8862a0d0d7",
   "metadata": {},
   "outputs": [],
   "source": [
    "U_X_test, X_U_test = layer_V(data_test, wnet, k=layer_U_n, bs=bs)"
   ]
  },
  {
   "cell_type": "code",
   "execution_count": null,
   "id": "2b3308af-0368-48cb-ba2a-235f745953ff",
   "metadata": {},
   "outputs": [],
   "source": [
    "V_X_train.shape, V_X_test.shape, U_X_train.shape, U_X_test.shape"
   ]
  },
  {
   "cell_type": "markdown",
   "id": "e16cfea8-ae7e-4209-89fb-dbd1dfa3ad79",
   "metadata": {},
   "source": [
    "## Sorting vectors"
   ]
  },
  {
   "cell_type": "code",
   "execution_count": null,
   "id": "17927a97-ba89-4227-9e58-1397dfa5946b",
   "metadata": {},
   "outputs": [],
   "source": [
    "V_X_digits, V_X_sorteds = sort_V_X(V_X_train, data_train)"
   ]
  },
  {
   "cell_type": "markdown",
   "id": "7e3b79ba-84e6-455d-afca-b7674b9750e4",
   "metadata": {},
   "source": [
    "## Alanyze maximum stimulus"
   ]
  },
  {
   "cell_type": "code",
   "execution_count": null,
   "id": "49fab0be-daa7-4588-8fee-ee1253aa0667",
   "metadata": {},
   "outputs": [],
   "source": [
    "v_Ds = dict()\n",
    "u_Ds = dict()\n",
    "G_v_tests = dict()\n",
    "G_u_tests = dict()\n",
    "uncn_dict = dict()"
   ]
  },
  {
   "cell_type": "code",
   "execution_count": null,
   "id": "5de91ddf-3ad2-4dbf-a2ce-87c4d61cebf9",
   "metadata": {},
   "outputs": [],
   "source": [
    "i = 0\n",
    "ths = [\n",
    "    328, #0\n",
    "    280, #1\n",
    "    320, #2\n",
    "    384, #3\n",
    "    300, #4\n",
    "    300, #5\n",
    "    400, #6\n",
    "    200, #7\n",
    "    380, #8\n",
    "    180  #9\n",
    "]\n",
    "v = np.copy(V_X_sorteds[i][ths[i]])"
   ]
  },
  {
   "cell_type": "code",
   "execution_count": null,
   "id": "cfed857e-303b-4a73-84c7-c7d3fa2787b9",
   "metadata": {
    "scrolled": true
   },
   "outputs": [],
   "source": [
    "for i in range(10):\n",
    "    layer_fca = LayerFCA(V_X_train, U_X_train, data_train)\n",
    "    G_v, v_D, u_D, G_u, G_v_test, G_u_test, uncn_reps = layer_fca.find_G_v_us(\n",
    "        v, \n",
    "        V_X_test, \n",
    "        U_X_test, \n",
    "        data_test\n",
    "    )\n",
    "    v_Ds[i] = v_D\n",
    "    u_Ds[i] = u_D\n",
    "    G_v_tests[i] = G_v_test\n",
    "    G_u_tests[i] = G_u_test\n",
    "    uncn_dict[i] = uncn_reps"
   ]
  },
  {
   "cell_type": "code",
   "execution_count": null,
   "id": "47a48bff-58ce-41f8-a357-368c60c4ce82",
   "metadata": {
    "scrolled": true
   },
   "outputs": [],
   "source": [
    "uncn_dict[i]"
   ]
  },
  {
   "cell_type": "code",
   "execution_count": null,
   "id": "8a1f1625-638e-4327-9ce3-eb5c4132b175",
   "metadata": {
    "scrolled": true
   },
   "outputs": [],
   "source": [
    "show_grid(G_v_tests[i], data_test, nrow=32)"
   ]
  },
  {
   "cell_type": "code",
   "execution_count": null,
   "id": "4febfb14-1d86-4a92-93db-8c195d499f46",
   "metadata": {
    "scrolled": true
   },
   "outputs": [],
   "source": [
    "show_grid(G_u_tests[i], data_test, nrow=32)"
   ]
  },
  {
   "cell_type": "code",
   "execution_count": null,
   "id": "433d460e-bee7-46e5-b246-db3e3312026b",
   "metadata": {},
   "outputs": [],
   "source": [
    "y_hs = [np.argmax(wnet(data_test[idx][0])) for idx in G_u_test]"
   ]
  },
  {
   "cell_type": "code",
   "execution_count": null,
   "id": "16db8da9-062e-411a-bebc-f0cbe7c32776",
   "metadata": {},
   "outputs": [],
   "source": [
    "uncn_hat = layer_fca.count_ys(y_hs)"
   ]
  },
  {
   "cell_type": "code",
   "execution_count": null,
   "id": "6b8f766b-b25e-4268-89e7-bd91d8143c10",
   "metadata": {},
   "outputs": [],
   "source": [
    "show_grid(G_u_tests[i], data_test, nrow=48, h=64, w=64, my=i)"
   ]
  },
  {
   "cell_type": "markdown",
   "id": "5d14577c-0d07-4291-bca7-9f82e2b378b8",
   "metadata": {},
   "source": [
    "## Experiments with shapes"
   ]
  },
  {
   "cell_type": "code",
   "execution_count": null,
   "id": "bc470b51-6b24-4b4f-9f1d-eee7a7fda6b2",
   "metadata": {},
   "outputs": [],
   "source": [
    "# Example usage\n",
    "dataset = CustomShapeDataset(num_samples=1000)\n",
    "# dataloader = DataLoader(dataset, batch_size=1, shuffle=True)\n",
    "\n",
    "shapes_shp = get_digits(dataset)\n",
    "\n",
    "data_digits = get_digits(data_train)\n",
    "\n",
    "# Get a batch of images\n",
    "images, labels = zip(*[(x, y) for idx_l, (x, y) in enumerate(dataset) if idx_l < 32])\n",
    "\n",
    "asgn_max = True\n",
    "\n",
    "# Show a batch of images\n",
    "show_images(images[:16], labels[:16])"
   ]
  },
  {
   "cell_type": "code",
   "execution_count": null,
   "id": "fde41132-9bdb-4d5d-bcde-6a1495fc2b41",
   "metadata": {},
   "outputs": [],
   "source": [
    "ring = np.copy(shapes_shp['nring'][0][0].numpy())\n",
    "ring[-13 :, :] = 0\n",
    "plt.imshow(ring)"
   ]
  },
  {
   "cell_type": "code",
   "execution_count": null,
   "id": "f02a0175-09fa-499d-b2ae-55492ece21ca",
   "metadata": {},
   "outputs": [],
   "source": [
    "v_X_shapes_c = wnet(ring, k=layer_V_n)\n",
    "visualize_slices(v_X_shapes_c[0])"
   ]
  },
  {
   "cell_type": "code",
   "execution_count": null,
   "id": "b424db01-c214-4f02-acaf-3cf3797e4f33",
   "metadata": {},
   "outputs": [],
   "source": [
    "c_idx = 0\n",
    "max_index, _, v_c = set_v(v_X_shapes_c[c_idx], denm=4.0, val_th=0.2, asgn_max=asgn_max)\n",
    "show_activation(v_c[max_index[0]])"
   ]
  },
  {
   "cell_type": "code",
   "execution_count": null,
   "id": "539ac99c-a172-4d64-ad1c-418f2e695708",
   "metadata": {},
   "outputs": [],
   "source": [
    "layer_fca = LayerFCA(V_X_train, U_X_train, data_train)\n",
    "G_v, v_D, u_D, G_u, G_v_test, G_u_test, uncn_reps = layer_fca.find_G_v_us(\n",
    "    v_c, \n",
    "    V_X_test, \n",
    "    U_X_test, \n",
    "    data_test\n",
    ")\n",
    "print(uncn_reps)\n",
    "show_grid(G_v_test, data_test, nrow=32)"
   ]
  },
  {
   "cell_type": "code",
   "execution_count": null,
   "id": "3235e964-890e-4cbb-8c5d-c8988ee3c41e",
   "metadata": {},
   "outputs": [],
   "source": [
    "v_X_shapes_v = np.array(wnet(*shapes_shp['vertical_line'], k=layer_V_n))\n",
    "v_X_shapes_h = np.array(wnet(*shapes_shp['horizontal_line'], k=layer_V_n))\n",
    "v_X_shapes_e = np.array(wnet(*shapes_shp['sring'], k=layer_V_n))\n",
    "v_X_shapes_r = np.array(wnet(*shapes_shp['nring'], k=layer_V_n))\n",
    "v_X_shapes_v.shape, v_X_shapes_h.shape, v_X_shapes_e.shape, v_X_shapes_r.shape"
   ]
  },
  {
   "cell_type": "code",
   "execution_count": null,
   "id": "d4b542f4-4a55-442f-b723-32d9f2eccebd",
   "metadata": {},
   "outputs": [],
   "source": [
    "i = 3"
   ]
  },
  {
   "cell_type": "code",
   "execution_count": null,
   "id": "e8be40a4-a3d1-4288-b64e-864d9a53acf6",
   "metadata": {},
   "outputs": [],
   "source": [
    "show_img(shapes_shp['vertical_line'], i)"
   ]
  },
  {
   "cell_type": "code",
   "execution_count": null,
   "id": "4f4c1336-6627-4662-ba06-e2c347c3eafa",
   "metadata": {},
   "outputs": [],
   "source": [
    "visualize_slices(v_X_shapes_h[i])"
   ]
  },
  {
   "cell_type": "code",
   "execution_count": null,
   "id": "b4aa6a4e-071c-46bf-952b-a0e7c9278a58",
   "metadata": {},
   "outputs": [],
   "source": [
    "diag = torch.zeros((28, 28), dtype=torch.float32)\n",
    "for i in range(8, 24):\n",
    "    diag[28 - i, i] = 255\n",
    "diag /= 255\n",
    "plt.imshow(diag)"
   ]
  },
  {
   "cell_type": "code",
   "execution_count": null,
   "id": "b4589711-9336-412c-824a-0925081640d8",
   "metadata": {},
   "outputs": [],
   "source": [
    "v_X_shapes_d = wnet(diag.unsqueeze(0), k=layer_V_n)"
   ]
  },
  {
   "cell_type": "code",
   "execution_count": null,
   "id": "5286fd45-6d3f-4ca5-b32c-5ad4b7a68fae",
   "metadata": {},
   "outputs": [],
   "source": [
    "visualize_slices(v_X_shapes_d[0])"
   ]
  },
  {
   "cell_type": "code",
   "execution_count": null,
   "id": "fa9bf16a-556f-4c12-9004-162480ddf33a",
   "metadata": {},
   "outputs": [],
   "source": [
    "d_idx = 0\n",
    "max_index, _, v_d = set_v(v_X_shapes_d[d_idx], denm=4.0, val_th=0.2, asgn_max=asgn_max)\n",
    "show_activation(v_d[max_index[0]])"
   ]
  },
  {
   "cell_type": "code",
   "execution_count": null,
   "id": "a4c78d50-43c8-4090-b03b-87fd16b8f8de",
   "metadata": {},
   "outputs": [],
   "source": [
    "layer_fca = LayerFCA(V_X_train, U_X_train, data_train)\n",
    "G_v, v_D, u_D, G_u, G_v_test, G_u_test, uncn_reps = layer_fca.find_G_v_us(\n",
    "    v_d, \n",
    "    V_X_test, \n",
    "    U_X_test, \n",
    "    data_test\n",
    ")\n",
    "print(uncn_reps)\n",
    "show_grid(G_v_test, data_test, nrow=64)"
   ]
  },
  {
   "cell_type": "code",
   "execution_count": null,
   "id": "b304b32b-4768-4043-a126-0193d2165b65",
   "metadata": {},
   "outputs": [],
   "source": [
    "visualize_slices(v_X_shapes_v[0])"
   ]
  },
  {
   "cell_type": "code",
   "execution_count": null,
   "id": "7e3ec4c9-ce9e-45e8-a055-c9684281e440",
   "metadata": {},
   "outputs": [],
   "source": [
    "v_idx = 0\n",
    "max_index, _, v_v = set_v(v_X_shapes_v[v_idx], denm=4.0, val_th=0.2, asgn_max=asgn_max)\n",
    "show_activation(v_v[max_index[0]])"
   ]
  },
  {
   "cell_type": "code",
   "execution_count": null,
   "id": "fcab5a90-67c7-4086-9362-1b05d813c770",
   "metadata": {},
   "outputs": [],
   "source": [
    "layer_fca = LayerFCA(V_X_train, U_X_train, data_train)\n",
    "G_v, v_D, u_D, G_u, G_v_test, G_u_test, uncn_reps = layer_fca.find_G_v_us(\n",
    "    v_v, \n",
    "    V_X_test, \n",
    "    U_X_test, \n",
    "    data_test\n",
    ")\n",
    "print(uncn_reps)\n",
    "show_grid(G_v_test, data_test, nrow=32)"
   ]
  },
  {
   "cell_type": "code",
   "execution_count": null,
   "id": "3a31e55e-941b-4a4b-8536-0c52535022a6",
   "metadata": {},
   "outputs": [],
   "source": [
    "visualize_slices(v_X_shapes_h[0])"
   ]
  },
  {
   "cell_type": "code",
   "execution_count": null,
   "id": "ea8c02fc-b634-4c08-bc82-818ab4211681",
   "metadata": {},
   "outputs": [],
   "source": [
    "h_idx = 0\n",
    "max_index, _, v_h = set_v(v_X_shapes_h[h_idx], denm=4.0, val_th=0.2, asgn_max=asgn_max)\n",
    "show_activation(v_h[max_index[0]])"
   ]
  },
  {
   "cell_type": "code",
   "execution_count": null,
   "id": "c42840a1-3d7a-4491-a615-6083f731ab38",
   "metadata": {},
   "outputs": [],
   "source": [
    "layer_fca = LayerFCA(V_X_train, U_X_train, data_train)\n",
    "G_v, v_D, u_D, G_u, G_v_test, G_u_test, uncn_reps = layer_fca.find_G_v_us(\n",
    "    v_h, \n",
    "    V_X_test, \n",
    "    U_X_test, \n",
    "    data_test\n",
    ")\n",
    "print(uncn_reps)\n",
    "show_grid(G_v_test, data_test, nrow=32)"
   ]
  },
  {
   "cell_type": "code",
   "execution_count": null,
   "id": "f3f45b14-c0ed-4517-8c5e-931bcb319add",
   "metadata": {},
   "outputs": [],
   "source": [
    "v_l = [v_v, v_h]\n",
    "v = np.max(np.array(v_l), axis=0)\n",
    "v.shape"
   ]
  },
  {
   "cell_type": "code",
   "execution_count": null,
   "id": "9a625e49-31fb-4741-9aa5-64cec483cad0",
   "metadata": {},
   "outputs": [],
   "source": [
    "layer_fca = LayerFCA(V_X_train, U_X_train, data_train)\n",
    "G_v, v_D, u_D, G_u, G_v_test, G_u_test, uncn_reps = layer_fca.find_G_v_us(\n",
    "    v, \n",
    "    V_X_test, \n",
    "    U_X_test, \n",
    "    data_test\n",
    ")\n",
    "print(uncn_reps)\n",
    "show_grid(G_v_test, data_test, nrow=32)"
   ]
  },
  {
   "cell_type": "code",
   "execution_count": null,
   "id": "683e86ee-9b3d-4ec1-97cc-79e14526ac94",
   "metadata": {},
   "outputs": [],
   "source": [
    "visualize_slices(v_X_shapes_r[i])"
   ]
  },
  {
   "cell_type": "code",
   "execution_count": null,
   "id": "a41dc976-3e70-44c1-ba3d-264b3150a18d",
   "metadata": {},
   "outputs": [],
   "source": [
    "r_idx = 0\n",
    "max_index, _, v_r = set_v(v_X_shapes_r[r_idx], denm=4.0, val_th=0.2, asgn_max=asgn_max)\n",
    "show_activation(v_r[max_index[0]])"
   ]
  },
  {
   "cell_type": "code",
   "execution_count": null,
   "id": "9fa8c1a4-2b87-4173-9319-2aa56b89ce23",
   "metadata": {},
   "outputs": [],
   "source": [
    "layer_fca = LayerFCA(V_X_train, U_X_train, data_train)\n",
    "G_v, v_D, u_D, G_u, G_v_test, G_u_test, uncn_reps = layer_fca.find_G_v_us(\n",
    "    v_r, \n",
    "    V_X_test, \n",
    "    U_X_test, \n",
    "    data_test\n",
    ")\n",
    "print(uncn_reps)\n",
    "show_grid(G_v_test, data_test, nrow=32)"
   ]
  },
  {
   "cell_type": "code",
   "execution_count": null,
   "id": "280d58d8-cd79-4f2e-a4ac-c0f19c3bb60b",
   "metadata": {},
   "outputs": [],
   "source": [
    "e_idx = 0\n",
    "max_index, _, v_e = set_v(v_X_shapes_e[e_idx], denm=4.0, val_th=0.2, asgn_max=asgn_max)\n",
    "show_activation(v_e[max_index[0]])"
   ]
  },
  {
   "cell_type": "code",
   "execution_count": null,
   "id": "fffc1e17-626f-452a-92c0-743ad7b76c8d",
   "metadata": {},
   "outputs": [],
   "source": [
    "layer_fca = LayerFCA(V_X_train, U_X_train, data_train)\n",
    "G_v, v_D, u_D, G_u, G_v_test, G_u_test, uncn_reps = layer_fca.find_G_v_us(\n",
    "    v_e, \n",
    "    V_X_test, \n",
    "    U_X_test, \n",
    "    data_test\n",
    ")\n",
    "print(uncn_reps)\n",
    "show_grid(G_v_test, data_test, nrow=32)"
   ]
  },
  {
   "cell_type": "code",
   "execution_count": null,
   "id": "78067720-017d-45a0-9e7c-7e1a4c26182d",
   "metadata": {},
   "outputs": [],
   "source": [
    "v_l = [\n",
    "    # v_v, \n",
    "    v_h, \n",
    "    v_r, \n",
    "    v_d\n",
    "]\n",
    "v = np.max(np.array(v_l), axis=0)\n",
    "v.shape"
   ]
  },
  {
   "cell_type": "code",
   "execution_count": null,
   "id": "d18a1839-cd8f-4d3e-809f-ff658fcc7f2f",
   "metadata": {},
   "outputs": [],
   "source": [
    "layer_fca = LayerFCA(V_X_train, U_X_train, data_train)\n",
    "G_v, v_D, u_D, G_u, G_v_test, G_u_test, uncn_reps = layer_fca.find_G_v_us(\n",
    "    v, \n",
    "    V_X_test, \n",
    "    U_X_test, \n",
    "    data_test\n",
    ")\n",
    "print(uncn_reps)\n",
    "show_grid(G_v_test, data_test, nrow=32)"
   ]
  },
  {
   "cell_type": "code",
   "execution_count": null,
   "id": "b99e1b07-2142-4a03-9df9-deae27154f16",
   "metadata": {},
   "outputs": [],
   "source": [
    "show_grid(G_u_test, data_test, nrow=64)"
   ]
  },
  {
   "cell_type": "code",
   "execution_count": null,
   "id": "6a8d4556-c230-4873-9c7d-d53303d24cd4",
   "metadata": {},
   "outputs": [],
   "source": [
    "show(data_digits[0][0:13])"
   ]
  },
  {
   "cell_type": "code",
   "execution_count": null,
   "id": "fc97dadf-97c1-4fbd-9925-436e24ade2e1",
   "metadata": {},
   "outputs": [],
   "source": [
    "img_indices = [0, 4, 7, 10]\n",
    "show([data_digits[0][k] for k in img_indices])"
   ]
  },
  {
   "cell_type": "code",
   "execution_count": null,
   "id": "be838fe2-6b22-4e4c-9c95-e9c8d1858cde",
   "metadata": {},
   "outputs": [],
   "source": [
    "zr_idx = 2\n",
    "max_index, _, v_0 = set_vs(*V_X_digits[0][img_indices], denm=1.61, val_th=0.2, asgn_max=asgn_max, verbose=logging.DEBUG)\n",
    "show_activation(v_z[max_index[0][0]])"
   ]
  },
  {
   "cell_type": "code",
   "execution_count": null,
   "id": "fa922655-9ea3-44a2-b70b-4ce6821e213c",
   "metadata": {},
   "outputs": [],
   "source": [
    "layer_fca = LayerFCA(V_X_train, U_X_train, data_train)\n",
    "G_v, v_D, u_D, G_u, G_v_test, G_u_test, uncn_reps = layer_fca.find_G_v_us(\n",
    "    v_0, \n",
    "    V_X_test, \n",
    "    U_X_test, \n",
    "    data_test\n",
    ")\n",
    "print(uncn_reps)\n",
    "show_grid(G_v_test, data_test, nrow=32)"
   ]
  },
  {
   "cell_type": "code",
   "execution_count": null,
   "id": "50fa3bda-9894-492a-89e1-b6c05c09134d",
   "metadata": {},
   "outputs": [],
   "source": [
    "show_grid(G_u_test, data_test, nrow=64)"
   ]
  },
  {
   "cell_type": "code",
   "execution_count": null,
   "id": "162f319a-d122-4579-a430-3865975712ca",
   "metadata": {},
   "outputs": [],
   "source": [
    "show(data_digits[1][0:13])"
   ]
  },
  {
   "cell_type": "code",
   "execution_count": null,
   "id": "3dd82fe4-2ed4-43a8-b88a-6f5fcf28f56e",
   "metadata": {},
   "outputs": [],
   "source": [
    "img_indices = [0, 1, 5, 9]\n",
    "show([data_digits[1][k] for k in img_indices])"
   ]
  },
  {
   "cell_type": "code",
   "execution_count": null,
   "id": "0f14f76d-15a1-4914-9c08-6bf5e38e0df6",
   "metadata": {},
   "outputs": [],
   "source": [
    "on_idx = 2\n",
    "max_index, _, v_1 = set_vs(*V_X_digits[1][img_indices], denm=1.438, val_th=0.2, asgn_max=asgn_max, verbose=logging.DEBUG)\n",
    "show_activation(v_o[max_index[0][0]])"
   ]
  },
  {
   "cell_type": "code",
   "execution_count": null,
   "id": "7399ff8d-c3a0-4184-b64e-473be5f2e2d6",
   "metadata": {},
   "outputs": [],
   "source": [
    "layer_fca = LayerFCA(V_X_train, U_X_train, data_train)\n",
    "G_v, v_D, u_D, G_u, G_v_test, G_u_test, uncn_reps = layer_fca.find_G_v_us(\n",
    "    v_1, \n",
    "    V_X_test, \n",
    "    U_X_test, \n",
    "    data_test\n",
    ")\n",
    "print(uncn_reps)\n",
    "show_grid(G_v_test, data_test, nrow=32)"
   ]
  },
  {
   "cell_type": "code",
   "execution_count": null,
   "id": "38f647ca-f0ae-4d5a-9bfb-8eb0cbe86960",
   "metadata": {},
   "outputs": [],
   "source": [
    "show_grid(G_u_test, data_test, nrow=64)"
   ]
  },
  {
   "cell_type": "code",
   "execution_count": null,
   "id": "b370d11b-7a88-4239-8dfc-f9b320aa81d5",
   "metadata": {},
   "outputs": [],
   "source": [
    "show(data_digits[2][13:26])"
   ]
  },
  {
   "cell_type": "code",
   "execution_count": null,
   "id": "77692df9-eaff-45b3-b99e-9e173ff7a0c1",
   "metadata": {},
   "outputs": [],
   "source": [
    "img_indices = [0, 3, 4, 5, 7, 16, 17, 18, 19, 20, 23, 24, 25]\n",
    "show([data_digits[2][k] for k in img_indices])"
   ]
  },
  {
   "cell_type": "code",
   "execution_count": null,
   "id": "21ea7b6f-9591-40a2-9c5c-27304d533255",
   "metadata": {},
   "outputs": [],
   "source": [
    "tw_idx = 2\n",
    "max_index, _, v_2 = set_vs(*V_X_digits[2][img_indices], denm=2.2, val_th=0.2, asgn_max=asgn_max, verbose=logging.DEBUG)\n",
    "show_activation(v_t[max_index[0][0]])"
   ]
  },
  {
   "cell_type": "code",
   "execution_count": null,
   "id": "0c091e3c-9ae4-4488-becb-036efa627151",
   "metadata": {},
   "outputs": [],
   "source": [
    "layer_fca = LayerFCA(V_X_train, U_X_train, data_train)\n",
    "G_v, v_D, u_D, G_u, G_v_test, G_u_test, uncn_reps = layer_fca.find_G_v_us(\n",
    "    v_2, \n",
    "    V_X_test, \n",
    "    U_X_test, \n",
    "    data_test\n",
    ")\n",
    "print(uncn_reps)\n",
    "show_grid(G_v_test, data_test, nrow=32)"
   ]
  },
  {
   "cell_type": "code",
   "execution_count": null,
   "id": "43fc815e-b971-4c05-8579-bee1e7b191e1",
   "metadata": {},
   "outputs": [],
   "source": [
    "show_grid(G_u_test, data_test, nrow=32)"
   ]
  },
  {
   "cell_type": "code",
   "execution_count": null,
   "id": "78a5da79-5a38-476e-a779-26e828ad9dcb",
   "metadata": {},
   "outputs": [],
   "source": [
    "show(data_digits[3][0:13])"
   ]
  },
  {
   "cell_type": "code",
   "execution_count": null,
   "id": "95ebe6e0-3fb7-4e33-9c84-3d19008f1f8b",
   "metadata": {},
   "outputs": [],
   "source": [
    "img_indices = [0, 1, 6, 12]\n",
    "show([data_digits[3][k] for k in img_indices])"
   ]
  },
  {
   "cell_type": "code",
   "execution_count": null,
   "id": "37ed52b5-d396-4efa-91d0-40cc2ee792e2",
   "metadata": {},
   "outputs": [],
   "source": [
    "ht_idx = 3\n",
    "max_index, _, v_3 = set_vs(*V_X_digits[3][img_indices], denm=2.2, val_th=0.2, asgn_max=asgn_max, verbose=logging.DEBUG)\n",
    "show_activation(v_3[max_index[0][0]])"
   ]
  },
  {
   "cell_type": "code",
   "execution_count": null,
   "id": "ed6977cb-26cd-487f-8539-8648459e4d67",
   "metadata": {},
   "outputs": [],
   "source": [
    "layer_fca = LayerFCA(V_X_train, U_X_train, data_train)\n",
    "G_v, v_D, u_D, G_u, G_v_test, G_u_test, uncn_reps = layer_fca.find_G_v_us(\n",
    "    v_3, \n",
    "    V_X_test, \n",
    "    U_X_test, \n",
    "    data_test\n",
    ")\n",
    "print(uncn_reps)\n",
    "show_grid(G_v_test, data_test, nrow=32)"
   ]
  },
  {
   "cell_type": "code",
   "execution_count": null,
   "id": "f3c77ae9-cf61-4b50-ab45-19743917483a",
   "metadata": {},
   "outputs": [],
   "source": [
    "show_grid(G_u_test, data_test, nrow=64)"
   ]
  },
  {
   "cell_type": "code",
   "execution_count": null,
   "id": "b3d4de27-ee53-4330-bb4f-64adba572601",
   "metadata": {},
   "outputs": [],
   "source": [
    "show(data_digits[4][0:13])"
   ]
  },
  {
   "cell_type": "code",
   "execution_count": null,
   "id": "1aea6049-142e-46dc-a30b-01b9f618c0ad",
   "metadata": {},
   "outputs": [],
   "source": [
    "img_indices = [0, 1, 3, 4, 5, 6, 7, 8]\n",
    "show([data_digits[4][k] for k in img_indices])"
   ]
  },
  {
   "cell_type": "code",
   "execution_count": null,
   "id": "16db753d-9288-4386-8b31-8926b5282156",
   "metadata": {},
   "outputs": [],
   "source": [
    "fr_idx = 2\n",
    "max_index, _, v_4 = set_vs(*V_X_digits[4][img_indices], denm=4.1, val_th=0.2, asgn_max=asgn_max, verbose=logging.DEBUG)\n",
    "show_activation(v_4[max_index[0][0]])"
   ]
  },
  {
   "cell_type": "code",
   "execution_count": null,
   "id": "f0cc6ee9-8372-4a4a-8d3e-29483a653b33",
   "metadata": {},
   "outputs": [],
   "source": [
    "layer_fca = LayerFCA(V_X_train, U_X_train, data_train)\n",
    "G_v, v_D, u_D, G_u, G_v_test, G_u_test, uncn_reps = layer_fca.find_G_v_us(\n",
    "    v_4, \n",
    "    V_X_test, \n",
    "    U_X_test, \n",
    "    data_test\n",
    ")\n",
    "print(uncn_reps)\n",
    "show_grid(G_v_test, data_test, nrow=32)"
   ]
  },
  {
   "cell_type": "code",
   "execution_count": null,
   "id": "aca80b20-fbde-4ab6-963b-4ddf16544595",
   "metadata": {},
   "outputs": [],
   "source": [
    "show_grid(G_u_test, data_test, nrow=32)"
   ]
  },
  {
   "cell_type": "code",
   "execution_count": null,
   "id": "52be4b82-c80e-4c66-a33c-a0002ee85427",
   "metadata": {},
   "outputs": [],
   "source": [
    "show(data_digits[5][13:26])"
   ]
  },
  {
   "cell_type": "code",
   "execution_count": null,
   "id": "342eda9a-b058-42e6-8c84-30141d58d7ac",
   "metadata": {},
   "outputs": [],
   "source": [
    "img_indices = [0, 1, 7, 10, 11, 16, 17]\n",
    "show([data_digits[5][k] for k in img_indices])"
   ]
  },
  {
   "cell_type": "code",
   "execution_count": null,
   "id": "12979568-bbf8-4aa0-a448-a2c64dcbff35",
   "metadata": {},
   "outputs": [],
   "source": [
    "fv_idx = 2\n",
    "max_index, _, v_5 = set_vs(*V_X_digits[5][img_indices], denm=3, val_th=0.2, asgn_max=asgn_max, verbose=logging.DEBUG)\n",
    "show_activation(v_5[max_index[0][0]])"
   ]
  },
  {
   "cell_type": "code",
   "execution_count": null,
   "id": "8bba029c-de86-4961-b2c5-d5565bd480a4",
   "metadata": {},
   "outputs": [],
   "source": [
    "layer_fca = LayerFCA(V_X_train, U_X_train, data_train)\n",
    "G_v, v_D, u_D, G_u, G_v_test, G_u_test, uncn_reps = layer_fca.find_G_v_us(\n",
    "    v_5, \n",
    "    V_X_test, \n",
    "    U_X_test, \n",
    "    data_test\n",
    ")\n",
    "print(uncn_reps)\n",
    "show_grid(G_v_test, data_test, nrow=32)"
   ]
  },
  {
   "cell_type": "code",
   "execution_count": null,
   "id": "8f0aa250-1cea-4aa3-a7e7-118d6140c32c",
   "metadata": {},
   "outputs": [],
   "source": [
    "show_grid(G_u_test, data_test, nrow=32)"
   ]
  },
  {
   "cell_type": "code",
   "execution_count": null,
   "id": "f72efbc2-bf4e-40ac-9007-39ff902e4712",
   "metadata": {},
   "outputs": [],
   "source": [
    "show(data_digits[6][0:13])"
   ]
  },
  {
   "cell_type": "code",
   "execution_count": null,
   "id": "c81c24bb-1477-4ce4-a05a-440dda8bf3ee",
   "metadata": {},
   "outputs": [],
   "source": [
    "img_indices = [2, 5, 14, 17, 20]\n",
    "show([data_digits[6][k] for k in img_indices])"
   ]
  },
  {
   "cell_type": "code",
   "execution_count": null,
   "id": "499bf81a-1301-47b4-8b93-371ff5bd3d4f",
   "metadata": {},
   "outputs": [],
   "source": [
    "sx_idx = 2\n",
    "max_index, _, v_6 = set_vs(*V_X_digits[6][img_indices], denm=2.2, val_th=0.2, asgn_max=asgn_max, verbose=logging.DEBUG)\n",
    "show_activation(v_6[max_index[0][0]])"
   ]
  },
  {
   "cell_type": "code",
   "execution_count": null,
   "id": "c23269e9-077a-46b0-b09d-936ba3543ffc",
   "metadata": {},
   "outputs": [],
   "source": [
    "layer_fca = LayerFCA(V_X_train, U_X_train, data_train)\n",
    "G_v, v_D, u_D, G_u, G_v_test, G_u_test, uncn_reps = layer_fca.find_G_v_us(\n",
    "    v_6, \n",
    "    V_X_test, \n",
    "    U_X_test, \n",
    "    data_test\n",
    ")\n",
    "print(uncn_reps)\n",
    "show_grid(G_v_test, data_test, nrow=32)"
   ]
  },
  {
   "cell_type": "code",
   "execution_count": null,
   "id": "01f23dc6-3be3-4df2-bf3f-1b0fea1d4743",
   "metadata": {},
   "outputs": [],
   "source": [
    "show_grid(G_u_test, data_test, nrow=32)"
   ]
  },
  {
   "cell_type": "code",
   "execution_count": null,
   "id": "3fdd3cc7-a3db-4c7c-812f-e692b147f40b",
   "metadata": {},
   "outputs": [],
   "source": [
    "show(data_digits[7][0:13])"
   ]
  },
  {
   "cell_type": "code",
   "execution_count": null,
   "id": "b798f450-f7d1-46fb-9274-2b1d063df1c1",
   "metadata": {},
   "outputs": [],
   "source": [
    "img_indices = list(range(13))\n",
    "show([data_digits[7][k] for k in img_indices])"
   ]
  },
  {
   "cell_type": "code",
   "execution_count": null,
   "id": "eabd7bc3-7821-4959-92ba-7a5d26c0a306",
   "metadata": {},
   "outputs": [],
   "source": [
    "sv_idx = 2\n",
    "max_index, _, v_7 = set_vs(*V_X_digits[7][img_indices], denm=4, val_th=0.2, asgn_max=asgn_max, verbose=logging.DEBUG)\n",
    "show_activation(v_7[max_index[0][0]])"
   ]
  },
  {
   "cell_type": "code",
   "execution_count": null,
   "id": "53ebdfe8-9e69-4ecc-81c5-ce68190e29db",
   "metadata": {},
   "outputs": [],
   "source": [
    "layer_fca = LayerFCA(V_X_train, U_X_train, data_train)\n",
    "G_v, v_D, u_D, G_u, G_v_test, G_u_test, uncn_reps = layer_fca.find_G_v_us(\n",
    "    v_7, \n",
    "    V_X_test, \n",
    "    U_X_test, \n",
    "    data_test\n",
    ")\n",
    "print(uncn_reps)\n",
    "show_grid(G_v_test, data_test, nrow=32)"
   ]
  },
  {
   "cell_type": "code",
   "execution_count": null,
   "id": "16e2c640-f6cd-4dc3-aee1-f215479245d2",
   "metadata": {},
   "outputs": [],
   "source": [
    "show_grid(G_u_test, data_test, nrow=32)"
   ]
  },
  {
   "cell_type": "code",
   "execution_count": null,
   "id": "0921fd8e-71d0-4ce3-bfb9-c50444483c71",
   "metadata": {},
   "outputs": [],
   "source": [
    "show(data_digits[8][26:39])"
   ]
  },
  {
   "cell_type": "code",
   "execution_count": null,
   "id": "211fa5e1-5914-400d-bbc0-5e34b30b0dd9",
   "metadata": {},
   "outputs": [],
   "source": [
    "img_indices = [4, 12, 21, 33, 35]\n",
    "show([data_digits[8][k] for k in img_indices])"
   ]
  },
  {
   "cell_type": "code",
   "execution_count": null,
   "id": "ebeb2ce1-37ed-493f-8ae2-d2d6538b96f0",
   "metadata": {},
   "outputs": [],
   "source": [
    "eg_idx = 2\n",
    "max_index, _, v_8 = set_vs(*V_X_digits[8][img_indices], denm=1.4, val_th=0.2, asgn_max=asgn_max, verbose=logging.DEBUG)\n",
    "show_activation(v_8[max_index[0][0]])"
   ]
  },
  {
   "cell_type": "code",
   "execution_count": null,
   "id": "9727e1e8-78a0-460b-bb23-1ff4e4d5f6dd",
   "metadata": {},
   "outputs": [],
   "source": [
    "layer_fca = LayerFCA(V_X_train, U_X_train, data_train)\n",
    "G_v, v_D, u_D, G_u, G_v_test, G_u_test, uncn_reps = layer_fca.find_G_v_us(\n",
    "    v_8, \n",
    "    V_X_test, \n",
    "    U_X_test, \n",
    "    data_test\n",
    ")\n",
    "print(uncn_reps)\n",
    "show_grid(G_v_test, data_test, nrow=32)"
   ]
  },
  {
   "cell_type": "code",
   "execution_count": null,
   "id": "97c67f21-3984-451d-b2c7-a074e5616c10",
   "metadata": {},
   "outputs": [],
   "source": [
    "show_grid(G_u_test, data_test, nrow=32)"
   ]
  },
  {
   "cell_type": "code",
   "execution_count": null,
   "id": "fb477f54-519e-4ad6-bf69-e2f6efac6de1",
   "metadata": {},
   "outputs": [],
   "source": [
    "show(data_digits[9][0:13])"
   ]
  },
  {
   "cell_type": "code",
   "execution_count": null,
   "id": "c8562e21-6746-4ac2-921f-d51b8f06d7c8",
   "metadata": {},
   "outputs": [],
   "source": [
    "img_indices = [1, 4, 5, 7, 13]\n",
    "show([data_digits[9][k] for k in img_indices])"
   ]
  },
  {
   "cell_type": "code",
   "execution_count": null,
   "id": "a2465bca-451d-4d97-987c-1be7e9b333c1",
   "metadata": {},
   "outputs": [],
   "source": [
    "n_idx = 2\n",
    "max_index, _, v_9 = set_vs(*V_X_digits[9][img_indices], denm=2, val_th=0.2, asgn_max=asgn_max, verbose=logging.DEBUG)\n",
    "show_activation(v_n[max_index[0][0]])"
   ]
  },
  {
   "cell_type": "code",
   "execution_count": null,
   "id": "c2e8dc15-c46f-4f0e-8065-3afc7d886450",
   "metadata": {},
   "outputs": [],
   "source": [
    "layer_fca = LayerFCA(V_X_train, U_X_train, data_train)\n",
    "G_v, v_D, u_D, G_u, G_v_test, G_u_test, uncn_reps = layer_fca.find_G_v_us(\n",
    "    v_9, \n",
    "    V_X_test, \n",
    "    U_X_test, \n",
    "    data_test\n",
    ")\n",
    "print(uncn_reps)\n",
    "show_grid(G_v_test, data_test, nrow=32)"
   ]
  },
  {
   "cell_type": "code",
   "execution_count": null,
   "id": "dc9d71df-2a2a-4295-9ebc-c4e1c8b102e2",
   "metadata": {},
   "outputs": [],
   "source": [
    "show_grid(G_u_test, data_test, nrow=64)"
   ]
  },
  {
   "cell_type": "code",
   "execution_count": null,
   "id": "989f369c-6ad2-44df-8445-a9b1a3d5868e",
   "metadata": {},
   "outputs": [],
   "source": []
  }
 ],
 "metadata": {
  "kernelspec": {
   "display_name": "Python 3 (ipykernel)",
   "language": "python",
   "name": "python3"
  },
  "language_info": {
   "codemirror_mode": {
    "name": "ipython",
    "version": 3
   },
   "file_extension": ".py",
   "mimetype": "text/x-python",
   "name": "python",
   "nbconvert_exporter": "python",
   "pygments_lexer": "ipython3",
   "version": "3.12.3"
  }
 },
 "nbformat": 4,
 "nbformat_minor": 5
}
