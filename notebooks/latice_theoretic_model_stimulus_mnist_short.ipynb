{
 "cells": [
  {
   "cell_type": "code",
   "execution_count": null,
   "id": "71ce37e9",
   "metadata": {},
   "outputs": [],
   "source": [
    "%load_ext autoreload\n",
    "%autoreload 2\n",
    "\n",
    "%matplotlib inline"
   ]
  },
  {
   "cell_type": "markdown",
   "id": "5b560092",
   "metadata": {},
   "source": [
    "## Install libraries"
   ]
  },
  {
   "cell_type": "markdown",
   "id": "89885fa7",
   "metadata": {},
   "source": [
    "```bash\n",
    "conda create -n edu4 python=3.11 jupyter matplotlib\n",
    "```"
   ]
  },
  {
   "cell_type": "markdown",
   "id": "cd23589d",
   "metadata": {},
   "source": [
    "```bash \n",
    "! pip install -U -r requirements.txt\n",
    "```"
   ]
  },
  {
   "cell_type": "markdown",
   "id": "9d16321f",
   "metadata": {},
   "source": [
    "```bash\n",
    "! pip install -U numpy\n",
    "! pip install -U scikit-learn\n",
    "```"
   ]
  },
  {
   "cell_type": "markdown",
   "id": "b4cab43a",
   "metadata": {},
   "source": [
    "## Update repository"
   ]
  },
  {
   "cell_type": "code",
   "execution_count": null,
   "id": "46bcb5dc",
   "metadata": {},
   "outputs": [],
   "source": [
    "! git pull"
   ]
  },
  {
   "cell_type": "markdown",
   "id": "bad216da",
   "metadata": {},
   "source": [
    "## Add import path"
   ]
  },
  {
   "cell_type": "code",
   "execution_count": null,
   "id": "baafb705",
   "metadata": {},
   "outputs": [],
   "source": [
    "import os\n",
    "import sys\n",
    "import gc"
   ]
  },
  {
   "cell_type": "code",
   "execution_count": null,
   "id": "b2930983",
   "metadata": {},
   "outputs": [],
   "source": [
    "module_path = os.path.abspath(os.path.join('..'))\n",
    "if module_path not in sys.path:\n",
    "    sys.path.append(module_path)"
   ]
  },
  {
   "cell_type": "code",
   "execution_count": null,
   "id": "7984d32f",
   "metadata": {},
   "outputs": [],
   "source": [
    "del module_path"
   ]
  },
  {
   "cell_type": "markdown",
   "id": "07a1e9c8",
   "metadata": {},
   "source": [
    "## Organize imports"
   ]
  },
  {
   "cell_type": "code",
   "execution_count": null,
   "id": "ae177357",
   "metadata": {},
   "outputs": [],
   "source": [
    "import multiprocessing\n",
    "from pathlib import Path"
   ]
  },
  {
   "cell_type": "code",
   "execution_count": null,
   "id": "ee903b26-0c30-466e-87e9-46b68f585fdf",
   "metadata": {},
   "outputs": [],
   "source": [
    "from collections import OrderedDict"
   ]
  },
  {
   "cell_type": "code",
   "execution_count": null,
   "id": "a523557a",
   "metadata": {},
   "outputs": [],
   "source": [
    "import seaborn as sns"
   ]
  },
  {
   "cell_type": "code",
   "execution_count": null,
   "id": "25750a3d",
   "metadata": {},
   "outputs": [],
   "source": [
    "import matplotlib.pyplot as plt\n",
    "import numpy as np\n",
    "import pandas as pd"
   ]
  },
  {
   "cell_type": "code",
   "execution_count": null,
   "id": "96b53c98-9137-444e-b868-deecac303673",
   "metadata": {},
   "outputs": [],
   "source": [
    "from tqdm import tqdm"
   ]
  },
  {
   "cell_type": "code",
   "execution_count": null,
   "id": "125950ab",
   "metadata": {},
   "outputs": [],
   "source": [
    "import plotly.express as px"
   ]
  },
  {
   "cell_type": "code",
   "execution_count": null,
   "id": "262d0a5a-ccb6-4a7d-a4a2-76a276c2ce88",
   "metadata": {},
   "outputs": [],
   "source": [
    "from sklearn.linear_model import LinearRegression, LogisticRegression\n",
    "from sklearn.discriminant_analysis import (\n",
    "    LinearDiscriminantAnalysis, \n",
    "    QuadraticDiscriminantAnalysis\n",
    ")\n",
    "from sklearn.tree import DecisionTreeClassifier\n",
    "from sklearn.ensemble import RandomForestClassifier \n",
    "from sklearn.datasets import (\n",
    "    load_iris,\n",
    "    load_wine\n",
    ")\n",
    "from sklearn.model_selection import train_test_split\n",
    "from sklearn.preprocessing import (\n",
    "    MaxAbsScaler,\n",
    "    MinMaxScaler,\n",
    "    StandardScaler\n",
    ")\n",
    "from sklearn.metrics import (\n",
    "    classification_report,\n",
    "    confusion_matrix\n",
    ")"
   ]
  },
  {
   "cell_type": "code",
   "execution_count": null,
   "id": "e1c75655-adba-4f78-811e-9fd3c0286a9e",
   "metadata": {},
   "outputs": [],
   "source": [
    "from scipy import stats\n",
    "from scipy.interpolate import interp1d"
   ]
  },
  {
   "cell_type": "code",
   "execution_count": null,
   "id": "23828718-0adc-4a5f-8d63-813442ccbee8",
   "metadata": {},
   "outputs": [],
   "source": [
    "import torch"
   ]
  },
  {
   "cell_type": "code",
   "execution_count": null,
   "id": "aafca3fc-fe8b-45ff-a4f0-9e67d332d41a",
   "metadata": {},
   "outputs": [],
   "source": [
    "from torch import nn\n",
    "from torchvision import transforms\n",
    "import torchvision.transforms.functional as F\n",
    "from torchvision.utils import make_grid\n",
    "from torchvision.datasets import MNIST"
   ]
  },
  {
   "cell_type": "markdown",
   "id": "65f31e93",
   "metadata": {},
   "source": [
    "#### Number of CPU cores"
   ]
  },
  {
   "cell_type": "code",
   "execution_count": null,
   "id": "b41c30f2",
   "metadata": {},
   "outputs": [],
   "source": [
    "workers = multiprocessing.cpu_count()\n",
    "workers"
   ]
  },
  {
   "cell_type": "code",
   "execution_count": null,
   "id": "59f41838-322d-41e8-b8e1-6712089703c9",
   "metadata": {},
   "outputs": [],
   "source": [
    "SEED = 2024"
   ]
  },
  {
   "cell_type": "markdown",
   "id": "0ccf4792-19f1-4d01-b9c2-ddea2462cadc",
   "metadata": {},
   "source": [
    "## Initialize Path"
   ]
  },
  {
   "cell_type": "code",
   "execution_count": null,
   "id": "bcd545b8-0e15-41e9-92a9-4d0bf260c8b8",
   "metadata": {},
   "outputs": [],
   "source": [
    "PATH = Path('data')\n",
    "model_dir = PATH / 'models'\n",
    "model_path = model_dir / 'model_chechpoint.ckpt'\n",
    "images_path = PATH / 'images'\n",
    "images_path.mkdir(exist_ok=True, parents=True)\n",
    "pumpkin_path = PATH / 'Pumpkin_Seeds_Dataset.xlsx'"
   ]
  },
  {
   "cell_type": "markdown",
   "id": "e66024d6-e9ad-4204-b2fa-9e5eee726d3c",
   "metadata": {},
   "source": [
    "## Model wrapper"
   ]
  },
  {
   "cell_type": "code",
   "execution_count": null,
   "id": "48eff4fa-58d4-4465-b25d-7483cd834fad",
   "metadata": {},
   "outputs": [],
   "source": [
    "class NetWrapper(object):\n",
    "\n",
    "    def __init__(self, net, transform):\n",
    "        self.net = net.eval()\n",
    "        self.transform = transform\n",
    "\n",
    "    @torch.inference_mode()\n",
    "    def forward(self, x, k=6):\n",
    "        t = self.transform(x)\n",
    "        r = self.net[: k](t)\n",
    "\n",
    "        return r        \n",
    "    \n",
    "    def __call__(self, *args, **kwargs):\n",
    "        return self.forward(*args, **kwargs)\n",
    "    "
   ]
  },
  {
   "cell_type": "markdown",
   "id": "67b7d099-7346-4521-a81b-9e3ca5dbfdb0",
   "metadata": {},
   "source": [
    "## Load the model"
   ]
  },
  {
   "cell_type": "code",
   "execution_count": null,
   "id": "f365d055-0da1-4809-828e-a314a1bc621c",
   "metadata": {},
   "outputs": [],
   "source": [
    "model = torch.load(model_path, map_location='cpu')"
   ]
  },
  {
   "cell_type": "code",
   "execution_count": null,
   "id": "229e76d9-6d98-4a4f-843c-964a62d6d377",
   "metadata": {
    "scrolled": true
   },
   "outputs": [],
   "source": [
    "model"
   ]
  },
  {
   "cell_type": "code",
   "execution_count": null,
   "id": "6db3e195-9312-4df3-bb13-81dee9fa3088",
   "metadata": {},
   "outputs": [],
   "source": [
    "def clear_state_dict(state_dict):\n",
    "    for key in list(state_dict.keys()):\n",
    "        state_dict[key.replace('model.1.', 'fc1.')] = state_dict.pop(key)\n",
    "    for key in list(state_dict.keys()):\n",
    "        state_dict[key.replace('model.4.', 'fc2.')] = state_dict.pop(key)\n",
    "    for key in list(state_dict.keys()):\n",
    "        state_dict[key.replace('model.7.', 'fc3.')] = state_dict.pop(key)\n",
    "\n",
    "    return state_dict"
   ]
  },
  {
   "cell_type": "code",
   "execution_count": null,
   "id": "f94db6e0-040a-4bf9-b911-a4d7e04854c4",
   "metadata": {},
   "outputs": [],
   "source": [
    "state_dict = clear_state_dict(model['state_dict'])"
   ]
  },
  {
   "cell_type": "code",
   "execution_count": null,
   "id": "3e5d4f13-6214-4f69-ab96-2000e703a1f4",
   "metadata": {},
   "outputs": [],
   "source": [
    "state_dict"
   ]
  },
  {
   "cell_type": "code",
   "execution_count": null,
   "id": "51ad2a9b-bc25-4162-8333-8ac36799347d",
   "metadata": {},
   "outputs": [],
   "source": [
    "channels = 1\n",
    "width = 28\n",
    "height = 28\n",
    "hidden_size = 16\n",
    "num_classes = 10\n",
    "in_features = channels * width * height"
   ]
  },
  {
   "cell_type": "code",
   "execution_count": null,
   "id": "5b0f65ba-7ccc-4fb6-a82b-e62e973f2b85",
   "metadata": {},
   "outputs": [],
   "source": [
    "net = nn.Sequential(OrderedDict([\n",
    "    ('flatten', nn.Flatten()),\n",
    "    ('fc1', nn.Linear(channels * width * height, hidden_size)),\n",
    "    ('act1', nn.ReLU()),\n",
    "    ('fc2', nn.Linear(hidden_size, hidden_size)),\n",
    "    ('act2', nn.ReLU()),\n",
    "    ('fc3', nn.Linear(hidden_size, num_classes)),\n",
    "]))"
   ]
  },
  {
   "cell_type": "code",
   "execution_count": null,
   "id": "b7aac9e7-fe3b-4180-8080-b757edbc995b",
   "metadata": {},
   "outputs": [],
   "source": [
    "net"
   ]
  },
  {
   "cell_type": "code",
   "execution_count": null,
   "id": "b53a9e71-4cee-4564-9deb-52feaf94fb57",
   "metadata": {},
   "outputs": [],
   "source": [
    "net.load_state_dict(state_dict)"
   ]
  },
  {
   "cell_type": "code",
   "execution_count": null,
   "id": "75c19bf4-50a2-4578-b6f3-563c43d93ae8",
   "metadata": {},
   "outputs": [],
   "source": [
    "net = net.eval()\n",
    "net"
   ]
  },
  {
   "cell_type": "markdown",
   "id": "d5604b43-9956-46fb-a0df-994fc9615c15",
   "metadata": {},
   "source": [
    "## Helper functions"
   ]
  },
  {
   "cell_type": "code",
   "execution_count": null,
   "id": "fe5aba73-dfc2-4595-aaa1-efed437ebaa3",
   "metadata": {},
   "outputs": [],
   "source": [
    "def layer_V(data, net, k=5):\n",
    "    V = list()\n",
    "    X = list()\n",
    "    with tqdm(data) as ds:\n",
    "        for i, (x, y) in enumerate(ds):\n",
    "            v = net(x, k=k).detach().numpy()[0]\n",
    "            V.append(v)\n",
    "            X.append(x)\n",
    "\n",
    "    return np.array(V), X"
   ]
  },
  {
   "cell_type": "code",
   "execution_count": null,
   "id": "cdc704f3-fc3d-4f73-bcd1-005db1d44c65",
   "metadata": {},
   "outputs": [],
   "source": [
    "def loop_maxes(V, func, *args, **kwargs):\n",
    "    with tqdm(V) as mstml:\n",
    "        for i, v in enumerate(mstml):\n",
    "            func(i, v, *args, **kwargs)"
   ]
  },
  {
   "cell_type": "code",
   "execution_count": null,
   "id": "e34fa57e-d3b0-4398-994c-77f9901c9efe",
   "metadata": {},
   "outputs": [],
   "source": [
    "def select_top(V, idx, thresh):\n",
    "    tops = list()\n",
    "    def add_to_top(i, v):\n",
    "        if thresh <= v[idx]:\n",
    "            tops.append(i)\n",
    "    loop_maxes(V, lambda i, v: add_to_top(i, v))\n",
    "    \n",
    "    return tops"
   ]
  },
  {
   "cell_type": "code",
   "execution_count": null,
   "id": "5c53d0a3-f137-460a-8304-de6e5e09f7f5",
   "metadata": {},
   "outputs": [],
   "source": [
    "def find_v_x(V, mrng, idx):\n",
    "    mid = np.argmin(np.array(V)[mrng], axis=0)[idx]\n",
    "    x_id = mrng[mid]\n",
    "    v_x = V[x_id]\n",
    "\n",
    "    return v_x, x_id"
   ]
  },
  {
   "cell_type": "code",
   "execution_count": null,
   "id": "7c1fcda3-9bb4-4217-b35b-c80d2db573a8",
   "metadata": {},
   "outputs": [],
   "source": [
    "def find_v_A(V, mrng):\n",
    "    return np.minimum.reduce(np.array(V)[mrng])"
   ]
  },
  {
   "cell_type": "code",
   "execution_count": null,
   "id": "87b32056-adc5-4cc3-bf86-f61d04b85c81",
   "metadata": {},
   "outputs": [],
   "source": [
    "def find_G_x(V, v_x):\n",
    "    with tqdm(V) as mstm:\n",
    "        G_x = np.array([i for i, v in enumerate(mstm) if np.all(v_x <= v)])\n",
    "\n",
    "    return G_x"
   ]
  },
  {
   "cell_type": "code",
   "execution_count": null,
   "id": "82e58d2a-4336-4cfe-8382-c11e3129924a",
   "metadata": {},
   "outputs": [],
   "source": [
    "def show_img(ds, idx):\n",
    "    plt.imshow(ds[idx][0])"
   ]
  },
  {
   "cell_type": "code",
   "execution_count": null,
   "id": "602ddceb-6d9a-4ccc-b67e-efdc7317a265",
   "metadata": {},
   "outputs": [],
   "source": [
    "def show(\n",
    "        imgs, \n",
    "        h=12, \n",
    "        w=12, \n",
    "        img_path=None\n",
    "):\n",
    "    if not isinstance(imgs, list):\n",
    "        imgs = [imgs]\n",
    "    fig, axs = plt.subplots(\n",
    "        ncols=len(imgs),\n",
    "        figsize=(w, h),\n",
    "        squeeze=False\n",
    "    )\n",
    "    for i, img in enumerate(imgs):\n",
    "        img = img.detach()\n",
    "        img = F.to_pil_image(img)\n",
    "        axs[0, i].imshow(np.asarray(img))\n",
    "        axs[0, i].set(xticklabels=[], yticklabels=[], xticks=[], yticks=[])\n",
    "    if img_path:\n",
    "        plt.savefig(img_path)\n",
    "    plt.show()"
   ]
  },
  {
   "cell_type": "code",
   "execution_count": null,
   "id": "1d9e88a1-2288-4892-91e0-86e303cd9dac",
   "metadata": {},
   "outputs": [],
   "source": [
    "def show_grid(\n",
    "        G_A, \n",
    "        data, \n",
    "        nrow=8, \n",
    "        h=12, \n",
    "        w=12, \n",
    "        img_path=None\n",
    "):\n",
    "    to_tensor = transforms.ToTensor()\n",
    "    A_gr = [to_tensor(data[i][0]) for i in G_A]\n",
    "    grid = make_grid(A_gr, nrow=nrow)\n",
    "    show(grid, h=h, w=w, img_path=img_path)"
   ]
  },
  {
   "cell_type": "markdown",
   "id": "cae6cb9b-e48c-44e6-b0ec-8907629451e1",
   "metadata": {},
   "source": [
    "## Initialize MNIST dataset"
   ]
  },
  {
   "cell_type": "code",
   "execution_count": null,
   "id": "b5a613d8-e5ac-4a78-9e79-983e19ffb93d",
   "metadata": {},
   "outputs": [],
   "source": [
    "transform = transforms.Compose(\n",
    "            [\n",
    "                transforms.ToTensor(),\n",
    "                transforms.Normalize((0.1307,), (0.3081,)),\n",
    "            ]\n",
    ")"
   ]
  },
  {
   "cell_type": "code",
   "execution_count": null,
   "id": "9d206541-1930-4ce3-a629-b9deed2b7c0f",
   "metadata": {},
   "outputs": [],
   "source": [
    "data = MNIST(images_path, train=False, download=True)"
   ]
  },
  {
   "cell_type": "code",
   "execution_count": null,
   "id": "0ed4ff52-8905-4cbd-83b3-79a12a7d21f8",
   "metadata": {},
   "outputs": [],
   "source": [
    "wnet = NetWrapper(net, transform)"
   ]
  },
  {
   "cell_type": "code",
   "execution_count": null,
   "id": "7da39f11-54d0-4e2b-8ab6-fdc8d895a058",
   "metadata": {},
   "outputs": [],
   "source": [
    "V_X, X_V = layer_V(data, wnet, k=5)"
   ]
  },
  {
   "cell_type": "code",
   "execution_count": null,
   "id": "9b5b0fd0-21f8-4a24-9844-892fd8d14cd0",
   "metadata": {},
   "outputs": [],
   "source": [
    "np.argmax(V_X, axis=0)"
   ]
  },
  {
   "cell_type": "code",
   "execution_count": null,
   "id": "b45f9773-5ce2-4f92-acac-08a6d1ffe318",
   "metadata": {},
   "outputs": [],
   "source": [
    "np.max(V_X, axis=0)"
   ]
  },
  {
   "cell_type": "code",
   "execution_count": null,
   "id": "761b8eff-3efd-4227-a7e5-a99f6644942f",
   "metadata": {},
   "outputs": [],
   "source": [
    "V_X[3290, :]"
   ]
  },
  {
   "cell_type": "code",
   "execution_count": null,
   "id": "e5b9ee28-52ea-4ab3-9a55-978206893e9e",
   "metadata": {},
   "outputs": [],
   "source": [
    "show_img(data, 8140)"
   ]
  },
  {
   "cell_type": "markdown",
   "id": "7e3b79ba-84e6-455d-afca-b7674b9750e4",
   "metadata": {},
   "source": [
    "## Alanyze maximum stimulus"
   ]
  },
  {
   "cell_type": "code",
   "execution_count": null,
   "id": "59ed96e4-60b4-478f-9c71-50dc783b748d",
   "metadata": {},
   "outputs": [],
   "source": [
    "# th_A = 16\n",
    "# th_B = 10\n",
    "\n",
    "th_A = 8\n",
    "th_B = 8\n",
    "\n",
    "# th_A = 6\n",
    "# th_B = 6"
   ]
  },
  {
   "cell_type": "code",
   "execution_count": null,
   "id": "d177129a-7d06-47b6-8918-031062701f45",
   "metadata": {},
   "outputs": [],
   "source": [
    "G_A_v_A = select_top(V_X, 2, th_A)"
   ]
  },
  {
   "cell_type": "code",
   "execution_count": null,
   "id": "5080cb6a-b170-4e8f-a61e-d8cd9686cd89",
   "metadata": {},
   "outputs": [],
   "source": [
    "show_grid(G_A_v_A, data, nrow=48, h=16, w=32, img_path=images_path / f'G_A_v_A.png')"
   ]
  },
  {
   "cell_type": "code",
   "execution_count": null,
   "id": "1ad2b9ae-4dc2-43d1-8569-3cf3088c4e41",
   "metadata": {},
   "outputs": [],
   "source": [
    "v_a, a_id = find_v_x(V_X, G_A_v_A, 2)\n",
    "v_a, a_id"
   ]
  },
  {
   "cell_type": "code",
   "execution_count": null,
   "id": "2a60a5b3-9ab5-4c2d-9a5b-d26fc07ba66b",
   "metadata": {},
   "outputs": [],
   "source": [
    "show_img(data, a_id)"
   ]
  },
  {
   "cell_type": "code",
   "execution_count": null,
   "id": "433bee1b-0781-4ab2-a47c-5577e80eafc9",
   "metadata": {
    "scrolled": true
   },
   "outputs": [],
   "source": [
    "v_A = find_v_A(V_X, G_A_v_A)\n",
    "v_A"
   ]
  },
  {
   "cell_type": "code",
   "execution_count": null,
   "id": "667738ee-118d-4e69-ae24-3932f66889e5",
   "metadata": {},
   "outputs": [],
   "source": [
    "G_B_v_B = select_top(V_X, 5, thresh=th_B)"
   ]
  },
  {
   "cell_type": "code",
   "execution_count": null,
   "id": "a9107cb3-efc6-4c3b-9baf-e8063fffd3e2",
   "metadata": {},
   "outputs": [],
   "source": [
    "show_grid(G_B_v_B, data, nrow=48, h=16, w=32, img_path=images_path / f'G_B_v_B.png')"
   ]
  },
  {
   "cell_type": "code",
   "execution_count": null,
   "id": "86ddde1d-97d7-4819-a64a-43d49b6d3045",
   "metadata": {
    "scrolled": true
   },
   "outputs": [],
   "source": [
    "v_b, b_id = find_v_x(V_X, G_B_v_B, 5)\n",
    "v_b, b_id"
   ]
  },
  {
   "cell_type": "code",
   "execution_count": null,
   "id": "05a11809-aea4-4c47-b664-de0508ed60e5",
   "metadata": {},
   "outputs": [],
   "source": [
    "show_img(data, b_id)"
   ]
  },
  {
   "cell_type": "code",
   "execution_count": null,
   "id": "37e25387-a574-4fb3-ad7c-754c98897957",
   "metadata": {},
   "outputs": [],
   "source": [
    "v_B = find_v_A(V_X, G_B_v_B)\n",
    "v_B"
   ]
  },
  {
   "cell_type": "code",
   "execution_count": null,
   "id": "750bb178-dd57-46ee-9414-7b04bfc84c98",
   "metadata": {},
   "outputs": [],
   "source": [
    "G_A = find_G_x(V_X, v_A)\n",
    "G_A"
   ]
  },
  {
   "cell_type": "code",
   "execution_count": null,
   "id": "9ea0d900-1ad2-427d-b5da-4349fbe09e9c",
   "metadata": {},
   "outputs": [],
   "source": [
    "show_grid(G_A, data, nrow=48, h=16, w=32, img_path=images_path / f'G_A.png')"
   ]
  },
  {
   "cell_type": "code",
   "execution_count": null,
   "id": "d851f7e3-e04f-403d-8148-5ca290082437",
   "metadata": {},
   "outputs": [],
   "source": [
    "G_B = find_G_x(V_X, v_B)\n",
    "G_B"
   ]
  },
  {
   "cell_type": "code",
   "execution_count": null,
   "id": "38f56773-e855-4c17-b0f5-9a55d99cd8dc",
   "metadata": {},
   "outputs": [],
   "source": [
    "show_grid(G_B, data, nrow=48, h=16, w=32, img_path=images_path / f'G_B.png')"
   ]
  },
  {
   "cell_type": "code",
   "execution_count": null,
   "id": "db2c6a42-8e21-486b-bc62-185b9ce16091",
   "metadata": {},
   "outputs": [],
   "source": [
    "D = np.intersect1d(G_A, G_B)\n",
    "D"
   ]
  },
  {
   "cell_type": "code",
   "execution_count": null,
   "id": "d4187bfd-506c-4042-8c47-601130894a4f",
   "metadata": {},
   "outputs": [],
   "source": [
    "show_grid(D, data, nrow=48, h=16, w=32, img_path=images_path / f'D.png')"
   ]
  },
  {
   "cell_type": "code",
   "execution_count": null,
   "id": "56e46130-03fc-40fb-90f5-40a6bf0a1276",
   "metadata": {},
   "outputs": [],
   "source": [
    "plt.imshow(data[6794][0])"
   ]
  },
  {
   "cell_type": "code",
   "execution_count": null,
   "id": "35c5dc58-f324-40a1-88cd-bbf8c4e46994",
   "metadata": {},
   "outputs": [],
   "source": [
    "v_D = np.maximum(v_A, v_B)\n",
    "v_D"
   ]
  },
  {
   "cell_type": "code",
   "execution_count": null,
   "id": "a30660d4-6d31-4669-9dbf-833f9b597099",
   "metadata": {},
   "outputs": [],
   "source": [
    "G_5_D = find_G_x(V_X, v_D)\n",
    "G_5_D"
   ]
  },
  {
   "cell_type": "code",
   "execution_count": null,
   "id": "7c9696ce-3582-4fdd-8f2d-3987376bcc3d",
   "metadata": {},
   "outputs": [],
   "source": [
    "show_grid(G_5_D, data, nrow=48, h=16, w=32, img_path=images_path / f'G_5_D.png')"
   ]
  },
  {
   "cell_type": "code",
   "execution_count": null,
   "id": "83f78423-c986-4815-86d6-b0582f8c150b",
   "metadata": {},
   "outputs": [],
   "source": [
    "U_X, X_U = layer_V(data, wnet, k=6)"
   ]
  },
  {
   "cell_type": "code",
   "execution_count": null,
   "id": "4c2094b2-664e-4d62-8b02-319381f768e4",
   "metadata": {},
   "outputs": [],
   "source": [
    "u_D = find_v_A(U_X, D)\n",
    "u_D"
   ]
  },
  {
   "cell_type": "code",
   "execution_count": null,
   "id": "6585c888-9186-4acf-8456-8ce7a4ab2a1d",
   "metadata": {},
   "outputs": [],
   "source": [
    "U_X[D]"
   ]
  },
  {
   "cell_type": "code",
   "execution_count": null,
   "id": "70d47778-fc0a-405c-b9c2-6ccc1c2540a6",
   "metadata": {},
   "outputs": [],
   "source": [
    "G_u_D = find_G_x(U_X, u_D)\n",
    "G_u_D"
   ]
  },
  {
   "cell_type": "code",
   "execution_count": null,
   "id": "a0b016b1-456a-4c25-8c32-d09244be9a8d",
   "metadata": {},
   "outputs": [],
   "source": [
    "show_grid(G_u_D, data, nrow=48, h=16, w=32, img_path=images_path / 'G_u_D.png')"
   ]
  },
  {
   "cell_type": "code",
   "execution_count": null,
   "id": "277c2bfb-7119-43e9-86e8-c6aefe753bbf",
   "metadata": {},
   "outputs": [],
   "source": [
    "plt.imshow(data[9390][0])"
   ]
  },
  {
   "cell_type": "code",
   "execution_count": null,
   "id": "0be26253-65d3-4dc0-ae57-88a9bdee023d",
   "metadata": {},
   "outputs": [],
   "source": [
    "G_u_D.shape"
   ]
  },
  {
   "cell_type": "code",
   "execution_count": null,
   "id": "736e9ab8-e1d7-4794-ade7-65883076d98c",
   "metadata": {},
   "outputs": [],
   "source": [
    "y = list()\n",
    "with tqdm(data) as dt:\n",
    "    for _, y_l in dt:\n",
    "        y.append(y_l)\n",
    "y = np.array(y)"
   ]
  },
  {
   "cell_type": "code",
   "execution_count": null,
   "id": "1ccfaebd-8c03-4b5e-aa1d-e58131526114",
   "metadata": {},
   "outputs": [],
   "source": [
    "y_3_idx = np.where(y == 3)"
   ]
  },
  {
   "cell_type": "code",
   "execution_count": null,
   "id": "5bac3657-6f26-4495-97f3-167ef0899a97",
   "metadata": {
    "scrolled": true
   },
   "outputs": [],
   "source": [
    "len(y_3_idx)"
   ]
  },
  {
   "cell_type": "code",
   "execution_count": null,
   "id": "9e2b6eaa-29eb-45ef-abd2-b7e5badae76c",
   "metadata": {},
   "outputs": [],
   "source": [
    "y_3_idx[0].shape, G_u_D.shape"
   ]
  },
  {
   "cell_type": "code",
   "execution_count": null,
   "id": "1ece01ea-cece-431e-a43e-b5eba0dde72b",
   "metadata": {},
   "outputs": [],
   "source": [
    "result = y_3_idx[0][~np.isin(y_3_idx[0], G_u_D)]\n",
    "result.shape"
   ]
  },
  {
   "cell_type": "code",
   "execution_count": null,
   "id": "dbd10f32-7908-4db1-b1bc-263344d16234",
   "metadata": {},
   "outputs": [],
   "source": [
    "show_grid(result, data, nrow=48, h=16, w=32)"
   ]
  },
  {
   "cell_type": "code",
   "execution_count": null,
   "id": "33200bb8-a1db-40d5-b75d-a30cfdd4d5f2",
   "metadata": {},
   "outputs": [],
   "source": [
    "np.count_nonzero(y[G_u_D] == 3), G_u_D.shape"
   ]
  },
  {
   "cell_type": "code",
   "execution_count": null,
   "id": "79582962-e9f1-47c5-91d0-dc42c8d8bb83",
   "metadata": {},
   "outputs": [],
   "source": []
  }
 ],
 "metadata": {
  "kernelspec": {
   "display_name": "Python 3 (ipykernel)",
   "language": "python",
   "name": "python3"
  },
  "language_info": {
   "codemirror_mode": {
    "name": "ipython",
    "version": 3
   },
   "file_extension": ".py",
   "mimetype": "text/x-python",
   "name": "python",
   "nbconvert_exporter": "python",
   "pygments_lexer": "ipython3",
   "version": "3.12.3"
  }
 },
 "nbformat": 4,
 "nbformat_minor": 5
}
