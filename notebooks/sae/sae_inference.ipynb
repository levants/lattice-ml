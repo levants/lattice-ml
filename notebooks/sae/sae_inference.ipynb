{
 "cells": [
  {
   "cell_type": "code",
   "execution_count": null,
   "id": "71ce37e9",
   "metadata": {},
   "outputs": [],
   "source": [
    "%load_ext autoreload\n",
    "%autoreload 2\n",
    "\n",
    "%matplotlib inline"
   ]
  },
  {
   "cell_type": "markdown",
   "id": "5b560092",
   "metadata": {},
   "source": [
    "## Install libraries"
   ]
  },
  {
   "cell_type": "markdown",
   "id": "89885fa7",
   "metadata": {},
   "source": [
    "```bash\n",
    "conda create -n edu4 python=3.11 jupyter matplotlib\n",
    "```"
   ]
  },
  {
   "cell_type": "markdown",
   "id": "cd23589d",
   "metadata": {},
   "source": [
    "```bash \n",
    "! pip install -U -r requirements.txt\n",
    "```"
   ]
  },
  {
   "cell_type": "markdown",
   "id": "9d16321f",
   "metadata": {},
   "source": [
    "```bash\n",
    "! pip install -U numpy\n",
    "! pip install -U scikit-learn\n",
    "```"
   ]
  },
  {
   "cell_type": "markdown",
   "id": "b4cab43a",
   "metadata": {},
   "source": [
    "## Update repository"
   ]
  },
  {
   "cell_type": "code",
   "execution_count": null,
   "id": "46bcb5dc",
   "metadata": {},
   "outputs": [],
   "source": [
    "# ! git pull"
   ]
  },
  {
   "cell_type": "markdown",
   "id": "bad216da",
   "metadata": {},
   "source": [
    "## Add import path"
   ]
  },
  {
   "cell_type": "code",
   "execution_count": null,
   "id": "baafb705",
   "metadata": {},
   "outputs": [],
   "source": [
    "import os\n",
    "import sys\n",
    "import gc"
   ]
  },
  {
   "cell_type": "code",
   "execution_count": null,
   "id": "b2930983",
   "metadata": {},
   "outputs": [],
   "source": [
    "module_path = os.path.abspath(os.path.join('..'))\n",
    "if module_path not in sys.path:\n",
    "    sys.path.append(module_path)"
   ]
  },
  {
   "cell_type": "code",
   "execution_count": null,
   "id": "83ccfcbd-f80f-4f27-b3a0-3f06deade10c",
   "metadata": {},
   "outputs": [],
   "source": [
    "module_path = os.path.abspath(os.path.join('../..'))\n",
    "if module_path not in sys.path:\n",
    "    sys.path.append(module_path)"
   ]
  },
  {
   "cell_type": "code",
   "execution_count": null,
   "id": "7984d32f",
   "metadata": {},
   "outputs": [],
   "source": [
    "del module_path"
   ]
  },
  {
   "cell_type": "markdown",
   "id": "07a1e9c8",
   "metadata": {},
   "source": [
    "## Organize imports"
   ]
  },
  {
   "cell_type": "code",
   "execution_count": null,
   "id": "7927f283-cc9b-4268-be85-2874379b118c",
   "metadata": {},
   "outputs": [],
   "source": [
    "from transformers import AutoModelForCausalLM, BitsAndBytesConfig, AutoTokenizer\n",
    "from huggingface_hub import hf_hub_download, notebook_login\n",
    "import numpy as np\n",
    "import torch"
   ]
  },
  {
   "cell_type": "code",
   "execution_count": null,
   "id": "722e0e45-414d-4190-844f-7b44801b2d11",
   "metadata": {},
   "outputs": [],
   "source": [
    "from sae_lens import SAE\n",
    "from transformer_lens.utils import tokenize_and_concatenate"
   ]
  },
  {
   "cell_type": "code",
   "execution_count": null,
   "id": "f3bae2ba-8269-4513-b108-642257dfc72a",
   "metadata": {},
   "outputs": [],
   "source": [
    "from transformer_lens import HookedTransformer"
   ]
  },
  {
   "cell_type": "code",
   "execution_count": null,
   "id": "5319114e-c41f-4894-a05d-c4b428289a00",
   "metadata": {},
   "outputs": [],
   "source": [
    "from datasets import load_dataset"
   ]
  },
  {
   "cell_type": "code",
   "execution_count": null,
   "id": "ae177357",
   "metadata": {},
   "outputs": [],
   "source": [
    "import multiprocessing\n",
    "from pathlib import Path"
   ]
  },
  {
   "cell_type": "code",
   "execution_count": null,
   "id": "2730a69b-c412-4bfe-a3a8-7ff234315280",
   "metadata": {},
   "outputs": [],
   "source": [
    "from tqdm import tqdm"
   ]
  },
  {
   "cell_type": "code",
   "execution_count": null,
   "id": "a523557a",
   "metadata": {},
   "outputs": [],
   "source": [
    "import seaborn as sns"
   ]
  },
  {
   "cell_type": "code",
   "execution_count": null,
   "id": "25750a3d",
   "metadata": {},
   "outputs": [],
   "source": [
    "import matplotlib.pyplot as plt\n",
    "import numpy as np\n",
    "import pandas as pd"
   ]
  },
  {
   "cell_type": "code",
   "execution_count": null,
   "id": "902f802d-fa9c-4e26-9df1-ae621014e9de",
   "metadata": {},
   "outputs": [],
   "source": [
    "import plotly.express as px"
   ]
  },
  {
   "cell_type": "code",
   "execution_count": null,
   "id": "ee894933-eba4-4742-8fa2-51b2cff5cf6d",
   "metadata": {},
   "outputs": [],
   "source": [
    "from src.lattmc.fca.utils import *\n",
    "from src.lattmc.fca.data_utils import *\n",
    "from src.lattmc.fca.image_utils import *\n",
    "from src.lattmc.fca.models import *\n",
    "from src.lattmc.fca.fca_utils import *\n",
    "from src.lattmc.fca.image_gens import *"
   ]
  },
  {
   "cell_type": "markdown",
   "id": "65f31e93",
   "metadata": {},
   "source": [
    "#### Number of CPU cores"
   ]
  },
  {
   "cell_type": "code",
   "execution_count": null,
   "id": "b41c30f2",
   "metadata": {},
   "outputs": [],
   "source": [
    "workers = multiprocessing.cpu_count()\n",
    "workers"
   ]
  },
  {
   "cell_type": "code",
   "execution_count": null,
   "id": "59f41838-322d-41e8-b8e1-6712089703c9",
   "metadata": {},
   "outputs": [],
   "source": [
    "SEED = 2024"
   ]
  },
  {
   "cell_type": "code",
   "execution_count": null,
   "id": "9e1c0d14-575c-491c-88a3-85f70fae7875",
   "metadata": {},
   "outputs": [],
   "source": [
    "# For the most part I'll try to import functions and classes near where they are used\n",
    "# to make it clear where they come from.\n",
    "\n",
    "if torch.backends.mps.is_available():\n",
    "    device = \"mps\"\n",
    "else:\n",
    "    device = \"cuda\" if torch.cuda.is_available() else \"cpu\"\n",
    "\n",
    "print(f\"Device: {device}\")"
   ]
  },
  {
   "cell_type": "markdown",
   "id": "0ccf4792-19f1-4d01-b9c2-ddea2462cadc",
   "metadata": {},
   "source": [
    "## Initialize Path"
   ]
  },
  {
   "cell_type": "code",
   "execution_count": null,
   "id": "bcd545b8-0e15-41e9-92a9-4d0bf260c8b8",
   "metadata": {},
   "outputs": [],
   "source": [
    "PATH = Path('data')\n",
    "checkpoint_dir = PATH / 'saes'\n",
    "checkpoint_dir.mkdir(exist_ok=True, parents=True)\n",
    "checkpoint_path1 = checkpoint_dir / 'best-checkpoint-v1.ckpt'\n",
    "checkpoint_path2 = checkpoint_dir / 'best-checkpoint.ckpt'\n",
    "\n",
    "image_dir = PATH / 'images'\n",
    "image_path = image_dir / '1024.png'"
   ]
  },
  {
   "cell_type": "markdown",
   "id": "be07aad4-53a7-456b-b026-80295db7d84d",
   "metadata": {},
   "source": [
    "## Initialize simple dataset"
   ]
  },
  {
   "cell_type": "code",
   "execution_count": null,
   "id": "c3ddebc9-6b60-403d-aaa1-13c71e3215e6",
   "metadata": {},
   "outputs": [],
   "source": []
  },
  {
   "cell_type": "markdown",
   "id": "807137b2-c1f9-42eb-a4aa-2ad0f60c93b2",
   "metadata": {},
   "source": [
    "## Initialize model"
   ]
  },
  {
   "cell_type": "code",
   "execution_count": null,
   "id": "f79a6c4d-2e8b-4605-b21b-757446d5130d",
   "metadata": {},
   "outputs": [],
   "source": [
    "layer = 6"
   ]
  },
  {
   "cell_type": "code",
   "execution_count": null,
   "id": "86ecbb2e-8222-42dd-a40e-84ae4900b816",
   "metadata": {},
   "outputs": [],
   "source": [
    "# model_name = 'gemma-2b'\n",
    "# release = 'gemma-2b-res-jb'\n",
    "# sae_id = f'blocks.{layer}.hook_resid_post'\n",
    "# # get model\n",
    "# model = HookedTransformer.from_pretrained(\n",
    "#     model_name, \n",
    "#     device=device\n",
    "# )\n",
    "\n",
    "# # get the SAE for this layer\n",
    "# sae, cfg_dict, _ = SAE.from_pretrained(\n",
    "#     release=release,\n",
    "#     sae_id=sae_id,\n",
    "#     device=device\n",
    "# )\n",
    "\n",
    "# # get hook point\n",
    "# hook_point = sae.cfg.hook_name\n",
    "# print(hook_point)"
   ]
  },
  {
   "cell_type": "code",
   "execution_count": null,
   "id": "cf3938d2-4b5a-4132-98c9-c694a5a3d859",
   "metadata": {},
   "outputs": [],
   "source": [
    "model_name = 'gpt2-small'\n",
    "release = 'gpt2-small-mlp-tm'\n",
    "sae_id = 'blocks.8.hook_mlp_out'\n",
    "sae, cfg_dict, sparsity = SAE.from_pretrained(\n",
    "    release=release,  # see other options in sae_lens/pretrained_saes.yaml\n",
    "    sae_id=sae_id,  # won't always be a hook point\n",
    "    device=device,\n",
    ")\n",
    "hook_point = sae.cfg.hook_name\n",
    "print(hook_point)"
   ]
  },
  {
   "cell_type": "code",
   "execution_count": null,
   "id": "629d3b08-5ad2-4c54-ae04-6269dfdf172e",
   "metadata": {},
   "outputs": [],
   "source": [
    "model = HookedTransformer.from_pretrained(model_name, device=device)"
   ]
  },
  {
   "cell_type": "code",
   "execution_count": null,
   "id": "84580fc8-22de-40e8-b02f-e4db1a5b7d34",
   "metadata": {},
   "outputs": [],
   "source": [
    "sv_prompt = \" The Golden Gate Bridge\"\n",
    "sv_logits, cache = model.run_with_cache(sv_prompt, prepend_bos=True)\n",
    "tokens = model.to_tokens(sv_prompt)\n",
    "print(tokens)\n",
    "\n",
    "# get the feature activations from our SAE\n",
    "sv_feature_acts = sae.encode(cache[hook_point])\n",
    "\n",
    "# get sae_out\n",
    "sae_out = sae.decode(sv_feature_acts)\n",
    "\n",
    "# print out the top activations, focus on the indices\n",
    "print(torch.topk(sv_feature_acts, 12))"
   ]
  },
  {
   "cell_type": "code",
   "execution_count": null,
   "id": "cfe17ffc-a53c-454f-b617-b8805f28b79e",
   "metadata": {},
   "outputs": [],
   "source": [
    "sv_prompt = \"Golden\"\n",
    "sv_logits, cache = model.run_with_cache(sv_prompt, prepend_bos=True)\n",
    "tokens = model.to_tokens(sv_prompt)\n",
    "print(tokens)\n",
    "\n",
    "# get the feature activations from our SAE\n",
    "sv_feature_acts = sae.encode(cache[hook_point])\n",
    "\n",
    "# get sae_out\n",
    "sae_out = sae.decode(sv_feature_acts)\n",
    "\n",
    "# print out the top activations, focus on the indices\n",
    "print(torch.topk(sv_feature_acts, 12))"
   ]
  },
  {
   "cell_type": "code",
   "execution_count": null,
   "id": "7f2051d4-83b5-40be-baa3-1280bf5ece98",
   "metadata": {},
   "outputs": [],
   "source": [
    "sv_prompt = \"gate\"\n",
    "sv_logits, cache = model.run_with_cache(sv_prompt, prepend_bos=True)\n",
    "tokens = model.to_tokens(sv_prompt)\n",
    "print(tokens)\n",
    "\n",
    "# get the feature activations from our SAE\n",
    "sv_feature_acts = sae.encode(cache[hook_point])\n",
    "\n",
    "# get sae_out\n",
    "sae_out = sae.decode(sv_feature_acts)\n",
    "\n",
    "# print out the top activations, focus on the indices\n",
    "print(torch.topk(sv_feature_acts, 12))"
   ]
  },
  {
   "cell_type": "code",
   "execution_count": null,
   "id": "58410881-f276-44cf-82ed-eeec814ae7ac",
   "metadata": {},
   "outputs": [],
   "source": [
    "sae.state_dict()['enc'].detach()"
   ]
  },
  {
   "cell_type": "code",
   "execution_count": null,
   "id": "7b20523a-b83e-4197-bd25-d1e204c8aadf",
   "metadata": {},
   "outputs": [],
   "source": [
    "sv_feature_acts.shape"
   ]
  },
  {
   "cell_type": "code",
   "execution_count": null,
   "id": "95fc605f-3dc7-4cd0-bae8-d93092a9ad0f",
   "metadata": {},
   "outputs": [],
   "source": [
    "model.to_string(tokens)"
   ]
  },
  {
   "cell_type": "code",
   "execution_count": null,
   "id": "99e565b9-1276-4c35-addb-f6ab799ceafd",
   "metadata": {},
   "outputs": [],
   "source": [
    "tokens[:, :1]"
   ]
  },
  {
   "cell_type": "code",
   "execution_count": null,
   "id": "7330c6ea-a3d4-4e05-8c9c-25c4e2d1a9b9",
   "metadata": {},
   "outputs": [],
   "source": [
    "tokens.shape"
   ]
  },
  {
   "cell_type": "code",
   "execution_count": null,
   "id": "bebe1a0f-8ca7-4e38-ac35-4e287449ca06",
   "metadata": {},
   "outputs": [],
   "source": [
    "for i in range(tokens.shape[1]):\n",
    "    print(f'{tokens[:,i]} - {model.to_string(tokens[:, i])}')"
   ]
  },
  {
   "cell_type": "code",
   "execution_count": null,
   "id": "ae362ac6-4166-4e72-9b21-e443b23574a8",
   "metadata": {},
   "outputs": [],
   "source": [
    "print(torch.topk(sv_feature_acts[0][0], 20))"
   ]
  },
  {
   "cell_type": "code",
   "execution_count": null,
   "id": "5c80073a-1aab-42bd-abd8-072bef62cdd6",
   "metadata": {},
   "outputs": [],
   "source": [
    "active_neurons = [torch.nonzero(sv_feature_acts[0][i]) for i in range(tokens.shape[1])]\n",
    "for i in range(tokens.shape[1]):\n",
    "    print(active_neurons[i].shape)"
   ]
  },
  {
   "cell_type": "code",
   "execution_count": null,
   "id": "d91be9f1-7e48-4b2e-bc83-6b7bd4236247",
   "metadata": {},
   "outputs": [],
   "source": [
    "active_neurons = [torch.nonzero(sv_feature_acts[0][i]) for i in range(tokens.shape[1])]\n",
    "for i in range(tokens.shape[1]):\n",
    "    print(active_neurons[i])"
   ]
  },
  {
   "cell_type": "code",
   "execution_count": null,
   "id": "714bf8be-80ff-4eea-9b19-778d02fb8f67",
   "metadata": {
    "scrolled": true
   },
   "outputs": [],
   "source": [
    "for k, n1 in enumerate(active_neurons):\n",
    "    for p, n2 in enumerate(active_neurons):\n",
    "        if k != p:\n",
    "            print(f'testing {k} {p} {n1.shape} {n2.shape}')\n",
    "            for i in range(n1.shape[0]):\n",
    "                for j in range(n2.shape[0]):\n",
    "                    if n1[i] == n2[j]:\n",
    "                        print(f'{n1[i]=} {n2[j]=}')"
   ]
  },
  {
   "cell_type": "code",
   "execution_count": null,
   "id": "ff689c2e-0bea-4305-a828-e83c06ff99e2",
   "metadata": {},
   "outputs": [],
   "source": []
  }
 ],
 "metadata": {
  "kernelspec": {
   "display_name": "Python 3 (ipykernel)",
   "language": "python",
   "name": "python3"
  },
  "language_info": {
   "codemirror_mode": {
    "name": "ipython",
    "version": 3
   },
   "file_extension": ".py",
   "mimetype": "text/x-python",
   "name": "python",
   "nbconvert_exporter": "python",
   "pygments_lexer": "ipython3",
   "version": "3.12.9"
  }
 },
 "nbformat": 4,
 "nbformat_minor": 5
}
