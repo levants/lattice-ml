{
 "cells": [
  {
   "cell_type": "code",
   "execution_count": null,
   "id": "71ce37e9",
   "metadata": {},
   "outputs": [],
   "source": [
    "%load_ext autoreload\n",
    "%autoreload 2\n",
    "\n",
    "%matplotlib inline"
   ]
  },
  {
   "cell_type": "markdown",
   "id": "5b560092",
   "metadata": {},
   "source": [
    "## Install libraries"
   ]
  },
  {
   "cell_type": "markdown",
   "id": "89885fa7",
   "metadata": {},
   "source": [
    "```bash\n",
    "conda create -n edu4 python=3.11 jupyter matplotlib\n",
    "```"
   ]
  },
  {
   "cell_type": "markdown",
   "id": "cd23589d",
   "metadata": {},
   "source": [
    "```bash \n",
    "! pip install -U -r requirements.txt\n",
    "```"
   ]
  },
  {
   "cell_type": "markdown",
   "id": "9d16321f",
   "metadata": {},
   "source": [
    "```bash\n",
    "! pip install -U numpy\n",
    "! pip install -U scikit-learn\n",
    "```"
   ]
  },
  {
   "cell_type": "markdown",
   "id": "b4cab43a",
   "metadata": {},
   "source": [
    "## Update repository"
   ]
  },
  {
   "cell_type": "code",
   "execution_count": null,
   "id": "46bcb5dc",
   "metadata": {},
   "outputs": [],
   "source": [
    "! git pull"
   ]
  },
  {
   "cell_type": "markdown",
   "id": "bad216da",
   "metadata": {},
   "source": [
    "## Add import path"
   ]
  },
  {
   "cell_type": "code",
   "execution_count": null,
   "id": "baafb705",
   "metadata": {},
   "outputs": [],
   "source": [
    "import os\n",
    "import sys\n",
    "import gc"
   ]
  },
  {
   "cell_type": "code",
   "execution_count": null,
   "id": "b2930983",
   "metadata": {},
   "outputs": [],
   "source": [
    "module_path = os.path.abspath(os.path.join('..'))\n",
    "if module_path not in sys.path:\n",
    "    sys.path.append(module_path)"
   ]
  },
  {
   "cell_type": "code",
   "execution_count": null,
   "id": "7984d32f",
   "metadata": {},
   "outputs": [],
   "source": [
    "del module_path"
   ]
  },
  {
   "cell_type": "markdown",
   "id": "07a1e9c8",
   "metadata": {},
   "source": [
    "## Organize imports"
   ]
  },
  {
   "cell_type": "code",
   "execution_count": null,
   "id": "7927f283-cc9b-4268-be85-2874379b118c",
   "metadata": {},
   "outputs": [],
   "source": [
    "from transformers import AutoModelForCausalLM, BitsAndBytesConfig, AutoTokenizer\n",
    "from huggingface_hub import hf_hub_download, notebook_login\n",
    "import numpy as np\n",
    "import torch"
   ]
  },
  {
   "cell_type": "code",
   "execution_count": null,
   "id": "ae177357",
   "metadata": {},
   "outputs": [],
   "source": [
    "import multiprocessing\n",
    "from pathlib import Path"
   ]
  },
  {
   "cell_type": "code",
   "execution_count": null,
   "id": "2730a69b-c412-4bfe-a3a8-7ff234315280",
   "metadata": {},
   "outputs": [],
   "source": [
    "from tqdm import tqdm"
   ]
  },
  {
   "cell_type": "code",
   "execution_count": null,
   "id": "a523557a",
   "metadata": {},
   "outputs": [],
   "source": [
    "import seaborn as sns"
   ]
  },
  {
   "cell_type": "code",
   "execution_count": null,
   "id": "25750a3d",
   "metadata": {},
   "outputs": [],
   "source": [
    "import matplotlib.pyplot as plt\n",
    "import numpy as np\n",
    "import pandas as pd"
   ]
  },
  {
   "cell_type": "markdown",
   "id": "65f31e93",
   "metadata": {},
   "source": [
    "#### Number of CPU cores"
   ]
  },
  {
   "cell_type": "code",
   "execution_count": null,
   "id": "b41c30f2",
   "metadata": {},
   "outputs": [],
   "source": [
    "workers = multiprocessing.cpu_count()\n",
    "workers"
   ]
  },
  {
   "cell_type": "code",
   "execution_count": null,
   "id": "59f41838-322d-41e8-b8e1-6712089703c9",
   "metadata": {},
   "outputs": [],
   "source": [
    "SEED = 2024"
   ]
  },
  {
   "cell_type": "markdown",
   "id": "0ccf4792-19f1-4d01-b9c2-ddea2462cadc",
   "metadata": {},
   "source": [
    "## Initialize Path"
   ]
  },
  {
   "cell_type": "code",
   "execution_count": null,
   "id": "bcd545b8-0e15-41e9-92a9-4d0bf260c8b8",
   "metadata": {},
   "outputs": [],
   "source": [
    "PATH = Path('data')\n",
    "checkpoint_dir = PATH / 'saes'\n",
    "checkpoint_dir.mkdir(exist_ok=True, parents=True)\n",
    "checkpoint_path1 = checkpoint_dir / 'best-checkpoint-v1.ckpt'\n",
    "checkpoint_path2 = checkpoint_dir / 'best-checkpoint.ckpt'\n",
    "\n",
    "image_dir = PATH / 'images'\n",
    "image_path = image_dir / '1024.png'"
   ]
  },
  {
   "cell_type": "markdown",
   "id": "be07aad4-53a7-456b-b026-80295db7d84d",
   "metadata": {},
   "source": [
    "## Initialize simple dataset"
   ]
  },
  {
   "cell_type": "code",
   "execution_count": null,
   "id": "c3ddebc9-6b60-403d-aaa1-13c71e3215e6",
   "metadata": {},
   "outputs": [],
   "source": [
    "# Updated MNIST data loaders with normalization and validation set\n",
    "def prepare_data(batch_size=128):\n",
    "    # Normalize to [0, 1] for MNIST\n",
    "    transform = transforms.Compose([\n",
    "        transforms.ToTensor(),\n",
    "        transforms.Normalize((0.1307,), (0.3081,)),  # Mean and std from MNIST\n",
    "        transforms.Lambda(lambda x: x.view(-1))  # Flatten the image\n",
    "    ])\n",
    "\n",
    "    # Training set\n",
    "    train_dataset = datasets.MNIST(root='./data', train=True, transform=transform, download=True)\n",
    "    train_loader = DataLoader(train_dataset, batch_size=batch_size, shuffle=True)\n",
    "\n",
    "    # Validation set\n",
    "    val_dataset = datasets.MNIST(root='./data', train=False, transform=transform, download=True)\n",
    "    val_loader = DataLoader(val_dataset, batch_size=batch_size, shuffle=False)\n",
    "\n",
    "    return train_dataset, train_loader, val_dataset, val_loader\n"
   ]
  },
  {
   "cell_type": "code",
   "execution_count": null,
   "id": "20e2e843-2637-46e4-bd85-c66eeb5224a9",
   "metadata": {},
   "outputs": [],
   "source": [
    "train_dataset, train_loader, val_dataset, val_loader = prepare_data()"
   ]
  },
  {
   "cell_type": "markdown",
   "id": "807137b2-c1f9-42eb-a4aa-2ad0f60c93b2",
   "metadata": {},
   "source": [
    "## Initialize model"
   ]
  },
  {
   "cell_type": "code",
   "execution_count": null,
   "id": "bd04ffc9-65fa-480f-9892-ecb7cc1f13b1",
   "metadata": {},
   "outputs": [],
   "source": [
    "import requests\n",
    "import numpy as np\n",
    "from tqdm import tqdm\n",
    "\n",
    "# Neuronpedia API base URL\n",
    "NEURONPEDIA_API_URL = \"https://api.neuronpedia.org\"\n",
    "\n",
    "def get_sae_activations(token_texts, model=\"gpt2-small\", layer=0):\n",
    "    \"\"\"\n",
    "    Queries Neuronpedia API to get SAE encoder activations per token.\n",
    "    \n",
    "    Parameters:\n",
    "        token_texts (list): List of token strings.\n",
    "        model (str): Model name (e.g., \"gpt2-small\").\n",
    "        layer (int): Model layer to fetch activations from.\n",
    "\n",
    "    Returns:\n",
    "        list: SAE encoder activations, one per token.\n",
    "    \"\"\"\n",
    "    activations = []\n",
    "\n",
    "    for token in tqdm(token_texts, desc=\"Fetching SAE activations\"):\n",
    "        # Neuronpedia API request\n",
    "        response = requests.get(\n",
    "            f\"{NEURONPEDIA_API_URL}/activations\",\n",
    "            params={\n",
    "                \"model\": model,\n",
    "                \"layer\": layer,\n",
    "                \"token\": token\n",
    "            }\n",
    "        )\n",
    "        \n",
    "        if response.status_code == 200:\n",
    "            data = response.json()\n",
    "            # Extract SAE activation (assuming it's under \"sae_activations\" in API response)\n",
    "            sae_activation = np.array(data.get(\"sae_activations\", []))\n",
    "            activations.append(sae_activation)\n",
    "        else:\n",
    "            print(f\"Error fetching activation for token '{token}': {response.status_code}\")\n",
    "            activations.append(None)  # Placeholder for failed requests\n",
    "    \n",
    "    return activations"
   ]
  },
  {
   "cell_type": "code",
   "execution_count": null,
   "id": "8f66591c-3401-4ef4-a2a7-a7ba0a4bd254",
   "metadata": {},
   "outputs": [],
   "source": [
    "# Example list of tokens\n",
    "tokens = [\"hello\", \"world\", \"AI\", \"neural\", \"networks\"]\n",
    "\n",
    "# Get SAE activations\n",
    "sae_vectors = get_sae_activations(tokens, model=\"gpt2-small\", layer=8)\n",
    "\n",
    "# Print first activation vector\n",
    "print(sae_vectors[0])"
   ]
  },
  {
   "cell_type": "code",
   "execution_count": null,
   "id": "e549b2fa-eab3-40d7-9535-27d0d70bbcc3",
   "metadata": {},
   "outputs": [],
   "source": [
    "import os\n",
    "import requests\n",
    "import numpy as np\n",
    "from tqdm import tqdm\n",
    "\n",
    "# Ensure the API key is set\n",
    "API_KEY = 'sk-np-mnRaXxy4X435g9rmbU9WTOPHVS8Pp7mR0TiksZeEPRY0'\n",
    "if not API_KEY:\n",
    "    raise ValueError(\"Please set the NEURONPEDIA_API_KEY environment variable.\")\n",
    "\n",
    "# Neuronpedia API base URL\n",
    "NEURONPEDIA_API_URL = \"https://neuronpedia.org/api\"\n",
    "\n",
    "def get_sae_activations(tokens, model_id=\"gpt2-small\", layer=0):\n",
    "    \"\"\"\n",
    "    Fetches SAE encoder activations for a list of tokens from the Neuronpedia API.\n",
    "\n",
    "    Parameters:\n",
    "        tokens (list): List of token strings.\n",
    "        model_id (str): Model identifier (e.g., \"gpt2-small\").\n",
    "        layer (int): Layer number to fetch activations from.\n",
    "\n",
    "    Returns:\n",
    "        list: SAE encoder activations for each token.\n",
    "    \"\"\"\n",
    "    headers = {\n",
    "        \"Authorization\": f\"Bearer {API_KEY}\",\n",
    "        \"Content-Type\": \"application/json\"\n",
    "    }\n",
    "    activations = []\n",
    "\n",
    "    for token in tqdm(tokens, desc=\"Fetching SAE activations\"):\n",
    "        # Construct the API endpoint\n",
    "        endpoint = f\"{NEURONPEDIA_API_URL}/activation/{model_id}/{layer}/{token}\"\n",
    "        \n",
    "        # Make the API request\n",
    "        response = requests.get(endpoint, headers=headers)\n",
    "        \n",
    "        if response.status_code == 200:\n",
    "            data = response.json()\n",
    "            # Extract SAE activation (assuming it's under \"sae_activation\" in the response)\n",
    "            sae_activation = np.array(data.get(\"sae_activation\", []))\n",
    "            activations.append(sae_activation)\n",
    "        else:\n",
    "            print(f\"Error fetching activation for token '{token}': {response.status_code}\")\n",
    "            activations.append(None)  # Placeholder for failed requests\n",
    "    \n",
    "    return activations"
   ]
  },
  {
   "cell_type": "code",
   "execution_count": null,
   "id": "afb8616c-d7cc-4042-aa85-1c23a6a742ab",
   "metadata": {},
   "outputs": [],
   "source": [
    "import requests\n",
    "import os\n",
    "\n",
    "API_KEY = API_KEY #os.getenv(\"NEURONPEDIA_API_KEY\")\n",
    "if not API_KEY:\n",
    "    raise ValueError(\"Please set the NEURONPEDIA_API_KEY environment variable.\")\n",
    "\n",
    "headers = {\n",
    "    \"Authorization\": f\"Bearer {API_KEY}\",\n",
    "    \"Content-Type\": \"application/json\"\n",
    "}\n",
    "\n",
    "response = requests.get(\"https://neuronpedia.org/api/your_endpoint\", headers=headers)\n",
    "\n",
    "if response.status_code == 200:\n",
    "    data = response.json()\n",
    "    # Process your data here\n",
    "else:\n",
    "    print(f\"Error: {response.status_code} - {response.text}\")"
   ]
  },
  {
   "cell_type": "code",
   "execution_count": null,
   "id": "cc065e75-1d61-47f9-95c0-d9abfe9dbba5",
   "metadata": {},
   "outputs": [],
   "source": [
    "# Example list of tokens\n",
    "tokens = [\"hello\", \"world\", \"AI\", \"neural\", \"networks\"]\n",
    "\n",
    "# Fetch SAE activations\n",
    "sae_vectors = get_sae_activations(tokens, model_id=\"gpt2-small\", layer=8)\n",
    "\n",
    "# Display the first activation vector\n",
    "print(sae_vectors[0])"
   ]
  },
  {
   "cell_type": "code",
   "execution_count": null,
   "id": "6dd06fd2-0eff-4174-9910-d0be76116d5f",
   "metadata": {},
   "outputs": [],
   "source": []
  }
 ],
 "metadata": {
  "kernelspec": {
   "display_name": "Python 3 (ipykernel)",
   "language": "python",
   "name": "python3"
  },
  "language_info": {
   "codemirror_mode": {
    "name": "ipython",
    "version": 3
   },
   "file_extension": ".py",
   "mimetype": "text/x-python",
   "name": "python",
   "nbconvert_exporter": "python",
   "pygments_lexer": "ipython3",
   "version": "3.12.9"
  }
 },
 "nbformat": 4,
 "nbformat_minor": 5
}
