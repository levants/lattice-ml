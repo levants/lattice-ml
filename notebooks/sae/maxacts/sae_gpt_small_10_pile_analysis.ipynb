{
 "cells": [
  {
   "cell_type": "code",
   "execution_count": null,
   "id": "71ce37e9",
   "metadata": {},
   "outputs": [],
   "source": [
    "%load_ext autoreload\n",
    "%autoreload 2\n",
    "\n",
    "%matplotlib inline"
   ]
  },
  {
   "cell_type": "markdown",
   "id": "5b560092",
   "metadata": {},
   "source": [
    "## Install libraries"
   ]
  },
  {
   "cell_type": "markdown",
   "id": "89885fa7",
   "metadata": {},
   "source": [
    "```bash\n",
    "conda create -n edu4 python=3.11 jupyter matplotlib\n",
    "```"
   ]
  },
  {
   "cell_type": "markdown",
   "id": "cd23589d",
   "metadata": {},
   "source": [
    "```bash \n",
    "! pip install -U -r requirements.txt\n",
    "```"
   ]
  },
  {
   "cell_type": "markdown",
   "id": "9d16321f",
   "metadata": {},
   "source": [
    "```bash\n",
    "! pip install -U numpy\n",
    "! pip install -U scikit-learn\n",
    "```"
   ]
  },
  {
   "cell_type": "markdown",
   "id": "b4cab43a",
   "metadata": {},
   "source": [
    "## Update repository"
   ]
  },
  {
   "cell_type": "code",
   "execution_count": null,
   "id": "46bcb5dc",
   "metadata": {},
   "outputs": [],
   "source": [
    "# ! git pull"
   ]
  },
  {
   "cell_type": "markdown",
   "id": "bad216da",
   "metadata": {},
   "source": [
    "## Add import path"
   ]
  },
  {
   "cell_type": "code",
   "execution_count": null,
   "id": "baafb705",
   "metadata": {},
   "outputs": [],
   "source": [
    "import os\n",
    "import sys\n",
    "import gc"
   ]
  },
  {
   "cell_type": "code",
   "execution_count": null,
   "id": "b2930983",
   "metadata": {},
   "outputs": [],
   "source": [
    "module_path = os.path.abspath(os.path.join('..'))\n",
    "if module_path not in sys.path:\n",
    "    sys.path.append(module_path)"
   ]
  },
  {
   "cell_type": "code",
   "execution_count": null,
   "id": "83ccfcbd-f80f-4f27-b3a0-3f06deade10c",
   "metadata": {},
   "outputs": [],
   "source": [
    "module_path = os.path.abspath(os.path.join('../..'))\n",
    "if module_path not in sys.path:\n",
    "    sys.path.append(module_path)"
   ]
  },
  {
   "cell_type": "code",
   "execution_count": null,
   "id": "c81ee80e-f996-41c9-914e-b619ec839c05",
   "metadata": {},
   "outputs": [],
   "source": [
    "module_path = os.path.abspath(os.path.join('../../..'))\n",
    "if module_path not in sys.path:\n",
    "    sys.path.append(module_path)"
   ]
  },
  {
   "cell_type": "code",
   "execution_count": null,
   "id": "7984d32f",
   "metadata": {},
   "outputs": [],
   "source": [
    "del module_path"
   ]
  },
  {
   "cell_type": "markdown",
   "id": "07a1e9c8",
   "metadata": {},
   "source": [
    "## Organize imports"
   ]
  },
  {
   "cell_type": "code",
   "execution_count": null,
   "id": "7927f283-cc9b-4268-be85-2874379b118c",
   "metadata": {},
   "outputs": [],
   "source": [
    "from transformers import AutoModelForCausalLM, BitsAndBytesConfig, AutoTokenizer\n",
    "from huggingface_hub import hf_hub_download, notebook_login\n",
    "import numpy as np\n",
    "import torch\n",
    "from torch import nn"
   ]
  },
  {
   "cell_type": "code",
   "execution_count": null,
   "id": "722e0e45-414d-4190-844f-7b44801b2d11",
   "metadata": {},
   "outputs": [],
   "source": [
    "from sae_lens import SAE, HookedSAETransformer\n",
    "from transformer_lens.utils import tokenize_and_concatenate"
   ]
  },
  {
   "cell_type": "code",
   "execution_count": null,
   "id": "f3bae2ba-8269-4513-b108-642257dfc72a",
   "metadata": {},
   "outputs": [],
   "source": [
    "from transformer_lens import HookedTransformer"
   ]
  },
  {
   "cell_type": "code",
   "execution_count": null,
   "id": "5319114e-c41f-4894-a05d-c4b428289a00",
   "metadata": {},
   "outputs": [],
   "source": [
    "from datasets import load_dataset"
   ]
  },
  {
   "cell_type": "code",
   "execution_count": null,
   "id": "ae177357",
   "metadata": {},
   "outputs": [],
   "source": [
    "import multiprocessing\n",
    "from pathlib import Path"
   ]
  },
  {
   "cell_type": "code",
   "execution_count": null,
   "id": "2730a69b-c412-4bfe-a3a8-7ff234315280",
   "metadata": {},
   "outputs": [],
   "source": [
    "from tqdm import tqdm"
   ]
  },
  {
   "cell_type": "code",
   "execution_count": null,
   "id": "a523557a",
   "metadata": {},
   "outputs": [],
   "source": [
    "import seaborn as sns"
   ]
  },
  {
   "cell_type": "code",
   "execution_count": null,
   "id": "25750a3d",
   "metadata": {},
   "outputs": [],
   "source": [
    "import matplotlib.pyplot as plt\n",
    "import numpy as np\n",
    "import pandas as pd"
   ]
  },
  {
   "cell_type": "code",
   "execution_count": null,
   "id": "5aa458ae-d6a5-4496-bb58-ba54f1ee3635",
   "metadata": {},
   "outputs": [],
   "source": [
    "from scipy.sparse import csr_matrix"
   ]
  },
  {
   "cell_type": "code",
   "execution_count": null,
   "id": "902f802d-fa9c-4e26-9df1-ae621014e9de",
   "metadata": {},
   "outputs": [],
   "source": [
    "import plotly.express as px"
   ]
  },
  {
   "cell_type": "code",
   "execution_count": null,
   "id": "ee894933-eba4-4742-8fa2-51b2cff5cf6d",
   "metadata": {},
   "outputs": [],
   "source": [
    "from src.lattmc.fca.utils import *\n",
    "from src.lattmc.fca.data_utils import *\n",
    "from src.lattmc.fca.image_utils import *\n",
    "from src.lattmc.fca.models import *\n",
    "from src.lattmc.fca.fca_utils import *\n",
    "from src.lattmc.fca.image_gens import *"
   ]
  },
  {
   "cell_type": "code",
   "execution_count": null,
   "id": "5545b35f-c8f8-4f2f-b891-a29bf6f96a36",
   "metadata": {},
   "outputs": [],
   "source": [
    "from src.lattmc.sae.nlp_sae_utils import *"
   ]
  },
  {
   "cell_type": "code",
   "execution_count": null,
   "id": "ebc02393-d2ee-4638-97b3-b8994e4191d6",
   "metadata": {},
   "outputs": [],
   "source": [
    "import logging"
   ]
  },
  {
   "cell_type": "markdown",
   "id": "65f31e93",
   "metadata": {},
   "source": [
    "#### Number of CPU cores"
   ]
  },
  {
   "cell_type": "code",
   "execution_count": null,
   "id": "b41c30f2",
   "metadata": {},
   "outputs": [],
   "source": [
    "workers = multiprocessing.cpu_count()\n",
    "workers"
   ]
  },
  {
   "cell_type": "code",
   "execution_count": null,
   "id": "59f41838-322d-41e8-b8e1-6712089703c9",
   "metadata": {},
   "outputs": [],
   "source": [
    "SEED = 2024"
   ]
  },
  {
   "cell_type": "code",
   "execution_count": null,
   "id": "c5516efd-39d7-4d19-9112-4a1bd0efcd30",
   "metadata": {},
   "outputs": [],
   "source": [
    "logging.basicConfig(level=logging.INFO)"
   ]
  },
  {
   "cell_type": "code",
   "execution_count": null,
   "id": "9e1c0d14-575c-491c-88a3-85f70fae7875",
   "metadata": {},
   "outputs": [],
   "source": [
    "device = init_device()"
   ]
  },
  {
   "cell_type": "code",
   "execution_count": null,
   "id": "1e9fcf4c-09fe-4262-b975-56a627c02797",
   "metadata": {},
   "outputs": [],
   "source": [
    "torch.__version__"
   ]
  },
  {
   "cell_type": "code",
   "execution_count": null,
   "id": "f6916c3b-746f-4169-98eb-49d20824e8ef",
   "metadata": {},
   "outputs": [],
   "source": [
    "np.__version__"
   ]
  },
  {
   "cell_type": "markdown",
   "id": "0ccf4792-19f1-4d01-b9c2-ddea2462cadc",
   "metadata": {},
   "source": [
    "## Initialize Path"
   ]
  },
  {
   "cell_type": "code",
   "execution_count": null,
   "id": "bcd545b8-0e15-41e9-92a9-4d0bf260c8b8",
   "metadata": {},
   "outputs": [],
   "source": [
    "PATH = Path('../data')\n",
    "dataset_suffix = 'pile'\n",
    "vectors_name = f'gpt2_small_10_{dataset_suffix}'\n",
    "checkpoint_dir = PATH / 'saes'\n",
    "checkpoint_dir.mkdir(exist_ok=True, parents=True)\n",
    "vectors_dir = checkpoint_dir / f'{vectors_name}_vecs'\n",
    "vectors_dir.mkdir(exist_ok=True, parents=True)\n",
    "matrix_dir = checkpoint_dir / f'{vectors_name}_mats'\n",
    "matrix_dir.mkdir(exist_ok=True, parents=True)\n",
    "vectors_path = checkpoint_dir / f'{vectors_name}_vecs.joblib'\n",
    "\n",
    "image_dir = PATH / 'images'\n",
    "image_path = image_dir / '1024.png'"
   ]
  },
  {
   "cell_type": "markdown",
   "id": "be07aad4-53a7-456b-b026-80295db7d84d",
   "metadata": {},
   "source": [
    "## Initialize simple dataset"
   ]
  },
  {
   "cell_type": "code",
   "execution_count": null,
   "id": "c3ddebc9-6b60-403d-aaa1-13c71e3215e6",
   "metadata": {},
   "outputs": [],
   "source": [
    "dataset = load_dataset(\n",
    "    path='NeelNanda/pile-10k',\n",
    "    split='train',\n",
    "    streaming=False,\n",
    ")"
   ]
  },
  {
   "cell_type": "markdown",
   "id": "807137b2-c1f9-42eb-a4aa-2ad0f60c93b2",
   "metadata": {},
   "source": [
    "## Initialize model"
   ]
  },
  {
   "cell_type": "code",
   "execution_count": null,
   "id": "f79a6c4d-2e8b-4605-b21b-757446d5130d",
   "metadata": {},
   "outputs": [],
   "source": [
    "layer = 10"
   ]
  },
  {
   "cell_type": "code",
   "execution_count": null,
   "id": "f881273d-0cd8-4ded-ba37-94e1fb692672",
   "metadata": {},
   "outputs": [],
   "source": [
    "def gen_concept(idx, val, shape=24576):\n",
    "    v_idx = np.zeros((shape,), dtype=float)\n",
    "    v_idx[idx] = val\n",
    "    concept = fca.G_FG(v_idx)\n",
    "    \n",
    "    return v_idx, concept"
   ]
  },
  {
   "cell_type": "code",
   "execution_count": null,
   "id": "cf3938d2-4b5a-4132-98c9-c694a5a3d859",
   "metadata": {},
   "outputs": [],
   "source": [
    "model_name = 'gpt2-small'\n",
    "release = 'gpt2-small-res-jb'\n",
    "sae_id = f'blocks.{layer}.hook_resid_pre'\n",
    "net = Text2Sae(\n",
    "    model_name,\n",
    "    release,\n",
    "    sae_id,\n",
    "    device\n",
    ")"
   ]
  },
  {
   "cell_type": "markdown",
   "id": "bbb39674-f5fa-4f57-8991-62f9426c119b",
   "metadata": {},
   "source": [
    "## Generate V Lattice"
   ]
  },
  {
   "cell_type": "code",
   "execution_count": null,
   "id": "8dd176eb-71f5-49be-8437-f82b3e31ec33",
   "metadata": {},
   "outputs": [],
   "source": [
    "gc.collect()"
   ]
  },
  {
   "cell_type": "code",
   "execution_count": null,
   "id": "231000a1-a1f8-4e46-9d0f-a044303ecbfa",
   "metadata": {},
   "outputs": [],
   "source": [
    "init_matrices(matrix_dir, dataset, net)"
   ]
  },
  {
   "cell_type": "code",
   "execution_count": null,
   "id": "8146f4c2-0afc-4d1d-a5fc-626cc70d5151",
   "metadata": {},
   "outputs": [],
   "source": [
    "gc.collect()"
   ]
  },
  {
   "cell_type": "code",
   "execution_count": null,
   "id": "6ec4b435-3dd2-45c1-96e9-1ffe691224d7",
   "metadata": {},
   "outputs": [],
   "source": [
    "V = init_vectors(vectors_path, matrix_dir, segment=False)"
   ]
  },
  {
   "cell_type": "markdown",
   "id": "0005806a-6eeb-4311-87df-39eec9dbd658",
   "metadata": {},
   "source": [
    "## Generate Context and Analyze"
   ]
  },
  {
   "cell_type": "code",
   "execution_count": null,
   "id": "072c63b3-eb8a-40a3-b401-ae3608913bae",
   "metadata": {},
   "outputs": [],
   "source": [
    "gc.collect()"
   ]
  },
  {
   "cell_type": "code",
   "execution_count": null,
   "id": "2e56f105-3ffd-4732-a9de-5caa3b92f707",
   "metadata": {},
   "outputs": [],
   "source": [
    "fca = FCA(V)"
   ]
  },
  {
   "cell_type": "code",
   "execution_count": null,
   "id": "0621cd3b-5766-416a-9587-1031df08e49b",
   "metadata": {},
   "outputs": [],
   "source": [
    "text1 = \" The Golden Gate Bridge\"\n",
    "z = net.encode(text1)\n",
    "zs = z.to('cpu').detach().numpy()[0]\n",
    "v = np.maximum.reduce(zs)"
   ]
  },
  {
   "cell_type": "code",
   "execution_count": null,
   "id": "f8c4693a-3dc5-481e-8301-cffc0a6ee6c9",
   "metadata": {},
   "outputs": [],
   "source": [
    "zs[1:].shape"
   ]
  },
  {
   "cell_type": "code",
   "execution_count": null,
   "id": "09cb753a-491a-4012-b5a4-7730db141b27",
   "metadata": {},
   "outputs": [],
   "source": [
    "zs.shape"
   ]
  },
  {
   "cell_type": "code",
   "execution_count": null,
   "id": "cf1e4ed1-3a85-4f49-9398-9a5c1879ae73",
   "metadata": {},
   "outputs": [],
   "source": [
    "v[19837]"
   ]
  },
  {
   "cell_type": "markdown",
   "id": "efd4d8f9-dd9c-43af-9dc2-426cb27d019f",
   "metadata": {},
   "source": [
    "## Golden Feature from Neuronscope"
   ]
  },
  {
   "cell_type": "code",
   "execution_count": null,
   "id": "09b09491-4bfc-4bd2-88d7-276660dfa121",
   "metadata": {},
   "outputs": [],
   "source": [
    "v_golden, concept = gen_concept(19837, 90)\n",
    "v_golden.shape, concept"
   ]
  },
  {
   "cell_type": "code",
   "execution_count": null,
   "id": "d3c1f41a-f83f-4997-ae57-1dfc22d75d90",
   "metadata": {
    "scrolled": true
   },
   "outputs": [],
   "source": [
    "dataset[concept.A[0].item()]"
   ]
  },
  {
   "cell_type": "markdown",
   "id": "29f1ba4d-4cfe-45a9-b2a8-dd44c5e1d74b",
   "metadata": {},
   "source": [
    "## Cat Feature from Neuronscope"
   ]
  },
  {
   "cell_type": "code",
   "execution_count": null,
   "id": "d3755543-9d06-4e89-a1a6-9d01969df6d2",
   "metadata": {},
   "outputs": [],
   "source": [
    "v_cat, concept = gen_concept(16899, 80)\n",
    "v_cat.shape, concept"
   ]
  },
  {
   "cell_type": "code",
   "execution_count": null,
   "id": "b23d8f06-fcc9-4bb6-8bec-4705ccf07088",
   "metadata": {
    "scrolled": true
   },
   "outputs": [],
   "source": [
    "dataset[concept.A[0].item()]"
   ]
  },
  {
   "cell_type": "markdown",
   "id": "05f3a1af-678b-41d3-9037-2533434bd419",
   "metadata": {},
   "source": [
    "## Apple Feature from Neuronscope"
   ]
  },
  {
   "cell_type": "code",
   "execution_count": null,
   "id": "48ae2226-35f6-4ea4-a35a-c64a8e044f1e",
   "metadata": {},
   "outputs": [],
   "source": [
    "v_apple, concept = gen_concept(4269, 70)\n",
    "v_apple.shape, concept"
   ]
  },
  {
   "cell_type": "code",
   "execution_count": null,
   "id": "5690c014-6f86-4cbd-bea6-e0bf97c020eb",
   "metadata": {
    "scrolled": true
   },
   "outputs": [],
   "source": [
    "dataset[concept.A[0].item()]"
   ]
  },
  {
   "cell_type": "markdown",
   "id": "ac1a5a29-9e18-40dc-835b-c3907e7af913",
   "metadata": {},
   "source": [
    "## Thunder and Lightning Feature from Neuronscope"
   ]
  },
  {
   "cell_type": "code",
   "execution_count": null,
   "id": "c4bdc718-8122-4ae7-97ba-ba72bcf31f9a",
   "metadata": {},
   "outputs": [],
   "source": [
    "v_thunder, concept = gen_concept(23123, 40)\n",
    "v_thunder.shape, concept"
   ]
  },
  {
   "cell_type": "code",
   "execution_count": null,
   "id": "84248426-4e72-4d31-8dda-296940a2271a",
   "metadata": {
    "scrolled": true
   },
   "outputs": [],
   "source": [
    "dataset[concept.A[0].item()]"
   ]
  },
  {
   "cell_type": "markdown",
   "id": "e05796f0-14fa-4bb1-a798-21c0e1396e45",
   "metadata": {},
   "source": [
    "## School and Lightning Feature from Neuronscope"
   ]
  },
  {
   "cell_type": "code",
   "execution_count": null,
   "id": "dbca8239-af3f-4f0f-b603-a6862ca6153a",
   "metadata": {},
   "outputs": [],
   "source": [
    "v_school, concept = gen_concept(20781, 84)\n",
    "v_school.shape, concept"
   ]
  },
  {
   "cell_type": "code",
   "execution_count": null,
   "id": "9ad58f80-5506-4515-b639-b49d7e438208",
   "metadata": {},
   "outputs": [],
   "source": [
    "dataset[concept.A[0].item()]"
   ]
  },
  {
   "cell_type": "markdown",
   "id": "8297c2cd-e139-4aff-8942-78acb5450a1b",
   "metadata": {},
   "source": [
    "## King and Lightning Feature from Neuronscope"
   ]
  },
  {
   "cell_type": "code",
   "execution_count": null,
   "id": "01cfe934-662b-46d3-a9f2-46287808f943",
   "metadata": {},
   "outputs": [],
   "source": [
    "v_king, concept = gen_concept(17624, 60)\n",
    "v_king.shape, concept"
   ]
  },
  {
   "cell_type": "code",
   "execution_count": null,
   "id": "e09effa2-d3c3-4296-83dd-915f7fc33306",
   "metadata": {
    "scrolled": true
   },
   "outputs": [],
   "source": [
    "dataset[concept.A[1].item()]"
   ]
  },
  {
   "cell_type": "markdown",
   "id": "19035267-e023-40f2-85a1-2dd94764c2f7",
   "metadata": {},
   "source": [
    "## Orgs and Lightning Feature from Neuronscope"
   ]
  },
  {
   "cell_type": "code",
   "execution_count": null,
   "id": "c9d53ddb-32a0-482b-b320-c002fced5fc1",
   "metadata": {},
   "outputs": [],
   "source": [
    "v_orgs, concept = gen_concept(16660, 60)\n",
    "v_orgs.shape, concept"
   ]
  },
  {
   "cell_type": "code",
   "execution_count": null,
   "id": "3ddc0a7c-b9c2-4d67-8818-bf47496393ad",
   "metadata": {
    "scrolled": true
   },
   "outputs": [],
   "source": [
    "dataset[concept.A[0].item()]"
   ]
  },
  {
   "cell_type": "markdown",
   "id": "a2343316-a0bc-42ff-8aa6-df197233f0ca",
   "metadata": {},
   "source": [
    "## States and Lightning Feature from Neuronscope"
   ]
  },
  {
   "cell_type": "code",
   "execution_count": null,
   "id": "48ae6542-1e9f-46ac-9879-1b72d46b6a79",
   "metadata": {},
   "outputs": [],
   "source": [
    "v_state, concept = gen_concept(22, 10)\n",
    "v_state.shape, concept"
   ]
  },
  {
   "cell_type": "code",
   "execution_count": null,
   "id": "68739003-cee1-4a21-aed0-58475071f3b2",
   "metadata": {
    "scrolled": true
   },
   "outputs": [],
   "source": [
    "dataset[concept.A[0].item()]"
   ]
  },
  {
   "cell_type": "markdown",
   "id": "c8958930-f4c6-4b95-ba53-c54087bc9c50",
   "metadata": {},
   "source": [
    "## Joint concepts"
   ]
  },
  {
   "cell_type": "code",
   "execution_count": null,
   "id": "0946690a-4ad4-423f-a92b-10e764fbf510",
   "metadata": {},
   "outputs": [],
   "source": [
    "# topK(v_orgs, 4), topK(v_school, 4)"
   ]
  },
  {
   "cell_type": "code",
   "execution_count": null,
   "id": "3c4d7324-3f00-4245-80f8-aba333895965",
   "metadata": {},
   "outputs": [],
   "source": [
    "v_orgs = np.zeros_like(to_numpy(v))\n",
    "v_school = np.zeros_like(to_numpy(v))\n",
    "v_having = np.zeros_like(to_numpy(v))"
   ]
  },
  {
   "cell_type": "code",
   "execution_count": null,
   "id": "a0e28963-92af-440f-ae4b-581fe6696cdf",
   "metadata": {},
   "outputs": [],
   "source": [
    "v_orgs[16660] = 20\n",
    "v_school[17624] = 20\n",
    "v_having[17935] = 6"
   ]
  },
  {
   "cell_type": "code",
   "execution_count": null,
   "id": "82566bb5-1b5f-42d3-8d28-f3f5690ea154",
   "metadata": {},
   "outputs": [],
   "source": [
    "orgs = fca.G_FG(v_orgs)\n",
    "schools = fca.G_FG(v_school)\n",
    "havings = fca.G_FG(v_having)\n",
    "orgs, schools, havings"
   ]
  },
  {
   "cell_type": "code",
   "execution_count": null,
   "id": "4f61ab65-88f1-491d-b741-893103d66f65",
   "metadata": {},
   "outputs": [],
   "source": [
    "org_school = orgs & schools\n",
    "org_school"
   ]
  },
  {
   "cell_type": "code",
   "execution_count": null,
   "id": "05f3c39c-67e5-439b-a4c0-10d638d40fb9",
   "metadata": {
    "scrolled": true
   },
   "outputs": [],
   "source": [
    "dataset[org_school.A[0].item()]['text']"
   ]
  },
  {
   "cell_type": "code",
   "execution_count": null,
   "id": "6f29cf9a-a1b9-412e-b8c8-cce6c434ddfc",
   "metadata": {},
   "outputs": [],
   "source": [
    "org_school_havings = orgs & schools & havings \n",
    "org_school_havings"
   ]
  },
  {
   "cell_type": "code",
   "execution_count": null,
   "id": "1fcdb7b9-3b2e-4694-b1d6-66543b8516b8",
   "metadata": {
    "scrolled": true
   },
   "outputs": [],
   "source": [
    "dataset[org_school_havings.A[0].item()]['text']"
   ]
  },
  {
   "cell_type": "markdown",
   "id": "29ca97e3-d27d-4ef9-86d7-08687bb68060",
   "metadata": {},
   "source": [
    "## Recipie Feature from Neuronscope"
   ]
  },
  {
   "cell_type": "code",
   "execution_count": null,
   "id": "6c125ea2-bb70-4d56-b124-180bb82583a3",
   "metadata": {},
   "outputs": [],
   "source": [
    "v_recipie, concept = gen_concept(7, 28)\n",
    "v_recipie.shape, concept"
   ]
  },
  {
   "cell_type": "code",
   "execution_count": null,
   "id": "699f6115-effc-4ec7-add0-b77ba50f9382",
   "metadata": {},
   "outputs": [],
   "source": [
    "dataset[concept.A[0].item()]"
   ]
  },
  {
   "cell_type": "markdown",
   "id": "5cce9f26-7d92-44d4-8a10-06a733700451",
   "metadata": {},
   "source": [
    "## Election Feature from Neuronscope"
   ]
  },
  {
   "cell_type": "code",
   "execution_count": null,
   "id": "ca8534c5-1e2d-4a24-97ee-d0067804e670",
   "metadata": {},
   "outputs": [],
   "source": [
    "v_elect, concept = gen_concept(29, 28)\n",
    "v_elect.shape, concept"
   ]
  },
  {
   "cell_type": "code",
   "execution_count": null,
   "id": "5736f63a-70d1-44ac-9aed-25ef25f3a10a",
   "metadata": {},
   "outputs": [],
   "source": [
    "dataset[concept.A[0].item()]"
   ]
  },
  {
   "cell_type": "markdown",
   "id": "7e40a91d-b994-4f30-8bd0-5217debd981e",
   "metadata": {},
   "source": [
    "## Mixture of Election and Party"
   ]
  },
  {
   "cell_type": "code",
   "execution_count": null,
   "id": "417a020d-edbb-44d6-9b0b-2d7ef3d15b85",
   "metadata": {},
   "outputs": [],
   "source": [
    "v_elect, concept_elects = gen_concept(29, 2)\n",
    "v_elect.shape, concept"
   ]
  },
  {
   "cell_type": "markdown",
   "id": "774d1500-19f2-40cb-887c-e4c5015dbfd9",
   "metadata": {},
   "source": [
    "## Food Features"
   ]
  },
  {
   "cell_type": "code",
   "execution_count": null,
   "id": "e6203345-ae44-4bfc-a9e0-54e25bef40c9",
   "metadata": {},
   "outputs": [],
   "source": [
    "texts = [\n",
    "    'food recipie',\n",
    "    'love',\n",
    "    'admire',\n",
    "    'sex',\n",
    "]"
   ]
  },
  {
   "cell_type": "code",
   "execution_count": null,
   "id": "1b02a465-76f8-4851-b506-0a4fd85f4ffc",
   "metadata": {},
   "outputs": [],
   "source": [
    "v = net.encode(texts[2])[0][1]\n",
    "concept = fca.G_FG(v / 4)\n",
    "concept"
   ]
  },
  {
   "cell_type": "code",
   "execution_count": null,
   "id": "2afcb4d5-e8ff-4b89-804e-f3fde939710e",
   "metadata": {
    "scrolled": true
   },
   "outputs": [],
   "source": [
    "dataset[concept.A[3].item()]"
   ]
  },
  {
   "cell_type": "code",
   "execution_count": null,
   "id": "302bd943-0a1b-4aa2-94a2-eeec077e8368",
   "metadata": {},
   "outputs": [],
   "source": [
    "topK(v, 10)"
   ]
  },
  {
   "cell_type": "code",
   "execution_count": null,
   "id": "0e5a1dfe-b3c5-460d-9273-efeae1e08e02",
   "metadata": {},
   "outputs": [],
   "source": [
    "v_love, recipie = gen_concept(14654, 20)\n",
    "v_love.shape, concept"
   ]
  },
  {
   "cell_type": "code",
   "execution_count": null,
   "id": "fc784c2e-f73c-42f9-84d0-3e2f49249363",
   "metadata": {},
   "outputs": [],
   "source": [
    "v_admire, recipie = gen_concept(14990, 20)\n",
    "v_admire.shape, concept"
   ]
  },
  {
   "cell_type": "code",
   "execution_count": null,
   "id": "909cb38c-129b-4d38-b4c3-ff379eccf255",
   "metadata": {
    "scrolled": true
   },
   "outputs": [],
   "source": [
    "dataset[concept.A[0].item()]"
   ]
  },
  {
   "cell_type": "markdown",
   "id": "9947b1e2-34d7-4e02-98d2-1ac53c8983ce",
   "metadata": {},
   "source": [
    "## Verbal Feature from Neuronscope"
   ]
  },
  {
   "cell_type": "code",
   "execution_count": null,
   "id": "f1d0430f-91c6-44cd-b3aa-e71f38d5b8d8",
   "metadata": {},
   "outputs": [],
   "source": [
    "v_verbal, concept = gen_concept(33, 40)\n",
    "v_verbal.shape, concept"
   ]
  },
  {
   "cell_type": "code",
   "execution_count": null,
   "id": "2bb2733b-0dd5-465a-aff0-9c2859e83ccc",
   "metadata": {
    "scrolled": true
   },
   "outputs": [],
   "source": [
    "dataset[concept.A[0].item()]"
   ]
  },
  {
   "cell_type": "markdown",
   "id": "e5c2852d-1b22-4e4a-8fec-a7aaf839573b",
   "metadata": {},
   "source": [
    "## Border Feature from Neuronscope"
   ]
  },
  {
   "cell_type": "code",
   "execution_count": null,
   "id": "2f02af49-249b-4c92-b8a8-3fbb41ef0f5d",
   "metadata": {},
   "outputs": [],
   "source": [
    "v_border, concept = gen_concept(35, 20)\n",
    "v_border.shape, concept"
   ]
  },
  {
   "cell_type": "code",
   "execution_count": null,
   "id": "3c430300-4ca9-4b3e-a3a0-8ece0fdb0bdf",
   "metadata": {
    "scrolled": true
   },
   "outputs": [],
   "source": [
    "dataset[concept.A[0].item()]"
   ]
  },
  {
   "cell_type": "markdown",
   "id": "f25a05d6-d59f-4d36-9dd6-47d2a0ac294c",
   "metadata": {},
   "source": [
    "## Cross Concept"
   ]
  },
  {
   "cell_type": "code",
   "execution_count": null,
   "id": "a5bcc4f8-9fe2-49ce-a0ac-7262748c6e6d",
   "metadata": {},
   "outputs": [],
   "source": [
    "v_verbal, concept_verbal = gen_concept(33, 16)\n",
    "v_border, concept_border = gen_concept(35, 16)"
   ]
  },
  {
   "cell_type": "code",
   "execution_count": null,
   "id": "f7d961f2-de02-4b0e-b4a0-353764c3bbd2",
   "metadata": {},
   "outputs": [],
   "source": [
    "cross = concept_verbal & concept_border\n",
    "cross"
   ]
  },
  {
   "cell_type": "code",
   "execution_count": null,
   "id": "5232d070-41dd-47bf-b836-6325896a50a4",
   "metadata": {
    "scrolled": true
   },
   "outputs": [],
   "source": [
    "dataset[concept.A[1].item()]"
   ]
  },
  {
   "cell_type": "markdown",
   "id": "de09617b-096e-4fe6-9489-7322f95e2535",
   "metadata": {},
   "source": [
    "## Cross Concept Probability"
   ]
  },
  {
   "cell_type": "code",
   "execution_count": null,
   "id": "3e314136-e402-4b82-b7cd-8d10283fb307",
   "metadata": {},
   "outputs": [],
   "source": [
    "v_posib, concept_posib = gen_concept(1061, 20)\n",
    "v_posit, concept_posit = gen_concept(809, 20)\n",
    "v_liklh, concept_liklh = gen_concept(418, 20)\n",
    "v_qualt, concept_qualt = gen_concept(129, 20)"
   ]
  },
  {
   "cell_type": "code",
   "execution_count": null,
   "id": "641a5e69-92ba-4dcd-8a1a-748f2c6a5753",
   "metadata": {},
   "outputs": [],
   "source": [
    "cross_pr_ps = concept_posib & concept_posit\n",
    "cross_pr_ps"
   ]
  },
  {
   "cell_type": "code",
   "execution_count": null,
   "id": "cfa216cc-5d23-4c8b-8d9f-b92110f63e29",
   "metadata": {
    "scrolled": true
   },
   "outputs": [],
   "source": [
    "dataset[cross_pr_ps.A[0].item()]"
   ]
  },
  {
   "cell_type": "code",
   "execution_count": null,
   "id": "9c85c60d-dddc-4ed8-a8f1-045d772c6e88",
   "metadata": {},
   "outputs": [],
   "source": [
    "cross_lk_ql = concept_liklh & concept_qualt\n",
    "cross_lk_ql"
   ]
  },
  {
   "cell_type": "code",
   "execution_count": null,
   "id": "dac30bb0-c501-48cc-ba70-93b726ef1f39",
   "metadata": {
    "scrolled": true
   },
   "outputs": [],
   "source": [
    "dataset[cross_lk_ql.A[0].item()]"
   ]
  },
  {
   "cell_type": "markdown",
   "id": "88031165-de08-4dc4-8e5f-205e0f1d845f",
   "metadata": {},
   "source": [
    "## Context Features"
   ]
  },
  {
   "cell_type": "code",
   "execution_count": null,
   "id": "c1ab1ccb-808b-4637-8e51-cefc859bfedd",
   "metadata": {},
   "outputs": [],
   "source": [
    "v_peval, concept_peval = gen_concept(3109, 20)\n",
    "v_evstt, concept_evstt = gen_concept(3784, 20)\n",
    "v_sosis, concept_sosis = gen_concept(3702, 20)\n",
    "v_agevs, concept_agevs = gen_concept(3388, 20)"
   ]
  },
  {
   "cell_type": "code",
   "execution_count": null,
   "id": "8afcd6ba-b4f9-490f-8f89-c815505c8981",
   "metadata": {},
   "outputs": [],
   "source": [
    "concept_pe_ev = concept_peval & concept_evstt\n",
    "concept_pe_ev"
   ]
  },
  {
   "cell_type": "code",
   "execution_count": null,
   "id": "c4fe0862-eeea-4a5e-b61a-371afe9ed706",
   "metadata": {
    "scrolled": true
   },
   "outputs": [],
   "source": [
    "dataset[concept_pe_ev.A[0].item()]"
   ]
  },
  {
   "cell_type": "code",
   "execution_count": null,
   "id": "f03e2d9a-cb6d-4bc2-b472-4018ae368bf4",
   "metadata": {},
   "outputs": [],
   "source": [
    "concept_so_ag = concept_sosis & concept_agevs\n",
    "concept_so_ag"
   ]
  },
  {
   "cell_type": "code",
   "execution_count": null,
   "id": "0a1e5d89-6836-4390-bdcd-0dd2adc56e96",
   "metadata": {
    "scrolled": true
   },
   "outputs": [],
   "source": [
    "dataset[concept_so_ag.A[0].item()]"
   ]
  },
  {
   "cell_type": "code",
   "execution_count": null,
   "id": "0c0bda7e-1e11-444f-9e8d-61b8fde1335a",
   "metadata": {},
   "outputs": [],
   "source": [
    "concept_all = concept_peval & concept_evstt & concept_sosis & concept_agevs\n",
    "concept_all"
   ]
  },
  {
   "cell_type": "code",
   "execution_count": null,
   "id": "2e23e23d-b529-4a6c-9ab0-7e952add7383",
   "metadata": {},
   "outputs": [],
   "source": [
    "dataset[concept_all.A[0].item()]"
   ]
  },
  {
   "cell_type": "markdown",
   "id": "eec9a2f7-45b0-4361-ad0e-3f83fca9e0ad",
   "metadata": {},
   "source": [
    "## Computer and Technilogies Concepts"
   ]
  },
  {
   "cell_type": "code",
   "execution_count": null,
   "id": "63792cd6-8a32-40cf-8992-82cf8144180b",
   "metadata": {},
   "outputs": [],
   "source": [
    "v_comps, concept_comps = gen_concept(20542, 14)\n",
    "v_comps.shape, concept_comps"
   ]
  },
  {
   "cell_type": "code",
   "execution_count": null,
   "id": "e58baa52-c6fb-4819-9a98-c2e02b8907ac",
   "metadata": {},
   "outputs": [],
   "source": [
    "dataset[concept_comps.A[0].item()]"
   ]
  },
  {
   "cell_type": "markdown",
   "id": "e53d3476-5a9b-480e-b6b7-10a76650272a",
   "metadata": {},
   "source": [
    "## Innovation Features"
   ]
  },
  {
   "cell_type": "code",
   "execution_count": null,
   "id": "42d6e150-5eff-47db-98ae-2a27af2f9a39",
   "metadata": {},
   "outputs": [],
   "source": [
    "v_innov, concept_innov = gen_concept(2503, 10)\n",
    "v_innov.shape, concept_innov"
   ]
  },
  {
   "cell_type": "code",
   "execution_count": null,
   "id": "d7f9c359-9e88-4ab8-a1f4-2cf43fccbe44",
   "metadata": {
    "scrolled": true
   },
   "outputs": [],
   "source": [
    "dataset[concept_innov.A[0].item()]"
   ]
  },
  {
   "cell_type": "code",
   "execution_count": null,
   "id": "e2b57285-13e4-41ff-b2a0-19de13eda14d",
   "metadata": {},
   "outputs": [],
   "source": [
    "concept_co_in = concept_comps & concept_innov\n",
    "concept_co_in"
   ]
  },
  {
   "cell_type": "code",
   "execution_count": null,
   "id": "f10b0abf-c3f0-4f6c-b94e-4b12a4cdcab8",
   "metadata": {
    "scrolled": true
   },
   "outputs": [],
   "source": [
    "dataset[concept_co_in.A[0].item()]"
   ]
  },
  {
   "cell_type": "markdown",
   "id": "65f2c174-272e-40be-8ec8-3bcf6cb5bba5",
   "metadata": {},
   "source": [
    "## Add Examples"
   ]
  },
  {
   "cell_type": "code",
   "execution_count": null,
   "id": "84580fc8-22de-40e8-b02f-e4db1a5b7d34",
   "metadata": {},
   "outputs": [],
   "source": [
    "text1 = \" The Golden Gate Bridge\"\n",
    "z = net.encode(text1)\n",
    "tokens = net.tokenize(text1)\n",
    "print(torch.topk(z, 12))\n",
    "print()\n",
    "print(z)"
   ]
  },
  {
   "cell_type": "code",
   "execution_count": null,
   "id": "2b8d3745-1dcf-4687-93a9-18cf7da5ff09",
   "metadata": {},
   "outputs": [],
   "source": [
    "r = net.encode('Golden')\n",
    "torch.topk(r[0][1], 50)"
   ]
  },
  {
   "cell_type": "code",
   "execution_count": null,
   "id": "512da159-38d9-4a7d-a99d-96a2659883c6",
   "metadata": {},
   "outputs": [],
   "source": [
    "torch.nonzero(r[0][1]).shape"
   ]
  },
  {
   "cell_type": "code",
   "execution_count": null,
   "id": "a39d8bed-dd2a-4106-a36c-b585395b8972",
   "metadata": {},
   "outputs": [],
   "source": [
    "texts = [\n",
    "    \"Golden Gate Bridge\",\n",
    "    \"New York City\",\n",
    "    \"Silicon Valley\",\n",
    "    \"The White House\",\n",
    "    \"Apple Inc.\"\n",
    "]"
   ]
  },
  {
   "cell_type": "code",
   "execution_count": null,
   "id": "81908bbb-a637-4154-a194-3be1d5972b0b",
   "metadata": {},
   "outputs": [],
   "source": [
    "texts = [\n",
    "    \"School of AI\",\n",
    "    \"School of Economics\",\n",
    "    \"School of Medicine\",\n",
    "    \"School of Arts\",\n",
    "    \"School of Technologies\"\n",
    "]"
   ]
  },
  {
   "cell_type": "code",
   "execution_count": null,
   "id": "1124c57b-bfb9-46dc-934b-21a9566d430f",
   "metadata": {},
   "outputs": [],
   "source": [
    "texts = \"Golden Retriever\"\n",
    "tokens = net.tokenize(texts)\n",
    "tokens, net.to_string(tokens)"
   ]
  },
  {
   "cell_type": "code",
   "execution_count": null,
   "id": "6333d12c-a8a7-427f-b65c-93cabfba9b75",
   "metadata": {},
   "outputs": [],
   "source": [
    "texts = \"Gold\"\n",
    "tokens = net.tokenize(texts)\n",
    "vs = net.encode(texts)\n",
    "tokens, net.to_string(tokens)"
   ]
  },
  {
   "cell_type": "code",
   "execution_count": null,
   "id": "ad7eade8-b63d-46db-85fe-563bbac995d6",
   "metadata": {},
   "outputs": [],
   "source": [
    "net.to_string(32378)"
   ]
  },
  {
   "cell_type": "code",
   "execution_count": null,
   "id": "f23d84a6-450d-4c29-ab51-6fa90d4a21a7",
   "metadata": {},
   "outputs": [],
   "source": []
  },
  {
   "cell_type": "code",
   "execution_count": null,
   "id": "50796eeb-22ae-47b7-8804-bdba312bd8ee",
   "metadata": {},
   "outputs": [],
   "source": [
    "vs = net.encode(texts)"
   ]
  },
  {
   "cell_type": "code",
   "execution_count": null,
   "id": "d6999a82-1946-4032-9916-967328912446",
   "metadata": {},
   "outputs": [],
   "source": [
    "vs.shape, vs[0].shape"
   ]
  },
  {
   "cell_type": "code",
   "execution_count": null,
   "id": "90a86e39-a72c-476e-af2e-aa01f4f2c0ac",
   "metadata": {},
   "outputs": [],
   "source": [
    "v_t = [v[1] for v in vs[:3]]\n",
    "v_t[0].shape"
   ]
  },
  {
   "cell_type": "code",
   "execution_count": null,
   "id": "d5783fb8-3d31-4218-89af-bb178f781f7c",
   "metadata": {},
   "outputs": [],
   "source": [
    "v_A = v_t[0]\n",
    "for v in v_t:\n",
    "    v_A = torch.minimum(v_A, v)"
   ]
  },
  {
   "cell_type": "code",
   "execution_count": null,
   "id": "4a110a11-684f-4cdd-85e8-e651a518c157",
   "metadata": {},
   "outputs": [],
   "source": [
    "vs[0][0].shape, 19837"
   ]
  },
  {
   "cell_type": "code",
   "execution_count": null,
   "id": "f2e06fe5-3c67-4f72-90e5-e5467900383c",
   "metadata": {},
   "outputs": [],
   "source": [
    "torch.topk(vs[0][1], 20)"
   ]
  },
  {
   "cell_type": "code",
   "execution_count": null,
   "id": "7ab8846d-6b78-4e73-b306-24b219da8467",
   "metadata": {},
   "outputs": [],
   "source": [
    "torch.topk(vs[0][1], 20)"
   ]
  },
  {
   "cell_type": "code",
   "execution_count": null,
   "id": "a3fb940e-a526-43b7-8318-2b14104fab71",
   "metadata": {},
   "outputs": [],
   "source": [
    "torch.topk(vs[0][1], 20)"
   ]
  },
  {
   "cell_type": "code",
   "execution_count": null,
   "id": "29c718f0-c0c8-4f3f-bef4-4b038d62a153",
   "metadata": {},
   "outputs": [],
   "source": [
    "torch.topk(v_A, 30)"
   ]
  },
  {
   "cell_type": "markdown",
   "id": "c07b0846-8474-4418-b5c5-b71239787d2c",
   "metadata": {},
   "source": [
    "## Golden Second Index"
   ]
  },
  {
   "cell_type": "code",
   "execution_count": null,
   "id": "b4a2df38-f0d9-44a9-91f5-12f269b6df5d",
   "metadata": {},
   "outputs": [],
   "source": [
    "v_1, concept_1 = gen_concept(21286, 16)\n",
    "v_1.shape, concept_1"
   ]
  },
  {
   "cell_type": "code",
   "execution_count": null,
   "id": "b8239d92-beaa-4e61-b0aa-bfd4fbecaa2f",
   "metadata": {
    "scrolled": true
   },
   "outputs": [],
   "source": [
    "dataset[concept_1.A[0].item()]"
   ]
  },
  {
   "cell_type": "markdown",
   "id": "ae4cea29-6c09-4e59-8732-cd2afd380006",
   "metadata": {},
   "source": [
    "## Gold Second Index"
   ]
  },
  {
   "cell_type": "code",
   "execution_count": null,
   "id": "b14d33a2-2108-4f89-a253-c1693871d317",
   "metadata": {},
   "outputs": [],
   "source": [
    "v_2, concept_2 = gen_concept(9572, 30)\n",
    "v_2.shape, concept_2"
   ]
  },
  {
   "cell_type": "code",
   "execution_count": null,
   "id": "ef1fd589-3da4-4f2f-90fe-0e5dffbeb32b",
   "metadata": {
    "scrolled": true
   },
   "outputs": [],
   "source": [
    "dataset[concept_2.A[0].item()]"
   ]
  },
  {
   "cell_type": "code",
   "execution_count": null,
   "id": "c8abbda7-a6e6-4cbb-9715-3dc0f9c00af3",
   "metadata": {},
   "outputs": [],
   "source": [
    "concept_m = concept_1 & concept_2\n",
    "concept_m"
   ]
  },
  {
   "cell_type": "code",
   "execution_count": null,
   "id": "8cb50cd1-d82d-4832-8beb-c75571b6ffb7",
   "metadata": {
    "scrolled": true
   },
   "outputs": [],
   "source": [
    "dataset[concept_m.A[1].item()]"
   ]
  },
  {
   "cell_type": "code",
   "execution_count": null,
   "id": "8873207f-9262-41e4-ac1e-c6be07823086",
   "metadata": {},
   "outputs": [],
   "source": [
    "tk = topK(V[0], 30)\n",
    "tk"
   ]
  },
  {
   "cell_type": "code",
   "execution_count": null,
   "id": "767ea246-e225-4502-a912-010b7cd5abd9",
   "metadata": {},
   "outputs": [],
   "source": [
    "v_A = np.zeros_like(v_t[0].to('cpu').detach().numpy())\n",
    "v_A[17943] = 62\n",
    "v_A[11811] = 6\n",
    "v_A[15823] = 4\n",
    "v_A[4507] = 4\n",
    "v_A[20161] = 4\n",
    "concept = fca.G_FG(v_A)\n",
    "concept"
   ]
  },
  {
   "cell_type": "code",
   "execution_count": null,
   "id": "f74c45f7-cea7-47fb-aa36-027d67c72cfb",
   "metadata": {},
   "outputs": [],
   "source": [
    "concept.A.shape, V.shape, V.shape[0] - concept.A.shape[0]"
   ]
  },
  {
   "cell_type": "code",
   "execution_count": null,
   "id": "189ace73-e5b9-4147-93db-3f2d7bcde64d",
   "metadata": {},
   "outputs": [],
   "source": [
    "concept.A[0]"
   ]
  },
  {
   "cell_type": "code",
   "execution_count": null,
   "id": "e36fd2d0-5c3e-44f9-bf78-3e0cde2f48ef",
   "metadata": {},
   "outputs": [],
   "source": [
    "dataset[concept.A[2].item()]"
   ]
  },
  {
   "cell_type": "markdown",
   "id": "62707e2c-acc2-4577-ab75-b4fe14675ecb",
   "metadata": {},
   "source": [
    "## Analyze Tokens"
   ]
  },
  {
   "cell_type": "code",
   "execution_count": null,
   "id": "ac1c853d-ffae-4f41-b44b-a6edcfe556ff",
   "metadata": {},
   "outputs": [],
   "source": [
    "len(dataset)"
   ]
  },
  {
   "cell_type": "code",
   "execution_count": null,
   "id": "431ad426-fbb0-4298-bdfa-3c77cc62ed83",
   "metadata": {},
   "outputs": [],
   "source": [
    "checks = []\n",
    "with tqdm(list(range(len(dataset)))) as pdata:\n",
    "    for idx in pdata:\n",
    "        tokens = net.tokenize(dataset[idx]['text'])[0]\n",
    "        vs = joblib.load(matrix_dir / f'{idx}.joblib')\n",
    "        checks.append(tokens.shape[0] == vs.shape[0])"
   ]
  },
  {
   "cell_type": "code",
   "execution_count": null,
   "id": "57ede1f3-d908-43c4-a29d-c515608ed4be",
   "metadata": {},
   "outputs": [],
   "source": [
    "np.all(checks)"
   ]
  },
  {
   "cell_type": "code",
   "execution_count": null,
   "id": "971a5784-e10b-448c-96a0-28d50f5d26ec",
   "metadata": {
    "scrolled": true
   },
   "outputs": [],
   "source": [
    "from IPython.display import clear_output\n",
    "v_paths = list(matrix_dir.glob('*.joblib'))\n",
    "T_dict = {}\n",
    "W_dict = {}\n",
    "with tqdm(concept.A) as v_ppaths:\n",
    "    for idx in v_ppaths:\n",
    "        vs = joblib.load(matrix_dir / f'{idx}.joblib').toarray()\n",
    "        G_x = find_G_x(vs, v_A)\n",
    "        if G_x.shape[0] > 0:\n",
    "            T_dict[idx.item()] = G_x\n",
    "        clear_output(wait=True)"
   ]
  },
  {
   "cell_type": "code",
   "execution_count": null,
   "id": "f69a730c-ce74-47b2-877e-caeab77272d2",
   "metadata": {},
   "outputs": [],
   "source": [
    "len(T_dict)"
   ]
  },
  {
   "cell_type": "code",
   "execution_count": null,
   "id": "0ebf56de-3a46-48bd-b52b-4c7682120040",
   "metadata": {},
   "outputs": [],
   "source": [
    "T_dict[5]"
   ]
  },
  {
   "cell_type": "code",
   "execution_count": null,
   "id": "6d260b11-0534-4575-ba20-477aae33b72d",
   "metadata": {},
   "outputs": [],
   "source": [
    "tokens = net.tokenize(dataset[5]['text'])"
   ]
  },
  {
   "cell_type": "code",
   "execution_count": null,
   "id": "1cb551c9-00c4-479f-931e-67e2b1dcc59c",
   "metadata": {},
   "outputs": [],
   "source": [
    "net.to_string(tokens[0][100])"
   ]
  },
  {
   "cell_type": "code",
   "execution_count": null,
   "id": "187d0928-2d52-400d-bedc-b8e1c539abe6",
   "metadata": {},
   "outputs": [],
   "source": [
    "T_dict[5]"
   ]
  },
  {
   "cell_type": "code",
   "execution_count": null,
   "id": "0a01f0e4-aef7-406d-9d7e-e9d8a23b3564",
   "metadata": {},
   "outputs": [],
   "source": [
    "net.to_string(tokens[0][0]), net.to_string(tokens[0][T_dict[5]])"
   ]
  },
  {
   "cell_type": "code",
   "execution_count": null,
   "id": "c0fa9436-fb8d-4cc6-a745-0d6872319715",
   "metadata": {},
   "outputs": [],
   "source": [
    "W_dict = {}\n",
    "for k, v in T_dict.items():\n",
    "    tokens = net.tokenize(dataset[k]['text'])[0]\n",
    "    W_dict[k] = net.to_string(tokens[v])"
   ]
  },
  {
   "cell_type": "code",
   "execution_count": null,
   "id": "6ec59adf-4761-4a9a-b47e-105107ff0f0d",
   "metadata": {
    "scrolled": true
   },
   "outputs": [],
   "source": [
    "W_dict"
   ]
  },
  {
   "cell_type": "code",
   "execution_count": null,
   "id": "760dfbbc-d795-4c7b-b09c-4aea4baa65f6",
   "metadata": {},
   "outputs": [],
   "source": []
  }
 ],
 "metadata": {
  "kernelspec": {
   "display_name": "Python 3 (ipykernel)",
   "language": "python",
   "name": "python3"
  },
  "language_info": {
   "codemirror_mode": {
    "name": "ipython",
    "version": 3
   },
   "file_extension": ".py",
   "mimetype": "text/x-python",
   "name": "python",
   "nbconvert_exporter": "python",
   "pygments_lexer": "ipython3",
   "version": "3.12.9"
  }
 },
 "nbformat": 4,
 "nbformat_minor": 5
}
