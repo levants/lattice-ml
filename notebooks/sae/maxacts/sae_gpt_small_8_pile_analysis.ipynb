{
 "cells": [
  {
   "cell_type": "code",
   "execution_count": null,
   "id": "71ce37e9",
   "metadata": {},
   "outputs": [],
   "source": [
    "%load_ext autoreload\n",
    "%autoreload 2\n",
    "\n",
    "%matplotlib inline"
   ]
  },
  {
   "cell_type": "markdown",
   "id": "5b560092",
   "metadata": {},
   "source": [
    "## Install libraries"
   ]
  },
  {
   "cell_type": "markdown",
   "id": "89885fa7",
   "metadata": {},
   "source": [
    "```bash\n",
    "conda create -n edu4 python=3.11 jupyter matplotlib\n",
    "```"
   ]
  },
  {
   "cell_type": "markdown",
   "id": "cd23589d",
   "metadata": {},
   "source": [
    "```bash \n",
    "! pip install -U -r requirements.txt\n",
    "```"
   ]
  },
  {
   "cell_type": "markdown",
   "id": "9d16321f",
   "metadata": {},
   "source": [
    "```bash\n",
    "! pip install -U numpy\n",
    "! pip install -U scikit-learn\n",
    "```"
   ]
  },
  {
   "cell_type": "markdown",
   "id": "b4cab43a",
   "metadata": {},
   "source": [
    "## Update repository"
   ]
  },
  {
   "cell_type": "code",
   "execution_count": null,
   "id": "46bcb5dc",
   "metadata": {},
   "outputs": [],
   "source": [
    "# ! git pull"
   ]
  },
  {
   "cell_type": "markdown",
   "id": "bad216da",
   "metadata": {},
   "source": [
    "## Add import path"
   ]
  },
  {
   "cell_type": "code",
   "execution_count": null,
   "id": "baafb705",
   "metadata": {},
   "outputs": [],
   "source": [
    "import gc\n",
    "import os\n",
    "import sys"
   ]
  },
  {
   "cell_type": "code",
   "execution_count": null,
   "id": "acb2d69b-1208-4910-83fe-357fef2804f7",
   "metadata": {},
   "outputs": [],
   "source": [
    "def add_library_level(level=4):\n",
    "    suf_path = ['..']\n",
    "    path = '..'\n",
    "    for i in range(0, level):\n",
    "        join_path = suf_path * i\n",
    "        path = '/'.join(join_path)\n",
    "        module_path = os.path.abspath(os.path.join(path))\n",
    "        if module_path not in sys.path:\n",
    "            sys.path.append(module_path)\n",
    "            print(f'Appendeding {path}')"
   ]
  },
  {
   "cell_type": "code",
   "execution_count": null,
   "id": "17883ca3-d72f-417c-953a-13fb7f7be2c6",
   "metadata": {},
   "outputs": [],
   "source": [
    "add_library_level(level=4)"
   ]
  },
  {
   "cell_type": "markdown",
   "id": "07a1e9c8",
   "metadata": {},
   "source": [
    "## Organize imports"
   ]
  },
  {
   "cell_type": "code",
   "execution_count": null,
   "id": "7927f283-cc9b-4268-be85-2874379b118c",
   "metadata": {},
   "outputs": [],
   "source": [
    "from transformers import AutoModelForCausalLM, BitsAndBytesConfig, AutoTokenizer\n",
    "from huggingface_hub import hf_hub_download, notebook_login\n",
    "import numpy as np\n",
    "import torch\n",
    "from torch import nn"
   ]
  },
  {
   "cell_type": "code",
   "execution_count": null,
   "id": "722e0e45-414d-4190-844f-7b44801b2d11",
   "metadata": {},
   "outputs": [],
   "source": [
    "from sae_lens import SAE, HookedSAETransformer\n",
    "from transformer_lens.utils import tokenize_and_concatenate"
   ]
  },
  {
   "cell_type": "code",
   "execution_count": null,
   "id": "f3bae2ba-8269-4513-b108-642257dfc72a",
   "metadata": {},
   "outputs": [],
   "source": [
    "from transformer_lens import HookedTransformer"
   ]
  },
  {
   "cell_type": "code",
   "execution_count": null,
   "id": "5319114e-c41f-4894-a05d-c4b428289a00",
   "metadata": {},
   "outputs": [],
   "source": [
    "from datasets import load_dataset"
   ]
  },
  {
   "cell_type": "code",
   "execution_count": null,
   "id": "ae177357",
   "metadata": {},
   "outputs": [],
   "source": [
    "import multiprocessing\n",
    "from pathlib import Path"
   ]
  },
  {
   "cell_type": "code",
   "execution_count": null,
   "id": "2730a69b-c412-4bfe-a3a8-7ff234315280",
   "metadata": {},
   "outputs": [],
   "source": [
    "from tqdm import tqdm"
   ]
  },
  {
   "cell_type": "code",
   "execution_count": null,
   "id": "a523557a",
   "metadata": {},
   "outputs": [],
   "source": [
    "import seaborn as sns"
   ]
  },
  {
   "cell_type": "code",
   "execution_count": null,
   "id": "25750a3d",
   "metadata": {},
   "outputs": [],
   "source": [
    "import matplotlib.pyplot as plt\n",
    "import numpy as np\n",
    "import pandas as pd"
   ]
  },
  {
   "cell_type": "code",
   "execution_count": null,
   "id": "5aa458ae-d6a5-4496-bb58-ba54f1ee3635",
   "metadata": {},
   "outputs": [],
   "source": [
    "from scipy.sparse import csr_matrix"
   ]
  },
  {
   "cell_type": "code",
   "execution_count": null,
   "id": "902f802d-fa9c-4e26-9df1-ae621014e9de",
   "metadata": {},
   "outputs": [],
   "source": [
    "import plotly.express as px"
   ]
  },
  {
   "cell_type": "code",
   "execution_count": null,
   "id": "ee894933-eba4-4742-8fa2-51b2cff5cf6d",
   "metadata": {},
   "outputs": [],
   "source": [
    "from src.lattmc.fca.utils import *\n",
    "from src.lattmc.fca.data_utils import *\n",
    "from src.lattmc.fca.image_utils import *\n",
    "from src.lattmc.fca.models import *\n",
    "from src.lattmc.fca.fca_utils import *\n",
    "from src.lattmc.fca.image_gens import *"
   ]
  },
  {
   "cell_type": "code",
   "execution_count": null,
   "id": "5545b35f-c8f8-4f2f-b891-a29bf6f96a36",
   "metadata": {},
   "outputs": [],
   "source": [
    "from src.lattmc.sae.nlp_sae_utils import *"
   ]
  },
  {
   "cell_type": "code",
   "execution_count": null,
   "id": "ebc02393-d2ee-4638-97b3-b8994e4191d6",
   "metadata": {},
   "outputs": [],
   "source": [
    "import logging"
   ]
  },
  {
   "cell_type": "markdown",
   "id": "65f31e93",
   "metadata": {},
   "source": [
    "#### Number of CPU cores"
   ]
  },
  {
   "cell_type": "code",
   "execution_count": null,
   "id": "b41c30f2",
   "metadata": {},
   "outputs": [],
   "source": [
    "workers = multiprocessing.cpu_count()\n",
    "workers"
   ]
  },
  {
   "cell_type": "code",
   "execution_count": null,
   "id": "59f41838-322d-41e8-b8e1-6712089703c9",
   "metadata": {},
   "outputs": [],
   "source": [
    "SEED = 2024"
   ]
  },
  {
   "cell_type": "code",
   "execution_count": null,
   "id": "c5516efd-39d7-4d19-9112-4a1bd0efcd30",
   "metadata": {},
   "outputs": [],
   "source": [
    "logging.basicConfig(level=logging.INFO)"
   ]
  },
  {
   "cell_type": "code",
   "execution_count": null,
   "id": "9e1c0d14-575c-491c-88a3-85f70fae7875",
   "metadata": {},
   "outputs": [],
   "source": [
    "device = init_device()"
   ]
  },
  {
   "cell_type": "code",
   "execution_count": null,
   "id": "1e9fcf4c-09fe-4262-b975-56a627c02797",
   "metadata": {},
   "outputs": [],
   "source": [
    "torch.__version__"
   ]
  },
  {
   "cell_type": "code",
   "execution_count": null,
   "id": "f6916c3b-746f-4169-98eb-49d20824e8ef",
   "metadata": {},
   "outputs": [],
   "source": [
    "np.__version__"
   ]
  },
  {
   "cell_type": "markdown",
   "id": "1842a417-4d8a-4dc1-8586-8a9c3998228a",
   "metadata": {},
   "source": [
    "## Initialize Layer"
   ]
  },
  {
   "cell_type": "code",
   "execution_count": null,
   "id": "f79a6c4d-2e8b-4605-b21b-757446d5130d",
   "metadata": {},
   "outputs": [],
   "source": [
    "layer = 8\n",
    "dataset_suffix = 'pile'"
   ]
  },
  {
   "cell_type": "markdown",
   "id": "0ccf4792-19f1-4d01-b9c2-ddea2462cadc",
   "metadata": {},
   "source": [
    "## Initialize Path"
   ]
  },
  {
   "cell_type": "code",
   "execution_count": null,
   "id": "bcd545b8-0e15-41e9-92a9-4d0bf260c8b8",
   "metadata": {},
   "outputs": [],
   "source": [
    "def init_data(model_name, layer, dataset_suffix='pile'):\n",
    "    PATH = Path('../data')\n",
    "    dataset_suffix = 'pile'\n",
    "    vectors_name = f'{model_name.replace('-', '_')}_{layer}_{dataset_suffix}'\n",
    "    checkpoint_dir = PATH / 'saes'\n",
    "    vectors_dir = checkpoint_dir / f'{vectors_name}_vecs'\n",
    "    matrix_dir = checkpoint_dir / f'{vectors_name}_mats'\n",
    "    vectors_path = checkpoint_dir / f'{vectors_name}_vecs.joblib'\n",
    "    \n",
    "    mkdirs(\n",
    "        checkpoint_dir,\n",
    "        vectors_dir,\n",
    "        matrix_dir\n",
    "    )\n",
    "    logger.info(f'{matrix_dir = } {vectors_path = }')\n",
    "\n",
    "    return matrix_dir, vectors_path"
   ]
  },
  {
   "cell_type": "markdown",
   "id": "be07aad4-53a7-456b-b026-80295db7d84d",
   "metadata": {},
   "source": [
    "## Initialize simple dataset"
   ]
  },
  {
   "cell_type": "code",
   "execution_count": null,
   "id": "c3ddebc9-6b60-403d-aaa1-13c71e3215e6",
   "metadata": {},
   "outputs": [],
   "source": [
    "dataset = load_dataset(\n",
    "    path='NeelNanda/pile-10k',\n",
    "    split='train',\n",
    "    streaming=False,\n",
    ")"
   ]
  },
  {
   "cell_type": "markdown",
   "id": "807137b2-c1f9-42eb-a4aa-2ad0f60c93b2",
   "metadata": {},
   "source": [
    "## Initialize model"
   ]
  },
  {
   "cell_type": "code",
   "execution_count": null,
   "id": "f881273d-0cd8-4ded-ba37-94e1fb692672",
   "metadata": {},
   "outputs": [],
   "source": [
    "def gen_concept(idx, val, shape=24576):\n",
    "    v_idx = np.zeros((shape,), dtype=float)\n",
    "    v_idx[idx] = val\n",
    "    concept = fca.G_FG(v_idx)\n",
    "    \n",
    "    return v_idx, concept"
   ]
  },
  {
   "cell_type": "code",
   "execution_count": null,
   "id": "111a722a-54ad-49a8-be8d-9f8721908d1e",
   "metadata": {},
   "outputs": [],
   "source": [
    "model_name = 'gpt2-small'\n",
    "release = 'gpt2-small-res-jb'\n",
    "sae_id = f'blocks.{layer}.hook_resid_pre'"
   ]
  },
  {
   "cell_type": "code",
   "execution_count": null,
   "id": "c26e713d-72bb-4b93-9ced-1dfd6dcf4203",
   "metadata": {},
   "outputs": [],
   "source": [
    "matrix_dir, vector_path = init_data(model_name, layer, dataset_suffix=dataset_suffix)"
   ]
  },
  {
   "cell_type": "code",
   "execution_count": null,
   "id": "cf3938d2-4b5a-4132-98c9-c694a5a3d859",
   "metadata": {
    "scrolled": true
   },
   "outputs": [],
   "source": [
    "net = Text2Sae(\n",
    "    model_name,\n",
    "    release,\n",
    "    sae_id,\n",
    "    device\n",
    ")"
   ]
  },
  {
   "cell_type": "markdown",
   "id": "bbb39674-f5fa-4f57-8991-62f9426c119b",
   "metadata": {},
   "source": [
    "## Generate V Lattice"
   ]
  },
  {
   "cell_type": "code",
   "execution_count": null,
   "id": "8dd176eb-71f5-49be-8437-f82b3e31ec33",
   "metadata": {},
   "outputs": [],
   "source": [
    "gc.collect()"
   ]
  },
  {
   "cell_type": "code",
   "execution_count": null,
   "id": "337e03f1-b196-488d-b753-dabbd44732f9",
   "metadata": {},
   "outputs": [],
   "source": [
    "matrix_dir"
   ]
  },
  {
   "cell_type": "code",
   "execution_count": null,
   "id": "231000a1-a1f8-4e46-9d0f-a044303ecbfa",
   "metadata": {},
   "outputs": [],
   "source": [
    "init_matrices(matrix_dir, dataset, net)"
   ]
  },
  {
   "cell_type": "code",
   "execution_count": null,
   "id": "8146f4c2-0afc-4d1d-a5fc-626cc70d5151",
   "metadata": {},
   "outputs": [],
   "source": [
    "gc.collect()"
   ]
  },
  {
   "cell_type": "code",
   "execution_count": null,
   "id": "6ec4b435-3dd2-45c1-96e9-1ffe691224d7",
   "metadata": {},
   "outputs": [],
   "source": [
    "V = init_vectors(vectors_path, matrix_dir, segment=False)"
   ]
  },
  {
   "cell_type": "markdown",
   "id": "0005806a-6eeb-4311-87df-39eec9dbd658",
   "metadata": {},
   "source": [
    "## Generate Context and Analyze"
   ]
  },
  {
   "cell_type": "code",
   "execution_count": null,
   "id": "072c63b3-eb8a-40a3-b401-ae3608913bae",
   "metadata": {},
   "outputs": [],
   "source": [
    "gc.collect()"
   ]
  },
  {
   "cell_type": "code",
   "execution_count": null,
   "id": "2e56f105-3ffd-4732-a9de-5caa3b92f707",
   "metadata": {},
   "outputs": [],
   "source": [
    "fca = FCA(V)"
   ]
  },
  {
   "cell_type": "code",
   "execution_count": null,
   "id": "3b930df0-c929-4bd8-b069-cc7b085aa18a",
   "metadata": {},
   "outputs": [],
   "source": [
    "text1 = \"The Golden Gate Bridge\"\n",
    "text2 = \"The Brooklyn Bridge\"\n",
    "text3 = \"The card game Bridge\""
   ]
  },
  {
   "cell_type": "code",
   "execution_count": null,
   "id": "e38fbc98-3e78-4c3c-8e04-dc319e7ee025",
   "metadata": {},
   "outputs": [],
   "source": [
    "u_1s = net.embed(text1)[0][1:]\n",
    "u_2s = net.embed(text2)[0][1:]\n",
    "u_3s = net.embed(text3)[0][1:]\n",
    "u_1s.shape, u_2s.shape, u_2s.shape"
   ]
  },
  {
   "cell_type": "code",
   "execution_count": null,
   "id": "5738a5a9-8ac2-4f69-9b93-ca9c135b7a7b",
   "metadata": {},
   "outputs": [],
   "source": [
    "u_1b = u_1s[-1]\n",
    "u_2b = u_2s[-1]\n",
    "u_3b = u_3s[-1]"
   ]
  },
  {
   "cell_type": "code",
   "execution_count": null,
   "id": "1a052447-75fd-4eaa-b08b-eaf59f41a762",
   "metadata": {},
   "outputs": [],
   "source": [
    "m_s = meet(u_1b, u_2b)\n",
    "topK(m_s, 20)"
   ]
  },
  {
   "cell_type": "code",
   "execution_count": null,
   "id": "908a8daa-8fd3-41fb-b547-b0195a63f402",
   "metadata": {},
   "outputs": [],
   "source": [
    "m_s = meet(u_1b, u_3b)\n",
    "topK(m_s, 20)"
   ]
  },
  {
   "cell_type": "code",
   "execution_count": null,
   "id": "27987217-6402-456c-b4ea-c66f9f68a98b",
   "metadata": {},
   "outputs": [],
   "source": [
    "m_s = meet(u_2b, u_3b)\n",
    "topK(m_s, 20)"
   ]
  },
  {
   "cell_type": "code",
   "execution_count": null,
   "id": "1c0ea576-1007-431c-9670-1cae208ab2ed",
   "metadata": {},
   "outputs": [],
   "source": [
    "m_s = meet(u_2b, u_3b)\n",
    "m_s = meet(u_1b, m_s)\n",
    "topK(m_s, 20)"
   ]
  },
  {
   "cell_type": "code",
   "execution_count": null,
   "id": "fa5c78c2-449c-4877-b931-a2976f5dd713",
   "metadata": {},
   "outputs": [],
   "source": [
    "c_1b = fca.G_FG(u_1b)\n",
    "c_2b = fca.G_FG(u_3b)\n",
    "c_3b = fca.G_FG(u_3b)\n",
    "c_1b, c_2b, c_3b"
   ]
  },
  {
   "cell_type": "code",
   "execution_count": null,
   "id": "5a486011-29fd-4e9e-9c73-bda8c9d57cf8",
   "metadata": {},
   "outputs": [],
   "source": []
  },
  {
   "cell_type": "code",
   "execution_count": null,
   "id": "0c53c56d-ffce-4f1a-aa24-ae021b9d5964",
   "metadata": {},
   "outputs": [],
   "source": [
    "c_mb = fca.G_FG(m_s)\n",
    "c_mb"
   ]
  },
  {
   "cell_type": "code",
   "execution_count": null,
   "id": "68f486ef-96d5-46ce-ab2c-c00424e3d746",
   "metadata": {},
   "outputs": [],
   "source": [
    "c_mb.A[0]"
   ]
  },
  {
   "cell_type": "code",
   "execution_count": null,
   "id": "e39fac19-853f-48ee-a2e1-3d1fe4aa4b50",
   "metadata": {},
   "outputs": [],
   "source": [
    "v_d = V[188]"
   ]
  },
  {
   "cell_type": "code",
   "execution_count": null,
   "id": "96e61674-9290-43c6-a7d2-8028233b3d9d",
   "metadata": {},
   "outputs": [],
   "source": [
    "topK(v_d, 100)"
   ]
  },
  {
   "cell_type": "code",
   "execution_count": null,
   "id": "34d28330-d70a-4a0d-8213-13918cafca10",
   "metadata": {},
   "outputs": [],
   "source": [
    "le(m_s, v_d)"
   ]
  },
  {
   "cell_type": "code",
   "execution_count": null,
   "id": "68d344ad-fca1-4cb6-af26-c10a954dc01e",
   "metadata": {},
   "outputs": [],
   "source": [
    "_, c_d = gen_concept(1030, 80)\n",
    "c_d"
   ]
  },
  {
   "cell_type": "code",
   "execution_count": null,
   "id": "db7b50f5-a0e5-49b7-9b30-2eb6f07930a8",
   "metadata": {},
   "outputs": [],
   "source": [
    "c_d.A"
   ]
  },
  {
   "cell_type": "code",
   "execution_count": null,
   "id": "6e4b506f-ecec-4405-985a-d18c5f8eb765",
   "metadata": {},
   "outputs": [],
   "source": [
    "vs = joblib.load(matrix_dir / f'{c_d.A[0]}.joblib')"
   ]
  },
  {
   "cell_type": "code",
   "execution_count": null,
   "id": "98aaa992-a4f1-4f18-bac1-0ecfd2e8a766",
   "metadata": {},
   "outputs": [],
   "source": [
    "vs.toarray()"
   ]
  },
  {
   "cell_type": "code",
   "execution_count": null,
   "id": "19411c57-a895-4657-a52c-100385ba7a7f",
   "metadata": {},
   "outputs": [],
   "source": [
    "def select_ws(A, v):\n",
    "    idxs = []\n",
    "    for i in A:\n",
    "        v_sparse = joblib.load(matrix_dir / f'{i}.joblib')\n",
    "        print(matrix_dir / f'{i}.joblib')\n",
    "        vs = v_sparse.toarray()\n",
    "        gs = find_G_x(vs, v)\n",
    "        idxs.append(gs)\n",
    "\n",
    "    return idxs"
   ]
  },
  {
   "cell_type": "code",
   "execution_count": null,
   "id": "3a6ec68b-67b0-4c8a-9df9-2444683ca644",
   "metadata": {},
   "outputs": [],
   "source": [
    "select_ws([c_d.A[0]], m_s)"
   ]
  },
  {
   "cell_type": "code",
   "execution_count": null,
   "id": "5b55ded4-e321-4560-8793-e6a65ba662cb",
   "metadata": {},
   "outputs": [],
   "source": [
    "V.shape"
   ]
  },
  {
   "cell_type": "code",
   "execution_count": null,
   "id": "b12c69f4-629e-481a-8cc3-7f703b073164",
   "metadata": {},
   "outputs": [],
   "source": [
    "idx = c_d.A[0].item()"
   ]
  },
  {
   "cell_type": "code",
   "execution_count": null,
   "id": "66c3709e-16d7-4dbe-bc5f-c8bac306b73e",
   "metadata": {},
   "outputs": [],
   "source": [
    "v_sparse = joblib.load(matrix_dir / f'{idx}.joblib')\n",
    "vs = v_sparse.toarray()\n",
    "gs = find_G_x(vs, m_s)"
   ]
  },
  {
   "cell_type": "code",
   "execution_count": null,
   "id": "0f57a06f-efbd-4b80-819b-dbf35408b3ad",
   "metadata": {},
   "outputs": [],
   "source": [
    "v_max = join_all(vs[1:])\n",
    "vs.shape, v_max.shape"
   ]
  },
  {
   "cell_type": "code",
   "execution_count": null,
   "id": "3fab426b-7aba-40d1-ba27-cc14493be693",
   "metadata": {},
   "outputs": [],
   "source": [
    "fca.V.shape"
   ]
  },
  {
   "cell_type": "code",
   "execution_count": null,
   "id": "2446a451-8261-49bd-82c0-2228363c686f",
   "metadata": {},
   "outputs": [],
   "source": [
    "vs.shape"
   ]
  },
  {
   "cell_type": "code",
   "execution_count": null,
   "id": "7786bd2c-f45a-4be7-a97e-212110e98ac6",
   "metadata": {},
   "outputs": [],
   "source": [
    "dataset[idx]"
   ]
  },
  {
   "cell_type": "code",
   "execution_count": null,
   "id": "e9a66d40-e973-4ff3-821c-73267ac0231f",
   "metadata": {},
   "outputs": [],
   "source": [
    "tokens = net.tokenize(dataset[idx]['text'])[0]"
   ]
  },
  {
   "cell_type": "code",
   "execution_count": null,
   "id": "f9f37c8a-5d63-43ec-877b-0eb611f4d3ee",
   "metadata": {},
   "outputs": [],
   "source": [
    "tokens.shape"
   ]
  },
  {
   "cell_type": "code",
   "execution_count": null,
   "id": "08ef0cfe-c813-41b6-aac6-ab40b3226c5d",
   "metadata": {},
   "outputs": [],
   "source": [
    "np.where(v_max != V[c_d.A[0]])"
   ]
  },
  {
   "cell_type": "code",
   "execution_count": null,
   "id": "8bbe8b8e-4cb4-4660-90d9-38c9d204d66a",
   "metadata": {},
   "outputs": [],
   "source": [
    "np.all(v_max == fca.V[c_d.A[0]])"
   ]
  },
  {
   "cell_type": "code",
   "execution_count": null,
   "id": "eea104e4-2f87-457e-be87-4c4c2f10dc76",
   "metadata": {},
   "outputs": [],
   "source": [
    "c_d = fca.G_FG(m_s)"
   ]
  },
  {
   "cell_type": "code",
   "execution_count": null,
   "id": "4da1c5a2-8f16-4d11-9a02-2f001f897433",
   "metadata": {},
   "outputs": [],
   "source": [
    "le(m_s, v_max), le(m_s, fca.V[c_d.A[0]]), "
   ]
  },
  {
   "cell_type": "code",
   "execution_count": null,
   "id": "a2746147-0572-4fa6-96c8-84e51a7c0af1",
   "metadata": {},
   "outputs": [],
   "source": [
    "gs"
   ]
  },
  {
   "cell_type": "code",
   "execution_count": null,
   "id": "5e5581d8-98d3-45a3-8c46-35728d46645c",
   "metadata": {},
   "outputs": [],
   "source": [
    "w_s = select_ws([idx], m_s)"
   ]
  },
  {
   "cell_type": "code",
   "execution_count": null,
   "id": "a59b75bb-c9bb-473b-89d4-003e83a27977",
   "metadata": {},
   "outputs": [],
   "source": [
    "v_s, c_s = gen_concept(17608, 38)"
   ]
  },
  {
   "cell_type": "code",
   "execution_count": null,
   "id": "55159ca2-6cd0-4c08-a58e-18f3d4d821c2",
   "metadata": {},
   "outputs": [],
   "source": [
    "idx = c_s.A[0].item()"
   ]
  },
  {
   "cell_type": "code",
   "execution_count": null,
   "id": "0821d076-182c-4d87-a51d-da130c980426",
   "metadata": {},
   "outputs": [],
   "source": [
    "v_sparse = joblib.load(matrix_dir / f'{idx}.joblib')\n",
    "vs = v_sparse.toarray()\n",
    "gs = find_G_x(vs, m_s)"
   ]
  },
  {
   "cell_type": "code",
   "execution_count": null,
   "id": "5cbb2ff2-ce15-49e1-a4ca-5ec71bdcc9c1",
   "metadata": {},
   "outputs": [],
   "source": [
    "v_max = join_all(vs[1:])"
   ]
  },
  {
   "cell_type": "code",
   "execution_count": null,
   "id": "6a870d06-0ac0-4ab0-bd78-b0406e9543e9",
   "metadata": {},
   "outputs": [],
   "source": []
  },
  {
   "cell_type": "code",
   "execution_count": null,
   "id": "4272708f-7090-4150-9a9a-a6dfead7d2ca",
   "metadata": {},
   "outputs": [],
   "source": [
    "for i, v in enumerate(vs):\n",
    "    if le(v_s, v):\n",
    "        print(le(v_s, v), i)"
   ]
  },
  {
   "cell_type": "code",
   "execution_count": null,
   "id": "cae538a0-5343-4d87-a9f8-887289182a6c",
   "metadata": {},
   "outputs": [],
   "source": [
    "tokens = net.tokenize(dataset[idx]['text'])[0]\n",
    "t_s = tokens[i]\n",
    "t_s"
   ]
  },
  {
   "cell_type": "code",
   "execution_count": null,
   "id": "0672f8f6-7ff7-4bc2-87c2-e31c80d96575",
   "metadata": {},
   "outputs": [],
   "source": [
    "tokens.shape, vs.shape"
   ]
  },
  {
   "cell_type": "code",
   "execution_count": null,
   "id": "ee18c9c0-f845-4b82-8ecd-aa75c5230052",
   "metadata": {},
   "outputs": [],
   "source": [
    "net.to_string(t_s)"
   ]
  },
  {
   "cell_type": "code",
   "execution_count": null,
   "id": "91759f13-0af6-4573-916a-d2280125477f",
   "metadata": {},
   "outputs": [],
   "source": [
    "np.where(m_s > 0)"
   ]
  },
  {
   "cell_type": "code",
   "execution_count": null,
   "id": "69fba89d-6d78-4881-b78d-8050bc75dfb1",
   "metadata": {},
   "outputs": [],
   "source": [
    "le(m_s, join_all(vs[1:]))"
   ]
  },
  {
   "cell_type": "code",
   "execution_count": null,
   "id": "a6c68bb0-31d3-4746-aeb6-b77479dc278f",
   "metadata": {},
   "outputs": [],
   "source": [
    "w_s"
   ]
  },
  {
   "cell_type": "code",
   "execution_count": null,
   "id": "882f25c2-4585-4a73-afca-769669af34f2",
   "metadata": {},
   "outputs": [],
   "source": [
    "dataset[174]"
   ]
  },
  {
   "cell_type": "code",
   "execution_count": null,
   "id": "c153581a-10fb-4572-9eec-87ade7527e40",
   "metadata": {},
   "outputs": [],
   "source": [
    "fca.G_FG(v_d)"
   ]
  },
  {
   "cell_type": "code",
   "execution_count": null,
   "id": "d67e9c86-60b2-43f7-a2a0-5ffec77483ee",
   "metadata": {},
   "outputs": [],
   "source": [
    "dataset[188]"
   ]
  },
  {
   "cell_type": "code",
   "execution_count": null,
   "id": "eede8327-ae5d-49a8-a99b-bd530f37e2cd",
   "metadata": {
    "scrolled": true
   },
   "outputs": [],
   "source": [
    "dataset[c_mb.A]"
   ]
  },
  {
   "cell_type": "code",
   "execution_count": null,
   "id": "2c0146ae-d9b3-488d-863a-f7b81b66d008",
   "metadata": {},
   "outputs": [],
   "source": []
  },
  {
   "cell_type": "code",
   "execution_count": null,
   "id": "0621cd3b-5766-416a-9587-1031df08e49b",
   "metadata": {},
   "outputs": [],
   "source": [
    "z = net.encode(text1)\n",
    "zs = z.to('cpu').detach().numpy()[0]\n",
    "v = np.maximum.reduce(zs)"
   ]
  },
  {
   "cell_type": "code",
   "execution_count": null,
   "id": "f8c4693a-3dc5-481e-8301-cffc0a6ee6c9",
   "metadata": {},
   "outputs": [],
   "source": [
    "zs[1:].shape"
   ]
  },
  {
   "cell_type": "code",
   "execution_count": null,
   "id": "09cb753a-491a-4012-b5a4-7730db141b27",
   "metadata": {},
   "outputs": [],
   "source": [
    "zs.shape"
   ]
  },
  {
   "cell_type": "code",
   "execution_count": null,
   "id": "cf1e4ed1-3a85-4f49-9398-9a5c1879ae73",
   "metadata": {},
   "outputs": [],
   "source": [
    "v[19837]"
   ]
  },
  {
   "cell_type": "code",
   "execution_count": null,
   "id": "d8720329-0807-4728-954b-bd3e830e5de7",
   "metadata": {},
   "outputs": [],
   "source": [
    "v_g = net.embed('Golden')[0][1]\n",
    "v_t = net.embed('Gate')[0][1]\n",
    "v_b = net.embed('Bridge')[0][1]"
   ]
  },
  {
   "cell_type": "code",
   "execution_count": null,
   "id": "2fb40cca-1d42-4b22-b9f6-b10dff7a7e48",
   "metadata": {},
   "outputs": [],
   "source": [
    "us = net.embed(text1)[0]\n",
    "us.shape"
   ]
  },
  {
   "cell_type": "code",
   "execution_count": null,
   "id": "65ca8fe5-7cdf-45b5-a151-4cc01d7cdcd5",
   "metadata": {},
   "outputs": [],
   "source": [
    "us = us[1:]\n",
    "us.shape"
   ]
  },
  {
   "cell_type": "code",
   "execution_count": null,
   "id": "b656bc9f-1574-4c6a-9555-e2f27fcb6e47",
   "metadata": {},
   "outputs": [],
   "source": [
    "u_g = us[1]\n",
    "u_t = us[2]\n",
    "u_b = us[3]"
   ]
  },
  {
   "cell_type": "code",
   "execution_count": null,
   "id": "6b61e872-5588-448c-82de-650ecc30942f",
   "metadata": {},
   "outputs": [],
   "source": [
    "np.argmax(u_g), np.argmax(v_g)"
   ]
  },
  {
   "cell_type": "code",
   "execution_count": null,
   "id": "3aba0547-69ad-43df-8940-c2d572caeff1",
   "metadata": {},
   "outputs": [],
   "source": [
    "topK(u_g, 10), topK(v_g, 10)"
   ]
  },
  {
   "cell_type": "code",
   "execution_count": null,
   "id": "20b1b807-72b6-4c20-8251-1287fcd70f3f",
   "metadata": {},
   "outputs": [],
   "source": [
    "ws = net.embed(\"The Brooklyn Bridge\")[0]\n",
    "ws.shape"
   ]
  },
  {
   "cell_type": "code",
   "execution_count": null,
   "id": "60030346-7185-451b-8695-f74d7fd230c2",
   "metadata": {},
   "outputs": [],
   "source": [
    "net.tokenize(text1)[0]"
   ]
  },
  {
   "cell_type": "code",
   "execution_count": null,
   "id": "8748295a-ebd6-4e65-9236-2e4d8b238eab",
   "metadata": {},
   "outputs": [],
   "source": [
    "net.tokenize(\"The Brooklyn Bridge\")[0]"
   ]
  },
  {
   "cell_type": "code",
   "execution_count": null,
   "id": "85583fbe-2f82-4613-b987-b23a1eec4d04",
   "metadata": {},
   "outputs": [],
   "source": [
    "ws = us[1:]\n",
    "ws.shape"
   ]
  },
  {
   "cell_type": "code",
   "execution_count": null,
   "id": "4539fffd-2d5f-49a2-9437-5cbd48de84e3",
   "metadata": {},
   "outputs": [],
   "source": [
    "w_c = us[1]\n",
    "w_b = us[2]"
   ]
  },
  {
   "cell_type": "code",
   "execution_count": null,
   "id": "579dac0a-97a9-438e-b8c0-a3be7f9bbc57",
   "metadata": {
    "scrolled": true
   },
   "outputs": [],
   "source": [
    "topK(u_b, 10), topK(w_b, 10)"
   ]
  },
  {
   "cell_type": "code",
   "execution_count": null,
   "id": "aa26c2b8-4453-45ac-a272-327ee3eb2428",
   "metadata": {},
   "outputs": [],
   "source": [
    "m_b = meet(u_b, w_b)\n",
    "topK(m_b, 20)"
   ]
  },
  {
   "cell_type": "code",
   "execution_count": null,
   "id": "ed41b372-3f3e-4d45-8293-1e1691689853",
   "metadata": {},
   "outputs": [],
   "source": [
    "m_b = meet(w_b, v_b)\n",
    "topK(m_b, 20)"
   ]
  },
  {
   "cell_type": "code",
   "execution_count": null,
   "id": "bb2ba600-d0ec-48f1-8e62-5ec25e03307b",
   "metadata": {},
   "outputs": [],
   "source": [
    "v_g = net.embed('Golden')[0][1]\n",
    "v_t = net.embed('Gate')[0][1]\n",
    "v_b = net.embed('Bridge')[0][1]"
   ]
  },
  {
   "cell_type": "code",
   "execution_count": null,
   "id": "67568185-2bf7-4ac5-827d-4deb8567c51d",
   "metadata": {},
   "outputs": [],
   "source": [
    "v_g.shape"
   ]
  },
  {
   "cell_type": "code",
   "execution_count": null,
   "id": "f0a224b9-3ce1-46f9-8319-6a476a7a8cde",
   "metadata": {},
   "outputs": [],
   "source": [
    "c_g = fca.G_FG(v_g)\n",
    "c_t = fca.G_FG(v_t)\n",
    "c_b = fca.G_FG(v_b)"
   ]
  },
  {
   "cell_type": "code",
   "execution_count": null,
   "id": "4f66a361-040c-4b99-8ea3-6cfa09d700f3",
   "metadata": {},
   "outputs": [],
   "source": [
    "c_g10 = fca.G_FG(v_g / 10)"
   ]
  },
  {
   "cell_type": "code",
   "execution_count": null,
   "id": "10dbab17-250d-4eb3-9a7d-a4631e3ed620",
   "metadata": {},
   "outputs": [],
   "source": [
    "texts = dataset[c_g10.A]"
   ]
  },
  {
   "cell_type": "code",
   "execution_count": null,
   "id": "87f11f55-d011-46df-97e3-78a46e5074ac",
   "metadata": {},
   "outputs": [],
   "source": [
    "texts['text'][0]"
   ]
  },
  {
   "cell_type": "code",
   "execution_count": null,
   "id": "ecdaeba2-34cd-4fcf-986d-e1686b86f62e",
   "metadata": {},
   "outputs": [],
   "source": [
    "topK(v_g, 22)"
   ]
  },
  {
   "cell_type": "code",
   "execution_count": null,
   "id": "76b89542-7668-43b3-a310-0f7172f10009",
   "metadata": {},
   "outputs": [],
   "source": [
    "v_g = net.embed(' golden')[0][1:]\n",
    "t_g = net.tokenize(' golden')[0][1:]"
   ]
  },
  {
   "cell_type": "code",
   "execution_count": null,
   "id": "b5786783-69e5-4570-a656-dc908262686f",
   "metadata": {},
   "outputs": [],
   "source": [
    "v_g.shape, t_g.shape"
   ]
  },
  {
   "cell_type": "code",
   "execution_count": null,
   "id": "6b7d6b32-f510-4411-ad5a-a00b738e81cb",
   "metadata": {},
   "outputs": [],
   "source": [
    "net.to_string(t_g[0])"
   ]
  },
  {
   "cell_type": "code",
   "execution_count": null,
   "id": "22eaac73-c90c-4a67-bb5b-fa307083c1ed",
   "metadata": {},
   "outputs": [],
   "source": [
    "t_g"
   ]
  },
  {
   "cell_type": "code",
   "execution_count": null,
   "id": "4d1b0d99-b6c0-4e5b-9633-22756cd7e154",
   "metadata": {
    "scrolled": true
   },
   "outputs": [],
   "source": [
    "net.tokenize('Golden')[0]"
   ]
  },
  {
   "cell_type": "code",
   "execution_count": null,
   "id": "c20da23d-8a73-4864-91f6-fb6ac44b559a",
   "metadata": {
    "scrolled": true
   },
   "outputs": [],
   "source": [
    "net.tokenize(' golden')[0]"
   ]
  },
  {
   "cell_type": "code",
   "execution_count": null,
   "id": "61c2a07f-549c-492c-b7a0-09b63592fe98",
   "metadata": {
    "scrolled": true
   },
   "outputs": [],
   "source": [
    "net.tokenize('golden')[0]"
   ]
  },
  {
   "cell_type": "code",
   "execution_count": null,
   "id": "f41c91d4-816d-4e73-a282-08736f556c79",
   "metadata": {},
   "outputs": [],
   "source": [
    "topK(v_g[0], 20)"
   ]
  },
  {
   "cell_type": "code",
   "execution_count": null,
   "id": "ddc5f1d6-ae24-4d86-a0e5-9b04b48f1686",
   "metadata": {},
   "outputs": [],
   "source": [
    "v_g, c_g = gen_concept(10261, 20)\n",
    "c_g"
   ]
  },
  {
   "cell_type": "code",
   "execution_count": null,
   "id": "2fa66db9-5def-4e39-9606-e6d9b57dda58",
   "metadata": {},
   "outputs": [],
   "source": [
    "tk = net.tokenize(dataset[c_g.A[0].item()]['text'])[0]"
   ]
  },
  {
   "cell_type": "code",
   "execution_count": null,
   "id": "20dc63d0-e2bd-4956-a2b2-c503ab4a6776",
   "metadata": {},
   "outputs": [],
   "source": [
    "ids = select_ws([c_g.A[0].item()], v_g)\n",
    "ids"
   ]
  },
  {
   "cell_type": "code",
   "execution_count": null,
   "id": "b9d6d80f-0995-4a5d-a14d-f5b074564634",
   "metadata": {},
   "outputs": [],
   "source": [
    "tk.shape"
   ]
  },
  {
   "cell_type": "code",
   "execution_count": null,
   "id": "39b26ced-d425-405d-be0d-692294b6816e",
   "metadata": {},
   "outputs": [],
   "source": [
    "for it in ids[0]:\n",
    "    print(net.to_string(tk[it]))"
   ]
  },
  {
   "cell_type": "code",
   "execution_count": null,
   "id": "439b370e-e602-45e7-b8f6-345bccdaeb98",
   "metadata": {},
   "outputs": [],
   "source": [
    "fca.G_FG(net.embed(' golden')[0])"
   ]
  },
  {
   "cell_type": "markdown",
   "id": "1c2bf759-f2d3-47f1-86ee-b5ee92ad5020",
   "metadata": {},
   "source": [
    "## New York Ciry"
   ]
  },
  {
   "cell_type": "code",
   "execution_count": null,
   "id": "d535fa25-066c-413f-82ce-2289b822665a",
   "metadata": {},
   "outputs": [],
   "source": [
    "v_ns = net.embed('New York City')[0][1:]\n",
    "v_gs = net.embed('Golden Gate Bridge')[0][1:]"
   ]
  },
  {
   "cell_type": "code",
   "execution_count": null,
   "id": "42135c41-7d84-4113-afa3-817c26ced99a",
   "metadata": {},
   "outputs": [],
   "source": [
    "t_ns = net.tokenize('New York City')[0][1:]\n",
    "t_gs = net.tokenize('Golden Gate Bridge')[0][1:]"
   ]
  },
  {
   "cell_type": "code",
   "execution_count": null,
   "id": "4a990c3b-a10f-45f1-82fa-0806efb18edf",
   "metadata": {},
   "outputs": [],
   "source": [
    "t_ns.shape, t_gs.shape"
   ]
  },
  {
   "cell_type": "code",
   "execution_count": null,
   "id": "e5f06641-40c9-4b77-8c62-e803ef7bc93a",
   "metadata": {},
   "outputs": [],
   "source": [
    "t_ns, t_gs"
   ]
  },
  {
   "cell_type": "code",
   "execution_count": null,
   "id": "df89e091-e3be-4fec-9768-5c0ae0d2fd14",
   "metadata": {},
   "outputs": [],
   "source": [
    "m_bg = meet(v_ns[2], v_gs[2])\n",
    "topK(m_bg, 20)"
   ]
  },
  {
   "cell_type": "code",
   "execution_count": null,
   "id": "6cfc77f3-97fd-4e21-afcb-dba900ee2f28",
   "metadata": {},
   "outputs": [],
   "source": [
    "m_cg, c_bg = gen_concept(19016, 5)\n",
    "c_bg"
   ]
  },
  {
   "cell_type": "code",
   "execution_count": null,
   "id": "fc2f1b99-b70b-4454-851b-a721f196c5d4",
   "metadata": {},
   "outputs": [],
   "source": [
    "topK(c_bg.v, 20)"
   ]
  },
  {
   "cell_type": "code",
   "execution_count": null,
   "id": "2a4bdfc6-fa94-493f-b8a8-6666429468bc",
   "metadata": {},
   "outputs": [],
   "source": [
    "c_bg = fca.G_FG(m_bg)\n",
    "c_bg"
   ]
  },
  {
   "cell_type": "code",
   "execution_count": null,
   "id": "6e8057cb-7c5d-44b6-bacb-f3d6e7e15cce",
   "metadata": {},
   "outputs": [],
   "source": [
    "tk = net.tokenize(dataset[c_bg.A[2].item()]['text'])[0]"
   ]
  },
  {
   "cell_type": "code",
   "execution_count": null,
   "id": "591975f9-ab06-4bd4-a046-fd2212030c99",
   "metadata": {},
   "outputs": [],
   "source": [
    "ids = select_ws([c_bg.A[2].item()], m_cg)\n",
    "ids"
   ]
  },
  {
   "cell_type": "code",
   "execution_count": null,
   "id": "242e2cb5-6f22-49d9-b262-aecd45258766",
   "metadata": {},
   "outputs": [],
   "source": [
    "tk.shape"
   ]
  },
  {
   "cell_type": "code",
   "execution_count": null,
   "id": "d2556747-2179-4665-ade1-c20925fe92ea",
   "metadata": {},
   "outputs": [],
   "source": [
    "for it in ids[0]:\n",
    "    print(net.to_string(tk[it]))"
   ]
  },
  {
   "cell_type": "code",
   "execution_count": null,
   "id": "5c88ea23-5bdc-4bd3-915e-75b24a0be0f2",
   "metadata": {},
   "outputs": [],
   "source": []
  },
  {
   "cell_type": "code",
   "execution_count": null,
   "id": "e9b7d267-e3ed-44fc-b128-e4d3ae7b73db",
   "metadata": {},
   "outputs": [],
   "source": [
    "phrases = [\n",
    "    \"Golden Gate Bridge\",\n",
    "    \"Golden Gate\",\n",
    "    \"Gate\",\n",
    "    \"Bridge\",\n",
    "    \"Golden\",\n",
    "    \"New York City\",\n",
    "    \"New York\",\n",
    "    \"City\",\n",
    "    \"New\",\n",
    "    \"hot dog\",\n",
    "    \"hot\",\n",
    "    \"dog\",\n",
    "]"
   ]
  },
  {
   "cell_type": "code",
   "execution_count": null,
   "id": "1c760bcf-50df-46a1-b0ed-6c6a60adb54b",
   "metadata": {},
   "outputs": [],
   "source": [
    "vecs = net.embed(phrases)"
   ]
  },
  {
   "cell_type": "code",
   "execution_count": null,
   "id": "a954b208-840a-4d76-b38a-a81afa94801b",
   "metadata": {},
   "outputs": [],
   "source": [
    "vecs.shape"
   ]
  },
  {
   "cell_type": "code",
   "execution_count": null,
   "id": "5f908606-3e81-4daf-ad34-179be3c056aa",
   "metadata": {},
   "outputs": [],
   "source": [
    "phrases[4]"
   ]
  },
  {
   "cell_type": "code",
   "execution_count": null,
   "id": "2c69b69d-ef72-42f1-b95a-6462a959b432",
   "metadata": {},
   "outputs": [],
   "source": [
    "vec = vecs[4]"
   ]
  },
  {
   "cell_type": "code",
   "execution_count": null,
   "id": "355f4f74-98e1-4491-a2d8-53f418b9b749",
   "metadata": {},
   "outputs": [],
   "source": [
    "tokens = net.tokenize(phrases[4])[0]"
   ]
  },
  {
   "cell_type": "code",
   "execution_count": null,
   "id": "3622e6a6-bb80-45dd-b9c7-504e8275ca23",
   "metadata": {},
   "outputs": [],
   "source": [
    "tokens.shape"
   ]
  },
  {
   "cell_type": "code",
   "execution_count": null,
   "id": "7bf87d33-a756-4e97-afa5-41d2292541ae",
   "metadata": {},
   "outputs": [],
   "source": [
    "net.to_string(tokens[1])"
   ]
  },
  {
   "cell_type": "code",
   "execution_count": null,
   "id": "7a30648c-da1a-439f-9719-5f758f90a65c",
   "metadata": {},
   "outputs": [],
   "source": [
    "vecs1 = net.embed('Golden')[0]\n",
    "vecs2 = net.embed('Gold')[0]\n",
    "vecs3 = net.embed('Golden Gate Bridge')[0]"
   ]
  },
  {
   "cell_type": "code",
   "execution_count": null,
   "id": "86bc8685-bee6-4276-8180-c166a0b03722",
   "metadata": {},
   "outputs": [],
   "source": [
    "np.allclose(vec[1], vecs3[1])"
   ]
  },
  {
   "cell_type": "code",
   "execution_count": null,
   "id": "a5fcc38e-9520-4aa6-8a82-a92222e4c653",
   "metadata": {},
   "outputs": [],
   "source": [
    "np.all(vecs1[1] == vecs3[1])"
   ]
  },
  {
   "cell_type": "code",
   "execution_count": null,
   "id": "337385a9-5df9-4062-82eb-cae390196cad",
   "metadata": {},
   "outputs": [],
   "source": [
    "np.all(vec[1] == vecs2[1])"
   ]
  },
  {
   "cell_type": "code",
   "execution_count": null,
   "id": "19085a7f-b553-46fe-90c0-896e19d38347",
   "metadata": {},
   "outputs": [],
   "source": [
    "topK(vecs2[1], 32)"
   ]
  },
  {
   "cell_type": "code",
   "execution_count": null,
   "id": "0c7ff232-6369-4f6b-9775-88bdb64fd350",
   "metadata": {},
   "outputs": [],
   "source": [
    "topK(vec[1], 32)"
   ]
  },
  {
   "cell_type": "code",
   "execution_count": null,
   "id": "d3daff6c-f85e-40af-998c-d06e85293b7e",
   "metadata": {},
   "outputs": [],
   "source": []
  },
  {
   "cell_type": "code",
   "execution_count": null,
   "id": "72bea52e-baa9-4e71-b057-1f52abff884d",
   "metadata": {},
   "outputs": [],
   "source": [
    "for text in phrases:\n",
    "    h = net.embed(text)              # encode to sparse feature space\n",
    "    active_feats = np.where(h > 0)[0]       # indices of active features\n",
    "    top_feats = active_feats[np.argsort(-h[active_feats])[:5]]  # top 5 features by magnitude\n",
    "    print(f\"\\nInput: '{text}'\")\n",
    "    print(\" Top active feature indices:\", top_feats)"
   ]
  },
  {
   "cell_type": "code",
   "execution_count": null,
   "id": "3ee8ef96-ccd5-4b9a-bd43-d364ae27bb81",
   "metadata": {},
   "outputs": [],
   "source": []
  },
  {
   "cell_type": "markdown",
   "id": "efd4d8f9-dd9c-43af-9dc2-426cb27d019f",
   "metadata": {},
   "source": [
    "## Golden Feature from Neuronscope"
   ]
  },
  {
   "cell_type": "code",
   "execution_count": null,
   "id": "09b09491-4bfc-4bd2-88d7-276660dfa121",
   "metadata": {},
   "outputs": [],
   "source": [
    "v_golden, concept = gen_concept(19837, 90)\n",
    "v_golden.shape, concept"
   ]
  },
  {
   "cell_type": "code",
   "execution_count": null,
   "id": "d3c1f41a-f83f-4997-ae57-1dfc22d75d90",
   "metadata": {
    "scrolled": true
   },
   "outputs": [],
   "source": [
    "dataset[concept.A[0].item()]"
   ]
  },
  {
   "cell_type": "markdown",
   "id": "29f1ba4d-4cfe-45a9-b2a8-dd44c5e1d74b",
   "metadata": {},
   "source": [
    "## Cat Feature from Neuronscope"
   ]
  },
  {
   "cell_type": "code",
   "execution_count": null,
   "id": "d3755543-9d06-4e89-a1a6-9d01969df6d2",
   "metadata": {},
   "outputs": [],
   "source": [
    "v_cat, concept = gen_concept(16899, 80)\n",
    "v_cat.shape, concept"
   ]
  },
  {
   "cell_type": "code",
   "execution_count": null,
   "id": "b23d8f06-fcc9-4bb6-8bec-4705ccf07088",
   "metadata": {
    "scrolled": true
   },
   "outputs": [],
   "source": [
    "dataset[concept.A[0].item()]"
   ]
  },
  {
   "cell_type": "markdown",
   "id": "05f3a1af-678b-41d3-9037-2533434bd419",
   "metadata": {},
   "source": [
    "## Apple Feature from Neuronscope"
   ]
  },
  {
   "cell_type": "code",
   "execution_count": null,
   "id": "48ae2226-35f6-4ea4-a35a-c64a8e044f1e",
   "metadata": {},
   "outputs": [],
   "source": [
    "v_apple, concept = gen_concept(4269, 70)\n",
    "v_apple.shape, concept"
   ]
  },
  {
   "cell_type": "code",
   "execution_count": null,
   "id": "5690c014-6f86-4cbd-bea6-e0bf97c020eb",
   "metadata": {
    "scrolled": true
   },
   "outputs": [],
   "source": [
    "dataset[concept.A[0].item()]"
   ]
  },
  {
   "cell_type": "markdown",
   "id": "ac1a5a29-9e18-40dc-835b-c3907e7af913",
   "metadata": {},
   "source": [
    "## Thunder and Lightning Feature from Neuronscope"
   ]
  },
  {
   "cell_type": "code",
   "execution_count": null,
   "id": "c4bdc718-8122-4ae7-97ba-ba72bcf31f9a",
   "metadata": {},
   "outputs": [],
   "source": [
    "v_thunder, concept = gen_concept(23123, 40)\n",
    "v_thunder.shape, concept"
   ]
  },
  {
   "cell_type": "code",
   "execution_count": null,
   "id": "84248426-4e72-4d31-8dda-296940a2271a",
   "metadata": {
    "scrolled": true
   },
   "outputs": [],
   "source": [
    "dataset[concept.A[0].item()]"
   ]
  },
  {
   "cell_type": "markdown",
   "id": "e05796f0-14fa-4bb1-a798-21c0e1396e45",
   "metadata": {},
   "source": [
    "## School and Lightning Feature from Neuronscope"
   ]
  },
  {
   "cell_type": "code",
   "execution_count": null,
   "id": "dbca8239-af3f-4f0f-b603-a6862ca6153a",
   "metadata": {},
   "outputs": [],
   "source": [
    "v_school, concept = gen_concept(20781, 84)\n",
    "v_school.shape, concept"
   ]
  },
  {
   "cell_type": "code",
   "execution_count": null,
   "id": "9ad58f80-5506-4515-b639-b49d7e438208",
   "metadata": {},
   "outputs": [],
   "source": [
    "dataset[concept.A[0].item()]"
   ]
  },
  {
   "cell_type": "markdown",
   "id": "8297c2cd-e139-4aff-8942-78acb5450a1b",
   "metadata": {},
   "source": [
    "## King and Lightning Feature from Neuronscope"
   ]
  },
  {
   "cell_type": "code",
   "execution_count": null,
   "id": "01cfe934-662b-46d3-a9f2-46287808f943",
   "metadata": {},
   "outputs": [],
   "source": [
    "v_king, concept = gen_concept(17624, 60)\n",
    "v_king.shape, concept"
   ]
  },
  {
   "cell_type": "code",
   "execution_count": null,
   "id": "e09effa2-d3c3-4296-83dd-915f7fc33306",
   "metadata": {
    "scrolled": true
   },
   "outputs": [],
   "source": [
    "dataset[concept.A[1].item()]"
   ]
  },
  {
   "cell_type": "markdown",
   "id": "19035267-e023-40f2-85a1-2dd94764c2f7",
   "metadata": {},
   "source": [
    "## Orgs and Lightning Feature from Neuronscope"
   ]
  },
  {
   "cell_type": "code",
   "execution_count": null,
   "id": "c9d53ddb-32a0-482b-b320-c002fced5fc1",
   "metadata": {},
   "outputs": [],
   "source": [
    "v_orgs, concept = gen_concept(16660, 60)\n",
    "v_orgs.shape, concept"
   ]
  },
  {
   "cell_type": "code",
   "execution_count": null,
   "id": "3ddc0a7c-b9c2-4d67-8818-bf47496393ad",
   "metadata": {
    "scrolled": true
   },
   "outputs": [],
   "source": [
    "dataset[concept.A[0].item()]"
   ]
  },
  {
   "cell_type": "markdown",
   "id": "a2343316-a0bc-42ff-8aa6-df197233f0ca",
   "metadata": {},
   "source": [
    "## States and Lightning Feature from Neuronscope"
   ]
  },
  {
   "cell_type": "code",
   "execution_count": null,
   "id": "48ae6542-1e9f-46ac-9879-1b72d46b6a79",
   "metadata": {},
   "outputs": [],
   "source": [
    "v_state, concept = gen_concept(22, 10)\n",
    "v_state.shape, concept"
   ]
  },
  {
   "cell_type": "code",
   "execution_count": null,
   "id": "68739003-cee1-4a21-aed0-58475071f3b2",
   "metadata": {
    "scrolled": true
   },
   "outputs": [],
   "source": [
    "dataset[concept.A[0].item()]"
   ]
  },
  {
   "cell_type": "markdown",
   "id": "c8958930-f4c6-4b95-ba53-c54087bc9c50",
   "metadata": {},
   "source": [
    "## Joint concepts"
   ]
  },
  {
   "cell_type": "code",
   "execution_count": null,
   "id": "0946690a-4ad4-423f-a92b-10e764fbf510",
   "metadata": {},
   "outputs": [],
   "source": [
    "# topK(v_orgs, 4), topK(v_school, 4)"
   ]
  },
  {
   "cell_type": "code",
   "execution_count": null,
   "id": "3c4d7324-3f00-4245-80f8-aba333895965",
   "metadata": {},
   "outputs": [],
   "source": [
    "v_orgs = np.zeros_like(to_numpy(v))\n",
    "v_school = np.zeros_like(to_numpy(v))\n",
    "v_having = np.zeros_like(to_numpy(v))"
   ]
  },
  {
   "cell_type": "code",
   "execution_count": null,
   "id": "a0e28963-92af-440f-ae4b-581fe6696cdf",
   "metadata": {},
   "outputs": [],
   "source": [
    "v_orgs[16660] = 20\n",
    "v_school[17624] = 20\n",
    "v_having[17935] = 6"
   ]
  },
  {
   "cell_type": "code",
   "execution_count": null,
   "id": "82566bb5-1b5f-42d3-8d28-f3f5690ea154",
   "metadata": {},
   "outputs": [],
   "source": [
    "orgs = fca.G_FG(v_orgs)\n",
    "schools = fca.G_FG(v_school)\n",
    "havings = fca.G_FG(v_having)\n",
    "orgs, schools, havings"
   ]
  },
  {
   "cell_type": "code",
   "execution_count": null,
   "id": "4f61ab65-88f1-491d-b741-893103d66f65",
   "metadata": {},
   "outputs": [],
   "source": [
    "org_school = orgs & schools\n",
    "org_school"
   ]
  },
  {
   "cell_type": "code",
   "execution_count": null,
   "id": "05f3c39c-67e5-439b-a4c0-10d638d40fb9",
   "metadata": {
    "scrolled": true
   },
   "outputs": [],
   "source": [
    "dataset[org_school.A[0].item()]['text']"
   ]
  },
  {
   "cell_type": "code",
   "execution_count": null,
   "id": "6f29cf9a-a1b9-412e-b8c8-cce6c434ddfc",
   "metadata": {},
   "outputs": [],
   "source": [
    "org_school_havings = orgs & schools & havings \n",
    "org_school_havings"
   ]
  },
  {
   "cell_type": "code",
   "execution_count": null,
   "id": "1fcdb7b9-3b2e-4694-b1d6-66543b8516b8",
   "metadata": {
    "scrolled": true
   },
   "outputs": [],
   "source": [
    "dataset[org_school_havings.A[0].item()]['text']"
   ]
  },
  {
   "cell_type": "markdown",
   "id": "29ca97e3-d27d-4ef9-86d7-08687bb68060",
   "metadata": {},
   "source": [
    "## Recipie Feature from Neuronscope"
   ]
  },
  {
   "cell_type": "code",
   "execution_count": null,
   "id": "6c125ea2-bb70-4d56-b124-180bb82583a3",
   "metadata": {},
   "outputs": [],
   "source": [
    "v_recipie, concept = gen_concept(7, 28)\n",
    "v_recipie.shape, concept"
   ]
  },
  {
   "cell_type": "code",
   "execution_count": null,
   "id": "699f6115-effc-4ec7-add0-b77ba50f9382",
   "metadata": {},
   "outputs": [],
   "source": [
    "dataset[concept.A[0].item()]"
   ]
  },
  {
   "cell_type": "markdown",
   "id": "5cce9f26-7d92-44d4-8a10-06a733700451",
   "metadata": {},
   "source": [
    "## Election Feature from Neuronscope"
   ]
  },
  {
   "cell_type": "code",
   "execution_count": null,
   "id": "ca8534c5-1e2d-4a24-97ee-d0067804e670",
   "metadata": {},
   "outputs": [],
   "source": [
    "v_elect, concept = gen_concept(29, 28)\n",
    "v_elect.shape, concept"
   ]
  },
  {
   "cell_type": "code",
   "execution_count": null,
   "id": "5736f63a-70d1-44ac-9aed-25ef25f3a10a",
   "metadata": {},
   "outputs": [],
   "source": [
    "dataset[concept.A[0].item()]"
   ]
  },
  {
   "cell_type": "markdown",
   "id": "7e40a91d-b994-4f30-8bd0-5217debd981e",
   "metadata": {},
   "source": [
    "## Mixture of Election and Party"
   ]
  },
  {
   "cell_type": "code",
   "execution_count": null,
   "id": "417a020d-edbb-44d6-9b0b-2d7ef3d15b85",
   "metadata": {},
   "outputs": [],
   "source": [
    "v_elect, concept_elects = gen_concept(29, 2)\n",
    "v_elect.shape, concept"
   ]
  },
  {
   "cell_type": "markdown",
   "id": "774d1500-19f2-40cb-887c-e4c5015dbfd9",
   "metadata": {},
   "source": [
    "## Food Features"
   ]
  },
  {
   "cell_type": "code",
   "execution_count": null,
   "id": "e6203345-ae44-4bfc-a9e0-54e25bef40c9",
   "metadata": {},
   "outputs": [],
   "source": [
    "texts = [\n",
    "    'food recipie',\n",
    "    'love',\n",
    "    'admire',\n",
    "    'sex',\n",
    "]"
   ]
  },
  {
   "cell_type": "code",
   "execution_count": null,
   "id": "1b02a465-76f8-4851-b506-0a4fd85f4ffc",
   "metadata": {},
   "outputs": [],
   "source": [
    "v = net.encode(texts[2])[0][1]\n",
    "concept = fca.G_FG(v / 4)\n",
    "concept"
   ]
  },
  {
   "cell_type": "code",
   "execution_count": null,
   "id": "2afcb4d5-e8ff-4b89-804e-f3fde939710e",
   "metadata": {
    "scrolled": true
   },
   "outputs": [],
   "source": [
    "dataset[concept.A[3].item()]"
   ]
  },
  {
   "cell_type": "code",
   "execution_count": null,
   "id": "302bd943-0a1b-4aa2-94a2-eeec077e8368",
   "metadata": {},
   "outputs": [],
   "source": [
    "topK(v, 10)"
   ]
  },
  {
   "cell_type": "code",
   "execution_count": null,
   "id": "0e5a1dfe-b3c5-460d-9273-efeae1e08e02",
   "metadata": {},
   "outputs": [],
   "source": [
    "v_love, recipie = gen_concept(14654, 20)\n",
    "v_love.shape, concept"
   ]
  },
  {
   "cell_type": "code",
   "execution_count": null,
   "id": "fc784c2e-f73c-42f9-84d0-3e2f49249363",
   "metadata": {},
   "outputs": [],
   "source": [
    "v_admire, recipie = gen_concept(14990, 20)\n",
    "v_admire.shape, concept"
   ]
  },
  {
   "cell_type": "code",
   "execution_count": null,
   "id": "909cb38c-129b-4d38-b4c3-ff379eccf255",
   "metadata": {
    "scrolled": true
   },
   "outputs": [],
   "source": [
    "dataset[concept.A[0].item()]"
   ]
  },
  {
   "cell_type": "markdown",
   "id": "9947b1e2-34d7-4e02-98d2-1ac53c8983ce",
   "metadata": {},
   "source": [
    "## Verbal Feature from Neuronscope"
   ]
  },
  {
   "cell_type": "code",
   "execution_count": null,
   "id": "f1d0430f-91c6-44cd-b3aa-e71f38d5b8d8",
   "metadata": {},
   "outputs": [],
   "source": [
    "v_verbal, concept = gen_concept(33, 40)\n",
    "v_verbal.shape, concept"
   ]
  },
  {
   "cell_type": "code",
   "execution_count": null,
   "id": "2bb2733b-0dd5-465a-aff0-9c2859e83ccc",
   "metadata": {
    "scrolled": true
   },
   "outputs": [],
   "source": [
    "dataset[concept.A[0].item()]"
   ]
  },
  {
   "cell_type": "markdown",
   "id": "e5c2852d-1b22-4e4a-8fec-a7aaf839573b",
   "metadata": {},
   "source": [
    "## Border Feature from Neuronscope"
   ]
  },
  {
   "cell_type": "code",
   "execution_count": null,
   "id": "2f02af49-249b-4c92-b8a8-3fbb41ef0f5d",
   "metadata": {},
   "outputs": [],
   "source": [
    "v_border, concept = gen_concept(35, 20)\n",
    "v_border.shape, concept"
   ]
  },
  {
   "cell_type": "code",
   "execution_count": null,
   "id": "3c430300-4ca9-4b3e-a3a0-8ece0fdb0bdf",
   "metadata": {
    "scrolled": true
   },
   "outputs": [],
   "source": [
    "dataset[concept.A[0].item()]"
   ]
  },
  {
   "cell_type": "markdown",
   "id": "f25a05d6-d59f-4d36-9dd6-47d2a0ac294c",
   "metadata": {},
   "source": [
    "## Cross Concept"
   ]
  },
  {
   "cell_type": "code",
   "execution_count": null,
   "id": "a5bcc4f8-9fe2-49ce-a0ac-7262748c6e6d",
   "metadata": {},
   "outputs": [],
   "source": [
    "v_verbal, concept_verbal = gen_concept(33, 16)\n",
    "v_border, concept_border = gen_concept(35, 16)"
   ]
  },
  {
   "cell_type": "code",
   "execution_count": null,
   "id": "f7d961f2-de02-4b0e-b4a0-353764c3bbd2",
   "metadata": {},
   "outputs": [],
   "source": [
    "cross = concept_verbal & concept_border\n",
    "cross"
   ]
  },
  {
   "cell_type": "code",
   "execution_count": null,
   "id": "5232d070-41dd-47bf-b836-6325896a50a4",
   "metadata": {
    "scrolled": true
   },
   "outputs": [],
   "source": [
    "dataset[concept.A[1].item()]"
   ]
  },
  {
   "cell_type": "markdown",
   "id": "de09617b-096e-4fe6-9489-7322f95e2535",
   "metadata": {},
   "source": [
    "## Cross Concept Probability"
   ]
  },
  {
   "cell_type": "code",
   "execution_count": null,
   "id": "3e314136-e402-4b82-b7cd-8d10283fb307",
   "metadata": {},
   "outputs": [],
   "source": [
    "v_posib, concept_posib = gen_concept(1061, 20)\n",
    "v_posit, concept_posit = gen_concept(809, 20)\n",
    "v_liklh, concept_liklh = gen_concept(418, 20)\n",
    "v_qualt, concept_qualt = gen_concept(129, 20)"
   ]
  },
  {
   "cell_type": "code",
   "execution_count": null,
   "id": "641a5e69-92ba-4dcd-8a1a-748f2c6a5753",
   "metadata": {},
   "outputs": [],
   "source": [
    "cross_pr_ps = concept_posib & concept_posit\n",
    "cross_pr_ps"
   ]
  },
  {
   "cell_type": "code",
   "execution_count": null,
   "id": "cfa216cc-5d23-4c8b-8d9f-b92110f63e29",
   "metadata": {
    "scrolled": true
   },
   "outputs": [],
   "source": [
    "dataset[cross_pr_ps.A[0].item()]"
   ]
  },
  {
   "cell_type": "code",
   "execution_count": null,
   "id": "9c85c60d-dddc-4ed8-a8f1-045d772c6e88",
   "metadata": {},
   "outputs": [],
   "source": [
    "cross_lk_ql = concept_liklh & concept_qualt\n",
    "cross_lk_ql"
   ]
  },
  {
   "cell_type": "code",
   "execution_count": null,
   "id": "dac30bb0-c501-48cc-ba70-93b726ef1f39",
   "metadata": {
    "scrolled": true
   },
   "outputs": [],
   "source": [
    "dataset[cross_lk_ql.A[0].item()]"
   ]
  },
  {
   "cell_type": "markdown",
   "id": "88031165-de08-4dc4-8e5f-205e0f1d845f",
   "metadata": {},
   "source": [
    "## Context Features"
   ]
  },
  {
   "cell_type": "code",
   "execution_count": null,
   "id": "c1ab1ccb-808b-4637-8e51-cefc859bfedd",
   "metadata": {},
   "outputs": [],
   "source": [
    "v_peval, concept_peval = gen_concept(3109, 20)\n",
    "v_evstt, concept_evstt = gen_concept(3784, 20)\n",
    "v_sosis, concept_sosis = gen_concept(3702, 20)\n",
    "v_agevs, concept_agevs = gen_concept(3388, 20)"
   ]
  },
  {
   "cell_type": "code",
   "execution_count": null,
   "id": "8afcd6ba-b4f9-490f-8f89-c815505c8981",
   "metadata": {},
   "outputs": [],
   "source": [
    "concept_pe_ev = concept_peval & concept_evstt\n",
    "concept_pe_ev"
   ]
  },
  {
   "cell_type": "code",
   "execution_count": null,
   "id": "c4fe0862-eeea-4a5e-b61a-371afe9ed706",
   "metadata": {
    "scrolled": true
   },
   "outputs": [],
   "source": [
    "dataset[concept_pe_ev.A[0].item()]"
   ]
  },
  {
   "cell_type": "code",
   "execution_count": null,
   "id": "f03e2d9a-cb6d-4bc2-b472-4018ae368bf4",
   "metadata": {},
   "outputs": [],
   "source": [
    "concept_so_ag = concept_sosis & concept_agevs\n",
    "concept_so_ag"
   ]
  },
  {
   "cell_type": "code",
   "execution_count": null,
   "id": "0a1e5d89-6836-4390-bdcd-0dd2adc56e96",
   "metadata": {
    "scrolled": true
   },
   "outputs": [],
   "source": [
    "dataset[concept_so_ag.A[0].item()]"
   ]
  },
  {
   "cell_type": "code",
   "execution_count": null,
   "id": "0c0bda7e-1e11-444f-9e8d-61b8fde1335a",
   "metadata": {},
   "outputs": [],
   "source": [
    "concept_all = concept_peval & concept_evstt & concept_sosis & concept_agevs\n",
    "concept_all"
   ]
  },
  {
   "cell_type": "code",
   "execution_count": null,
   "id": "2e23e23d-b529-4a6c-9ab0-7e952add7383",
   "metadata": {},
   "outputs": [],
   "source": [
    "dataset[concept_all.A[0].item()]"
   ]
  },
  {
   "cell_type": "markdown",
   "id": "eec9a2f7-45b0-4361-ad0e-3f83fca9e0ad",
   "metadata": {},
   "source": [
    "## Computer and Technilogies Concepts"
   ]
  },
  {
   "cell_type": "code",
   "execution_count": null,
   "id": "63792cd6-8a32-40cf-8992-82cf8144180b",
   "metadata": {},
   "outputs": [],
   "source": [
    "v_comps, concept_comps = gen_concept(20542, 14)\n",
    "v_comps.shape, concept_comps"
   ]
  },
  {
   "cell_type": "code",
   "execution_count": null,
   "id": "e58baa52-c6fb-4819-9a98-c2e02b8907ac",
   "metadata": {},
   "outputs": [],
   "source": [
    "dataset[concept_comps.A[0].item()]"
   ]
  },
  {
   "cell_type": "markdown",
   "id": "e53d3476-5a9b-480e-b6b7-10a76650272a",
   "metadata": {},
   "source": [
    "## Innovation Features"
   ]
  },
  {
   "cell_type": "code",
   "execution_count": null,
   "id": "42d6e150-5eff-47db-98ae-2a27af2f9a39",
   "metadata": {},
   "outputs": [],
   "source": [
    "v_innov, concept_innov = gen_concept(2503, 10)\n",
    "v_innov.shape, concept_innov"
   ]
  },
  {
   "cell_type": "code",
   "execution_count": null,
   "id": "d7f9c359-9e88-4ab8-a1f4-2cf43fccbe44",
   "metadata": {
    "scrolled": true
   },
   "outputs": [],
   "source": [
    "dataset[concept_innov.A[0].item()]"
   ]
  },
  {
   "cell_type": "code",
   "execution_count": null,
   "id": "e2b57285-13e4-41ff-b2a0-19de13eda14d",
   "metadata": {},
   "outputs": [],
   "source": [
    "concept_co_in = concept_comps & concept_innov\n",
    "concept_co_in"
   ]
  },
  {
   "cell_type": "code",
   "execution_count": null,
   "id": "f10b0abf-c3f0-4f6c-b94e-4b12a4cdcab8",
   "metadata": {
    "scrolled": true
   },
   "outputs": [],
   "source": [
    "dataset[concept_co_in.A[0].item()]"
   ]
  },
  {
   "cell_type": "markdown",
   "id": "65f2c174-272e-40be-8ec8-3bcf6cb5bba5",
   "metadata": {},
   "source": [
    "## Add Examples"
   ]
  },
  {
   "cell_type": "code",
   "execution_count": null,
   "id": "84580fc8-22de-40e8-b02f-e4db1a5b7d34",
   "metadata": {},
   "outputs": [],
   "source": [
    "text1 = \" The Golden Gate Bridge\"\n",
    "z = net.encode(text1)\n",
    "tokens = net.tokenize(text1)\n",
    "print(torch.topk(z, 12))\n",
    "print()\n",
    "print(z)"
   ]
  },
  {
   "cell_type": "code",
   "execution_count": null,
   "id": "2b8d3745-1dcf-4687-93a9-18cf7da5ff09",
   "metadata": {},
   "outputs": [],
   "source": [
    "r = net.encode('Golden')\n",
    "torch.topk(r[0][1], 50)"
   ]
  },
  {
   "cell_type": "code",
   "execution_count": null,
   "id": "512da159-38d9-4a7d-a99d-96a2659883c6",
   "metadata": {},
   "outputs": [],
   "source": [
    "torch.nonzero(r[0][1]).shape"
   ]
  },
  {
   "cell_type": "code",
   "execution_count": null,
   "id": "a39d8bed-dd2a-4106-a36c-b585395b8972",
   "metadata": {},
   "outputs": [],
   "source": [
    "texts = [\n",
    "    \"Golden Gate Bridge\",\n",
    "    \"New York City\",\n",
    "    \"Silicon Valley\",\n",
    "    \"The White House\",\n",
    "    \"Apple Inc.\"\n",
    "]"
   ]
  },
  {
   "cell_type": "code",
   "execution_count": null,
   "id": "81908bbb-a637-4154-a194-3be1d5972b0b",
   "metadata": {},
   "outputs": [],
   "source": [
    "texts = [\n",
    "    \"School of AI\",\n",
    "    \"School of Economics\",\n",
    "    \"School of Medicine\",\n",
    "    \"School of Arts\",\n",
    "    \"School of Technologies\"\n",
    "]"
   ]
  },
  {
   "cell_type": "code",
   "execution_count": null,
   "id": "1124c57b-bfb9-46dc-934b-21a9566d430f",
   "metadata": {},
   "outputs": [],
   "source": [
    "texts = \"Golden Retriever\"\n",
    "tokens = net.tokenize(texts)\n",
    "tokens, net.to_string(tokens)"
   ]
  },
  {
   "cell_type": "code",
   "execution_count": null,
   "id": "6333d12c-a8a7-427f-b65c-93cabfba9b75",
   "metadata": {},
   "outputs": [],
   "source": [
    "texts = \"Gold\"\n",
    "tokens = net.tokenize(texts)\n",
    "vs = net.encode(texts)\n",
    "tokens, net.to_string(tokens)"
   ]
  },
  {
   "cell_type": "code",
   "execution_count": null,
   "id": "ad7eade8-b63d-46db-85fe-563bbac995d6",
   "metadata": {},
   "outputs": [],
   "source": [
    "net.to_string(32378)"
   ]
  },
  {
   "cell_type": "code",
   "execution_count": null,
   "id": "f23d84a6-450d-4c29-ab51-6fa90d4a21a7",
   "metadata": {},
   "outputs": [],
   "source": []
  },
  {
   "cell_type": "code",
   "execution_count": null,
   "id": "50796eeb-22ae-47b7-8804-bdba312bd8ee",
   "metadata": {},
   "outputs": [],
   "source": [
    "vs = net.encode(texts)"
   ]
  },
  {
   "cell_type": "code",
   "execution_count": null,
   "id": "d6999a82-1946-4032-9916-967328912446",
   "metadata": {},
   "outputs": [],
   "source": [
    "vs.shape, vs[0].shape"
   ]
  },
  {
   "cell_type": "code",
   "execution_count": null,
   "id": "90a86e39-a72c-476e-af2e-aa01f4f2c0ac",
   "metadata": {},
   "outputs": [],
   "source": [
    "v_t = [v[1] for v in vs[:3]]\n",
    "v_t[0].shape"
   ]
  },
  {
   "cell_type": "code",
   "execution_count": null,
   "id": "d5783fb8-3d31-4218-89af-bb178f781f7c",
   "metadata": {},
   "outputs": [],
   "source": [
    "v_A = v_t[0]\n",
    "for v in v_t:\n",
    "    v_A = torch.minimum(v_A, v)"
   ]
  },
  {
   "cell_type": "code",
   "execution_count": null,
   "id": "4a110a11-684f-4cdd-85e8-e651a518c157",
   "metadata": {},
   "outputs": [],
   "source": [
    "vs[0][0].shape, 19837"
   ]
  },
  {
   "cell_type": "code",
   "execution_count": null,
   "id": "f2e06fe5-3c67-4f72-90e5-e5467900383c",
   "metadata": {},
   "outputs": [],
   "source": [
    "torch.topk(vs[0][1], 20)"
   ]
  },
  {
   "cell_type": "code",
   "execution_count": null,
   "id": "7ab8846d-6b78-4e73-b306-24b219da8467",
   "metadata": {},
   "outputs": [],
   "source": [
    "torch.topk(vs[0][1], 20)"
   ]
  },
  {
   "cell_type": "code",
   "execution_count": null,
   "id": "a3fb940e-a526-43b7-8318-2b14104fab71",
   "metadata": {},
   "outputs": [],
   "source": [
    "torch.topk(vs[0][1], 20)"
   ]
  },
  {
   "cell_type": "code",
   "execution_count": null,
   "id": "29c718f0-c0c8-4f3f-bef4-4b038d62a153",
   "metadata": {},
   "outputs": [],
   "source": [
    "torch.topk(v_A, 30)"
   ]
  },
  {
   "cell_type": "markdown",
   "id": "c07b0846-8474-4418-b5c5-b71239787d2c",
   "metadata": {},
   "source": [
    "## Golden Second Index"
   ]
  },
  {
   "cell_type": "code",
   "execution_count": null,
   "id": "b4a2df38-f0d9-44a9-91f5-12f269b6df5d",
   "metadata": {},
   "outputs": [],
   "source": [
    "v_1, concept_1 = gen_concept(21286, 16)\n",
    "v_1.shape, concept_1"
   ]
  },
  {
   "cell_type": "code",
   "execution_count": null,
   "id": "b8239d92-beaa-4e61-b0aa-bfd4fbecaa2f",
   "metadata": {
    "scrolled": true
   },
   "outputs": [],
   "source": [
    "dataset[concept_1.A[0].item()]"
   ]
  },
  {
   "cell_type": "markdown",
   "id": "ae4cea29-6c09-4e59-8732-cd2afd380006",
   "metadata": {},
   "source": [
    "## Gold Second Index"
   ]
  },
  {
   "cell_type": "code",
   "execution_count": null,
   "id": "b14d33a2-2108-4f89-a253-c1693871d317",
   "metadata": {},
   "outputs": [],
   "source": [
    "v_2, concept_2 = gen_concept(9572, 30)\n",
    "v_2.shape, concept_2"
   ]
  },
  {
   "cell_type": "code",
   "execution_count": null,
   "id": "ef1fd589-3da4-4f2f-90fe-0e5dffbeb32b",
   "metadata": {
    "scrolled": true
   },
   "outputs": [],
   "source": [
    "dataset[concept_2.A[0].item()]"
   ]
  },
  {
   "cell_type": "code",
   "execution_count": null,
   "id": "c8abbda7-a6e6-4cbb-9715-3dc0f9c00af3",
   "metadata": {},
   "outputs": [],
   "source": [
    "concept_m = concept_1 & concept_2\n",
    "concept_m"
   ]
  },
  {
   "cell_type": "code",
   "execution_count": null,
   "id": "8cb50cd1-d82d-4832-8beb-c75571b6ffb7",
   "metadata": {
    "scrolled": true
   },
   "outputs": [],
   "source": [
    "dataset[concept_m.A[1].item()]"
   ]
  },
  {
   "cell_type": "code",
   "execution_count": null,
   "id": "8873207f-9262-41e4-ac1e-c6be07823086",
   "metadata": {},
   "outputs": [],
   "source": [
    "tk = topK(V[0], 30)\n",
    "tk"
   ]
  },
  {
   "cell_type": "code",
   "execution_count": null,
   "id": "767ea246-e225-4502-a912-010b7cd5abd9",
   "metadata": {},
   "outputs": [],
   "source": [
    "v_A = np.zeros_like(v_t[0].to('cpu').detach().numpy())\n",
    "v_A[17943] = 62\n",
    "v_A[11811] = 6\n",
    "v_A[15823] = 4\n",
    "v_A[4507] = 4\n",
    "v_A[20161] = 4\n",
    "concept = fca.G_FG(v_A)\n",
    "concept"
   ]
  },
  {
   "cell_type": "code",
   "execution_count": null,
   "id": "f74c45f7-cea7-47fb-aa36-027d67c72cfb",
   "metadata": {},
   "outputs": [],
   "source": [
    "concept.A.shape, V.shape, V.shape[0] - concept.A.shape[0]"
   ]
  },
  {
   "cell_type": "code",
   "execution_count": null,
   "id": "189ace73-e5b9-4147-93db-3f2d7bcde64d",
   "metadata": {},
   "outputs": [],
   "source": [
    "concept.A[0]"
   ]
  },
  {
   "cell_type": "code",
   "execution_count": null,
   "id": "e36fd2d0-5c3e-44f9-bf78-3e0cde2f48ef",
   "metadata": {},
   "outputs": [],
   "source": [
    "dataset[concept.A[2].item()]"
   ]
  },
  {
   "cell_type": "markdown",
   "id": "62707e2c-acc2-4577-ab75-b4fe14675ecb",
   "metadata": {},
   "source": [
    "## Analyze Tokens"
   ]
  },
  {
   "cell_type": "code",
   "execution_count": null,
   "id": "ac1c853d-ffae-4f41-b44b-a6edcfe556ff",
   "metadata": {},
   "outputs": [],
   "source": [
    "len(dataset)"
   ]
  },
  {
   "cell_type": "code",
   "execution_count": null,
   "id": "431ad426-fbb0-4298-bdfa-3c77cc62ed83",
   "metadata": {},
   "outputs": [],
   "source": [
    "checks = []\n",
    "with tqdm(list(range(len(dataset)))) as pdata:\n",
    "    for idx in pdata:\n",
    "        tokens = net.tokenize(dataset[idx]['text'])[0]\n",
    "        vs = joblib.load(matrix_dir / f'{idx}.joblib')\n",
    "        checks.append(tokens.shape[0] == vs.shape[0])"
   ]
  },
  {
   "cell_type": "code",
   "execution_count": null,
   "id": "57ede1f3-d908-43c4-a29d-c515608ed4be",
   "metadata": {},
   "outputs": [],
   "source": [
    "np.all(checks)"
   ]
  },
  {
   "cell_type": "code",
   "execution_count": null,
   "id": "971a5784-e10b-448c-96a0-28d50f5d26ec",
   "metadata": {
    "scrolled": true
   },
   "outputs": [],
   "source": [
    "from IPython.display import clear_output\n",
    "v_paths = list(matrix_dir.glob('*.joblib'))\n",
    "T_dict = {}\n",
    "W_dict = {}\n",
    "with tqdm(concept.A) as v_ppaths:\n",
    "    for idx in v_ppaths:\n",
    "        vs = joblib.load(matrix_dir / f'{idx}.joblib').toarray()\n",
    "        G_x = find_G_x(vs, v_A)\n",
    "        if G_x.shape[0] > 0:\n",
    "            T_dict[idx.item()] = G_x\n",
    "        clear_output(wait=True)"
   ]
  },
  {
   "cell_type": "code",
   "execution_count": null,
   "id": "f69a730c-ce74-47b2-877e-caeab77272d2",
   "metadata": {},
   "outputs": [],
   "source": [
    "len(T_dict)"
   ]
  },
  {
   "cell_type": "code",
   "execution_count": null,
   "id": "0ebf56de-3a46-48bd-b52b-4c7682120040",
   "metadata": {},
   "outputs": [],
   "source": [
    "T_dict[5]"
   ]
  },
  {
   "cell_type": "code",
   "execution_count": null,
   "id": "6d260b11-0534-4575-ba20-477aae33b72d",
   "metadata": {},
   "outputs": [],
   "source": [
    "tokens = net.tokenize(dataset[5]['text'])"
   ]
  },
  {
   "cell_type": "code",
   "execution_count": null,
   "id": "1cb551c9-00c4-479f-931e-67e2b1dcc59c",
   "metadata": {},
   "outputs": [],
   "source": [
    "net.to_string(tokens[0][100])"
   ]
  },
  {
   "cell_type": "code",
   "execution_count": null,
   "id": "187d0928-2d52-400d-bedc-b8e1c539abe6",
   "metadata": {},
   "outputs": [],
   "source": [
    "T_dict[5]"
   ]
  },
  {
   "cell_type": "code",
   "execution_count": null,
   "id": "0a01f0e4-aef7-406d-9d7e-e9d8a23b3564",
   "metadata": {},
   "outputs": [],
   "source": [
    "net.to_string(tokens[0][0]), net.to_string(tokens[0][T_dict[5]])"
   ]
  },
  {
   "cell_type": "code",
   "execution_count": null,
   "id": "c0fa9436-fb8d-4cc6-a745-0d6872319715",
   "metadata": {},
   "outputs": [],
   "source": [
    "W_dict = {}\n",
    "for k, v in T_dict.items():\n",
    "    tokens = net.tokenize(dataset[k]['text'])[0]\n",
    "    W_dict[k] = net.to_string(tokens[v])"
   ]
  },
  {
   "cell_type": "code",
   "execution_count": null,
   "id": "6ec59adf-4761-4a9a-b47e-105107ff0f0d",
   "metadata": {
    "scrolled": true
   },
   "outputs": [],
   "source": [
    "W_dict"
   ]
  },
  {
   "cell_type": "code",
   "execution_count": null,
   "id": "760dfbbc-d795-4c7b-b09c-4aea4baa65f6",
   "metadata": {},
   "outputs": [],
   "source": []
  }
 ],
 "metadata": {
  "kernelspec": {
   "display_name": "Python 3 (ipykernel)",
   "language": "python",
   "name": "python3"
  },
  "language_info": {
   "codemirror_mode": {
    "name": "ipython",
    "version": 3
   },
   "file_extension": ".py",
   "mimetype": "text/x-python",
   "name": "python",
   "nbconvert_exporter": "python",
   "pygments_lexer": "ipython3",
   "version": "3.12.9"
  }
 },
 "nbformat": 4,
 "nbformat_minor": 5
}
