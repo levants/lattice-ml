{
 "cells": [
  {
   "cell_type": "code",
   "execution_count": null,
   "id": "71ce37e9",
   "metadata": {},
   "outputs": [],
   "source": [
    "%load_ext autoreload\n",
    "%autoreload 2\n",
    "\n",
    "%matplotlib inline"
   ]
  },
  {
   "cell_type": "markdown",
   "id": "5b560092",
   "metadata": {},
   "source": [
    "## Install libraries"
   ]
  },
  {
   "cell_type": "markdown",
   "id": "89885fa7",
   "metadata": {},
   "source": [
    "```bash\n",
    "conda create -n edu4 python=3.11 jupyter matplotlib\n",
    "```"
   ]
  },
  {
   "cell_type": "markdown",
   "id": "cd23589d",
   "metadata": {},
   "source": [
    "```bash \n",
    "! pip install -U -r requirements.txt\n",
    "```"
   ]
  },
  {
   "cell_type": "markdown",
   "id": "9d16321f",
   "metadata": {},
   "source": [
    "```bash\n",
    "! pip install -U numpy\n",
    "! pip install -U scikit-learn\n",
    "```"
   ]
  },
  {
   "cell_type": "markdown",
   "id": "b4cab43a",
   "metadata": {},
   "source": [
    "## Update repository"
   ]
  },
  {
   "cell_type": "code",
   "execution_count": null,
   "id": "46bcb5dc",
   "metadata": {},
   "outputs": [],
   "source": [
    "# ! git pull"
   ]
  },
  {
   "cell_type": "markdown",
   "id": "bad216da",
   "metadata": {},
   "source": [
    "## Add import path"
   ]
  },
  {
   "cell_type": "code",
   "execution_count": null,
   "id": "baafb705",
   "metadata": {},
   "outputs": [],
   "source": [
    "import os\n",
    "import sys\n",
    "import gc"
   ]
  },
  {
   "cell_type": "code",
   "execution_count": null,
   "id": "b2930983",
   "metadata": {},
   "outputs": [],
   "source": [
    "module_path = os.path.abspath(os.path.join('..'))\n",
    "if module_path not in sys.path:\n",
    "    sys.path.append(module_path)"
   ]
  },
  {
   "cell_type": "code",
   "execution_count": null,
   "id": "83ccfcbd-f80f-4f27-b3a0-3f06deade10c",
   "metadata": {},
   "outputs": [],
   "source": [
    "module_path = os.path.abspath(os.path.join('../..'))\n",
    "if module_path not in sys.path:\n",
    "    sys.path.append(module_path)"
   ]
  },
  {
   "cell_type": "code",
   "execution_count": null,
   "id": "7984d32f",
   "metadata": {},
   "outputs": [],
   "source": [
    "del module_path"
   ]
  },
  {
   "cell_type": "markdown",
   "id": "07a1e9c8",
   "metadata": {},
   "source": [
    "## Organize imports"
   ]
  },
  {
   "cell_type": "code",
   "execution_count": null,
   "id": "7927f283-cc9b-4268-be85-2874379b118c",
   "metadata": {},
   "outputs": [],
   "source": [
    "from transformers import AutoModelForCausalLM, BitsAndBytesConfig, AutoTokenizer\n",
    "from huggingface_hub import hf_hub_download, notebook_login\n",
    "import numpy as np\n",
    "import torch\n",
    "from torch import nn"
   ]
  },
  {
   "cell_type": "code",
   "execution_count": null,
   "id": "722e0e45-414d-4190-844f-7b44801b2d11",
   "metadata": {},
   "outputs": [],
   "source": [
    "from sae_lens import SAE\n",
    "from transformer_lens.utils import tokenize_and_concatenate"
   ]
  },
  {
   "cell_type": "code",
   "execution_count": null,
   "id": "f3bae2ba-8269-4513-b108-642257dfc72a",
   "metadata": {},
   "outputs": [],
   "source": [
    "from transformer_lens import HookedTransformer"
   ]
  },
  {
   "cell_type": "code",
   "execution_count": null,
   "id": "5319114e-c41f-4894-a05d-c4b428289a00",
   "metadata": {},
   "outputs": [],
   "source": [
    "from datasets import load_dataset"
   ]
  },
  {
   "cell_type": "code",
   "execution_count": null,
   "id": "ae177357",
   "metadata": {},
   "outputs": [],
   "source": [
    "import multiprocessing\n",
    "from pathlib import Path"
   ]
  },
  {
   "cell_type": "code",
   "execution_count": null,
   "id": "2730a69b-c412-4bfe-a3a8-7ff234315280",
   "metadata": {},
   "outputs": [],
   "source": [
    "from tqdm import tqdm"
   ]
  },
  {
   "cell_type": "code",
   "execution_count": null,
   "id": "a523557a",
   "metadata": {},
   "outputs": [],
   "source": [
    "import seaborn as sns"
   ]
  },
  {
   "cell_type": "code",
   "execution_count": null,
   "id": "25750a3d",
   "metadata": {},
   "outputs": [],
   "source": [
    "import matplotlib.pyplot as plt\n",
    "import numpy as np\n",
    "import pandas as pd"
   ]
  },
  {
   "cell_type": "code",
   "execution_count": null,
   "id": "5aa458ae-d6a5-4496-bb58-ba54f1ee3635",
   "metadata": {},
   "outputs": [],
   "source": [
    "from scipy.sparse import csr_matrix"
   ]
  },
  {
   "cell_type": "code",
   "execution_count": null,
   "id": "902f802d-fa9c-4e26-9df1-ae621014e9de",
   "metadata": {},
   "outputs": [],
   "source": [
    "import plotly.express as px"
   ]
  },
  {
   "cell_type": "code",
   "execution_count": null,
   "id": "ee894933-eba4-4742-8fa2-51b2cff5cf6d",
   "metadata": {},
   "outputs": [],
   "source": [
    "from src.lattmc.fca.utils import *\n",
    "from src.lattmc.fca.data_utils import *\n",
    "from src.lattmc.fca.image_utils import *\n",
    "from src.lattmc.fca.models import *\n",
    "from src.lattmc.fca.fca_utils import *\n",
    "from src.lattmc.fca.image_gens import *"
   ]
  },
  {
   "cell_type": "markdown",
   "id": "65f31e93",
   "metadata": {},
   "source": [
    "#### Number of CPU cores"
   ]
  },
  {
   "cell_type": "code",
   "execution_count": null,
   "id": "b41c30f2",
   "metadata": {},
   "outputs": [],
   "source": [
    "workers = multiprocessing.cpu_count()\n",
    "workers"
   ]
  },
  {
   "cell_type": "code",
   "execution_count": null,
   "id": "59f41838-322d-41e8-b8e1-6712089703c9",
   "metadata": {},
   "outputs": [],
   "source": [
    "SEED = 2024"
   ]
  },
  {
   "cell_type": "code",
   "execution_count": null,
   "id": "9e1c0d14-575c-491c-88a3-85f70fae7875",
   "metadata": {},
   "outputs": [],
   "source": [
    "# For the most part I'll try to import functions and classes near where they are used\n",
    "# to make it clear where they come from.\n",
    "\n",
    "if torch.backends.mps.is_available():\n",
    "    device = \"mps\"\n",
    "else:\n",
    "    device = \"cuda\" if torch.cuda.is_available() else \"cpu\"\n",
    "\n",
    "print(f\"Device: {device}\")"
   ]
  },
  {
   "cell_type": "markdown",
   "id": "0ccf4792-19f1-4d01-b9c2-ddea2462cadc",
   "metadata": {},
   "source": [
    "## Initialize Path"
   ]
  },
  {
   "cell_type": "code",
   "execution_count": null,
   "id": "bcd545b8-0e15-41e9-92a9-4d0bf260c8b8",
   "metadata": {},
   "outputs": [],
   "source": [
    "PATH = Path('data')\n",
    "checkpoint_dir = PATH / 'saes'\n",
    "checkpoint_dir.mkdir(exist_ok=True, parents=True)\n",
    "vectors_dir = checkpoint_dir / 'gpt2_small_8_vecs'\n",
    "vectors_dir.mkdir(exist_ok=True, parents=True)\n",
    "matrix_dir = checkpoint_dir / 'gpt2_small_8_mats'\n",
    "matrix_dir.mkdir(exist_ok=True, parents=True)\n",
    "vectors_path = checkpoint_dir / 'gpt2_small_8_vecs.joblib'\n",
    "\n",
    "image_dir = PATH / 'images'\n",
    "image_path = image_dir / '1024.png'"
   ]
  },
  {
   "cell_type": "markdown",
   "id": "be07aad4-53a7-456b-b026-80295db7d84d",
   "metadata": {},
   "source": [
    "## Initialize simple dataset"
   ]
  },
  {
   "cell_type": "code",
   "execution_count": null,
   "id": "c3ddebc9-6b60-403d-aaa1-13c71e3215e6",
   "metadata": {},
   "outputs": [],
   "source": [
    "dataset = load_dataset(\n",
    "    path='NeelNanda/pile-10k',\n",
    "    split='train',\n",
    "    streaming=False,\n",
    ")"
   ]
  },
  {
   "cell_type": "markdown",
   "id": "807137b2-c1f9-42eb-a4aa-2ad0f60c93b2",
   "metadata": {},
   "source": [
    "## Initialize model"
   ]
  },
  {
   "cell_type": "code",
   "execution_count": null,
   "id": "f79a6c4d-2e8b-4605-b21b-757446d5130d",
   "metadata": {},
   "outputs": [],
   "source": [
    "layer = 6"
   ]
  },
  {
   "cell_type": "code",
   "execution_count": null,
   "id": "4ca2a447-c388-49ae-9601-ce3e1d052875",
   "metadata": {},
   "outputs": [],
   "source": [
    "class Text2Latent(object):\n",
    "\n",
    "    def __init__(self, model: nn.Module, sae: nn.Module):\n",
    "        self.model = model.eval()\n",
    "        self.sae = sae.eval()\n",
    "\n",
    "    def tokenize(self, text):\n",
    "        return self.model.to_tokens(text)\n",
    "\n",
    "    def to_string(self, tokens):\n",
    "        return self.model.to_string(tokens)\n",
    "\n",
    "    @torch.inference_mode()\n",
    "    def encode(self, text):\n",
    "        _, cache = self.model.run_with_cache(text, prepend_bos=True)\n",
    "        # get the feature activations from our SAE\n",
    "        z = self.sae.encode(cache[hook_point])\n",
    "        \n",
    "        return z\n",
    "\n",
    "    def decode(self, z):\n",
    "        return self.sae.decode(z)\n",
    "\n",
    "    def forward(self, text):\n",
    "        z = self.encode(text)\n",
    "        r = self.decode(z)\n",
    "\n",
    "        return r"
   ]
  },
  {
   "cell_type": "code",
   "execution_count": null,
   "id": "cf3938d2-4b5a-4132-98c9-c694a5a3d859",
   "metadata": {},
   "outputs": [],
   "source": [
    "model_name = 'gpt2-small'\n",
    "release = 'gpt2-small-mlp-tm'\n",
    "sae_id = 'blocks.8.hook_mlp_out'\n",
    "sae, cfg_dict, sparsity = SAE.from_pretrained(\n",
    "    release=release,  # see other options in sae_lens/pretrained_saes.yaml\n",
    "    sae_id=sae_id,  # won't always be a hook point\n",
    "    device=device,\n",
    ")\n",
    "hook_point = sae.cfg.hook_name\n",
    "print(hook_point)"
   ]
  },
  {
   "cell_type": "code",
   "execution_count": null,
   "id": "629d3b08-5ad2-4c54-ae04-6269dfdf172e",
   "metadata": {},
   "outputs": [],
   "source": [
    "model = HookedTransformer.from_pretrained(model_name, device=device)"
   ]
  },
  {
   "cell_type": "code",
   "execution_count": null,
   "id": "38bdee37-6d3b-48db-bb4f-03dc3bee8692",
   "metadata": {},
   "outputs": [],
   "source": [
    "net = Text2Latent(model, sae)"
   ]
  },
  {
   "cell_type": "markdown",
   "id": "bbb39674-f5fa-4f57-8991-62f9426c119b",
   "metadata": {},
   "source": [
    "## Generate V Lattice"
   ]
  },
  {
   "cell_type": "code",
   "execution_count": null,
   "id": "8dd176eb-71f5-49be-8437-f82b3e31ec33",
   "metadata": {},
   "outputs": [],
   "source": [
    "gc.collect()"
   ]
  },
  {
   "cell_type": "code",
   "execution_count": null,
   "id": "231000a1-a1f8-4e46-9d0f-a044303ecbfa",
   "metadata": {},
   "outputs": [],
   "source": [
    "with tqdm(dataset) as pdata:\n",
    "    for idx, d in enumerate(pdata):\n",
    "        t = d['text']\n",
    "        v = net.encode(t)\n",
    "        v_sparse = csr_matrix(v.to('cpu').detach().numpy()[0])\n",
    "        joblib.dump(\n",
    "            v_sparse, \n",
    "            matrix_dir / f'{idx}.joblib'\n",
    "        )"
   ]
  },
  {
   "cell_type": "code",
   "execution_count": null,
   "id": "6ec4b435-3dd2-45c1-96e9-1ffe691224d7",
   "metadata": {},
   "outputs": [],
   "source": [
    "if vectors_path.exists():\n",
    "    V = joblib.load(vectors_path)\n",
    "else:\n",
    "    v_paths = list(matrix_dir.glob('*.joblib'))\n",
    "    error_paths = []\n",
    "    V_dict = {}\n",
    "    V_list = []\n",
    "    with tqdm(v_paths) as v_ppaths:\n",
    "        for v_path in v_ppaths:\n",
    "            v_sparse = joblib.load(v_path)\n",
    "            vs = v_sparse.toarray()[1:]\n",
    "            v = np.maximum.reduce(vs)\n",
    "            V_dict[int(v_path.stem)] = v\n",
    "    for k in range(10000):\n",
    "        V_list.append(V_dict[k])\n",
    "    V = np.array(V_list)\n",
    "    joblib.dump(V, vectors_path)    "
   ]
  },
  {
   "cell_type": "markdown",
   "id": "0005806a-6eeb-4311-87df-39eec9dbd658",
   "metadata": {},
   "source": [
    "## Generate Context and Analyze"
   ]
  },
  {
   "cell_type": "code",
   "execution_count": null,
   "id": "072c63b3-eb8a-40a3-b401-ae3608913bae",
   "metadata": {},
   "outputs": [],
   "source": [
    "gc.collect()"
   ]
  },
  {
   "cell_type": "code",
   "execution_count": null,
   "id": "2e56f105-3ffd-4732-a9de-5caa3b92f707",
   "metadata": {},
   "outputs": [],
   "source": [
    "fca = FCA(V)"
   ]
  },
  {
   "cell_type": "code",
   "execution_count": null,
   "id": "0621cd3b-5766-416a-9587-1031df08e49b",
   "metadata": {},
   "outputs": [],
   "source": [
    "text1 = \" The Golden Gate Bridge\"\n",
    "z = net.encode(text1)\n",
    "zs = z.to('cpu').detach().numpy()[0]\n",
    "v = np.maximum.reduce(zs)"
   ]
  },
  {
   "cell_type": "code",
   "execution_count": null,
   "id": "f8c4693a-3dc5-481e-8301-cffc0a6ee6c9",
   "metadata": {},
   "outputs": [],
   "source": [
    "zs[1:].shape"
   ]
  },
  {
   "cell_type": "code",
   "execution_count": null,
   "id": "09cb753a-491a-4012-b5a4-7730db141b27",
   "metadata": {},
   "outputs": [],
   "source": [
    "zs.shape"
   ]
  },
  {
   "cell_type": "markdown",
   "id": "efd4d8f9-dd9c-43af-9dc2-426cb27d019f",
   "metadata": {},
   "source": [
    "## Shuttle Feature from Neuronscope"
   ]
  },
  {
   "cell_type": "code",
   "execution_count": null,
   "id": "09b09491-4bfc-4bd2-88d7-276660dfa121",
   "metadata": {},
   "outputs": [],
   "source": [
    "v_shuttle = np.zeros_like(v)\n",
    "v_shuttle[19962] = 3.2\n",
    "v_shuttle.shape"
   ]
  },
  {
   "cell_type": "code",
   "execution_count": null,
   "id": "b03c254c-58ec-47be-b410-c5a1bc5b7fb4",
   "metadata": {},
   "outputs": [],
   "source": [
    "concept = fca.G_FG(v_shuttle)\n",
    "concept"
   ]
  },
  {
   "cell_type": "code",
   "execution_count": null,
   "id": "d3c1f41a-f83f-4997-ae57-1dfc22d75d90",
   "metadata": {
    "scrolled": true
   },
   "outputs": [],
   "source": [
    "dataset[concept.A[2].item()]"
   ]
  },
  {
   "cell_type": "markdown",
   "id": "29f1ba4d-4cfe-45a9-b2a8-dd44c5e1d74b",
   "metadata": {},
   "source": [
    "## For Feature from Neuronscope"
   ]
  },
  {
   "cell_type": "code",
   "execution_count": null,
   "id": "d3755543-9d06-4e89-a1a6-9d01969df6d2",
   "metadata": {},
   "outputs": [],
   "source": [
    "v_for = np.zeros_like(v)\n",
    "v_for[8] = 6.2\n",
    "v_for.shape"
   ]
  },
  {
   "cell_type": "code",
   "execution_count": null,
   "id": "3e9edebc-8be6-468d-ae79-28735a27646b",
   "metadata": {},
   "outputs": [],
   "source": [
    "concept = fca.G_FG(v_for)\n",
    "concept"
   ]
  },
  {
   "cell_type": "code",
   "execution_count": null,
   "id": "b23d8f06-fcc9-4bb6-8bec-4705ccf07088",
   "metadata": {},
   "outputs": [],
   "source": [
    "dataset[concept.A[0].item()]"
   ]
  },
  {
   "cell_type": "markdown",
   "id": "05f3a1af-678b-41d3-9037-2533434bd419",
   "metadata": {},
   "source": [
    "## Time Feature from Neuronscope"
   ]
  },
  {
   "cell_type": "code",
   "execution_count": null,
   "id": "48ae2226-35f6-4ea4-a35a-c64a8e044f1e",
   "metadata": {},
   "outputs": [],
   "source": [
    "v_date = np.zeros_like(v)\n",
    "v_date[2] = 3\n",
    "v_date.shape"
   ]
  },
  {
   "cell_type": "code",
   "execution_count": null,
   "id": "fe5208d1-453d-4d31-8f54-a5b4df88f919",
   "metadata": {},
   "outputs": [],
   "source": [
    "concept = fca.G_FG(v_date)\n",
    "concept"
   ]
  },
  {
   "cell_type": "code",
   "execution_count": null,
   "id": "5690c014-6f86-4cbd-bea6-e0bf97c020eb",
   "metadata": {},
   "outputs": [],
   "source": [
    "dataset[concept.A[0].item()]"
   ]
  },
  {
   "cell_type": "markdown",
   "id": "29ca97e3-d27d-4ef9-86d7-08687bb68060",
   "metadata": {},
   "source": [
    "## Recipie Feature from Neuronscope"
   ]
  },
  {
   "cell_type": "code",
   "execution_count": null,
   "id": "6c125ea2-bb70-4d56-b124-180bb82583a3",
   "metadata": {},
   "outputs": [],
   "source": [
    "v_recipie = np.zeros_like(v)\n",
    "v_recipie[7] = 8.4\n",
    "v_recipie.shape"
   ]
  },
  {
   "cell_type": "code",
   "execution_count": null,
   "id": "4aba144e-1b27-4462-ada7-2d5662d347b8",
   "metadata": {},
   "outputs": [],
   "source": [
    "concept = fca.G_FG(v_recipie)\n",
    "concept"
   ]
  },
  {
   "cell_type": "code",
   "execution_count": null,
   "id": "699f6115-effc-4ec7-add0-b77ba50f9382",
   "metadata": {},
   "outputs": [],
   "source": [
    "dataset[concept.A[0].item()]"
   ]
  },
  {
   "cell_type": "code",
   "execution_count": null,
   "id": "2ccd7b46-a930-4a85-9cf5-2dd822e87a8d",
   "metadata": {},
   "outputs": [],
   "source": []
  },
  {
   "cell_type": "markdown",
   "id": "65f2c174-272e-40be-8ec8-3bcf6cb5bba5",
   "metadata": {},
   "source": [
    "## Add Examples"
   ]
  },
  {
   "cell_type": "code",
   "execution_count": null,
   "id": "84580fc8-22de-40e8-b02f-e4db1a5b7d34",
   "metadata": {},
   "outputs": [],
   "source": [
    "text1 = \" The Golden Gate Bridge\"\n",
    "z = net.encode(text1)\n",
    "tokens = net.tokenize(text1)\n",
    "print(torch.topk(z, 12))\n",
    "print()\n",
    "print(z)"
   ]
  },
  {
   "cell_type": "code",
   "execution_count": null,
   "id": "2b8d3745-1dcf-4687-93a9-18cf7da5ff09",
   "metadata": {},
   "outputs": [],
   "source": [
    "r = net.encode('Golden')\n",
    "torch.topk(r[0][1], 50)"
   ]
  },
  {
   "cell_type": "code",
   "execution_count": null,
   "id": "512da159-38d9-4a7d-a99d-96a2659883c6",
   "metadata": {},
   "outputs": [],
   "source": [
    "torch.nonzero(r[0][1]).shape"
   ]
  },
  {
   "cell_type": "code",
   "execution_count": null,
   "id": "a39d8bed-dd2a-4106-a36c-b585395b8972",
   "metadata": {},
   "outputs": [],
   "source": [
    "texts = [\n",
    "    \"Golden Gate Bridge\",\n",
    "    \"New York City\",\n",
    "    \"Silicon Valley\",\n",
    "    \"The White House\",\n",
    "    \"Apple Inc.\"\n",
    "]"
   ]
  },
  {
   "cell_type": "code",
   "execution_count": null,
   "id": "50796eeb-22ae-47b7-8804-bdba312bd8ee",
   "metadata": {},
   "outputs": [],
   "source": [
    "vs = net.encode(texts)"
   ]
  },
  {
   "cell_type": "code",
   "execution_count": null,
   "id": "d6999a82-1946-4032-9916-967328912446",
   "metadata": {},
   "outputs": [],
   "source": [
    "vs[:3].shape"
   ]
  },
  {
   "cell_type": "code",
   "execution_count": null,
   "id": "90a86e39-a72c-476e-af2e-aa01f4f2c0ac",
   "metadata": {},
   "outputs": [],
   "source": [
    "v_t = [v[1] for v in vs[:3]]\n",
    "v_t[0].shape"
   ]
  },
  {
   "cell_type": "code",
   "execution_count": null,
   "id": "d5783fb8-3d31-4218-89af-bb178f781f7c",
   "metadata": {},
   "outputs": [],
   "source": [
    "v_A = v_t[0]\n",
    "for v in v_t:\n",
    "    v_A = torch.minimum(v_A, v)"
   ]
  },
  {
   "cell_type": "code",
   "execution_count": null,
   "id": "29c718f0-c0c8-4f3f-bef4-4b038d62a153",
   "metadata": {},
   "outputs": [],
   "source": [
    "torch.topk(v_A, 30)"
   ]
  },
  {
   "cell_type": "code",
   "execution_count": null,
   "id": "8873207f-9262-41e4-ac1e-c6be07823086",
   "metadata": {},
   "outputs": [],
   "source": [
    "tk = topK(V[0], 30)\n",
    "tk"
   ]
  },
  {
   "cell_type": "code",
   "execution_count": null,
   "id": "767ea246-e225-4502-a912-010b7cd5abd9",
   "metadata": {},
   "outputs": [],
   "source": [
    "concept = fca.G_FG(v_A)"
   ]
  },
  {
   "cell_type": "code",
   "execution_count": null,
   "id": "5d5c8732-db08-4a0a-ba26-ec8622d62f86",
   "metadata": {},
   "outputs": [],
   "source": [
    "concept"
   ]
  },
  {
   "cell_type": "code",
   "execution_count": null,
   "id": "f74c45f7-cea7-47fb-aa36-027d67c72cfb",
   "metadata": {},
   "outputs": [],
   "source": [
    "concept.A.shape, V.shape, V.shape[0] - concept.A.shape[0]"
   ]
  },
  {
   "cell_type": "code",
   "execution_count": null,
   "id": "189ace73-e5b9-4147-93db-3f2d7bcde64d",
   "metadata": {},
   "outputs": [],
   "source": [
    "concept.A[0]"
   ]
  },
  {
   "cell_type": "code",
   "execution_count": null,
   "id": "e36fd2d0-5c3e-44f9-bf78-3e0cde2f48ef",
   "metadata": {},
   "outputs": [],
   "source": [
    "dataset[concept.A[1].item()]"
   ]
  },
  {
   "cell_type": "markdown",
   "id": "62707e2c-acc2-4577-ab75-b4fe14675ecb",
   "metadata": {},
   "source": [
    "## Analyze Tokens"
   ]
  },
  {
   "cell_type": "code",
   "execution_count": null,
   "id": "ac1c853d-ffae-4f41-b44b-a6edcfe556ff",
   "metadata": {},
   "outputs": [],
   "source": [
    "len(dataset)"
   ]
  },
  {
   "cell_type": "code",
   "execution_count": null,
   "id": "431ad426-fbb0-4298-bdfa-3c77cc62ed83",
   "metadata": {},
   "outputs": [],
   "source": [
    "checks = []\n",
    "with tqdm(list(range(len(dataset)))) as pdata:\n",
    "    for idx in pdata:\n",
    "        tokens = net.tokenize(dataset[idx]['text'])[0]\n",
    "        vs = joblib.load(matrix_dir / f'{idx}.joblib')\n",
    "        checks.append(tokens.shape[0] == vs.shape[0])"
   ]
  },
  {
   "cell_type": "code",
   "execution_count": null,
   "id": "57ede1f3-d908-43c4-a29d-c515608ed4be",
   "metadata": {},
   "outputs": [],
   "source": [
    "np.all(checks)"
   ]
  },
  {
   "cell_type": "code",
   "execution_count": null,
   "id": "971a5784-e10b-448c-96a0-28d50f5d26ec",
   "metadata": {
    "scrolled": true
   },
   "outputs": [],
   "source": [
    "from IPython.display import clear_output\n",
    "v_paths = list(matrix_dir.glob('*.joblib'))\n",
    "T_dict = {}\n",
    "W_dict = {}\n",
    "with tqdm(concept.A) as v_ppaths:\n",
    "    for idx in v_ppaths:\n",
    "        vs = joblib.load(matrix_dir / f'{idx}.joblib').toarray()\n",
    "        G_x = find_G_x(vs, v_A)\n",
    "        if G_x.shape[0] > 0:\n",
    "            T_dict[idx.item()] = G_x\n",
    "        clear_output(wait=True)"
   ]
  },
  {
   "cell_type": "code",
   "execution_count": null,
   "id": "f69a730c-ce74-47b2-877e-caeab77272d2",
   "metadata": {},
   "outputs": [],
   "source": [
    "len(T_dict)"
   ]
  },
  {
   "cell_type": "code",
   "execution_count": null,
   "id": "0ebf56de-3a46-48bd-b52b-4c7682120040",
   "metadata": {},
   "outputs": [],
   "source": [
    "T_dict[5]"
   ]
  },
  {
   "cell_type": "code",
   "execution_count": null,
   "id": "6d260b11-0534-4575-ba20-477aae33b72d",
   "metadata": {},
   "outputs": [],
   "source": [
    "tokens = net.tokenize(dataset[5]['text'])"
   ]
  },
  {
   "cell_type": "code",
   "execution_count": null,
   "id": "1cb551c9-00c4-479f-931e-67e2b1dcc59c",
   "metadata": {},
   "outputs": [],
   "source": [
    "net.to_string(tokens[0][100])"
   ]
  },
  {
   "cell_type": "code",
   "execution_count": null,
   "id": "187d0928-2d52-400d-bedc-b8e1c539abe6",
   "metadata": {},
   "outputs": [],
   "source": [
    "T_dict[5]"
   ]
  },
  {
   "cell_type": "code",
   "execution_count": null,
   "id": "0a01f0e4-aef7-406d-9d7e-e9d8a23b3564",
   "metadata": {},
   "outputs": [],
   "source": [
    "net.to_string(tokens[0][0]), net.to_string(tokens[0][T_dict[5]])"
   ]
  },
  {
   "cell_type": "code",
   "execution_count": null,
   "id": "c0fa9436-fb8d-4cc6-a745-0d6872319715",
   "metadata": {},
   "outputs": [],
   "source": [
    "W_dict = {}\n",
    "for k, v in T_dict.items():\n",
    "    tokens = net.tokenize(dataset[k]['text'])[0]\n",
    "    W_dict[k] = net.to_string(tokens[v])"
   ]
  },
  {
   "cell_type": "code",
   "execution_count": null,
   "id": "6ec59adf-4761-4a9a-b47e-105107ff0f0d",
   "metadata": {
    "scrolled": true
   },
   "outputs": [],
   "source": [
    "W_dict"
   ]
  },
  {
   "cell_type": "code",
   "execution_count": null,
   "id": "760dfbbc-d795-4c7b-b09c-4aea4baa65f6",
   "metadata": {},
   "outputs": [],
   "source": []
  },
  {
   "cell_type": "code",
   "execution_count": null,
   "id": "a468a21c-fb84-41a4-ae32-a7c3707beea7",
   "metadata": {},
   "outputs": [],
   "source": []
  }
 ],
 "metadata": {
  "kernelspec": {
   "display_name": "Python 3 (ipykernel)",
   "language": "python",
   "name": "python3"
  },
  "language_info": {
   "codemirror_mode": {
    "name": "ipython",
    "version": 3
   },
   "file_extension": ".py",
   "mimetype": "text/x-python",
   "name": "python",
   "nbconvert_exporter": "python",
   "pygments_lexer": "ipython3",
   "version": "3.12.9"
  }
 },
 "nbformat": 4,
 "nbformat_minor": 5
}
