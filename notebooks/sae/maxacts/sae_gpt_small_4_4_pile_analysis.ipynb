{
 "cells": [
  {
   "cell_type": "code",
   "execution_count": null,
   "id": "71ce37e9",
   "metadata": {},
   "outputs": [],
   "source": [
    "%load_ext autoreload\n",
    "%autoreload 2\n",
    "\n",
    "%matplotlib inline"
   ]
  },
  {
   "cell_type": "markdown",
   "id": "5b560092",
   "metadata": {},
   "source": [
    "## Install libraries"
   ]
  },
  {
   "cell_type": "markdown",
   "id": "89885fa7",
   "metadata": {},
   "source": [
    "```bash\n",
    "conda create -n edu4 python=3.11 jupyter matplotlib\n",
    "```"
   ]
  },
  {
   "cell_type": "markdown",
   "id": "cd23589d",
   "metadata": {},
   "source": [
    "```bash \n",
    "! pip install -U -r requirements.txt\n",
    "```"
   ]
  },
  {
   "cell_type": "markdown",
   "id": "9d16321f",
   "metadata": {},
   "source": [
    "```bash\n",
    "! pip install -U numpy\n",
    "! pip install -U scikit-learn\n",
    "```"
   ]
  },
  {
   "cell_type": "markdown",
   "id": "b4cab43a",
   "metadata": {},
   "source": [
    "## Update repository"
   ]
  },
  {
   "cell_type": "code",
   "execution_count": null,
   "id": "46bcb5dc",
   "metadata": {},
   "outputs": [],
   "source": [
    "# ! git pull"
   ]
  },
  {
   "cell_type": "markdown",
   "id": "bad216da",
   "metadata": {},
   "source": [
    "## Add import path"
   ]
  },
  {
   "cell_type": "code",
   "execution_count": null,
   "id": "baafb705",
   "metadata": {},
   "outputs": [],
   "source": [
    "import gc\n",
    "import os\n",
    "import sys"
   ]
  },
  {
   "cell_type": "code",
   "execution_count": null,
   "id": "acb2d69b-1208-4910-83fe-357fef2804f7",
   "metadata": {},
   "outputs": [],
   "source": [
    "def add_library_level(level=4):\n",
    "    suf_path = ['..']\n",
    "    path = '..'\n",
    "    for i in range(0, level):\n",
    "        join_path = suf_path * i\n",
    "        path = '/'.join(join_path)\n",
    "        module_path = os.path.abspath(os.path.join(path))\n",
    "        if module_path not in sys.path:\n",
    "            sys.path.append(module_path)\n",
    "            print(f'Appendeding {path}')"
   ]
  },
  {
   "cell_type": "code",
   "execution_count": null,
   "id": "17883ca3-d72f-417c-953a-13fb7f7be2c6",
   "metadata": {},
   "outputs": [],
   "source": [
    "add_library_level(level=4)"
   ]
  },
  {
   "cell_type": "markdown",
   "id": "07a1e9c8",
   "metadata": {},
   "source": [
    "## Organize imports"
   ]
  },
  {
   "cell_type": "code",
   "execution_count": null,
   "id": "7927f283-cc9b-4268-be85-2874379b118c",
   "metadata": {},
   "outputs": [],
   "source": [
    "from transformers import AutoModelForCausalLM, BitsAndBytesConfig, AutoTokenizer\n",
    "from huggingface_hub import hf_hub_download, notebook_login\n",
    "import numpy as np\n",
    "import torch\n",
    "from torch import nn"
   ]
  },
  {
   "cell_type": "code",
   "execution_count": null,
   "id": "722e0e45-414d-4190-844f-7b44801b2d11",
   "metadata": {},
   "outputs": [],
   "source": [
    "from sae_lens import SAE, HookedSAETransformer\n",
    "from transformer_lens.utils import tokenize_and_concatenate"
   ]
  },
  {
   "cell_type": "code",
   "execution_count": null,
   "id": "f3bae2ba-8269-4513-b108-642257dfc72a",
   "metadata": {},
   "outputs": [],
   "source": [
    "from transformer_lens import HookedTransformer"
   ]
  },
  {
   "cell_type": "code",
   "execution_count": null,
   "id": "5319114e-c41f-4894-a05d-c4b428289a00",
   "metadata": {},
   "outputs": [],
   "source": [
    "from datasets import load_dataset"
   ]
  },
  {
   "cell_type": "code",
   "execution_count": null,
   "id": "ae177357",
   "metadata": {},
   "outputs": [],
   "source": [
    "import multiprocessing\n",
    "from pathlib import Path"
   ]
  },
  {
   "cell_type": "code",
   "execution_count": null,
   "id": "2730a69b-c412-4bfe-a3a8-7ff234315280",
   "metadata": {},
   "outputs": [],
   "source": [
    "from tqdm import tqdm"
   ]
  },
  {
   "cell_type": "code",
   "execution_count": null,
   "id": "a523557a",
   "metadata": {},
   "outputs": [],
   "source": [
    "import seaborn as sns"
   ]
  },
  {
   "cell_type": "code",
   "execution_count": null,
   "id": "25750a3d",
   "metadata": {},
   "outputs": [],
   "source": [
    "import matplotlib.pyplot as plt\n",
    "import numpy as np\n",
    "import pandas as pd"
   ]
  },
  {
   "cell_type": "code",
   "execution_count": null,
   "id": "5aa458ae-d6a5-4496-bb58-ba54f1ee3635",
   "metadata": {},
   "outputs": [],
   "source": [
    "from scipy.sparse import csr_matrix"
   ]
  },
  {
   "cell_type": "code",
   "execution_count": null,
   "id": "902f802d-fa9c-4e26-9df1-ae621014e9de",
   "metadata": {},
   "outputs": [],
   "source": [
    "import plotly.express as px"
   ]
  },
  {
   "cell_type": "code",
   "execution_count": null,
   "id": "ee894933-eba4-4742-8fa2-51b2cff5cf6d",
   "metadata": {},
   "outputs": [],
   "source": [
    "from src.lattmc.fca.utils import *\n",
    "from src.lattmc.fca.data_utils import *\n",
    "from src.lattmc.fca.image_utils import *\n",
    "from src.lattmc.fca.models import *\n",
    "from src.lattmc.fca.fca_utils import *\n",
    "from src.lattmc.fca.image_gens import *"
   ]
  },
  {
   "cell_type": "code",
   "execution_count": null,
   "id": "5545b35f-c8f8-4f2f-b891-a29bf6f96a36",
   "metadata": {},
   "outputs": [],
   "source": [
    "from src.lattmc.sae.nlp_sae_utils import *"
   ]
  },
  {
   "cell_type": "code",
   "execution_count": null,
   "id": "ebc02393-d2ee-4638-97b3-b8994e4191d6",
   "metadata": {},
   "outputs": [],
   "source": [
    "import logging"
   ]
  },
  {
   "cell_type": "markdown",
   "id": "65f31e93",
   "metadata": {},
   "source": [
    "#### Number of CPU cores"
   ]
  },
  {
   "cell_type": "code",
   "execution_count": null,
   "id": "b41c30f2",
   "metadata": {},
   "outputs": [],
   "source": [
    "workers = multiprocessing.cpu_count()\n",
    "workers"
   ]
  },
  {
   "cell_type": "code",
   "execution_count": null,
   "id": "59f41838-322d-41e8-b8e1-6712089703c9",
   "metadata": {},
   "outputs": [],
   "source": [
    "SEED = 2024"
   ]
  },
  {
   "cell_type": "code",
   "execution_count": null,
   "id": "c5516efd-39d7-4d19-9112-4a1bd0efcd30",
   "metadata": {},
   "outputs": [],
   "source": [
    "logging.basicConfig(level=logging.INFO)"
   ]
  },
  {
   "cell_type": "code",
   "execution_count": null,
   "id": "9e1c0d14-575c-491c-88a3-85f70fae7875",
   "metadata": {},
   "outputs": [],
   "source": [
    "device = init_device()"
   ]
  },
  {
   "cell_type": "code",
   "execution_count": null,
   "id": "1e9fcf4c-09fe-4262-b975-56a627c02797",
   "metadata": {},
   "outputs": [],
   "source": [
    "torch.__version__"
   ]
  },
  {
   "cell_type": "code",
   "execution_count": null,
   "id": "f6916c3b-746f-4169-98eb-49d20824e8ef",
   "metadata": {},
   "outputs": [],
   "source": [
    "np.__version__"
   ]
  },
  {
   "cell_type": "markdown",
   "id": "1842a417-4d8a-4dc1-8586-8a9c3998228a",
   "metadata": {},
   "source": [
    "## Initialize Layer"
   ]
  },
  {
   "cell_type": "code",
   "execution_count": null,
   "id": "f79a6c4d-2e8b-4605-b21b-757446d5130d",
   "metadata": {},
   "outputs": [],
   "source": [
    "layer = 4\n",
    "dataset_suffix = 'pile'"
   ]
  },
  {
   "cell_type": "markdown",
   "id": "0ccf4792-19f1-4d01-b9c2-ddea2462cadc",
   "metadata": {},
   "source": [
    "## Initialize Path"
   ]
  },
  {
   "cell_type": "code",
   "execution_count": null,
   "id": "bcd545b8-0e15-41e9-92a9-4d0bf260c8b8",
   "metadata": {},
   "outputs": [],
   "source": [
    "def init_data(model_name, layer, dataset_suffix='pile'):\n",
    "    PATH = Path('../data')\n",
    "    dataset_suffix = 'pile'\n",
    "    vectors_name = f'{model_name.replace('-', '_')}_{layer}_{dataset_suffix}'\n",
    "    checkpoint_dir = PATH / 'saes'\n",
    "    vectors_dir = checkpoint_dir / f'{vectors_name}_vecs'\n",
    "    matrix_dir = checkpoint_dir / f'{vectors_name}_mats'\n",
    "    vectors_path = checkpoint_dir / f'{vectors_name}_vecs.joblib'\n",
    "    \n",
    "    mkdirs(\n",
    "        checkpoint_dir,\n",
    "        vectors_dir,\n",
    "        matrix_dir\n",
    "    )\n",
    "    logger.info(f'{matrix_dir = } {vectors_path = }')\n",
    "\n",
    "    return matrix_dir, vectors_path"
   ]
  },
  {
   "cell_type": "markdown",
   "id": "be07aad4-53a7-456b-b026-80295db7d84d",
   "metadata": {},
   "source": [
    "## Initialize simple dataset"
   ]
  },
  {
   "cell_type": "code",
   "execution_count": null,
   "id": "c3ddebc9-6b60-403d-aaa1-13c71e3215e6",
   "metadata": {},
   "outputs": [],
   "source": [
    "dataset = load_dataset(\n",
    "    path='NeelNanda/pile-10k',\n",
    "    split='train',\n",
    "    streaming=False,\n",
    ")"
   ]
  },
  {
   "cell_type": "markdown",
   "id": "807137b2-c1f9-42eb-a4aa-2ad0f60c93b2",
   "metadata": {},
   "source": [
    "## Initialize model"
   ]
  },
  {
   "cell_type": "code",
   "execution_count": null,
   "id": "f881273d-0cd8-4ded-ba37-94e1fb692672",
   "metadata": {},
   "outputs": [],
   "source": [
    "def gen_concept(idx, val, shape=24576):\n",
    "    v_idx = np.zeros((shape,), dtype=float)\n",
    "    v_idx[idx] = val\n",
    "    concept = fca.G_FG(v_idx)\n",
    "    \n",
    "    return v_idx, concept"
   ]
  },
  {
   "cell_type": "code",
   "execution_count": null,
   "id": "111a722a-54ad-49a8-be8d-9f8721908d1e",
   "metadata": {},
   "outputs": [],
   "source": [
    "model_name = 'gpt2-small'\n",
    "release = 'gpt2-small-res-jb'\n",
    "sae_id = f'blocks.{layer}.hook_resid_pre'"
   ]
  },
  {
   "cell_type": "code",
   "execution_count": null,
   "id": "c26e713d-72bb-4b93-9ced-1dfd6dcf4203",
   "metadata": {},
   "outputs": [],
   "source": [
    "matrix_dir, vector_path = init_data(model_name, layer, dataset_suffix=dataset_suffix)"
   ]
  },
  {
   "cell_type": "code",
   "execution_count": null,
   "id": "cf3938d2-4b5a-4132-98c9-c694a5a3d859",
   "metadata": {
    "scrolled": true
   },
   "outputs": [],
   "source": [
    "net = Text2Sae(\n",
    "    model_name,\n",
    "    release,\n",
    "    sae_id,\n",
    "    device\n",
    ")"
   ]
  },
  {
   "cell_type": "markdown",
   "id": "bbb39674-f5fa-4f57-8991-62f9426c119b",
   "metadata": {},
   "source": [
    "## Generate V Lattice"
   ]
  },
  {
   "cell_type": "code",
   "execution_count": null,
   "id": "8dd176eb-71f5-49be-8437-f82b3e31ec33",
   "metadata": {},
   "outputs": [],
   "source": [
    "gc.collect()"
   ]
  },
  {
   "cell_type": "code",
   "execution_count": null,
   "id": "337e03f1-b196-488d-b753-dabbd44732f9",
   "metadata": {},
   "outputs": [],
   "source": [
    "matrix_dir"
   ]
  },
  {
   "cell_type": "code",
   "execution_count": null,
   "id": "231000a1-a1f8-4e46-9d0f-a044303ecbfa",
   "metadata": {},
   "outputs": [],
   "source": [
    "init_matrices(matrix_dir, dataset, net)"
   ]
  },
  {
   "cell_type": "code",
   "execution_count": null,
   "id": "8146f4c2-0afc-4d1d-a5fc-626cc70d5151",
   "metadata": {},
   "outputs": [],
   "source": [
    "gc.collect()"
   ]
  },
  {
   "cell_type": "code",
   "execution_count": null,
   "id": "6ec4b435-3dd2-45c1-96e9-1ffe691224d7",
   "metadata": {},
   "outputs": [],
   "source": [
    "V = init_vectors(vector_path, matrix_dir, segment=False)"
   ]
  },
  {
   "cell_type": "markdown",
   "id": "0005806a-6eeb-4311-87df-39eec9dbd658",
   "metadata": {},
   "source": [
    "## Generate Context and Analyze"
   ]
  },
  {
   "cell_type": "code",
   "execution_count": null,
   "id": "072c63b3-eb8a-40a3-b401-ae3608913bae",
   "metadata": {},
   "outputs": [],
   "source": [
    "gc.collect()"
   ]
  },
  {
   "cell_type": "code",
   "execution_count": null,
   "id": "2e56f105-3ffd-4732-a9de-5caa3b92f707",
   "metadata": {},
   "outputs": [],
   "source": [
    "fca = FCA(V)"
   ]
  },
  {
   "cell_type": "code",
   "execution_count": null,
   "id": "3b930df0-c929-4bd8-b069-cc7b085aa18a",
   "metadata": {},
   "outputs": [],
   "source": [
    "text1 = \"The Golden Gate Bridge\"\n",
    "text2 = \"The Brooklyn Bridge\"\n",
    "text3 = \"The card game Bridge\""
   ]
  },
  {
   "cell_type": "code",
   "execution_count": null,
   "id": "ad22cb66-32a5-4239-bee6-8453f9c7f570",
   "metadata": {},
   "outputs": [],
   "source": [
    "sent1 = 'New York City'\n",
    "sent2 = 'Golden Gate Bridge'\n",
    "sent3 = 'Grand Canyon Park'"
   ]
  },
  {
   "cell_type": "code",
   "execution_count": null,
   "id": "c94f3545-795c-4430-ace5-07f8a3126873",
   "metadata": {},
   "outputs": [],
   "source": [
    "word_mapper = WordMapper(net, dataset, matrix_dir)"
   ]
  },
  {
   "cell_type": "markdown",
   "id": "1c2bf759-f2d3-47f1-86ee-b5ee92ad5020",
   "metadata": {},
   "source": [
    "## New York Ciry"
   ]
  },
  {
   "cell_type": "code",
   "execution_count": null,
   "id": "d535fa25-066c-413f-82ce-2289b822665a",
   "metadata": {},
   "outputs": [],
   "source": [
    "v_ns = net.embed(sent1)[0][1:]\n",
    "v_gs = net.embed(sent2)[0][1:]"
   ]
  },
  {
   "cell_type": "code",
   "execution_count": null,
   "id": "42135c41-7d84-4113-afa3-817c26ced99a",
   "metadata": {},
   "outputs": [],
   "source": [
    "t_ns = net.tokenize(sent1)[0][1:]\n",
    "t_gs = net.tokenize(sent2)[0][1:]"
   ]
  },
  {
   "cell_type": "code",
   "execution_count": null,
   "id": "4a990c3b-a10f-45f1-82fa-0806efb18edf",
   "metadata": {},
   "outputs": [],
   "source": [
    "t_ns.shape, t_gs.shape"
   ]
  },
  {
   "cell_type": "code",
   "execution_count": null,
   "id": "e5f06641-40c9-4b77-8c62-e803ef7bc93a",
   "metadata": {},
   "outputs": [],
   "source": [
    "t_ns, t_gs"
   ]
  },
  {
   "cell_type": "code",
   "execution_count": null,
   "id": "842c5a9b-187a-4ce6-93fe-2f6a249ad856",
   "metadata": {},
   "outputs": [],
   "source": [
    "topK(v_ns[0], 10)"
   ]
  },
  {
   "cell_type": "code",
   "execution_count": null,
   "id": "b5562ba7-f79e-4435-9c77-c2c7a3fc036e",
   "metadata": {},
   "outputs": [],
   "source": [
    "topK(v_gs[0], 10)"
   ]
  },
  {
   "cell_type": "code",
   "execution_count": null,
   "id": "df89e091-e3be-4fec-9768-5c0ae0d2fd14",
   "metadata": {},
   "outputs": [],
   "source": [
    "m_bg = meet(v_ns[2], v_gs[2])\n",
    "topK(m_bg, 20)"
   ]
  },
  {
   "cell_type": "code",
   "execution_count": null,
   "id": "6cfc77f3-97fd-4e21-afcb-dba900ee2f28",
   "metadata": {},
   "outputs": [],
   "source": [
    "m_cg, c_bg = gen_concept(9805, 6)\n",
    "c_bg"
   ]
  },
  {
   "cell_type": "code",
   "execution_count": null,
   "id": "53dc6ff9-00c0-4b4d-83c3-8fd132889c46",
   "metadata": {
    "scrolled": true
   },
   "outputs": [],
   "source": [
    "ws = word_mapper(c_bg, v=m_cg)"
   ]
  },
  {
   "cell_type": "code",
   "execution_count": null,
   "id": "7ad53fb5-2179-49d8-8e44-36f8c9e7dd4d",
   "metadata": {
    "scrolled": true
   },
   "outputs": [],
   "source": [
    "ws"
   ]
  },
  {
   "cell_type": "markdown",
   "id": "d842278c-4dff-47bc-8af2-dcac05199da7",
   "metadata": {},
   "source": [
    "## Sentence generation"
   ]
  },
  {
   "cell_type": "code",
   "execution_count": null,
   "id": "2ed41d1c-00fb-4912-8e3f-705453c9b556",
   "metadata": {},
   "outputs": [],
   "source": [
    "c_golden = fca.G_FG(v_gs[0] / 10)\n",
    "c_gate = fca.G_FG(v_gs[1] / 10)\n",
    "c_bridge = fca.G_FG(v_gs[2] / 10)"
   ]
  },
  {
   "cell_type": "code",
   "execution_count": null,
   "id": "3d54f410-21e8-4a70-b9c9-97edcdceffcd",
   "metadata": {},
   "outputs": [],
   "source": [
    "c_golden, c_gate, c_bridge"
   ]
  },
  {
   "cell_type": "code",
   "execution_count": null,
   "id": "a46931dd-c462-44fe-ae52-0e45ecf673a2",
   "metadata": {},
   "outputs": [],
   "source": [
    "c_golden_gate = c_golden & c_gate\n",
    "c_golden_gate"
   ]
  },
  {
   "cell_type": "code",
   "execution_count": null,
   "id": "10e8cda2-62f7-480c-883a-0bb763c36278",
   "metadata": {
    "scrolled": true
   },
   "outputs": [],
   "source": [
    "dataset[c_golden_gate.A[0].item()]['text']"
   ]
  },
  {
   "cell_type": "code",
   "execution_count": null,
   "id": "853b2796-3936-4dd9-98e7-82a8fcecd229",
   "metadata": {},
   "outputs": [],
   "source": [
    "v_nyc = net.embed(sent1)[0][1:]\n",
    "v_ggb = net.embed(sent2)[0][1:]\n",
    "v_gcp = net.embed(sent3)[0][1:]\n",
    "v_nyc.shape, sent1, v_ggb.shape, sent2, v_gcp.shape, sent3"
   ]
  },
  {
   "cell_type": "code",
   "execution_count": null,
   "id": "1faa09e2-e416-4090-a0c2-f5d65741df9d",
   "metadata": {},
   "outputs": [],
   "source": [
    "join_all(v_ggb).shape"
   ]
  },
  {
   "cell_type": "code",
   "execution_count": null,
   "id": "f769c793-b7e5-4839-b1ca-914e68ea35f3",
   "metadata": {},
   "outputs": [],
   "source": [
    "c_ggb = fca.G_FG(v_ggb[1] / 10)\n",
    "c_ggb"
   ]
  },
  {
   "cell_type": "code",
   "execution_count": null,
   "id": "1e08eb39-93ee-4257-b8b1-53a726eff47a",
   "metadata": {
    "scrolled": true
   },
   "outputs": [],
   "source": [
    "dataset[c_ggb.A[2].item()]['text']"
   ]
  },
  {
   "cell_type": "code",
   "execution_count": null,
   "id": "e4004a0b-4d45-4592-a3b1-4f5f4b670ce0",
   "metadata": {
    "scrolled": true
   },
   "outputs": [],
   "source": [
    "ws = word_mapper(c_ggb, v=v_ggb[0] / 100)"
   ]
  },
  {
   "cell_type": "code",
   "execution_count": null,
   "id": "dad02c73-281f-4312-a4f0-d81ef1c45ac8",
   "metadata": {},
   "outputs": [],
   "source": [
    "ws"
   ]
  },
  {
   "cell_type": "code",
   "execution_count": null,
   "id": "6c058e99-1832-4925-8177-d8373d7ae90e",
   "metadata": {},
   "outputs": [],
   "source": [
    "topK(v_gcp[0], 20)"
   ]
  },
  {
   "cell_type": "code",
   "execution_count": null,
   "id": "48c6ecf2-c5fd-47a6-b0d6-7486fe0c6fbd",
   "metadata": {},
   "outputs": [],
   "source": [
    "v_gcm = meet(v_gcp[0], v_gcp[1])\n",
    "topK(v_gcm, 10)"
   ]
  },
  {
   "cell_type": "code",
   "execution_count": null,
   "id": "31a2c477-f1cf-424b-a558-ffdfa235eb49",
   "metadata": {},
   "outputs": [],
   "source": [
    "v_ggm = meet(v_ggb[0], v_ggb[1])\n",
    "topK(v_ggm, 10)"
   ]
  },
  {
   "cell_type": "code",
   "execution_count": null,
   "id": "09800c08-eecf-4647-9b51-5c5fabee3c80",
   "metadata": {},
   "outputs": [],
   "source": [
    "c_ggm = fca.G_FG(v_ggm)"
   ]
  },
  {
   "cell_type": "code",
   "execution_count": null,
   "id": "22b77edd-2e35-4e6f-a6f5-95532adae988",
   "metadata": {},
   "outputs": [],
   "source": [
    "w_ggm = word_mapper(c_ggm)\n",
    "w_ggm"
   ]
  },
  {
   "cell_type": "code",
   "execution_count": null,
   "id": "cf05b2e0-48a3-445c-8dd8-ffc689e990ab",
   "metadata": {},
   "outputs": [],
   "source": [
    "items = dataset[c_ggm.A.tolist()]"
   ]
  },
  {
   "cell_type": "code",
   "execution_count": null,
   "id": "fa51707b-35ce-43ff-81f3-fe70c05a23b3",
   "metadata": {},
   "outputs": [],
   "source": [
    "items"
   ]
  },
  {
   "cell_type": "code",
   "execution_count": null,
   "id": "7878548e-5441-4541-9bde-cd8c8d28941e",
   "metadata": {},
   "outputs": [],
   "source": [
    "v_i, cn_i = gen_concept(6374, 6)\n",
    "cn_i"
   ]
  },
  {
   "cell_type": "code",
   "execution_count": null,
   "id": "cdeeb81a-e5e2-4c3b-9bc2-7620937d592a",
   "metadata": {
    "scrolled": true
   },
   "outputs": [],
   "source": [
    "ws = word_mapper(cn_i, v=v_i)"
   ]
  },
  {
   "cell_type": "code",
   "execution_count": null,
   "id": "4424b8ef-d6c6-47c2-a598-1dabb17be40d",
   "metadata": {},
   "outputs": [],
   "source": [
    "ws"
   ]
  },
  {
   "cell_type": "code",
   "execution_count": null,
   "id": "87d533f8-3b70-4a09-856b-715eeb3f6172",
   "metadata": {},
   "outputs": [],
   "source": []
  }
 ],
 "metadata": {
  "kernelspec": {
   "display_name": "Python 3 (ipykernel)",
   "language": "python",
   "name": "python3"
  },
  "language_info": {
   "codemirror_mode": {
    "name": "ipython",
    "version": 3
   },
   "file_extension": ".py",
   "mimetype": "text/x-python",
   "name": "python",
   "nbconvert_exporter": "python",
   "pygments_lexer": "ipython3",
   "version": "3.12.9"
  }
 },
 "nbformat": 4,
 "nbformat_minor": 5
}
