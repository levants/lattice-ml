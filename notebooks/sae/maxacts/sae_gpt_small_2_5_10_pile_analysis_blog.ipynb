{
 "cells": [
  {
   "cell_type": "code",
   "execution_count": null,
   "id": "71ce37e9",
   "metadata": {},
   "outputs": [],
   "source": [
    "%load_ext autoreload\n",
    "%autoreload 2\n",
    "\n",
    "%matplotlib inline"
   ]
  },
  {
   "cell_type": "markdown",
   "id": "5b560092",
   "metadata": {},
   "source": [
    "## Install libraries"
   ]
  },
  {
   "cell_type": "markdown",
   "id": "89885fa7",
   "metadata": {},
   "source": [
    "```bash\n",
    "conda create -n edu4 python=3.11 jupyter matplotlib\n",
    "```"
   ]
  },
  {
   "cell_type": "markdown",
   "id": "cd23589d",
   "metadata": {},
   "source": [
    "```bash \n",
    "! pip install -U -r requirements.txt\n",
    "```"
   ]
  },
  {
   "cell_type": "markdown",
   "id": "9d16321f",
   "metadata": {},
   "source": [
    "```bash\n",
    "! pip install -U numpy\n",
    "! pip install -U scikit-learn\n",
    "```"
   ]
  },
  {
   "cell_type": "markdown",
   "id": "b4cab43a",
   "metadata": {},
   "source": [
    "## Update repository"
   ]
  },
  {
   "cell_type": "code",
   "execution_count": null,
   "id": "46bcb5dc",
   "metadata": {},
   "outputs": [],
   "source": [
    "# ! git pull"
   ]
  },
  {
   "cell_type": "markdown",
   "id": "bad216da",
   "metadata": {},
   "source": [
    "## Add import path"
   ]
  },
  {
   "cell_type": "code",
   "execution_count": null,
   "id": "baafb705",
   "metadata": {},
   "outputs": [],
   "source": [
    "import gc\n",
    "import os\n",
    "import sys"
   ]
  },
  {
   "cell_type": "code",
   "execution_count": null,
   "id": "acb2d69b-1208-4910-83fe-357fef2804f7",
   "metadata": {},
   "outputs": [],
   "source": [
    "def add_library_level(level=4):\n",
    "    suf_path = ['..']\n",
    "    path = '..'\n",
    "    for i in range(0, level):\n",
    "        join_path = suf_path * i\n",
    "        path = '/'.join(join_path)\n",
    "        module_path = os.path.abspath(os.path.join(path))\n",
    "        if module_path not in sys.path:\n",
    "            sys.path.append(module_path)\n",
    "            print(f'Appendeding {path}')"
   ]
  },
  {
   "cell_type": "code",
   "execution_count": null,
   "id": "17883ca3-d72f-417c-953a-13fb7f7be2c6",
   "metadata": {},
   "outputs": [],
   "source": [
    "add_library_level(level=4)"
   ]
  },
  {
   "cell_type": "markdown",
   "id": "07a1e9c8",
   "metadata": {},
   "source": [
    "## Organize imports"
   ]
  },
  {
   "cell_type": "code",
   "execution_count": null,
   "id": "7927f283-cc9b-4268-be85-2874379b118c",
   "metadata": {},
   "outputs": [],
   "source": [
    "from transformers import AutoModelForCausalLM, BitsAndBytesConfig, AutoTokenizer\n",
    "from huggingface_hub import hf_hub_download, notebook_login\n",
    "import numpy as np\n",
    "import torch\n",
    "from torch import nn"
   ]
  },
  {
   "cell_type": "code",
   "execution_count": null,
   "id": "722e0e45-414d-4190-844f-7b44801b2d11",
   "metadata": {},
   "outputs": [],
   "source": [
    "from sae_lens import SAE, HookedSAETransformer\n",
    "from transformer_lens.utils import tokenize_and_concatenate"
   ]
  },
  {
   "cell_type": "code",
   "execution_count": null,
   "id": "f3bae2ba-8269-4513-b108-642257dfc72a",
   "metadata": {},
   "outputs": [],
   "source": [
    "from transformer_lens import HookedTransformer"
   ]
  },
  {
   "cell_type": "code",
   "execution_count": null,
   "id": "5319114e-c41f-4894-a05d-c4b428289a00",
   "metadata": {},
   "outputs": [],
   "source": [
    "from datasets import load_dataset"
   ]
  },
  {
   "cell_type": "code",
   "execution_count": null,
   "id": "ae177357",
   "metadata": {},
   "outputs": [],
   "source": [
    "import multiprocessing\n",
    "from pathlib import Path"
   ]
  },
  {
   "cell_type": "code",
   "execution_count": null,
   "id": "2730a69b-c412-4bfe-a3a8-7ff234315280",
   "metadata": {},
   "outputs": [],
   "source": [
    "from tqdm import tqdm"
   ]
  },
  {
   "cell_type": "code",
   "execution_count": null,
   "id": "a523557a",
   "metadata": {},
   "outputs": [],
   "source": [
    "import seaborn as sns"
   ]
  },
  {
   "cell_type": "code",
   "execution_count": null,
   "id": "25750a3d",
   "metadata": {},
   "outputs": [],
   "source": [
    "import matplotlib.pyplot as plt\n",
    "import numpy as np\n",
    "import pandas as pd"
   ]
  },
  {
   "cell_type": "code",
   "execution_count": null,
   "id": "5aa458ae-d6a5-4496-bb58-ba54f1ee3635",
   "metadata": {},
   "outputs": [],
   "source": [
    "from scipy.sparse import csr_matrix"
   ]
  },
  {
   "cell_type": "code",
   "execution_count": null,
   "id": "902f802d-fa9c-4e26-9df1-ae621014e9de",
   "metadata": {},
   "outputs": [],
   "source": [
    "import plotly.express as px"
   ]
  },
  {
   "cell_type": "code",
   "execution_count": null,
   "id": "ee894933-eba4-4742-8fa2-51b2cff5cf6d",
   "metadata": {},
   "outputs": [],
   "source": [
    "from src.lattmc.fca.utils import *\n",
    "from src.lattmc.fca.data_utils import *\n",
    "from src.lattmc.fca.image_utils import *\n",
    "from src.lattmc.fca.models import *\n",
    "from src.lattmc.fca.fca_utils import *\n",
    "from src.lattmc.fca.image_gens import *"
   ]
  },
  {
   "cell_type": "code",
   "execution_count": null,
   "id": "5545b35f-c8f8-4f2f-b891-a29bf6f96a36",
   "metadata": {},
   "outputs": [],
   "source": [
    "from src.lattmc.sae.nlp_sae_utils import *"
   ]
  },
  {
   "cell_type": "code",
   "execution_count": null,
   "id": "ebc02393-d2ee-4638-97b3-b8994e4191d6",
   "metadata": {},
   "outputs": [],
   "source": [
    "import logging"
   ]
  },
  {
   "cell_type": "markdown",
   "id": "65f31e93",
   "metadata": {},
   "source": [
    "#### Number of CPU cores"
   ]
  },
  {
   "cell_type": "code",
   "execution_count": null,
   "id": "b41c30f2",
   "metadata": {},
   "outputs": [],
   "source": [
    "workers = multiprocessing.cpu_count()\n",
    "workers"
   ]
  },
  {
   "cell_type": "code",
   "execution_count": null,
   "id": "59f41838-322d-41e8-b8e1-6712089703c9",
   "metadata": {},
   "outputs": [],
   "source": [
    "SEED = 2024"
   ]
  },
  {
   "cell_type": "code",
   "execution_count": null,
   "id": "c5516efd-39d7-4d19-9112-4a1bd0efcd30",
   "metadata": {},
   "outputs": [],
   "source": [
    "logging.basicConfig(level=logging.INFO)"
   ]
  },
  {
   "cell_type": "code",
   "execution_count": null,
   "id": "9e1c0d14-575c-491c-88a3-85f70fae7875",
   "metadata": {},
   "outputs": [],
   "source": [
    "device = init_device()"
   ]
  },
  {
   "cell_type": "code",
   "execution_count": null,
   "id": "1e9fcf4c-09fe-4262-b975-56a627c02797",
   "metadata": {},
   "outputs": [],
   "source": [
    "torch.__version__"
   ]
  },
  {
   "cell_type": "code",
   "execution_count": null,
   "id": "f6916c3b-746f-4169-98eb-49d20824e8ef",
   "metadata": {},
   "outputs": [],
   "source": [
    "np.__version__"
   ]
  },
  {
   "cell_type": "markdown",
   "id": "1842a417-4d8a-4dc1-8586-8a9c3998228a",
   "metadata": {},
   "source": [
    "## Initialize Layer"
   ]
  },
  {
   "cell_type": "code",
   "execution_count": null,
   "id": "f79a6c4d-2e8b-4605-b21b-757446d5130d",
   "metadata": {},
   "outputs": [],
   "source": [
    "layer_2 = 2\n",
    "layer_5 = 5\n",
    "layer_10 = 10\n",
    "dataset_suffix = 'pile'"
   ]
  },
  {
   "cell_type": "markdown",
   "id": "0ccf4792-19f1-4d01-b9c2-ddea2462cadc",
   "metadata": {},
   "source": [
    "## Initialize Path"
   ]
  },
  {
   "cell_type": "code",
   "execution_count": null,
   "id": "bcd545b8-0e15-41e9-92a9-4d0bf260c8b8",
   "metadata": {},
   "outputs": [],
   "source": [
    "def init_data(model_name, layer, dataset_suffix='pile'):\n",
    "    PATH = Path('../data')\n",
    "    dataset_suffix = 'pile'\n",
    "    vectors_name = f'{model_name.replace('-', '_')}_{layer}_{dataset_suffix}'\n",
    "    checkpoint_dir = PATH / 'saes'\n",
    "    vectors_dir = checkpoint_dir / f'{vectors_name}_vecs'\n",
    "    matrix_dir = checkpoint_dir / f'{vectors_name}_mats'\n",
    "    vectors_path = checkpoint_dir / f'{vectors_name}_vecs.npz'\n",
    "    \n",
    "    mkdirs(\n",
    "        checkpoint_dir,\n",
    "        vectors_dir,\n",
    "        matrix_dir\n",
    "    )\n",
    "    logger.info(f'{matrix_dir = } {vectors_path = }')\n",
    "\n",
    "    return matrix_dir, vectors_path"
   ]
  },
  {
   "cell_type": "markdown",
   "id": "be07aad4-53a7-456b-b026-80295db7d84d",
   "metadata": {},
   "source": [
    "## Initialize simple dataset"
   ]
  },
  {
   "cell_type": "code",
   "execution_count": null,
   "id": "c3ddebc9-6b60-403d-aaa1-13c71e3215e6",
   "metadata": {},
   "outputs": [],
   "source": [
    "dataset = load_dataset(\n",
    "    path='NeelNanda/pile-10k',\n",
    "    split='train',\n",
    "    streaming=False,\n",
    ")"
   ]
  },
  {
   "cell_type": "markdown",
   "id": "807137b2-c1f9-42eb-a4aa-2ad0f60c93b2",
   "metadata": {},
   "source": [
    "## Initialize model"
   ]
  },
  {
   "cell_type": "code",
   "execution_count": null,
   "id": "111a722a-54ad-49a8-be8d-9f8721908d1e",
   "metadata": {},
   "outputs": [],
   "source": [
    "model_name = 'gpt2-small'\n",
    "release = 'gpt2-small-res-jb'\n",
    "sae_id_2 = f'blocks.{layer_2}.hook_resid_pre'\n",
    "sae_id_5 = f'blocks.{layer_5}.hook_resid_pre'\n",
    "sae_id_10 = f'blocks.{layer_10}.hook_resid_pre'"
   ]
  },
  {
   "cell_type": "code",
   "execution_count": null,
   "id": "c26e713d-72bb-4b93-9ced-1dfd6dcf4203",
   "metadata": {},
   "outputs": [],
   "source": [
    "matrix_dir_2, vector_path_2 = init_data(model_name, layer_2, dataset_suffix=dataset_suffix)\n",
    "matrix_dir_5, vector_path_5 = init_data(model_name, layer_5, dataset_suffix=dataset_suffix)\n",
    "matrix_dir_10, vector_path_10 = init_data(model_name, layer_10, dataset_suffix=dataset_suffix)"
   ]
  },
  {
   "cell_type": "code",
   "execution_count": null,
   "id": "cf3938d2-4b5a-4132-98c9-c694a5a3d859",
   "metadata": {
    "scrolled": true
   },
   "outputs": [],
   "source": [
    "net_2 = Text2Sae(\n",
    "    model_name,\n",
    "    release,\n",
    "    sae_id_2,\n",
    "    device\n",
    ")\n",
    "\n",
    "net_5 = Text2Sae(\n",
    "    model_name,\n",
    "    release,\n",
    "    sae_id_5,\n",
    "    device\n",
    ")\n",
    "\n",
    "net_10 = Text2Sae(\n",
    "    model_name,\n",
    "    release,\n",
    "    sae_id_10,\n",
    "    device\n",
    ")"
   ]
  },
  {
   "cell_type": "code",
   "execution_count": null,
   "id": "05a293b6-0664-40b1-bf6c-569053d52f71",
   "metadata": {},
   "outputs": [],
   "source": [
    "v = net_5.embed('President of USA')[0]"
   ]
  },
  {
   "cell_type": "code",
   "execution_count": null,
   "id": "ad612741-fbbc-4318-b443-d2b412268060",
   "metadata": {},
   "outputs": [],
   "source": [
    "v.shape"
   ]
  },
  {
   "cell_type": "code",
   "execution_count": null,
   "id": "9d8e4639-be34-496e-bc2e-e0a671aa92e0",
   "metadata": {},
   "outputs": [],
   "source": [
    "topK(v[0], 30)"
   ]
  },
  {
   "cell_type": "markdown",
   "id": "bbb39674-f5fa-4f57-8991-62f9426c119b",
   "metadata": {},
   "source": [
    "## Generate V Lattice"
   ]
  },
  {
   "cell_type": "code",
   "execution_count": null,
   "id": "8dd176eb-71f5-49be-8437-f82b3e31ec33",
   "metadata": {},
   "outputs": [],
   "source": [
    "gc.collect()"
   ]
  },
  {
   "cell_type": "code",
   "execution_count": null,
   "id": "337e03f1-b196-488d-b753-dabbd44732f9",
   "metadata": {},
   "outputs": [],
   "source": [
    "matrix_dir_2, matrix_dir_5, matrix_dir_10"
   ]
  },
  {
   "cell_type": "code",
   "execution_count": null,
   "id": "e1d99ca9-fee1-497d-a5df-b94a9ed0ba6c",
   "metadata": {},
   "outputs": [],
   "source": [
    "len(dataset)"
   ]
  },
  {
   "cell_type": "code",
   "execution_count": null,
   "id": "231000a1-a1f8-4e46-9d0f-a044303ecbfa",
   "metadata": {},
   "outputs": [],
   "source": [
    "init_matrices(matrix_dir_2, dataset, net_2)\n",
    "init_matrices(matrix_dir_5, dataset, net_5)\n",
    "init_matrices(matrix_dir_10, dataset, net_10)"
   ]
  },
  {
   "cell_type": "code",
   "execution_count": null,
   "id": "8146f4c2-0afc-4d1d-a5fc-626cc70d5151",
   "metadata": {},
   "outputs": [],
   "source": [
    "gc.collect()"
   ]
  },
  {
   "cell_type": "code",
   "execution_count": null,
   "id": "6ec4b435-3dd2-45c1-96e9-1ffe691224d7",
   "metadata": {},
   "outputs": [],
   "source": [
    "V_2 = init_vectors(vector_path_2, matrix_dir_2, segment=False)\n",
    "V_5 = init_vectors(vector_path_5, matrix_dir_5, segment=False)\n",
    "V_10 = init_vectors(vector_path_10, matrix_dir_10, segment=False)"
   ]
  },
  {
   "cell_type": "code",
   "execution_count": null,
   "id": "2e56f105-3ffd-4732-a9de-5caa3b92f707",
   "metadata": {},
   "outputs": [],
   "source": [
    "fca_2 = FCA(V_2)\n",
    "fca_5 = FCA(V_5)\n",
    "fca_10 = FCA(V_10)"
   ]
  },
  {
   "cell_type": "code",
   "execution_count": null,
   "id": "c94f3545-795c-4430-ace5-07f8a3126873",
   "metadata": {},
   "outputs": [],
   "source": [
    "word_mapper_2 = WordMapper(net_2, dataset, matrix_dir_2)\n",
    "word_mapper_5 = WordMapper(net_5, dataset, matrix_dir_5)\n",
    "word_mapper_10 = WordMapper(net_10, dataset, matrix_dir_10)"
   ]
  },
  {
   "cell_type": "code",
   "execution_count": null,
   "id": "ce6c4361-7590-4735-a4a6-87e384a7251f",
   "metadata": {},
   "outputs": [],
   "source": [
    "cu_2 = ConceptUtils(fca_2, word_mapper_2)\n",
    "cu_5 = ConceptUtils(fca_5, word_mapper_5)\n",
    "cu_10 = ConceptUtils(fca_10, word_mapper_10)"
   ]
  },
  {
   "cell_type": "markdown",
   "id": "a778627e-c80f-40c3-8c9a-9ab07ff47162",
   "metadata": {},
   "source": [
    "## Analysis of Particular Word"
   ]
  },
  {
   "cell_type": "code",
   "execution_count": null,
   "id": "d40f8226-0711-420b-aa72-3aa3301eb8a2",
   "metadata": {},
   "outputs": [],
   "source": [
    "def search_words(dataset, net, word:str):\n",
    "    word_indices = dict()\n",
    "    with tqdm(dataset, desc='Searching words') as pdata:\n",
    "        for k, d in enumerate(pdata):\n",
    "            idx = d['text'].rfind(word)\n",
    "            if idx > 0:\n",
    "                word_indices[k] = [idx]\n",
    "                pdata.set_postfix_str(f'Word: {word} found in {idx}')\n",
    "\n",
    "    return word_indices"
   ]
  },
  {
   "cell_type": "code",
   "execution_count": null,
   "id": "e8fa7112-4524-4c4c-971e-34a42ce2c5b1",
   "metadata": {},
   "outputs": [],
   "source": [
    "dataset"
   ]
  },
  {
   "cell_type": "code",
   "execution_count": null,
   "id": "d7816d82-8dff-42d7-afc6-590c000679a8",
   "metadata": {},
   "outputs": [],
   "source": [
    "text = 'Test.   '\n",
    "text.lower().strip()"
   ]
  },
  {
   "cell_type": "code",
   "execution_count": null,
   "id": "e2d0d0fe-4e36-4aa2-9b85-1bc91da16636",
   "metadata": {},
   "outputs": [],
   "source": [
    "'understand' in dataset[0]['text']"
   ]
  },
  {
   "cell_type": "code",
   "execution_count": null,
   "id": "5dcb5eba-3850-42ab-864a-07762fc277f7",
   "metadata": {},
   "outputs": [],
   "source": [
    "dataset[0]['text'].rfind('understand')"
   ]
  },
  {
   "cell_type": "code",
   "execution_count": null,
   "id": "618bbf64-39e7-48f4-8e5d-1fa21c8ff9cb",
   "metadata": {},
   "outputs": [],
   "source": [
    "dataset[0]['text'][11771:11771 + len('understand')]"
   ]
  },
  {
   "cell_type": "markdown",
   "id": "57de603c-f13c-4704-b9d8-c5605dd9f342",
   "metadata": {},
   "source": [
    "## Random Text"
   ]
  },
  {
   "cell_type": "code",
   "execution_count": null,
   "id": "28bc5d2d-3c4a-401f-ae14-20032c1cc52f",
   "metadata": {},
   "outputs": [],
   "source": [
    "rtext = 'The quick brown fox jumps over the lazy dog.'"
   ]
  },
  {
   "cell_type": "code",
   "execution_count": null,
   "id": "ac3b7a70-e8ef-405f-8ab8-ca595afb23d9",
   "metadata": {},
   "outputs": [],
   "source": [
    "v_rtext = net_10.embed(rtext)[0][1:]\n",
    "t_rtext = net_10.tokenize(rtext)[0][1:]"
   ]
  },
  {
   "cell_type": "code",
   "execution_count": null,
   "id": "76192e3b-73c5-483a-a2ed-8a1121314b27",
   "metadata": {},
   "outputs": [],
   "source": [
    "cu_10.print_tokens(t_rtext)"
   ]
  },
  {
   "cell_type": "markdown",
   "id": "90f2fa94-b04b-4c8b-bde3-7195c98633bc",
   "metadata": {},
   "source": [
    "## New York City"
   ]
  },
  {
   "cell_type": "code",
   "execution_count": null,
   "id": "d890317b-ead6-48f7-8dee-4428a1c017bd",
   "metadata": {},
   "outputs": [],
   "source": [
    "stext = 'New York City'"
   ]
  },
  {
   "cell_type": "code",
   "execution_count": null,
   "id": "6636482f-7eed-4e95-a5e4-2993a11075ae",
   "metadata": {},
   "outputs": [],
   "source": [
    "word_indices = search_words(dataset, net_10, stext)"
   ]
  },
  {
   "cell_type": "code",
   "execution_count": null,
   "id": "fed94d8c-bd0b-4473-809a-7f481d820b4a",
   "metadata": {
    "scrolled": true
   },
   "outputs": [],
   "source": [
    "word_indices"
   ]
  },
  {
   "cell_type": "code",
   "execution_count": null,
   "id": "5ad1a0d3-2df3-4ea0-a8a0-72ab6263c0ec",
   "metadata": {},
   "outputs": [],
   "source": [
    "dataset[8]['text'][121 - len(stext): 121 + 2 * len(text)]"
   ]
  },
  {
   "cell_type": "code",
   "execution_count": null,
   "id": "1bfa76d4-a87a-4124-b1d3-b1c22946e090",
   "metadata": {},
   "outputs": [],
   "source": [
    "dataset[9551]['text'][9910-10: 9910 + 20]"
   ]
  },
  {
   "cell_type": "code",
   "execution_count": null,
   "id": "f31c46d2-38c6-4c3c-94d7-0a4806ebd5b0",
   "metadata": {},
   "outputs": [],
   "source": [
    "len(word_indices)"
   ]
  },
  {
   "cell_type": "code",
   "execution_count": null,
   "id": "bb6e3f4e-a512-4029-8fb1-59b2b2a516c6",
   "metadata": {},
   "outputs": [],
   "source": [
    "p_keys = np.array(list(word_indices.keys()))"
   ]
  },
  {
   "cell_type": "code",
   "execution_count": null,
   "id": "b7ebbce6-fcac-487d-bce2-c9cf8e6016cf",
   "metadata": {},
   "outputs": [],
   "source": [
    "V_p = V_10[p_keys]"
   ]
  },
  {
   "cell_type": "code",
   "execution_count": null,
   "id": "bbbf035b-fd6a-4a4d-9b38-b52e7261425a",
   "metadata": {},
   "outputs": [],
   "source": [
    "v_p = V_10[9551]"
   ]
  },
  {
   "cell_type": "code",
   "execution_count": null,
   "id": "11c96f9a-0179-4f49-9302-b51fd9e42403",
   "metadata": {},
   "outputs": [],
   "source": [
    "v_p = meet_all(V_p)"
   ]
  },
  {
   "cell_type": "code",
   "execution_count": null,
   "id": "1df08be8-93a2-49b4-b7e2-5c33b1dfcca4",
   "metadata": {},
   "outputs": [],
   "source": [
    "printTopK(v_p)"
   ]
  },
  {
   "cell_type": "code",
   "execution_count": null,
   "id": "072f39bb-95b7-4c93-969f-24b094de15e8",
   "metadata": {},
   "outputs": [],
   "source": [
    "printTopK(V_p[0])"
   ]
  },
  {
   "cell_type": "code",
   "execution_count": null,
   "id": "e2133b0a-7821-415e-b685-6d0cf8f7fade",
   "metadata": {},
   "outputs": [],
   "source": [
    "v_stext = net_10.embed(stext)[0][1:]\n",
    "t_stext = net_10.tokenize(stext)[0][1:]"
   ]
  },
  {
   "cell_type": "code",
   "execution_count": null,
   "id": "24dfa0db-042b-43b4-93d3-2e07c20c87ee",
   "metadata": {},
   "outputs": [],
   "source": [
    "for idx, t in enumerate(t_stext):\n",
    "    print(f'{idx} {net_10.to_string(t)} {t}')"
   ]
  },
  {
   "cell_type": "code",
   "execution_count": null,
   "id": "5b71394f-0a55-487d-ac32-8aae8d5ac507",
   "metadata": {},
   "outputs": [],
   "source": [
    "printTopK(v_stext[0])"
   ]
  },
  {
   "cell_type": "code",
   "execution_count": null,
   "id": "9369c527-d892-4b53-ac0c-469c8db466e6",
   "metadata": {},
   "outputs": [],
   "source": [
    "printTopK(v_stext[1])"
   ]
  },
  {
   "cell_type": "code",
   "execution_count": null,
   "id": "78248686-041b-4974-abc9-1c71e99a7925",
   "metadata": {},
   "outputs": [],
   "source": [
    "printTopK(v_stext[2])"
   ]
  },
  {
   "cell_type": "code",
   "execution_count": null,
   "id": "6cf7497a-b028-421a-b2d1-fd961da18932",
   "metadata": {},
   "outputs": [],
   "source": [
    "v_mtext = meet_all(v_stext[1:3])"
   ]
  },
  {
   "cell_type": "code",
   "execution_count": null,
   "id": "b6ea82fa-d516-47fd-bd04-a36713bd41ac",
   "metadata": {},
   "outputs": [],
   "source": [
    "printTopK(v_mtext)"
   ]
  },
  {
   "cell_type": "code",
   "execution_count": null,
   "id": "414e192c-897c-4f3f-98ee-7b60138faa75",
   "metadata": {
    "scrolled": true
   },
   "outputs": [],
   "source": [
    "printTopK(V_p[:, 17754], k=100)"
   ]
  },
  {
   "cell_type": "code",
   "execution_count": null,
   "id": "aa128b4b-64e0-4f0a-b6ac-c32e6181bf84",
   "metadata": {},
   "outputs": [],
   "source": [
    "V_p[92][17754]"
   ]
  },
  {
   "cell_type": "code",
   "execution_count": null,
   "id": "ad425bc2-124f-431b-bc79-347c7ee9560b",
   "metadata": {
    "scrolled": true
   },
   "outputs": [],
   "source": [
    "p_vp, c_cp, w_cp = cu_10.gen_print([14717], [24], context=[10, 10], top_k=400, indices_only=False)"
   ]
  },
  {
   "cell_type": "code",
   "execution_count": null,
   "id": "7e8eaa9e-0d05-4a9b-a305-c57d3c08681a",
   "metadata": {},
   "outputs": [],
   "source": [
    "for w in w_cp.words:\n",
    "    tw = w[0][1]\n",
    "    cw = w[0][2].replace('<|endoftext|>', '')\n",
    "    print(f'Token: {repr(tw)},  Context window: {repr(cw)}')"
   ]
  },
  {
   "cell_type": "code",
   "execution_count": null,
   "id": "448558e3-1410-4898-9a09-1bc7fbf54497",
   "metadata": {},
   "outputs": [],
   "source": [
    "printTopK(w_cp.v)"
   ]
  },
  {
   "cell_type": "code",
   "execution_count": null,
   "id": "0b48a35c-9518-417b-8209-8f8bb28c1b72",
   "metadata": {
    "scrolled": true
   },
   "outputs": [],
   "source": [
    "printTopK(w_cp.vecs[1453])"
   ]
  },
  {
   "cell_type": "code",
   "execution_count": null,
   "id": "7cd6f2c6-a5c9-427a-afed-fe2b2695da68",
   "metadata": {},
   "outputs": [],
   "source": [
    "v_w = meet_all(list(w_cp.vecs.values()))"
   ]
  },
  {
   "cell_type": "code",
   "execution_count": null,
   "id": "de8cf8d1-71e7-4269-b890-a8eb086f2b23",
   "metadata": {
    "scrolled": true
   },
   "outputs": [],
   "source": [
    "printTopK(v_w)"
   ]
  },
  {
   "cell_type": "code",
   "execution_count": null,
   "id": "b6b72f24-5907-44b9-a4a8-5fdd4c84684c",
   "metadata": {},
   "outputs": [],
   "source": [
    "v1, c1 = cu_10.gen_concept([11982, 14717], [20, 30])\n",
    "v1, c2 = cu_10.gen_concept([23026, 14717], [20, 24])"
   ]
  },
  {
   "cell_type": "code",
   "execution_count": null,
   "id": "fed59394-6158-4466-bed1-16ae7815fc3c",
   "metadata": {},
   "outputs": [],
   "source": [
    "c1, c2"
   ]
  },
  {
   "cell_type": "code",
   "execution_count": null,
   "id": "0c4fe30e-2034-4e8e-939f-a140a6d5ad56",
   "metadata": {
    "scrolled": true
   },
   "outputs": [],
   "source": [
    "printTopK(c1.v)"
   ]
  },
  {
   "cell_type": "code",
   "execution_count": null,
   "id": "7dfd40df-0007-4ceb-bf61-a0cfdd6dbad4",
   "metadata": {
    "scrolled": true
   },
   "outputs": [],
   "source": [
    "printTopK(c2.v)"
   ]
  },
  {
   "cell_type": "code",
   "execution_count": null,
   "id": "28ad3c9a-bfb1-45a8-85be-d547cd1dc0db",
   "metadata": {},
   "outputs": [],
   "source": [
    "c_or = c1 | c2"
   ]
  },
  {
   "cell_type": "code",
   "execution_count": null,
   "id": "03f2a331-915b-414a-95e2-4cd54685658a",
   "metadata": {},
   "outputs": [],
   "source": [
    "c_or"
   ]
  },
  {
   "cell_type": "code",
   "execution_count": null,
   "id": "b2040335-0942-4824-bc10-194ae993a33b",
   "metadata": {
    "scrolled": true
   },
   "outputs": [],
   "source": [
    "printTopK(c_or.v)"
   ]
  },
  {
   "cell_type": "code",
   "execution_count": null,
   "id": "ff15cd98-998e-4797-b425-e5b8fd60f24d",
   "metadata": {},
   "outputs": [],
   "source": [
    "cu_10.mapper.search_words(c_or, v=c_or.v, context=[10, 10])"
   ]
  },
  {
   "cell_type": "code",
   "execution_count": null,
   "id": "c6ca7806-01a5-4a00-92b1-1b5acc2aaa79",
   "metadata": {
    "scrolled": true
   },
   "outputs": [],
   "source": [
    "w_cp.words"
   ]
  },
  {
   "cell_type": "code",
   "execution_count": null,
   "id": "442eab9d-5400-4b33-9958-0d98e43be276",
   "metadata": {},
   "outputs": [],
   "source": [
    "dataset[92]['text'].rfind('president')"
   ]
  },
  {
   "cell_type": "markdown",
   "id": "7aea383c-01e3-41fc-8a08-ce97f4b442ef",
   "metadata": {},
   "source": [
    "## Golden Gate Bridge"
   ]
  },
  {
   "cell_type": "code",
   "execution_count": null,
   "id": "9e5bdcfb-0420-412c-bcb7-e084841abdb9",
   "metadata": {},
   "outputs": [],
   "source": [
    "gtext = 'Golden Gate Bridge'"
   ]
  },
  {
   "cell_type": "code",
   "execution_count": null,
   "id": "879188a2-7c9b-4c6e-8670-e10a3888afd2",
   "metadata": {},
   "outputs": [],
   "source": [
    "v_gb = net_10.embed(gtext)[0][1:]\n",
    "t_gb = net_10.tokenize(gtext)[0][1:]"
   ]
  },
  {
   "cell_type": "code",
   "execution_count": null,
   "id": "a47ed3fa-74f5-43bd-8d57-8b1f1e3b8ad3",
   "metadata": {},
   "outputs": [],
   "source": [
    "cu_10.print_tokens(t_gb)"
   ]
  },
  {
   "cell_type": "code",
   "execution_count": null,
   "id": "536f6fc4-0651-42d9-91ce-653e569d7ec4",
   "metadata": {},
   "outputs": [],
   "source": [
    "v_pl = meet(v_gb[1], v_gb[2])"
   ]
  },
  {
   "cell_type": "code",
   "execution_count": null,
   "id": "918becc5-c78b-4648-bc25-50e95b945f68",
   "metadata": {
    "scrolled": true
   },
   "outputs": [],
   "source": [
    "printTopK(v_pl)"
   ]
  },
  {
   "cell_type": "code",
   "execution_count": null,
   "id": "d4c3182d-edd5-4108-a7c9-9b333802efc0",
   "metadata": {
    "scrolled": true
   },
   "outputs": [],
   "source": [
    "p_gb, c_gb, w_gb = cu_10.gen_print([19694], [3], context=[10, 10], top_k=400, indices_only=False)"
   ]
  },
  {
   "cell_type": "code",
   "execution_count": null,
   "id": "3d5c2034-9fba-44d9-8947-3bf51beadb00",
   "metadata": {
    "scrolled": true
   },
   "outputs": [],
   "source": [
    "w_gb.words"
   ]
  },
  {
   "cell_type": "code",
   "execution_count": null,
   "id": "f2609cc5-ebb6-4530-b78c-17ed2753890b",
   "metadata": {
    "scrolled": true
   },
   "outputs": [],
   "source": [
    "p_gb2, c_gb2, w_gb2 = cu_10.gen_print([19694, 14466, 22253], [3, 3, 3], context=[10, 10], top_k=600, indices_only=False)"
   ]
  },
  {
   "cell_type": "code",
   "execution_count": null,
   "id": "ad2e2c90-4129-46dd-b039-28547f643a29",
   "metadata": {
    "scrolled": true
   },
   "outputs": [],
   "source": [
    "printTopK(w_gb2.v)"
   ]
  },
  {
   "cell_type": "code",
   "execution_count": null,
   "id": "e243014a-94ab-41ea-bd8e-4233e48dc92d",
   "metadata": {
    "scrolled": true
   },
   "outputs": [],
   "source": [
    "w_gb2.words"
   ]
  },
  {
   "cell_type": "markdown",
   "id": "e8c4cc60-62b2-4856-b0c6-eb776ce56c7f",
   "metadata": {},
   "source": [
    "## The Booklyn Bridge"
   ]
  },
  {
   "cell_type": "code",
   "execution_count": null,
   "id": "8bcf042e-5567-41d5-bc0d-69e589627270",
   "metadata": {},
   "outputs": [],
   "source": [
    "btext = \"The Brooklyn Bridge\""
   ]
  },
  {
   "cell_type": "code",
   "execution_count": null,
   "id": "5ac41a7d-6653-453e-8e8c-a927d289d457",
   "metadata": {},
   "outputs": [],
   "source": [
    "v_bb = net_10.embed(btext)[0][1:]\n",
    "t_bb = net_10.tokenize(btext)[0][1:]"
   ]
  },
  {
   "cell_type": "code",
   "execution_count": null,
   "id": "c7541cb2-99c1-4034-89e7-44fdb85fe9b7",
   "metadata": {},
   "outputs": [],
   "source": [
    "cu_10.print_tokens(t_bb)"
   ]
  },
  {
   "cell_type": "code",
   "execution_count": null,
   "id": "57bcf1d8-7dba-40de-b9e3-d8afd1068122",
   "metadata": {},
   "outputs": [],
   "source": [
    "v_mb = meet(v_bb[1], v_bb[2])"
   ]
  },
  {
   "cell_type": "code",
   "execution_count": null,
   "id": "7452c27d-5733-4f5b-8e1d-12609a1b5462",
   "metadata": {
    "scrolled": true
   },
   "outputs": [],
   "source": [
    "printTopK(v_mb)"
   ]
  },
  {
   "cell_type": "code",
   "execution_count": null,
   "id": "983054a0-5503-4c05-beb8-21343cb43606",
   "metadata": {
    "scrolled": true
   },
   "outputs": [],
   "source": [
    "p_bb2, c_bb2, w_bb2 = cu_10.gen_print([23638,  4809,  7574,  6183], [3.9, 1.9, 1.5, 1.4], context=[10, 10], top_k=600, indices_only=False)"
   ]
  },
  {
   "cell_type": "code",
   "execution_count": null,
   "id": "ad0f223e-c8a9-413a-a470-f415d9cf7634",
   "metadata": {
    "scrolled": true
   },
   "outputs": [],
   "source": [
    "printTopK(w_bb2.v)"
   ]
  },
  {
   "cell_type": "code",
   "execution_count": null,
   "id": "66537ccc-2675-4067-b432-d7b81030be6b",
   "metadata": {
    "scrolled": true
   },
   "outputs": [],
   "source": [
    "w_bb2.words"
   ]
  },
  {
   "cell_type": "markdown",
   "id": "87a0c1eb-4d39-440c-b570-70fecb2caa8d",
   "metadata": {},
   "source": [
    "## Grand Canyon Park"
   ]
  },
  {
   "cell_type": "code",
   "execution_count": null,
   "id": "6753a03b-2831-44c5-a1cc-4f00ec72b8b9",
   "metadata": {},
   "outputs": [],
   "source": [
    "ctext = 'Grand Canyon Park'"
   ]
  },
  {
   "cell_type": "code",
   "execution_count": null,
   "id": "fcd6422b-f638-4e66-831e-e98d564109b4",
   "metadata": {},
   "outputs": [],
   "source": [
    "v_gc = net_10.embed(ctext)[0][1:]\n",
    "t_gc = net_10.tokenize(ctext)[0][1:]"
   ]
  },
  {
   "cell_type": "code",
   "execution_count": null,
   "id": "6d080dd8-5722-4aa6-b64f-8937cab297d1",
   "metadata": {},
   "outputs": [],
   "source": [
    "cu_10.print_tokens(t_gc)"
   ]
  },
  {
   "cell_type": "code",
   "execution_count": null,
   "id": "9f7af102-a04b-4d95-9d8a-c18be0f15f0d",
   "metadata": {},
   "outputs": [],
   "source": [
    "v_mc = meet(v_gc[1], v_gc[2])"
   ]
  },
  {
   "cell_type": "code",
   "execution_count": null,
   "id": "d0cb8b08-7cde-4467-90f3-eba352eeb689",
   "metadata": {
    "scrolled": true
   },
   "outputs": [],
   "source": [
    "printTopK(v_mc)"
   ]
  },
  {
   "cell_type": "code",
   "execution_count": null,
   "id": "230d2b0c-9bdf-445d-855e-9dce7ade40dc",
   "metadata": {},
   "outputs": [],
   "source": [
    "p_gc2, c_gc2, w_gc2 = cu_10.gen_print([17616, 19694], [14.151013  , 12.207326], context=[10, 10], top_k=600, indices_only=False)"
   ]
  },
  {
   "cell_type": "code",
   "execution_count": null,
   "id": "84c6f280-5e0b-4d79-b24a-c79814f05c83",
   "metadata": {
    "scrolled": true
   },
   "outputs": [],
   "source": [
    "printTopK(w_gc2.v)"
   ]
  },
  {
   "cell_type": "code",
   "execution_count": null,
   "id": "e3aedc7e-0215-491f-baf6-1e07fb3718ac",
   "metadata": {
    "scrolled": true
   },
   "outputs": [],
   "source": [
    "w_gc2.words"
   ]
  },
  {
   "cell_type": "code",
   "execution_count": null,
   "id": "58677da8-7106-46ef-97ef-f837bb5f1a99",
   "metadata": {
    "scrolled": true
   },
   "outputs": [],
   "source": [
    "p_gc3, c_gc3, w_gc3 = cu_10.gen_print([12842, 13311,  8423], [7.78711033,  4.21317959,  4.02698946], context=[10, 10], top_k=600, indices_only=False)"
   ]
  },
  {
   "cell_type": "code",
   "execution_count": null,
   "id": "a8e5f48e-a035-461a-b456-bc38394c9f44",
   "metadata": {
    "scrolled": true
   },
   "outputs": [],
   "source": [
    "printTopK(w_gc3.v)"
   ]
  },
  {
   "cell_type": "code",
   "execution_count": null,
   "id": "55cb09c9-55c1-4d11-8973-1c40b8ce7021",
   "metadata": {
    "scrolled": true
   },
   "outputs": [],
   "source": [
    "w_gc3.words"
   ]
  },
  {
   "cell_type": "markdown",
   "id": "3a771659-806f-4290-a518-f83174f88562",
   "metadata": {},
   "source": [
    "## Card Game Bridge"
   ]
  },
  {
   "cell_type": "code",
   "execution_count": null,
   "id": "657360f8-6199-4377-96b4-ed179516bb4b",
   "metadata": {},
   "outputs": [],
   "source": [
    "pbtxt = 'How is the card game bridge played'"
   ]
  },
  {
   "cell_type": "code",
   "execution_count": null,
   "id": "3521fc6f-8012-41ac-a67c-46f16c301b61",
   "metadata": {},
   "outputs": [],
   "source": [
    "v_pb = net_10.embed(pbtxt)[0][1:]\n",
    "t_pb = net_10.tokenize(pbtxt)[0][1:]"
   ]
  },
  {
   "cell_type": "code",
   "execution_count": null,
   "id": "7cec19b7-2fe2-4688-839a-83bd2de83cd4",
   "metadata": {},
   "outputs": [],
   "source": [
    "cu_10.print_tokens(t_pb)"
   ]
  },
  {
   "cell_type": "code",
   "execution_count": null,
   "id": "b0722ab1-cef3-410a-a520-7638153e325d",
   "metadata": {},
   "outputs": [],
   "source": [
    "v_mp = meet(v_pb[2], v_pb[3])"
   ]
  },
  {
   "cell_type": "code",
   "execution_count": null,
   "id": "1f71306a-34aa-44a2-9cf2-804ba484b045",
   "metadata": {
    "scrolled": true
   },
   "outputs": [],
   "source": [
    "printTopK(v_mp)"
   ]
  },
  {
   "cell_type": "code",
   "execution_count": null,
   "id": "fc945084-6be6-4047-bf0c-75682ccc7057",
   "metadata": {},
   "outputs": [],
   "source": [
    "p_pb2, c_pb2, w_pb2 = cu_10.gen_print([4009, 19398, 17011, 23638], [7.505138 , 2.9314897, 1.9517093, 1.3742858], context=[10, 10], top_k=600, indices_only=False)"
   ]
  },
  {
   "cell_type": "code",
   "execution_count": null,
   "id": "a936d634-914c-4427-a41a-b8707651b04c",
   "metadata": {
    "scrolled": true
   },
   "outputs": [],
   "source": [
    "printTopK(w_pb2.v)"
   ]
  },
  {
   "cell_type": "code",
   "execution_count": null,
   "id": "b03bf8c4-4e6d-48ad-b33b-830641ffc65b",
   "metadata": {
    "scrolled": true
   },
   "outputs": [],
   "source": [
    "w_pb2.words"
   ]
  },
  {
   "cell_type": "markdown",
   "id": "efc171cc-8498-422b-9b1f-c25f1c9faed4",
   "metadata": {},
   "source": [
    "## Person Status"
   ]
  },
  {
   "cell_type": "code",
   "execution_count": null,
   "id": "eee54d28-addc-4583-81d1-873f63f2ac69",
   "metadata": {},
   "outputs": [],
   "source": [
    "sttext = 'As professor of mathematics and computer science said'"
   ]
  },
  {
   "cell_type": "code",
   "execution_count": null,
   "id": "ab48bd63-b4f5-4dca-9cd8-9ae7cc828b75",
   "metadata": {},
   "outputs": [],
   "source": [
    "v_st = net_10.embed(sttext)[0][1:]\n",
    "t_st = net_10.tokenize(sttext)[0][1:]"
   ]
  },
  {
   "cell_type": "code",
   "execution_count": null,
   "id": "c498646a-cefc-4cdc-92f8-d4f116e87113",
   "metadata": {},
   "outputs": [],
   "source": [
    "cu_10.print_tokens(t_st)"
   ]
  },
  {
   "cell_type": "code",
   "execution_count": null,
   "id": "4b7a783e-fe7c-4e0f-aa7f-1ed1a377a4a9",
   "metadata": {},
   "outputs": [],
   "source": [
    "printTopK(v_st[1])"
   ]
  },
  {
   "cell_type": "code",
   "execution_count": null,
   "id": "c6f8e19d-d573-4ddb-8420-c1a9ac2021a5",
   "metadata": {
    "scrolled": true
   },
   "outputs": [],
   "source": [
    "p_st1, c_st1, w_st1 = cu_10.gen_print([18549], [49], context=[10, 10], top_k=600, indices_only=False)"
   ]
  },
  {
   "cell_type": "code",
   "execution_count": null,
   "id": "f0201046-395b-405b-9576-15a65ed88b72",
   "metadata": {},
   "outputs": [],
   "source": [
    "printTopK(w_st1.v)"
   ]
  },
  {
   "cell_type": "code",
   "execution_count": null,
   "id": "1a009f24-191f-415d-a2ec-c3da9be3d86c",
   "metadata": {},
   "outputs": [],
   "source": [
    "printTopK(w_st1.vecs[816])"
   ]
  },
  {
   "cell_type": "code",
   "execution_count": null,
   "id": "2a32c2f2-568e-4b84-a6ce-1c8ae23eabf5",
   "metadata": {},
   "outputs": [],
   "source": [
    "printTopK(w_st1.vecs[293])"
   ]
  },
  {
   "cell_type": "code",
   "execution_count": null,
   "id": "d12820db-0adc-4c66-bd98-bb825c70b034",
   "metadata": {
    "scrolled": true
   },
   "outputs": [],
   "source": [
    "printTopK(meet(w_st1.vecs[816], w_st1.vecs[293]))"
   ]
  },
  {
   "cell_type": "code",
   "execution_count": null,
   "id": "8342c0d8-8463-480d-994c-7eb5a8eefbd4",
   "metadata": {
    "scrolled": true
   },
   "outputs": [],
   "source": [
    "printTopK(meet(w_st1.vecs[791], w_st1.vecs[2153]))"
   ]
  },
  {
   "cell_type": "code",
   "execution_count": null,
   "id": "1a65fb3f-e6df-42a6-9296-14039455c4bd",
   "metadata": {
    "scrolled": true
   },
   "outputs": [],
   "source": [
    "p_stv1, c_stv1, w_stv1 = cu_10.gen_print([18549, 13704], [53.454197, 10.211535], context=[10, 10], top_k=600, indices_only=False)"
   ]
  },
  {
   "cell_type": "code",
   "execution_count": null,
   "id": "cb6cb0d7-787a-46e4-88e4-93b2e3dacf18",
   "metadata": {
    "scrolled": true
   },
   "outputs": [],
   "source": [
    "p_stv2, c_stv2, w_stv2 = cu_10.gen_print([18549, 19968], [52.81996, 3.5897946,], context=[10, 10], top_k=600, indices_only=False)"
   ]
  },
  {
   "cell_type": "code",
   "execution_count": null,
   "id": "f45a0d27-7aa5-4961-9db1-fff956508f02",
   "metadata": {},
   "outputs": [],
   "source": []
  },
  {
   "cell_type": "code",
   "execution_count": null,
   "id": "1d6dc3ff-46e7-4f7f-ba1c-63d070e0181f",
   "metadata": {},
   "outputs": [],
   "source": [
    "v_mst = meet(v_st[1], v_st[3])"
   ]
  },
  {
   "cell_type": "code",
   "execution_count": null,
   "id": "a048a9c9-6c27-4923-be7d-28abee100296",
   "metadata": {
    "scrolled": true
   },
   "outputs": [],
   "source": [
    "printTopK(v_mst)"
   ]
  },
  {
   "cell_type": "code",
   "execution_count": null,
   "id": "4a7b7392-9ebb-47db-9d35-d50d121ce9a2",
   "metadata": {},
   "outputs": [],
   "source": [
    "p_st2, c_st2, w_st2 = cu_10.gen_print([23638,   363, 18599, 19543], [6.949088  , 2.560136  , 2.4140446 , 2.3404593], context=[10, 10], top_k=600, indices_only=False)"
   ]
  },
  {
   "cell_type": "code",
   "execution_count": null,
   "id": "9541dcbc-e0f1-42a2-bae8-83ad557bfa4b",
   "metadata": {
    "scrolled": true
   },
   "outputs": [],
   "source": [
    "printTopK(w_st2.v)"
   ]
  },
  {
   "cell_type": "code",
   "execution_count": null,
   "id": "4af4e0b7-de1c-4bb7-ac79-5317308cba78",
   "metadata": {
    "scrolled": true
   },
   "outputs": [],
   "source": [
    "w_st2.words"
   ]
  },
  {
   "cell_type": "code",
   "execution_count": null,
   "id": "5782a2b0-ee4b-48b4-856f-e7b68188c5fb",
   "metadata": {
    "scrolled": true
   },
   "outputs": [],
   "source": [
    "p_st3, c_st3, w_st3 = cu_10.gen_print(\n",
    "    [2502, 23638, 13029, 3957, 13408, 24512, 17993, 23394,], \n",
    "    [13.28715515, 8.6833334, 6.49952269, 5.09930706, 4.34795856, 3.87788129, 3.86469817, 3.58735943,], \n",
    "    context=[10, 10], top_k=800, indices_only=False)"
   ]
  },
  {
   "cell_type": "code",
   "execution_count": null,
   "id": "b887ff7b-ff30-4598-9a38-39fb94db4ba8",
   "metadata": {
    "scrolled": true
   },
   "outputs": [],
   "source": [
    "printTopK(w_st3.v)"
   ]
  },
  {
   "cell_type": "code",
   "execution_count": null,
   "id": "7cd1454a-7052-40c6-8e63-4c3143b3d2f0",
   "metadata": {},
   "outputs": [],
   "source": [
    "w_st3.words"
   ]
  },
  {
   "cell_type": "code",
   "execution_count": null,
   "id": "86071b46-3af2-41e7-abc1-b669ef564286",
   "metadata": {},
   "outputs": [],
   "source": [
    "v_mst2 = meet(v_st[4], v_st[6])"
   ]
  },
  {
   "cell_type": "code",
   "execution_count": null,
   "id": "604bb180-7f57-41d9-b026-c8d221d5e66a",
   "metadata": {},
   "outputs": [],
   "source": [
    "printTopK(v_mst2)"
   ]
  },
  {
   "cell_type": "code",
   "execution_count": null,
   "id": "62257f5f-e438-4dc8-af75-321684db904c",
   "metadata": {},
   "outputs": [],
   "source": []
  },
  {
   "cell_type": "markdown",
   "id": "0005806a-6eeb-4311-87df-39eec9dbd658",
   "metadata": {},
   "source": [
    "## Generate Context and Analyze"
   ]
  },
  {
   "cell_type": "code",
   "execution_count": null,
   "id": "072c63b3-eb8a-40a3-b401-ae3608913bae",
   "metadata": {},
   "outputs": [],
   "source": [
    "gc.collect()"
   ]
  },
  {
   "cell_type": "code",
   "execution_count": null,
   "id": "3b930df0-c929-4bd8-b069-cc7b085aa18a",
   "metadata": {},
   "outputs": [],
   "source": [
    "text1 = \"The Golden Gate Bridge\"\n",
    "text2 = \"The Brooklyn Bridge\"\n",
    "text3 = \"The card game Bridge\""
   ]
  },
  {
   "cell_type": "code",
   "execution_count": null,
   "id": "ad22cb66-32a5-4239-bee6-8453f9c7f570",
   "metadata": {},
   "outputs": [],
   "source": [
    "sent1 = 'New York City'\n",
    "sent2 = 'Golden Gate Bridge'\n",
    "sent3 = 'Grand Canyon Park'"
   ]
  },
  {
   "cell_type": "markdown",
   "id": "1c2bf759-f2d3-47f1-86ee-b5ee92ad5020",
   "metadata": {},
   "source": [
    "## New York Ciry"
   ]
  },
  {
   "cell_type": "code",
   "execution_count": null,
   "id": "d535fa25-066c-413f-82ce-2289b822665a",
   "metadata": {},
   "outputs": [],
   "source": [
    "v_ns = net_2.embed(sent1)[0][1:]\n",
    "v_gs = net_2.embed(sent2)[0][1:]"
   ]
  },
  {
   "cell_type": "code",
   "execution_count": null,
   "id": "42135c41-7d84-4113-afa3-817c26ced99a",
   "metadata": {},
   "outputs": [],
   "source": [
    "t_ns = net_2.tokenize(sent1)[0][1:]\n",
    "t_gs = net_2.tokenize(sent2)[0][1:]"
   ]
  },
  {
   "cell_type": "code",
   "execution_count": null,
   "id": "4a990c3b-a10f-45f1-82fa-0806efb18edf",
   "metadata": {},
   "outputs": [],
   "source": [
    "t_ns.shape, t_gs.shape"
   ]
  },
  {
   "cell_type": "code",
   "execution_count": null,
   "id": "e5f06641-40c9-4b77-8c62-e803ef7bc93a",
   "metadata": {},
   "outputs": [],
   "source": [
    "t_ns, t_gs"
   ]
  },
  {
   "cell_type": "code",
   "execution_count": null,
   "id": "842c5a9b-187a-4ce6-93fe-2f6a249ad856",
   "metadata": {},
   "outputs": [],
   "source": [
    "topK(v_ns[0], 10)"
   ]
  },
  {
   "cell_type": "code",
   "execution_count": null,
   "id": "b5562ba7-f79e-4435-9c77-c2c7a3fc036e",
   "metadata": {},
   "outputs": [],
   "source": [
    "topK(v_gs[0], 10)"
   ]
  },
  {
   "cell_type": "code",
   "execution_count": null,
   "id": "df89e091-e3be-4fec-9768-5c0ae0d2fd14",
   "metadata": {},
   "outputs": [],
   "source": [
    "m_bg = meet(v_ns[2], v_gs[2])\n",
    "topK(m_bg, 20)"
   ]
  },
  {
   "cell_type": "code",
   "execution_count": null,
   "id": "2fc36a8a-1058-45b8-8fba-1714da5d9183",
   "metadata": {},
   "outputs": [],
   "source": [
    "print(f'Intersection of {net_2.to_string(t_ns[2])} and {net_2.to_string(t_gs[2])}')"
   ]
  },
  {
   "cell_type": "code",
   "execution_count": null,
   "id": "d55fe59d-0c7b-4e0b-8e1b-ba3b25e97fdc",
   "metadata": {},
   "outputs": [],
   "source": [
    "top_k = 28"
   ]
  },
  {
   "cell_type": "code",
   "execution_count": null,
   "id": "6cfc77f3-97fd-4e21-afcb-dba900ee2f28",
   "metadata": {
    "scrolled": true
   },
   "outputs": [],
   "source": [
    "m_cg, c_bg, w_bg = cu_2.gen_print(8448, 18, top_k=top_k)"
   ]
  },
  {
   "cell_type": "code",
   "execution_count": null,
   "id": "7ad53fb5-2179-49d8-8e44-36f8c9e7dd4d",
   "metadata": {
    "scrolled": true
   },
   "outputs": [],
   "source": [
    "w_bg"
   ]
  },
  {
   "cell_type": "markdown",
   "id": "90fd22c6-1b8a-4619-a685-fa0141748339",
   "metadata": {},
   "source": [
    "#### Neighboor Analysis"
   ]
  },
  {
   "cell_type": "code",
   "execution_count": null,
   "id": "a6d10bb6-2b51-4df5-bd62-298b5d49e60a",
   "metadata": {},
   "outputs": [],
   "source": [
    "topK(c_bg.v, 20)"
   ]
  },
  {
   "cell_type": "code",
   "execution_count": null,
   "id": "5428a6dd-ffc4-45b5-bf13-02e54fe5d246",
   "metadata": {
    "scrolled": true
   },
   "outputs": [],
   "source": [
    "n_cg, c_nbg, w_nbg = cu_2.gen_print(1605, 44, context=[8, 8], top_k=top_k)"
   ]
  },
  {
   "cell_type": "code",
   "execution_count": null,
   "id": "3756fa8d-5077-4794-ac17-cf0962dcfc6d",
   "metadata": {
    "scrolled": true
   },
   "outputs": [],
   "source": [
    "w_nbg"
   ]
  },
  {
   "cell_type": "code",
   "execution_count": null,
   "id": "ac74d0a0-2910-4584-a79c-21e2658a91ff",
   "metadata": {},
   "outputs": [],
   "source": [
    "c_mbg = c_bg & c_nbg\n",
    "c_mbg"
   ]
  },
  {
   "cell_type": "code",
   "execution_count": null,
   "id": "7695803b-a593-464b-897f-5af73eef327d",
   "metadata": {},
   "outputs": [],
   "source": [
    "topK(c_mbg.v, 20)"
   ]
  },
  {
   "cell_type": "code",
   "execution_count": null,
   "id": "1d0769c4-5fdc-443a-9c8b-1a547eb15108",
   "metadata": {
    "scrolled": true
   },
   "outputs": [],
   "source": [
    "m_vg, c_vmg, w_vgm = cu_2.gen_print(5277, 49, context=[8, 8], top_k=top_k)"
   ]
  },
  {
   "cell_type": "code",
   "execution_count": null,
   "id": "4d71853a-da82-40e6-86e9-c3b44e9b4822",
   "metadata": {},
   "outputs": [],
   "source": [
    "w_vgm"
   ]
  },
  {
   "cell_type": "markdown",
   "id": "819d01f5-e1a8-46e7-a310-ccc5d066395a",
   "metadata": {},
   "source": [
    "## Experiment with Tokenizer"
   ]
  },
  {
   "cell_type": "code",
   "execution_count": null,
   "id": "a597f3fd-a673-40c4-9ddb-7b0d7d7def80",
   "metadata": {},
   "outputs": [],
   "source": [
    "?? net.model.tokenizer.encode"
   ]
  },
  {
   "cell_type": "markdown",
   "id": "d50bf8ee-bb6e-49ab-9a16-76f3ee8869bc",
   "metadata": {},
   "source": [
    "#### Neighboor Analysis for Golden"
   ]
  },
  {
   "cell_type": "code",
   "execution_count": null,
   "id": "2a1bffdb-44ac-410d-ae35-caa6f481df19",
   "metadata": {},
   "outputs": [],
   "source": [
    "def gen_neughbors(idxs, vals, context=[8, 8]):\n",
    "    v_idx, c_idx = gen_concept(idxs, vals)\n",
    "    words = word_mapper(c_idx, v=v_idx, context=context)\n",
    "\n",
    "    return v_idx, c_idx, words   "
   ]
  },
  {
   "cell_type": "code",
   "execution_count": null,
   "id": "8a620dc5-a752-485f-95e9-ebd90606813c",
   "metadata": {},
   "outputs": [],
   "source": [
    "def gen_print(idxs, vals, context=[8, 8]):\n",
    "    v_idx, c_idx, words = gen_neughbors(idxs, vals, context=context)\n",
    "    print(f'{c_idx = }')\n",
    "    print('\\n'.join(f'{wd}' for wd in enumerate(words)))\n",
    "\n",
    "    return v_idx, c_idx, words"
   ]
  },
  {
   "cell_type": "code",
   "execution_count": null,
   "id": "92393689-07e4-4c80-9160-6f1084ab914e",
   "metadata": {},
   "outputs": [],
   "source": [
    "printTopK(v_gs[0], k=20)"
   ]
  },
  {
   "cell_type": "code",
   "execution_count": null,
   "id": "aa4da560-52b3-4fe7-be84-ccefd39c3d7d",
   "metadata": {
    "scrolled": true
   },
   "outputs": [],
   "source": [
    "n_gg, c_gg, w_gg = cu_2.gen_print(19837, 79, context=[8, 8])"
   ]
  },
  {
   "cell_type": "code",
   "execution_count": null,
   "id": "4abaa24c-0c83-4de4-84be-4fdddeb4995c",
   "metadata": {
    "scrolled": true
   },
   "outputs": [],
   "source": [
    "v_2gg, c_2gg, ws_gg = cu.gen_print([19837, 21286], [8, 2], context=[8, 8])"
   ]
  },
  {
   "cell_type": "code",
   "execution_count": null,
   "id": "651820a2-933d-4cfc-adfb-0da8d692507d",
   "metadata": {
    "scrolled": true
   },
   "outputs": [],
   "source": [
    "v_2gg, c_2gg, ws_gg = cu.gen_print([21286, 4507], [15, 12], context=[8, 8])"
   ]
  },
  {
   "cell_type": "code",
   "execution_count": null,
   "id": "97f995ce-7f28-4269-a35b-07ddfa89ec71",
   "metadata": {
    "scrolled": true
   },
   "outputs": [],
   "source": [
    "v_2gg, c_2gg, ws_gg = cu.gen_print([4507, 14717], [12, 5], context=[8, 8])"
   ]
  },
  {
   "cell_type": "code",
   "execution_count": null,
   "id": "ccafd358-033f-4950-955d-3b57bfa70152",
   "metadata": {},
   "outputs": [],
   "source": [
    "v_2gg, c_2gg, ws_gg = cu.gen_print([4507, 14717, 6183], [12, 5, 5], context=[8, 8])"
   ]
  },
  {
   "cell_type": "code",
   "execution_count": null,
   "id": "5507f31c-8dd3-4764-8c82-a20f79b10c94",
   "metadata": {
    "scrolled": true
   },
   "outputs": [],
   "source": [
    "v_2gg, c_2gg, ws_gg = cu.gen_print([14717, 6183], [5, 5], context=[8, 8])"
   ]
  },
  {
   "cell_type": "code",
   "execution_count": null,
   "id": "bb7d0ff4-8f48-40c8-9644-6cede009f2b2",
   "metadata": {
    "scrolled": true
   },
   "outputs": [],
   "source": [
    "v_2gg, c_2gg, ws_gg = cu.gen_print([6183, 332, 2407], [5, 3, 2], context=[8, 8])"
   ]
  },
  {
   "cell_type": "code",
   "execution_count": null,
   "id": "fe5e4976-3b21-477f-8b77-be43f8fe59a3",
   "metadata": {
    "scrolled": true
   },
   "outputs": [],
   "source": [
    "v_2gg, c_2gg, ws_gg = cu.gen_print([332, 2407, 10363], [3, 2, 2], context=[8, 8])"
   ]
  },
  {
   "cell_type": "code",
   "execution_count": null,
   "id": "6c92fe9f-7ee1-4be5-82c6-fa6447625abc",
   "metadata": {},
   "outputs": [],
   "source": [
    "printTopK(c_gg.v, 20)"
   ]
  },
  {
   "cell_type": "code",
   "execution_count": null,
   "id": "ce0d4b58-2c9f-47ae-b252-c9223957fa3d",
   "metadata": {
    "scrolled": true
   },
   "outputs": [],
   "source": [
    "n_gn, c_gn, w_gn = cu.gen_print(6284, 12, context=[8, 8])"
   ]
  },
  {
   "cell_type": "code",
   "execution_count": null,
   "id": "cdcf9d9a-ecb9-4ef1-9fb5-dbe002fa0d70",
   "metadata": {},
   "outputs": [],
   "source": [
    "c_mbg = c_bg & c_nbg\n",
    "c_mbg"
   ]
  },
  {
   "cell_type": "code",
   "execution_count": null,
   "id": "52ecd4ea-73f9-4c94-acdf-7651678d3b00",
   "metadata": {
    "scrolled": true
   },
   "outputs": [],
   "source": [
    "printTopK(c_mbg.v, 20)"
   ]
  },
  {
   "cell_type": "code",
   "execution_count": null,
   "id": "8a560282-d222-40a5-9cd4-d3b5464d0769",
   "metadata": {},
   "outputs": [],
   "source": [
    "m_vg, c_vmg, w_vgm = cu.gen_print(23992, 29, context=[8, 8])"
   ]
  },
  {
   "cell_type": "markdown",
   "id": "1e219dd4-9017-4af1-9641-ee831d76f0c6",
   "metadata": {},
   "source": [
    "## Apple Case"
   ]
  },
  {
   "cell_type": "code",
   "execution_count": null,
   "id": "44fce426-0f32-44b4-9ba2-0a8b1a036294",
   "metadata": {},
   "outputs": [],
   "source": [
    "# Example inputs: same word \"apple\" in two different contexts\n",
    "text1 = \"I ate an apple for breakfast.\"\n",
    "text2 = \"Apple Inc. unveiled its latest product.\""
   ]
  },
  {
   "cell_type": "code",
   "execution_count": null,
   "id": "5c582ab3-3170-4323-bc2d-db43dd2cca19",
   "metadata": {},
   "outputs": [],
   "source": [
    "v_a1 = net.embed(text1)[0][1:]\n",
    "v_a2 = net.embed(text2)[0][1:]"
   ]
  },
  {
   "cell_type": "code",
   "execution_count": null,
   "id": "26735be2-13e6-4342-a476-5cda2311077b",
   "metadata": {},
   "outputs": [],
   "source": [
    "t_a1 = net.tokenize(text1)[0][1:]\n",
    "t_a2 = net.tokenize(text2)[0][1:]"
   ]
  },
  {
   "cell_type": "code",
   "execution_count": null,
   "id": "3b254b69-e3c8-4499-aed0-13a231799127",
   "metadata": {},
   "outputs": [],
   "source": [
    "v_a1.shape, t_a1.shape, v_a2.shape, t_a2.shape, "
   ]
  },
  {
   "cell_type": "code",
   "execution_count": null,
   "id": "2511efce-dc75-40f2-a351-25b01c64182a",
   "metadata": {
    "scrolled": true
   },
   "outputs": [],
   "source": [
    "for i in range(t_a1.shape[0]): \n",
    "    print(f'{i} {net.to_string(t_a1[i])}, {net.to_string(t_a2[i])}\\n')"
   ]
  },
  {
   "cell_type": "code",
   "execution_count": null,
   "id": "a77b5f48-00bc-4f5f-b542-42dbb13ce65d",
   "metadata": {
    "scrolled": true
   },
   "outputs": [],
   "source": [
    "printTopK(v_a1[3], k=20)"
   ]
  },
  {
   "cell_type": "code",
   "execution_count": null,
   "id": "f8340c16-80e1-4b34-9db8-7cb6132d3e78",
   "metadata": {
    "scrolled": true
   },
   "outputs": [],
   "source": [
    "v_am = meet(v_a1[3], v_a2[0])\n",
    "printTopK(v_am)"
   ]
  },
  {
   "cell_type": "code",
   "execution_count": null,
   "id": "704f2bfa-00ea-4dcb-98f4-4e65cee8a9a6",
   "metadata": {
    "scrolled": true
   },
   "outputs": [],
   "source": [
    "v_2gg, c_2gg, ws_gg = cu.gen_print([4269, 4809, 23638], [30, 1, 1], context=[8, 8])"
   ]
  },
  {
   "cell_type": "code",
   "execution_count": null,
   "id": "44c12cca-53b1-4f80-a6b0-8c2e80a67eb8",
   "metadata": {
    "scrolled": true
   },
   "outputs": [],
   "source": [
    "printTopK(v_a1[1])"
   ]
  },
  {
   "cell_type": "code",
   "execution_count": null,
   "id": "41200c0b-a3a3-4314-ad41-e93bbad6d190",
   "metadata": {
    "scrolled": true
   },
   "outputs": [],
   "source": [
    "v_ate, c_ate, ws_ate = cu.gen_print([15767], [51], context=[8, 8])"
   ]
  },
  {
   "cell_type": "code",
   "execution_count": null,
   "id": "1f853e6f-ef5e-4c41-9d22-e1246329fb69",
   "metadata": {},
   "outputs": [],
   "source": [
    "v_ate, c_ate, ws_ate = cu.gen_print([9493, 22952], [18, 8], context=[8, 8])"
   ]
  },
  {
   "cell_type": "code",
   "execution_count": null,
   "id": "1f9a9cc4-4ead-42f7-b830-8076d1f9861c",
   "metadata": {
    "scrolled": true
   },
   "outputs": [],
   "source": [
    "printTopK(v_a2[1])"
   ]
  },
  {
   "cell_type": "code",
   "execution_count": null,
   "id": "3c65ca52-7802-4002-8af7-2e8438b70e17",
   "metadata": {
    "scrolled": true
   },
   "outputs": [],
   "source": [
    "v_ate, c_ate, ws_ate = cu.gen_print([23563], [65], context=[8, 8])"
   ]
  },
  {
   "cell_type": "code",
   "execution_count": null,
   "id": "1d758e55-15dd-4923-8425-906893af69d2",
   "metadata": {},
   "outputs": [],
   "source": [
    "v_ate, c_ate, ws_ate = cu.gen_print([9768, 18294], [16 , 11], context=[8, 8])"
   ]
  },
  {
   "cell_type": "code",
   "execution_count": null,
   "id": "82791725-6450-41c6-91e9-dacb579fd8ef",
   "metadata": {
    "scrolled": true
   },
   "outputs": [],
   "source": [
    "v_apple_inc = meet(v_a2[0], v_a2[1])\n",
    "printTopK(v_apple_inc)"
   ]
  },
  {
   "cell_type": "code",
   "execution_count": null,
   "id": "5a8c4073-ab6b-4437-b910-9afcbfd82634",
   "metadata": {
    "scrolled": true
   },
   "outputs": [],
   "source": [
    "v_aplle_inc, c_aplle_inc, ws_aplle_inc = cu.gen_print([17725, 7574], [9 , 6], context=[8, 8])"
   ]
  },
  {
   "cell_type": "code",
   "execution_count": null,
   "id": "fb27a74f-20ab-4892-bc9b-be0df5e42cba",
   "metadata": {
    "scrolled": true
   },
   "outputs": [],
   "source": [
    "v_apple_ate = meet(v_a1[1], v_a1[3])\n",
    "printTopK(v_apple_ate)"
   ]
  },
  {
   "cell_type": "code",
   "execution_count": null,
   "id": "36c544a1-a9bf-4c11-bd61-94368ec99261",
   "metadata": {},
   "outputs": [],
   "source": [
    "val_apple_inc, idx_apple_ink = topK(v_apple_inc, 20)\n",
    "val_apple_ate, idx_apple_ate = topK(v_apple_ate, 20)"
   ]
  },
  {
   "cell_type": "code",
   "execution_count": null,
   "id": "5adfc491-35c0-4a28-ad20-50cdf33fe594",
   "metadata": {},
   "outputs": [],
   "source": [
    "val_apple_inc == val_apple_ate"
   ]
  },
  {
   "cell_type": "code",
   "execution_count": null,
   "id": "b0c53f7f-bdd8-448e-a538-fcc1f1646511",
   "metadata": {},
   "outputs": [],
   "source": [
    "val_apple_inc, val_apple_ate"
   ]
  },
  {
   "cell_type": "code",
   "execution_count": null,
   "id": "0fa1349e-f02a-4916-809a-ea89d4d7e0ad",
   "metadata": {},
   "outputs": [],
   "source": [
    "idx_apple_ink == idx_apple_ate"
   ]
  },
  {
   "cell_type": "code",
   "execution_count": null,
   "id": "61b69eae-beca-494a-959a-7430a99f2400",
   "metadata": {},
   "outputs": [],
   "source": [
    "idx_apple_ink, idx_apple_ate"
   ]
  },
  {
   "cell_type": "code",
   "execution_count": null,
   "id": "480512c0-a0d7-4583-921a-1b43687c7c94",
   "metadata": {
    "scrolled": true
   },
   "outputs": [],
   "source": [
    "v_aplle_ate, c_aplle_ate, ws_aplle_ate = cu.gen_print([11930, 19398], [6 , 2], context=[8, 8])"
   ]
  },
  {
   "cell_type": "code",
   "execution_count": null,
   "id": "2764f4a4-dd53-4b21-9579-308b45d2a0df",
   "metadata": {
    "scrolled": true
   },
   "outputs": [],
   "source": [
    "v_aplle_ate, c_aplle_ate, ws_aplle_ate = cu.gen_print([19398, 22952], [2 , 2], context=[8, 8])"
   ]
  },
  {
   "cell_type": "markdown",
   "id": "d842278c-4dff-47bc-8af2-dcac05199da7",
   "metadata": {},
   "source": [
    "## Sentence generation"
   ]
  },
  {
   "cell_type": "code",
   "execution_count": null,
   "id": "87d533f8-3b70-4a09-856b-715eeb3f6172",
   "metadata": {},
   "outputs": [],
   "source": [
    "text_president = 'President of USA Abraham Lincoln'\n",
    "text_thanks = 'Thanks for checking out our product'\n",
    "text_jedi = 'Return of the Jedi from 1983'"
   ]
  },
  {
   "cell_type": "code",
   "execution_count": null,
   "id": "b4fe3560-e313-49ec-81e7-a94a15454e9b",
   "metadata": {},
   "outputs": [],
   "source": [
    "v_pr = net_2.embed(text_president)[0][1:]\n",
    "t_pr = net_2.tokenize(text_president)[0][1:]"
   ]
  },
  {
   "cell_type": "code",
   "execution_count": null,
   "id": "15b88a47-bb2e-4c23-9d43-c348ad8fe519",
   "metadata": {},
   "outputs": [],
   "source": [
    "for k, t in enumerate(t_pr):\n",
    "    print(f'{k} {t} {net_2.to_string(t)}')"
   ]
  },
  {
   "cell_type": "code",
   "execution_count": null,
   "id": "d57979e4-c586-44fa-aa59-5eed84a9ae70",
   "metadata": {},
   "outputs": [],
   "source": [
    "net_2.to_string(t_pr)"
   ]
  },
  {
   "cell_type": "code",
   "execution_count": null,
   "id": "4cf42ac9-b672-4515-986d-4eb2df006566",
   "metadata": {},
   "outputs": [],
   "source": [
    "printTopK(v_pr[0], k=20)"
   ]
  },
  {
   "cell_type": "code",
   "execution_count": null,
   "id": "5f5d649d-5183-4fe6-ac37-ca2b6c0b400e",
   "metadata": {
    "scrolled": true
   },
   "outputs": [],
   "source": [
    "v_ipr, c_pres, ws_pres = cu_2.gen_print([3420], [16], context=[8, 8], top_k=top_k)"
   ]
  },
  {
   "cell_type": "code",
   "execution_count": null,
   "id": "b3d03c2d-ca7b-43c3-98f8-ea13fff00948",
   "metadata": {},
   "outputs": [],
   "source": [
    "printTopK(c_pres.v)"
   ]
  },
  {
   "cell_type": "code",
   "execution_count": null,
   "id": "5693239b-3f19-42c8-b8e6-ab82e4123356",
   "metadata": {
    "scrolled": true
   },
   "outputs": [],
   "source": [
    "v_inp, c_npres, ws_npres = cu_2.gen_print([5277], [15], context=[8, 8], top_k=top_k)"
   ]
  },
  {
   "cell_type": "code",
   "execution_count": null,
   "id": "6697ec82-4024-4a08-aa01-551cf3305975",
   "metadata": {
    "scrolled": true
   },
   "outputs": [],
   "source": [
    "ws_npres"
   ]
  },
  {
   "cell_type": "code",
   "execution_count": null,
   "id": "a423f92a-d307-4253-bb63-568e36ed5489",
   "metadata": {},
   "outputs": [],
   "source": [
    "printTopK(v_pr[3], k=20)"
   ]
  },
  {
   "cell_type": "code",
   "execution_count": null,
   "id": "f04c27d7-a606-4c77-9cb2-1a328919fbe2",
   "metadata": {},
   "outputs": [],
   "source": [
    "v_iab, c_abrm, ws_abrm = cu_2.gen_print([6545], [10], context=[8, 8], top_k=top_k)"
   ]
  },
  {
   "cell_type": "code",
   "execution_count": null,
   "id": "ab677220-2ab7-49e2-a7c5-1dc0d972c91f",
   "metadata": {
    "scrolled": true
   },
   "outputs": [],
   "source": [
    "v_cabr, c_cabrm, ws_cabrm = cu_2.gen_print([23578, 11719], [7, 4], context=[8, 8])"
   ]
  },
  {
   "cell_type": "code",
   "execution_count": null,
   "id": "9efef83f-f222-4632-8299-2c1b1b432127",
   "metadata": {},
   "outputs": [],
   "source": [
    "printTopK(v_pr[4], k=20)"
   ]
  },
  {
   "cell_type": "code",
   "execution_count": null,
   "id": "323cc661-a460-4dde-a419-a2b605d6f3ea",
   "metadata": {},
   "outputs": [],
   "source": [
    "v_ilc, c_lincn, ws_lincn = cu_2.gen_print([4869], [39], context=[8, 8], top_k=top_k)"
   ]
  },
  {
   "cell_type": "code",
   "execution_count": null,
   "id": "5f16380d-5aa1-407c-ab2b-88d34f835796",
   "metadata": {},
   "outputs": [],
   "source": [
    "c_abrm_lincn = c_abrm & c_lincn\n",
    "c_abrm_lincn"
   ]
  },
  {
   "cell_type": "code",
   "execution_count": null,
   "id": "6354a6f3-2e39-4f35-b94d-fea398cb6e9a",
   "metadata": {},
   "outputs": [],
   "source": [
    "printTopK(c_abrm_lincn.v)"
   ]
  },
  {
   "cell_type": "code",
   "execution_count": null,
   "id": "699ffd58-5bb2-4b59-b987-a7893867e162",
   "metadata": {},
   "outputs": [],
   "source": [
    "c_pres_abrm = c_pres & c_abrm\n",
    "c_pres_abrm"
   ]
  },
  {
   "cell_type": "code",
   "execution_count": null,
   "id": "95b6814e-b734-4450-8973-ae7b4d273ab0",
   "metadata": {},
   "outputs": [],
   "source": [
    "printTopK(c_pres_abrm.v)"
   ]
  },
  {
   "cell_type": "code",
   "execution_count": null,
   "id": "e8ed8c72-3ebf-430d-983d-fafa8ff3d63c",
   "metadata": {
    "scrolled": true
   },
   "outputs": [],
   "source": [
    "v_ipa, c_pa, ws_pa = cu_2.gen_print([12756, 14845], [60, 40], context=[8, 8], top_k=top_k)"
   ]
  },
  {
   "cell_type": "code",
   "execution_count": null,
   "id": "0d9799b6-3733-4401-b559-52f7aaf19de6",
   "metadata": {},
   "outputs": [],
   "source": [
    "ws_pa"
   ]
  },
  {
   "cell_type": "markdown",
   "id": "b3a8534d-8563-4831-a9ad-566b9e749dc4",
   "metadata": {},
   "source": [
    "## Analyze 10 Layer"
   ]
  },
  {
   "cell_type": "code",
   "execution_count": null,
   "id": "2930a81f-1f1b-44b4-8a6b-20ea262121c7",
   "metadata": {},
   "outputs": [],
   "source": [
    "v_10p = net_10.embed(text_president)[0][1:]\n",
    "t_10p = net_10.tokenize(text_president)[0][1:]"
   ]
  },
  {
   "cell_type": "code",
   "execution_count": null,
   "id": "5fd3186a-6081-4836-bb3b-7c4bfbfad804",
   "metadata": {},
   "outputs": [],
   "source": [
    "for k, t in enumerate(t_10p):\n",
    "    print(f'{k} {t} {net_10.to_string(t)}')"
   ]
  },
  {
   "cell_type": "code",
   "execution_count": null,
   "id": "04d838b4-c96e-4baa-974c-a4030b6d75e9",
   "metadata": {},
   "outputs": [],
   "source": [
    "printTopK(v_10p[0])"
   ]
  },
  {
   "cell_type": "code",
   "execution_count": null,
   "id": "c2e6b5c8-a420-406f-a563-ac25ae48bc17",
   "metadata": {
    "scrolled": true
   },
   "outputs": [],
   "source": [
    "m_p10, c_p10, words_p10 = cu_10.gen_print([14245], [12], context=[8, 8], top_k=top_k)"
   ]
  },
  {
   "cell_type": "code",
   "execution_count": null,
   "id": "62e83302-8388-412c-9160-c034b8c35232",
   "metadata": {},
   "outputs": [],
   "source": [
    "words_p10.words"
   ]
  },
  {
   "cell_type": "code",
   "execution_count": null,
   "id": "05fd87ac-5024-42d7-8cf7-b213f1021f5e",
   "metadata": {},
   "outputs": [],
   "source": [
    "word_count_17754 = 0\n",
    "for _, v in words_p10.word_indices.items():\n",
    "    word_count_17754 += len(v)"
   ]
  },
  {
   "cell_type": "code",
   "execution_count": null,
   "id": "bdbd7599-a8fc-4983-bc82-102c90f52f85",
   "metadata": {},
   "outputs": [],
   "source": [
    "word_count_17754"
   ]
  },
  {
   "cell_type": "code",
   "execution_count": null,
   "id": "f9cd2a44-27df-4fb4-a6ec-9e0a8c66385e",
   "metadata": {
    "scrolled": true
   },
   "outputs": [],
   "source": [
    "words_p10.words"
   ]
  },
  {
   "cell_type": "code",
   "execution_count": null,
   "id": "82fa42e5-e433-45fa-9fe2-f643fc37473e",
   "metadata": {},
   "outputs": [],
   "source": [
    "m_pc10, c_pc10, words_pc10 = cu_10.gen_print([17754, 14245], [67, 12], context=[8, 8], top_k=top_k)"
   ]
  },
  {
   "cell_type": "code",
   "execution_count": null,
   "id": "e1496056-789e-40a5-9c04-b8753b40c063",
   "metadata": {
    "scrolled": true
   },
   "outputs": [],
   "source": [
    "words_pc10.word_indices"
   ]
  },
  {
   "cell_type": "code",
   "execution_count": null,
   "id": "1b1fd9d4-7946-45d8-b98e-2f10f205eb7a",
   "metadata": {},
   "outputs": [],
   "source": [
    "word_count_17754_14245 = 0\n",
    "for _, v in words_pc10.word_indices.items():\n",
    "    word_count_17754_14245 += len(v)"
   ]
  },
  {
   "cell_type": "code",
   "execution_count": null,
   "id": "da20ded7-2327-4a38-90d7-32a3dd6ae062",
   "metadata": {},
   "outputs": [],
   "source": [
    "word_count_17754_14245"
   ]
  },
  {
   "cell_type": "code",
   "execution_count": null,
   "id": "87eb6553-5fe8-4cdc-8952-af11975cfe83",
   "metadata": {},
   "outputs": [],
   "source": [
    "tokens_count = 0\n",
    "with tqdm(dataset) as pdata:\n",
    "    for d in pdata:\n",
    "        tkns = net_10.tokenize(d['text'])[0]\n",
    "        tokens_count += len(tkns)"
   ]
  },
  {
   "cell_type": "code",
   "execution_count": null,
   "id": "786af1a4-f9cf-46a2-b980-e0062d4493ce",
   "metadata": {},
   "outputs": [],
   "source": [
    "tokens_count_1 = 5465620"
   ]
  },
  {
   "cell_type": "code",
   "execution_count": null,
   "id": "a5504673-345e-40fe-bdb0-20533525909e",
   "metadata": {},
   "outputs": [],
   "source": [
    "tokens_count_0 = 5475620"
   ]
  },
  {
   "cell_type": "code",
   "execution_count": null,
   "id": "000535c0-1dc4-4726-87f5-4cf4b72f054b",
   "metadata": {},
   "outputs": [],
   "source": [
    "tokens_count_0 - tokens_count_1"
   ]
  },
  {
   "cell_type": "code",
   "execution_count": null,
   "id": "2d9647dd-57e3-4b90-82a7-1a2b5a1d9f2a",
   "metadata": {},
   "outputs": [],
   "source": [
    "p_17754 = word_count_17754 / tokens_count_0"
   ]
  },
  {
   "cell_type": "code",
   "execution_count": null,
   "id": "12e635e8-4b39-4502-8891-9b9be1e4fd9b",
   "metadata": {},
   "outputs": [],
   "source": [
    "p_17754_14245 = word_count_17754_14245 / tokens_count_0"
   ]
  },
  {
   "cell_type": "code",
   "execution_count": null,
   "id": "5ed3ce53-8b04-4da8-97d4-74402af11159",
   "metadata": {},
   "outputs": [],
   "source": [
    "p_17754"
   ]
  },
  {
   "cell_type": "code",
   "execution_count": null,
   "id": "02d2b6bd-82b4-4028-acb6-ee350da0629b",
   "metadata": {},
   "outputs": [],
   "source": [
    "p_17754_14245"
   ]
  },
  {
   "cell_type": "code",
   "execution_count": null,
   "id": "4a14d291-a0b4-4bd6-a61a-78c38dfd1e11",
   "metadata": {},
   "outputs": [],
   "source": [
    "p_17754_17754_14245 = p_17754_14245 / p_17754"
   ]
  },
  {
   "cell_type": "code",
   "execution_count": null,
   "id": "592a4d16-45de-42dd-9c27-c13b52e0afe0",
   "metadata": {},
   "outputs": [],
   "source": [
    "p_17754_17754_14245"
   ]
  },
  {
   "cell_type": "code",
   "execution_count": null,
   "id": "7e1178e5-06ee-498c-bab0-f983f4b84ee4",
   "metadata": {},
   "outputs": [],
   "source": [
    "print(f'P(17754 | 17754, 14245) = {p_17754_17754_14245:2f}')"
   ]
  },
  {
   "cell_type": "code",
   "execution_count": null,
   "id": "ed1aa0e4-fc9c-4286-92a3-124c6b90d5e4",
   "metadata": {},
   "outputs": [],
   "source": []
  }
 ],
 "metadata": {
  "kernelspec": {
   "display_name": "Python 3 (ipykernel)",
   "language": "python",
   "name": "python3"
  },
  "language_info": {
   "codemirror_mode": {
    "name": "ipython",
    "version": 3
   },
   "file_extension": ".py",
   "mimetype": "text/x-python",
   "name": "python",
   "nbconvert_exporter": "python",
   "pygments_lexer": "ipython3",
   "version": "3.12.9"
  }
 },
 "nbformat": 4,
 "nbformat_minor": 5
}
