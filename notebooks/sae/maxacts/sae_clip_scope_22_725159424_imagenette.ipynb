{
 "cells": [
  {
   "cell_type": "code",
   "execution_count": null,
   "id": "71ce37e9",
   "metadata": {},
   "outputs": [],
   "source": [
    "%load_ext autoreload\n",
    "%autoreload 2\n",
    "\n",
    "%matplotlib inline"
   ]
  },
  {
   "cell_type": "markdown",
   "id": "5b560092",
   "metadata": {},
   "source": [
    "## Install libraries"
   ]
  },
  {
   "cell_type": "markdown",
   "id": "89885fa7",
   "metadata": {},
   "source": [
    "```bash\n",
    "conda create -n edu4 python=3.11 jupyter matplotlib\n",
    "```"
   ]
  },
  {
   "cell_type": "markdown",
   "id": "cd23589d",
   "metadata": {},
   "source": [
    "```bash \n",
    "! pip install -U -r requirements.txt\n",
    "```"
   ]
  },
  {
   "cell_type": "markdown",
   "id": "9d16321f",
   "metadata": {},
   "source": [
    "```bash\n",
    "! pip install -U numpy\n",
    "! pip install -U scikit-learn\n",
    "```"
   ]
  },
  {
   "cell_type": "markdown",
   "id": "b4cab43a",
   "metadata": {},
   "source": [
    "## Update repository"
   ]
  },
  {
   "cell_type": "code",
   "execution_count": null,
   "id": "46bcb5dc",
   "metadata": {},
   "outputs": [],
   "source": [
    "# ! git pull"
   ]
  },
  {
   "cell_type": "markdown",
   "id": "bad216da",
   "metadata": {},
   "source": [
    "## Add import path"
   ]
  },
  {
   "cell_type": "code",
   "execution_count": null,
   "id": "baafb705",
   "metadata": {},
   "outputs": [],
   "source": [
    "import os\n",
    "import sys\n",
    "import gc"
   ]
  },
  {
   "cell_type": "code",
   "execution_count": null,
   "id": "b2930983",
   "metadata": {},
   "outputs": [],
   "source": [
    "module_path = os.path.abspath(os.path.join('..'))\n",
    "if module_path not in sys.path:\n",
    "    sys.path.append(module_path)"
   ]
  },
  {
   "cell_type": "code",
   "execution_count": null,
   "id": "83ccfcbd-f80f-4f27-b3a0-3f06deade10c",
   "metadata": {},
   "outputs": [],
   "source": [
    "module_path = os.path.abspath(os.path.join('../..'))\n",
    "if module_path not in sys.path:\n",
    "    sys.path.append(module_path)"
   ]
  },
  {
   "cell_type": "code",
   "execution_count": null,
   "id": "2ee54e23-8aeb-47b6-8004-09c71b9cb18c",
   "metadata": {},
   "outputs": [],
   "source": [
    "module_path = os.path.abspath(os.path.join('../../..'))\n",
    "if module_path not in sys.path:\n",
    "    sys.path.append(module_path)"
   ]
  },
  {
   "cell_type": "code",
   "execution_count": null,
   "id": "7984d32f",
   "metadata": {},
   "outputs": [],
   "source": [
    "del module_path"
   ]
  },
  {
   "cell_type": "markdown",
   "id": "07a1e9c8",
   "metadata": {},
   "source": [
    "## Organize imports"
   ]
  },
  {
   "cell_type": "code",
   "execution_count": null,
   "id": "5319114e-c41f-4894-a05d-c4b428289a00",
   "metadata": {},
   "outputs": [],
   "source": [
    "from datasets import load_dataset"
   ]
  },
  {
   "cell_type": "code",
   "execution_count": null,
   "id": "ae177357",
   "metadata": {},
   "outputs": [],
   "source": [
    "import multiprocessing\n",
    "from pathlib import Path"
   ]
  },
  {
   "cell_type": "code",
   "execution_count": null,
   "id": "2730a69b-c412-4bfe-a3a8-7ff234315280",
   "metadata": {},
   "outputs": [],
   "source": [
    "from tqdm import tqdm"
   ]
  },
  {
   "cell_type": "code",
   "execution_count": null,
   "id": "a523557a",
   "metadata": {},
   "outputs": [],
   "source": [
    "import seaborn as sns"
   ]
  },
  {
   "cell_type": "code",
   "execution_count": null,
   "id": "25750a3d",
   "metadata": {},
   "outputs": [],
   "source": [
    "import matplotlib.pyplot as plt\n",
    "import numpy as np\n",
    "import pandas as pd"
   ]
  },
  {
   "cell_type": "code",
   "execution_count": null,
   "id": "292981b5-839e-489f-90f5-6f5c88dcfae2",
   "metadata": {},
   "outputs": [],
   "source": [
    "from scipy.sparse import csr_matrix"
   ]
  },
  {
   "cell_type": "code",
   "execution_count": null,
   "id": "902f802d-fa9c-4e26-9df1-ae621014e9de",
   "metadata": {},
   "outputs": [],
   "source": [
    "import plotly.express as px"
   ]
  },
  {
   "cell_type": "code",
   "execution_count": null,
   "id": "dcaf42fb-4d62-467b-abc9-079e19d00ee6",
   "metadata": {},
   "outputs": [],
   "source": [
    "import torch\n",
    "from torchvision import datasets, transforms\n",
    "from torch.utils.data import DataLoader, Subset"
   ]
  },
  {
   "cell_type": "code",
   "execution_count": null,
   "id": "37df8d30-07e0-40f5-8df4-24d75113508f",
   "metadata": {},
   "outputs": [],
   "source": [
    "import os"
   ]
  },
  {
   "cell_type": "code",
   "execution_count": null,
   "id": "afbe0856-7d87-45bf-800b-c487e310fecd",
   "metadata": {},
   "outputs": [],
   "source": [
    "import PIL\n",
    "from clipscope import ConfiguredViT, TopKSAE"
   ]
  },
  {
   "cell_type": "code",
   "execution_count": null,
   "id": "ee894933-eba4-4742-8fa2-51b2cff5cf6d",
   "metadata": {},
   "outputs": [],
   "source": [
    "from src.lattmc.fca.utils import *\n",
    "from src.lattmc.fca.data_utils import *\n",
    "from src.lattmc.fca.image_utils import *\n",
    "from src.lattmc.fca.models import *\n",
    "from src.lattmc.fca.fca_utils import *\n",
    "from src.lattmc.fca.image_gens import *"
   ]
  },
  {
   "cell_type": "code",
   "execution_count": null,
   "id": "09c04e68-1eb5-4b0c-b8b9-f69adb922870",
   "metadata": {},
   "outputs": [],
   "source": [
    "from src.lattmc.sae.nlp_sae_utils import *"
   ]
  },
  {
   "cell_type": "markdown",
   "id": "65f31e93",
   "metadata": {},
   "source": [
    "#### Number of CPU cores"
   ]
  },
  {
   "cell_type": "code",
   "execution_count": null,
   "id": "b41c30f2",
   "metadata": {},
   "outputs": [],
   "source": [
    "workers = multiprocessing.cpu_count()\n",
    "workers"
   ]
  },
  {
   "cell_type": "code",
   "execution_count": null,
   "id": "59f41838-322d-41e8-b8e1-6712089703c9",
   "metadata": {},
   "outputs": [],
   "source": [
    "SEED = 2024"
   ]
  },
  {
   "cell_type": "code",
   "execution_count": null,
   "id": "9e1c0d14-575c-491c-88a3-85f70fae7875",
   "metadata": {},
   "outputs": [],
   "source": [
    "# For the most part I'll try to import functions and classes near where they are used\n",
    "# to make it clear where they come from.\n",
    "\n",
    "if torch.backends.mps.is_available():\n",
    "    device = \"mps\"\n",
    "else:\n",
    "    device = \"cuda\" if torch.cuda.is_available() else \"cpu\"\n",
    "\n",
    "print(f\"Device: {device}\")"
   ]
  },
  {
   "cell_type": "markdown",
   "id": "0ccf4792-19f1-4d01-b9c2-ddea2462cadc",
   "metadata": {},
   "source": [
    "## Initialize Path"
   ]
  },
  {
   "cell_type": "code",
   "execution_count": null,
   "id": "bcd545b8-0e15-41e9-92a9-4d0bf260c8b8",
   "metadata": {},
   "outputs": [],
   "source": [
    "PATH = Path('data')\n",
    "checkpoint_dir = PATH / 'saes'\n",
    "checkpoint_dir.mkdir(exist_ok=True, parents=True)\n",
    "checkpoint_path1 = checkpoint_dir / 'best-checkpoint-v1.ckpt'\n",
    "checkpoint_path2 = checkpoint_dir / 'best-checkpoint.ckpt'\n",
    "fca_path = checkpoint_dir / 'vit_scope_res22_725159424_imagenette_val.joblib'\n",
    "\n",
    "image_dir = PATH / 'images'\n",
    "image_path = image_dir / '1024.png'"
   ]
  },
  {
   "cell_type": "markdown",
   "id": "be07aad4-53a7-456b-b026-80295db7d84d",
   "metadata": {},
   "source": [
    "## Initialize simple dataset"
   ]
  },
  {
   "cell_type": "code",
   "execution_count": null,
   "id": "c3ddebc9-6b60-403d-aaa1-13c71e3215e6",
   "metadata": {},
   "outputs": [],
   "source": [
    "val_dataset = datasets.Imagenette(\n",
    "    root=\"./data\", \n",
    "    split='val',\n",
    "    size='160px',\n",
    "    # transform=transform, \n",
    "    download=True\n",
    ")\n",
    "# Use a subset (e.g., 1000 images) to keep dataset small (<10,000 images)\n",
    "# subset_size = 1000\n",
    "# subset = Subset(dataset, range(subset_size))\n",
    "# dataloader = DataLoader(subset, batch_size=32, shuffle=False)"
   ]
  },
  {
   "cell_type": "markdown",
   "id": "807137b2-c1f9-42eb-a4aa-2ad0f60c93b2",
   "metadata": {},
   "source": [
    "## Initialize model"
   ]
  },
  {
   "cell_type": "code",
   "execution_count": null,
   "id": "f79a6c4d-2e8b-4605-b21b-757446d5130d",
   "metadata": {},
   "outputs": [],
   "source": [
    "layer = 22\n",
    "resid = 'resid'"
   ]
  },
  {
   "cell_type": "code",
   "execution_count": null,
   "id": "ed3f2d34-1ff0-4498-b7a9-63b403c109fc",
   "metadata": {},
   "outputs": [],
   "source": [
    "# filename_in_hf_repo = '700092672.pt'"
   ]
  },
  {
   "cell_type": "code",
   "execution_count": null,
   "id": "1b646cab-8373-40c5-8715-5a04c006feae",
   "metadata": {},
   "outputs": [],
   "source": [
    "# sae = TopKSAE.from_pretrained(\n",
    "#     checkpoint=filename_in_hf_repo,\n",
    "#     repo_id='lewington/CLIP-ViT-L-scope', \n",
    "#     device=device\n",
    "# )"
   ]
  },
  {
   "cell_type": "code",
   "execution_count": null,
   "id": "95fc3957-a8b6-446c-ad08-679e1e402bb6",
   "metadata": {},
   "outputs": [],
   "source": [
    "filename_in_hf_repo = f'{layer}_{resid}/700092672.pt'\n",
    "sae = TopKSAE.from_pretrained(checkpoint=filename_in_hf_repo, device=device)\n",
    "\n",
    "locations = [(layer, resid)]\n",
    "transformer_name='laion/CLIP-ViT-L-14-laion2B-s32B-b82K'\n",
    "# transformer = ConfiguredViT(locations, device=device)\n",
    "transformer = ConfiguredViT(locations, transformer_name, device=device)"
   ]
  },
  {
   "cell_type": "code",
   "execution_count": null,
   "id": "4fa34221-8625-4c90-8d31-f05314528d5d",
   "metadata": {},
   "outputs": [],
   "source": [
    "transformer"
   ]
  },
  {
   "cell_type": "code",
   "execution_count": null,
   "id": "4a3ec10e-18cd-43b4-9df8-95629acb8f40",
   "metadata": {},
   "outputs": [],
   "source": [
    "sae"
   ]
  },
  {
   "cell_type": "code",
   "execution_count": null,
   "id": "56b4d1f3-6d14-40fd-85de-a9a255a26e2c",
   "metadata": {},
   "outputs": [],
   "source": [
    "gc.collect()"
   ]
  },
  {
   "cell_type": "code",
   "execution_count": null,
   "id": "59ac071f-ed1a-4a48-8650-5b8d658b8e18",
   "metadata": {},
   "outputs": [],
   "source": [
    "def topK(a, k):\n",
    "    return np.argsort(a)[-k:][::-1]"
   ]
  },
  {
   "cell_type": "code",
   "execution_count": null,
   "id": "11957027-e4f4-47f4-aa6e-158b26fd170a",
   "metadata": {},
   "outputs": [],
   "source": [
    "def vec_i_j(v_sm, indices, values):\n",
    "    v_m = np.zeros_like(v_sm)\n",
    "    v_m[indices] = values\n",
    "\n",
    "    return v_m"
   ]
  },
  {
   "cell_type": "code",
   "execution_count": null,
   "id": "a8d1694b-67a8-47b2-beff-64f685a6a274",
   "metadata": {},
   "outputs": [],
   "source": [
    "def show_images(indices, ds):\n",
    "    for idx in indices:\n",
    "        plt.imshow(ds[idx][0])\n",
    "        plt.show()"
   ]
  },
  {
   "cell_type": "code",
   "execution_count": null,
   "id": "8dcde769-92e2-48ce-ad9f-530ca1261a6b",
   "metadata": {},
   "outputs": [],
   "source": [
    "class Net(object):\n",
    "\n",
    "    def __init__(\n",
    "        self, \n",
    "        transformer,\n",
    "        locations\n",
    "    ):\n",
    "        self.transformer = transformer\n",
    "        self.locations = locations\n",
    "\n",
    "    def encode(self, image):\n",
    "        activations = self.transformer.all_activations(image)[self.locations[0]]  # shape: (B, token_count, hidden_dim)\n",
    "        cls_activations = activations[:, 0]  # (B, hidden_dim)\n",
    "\n",
    "        return cls_activations\n",
    "        "
   ]
  },
  {
   "cell_type": "code",
   "execution_count": null,
   "id": "4d218ca9-08cf-444a-a1c8-003ec4f65350",
   "metadata": {},
   "outputs": [],
   "source": [
    "if any(Path(fca_path).iterdir()):\n",
    "        logger.info(f'{matrix_dir} is not empty')\n",
    "    else:\n",
    "        V_sparse = []\n",
    "        with tqdm(dataset) as pdata:\n",
    "            for idx, d in enumerate(pdata):\n",
    "                t = d['text']\n",
    "                v = net.encode(t)\n",
    "                v_sparse = csr_matrix(v.to('cpu').detach().numpy()[0])\n",
    "                V_sparse.append(v_sparse)\n",
    "joblib.dump(\n",
    "    v_sparse,\n",
    "    matrix_dir / f'{idx}.joblib'\n",
    ")"
   ]
  },
  {
   "cell_type": "code",
   "execution_count": null,
   "id": "530a3899-1018-40d5-8ff9-912f86aa20c1",
   "metadata": {
    "scrolled": true
   },
   "outputs": [],
   "source": [
    "if fca_path.exists():\n",
    "    fca = FCA.load(fca_path)\n",
    "    V = fca.V\n",
    "else:\n",
    "    V = []\n",
    "    # Process images in batches\n",
    "    with(tqdm(val_dataset)) as datap:\n",
    "        for batch_idx, (image, label) in enumerate(datap):\n",
    "            activations = transformer.all_activations(image)[locations[0]]  # shape: (B, token_count, hidden_dim)\n",
    "            cls_activations = activations[:, 0]  # (B, hidden_dim)\n",
    "            \n",
    "            # Forward pass through the sparse autoencoder\n",
    "            output = sae.forward_verbose(cls_activations)\n",
    "            v = output['latent'][0].to('cpu').detach().numpy()\n",
    "            V.append(v)\n",
    "    V = np.array(V)\n",
    "    V_sparse = csr_matrix(V)\n",
    "    fca = FCA(V_sparse)\n",
    "    fca.save(fca_path)"
   ]
  },
  {
   "cell_type": "code",
   "execution_count": null,
   "id": "0c1562a1-b87f-4b60-9693-ea1c80a7451a",
   "metadata": {},
   "outputs": [],
   "source": []
  },
  {
   "cell_type": "code",
   "execution_count": null,
   "id": "a77dc0fd-ec19-4fb2-bd4a-4bfd9433ef33",
   "metadata": {},
   "outputs": [],
   "source": [
    "V[0].shape, V[0]"
   ]
  },
  {
   "cell_type": "code",
   "execution_count": null,
   "id": "a5142352-5fdd-45fc-ac27-ce7bd70ea697",
   "metadata": {},
   "outputs": [],
   "source": [
    "v_x = V[-2]"
   ]
  },
  {
   "cell_type": "code",
   "execution_count": null,
   "id": "844dacba-6e42-4149-807e-de223fe89706",
   "metadata": {},
   "outputs": [],
   "source": [
    "val_dataset[-2][1]"
   ]
  },
  {
   "cell_type": "code",
   "execution_count": null,
   "id": "8a211cd7-ef29-4801-9c4b-15e40d30d53e",
   "metadata": {},
   "outputs": [],
   "source": [
    "v_y = V[-1000]"
   ]
  },
  {
   "cell_type": "code",
   "execution_count": null,
   "id": "562b06c4-8430-4e5d-aa86-b6f07fbd573c",
   "metadata": {},
   "outputs": [],
   "source": [
    "val_dataset[-1000][1]"
   ]
  },
  {
   "cell_type": "code",
   "execution_count": null,
   "id": "c7722368-cfe6-4ace-8edd-18454b948682",
   "metadata": {},
   "outputs": [],
   "source": [
    "val_dataset.classes"
   ]
  },
  {
   "cell_type": "code",
   "execution_count": null,
   "id": "491843ee-70f6-4cf4-b48d-481231307667",
   "metadata": {},
   "outputs": [],
   "source": [
    "np.nonzero(v_x), np.max(v_x), np.argmax(v_x), v_x[np.argmax(v_x)]"
   ]
  },
  {
   "cell_type": "code",
   "execution_count": null,
   "id": "e5303ca6-c0ef-4747-ac9a-03879f61d866",
   "metadata": {},
   "outputs": [],
   "source": [
    "V_sim1 = [(idx, v) for idx, v in enumerate(V) if np.intersect1d(np.nonzero(v), np.nonzero(v_x)).shape[0] > 16]"
   ]
  },
  {
   "cell_type": "code",
   "execution_count": null,
   "id": "ffea5179-dc72-469e-8a47-32d0b0084ade",
   "metadata": {},
   "outputs": [],
   "source": [
    "V_sim2 = [(idx, v) for idx, v in enumerate(V) if np.intersect1d(np.nonzero(v), np.nonzero(v_y)).shape[0] > 16]"
   ]
  },
  {
   "cell_type": "code",
   "execution_count": null,
   "id": "c876ac4b-c777-43fc-a6bd-4c1315c81af2",
   "metadata": {},
   "outputs": [],
   "source": [
    "v_A = find_v_A(V, np.array([v_s[0] for v_s in V_sim1[2:48]]))"
   ]
  },
  {
   "cell_type": "code",
   "execution_count": null,
   "id": "f3b5f119-665f-4072-8c26-0bbe00b07866",
   "metadata": {
    "scrolled": true
   },
   "outputs": [],
   "source": [
    "idx_cm = np.nonzero(v_x)\n",
    "for v_s in V_sim1:\n",
    "    print(f'{topK(v_s[1], 4)} {np.argmax(v_s[1])} {v_s[1][topK(v_s[1], 4)]} {np.max(v_s[1])}')\n",
    "    print(f'{np.intersect1d(np.nonzero(v_s[1]), np.nonzero(v_x))}\\n')\n",
    "    idx_cm = np.intersect1d(idx_cm, np.nonzero(v_s[1]))"
   ]
  },
  {
   "cell_type": "code",
   "execution_count": null,
   "id": "941f45b3-90f2-4f11-a3d7-dfa7430dc15b",
   "metadata": {
    "scrolled": true
   },
   "outputs": [],
   "source": [
    "idx_cm"
   ]
  },
  {
   "cell_type": "code",
   "execution_count": null,
   "id": "467207d3-4c1b-4679-9434-062cb8d12015",
   "metadata": {},
   "outputs": [],
   "source": [
    "k = 12\n",
    "idx_cm = np.nonzero(v_x)\n",
    "for v_s in V_sim2:\n",
    "    print(f'{topK(v_s[1], k)} {np.argmax(v_s[1])} {v_s[1][topK(v_s[1], k)]} {np.max(v_s[1])}')\n",
    "    print(f'{np.intersect1d(np.nonzero(v_s[1]), np.nonzero(v_x))}\\n')\n",
    "    idx_cm = np.intersect1d(idx_cm, np.nonzero(v_s[1]))"
   ]
  },
  {
   "cell_type": "code",
   "execution_count": null,
   "id": "efb62082-0cc9-48e1-9b48-6461a9344624",
   "metadata": {},
   "outputs": [],
   "source": [
    "idx_cm"
   ]
  },
  {
   "cell_type": "code",
   "execution_count": null,
   "id": "6448e7af-24b6-444c-9814-edf9c4133560",
   "metadata": {},
   "outputs": [],
   "source": [
    "len(V_sim1), len(V_sim2)"
   ]
  },
  {
   "cell_type": "code",
   "execution_count": null,
   "id": "a787a10f-a4d7-478e-ad3a-32ed47e1c12e",
   "metadata": {},
   "outputs": [],
   "source": [
    "plt.imshow(val_dataset[V_sim1[2][0]][0])\n",
    "plt.show()"
   ]
  },
  {
   "cell_type": "code",
   "execution_count": null,
   "id": "67833233-6b8d-4d66-9bac-34fafb8d3bb7",
   "metadata": {},
   "outputs": [],
   "source": [
    "v_i = vec_i_j(v_x, [64916, 59768], [10, 4])\n",
    "v_j = vec_i_j(v_x, [64916, 59768], [10, 4])"
   ]
  },
  {
   "cell_type": "code",
   "execution_count": null,
   "id": "f5ab53ef-63af-43a7-86e2-1b516d068267",
   "metadata": {},
   "outputs": [],
   "source": [
    "v_i[53645] = 2.2\n",
    "v_j[281] = 2.2"
   ]
  },
  {
   "cell_type": "code",
   "execution_count": null,
   "id": "67fbed16-894e-4bba-a7b9-38f2a5d70e79",
   "metadata": {},
   "outputs": [],
   "source": [
    "v_p = vec_i_j(v_x, [64916, 59768], [10, 3])\n",
    "v_q = vec_i_j(v_x, [64916, 59768], [10, 3])"
   ]
  },
  {
   "cell_type": "code",
   "execution_count": null,
   "id": "fb7c4e1e-d522-477a-bdf3-784f97fd29bf",
   "metadata": {},
   "outputs": [],
   "source": [
    "v_p[27760] = 2.4\n",
    "v_q[50826] = 2.6"
   ]
  },
  {
   "cell_type": "code",
   "execution_count": null,
   "id": "ede0774e-9e68-4bbf-bdf9-7493f56e4779",
   "metadata": {},
   "outputs": [],
   "source": [
    "v_t = vec_i_j(v_x, [64916, 59768], [10, 3])\n",
    "v_s = vec_i_j(v_x, [64916, 59768], [10, 3])"
   ]
  },
  {
   "cell_type": "code",
   "execution_count": null,
   "id": "03c1b597-1f24-432f-a73a-0ba348d0c768",
   "metadata": {},
   "outputs": [],
   "source": [
    "v_t[64573] = 2.2\n",
    "v_s[60547] = 2.2"
   ]
  },
  {
   "cell_type": "code",
   "execution_count": null,
   "id": "ea93a8c7-d21b-4aa0-a7d6-1afce74e7d8b",
   "metadata": {},
   "outputs": [],
   "source": [
    "concept_i = fca.G_FG(v_i)\n",
    "concept_i"
   ]
  },
  {
   "cell_type": "code",
   "execution_count": null,
   "id": "ed4665c1-fa61-4df4-a1fe-ba2fa4504495",
   "metadata": {
    "scrolled": true
   },
   "outputs": [],
   "source": [
    "show_images(concept_i.A, val_dataset)"
   ]
  },
  {
   "cell_type": "code",
   "execution_count": null,
   "id": "bf823ff0-6d61-4712-9fa6-84f30ce8336c",
   "metadata": {},
   "outputs": [],
   "source": [
    "concept_j = fca.G_FG(v_j)\n",
    "concept_j"
   ]
  },
  {
   "cell_type": "code",
   "execution_count": null,
   "id": "639ef728-c14a-4517-b478-a09701385370",
   "metadata": {
    "scrolled": true
   },
   "outputs": [],
   "source": [
    "show_images(concept_j.A, val_dataset)"
   ]
  },
  {
   "cell_type": "code",
   "execution_count": null,
   "id": "0aafdd5c-0edf-465f-92cc-33f647d9fb84",
   "metadata": {},
   "outputs": [],
   "source": [
    "concept_i_j = concept_i & concept_j\n",
    "concept_i_j"
   ]
  },
  {
   "cell_type": "code",
   "execution_count": null,
   "id": "cf51df45-6ff1-4b4b-8730-47cdcaacbbcd",
   "metadata": {
    "scrolled": true
   },
   "outputs": [],
   "source": [
    "show_images(concept_i_j.A, val_dataset)"
   ]
  },
  {
   "cell_type": "code",
   "execution_count": null,
   "id": "809f7400-3501-4385-904f-7998beb83102",
   "metadata": {},
   "outputs": [],
   "source": [
    "concept_p = fca.G_FG(v_p)\n",
    "concept_p"
   ]
  },
  {
   "cell_type": "code",
   "execution_count": null,
   "id": "72cea5f0-f61d-447a-9e90-837080c1a741",
   "metadata": {},
   "outputs": [],
   "source": [
    "concept_q = fca.G_FG(v_q)\n",
    "concept_q"
   ]
  },
  {
   "cell_type": "code",
   "execution_count": null,
   "id": "eeafc2c1-e3f7-4df4-add4-6cac87a819f8",
   "metadata": {},
   "outputs": [],
   "source": [
    "concept_p_q = concept_p & concept_q\n",
    "concept_p_q"
   ]
  },
  {
   "cell_type": "code",
   "execution_count": null,
   "id": "b3a6a770-2df1-4270-b93f-9627a718f025",
   "metadata": {
    "scrolled": true
   },
   "outputs": [],
   "source": [
    "show_images(concept_p_q.A, val_dataset)"
   ]
  },
  {
   "cell_type": "code",
   "execution_count": null,
   "id": "a7be2f04-05de-4b18-a54e-0f2613f7f732",
   "metadata": {},
   "outputs": [],
   "source": [
    "concept_t = fca.G_FG(v_t)\n",
    "concept_t"
   ]
  },
  {
   "cell_type": "code",
   "execution_count": null,
   "id": "4acda943-61a7-4e0e-aec6-0f249d71ca1d",
   "metadata": {},
   "outputs": [],
   "source": [
    "concept_s = fca.G_FG(v_s)\n",
    "concept_s"
   ]
  },
  {
   "cell_type": "code",
   "execution_count": null,
   "id": "c44f0698-d67c-4368-8111-01b33ab03281",
   "metadata": {},
   "outputs": [],
   "source": [
    "concept_t_s = concept_t & concept_s\n",
    "concept_t_s"
   ]
  },
  {
   "cell_type": "code",
   "execution_count": null,
   "id": "2e480ba3-adf6-4fa4-a1ea-4d85181ca194",
   "metadata": {
    "scrolled": true
   },
   "outputs": [],
   "source": [
    "show_images(concept_t_s.A, val_dataset)"
   ]
  },
  {
   "cell_type": "code",
   "execution_count": null,
   "id": "377e7c2e-33f9-4178-8873-c9af153dbdd6",
   "metadata": {},
   "outputs": [],
   "source": [
    "v_a = vec_i_j(v_y, [64916, 50826], [10, 3])\n",
    "v_b = vec_i_j(v_y, [64916, 50826], [10, 3])"
   ]
  },
  {
   "cell_type": "code",
   "execution_count": null,
   "id": "cd369c48-0ffc-4ced-9595-4c5901467a8c",
   "metadata": {},
   "outputs": [],
   "source": [
    "v_a[17005] = 2.2\n",
    "v_b[15707] = 2.2"
   ]
  },
  {
   "cell_type": "code",
   "execution_count": null,
   "id": "94219d72-90e8-47ba-a30a-48002ec79823",
   "metadata": {},
   "outputs": [],
   "source": [
    "concept_a = fca.G_FG(v_a)\n",
    "concept_a"
   ]
  },
  {
   "cell_type": "code",
   "execution_count": null,
   "id": "86612f94-abc5-454f-8bfc-97c6771fa1ec",
   "metadata": {
    "scrolled": true
   },
   "outputs": [],
   "source": [
    "show_images(concept_a.A, val_dataset)"
   ]
  },
  {
   "cell_type": "code",
   "execution_count": null,
   "id": "ca5a3633-17f9-4b0c-b620-7258c1cb3cac",
   "metadata": {},
   "outputs": [],
   "source": [
    "concept_b = fca.G_FG(v_b)\n",
    "concept_b"
   ]
  },
  {
   "cell_type": "code",
   "execution_count": null,
   "id": "24853e27-a288-48ab-ac01-e5db39e29329",
   "metadata": {
    "scrolled": true
   },
   "outputs": [],
   "source": [
    "show_images(concept_b.A, val_dataset)"
   ]
  },
  {
   "cell_type": "code",
   "execution_count": null,
   "id": "773e4de6-7347-4da4-b37f-67fbf50a99dc",
   "metadata": {},
   "outputs": [],
   "source": [
    "concept_a_b = concept_a & concept_b\n",
    "concept_a_b"
   ]
  },
  {
   "cell_type": "code",
   "execution_count": null,
   "id": "f57c5a33-23ae-4204-9694-0b5bce0cc009",
   "metadata": {
    "scrolled": true
   },
   "outputs": [],
   "source": [
    "show_images(concept_a_b.A, val_dataset)"
   ]
  },
  {
   "cell_type": "code",
   "execution_count": null,
   "id": "2d2832de-77be-46ad-a6f8-3ff441a1dc38",
   "metadata": {},
   "outputs": [],
   "source": [
    "v_c = vec_i_j(v_y, [64916, 50826], [10, 3])\n",
    "v_d = vec_i_j(v_y, [64916, 50826], [10, 3])\n",
    "v_e = vec_i_j(v_y, [64916, 50826], [10, 3])\n",
    "v_f = vec_i_j(v_y, [64916, 50826], [10, 3])"
   ]
  },
  {
   "cell_type": "code",
   "execution_count": null,
   "id": "c7ce9f79-09e8-4201-9e5a-d4fd413626f8",
   "metadata": {},
   "outputs": [],
   "source": [
    "v_c[26494] = 1.2\n",
    "v_d[8588] = 2.2\n",
    "v_e[36155] = 2.2\n",
    "v_f[19359] = 1.2"
   ]
  },
  {
   "cell_type": "code",
   "execution_count": null,
   "id": "496480b2-fb8f-4f69-83b2-fe4c641f0be6",
   "metadata": {},
   "outputs": [],
   "source": [
    "concept_c = fca.G_FG(v_c)\n",
    "concept_c"
   ]
  },
  {
   "cell_type": "code",
   "execution_count": null,
   "id": "b0845b65-4c86-4651-b4ad-cc11914c8569",
   "metadata": {},
   "outputs": [],
   "source": [
    "concept_d = fca.G_FG(v_d)\n",
    "concept_d"
   ]
  },
  {
   "cell_type": "code",
   "execution_count": null,
   "id": "7cfdcf1b-4932-4c3f-86ae-350617ccc20b",
   "metadata": {},
   "outputs": [],
   "source": [
    "concept_e = fca.G_FG(v_e)\n",
    "concept_e"
   ]
  },
  {
   "cell_type": "code",
   "execution_count": null,
   "id": "db9418c0-2c4a-4b0d-adf0-affbf93d0503",
   "metadata": {},
   "outputs": [],
   "source": [
    "concept_f = fca.G_FG(v_f)\n",
    "concept_f"
   ]
  },
  {
   "cell_type": "code",
   "execution_count": null,
   "id": "e09c38a6-6fa6-43fd-abb7-7d2acbdf9c10",
   "metadata": {},
   "outputs": [],
   "source": [
    "concept_c_d = concept_a & concept_b\n",
    "concept_c_d"
   ]
  },
  {
   "cell_type": "code",
   "execution_count": null,
   "id": "bde88b16-f7b4-4fac-834b-acf0ab5c37ce",
   "metadata": {},
   "outputs": [],
   "source": [
    "concept_c_d_e = concept_a & concept_b & concept_e\n",
    "concept_c_d_e"
   ]
  },
  {
   "cell_type": "code",
   "execution_count": null,
   "id": "b442ded4-e6f2-4ab8-b89b-e29dfb9e2bb5",
   "metadata": {},
   "outputs": [],
   "source": [
    "concept_c_d_e_f = concept_a & concept_b & concept_e & concept_f\n",
    "concept_c_d_e_f"
   ]
  },
  {
   "cell_type": "code",
   "execution_count": null,
   "id": "46c2a6b7-c798-48cb-bfbe-6789c9d4fcf9",
   "metadata": {
    "scrolled": true
   },
   "outputs": [],
   "source": [
    "show_images(concept_c_d.A, val_dataset)"
   ]
  },
  {
   "cell_type": "code",
   "execution_count": null,
   "id": "888aea82-63ce-49a5-a4d5-6744ef3b8815",
   "metadata": {
    "scrolled": true
   },
   "outputs": [],
   "source": [
    "show_images(concept_c_d_e.A, val_dataset)"
   ]
  },
  {
   "cell_type": "code",
   "execution_count": null,
   "id": "f690edb7-44d7-4d3a-8252-67e3d4bb5ce6",
   "metadata": {},
   "outputs": [],
   "source": [
    "show_images(concept_c_d_e_f.A, val_dataset)"
   ]
  },
  {
   "cell_type": "code",
   "execution_count": null,
   "id": "b922378d-af4b-421a-a54f-d5232b713ad6",
   "metadata": {},
   "outputs": [],
   "source": []
  }
 ],
 "metadata": {
  "kernelspec": {
   "display_name": "Python 3 (ipykernel)",
   "language": "python",
   "name": "python3"
  },
  "language_info": {
   "codemirror_mode": {
    "name": "ipython",
    "version": 3
   },
   "file_extension": ".py",
   "mimetype": "text/x-python",
   "name": "python",
   "nbconvert_exporter": "python",
   "pygments_lexer": "ipython3",
   "version": "3.12.9"
  }
 },
 "nbformat": 4,
 "nbformat_minor": 5
}
