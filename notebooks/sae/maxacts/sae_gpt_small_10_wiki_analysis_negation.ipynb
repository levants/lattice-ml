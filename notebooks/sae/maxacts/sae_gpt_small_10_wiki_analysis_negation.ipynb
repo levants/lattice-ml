{
 "cells": [
  {
   "cell_type": "code",
   "execution_count": null,
   "id": "71ce37e9",
   "metadata": {},
   "outputs": [],
   "source": [
    "%load_ext autoreload\n",
    "%autoreload 2\n",
    "\n",
    "%matplotlib inline"
   ]
  },
  {
   "cell_type": "markdown",
   "id": "5b560092",
   "metadata": {},
   "source": [
    "## Install libraries"
   ]
  },
  {
   "cell_type": "markdown",
   "id": "89885fa7",
   "metadata": {},
   "source": [
    "```bash\n",
    "conda create -n edu4 python=3.11 jupyter matplotlib\n",
    "```"
   ]
  },
  {
   "cell_type": "markdown",
   "id": "cd23589d",
   "metadata": {},
   "source": [
    "```bash \n",
    "! pip install -U -r requirements.txt\n",
    "```"
   ]
  },
  {
   "cell_type": "markdown",
   "id": "9d16321f",
   "metadata": {},
   "source": [
    "```bash\n",
    "! pip install -U numpy\n",
    "! pip install -U scikit-learn\n",
    "```"
   ]
  },
  {
   "cell_type": "markdown",
   "id": "b4cab43a",
   "metadata": {},
   "source": [
    "## Update repository"
   ]
  },
  {
   "cell_type": "code",
   "execution_count": null,
   "id": "46bcb5dc",
   "metadata": {},
   "outputs": [],
   "source": [
    "# ! git pull"
   ]
  },
  {
   "cell_type": "markdown",
   "id": "bad216da",
   "metadata": {},
   "source": [
    "## Add import path"
   ]
  },
  {
   "cell_type": "code",
   "execution_count": null,
   "id": "baafb705",
   "metadata": {},
   "outputs": [],
   "source": [
    "import os\n",
    "import sys\n",
    "import gc"
   ]
  },
  {
   "cell_type": "code",
   "execution_count": null,
   "id": "b2930983",
   "metadata": {},
   "outputs": [],
   "source": [
    "module_path = os.path.abspath(os.path.join('..'))\n",
    "if module_path not in sys.path:\n",
    "    sys.path.append(module_path)"
   ]
  },
  {
   "cell_type": "code",
   "execution_count": null,
   "id": "83ccfcbd-f80f-4f27-b3a0-3f06deade10c",
   "metadata": {},
   "outputs": [],
   "source": [
    "module_path = os.path.abspath(os.path.join('../..'))\n",
    "if module_path not in sys.path:\n",
    "    sys.path.append(module_path)"
   ]
  },
  {
   "cell_type": "code",
   "execution_count": null,
   "id": "4aac89fb-de1d-4418-b947-196d9ca5aa31",
   "metadata": {},
   "outputs": [],
   "source": [
    "module_path = os.path.abspath(os.path.join('../../..'))\n",
    "if module_path not in sys.path:\n",
    "    sys.path.append(module_path)"
   ]
  },
  {
   "cell_type": "code",
   "execution_count": null,
   "id": "7984d32f",
   "metadata": {},
   "outputs": [],
   "source": [
    "del module_path"
   ]
  },
  {
   "cell_type": "markdown",
   "id": "07a1e9c8",
   "metadata": {},
   "source": [
    "## Organize imports"
   ]
  },
  {
   "cell_type": "code",
   "execution_count": null,
   "id": "7927f283-cc9b-4268-be85-2874379b118c",
   "metadata": {},
   "outputs": [],
   "source": [
    "from transformers import AutoModelForCausalLM, BitsAndBytesConfig, AutoTokenizer\n",
    "from huggingface_hub import hf_hub_download, notebook_login\n",
    "import numpy as np\n",
    "import torch\n",
    "from torch import nn"
   ]
  },
  {
   "cell_type": "code",
   "execution_count": null,
   "id": "722e0e45-414d-4190-844f-7b44801b2d11",
   "metadata": {},
   "outputs": [],
   "source": [
    "from sae_lens import SAE, HookedSAETransformer\n",
    "from transformer_lens.utils import tokenize_and_concatenate"
   ]
  },
  {
   "cell_type": "code",
   "execution_count": null,
   "id": "f3bae2ba-8269-4513-b108-642257dfc72a",
   "metadata": {},
   "outputs": [],
   "source": [
    "from transformer_lens import HookedTransformer"
   ]
  },
  {
   "cell_type": "code",
   "execution_count": null,
   "id": "5319114e-c41f-4894-a05d-c4b428289a00",
   "metadata": {},
   "outputs": [],
   "source": [
    "from datasets import load_dataset"
   ]
  },
  {
   "cell_type": "code",
   "execution_count": null,
   "id": "ae177357",
   "metadata": {},
   "outputs": [],
   "source": [
    "import multiprocessing\n",
    "from pathlib import Path"
   ]
  },
  {
   "cell_type": "code",
   "execution_count": null,
   "id": "2730a69b-c412-4bfe-a3a8-7ff234315280",
   "metadata": {},
   "outputs": [],
   "source": [
    "from tqdm import tqdm"
   ]
  },
  {
   "cell_type": "code",
   "execution_count": null,
   "id": "a523557a",
   "metadata": {},
   "outputs": [],
   "source": [
    "import seaborn as sns"
   ]
  },
  {
   "cell_type": "code",
   "execution_count": null,
   "id": "25750a3d",
   "metadata": {},
   "outputs": [],
   "source": [
    "import matplotlib.pyplot as plt\n",
    "import numpy as np\n",
    "import pandas as pd"
   ]
  },
  {
   "cell_type": "code",
   "execution_count": null,
   "id": "5aa458ae-d6a5-4496-bb58-ba54f1ee3635",
   "metadata": {},
   "outputs": [],
   "source": [
    "from scipy.sparse import csr_matrix"
   ]
  },
  {
   "cell_type": "code",
   "execution_count": null,
   "id": "902f802d-fa9c-4e26-9df1-ae621014e9de",
   "metadata": {},
   "outputs": [],
   "source": [
    "import plotly.express as px"
   ]
  },
  {
   "cell_type": "code",
   "execution_count": null,
   "id": "ee894933-eba4-4742-8fa2-51b2cff5cf6d",
   "metadata": {},
   "outputs": [],
   "source": [
    "from src.lattmc.fca.utils import *\n",
    "from src.lattmc.fca.data_utils import *\n",
    "from src.lattmc.fca.image_utils import *\n",
    "from src.lattmc.fca.models import *\n",
    "from src.lattmc.fca.fca_utils import *\n",
    "from src.lattmc.fca.image_gens import *"
   ]
  },
  {
   "cell_type": "markdown",
   "id": "65f31e93",
   "metadata": {},
   "source": [
    "#### Number of CPU cores"
   ]
  },
  {
   "cell_type": "code",
   "execution_count": null,
   "id": "b41c30f2",
   "metadata": {},
   "outputs": [],
   "source": [
    "workers = multiprocessing.cpu_count()\n",
    "workers"
   ]
  },
  {
   "cell_type": "code",
   "execution_count": null,
   "id": "59f41838-322d-41e8-b8e1-6712089703c9",
   "metadata": {},
   "outputs": [],
   "source": [
    "SEED = 2024"
   ]
  },
  {
   "cell_type": "code",
   "execution_count": null,
   "id": "9e1c0d14-575c-491c-88a3-85f70fae7875",
   "metadata": {},
   "outputs": [],
   "source": [
    "# For the most part I'll try to import functions and classes near where they are used\n",
    "# to make it clear where they come from.\n",
    "\n",
    "if torch.backends.mps.is_available():\n",
    "    device = \"mps\"\n",
    "else:\n",
    "    device = \"cuda\" if torch.cuda.is_available() else \"cpu\"\n",
    "\n",
    "print(f\"Device: {device}\")"
   ]
  },
  {
   "cell_type": "code",
   "execution_count": null,
   "id": "1e9fcf4c-09fe-4262-b975-56a627c02797",
   "metadata": {},
   "outputs": [],
   "source": [
    "torch.__version__"
   ]
  },
  {
   "cell_type": "code",
   "execution_count": null,
   "id": "f6916c3b-746f-4169-98eb-49d20824e8ef",
   "metadata": {},
   "outputs": [],
   "source": [
    "np.__version__"
   ]
  },
  {
   "cell_type": "markdown",
   "id": "0ccf4792-19f1-4d01-b9c2-ddea2462cadc",
   "metadata": {},
   "source": [
    "## Initialize Path"
   ]
  },
  {
   "cell_type": "code",
   "execution_count": null,
   "id": "bcd545b8-0e15-41e9-92a9-4d0bf260c8b8",
   "metadata": {},
   "outputs": [],
   "source": [
    "PATH = Path('../data')\n",
    "checkpoint_dir = PATH / 'saes'\n",
    "dataset_suffix = 'wiki'\n",
    "vectors_name = f'gpt2_small_10_{dataset_suffix}'\n",
    "checkpoint_dir.mkdir(exist_ok=True, parents=True)\n",
    "vectors_dir = checkpoint_dir / f'{vectors_name}_10_vecs'\n",
    "vectors_dir.mkdir(exist_ok=True, parents=True)\n",
    "matrix_dir = checkpoint_dir / f'{vectors_name}_10_mats'\n",
    "matrix_dir.mkdir(exist_ok=True, parents=True)\n",
    "vectors_path = checkpoint_dir / f'{vectors_name}_10_vecs.joblib'\n",
    "\n",
    "image_dir = PATH / 'images'\n",
    "image_path = image_dir / '1024.png'"
   ]
  },
  {
   "cell_type": "markdown",
   "id": "be07aad4-53a7-456b-b026-80295db7d84d",
   "metadata": {},
   "source": [
    "## Initialize simple dataset"
   ]
  },
  {
   "cell_type": "code",
   "execution_count": null,
   "id": "c3ddebc9-6b60-403d-aaa1-13c71e3215e6",
   "metadata": {},
   "outputs": [],
   "source": [
    "dataset = load_dataset(\n",
    "    path=f'NeelNanda/{dataset_suffix}-10k',\n",
    "    split='train',\n",
    "    streaming=False,\n",
    ")"
   ]
  },
  {
   "cell_type": "markdown",
   "id": "807137b2-c1f9-42eb-a4aa-2ad0f60c93b2",
   "metadata": {},
   "source": [
    "## Initialize model"
   ]
  },
  {
   "cell_type": "code",
   "execution_count": null,
   "id": "4ca2a447-c388-49ae-9601-ce3e1d052875",
   "metadata": {},
   "outputs": [],
   "source": [
    "class Text2Latent(object):\n",
    "\n",
    "    def __init__(self, model: nn.Module, sae: nn.Module):\n",
    "        self.model = model.eval()\n",
    "        self.sae = sae.eval()\n",
    "        self.hook_point = sae.cfg.hook_name\n",
    "\n",
    "    @torch.inference_mode()\n",
    "    def tokenize(self, text):\n",
    "        return self.model.to_tokens(text)\n",
    "\n",
    "    @torch.inference_mode()\n",
    "    def to_string(self, tokens):\n",
    "        return self.model.to_string(tokens)\n",
    "\n",
    "    @torch.inference_mode()\n",
    "    def encode(self, text):\n",
    "        _, cache = self.model.run_with_cache(text, prepend_bos=True)\n",
    "        # get the feature activations from our SAE\n",
    "        z = self.sae.encode(cache[self.hook_point])\n",
    "        \n",
    "        return z\n",
    "\n",
    "    @torch.inference_mode()\n",
    "    def decode(self, z):\n",
    "        return self.sae.decode(z)\n",
    "\n",
    "    @torch.inference_mode()\n",
    "    def forward(self, text):\n",
    "        z = self.encode(text)\n",
    "        r = self.decode(z)\n",
    "\n",
    "        return r"
   ]
  },
  {
   "cell_type": "code",
   "execution_count": null,
   "id": "f881273d-0cd8-4ded-ba37-94e1fb692672",
   "metadata": {},
   "outputs": [],
   "source": [
    "def gen_concept(idx, val, shape=24576):\n",
    "    v_idx = np.zeros((shape,), dtype=float)\n",
    "    v_idx[idx] = val\n",
    "    concept = fca.G_FG(v_idx)\n",
    "    S = dsort(V[concept.A], idx)\n",
    "    \n",
    "    return v_idx, concept, concept.A[S]"
   ]
  },
  {
   "cell_type": "code",
   "execution_count": null,
   "id": "f79a6c4d-2e8b-4605-b21b-757446d5130d",
   "metadata": {},
   "outputs": [],
   "source": [
    "layer = 10"
   ]
  },
  {
   "cell_type": "code",
   "execution_count": null,
   "id": "cf3938d2-4b5a-4132-98c9-c694a5a3d859",
   "metadata": {},
   "outputs": [],
   "source": [
    "model_name = 'gpt2-small'\n",
    "release = 'gpt2-small-res-jb'\n",
    "sae_id = f'blocks.{layer}.hook_resid_pre'\n",
    "sae, cfg_dict, sparsity = SAE.from_pretrained(\n",
    "    release=release,  # see other options in sae_lens/pretrained_saes.yaml\n",
    "    sae_id=sae_id,  # won't always be a hook point\n",
    "    device=device,\n",
    ")\n",
    "hook_point = sae.cfg.hook_name\n",
    "print(hook_point)"
   ]
  },
  {
   "cell_type": "code",
   "execution_count": null,
   "id": "629d3b08-5ad2-4c54-ae04-6269dfdf172e",
   "metadata": {},
   "outputs": [],
   "source": [
    "model = HookedTransformer.from_pretrained(model_name, device=device)"
   ]
  },
  {
   "cell_type": "code",
   "execution_count": null,
   "id": "38bdee37-6d3b-48db-bb4f-03dc3bee8692",
   "metadata": {},
   "outputs": [],
   "source": [
    "net = Text2Latent(model, sae)"
   ]
  },
  {
   "cell_type": "markdown",
   "id": "bbb39674-f5fa-4f57-8991-62f9426c119b",
   "metadata": {},
   "source": [
    "## Generate V Lattice"
   ]
  },
  {
   "cell_type": "code",
   "execution_count": null,
   "id": "8dd176eb-71f5-49be-8437-f82b3e31ec33",
   "metadata": {},
   "outputs": [],
   "source": [
    "gc.collect()"
   ]
  },
  {
   "cell_type": "code",
   "execution_count": null,
   "id": "231000a1-a1f8-4e46-9d0f-a044303ecbfa",
   "metadata": {},
   "outputs": [],
   "source": [
    "if any(Path(matrix_dir).iterdir()):\n",
    "    print(f'{matrix_dir} is not empty')\n",
    "else:\n",
    "    with tqdm(dataset) as pdata:\n",
    "        for idx, d in enumerate(pdata):\n",
    "            t = d['text']\n",
    "            v = net.encode(t)\n",
    "            v_sparse = csr_matrix(v.to('cpu').detach().numpy()[0])\n",
    "            joblib.dump(\n",
    "                v_sparse, \n",
    "                matrix_dir / f'{idx}.joblib'\n",
    "            )"
   ]
  },
  {
   "cell_type": "code",
   "execution_count": null,
   "id": "8146f4c2-0afc-4d1d-a5fc-626cc70d5151",
   "metadata": {},
   "outputs": [],
   "source": [
    "gc.collect()"
   ]
  },
  {
   "cell_type": "code",
   "execution_count": null,
   "id": "6ec4b435-3dd2-45c1-96e9-1ffe691224d7",
   "metadata": {},
   "outputs": [],
   "source": [
    "if vectors_path.exists():\n",
    "    V = joblib.load(vectors_path)\n",
    "    print(f'Vectors are loaded from {vectors_path}')\n",
    "else:\n",
    "    v_paths = list(matrix_dir.glob('*.joblib'))\n",
    "    error_paths = []\n",
    "    V_dict = {}\n",
    "    V_list = []\n",
    "    with tqdm(v_paths) as v_ppaths:\n",
    "        for v_path in v_ppaths:\n",
    "            v_sparse = joblib.load(v_path)\n",
    "            vs = v_sparse.toarray()[1:]\n",
    "            v = np.maximum.reduce(vs)\n",
    "            V_dict[int(v_path.stem)] = v\n",
    "    with tqdm(list(range(10000))) as prange:\n",
    "        for k in prange:\n",
    "            V_list.append(V_dict[k])\n",
    "    V = np.array(V_list)\n",
    "    joblib.dump(V, vectors_path)    "
   ]
  },
  {
   "cell_type": "markdown",
   "id": "0005806a-6eeb-4311-87df-39eec9dbd658",
   "metadata": {},
   "source": [
    "## Generate Context and Analyze"
   ]
  },
  {
   "cell_type": "code",
   "execution_count": null,
   "id": "072c63b3-eb8a-40a3-b401-ae3608913bae",
   "metadata": {},
   "outputs": [],
   "source": [
    "gc.collect()"
   ]
  },
  {
   "cell_type": "code",
   "execution_count": null,
   "id": "2e56f105-3ffd-4732-a9de-5caa3b92f707",
   "metadata": {},
   "outputs": [],
   "source": [
    "fca = FCA(V)"
   ]
  },
  {
   "cell_type": "code",
   "execution_count": null,
   "id": "0621cd3b-5766-416a-9587-1031df08e49b",
   "metadata": {},
   "outputs": [],
   "source": [
    "text1 = \"The Golden Gate Bridge\"\n",
    "z = net.encode(text1)\n",
    "zs = z.to('cpu').detach().numpy()[0]\n",
    "v = np.maximum.reduce(zs)"
   ]
  },
  {
   "cell_type": "code",
   "execution_count": null,
   "id": "f8c4693a-3dc5-481e-8301-cffc0a6ee6c9",
   "metadata": {},
   "outputs": [],
   "source": [
    "zs[1:].shape"
   ]
  },
  {
   "cell_type": "code",
   "execution_count": null,
   "id": "09cb753a-491a-4012-b5a4-7730db141b27",
   "metadata": {},
   "outputs": [],
   "source": [
    "zs.shape"
   ]
  },
  {
   "cell_type": "code",
   "execution_count": null,
   "id": "cf1e4ed1-3a85-4f49-9398-9a5c1879ae73",
   "metadata": {},
   "outputs": [],
   "source": [
    "v[19837]"
   ]
  },
  {
   "cell_type": "markdown",
   "id": "9f8ec9b3-1030-4500-b86b-9c1913a15861",
   "metadata": {},
   "source": [
    "## Detect Negation"
   ]
  },
  {
   "cell_type": "code",
   "execution_count": null,
   "id": "248714c9-89f1-47e1-bbb3-06ce7f32512e",
   "metadata": {},
   "outputs": [],
   "source": [
    "w1 = 'Bird'\n",
    "w2 = 'can'\n",
    "w3 = 'fly'\n",
    "w4 = 'hunt'"
   ]
  },
  {
   "cell_type": "code",
   "execution_count": null,
   "id": "faa68c78-ca42-401b-bfc3-f404f0684a4c",
   "metadata": {},
   "outputs": [],
   "source": [
    "ws = [w1, w2, w3, w4]"
   ]
  },
  {
   "cell_type": "code",
   "execution_count": null,
   "id": "6b0a6c32-e276-4a2b-87ca-5b73d6ee1116",
   "metadata": {},
   "outputs": [],
   "source": [
    "text = ' '.join(ws)\n",
    "text"
   ]
  },
  {
   "cell_type": "code",
   "execution_count": null,
   "id": "488e4b99-eed8-4807-b708-c92f147eed68",
   "metadata": {},
   "outputs": [],
   "source": [
    "vs = net.encode(text)"
   ]
  },
  {
   "cell_type": "code",
   "execution_count": null,
   "id": "b0a9c107-402a-450f-85ba-834a9d5a52e6",
   "metadata": {},
   "outputs": [],
   "source": [
    "ts = net.tokenize(text)"
   ]
  },
  {
   "cell_type": "code",
   "execution_count": null,
   "id": "9c0803ba-4af9-4ea8-aba1-ce0619625b15",
   "metadata": {},
   "outputs": [],
   "source": [
    "ts.shape"
   ]
  },
  {
   "cell_type": "code",
   "execution_count": null,
   "id": "dd2fe04e-9655-4b02-8439-8638b971dc0b",
   "metadata": {},
   "outputs": [],
   "source": [
    "net.to_string(ts[0][4])"
   ]
  },
  {
   "cell_type": "code",
   "execution_count": null,
   "id": "940ce1b3-33f5-4d60-933f-55d7942de95c",
   "metadata": {},
   "outputs": [],
   "source": [
    "vs.shape"
   ]
  },
  {
   "cell_type": "code",
   "execution_count": null,
   "id": "17848f2f-4c17-4220-b30d-1fd609c18bfc",
   "metadata": {},
   "outputs": [],
   "source": [
    "ts = net.tokenize(w1)[0]\n",
    "net.to_string(ts[1])"
   ]
  },
  {
   "cell_type": "code",
   "execution_count": null,
   "id": "074fe083-d165-43e4-9d48-161db12e25f9",
   "metadata": {},
   "outputs": [],
   "source": [
    "ts = net.tokenize(w2)[0]\n",
    "net.to_string(ts[1])"
   ]
  },
  {
   "cell_type": "code",
   "execution_count": null,
   "id": "cd87e48b-fc81-474a-96ec-d1d522a0e768",
   "metadata": {},
   "outputs": [],
   "source": [
    "ts = net.tokenize(w3)[0]\n",
    "net.to_string(ts[1])"
   ]
  },
  {
   "cell_type": "code",
   "execution_count": null,
   "id": "0a78efb1-3b28-495a-9cae-df7898998db5",
   "metadata": {},
   "outputs": [],
   "source": [
    "ts = net.tokenize(w4)[0]\n",
    "net.to_string(ts[1])"
   ]
  },
  {
   "cell_type": "code",
   "execution_count": null,
   "id": "686824fd-13b0-4d41-881c-49b64f41e968",
   "metadata": {},
   "outputs": [],
   "source": [
    "v1 = net.encode(w1)[0][1] / 10\n",
    "v2 = net.encode(w2)[0][1] / 10\n",
    "v3 = net.encode(w3)[0][1] / 10\n",
    "v4 = net.encode(w4)[0][1] / 10\n",
    "v1.shape"
   ]
  },
  {
   "cell_type": "code",
   "execution_count": null,
   "id": "1b35261e-8d73-4372-b9d8-a277bb1b6ac9",
   "metadata": {},
   "outputs": [],
   "source": [
    "to_numpy(v1)[np.argmax(to_numpy(v1))]"
   ]
  },
  {
   "cell_type": "code",
   "execution_count": null,
   "id": "a8b0a2d9-bfad-4c50-b482-ef999232cca0",
   "metadata": {},
   "outputs": [],
   "source": [
    "to_numpy(v2)[np.argmax(to_numpy(v2))]"
   ]
  },
  {
   "cell_type": "code",
   "execution_count": null,
   "id": "0d34e875-4025-4bc7-bf8f-df224665cff6",
   "metadata": {},
   "outputs": [],
   "source": [
    "to_numpy(v3)[np.argmax(to_numpy(v3))]"
   ]
  },
  {
   "cell_type": "code",
   "execution_count": null,
   "id": "5da63163-21a6-43bb-800d-31ef95dd03ae",
   "metadata": {},
   "outputs": [],
   "source": [
    "to_numpy(v4)[np.argmax(to_numpy(v4))]"
   ]
  },
  {
   "cell_type": "code",
   "execution_count": null,
   "id": "2fea58b8-81c6-41bf-8a96-f38b988a881d",
   "metadata": {},
   "outputs": [],
   "source": [
    "vt = vs[0][1:]"
   ]
  },
  {
   "cell_type": "code",
   "execution_count": null,
   "id": "83522709-5734-4f90-a43f-52d89f09d198",
   "metadata": {},
   "outputs": [],
   "source": [
    "vt.shape"
   ]
  },
  {
   "cell_type": "code",
   "execution_count": null,
   "id": "19bf5fc9-59ed-4639-b08c-1e1b20a82b39",
   "metadata": {},
   "outputs": [],
   "source": [
    "c1 = fca.G_FG(v1)\n",
    "c2 = fca.G_FG(v2)\n",
    "c3 = fca.G_FG(v3)\n",
    "c4 = fca.G_FG(v4)"
   ]
  },
  {
   "cell_type": "code",
   "execution_count": null,
   "id": "0e395bb3-8056-4c4a-bb83-3e6ff1c5690e",
   "metadata": {},
   "outputs": [],
   "source": [
    "c3"
   ]
  },
  {
   "cell_type": "code",
   "execution_count": null,
   "id": "a96d9c01-1c4a-436a-bdec-4c1721ed2797",
   "metadata": {
    "scrolled": true
   },
   "outputs": [],
   "source": [
    "dataset[c3.A]"
   ]
  },
  {
   "cell_type": "code",
   "execution_count": null,
   "id": "ada16d81-b525-4bb6-a739-2660b27fd0b6",
   "metadata": {},
   "outputs": [],
   "source": [
    "c1 & c2"
   ]
  },
  {
   "cell_type": "markdown",
   "id": "ce2d4811-ab09-455a-b522-9ac708b94383",
   "metadata": {},
   "source": [
    "## Landmark Detection?"
   ]
  },
  {
   "cell_type": "code",
   "execution_count": null,
   "id": "040ea024-5d87-483a-9067-50805d04a4fd",
   "metadata": {},
   "outputs": [],
   "source": [
    "text = \"Golden Gate Bridge\"\n",
    "z = net.encode(text)\n",
    "zs = z.to('cpu').detach().numpy()[0]"
   ]
  },
  {
   "cell_type": "code",
   "execution_count": null,
   "id": "c91b3fbd-d210-47c0-ba79-f52897bdf517",
   "metadata": {},
   "outputs": [],
   "source": [
    "z[0].shape"
   ]
  },
  {
   "cell_type": "code",
   "execution_count": null,
   "id": "a9e3c359-3e8e-4131-aee4-93683889c406",
   "metadata": {},
   "outputs": [],
   "source": [
    "l = meet(zs[1], zs[2])"
   ]
  },
  {
   "cell_type": "code",
   "execution_count": null,
   "id": "42a2dcb2-3ad7-4541-88b6-5c951282823a",
   "metadata": {},
   "outputs": [],
   "source": [
    "topK(l, 20)"
   ]
  },
  {
   "cell_type": "code",
   "execution_count": null,
   "id": "9d5370c3-6a52-4063-83ae-adbb62187b38",
   "metadata": {},
   "outputs": [],
   "source": [
    "concept = fca.G_FG(l)\n",
    "concept"
   ]
  },
  {
   "cell_type": "code",
   "execution_count": null,
   "id": "c4dbc522-b856-4c7e-af7d-1476704c785b",
   "metadata": {
    "scrolled": true
   },
   "outputs": [],
   "source": [
    "dataset[concept.A[0].item()]"
   ]
  },
  {
   "cell_type": "markdown",
   "id": "fd8d8839-eb1f-4f67-b5f5-3a095587e92f",
   "metadata": {},
   "source": [
    "## Landmark Detection?"
   ]
  },
  {
   "cell_type": "code",
   "execution_count": null,
   "id": "16247a12-c2ba-4c57-9d93-48d112003b03",
   "metadata": {},
   "outputs": [],
   "source": [
    "import numpy as np\n",
    "a = np.array([[9,2,3],[4,5,6],[7,0,5]])\n",
    "col_index = 0\n",
    "sorted_indices = np.argsort(a[:, col_index])[::-1]\n",
    "sorted_array = a[sorted_indices]\n",
    "print(\"Sorted array:\", sorted_array)\n",
    "print(\"Original indices:\", sorted_indices)"
   ]
  },
  {
   "cell_type": "code",
   "execution_count": null,
   "id": "8a0a9289-6cdb-4cd8-b097-9efb88be3c7f",
   "metadata": {},
   "outputs": [],
   "source": [
    "np.argsort("
   ]
  },
  {
   "cell_type": "code",
   "execution_count": null,
   "id": "0492583b-56a3-4d49-9bae-1e08387096ef",
   "metadata": {},
   "outputs": [],
   "source": [
    "text = \"Golden Gate Bridge is an iconic landmark in San Francisco\"\n",
    "z = net.encode(text)\n",
    "zs = z.to('cpu').detach().numpy()[0]"
   ]
  },
  {
   "cell_type": "code",
   "execution_count": null,
   "id": "5884191b-17e4-4b0e-9727-bb7d2a1ad94b",
   "metadata": {},
   "outputs": [],
   "source": [
    "z[0].shape"
   ]
  },
  {
   "cell_type": "code",
   "execution_count": null,
   "id": "b1cfd542-f127-423f-8051-fc346b20b2d1",
   "metadata": {},
   "outputs": [],
   "source": [
    "tokens = net.tokenize(text)[0]\n",
    "words = [net.to_string(t) for t in tokens]\n",
    "tokens, words"
   ]
  },
  {
   "cell_type": "code",
   "execution_count": null,
   "id": "98c96f15-4c25-4e12-a19a-ab6572e2c465",
   "metadata": {},
   "outputs": [],
   "source": [
    "l = meet(zs[1], zs[2])"
   ]
  },
  {
   "cell_type": "code",
   "execution_count": null,
   "id": "09798313-18a3-432b-97a1-3cf4ea4396c4",
   "metadata": {},
   "outputs": [],
   "source": [
    "topK(l, 20)"
   ]
  },
  {
   "cell_type": "code",
   "execution_count": null,
   "id": "ef83a028-f168-49c6-b544-69c0c8d672be",
   "metadata": {},
   "outputs": [],
   "source": [
    "concept = fca.G_FG(l)\n",
    "concept"
   ]
  },
  {
   "cell_type": "code",
   "execution_count": null,
   "id": "4b314aa7-ebf9-4a53-873c-faaed1710f19",
   "metadata": {},
   "outputs": [],
   "source": [
    "S = dsort(V[concept.A], 21286)"
   ]
  },
  {
   "cell_type": "code",
   "execution_count": null,
   "id": "aa67a3e7-5587-40fe-aa81-5e0e9a310cf0",
   "metadata": {
    "scrolled": true
   },
   "outputs": [],
   "source": [
    "dataset[S[0].item()]"
   ]
  },
  {
   "cell_type": "markdown",
   "id": "b1167406-2a68-4172-a27f-ba1ec2f2a7df",
   "metadata": {},
   "source": [
    "## Species Detection?"
   ]
  },
  {
   "cell_type": "code",
   "execution_count": null,
   "id": "d148f786-0359-47a9-8f97-bfacb2c55660",
   "metadata": {},
   "outputs": [],
   "source": [
    "text = \"Golden Retriever\"\n",
    "z = net.encode(text)\n",
    "zs = z.to('cpu').detach().numpy()[0]"
   ]
  },
  {
   "cell_type": "code",
   "execution_count": null,
   "id": "9cb455f5-576d-47eb-9f51-98476badc7f8",
   "metadata": {},
   "outputs": [],
   "source": [
    "tokens = net.tokenize(text)\n",
    "tokens"
   ]
  },
  {
   "cell_type": "code",
   "execution_count": null,
   "id": "eed8d19c-fbe2-40d5-bc4a-0d8b16619afd",
   "metadata": {},
   "outputs": [],
   "source": [
    "tokens[0][2:]"
   ]
  },
  {
   "cell_type": "code",
   "execution_count": null,
   "id": "7af77cf5-98b9-42f6-8290-ab36f680e44c",
   "metadata": {},
   "outputs": [],
   "source": [
    "net.to_string(4990)"
   ]
  },
  {
   "cell_type": "code",
   "execution_count": null,
   "id": "57ddd32d-2974-4bf9-aef2-8411def3c069",
   "metadata": {},
   "outputs": [],
   "source": [
    "z[0].shape"
   ]
  },
  {
   "cell_type": "code",
   "execution_count": null,
   "id": "96246616-8998-4a30-9203-f0ce2036d798",
   "metadata": {},
   "outputs": [],
   "source": [
    "zs.shape"
   ]
  },
  {
   "cell_type": "code",
   "execution_count": null,
   "id": "c2441876-502d-44b3-b214-5e7cf7117c3c",
   "metadata": {},
   "outputs": [],
   "source": [
    "l = join_all(zs[2:])"
   ]
  },
  {
   "cell_type": "code",
   "execution_count": null,
   "id": "d8cc7caf-255e-4d58-bbd9-360fe7d7dc5d",
   "metadata": {},
   "outputs": [],
   "source": [
    "l = meet(zs[2], l)"
   ]
  },
  {
   "cell_type": "code",
   "execution_count": null,
   "id": "deea28d1-6cf1-4b34-8167-84eaab6bba87",
   "metadata": {},
   "outputs": [],
   "source": [
    "topK(l, 20)"
   ]
  },
  {
   "cell_type": "code",
   "execution_count": null,
   "id": "aa1e3eb9-ef43-4dd9-b09d-4d0cf0a80e83",
   "metadata": {},
   "outputs": [],
   "source": [
    "concept = fca.G_FG(l / 8)\n",
    "concept"
   ]
  },
  {
   "cell_type": "code",
   "execution_count": null,
   "id": "bb7c3a1c-6a6c-4030-9dcb-4aa37a1c0dd8",
   "metadata": {},
   "outputs": [],
   "source": [
    "S = dsort(V[concept.A], 6950)"
   ]
  },
  {
   "cell_type": "code",
   "execution_count": null,
   "id": "6f6e4847-aa1d-4092-a240-799f0c07fb6f",
   "metadata": {
    "scrolled": true
   },
   "outputs": [],
   "source": [
    "dataset[S[0].item()]"
   ]
  },
  {
   "cell_type": "code",
   "execution_count": null,
   "id": "e6af83ef-ac90-45df-8b18-282263549581",
   "metadata": {},
   "outputs": [],
   "source": [
    "v_test, concept_test, S = gen_concept(12610, 12)\n",
    "concept_test"
   ]
  },
  {
   "cell_type": "code",
   "execution_count": null,
   "id": "93f9b104-8cec-4d8b-988c-105e6f4c5648",
   "metadata": {},
   "outputs": [],
   "source": [
    "dataset[S[0].item()]"
   ]
  },
  {
   "cell_type": "markdown",
   "id": "efd4d8f9-dd9c-43af-9dc2-426cb27d019f",
   "metadata": {},
   "source": [
    "## Golden Feature from Neuronscope"
   ]
  },
  {
   "cell_type": "code",
   "execution_count": null,
   "id": "09b09491-4bfc-4bd2-88d7-276660dfa121",
   "metadata": {},
   "outputs": [],
   "source": [
    "v_golden, concept, S = gen_concept(19837, 90)\n",
    "v_golden.shape, concept"
   ]
  },
  {
   "cell_type": "code",
   "execution_count": null,
   "id": "f62f2cdf-e3fe-44d0-beb8-8fa79f011d2f",
   "metadata": {},
   "outputs": [],
   "source": [
    "concept.A, S"
   ]
  },
  {
   "cell_type": "code",
   "execution_count": null,
   "id": "f1294a7c-fd2a-4bed-8d8d-e2b56f7d8b7b",
   "metadata": {},
   "outputs": [],
   "source": [
    "for v_s in V[S]:\n",
    "    print(v_s[19837])"
   ]
  },
  {
   "cell_type": "code",
   "execution_count": null,
   "id": "1c14e346-93d2-4d17-a6ac-833a1f9f9d8d",
   "metadata": {},
   "outputs": [],
   "source": [
    "V[S][:, 19837]"
   ]
  },
  {
   "cell_type": "code",
   "execution_count": null,
   "id": "d3c1f41a-f83f-4997-ae57-1dfc22d75d90",
   "metadata": {
    "scrolled": true
   },
   "outputs": [],
   "source": [
    "dataset[S[0].item()]"
   ]
  },
  {
   "cell_type": "markdown",
   "id": "144ca82d-e4a5-4317-8376-7b7e7027b918",
   "metadata": {},
   "source": [
    "#### Find common features"
   ]
  },
  {
   "cell_type": "code",
   "execution_count": null,
   "id": "2ee9abaf-7046-4dbd-b790-2f106efd8eb9",
   "metadata": {},
   "outputs": [],
   "source": [
    "tk = topK(concept.v, 40)\n",
    "tk"
   ]
  },
  {
   "cell_type": "code",
   "execution_count": null,
   "id": "ac440664-2b60-47ff-9775-8979d14ce4eb",
   "metadata": {},
   "outputs": [],
   "source": [
    "idx = 5\n",
    "args = tk[1][idx], tk[0][idx]\n",
    "v_test, concept_test = gen_concept(*args)\n",
    "print(f'{args}, {v_test.shape}, {concept_test}')\n",
    "dataset[concept_test.A[0].item()]"
   ]
  },
  {
   "cell_type": "markdown",
   "id": "29f1ba4d-4cfe-45a9-b2a8-dd44c5e1d74b",
   "metadata": {},
   "source": [
    "## Cat Feature from Neuronscope"
   ]
  },
  {
   "cell_type": "code",
   "execution_count": null,
   "id": "d3755543-9d06-4e89-a1a6-9d01969df6d2",
   "metadata": {},
   "outputs": [],
   "source": [
    "v_cat, concept = gen_concept(16899, 80)\n",
    "v_cat.shape, concept"
   ]
  },
  {
   "cell_type": "code",
   "execution_count": null,
   "id": "b23d8f06-fcc9-4bb6-8bec-4705ccf07088",
   "metadata": {
    "scrolled": true
   },
   "outputs": [],
   "source": [
    "dataset[concept.A[0].item()]"
   ]
  },
  {
   "cell_type": "markdown",
   "id": "05f3a1af-678b-41d3-9037-2533434bd419",
   "metadata": {},
   "source": [
    "## Apple Feature from Neuronscope"
   ]
  },
  {
   "cell_type": "code",
   "execution_count": null,
   "id": "48ae2226-35f6-4ea4-a35a-c64a8e044f1e",
   "metadata": {},
   "outputs": [],
   "source": [
    "v_apple, concept = gen_concept(4269, 70)\n",
    "v_apple.shape, concept"
   ]
  },
  {
   "cell_type": "code",
   "execution_count": null,
   "id": "5690c014-6f86-4cbd-bea6-e0bf97c020eb",
   "metadata": {
    "scrolled": true
   },
   "outputs": [],
   "source": [
    "dataset[concept.A[0].item()]"
   ]
  },
  {
   "cell_type": "markdown",
   "id": "c9b57d90-e4bf-4215-b11e-bb676a534cbe",
   "metadata": {},
   "source": [
    "#### Find common features"
   ]
  },
  {
   "cell_type": "code",
   "execution_count": null,
   "id": "8c27a54b-38e3-4f4d-842e-4981d64f13a9",
   "metadata": {
    "scrolled": true
   },
   "outputs": [],
   "source": [
    "idx = 34\n",
    "tk = topK(concept.v, 40)\n",
    "args = tk[1][idx], tk[0][idx]\n",
    "v_test, concept_test = gen_concept(*args)\n",
    "print(f'{args}, {v_test.shape}, {concept_test}')\n",
    "dataset[concept_test.A[0].item()]"
   ]
  },
  {
   "cell_type": "markdown",
   "id": "ac1a5a29-9e18-40dc-835b-c3907e7af913",
   "metadata": {},
   "source": [
    "## Thunder and Lightning Feature from Neuronscope"
   ]
  },
  {
   "cell_type": "code",
   "execution_count": null,
   "id": "3fbe047a-2cce-4392-be36-a273f3065245",
   "metadata": {},
   "outputs": [],
   "source": [
    "gc.collect()"
   ]
  },
  {
   "cell_type": "code",
   "execution_count": null,
   "id": "c4bdc718-8122-4ae7-97ba-ba72bcf31f9a",
   "metadata": {},
   "outputs": [],
   "source": [
    "v_thunder, concept = gen_concept(23123, 20)\n",
    "v_thunder.shape, concept"
   ]
  },
  {
   "cell_type": "code",
   "execution_count": null,
   "id": "84248426-4e72-4d31-8dda-296940a2271a",
   "metadata": {
    "scrolled": true
   },
   "outputs": [],
   "source": [
    "dataset[concept.A[0].item()]"
   ]
  },
  {
   "cell_type": "code",
   "execution_count": null,
   "id": "84acef8f-a0c7-4643-b629-2cb09084927b",
   "metadata": {
    "scrolled": true
   },
   "outputs": [],
   "source": [
    "idx = 4\n",
    "tk = topK(concept.v, 40)\n",
    "args = tk[1][idx], tk[0][idx]\n",
    "v_test, concept_test = gen_concept(*args)\n",
    "print(f'{args}, {v_test.shape}, {concept_test}')\n",
    "dataset[concept_test.A[0].item()]"
   ]
  },
  {
   "cell_type": "code",
   "execution_count": null,
   "id": "c2df88c1-ea6e-4e14-9f7d-482615878aa0",
   "metadata": {},
   "outputs": [],
   "source": []
  },
  {
   "cell_type": "markdown",
   "id": "e05796f0-14fa-4bb1-a798-21c0e1396e45",
   "metadata": {},
   "source": [
    "## School and Lightning Feature from Neuronscope"
   ]
  },
  {
   "cell_type": "code",
   "execution_count": null,
   "id": "dbca8239-af3f-4f0f-b603-a6862ca6153a",
   "metadata": {},
   "outputs": [],
   "source": [
    "v_school, concept = gen_concept(20781, 84)\n",
    "v_school.shape, concept"
   ]
  },
  {
   "cell_type": "code",
   "execution_count": null,
   "id": "9ad58f80-5506-4515-b639-b49d7e438208",
   "metadata": {},
   "outputs": [],
   "source": [
    "dataset[concept.A[0].item()]"
   ]
  },
  {
   "cell_type": "markdown",
   "id": "8297c2cd-e139-4aff-8942-78acb5450a1b",
   "metadata": {},
   "source": [
    "## King and Lightning Feature from Neuronscope"
   ]
  },
  {
   "cell_type": "code",
   "execution_count": null,
   "id": "01cfe934-662b-46d3-a9f2-46287808f943",
   "metadata": {},
   "outputs": [],
   "source": [
    "v_king, concept = gen_concept(17624, 60)\n",
    "v_king.shape, concept"
   ]
  },
  {
   "cell_type": "code",
   "execution_count": null,
   "id": "e09effa2-d3c3-4296-83dd-915f7fc33306",
   "metadata": {
    "scrolled": true
   },
   "outputs": [],
   "source": [
    "dataset[concept.A[1].item()]"
   ]
  },
  {
   "cell_type": "code",
   "execution_count": null,
   "id": "073d6fc6-90d3-4c28-a32c-39ef1fbb328d",
   "metadata": {
    "scrolled": true
   },
   "outputs": [],
   "source": [
    "idx = 3\n",
    "tk = topK(concept.v, 40)\n",
    "args = tk[1][idx], tk[0][idx] + 20\n",
    "v_test, concept_test = gen_concept(*args)\n",
    "print(f'{args}, {v_test.shape}, {concept_test}')\n",
    "dataset[concept_test.A[0].item()]"
   ]
  },
  {
   "cell_type": "markdown",
   "id": "19035267-e023-40f2-85a1-2dd94764c2f7",
   "metadata": {},
   "source": [
    "## Orgs and Lightning Feature from Neuronscope"
   ]
  },
  {
   "cell_type": "code",
   "execution_count": null,
   "id": "c9d53ddb-32a0-482b-b320-c002fced5fc1",
   "metadata": {},
   "outputs": [],
   "source": [
    "v_orgs, concept = gen_concept(16660, 60)\n",
    "v_orgs.shape, concept"
   ]
  },
  {
   "cell_type": "code",
   "execution_count": null,
   "id": "3ddc0a7c-b9c2-4d67-8818-bf47496393ad",
   "metadata": {
    "scrolled": true
   },
   "outputs": [],
   "source": [
    "dataset[concept.A[0].item()]"
   ]
  },
  {
   "cell_type": "code",
   "execution_count": null,
   "id": "2962a2cd-2519-4324-b793-725162b09eb4",
   "metadata": {
    "scrolled": true
   },
   "outputs": [],
   "source": [
    "idx = 2\n",
    "tk = topK(concept.v, 40)\n",
    "args = tk[1][idx], tk[0][idx] + 8\n",
    "v_test, concept_test = gen_concept(*args)\n",
    "print(f'{args}, {v_test.shape}, {concept_test}')\n",
    "dataset[concept_test.A[0].item()]"
   ]
  },
  {
   "cell_type": "markdown",
   "id": "a2343316-a0bc-42ff-8aa6-df197233f0ca",
   "metadata": {},
   "source": [
    "## States and Lightning Feature from Neuronscope"
   ]
  },
  {
   "cell_type": "code",
   "execution_count": null,
   "id": "48ae6542-1e9f-46ac-9879-1b72d46b6a79",
   "metadata": {},
   "outputs": [],
   "source": [
    "v_state, concept = gen_concept(22, 10)\n",
    "v_state.shape, concept"
   ]
  },
  {
   "cell_type": "code",
   "execution_count": null,
   "id": "68739003-cee1-4a21-aed0-58475071f3b2",
   "metadata": {
    "scrolled": true
   },
   "outputs": [],
   "source": [
    "dataset[concept.A[0].item()]"
   ]
  },
  {
   "cell_type": "markdown",
   "id": "c8958930-f4c6-4b95-ba53-c54087bc9c50",
   "metadata": {},
   "source": [
    "## Joint concepts"
   ]
  },
  {
   "cell_type": "code",
   "execution_count": null,
   "id": "b0430488-5342-40bb-8e5c-21214130c096",
   "metadata": {
    "scrolled": true
   },
   "outputs": [],
   "source": [
    "idx = 1\n",
    "tk = topK(concept.v, 40)\n",
    "args = tk[1][idx], tk[0][idx] + 4\n",
    "v_test, concept_test = gen_concept(*args)\n",
    "print(f'{args}, {v_test.shape}, {concept_test}')\n",
    "dataset[concept_test.A[0].item()]"
   ]
  },
  {
   "cell_type": "code",
   "execution_count": null,
   "id": "0946690a-4ad4-423f-a92b-10e764fbf510",
   "metadata": {},
   "outputs": [],
   "source": [
    "# topK(v_orgs, 4), topK(v_school, 4)"
   ]
  },
  {
   "cell_type": "code",
   "execution_count": null,
   "id": "3c4d7324-3f00-4245-80f8-aba333895965",
   "metadata": {},
   "outputs": [],
   "source": [
    "v_orgs = np.zeros_like(to_numpy(v))\n",
    "v_school = np.zeros_like(to_numpy(v))\n",
    "v_having = np.zeros_like(to_numpy(v))"
   ]
  },
  {
   "cell_type": "code",
   "execution_count": null,
   "id": "a0e28963-92af-440f-ae4b-581fe6696cdf",
   "metadata": {},
   "outputs": [],
   "source": [
    "v_orgs[16660] = 20\n",
    "v_school[17624] = 20\n",
    "v_having[17935] = 6"
   ]
  },
  {
   "cell_type": "code",
   "execution_count": null,
   "id": "82566bb5-1b5f-42d3-8d28-f3f5690ea154",
   "metadata": {},
   "outputs": [],
   "source": [
    "orgs = fca.G_FG(v_orgs)\n",
    "schools = fca.G_FG(v_school)\n",
    "havings = fca.G_FG(v_having)\n",
    "orgs, schools, havings"
   ]
  },
  {
   "cell_type": "code",
   "execution_count": null,
   "id": "4f61ab65-88f1-491d-b741-893103d66f65",
   "metadata": {},
   "outputs": [],
   "source": [
    "org_school = orgs & schools\n",
    "org_school"
   ]
  },
  {
   "cell_type": "code",
   "execution_count": null,
   "id": "05f3c39c-67e5-439b-a4c0-10d638d40fb9",
   "metadata": {
    "scrolled": true
   },
   "outputs": [],
   "source": [
    "dataset[org_school.A[0].item()]['text']"
   ]
  },
  {
   "cell_type": "code",
   "execution_count": null,
   "id": "6f29cf9a-a1b9-412e-b8c8-cce6c434ddfc",
   "metadata": {},
   "outputs": [],
   "source": [
    "org_school_havings = orgs & schools & havings \n",
    "org_school_havings"
   ]
  },
  {
   "cell_type": "code",
   "execution_count": null,
   "id": "1fcdb7b9-3b2e-4694-b1d6-66543b8516b8",
   "metadata": {
    "scrolled": true
   },
   "outputs": [],
   "source": [
    "dataset[org_school_havings.A[0].item()]['text']"
   ]
  },
  {
   "cell_type": "markdown",
   "id": "29ca97e3-d27d-4ef9-86d7-08687bb68060",
   "metadata": {},
   "source": [
    "## Recipie Feature from Neuronscope"
   ]
  },
  {
   "cell_type": "code",
   "execution_count": null,
   "id": "6c125ea2-bb70-4d56-b124-180bb82583a3",
   "metadata": {},
   "outputs": [],
   "source": [
    "v_recipie, concept = gen_concept(7, 28)\n",
    "v_recipie.shape, concept"
   ]
  },
  {
   "cell_type": "code",
   "execution_count": null,
   "id": "699f6115-effc-4ec7-add0-b77ba50f9382",
   "metadata": {},
   "outputs": [],
   "source": [
    "dataset[concept.A[0].item()]"
   ]
  },
  {
   "cell_type": "code",
   "execution_count": null,
   "id": "d96f3d7e-8dbf-4444-849f-f6b3072b9058",
   "metadata": {
    "scrolled": true
   },
   "outputs": [],
   "source": [
    "idx = 1\n",
    "tk = topK(concept.v, 40)\n",
    "args = tk[1][idx], tk[0][idx]\n",
    "v_test, concept_test = gen_concept(*args)\n",
    "print(f'{args}, {v_test.shape}, {concept_test}')\n",
    "dataset[concept_test.A[0].item()]"
   ]
  },
  {
   "cell_type": "markdown",
   "id": "5cce9f26-7d92-44d4-8a10-06a733700451",
   "metadata": {},
   "source": [
    "## Election Feature from Neuronscope"
   ]
  },
  {
   "cell_type": "code",
   "execution_count": null,
   "id": "ca8534c5-1e2d-4a24-97ee-d0067804e670",
   "metadata": {},
   "outputs": [],
   "source": [
    "v_elect, concept = gen_concept(29, 28)\n",
    "v_elect.shape, concept"
   ]
  },
  {
   "cell_type": "code",
   "execution_count": null,
   "id": "5736f63a-70d1-44ac-9aed-25ef25f3a10a",
   "metadata": {},
   "outputs": [],
   "source": [
    "dataset[concept.A[0].item()]"
   ]
  },
  {
   "cell_type": "code",
   "execution_count": null,
   "id": "4bea1ad2-4efd-46f1-8b1f-556aeb425946",
   "metadata": {
    "scrolled": true
   },
   "outputs": [],
   "source": [
    "idx = 2\n",
    "tk = topK(concept.v, 40)\n",
    "args = tk[1][idx], tk[0][idx]\n",
    "v_test, concept_test = gen_concept(*args)\n",
    "print(f'{args}, {v_test.shape}, {concept_test}')\n",
    "dataset[concept_test.A[0].item()]"
   ]
  },
  {
   "cell_type": "markdown",
   "id": "7e40a91d-b994-4f30-8bd0-5217debd981e",
   "metadata": {},
   "source": [
    "## Mixture of Election and Party"
   ]
  },
  {
   "cell_type": "code",
   "execution_count": null,
   "id": "417a020d-edbb-44d6-9b0b-2d7ef3d15b85",
   "metadata": {},
   "outputs": [],
   "source": [
    "v_elect, concept_elects = gen_concept(29, 2)\n",
    "v_elect.shape, concept"
   ]
  },
  {
   "cell_type": "markdown",
   "id": "774d1500-19f2-40cb-887c-e4c5015dbfd9",
   "metadata": {},
   "source": [
    "## Food Features"
   ]
  },
  {
   "cell_type": "code",
   "execution_count": null,
   "id": "e6203345-ae44-4bfc-a9e0-54e25bef40c9",
   "metadata": {},
   "outputs": [],
   "source": [
    "texts = [\n",
    "    'food recipie',\n",
    "    'love',\n",
    "    'admire',\n",
    "    'sex',\n",
    "]"
   ]
  },
  {
   "cell_type": "code",
   "execution_count": null,
   "id": "1b02a465-76f8-4851-b506-0a4fd85f4ffc",
   "metadata": {},
   "outputs": [],
   "source": [
    "v = net.encode(texts[2])[0][1]\n",
    "concept = fca.G_FG(v / 4)\n",
    "concept"
   ]
  },
  {
   "cell_type": "code",
   "execution_count": null,
   "id": "2afcb4d5-e8ff-4b89-804e-f3fde939710e",
   "metadata": {
    "scrolled": true
   },
   "outputs": [],
   "source": [
    "dataset[concept.A[3].item()]"
   ]
  },
  {
   "cell_type": "code",
   "execution_count": null,
   "id": "302bd943-0a1b-4aa2-94a2-eeec077e8368",
   "metadata": {},
   "outputs": [],
   "source": [
    "topK(v, 10)"
   ]
  },
  {
   "cell_type": "code",
   "execution_count": null,
   "id": "0e5a1dfe-b3c5-460d-9273-efeae1e08e02",
   "metadata": {},
   "outputs": [],
   "source": [
    "v_love, recipie = gen_concept(14654, 20)\n",
    "v_love.shape, concept"
   ]
  },
  {
   "cell_type": "code",
   "execution_count": null,
   "id": "fc784c2e-f73c-42f9-84d0-3e2f49249363",
   "metadata": {},
   "outputs": [],
   "source": [
    "v_admire, recipie = gen_concept(14990, 20)\n",
    "v_admire.shape, concept"
   ]
  },
  {
   "cell_type": "code",
   "execution_count": null,
   "id": "909cb38c-129b-4d38-b4c3-ff379eccf255",
   "metadata": {
    "scrolled": true
   },
   "outputs": [],
   "source": [
    "dataset[concept.A[0].item()]"
   ]
  },
  {
   "cell_type": "markdown",
   "id": "9947b1e2-34d7-4e02-98d2-1ac53c8983ce",
   "metadata": {},
   "source": [
    "## Verbal Feature from Neuronscope"
   ]
  },
  {
   "cell_type": "code",
   "execution_count": null,
   "id": "f1d0430f-91c6-44cd-b3aa-e71f38d5b8d8",
   "metadata": {},
   "outputs": [],
   "source": [
    "v_verbal, concept = gen_concept(33, 40)\n",
    "v_verbal.shape, concept"
   ]
  },
  {
   "cell_type": "code",
   "execution_count": null,
   "id": "2bb2733b-0dd5-465a-aff0-9c2859e83ccc",
   "metadata": {
    "scrolled": true
   },
   "outputs": [],
   "source": [
    "dataset[concept.A[0].item()]"
   ]
  },
  {
   "cell_type": "markdown",
   "id": "e5c2852d-1b22-4e4a-8fec-a7aaf839573b",
   "metadata": {},
   "source": [
    "## Border Feature from Neuronscope"
   ]
  },
  {
   "cell_type": "code",
   "execution_count": null,
   "id": "2f02af49-249b-4c92-b8a8-3fbb41ef0f5d",
   "metadata": {},
   "outputs": [],
   "source": [
    "v_border, concept = gen_concept(35, 20)\n",
    "v_border.shape, concept"
   ]
  },
  {
   "cell_type": "code",
   "execution_count": null,
   "id": "3c430300-4ca9-4b3e-a3a0-8ece0fdb0bdf",
   "metadata": {
    "scrolled": true
   },
   "outputs": [],
   "source": [
    "dataset[concept.A[0].item()]"
   ]
  },
  {
   "cell_type": "markdown",
   "id": "f25a05d6-d59f-4d36-9dd6-47d2a0ac294c",
   "metadata": {},
   "source": [
    "## Cross Concept"
   ]
  },
  {
   "cell_type": "code",
   "execution_count": null,
   "id": "a5bcc4f8-9fe2-49ce-a0ac-7262748c6e6d",
   "metadata": {},
   "outputs": [],
   "source": [
    "v_verbal, concept_verbal = gen_concept(33, 16)\n",
    "v_border, concept_border = gen_concept(35, 16)"
   ]
  },
  {
   "cell_type": "code",
   "execution_count": null,
   "id": "f7d961f2-de02-4b0e-b4a0-353764c3bbd2",
   "metadata": {},
   "outputs": [],
   "source": [
    "cross = concept_verbal & concept_border\n",
    "cross"
   ]
  },
  {
   "cell_type": "code",
   "execution_count": null,
   "id": "5232d070-41dd-47bf-b836-6325896a50a4",
   "metadata": {
    "scrolled": true
   },
   "outputs": [],
   "source": [
    "dataset[cross.A[0].item()]"
   ]
  },
  {
   "cell_type": "markdown",
   "id": "de09617b-096e-4fe6-9489-7322f95e2535",
   "metadata": {},
   "source": [
    "## Cross Concept Probability"
   ]
  },
  {
   "cell_type": "code",
   "execution_count": null,
   "id": "3e314136-e402-4b82-b7cd-8d10283fb307",
   "metadata": {},
   "outputs": [],
   "source": [
    "v_posib, concept_posib = gen_concept(1061, 20)\n",
    "v_posit, concept_posit = gen_concept(809, 20)\n",
    "v_liklh, concept_liklh = gen_concept(418, 20)\n",
    "v_qualt, concept_qualt = gen_concept(129, 20)"
   ]
  },
  {
   "cell_type": "code",
   "execution_count": null,
   "id": "641a5e69-92ba-4dcd-8a1a-748f2c6a5753",
   "metadata": {},
   "outputs": [],
   "source": [
    "cross_pr_ps = concept_posib & concept_posit\n",
    "cross_pr_ps"
   ]
  },
  {
   "cell_type": "code",
   "execution_count": null,
   "id": "cfa216cc-5d23-4c8b-8d9f-b92110f63e29",
   "metadata": {
    "scrolled": true
   },
   "outputs": [],
   "source": [
    "dataset[cross_pr_ps.A[0].item()]"
   ]
  },
  {
   "cell_type": "code",
   "execution_count": null,
   "id": "9c85c60d-dddc-4ed8-a8f1-045d772c6e88",
   "metadata": {},
   "outputs": [],
   "source": [
    "cross_lk_ql = concept_liklh & concept_qualt\n",
    "cross_lk_ql"
   ]
  },
  {
   "cell_type": "code",
   "execution_count": null,
   "id": "dac30bb0-c501-48cc-ba70-93b726ef1f39",
   "metadata": {
    "scrolled": true
   },
   "outputs": [],
   "source": [
    "dataset[cross_lk_ql.A[0].item()]"
   ]
  },
  {
   "cell_type": "markdown",
   "id": "88031165-de08-4dc4-8e5f-205e0f1d845f",
   "metadata": {},
   "source": [
    "## Context Features"
   ]
  },
  {
   "cell_type": "code",
   "execution_count": null,
   "id": "c1ab1ccb-808b-4637-8e51-cefc859bfedd",
   "metadata": {},
   "outputs": [],
   "source": [
    "v_peval, concept_peval = gen_concept(3109, 20)\n",
    "v_evstt, concept_evstt = gen_concept(3784, 20)\n",
    "v_sosis, concept_sosis = gen_concept(3702, 20)\n",
    "v_agevs, concept_agevs = gen_concept(3388, 20)"
   ]
  },
  {
   "cell_type": "code",
   "execution_count": null,
   "id": "8afcd6ba-b4f9-490f-8f89-c815505c8981",
   "metadata": {},
   "outputs": [],
   "source": [
    "concept_pe_ev = concept_peval & concept_evstt\n",
    "concept_pe_ev"
   ]
  },
  {
   "cell_type": "code",
   "execution_count": null,
   "id": "c4fe0862-eeea-4a5e-b61a-371afe9ed706",
   "metadata": {
    "scrolled": true
   },
   "outputs": [],
   "source": [
    "dataset[concept_pe_ev.A[0].item()]"
   ]
  },
  {
   "cell_type": "code",
   "execution_count": null,
   "id": "f03e2d9a-cb6d-4bc2-b472-4018ae368bf4",
   "metadata": {},
   "outputs": [],
   "source": [
    "concept_so_ag = concept_sosis & concept_agevs\n",
    "concept_so_ag"
   ]
  },
  {
   "cell_type": "code",
   "execution_count": null,
   "id": "0a1e5d89-6836-4390-bdcd-0dd2adc56e96",
   "metadata": {
    "scrolled": true
   },
   "outputs": [],
   "source": [
    "dataset[concept_so_ag.A[0].item()]"
   ]
  },
  {
   "cell_type": "code",
   "execution_count": null,
   "id": "0c0bda7e-1e11-444f-9e8d-61b8fde1335a",
   "metadata": {},
   "outputs": [],
   "source": [
    "concept_all = concept_peval & concept_evstt & concept_sosis & concept_agevs\n",
    "concept_all"
   ]
  },
  {
   "cell_type": "code",
   "execution_count": null,
   "id": "2e23e23d-b529-4a6c-9ab0-7e952add7383",
   "metadata": {},
   "outputs": [],
   "source": [
    "dataset[concept_all.A[0].item()]"
   ]
  },
  {
   "cell_type": "markdown",
   "id": "eec9a2f7-45b0-4361-ad0e-3f83fca9e0ad",
   "metadata": {},
   "source": [
    "## Computer and Technilogies Concepts"
   ]
  },
  {
   "cell_type": "code",
   "execution_count": null,
   "id": "63792cd6-8a32-40cf-8992-82cf8144180b",
   "metadata": {},
   "outputs": [],
   "source": [
    "v_comps, concept_comps = gen_concept(20542, 14)\n",
    "v_comps.shape, concept_comps"
   ]
  },
  {
   "cell_type": "code",
   "execution_count": null,
   "id": "e58baa52-c6fb-4819-9a98-c2e02b8907ac",
   "metadata": {},
   "outputs": [],
   "source": [
    "dataset[concept_comps.A[0].item()]"
   ]
  },
  {
   "cell_type": "markdown",
   "id": "e53d3476-5a9b-480e-b6b7-10a76650272a",
   "metadata": {},
   "source": [
    "## Innovation Features"
   ]
  },
  {
   "cell_type": "code",
   "execution_count": null,
   "id": "42d6e150-5eff-47db-98ae-2a27af2f9a39",
   "metadata": {},
   "outputs": [],
   "source": [
    "v_innov, concept_innov = gen_concept(2503, 10)\n",
    "v_innov.shape, concept_innov"
   ]
  },
  {
   "cell_type": "code",
   "execution_count": null,
   "id": "d7f9c359-9e88-4ab8-a1f4-2cf43fccbe44",
   "metadata": {
    "scrolled": true
   },
   "outputs": [],
   "source": [
    "dataset[concept_innov.A[0].item()]"
   ]
  },
  {
   "cell_type": "code",
   "execution_count": null,
   "id": "e2b57285-13e4-41ff-b2a0-19de13eda14d",
   "metadata": {},
   "outputs": [],
   "source": [
    "concept_co_in = concept_comps & concept_innov\n",
    "concept_co_in"
   ]
  },
  {
   "cell_type": "code",
   "execution_count": null,
   "id": "f10b0abf-c3f0-4f6c-b94e-4b12a4cdcab8",
   "metadata": {
    "scrolled": true
   },
   "outputs": [],
   "source": [
    "dataset[concept_co_in.A[0].item()]"
   ]
  },
  {
   "cell_type": "markdown",
   "id": "65f2c174-272e-40be-8ec8-3bcf6cb5bba5",
   "metadata": {},
   "source": [
    "## Add Examples"
   ]
  },
  {
   "cell_type": "code",
   "execution_count": null,
   "id": "84580fc8-22de-40e8-b02f-e4db1a5b7d34",
   "metadata": {},
   "outputs": [],
   "source": [
    "text1 = \" The Golden Gate Bridge\"\n",
    "z = net.encode(text1)\n",
    "tokens = net.tokenize(text1)\n",
    "print(torch.topk(z, 12))\n",
    "print()\n",
    "print(z)"
   ]
  },
  {
   "cell_type": "code",
   "execution_count": null,
   "id": "2b8d3745-1dcf-4687-93a9-18cf7da5ff09",
   "metadata": {},
   "outputs": [],
   "source": [
    "r = net.encode('Golden')\n",
    "torch.topk(r[0][1], 50)"
   ]
  },
  {
   "cell_type": "code",
   "execution_count": null,
   "id": "512da159-38d9-4a7d-a99d-96a2659883c6",
   "metadata": {},
   "outputs": [],
   "source": [
    "torch.nonzero(r[0][1]).shape"
   ]
  },
  {
   "cell_type": "code",
   "execution_count": null,
   "id": "a39d8bed-dd2a-4106-a36c-b585395b8972",
   "metadata": {},
   "outputs": [],
   "source": [
    "texts = [\n",
    "    \"Golden Gate Bridge\",\n",
    "    \"New York City\",\n",
    "    \"Silicon Valley\",\n",
    "    \"The White House\",\n",
    "    \"Apple Inc.\"\n",
    "]"
   ]
  },
  {
   "cell_type": "code",
   "execution_count": null,
   "id": "81908bbb-a637-4154-a194-3be1d5972b0b",
   "metadata": {},
   "outputs": [],
   "source": [
    "texts = [\n",
    "    \"School of AI\",\n",
    "    \"School of Economics\",\n",
    "    \"School of Medicine\",\n",
    "    \"School of Arts\",\n",
    "    \"School of Technologies\"\n",
    "]"
   ]
  },
  {
   "cell_type": "code",
   "execution_count": null,
   "id": "1124c57b-bfb9-46dc-934b-21a9566d430f",
   "metadata": {},
   "outputs": [],
   "source": [
    "texts = \"Golden Retriever\"\n",
    "tokens = net.tokenize(texts)\n",
    "tokens, net.to_string(tokens)"
   ]
  },
  {
   "cell_type": "code",
   "execution_count": null,
   "id": "6333d12c-a8a7-427f-b65c-93cabfba9b75",
   "metadata": {},
   "outputs": [],
   "source": [
    "texts = \"Gold\"\n",
    "tokens = net.tokenize(texts)\n",
    "vs = net.encode(texts)\n",
    "tokens, net.to_string(tokens)"
   ]
  },
  {
   "cell_type": "code",
   "execution_count": null,
   "id": "ad7eade8-b63d-46db-85fe-563bbac995d6",
   "metadata": {},
   "outputs": [],
   "source": [
    "net.to_string(32378)"
   ]
  },
  {
   "cell_type": "code",
   "execution_count": null,
   "id": "f23d84a6-450d-4c29-ab51-6fa90d4a21a7",
   "metadata": {},
   "outputs": [],
   "source": []
  },
  {
   "cell_type": "code",
   "execution_count": null,
   "id": "50796eeb-22ae-47b7-8804-bdba312bd8ee",
   "metadata": {},
   "outputs": [],
   "source": [
    "vs = net.encode(texts)"
   ]
  },
  {
   "cell_type": "code",
   "execution_count": null,
   "id": "d6999a82-1946-4032-9916-967328912446",
   "metadata": {},
   "outputs": [],
   "source": [
    "vs.shape, vs[0].shape"
   ]
  },
  {
   "cell_type": "code",
   "execution_count": null,
   "id": "90a86e39-a72c-476e-af2e-aa01f4f2c0ac",
   "metadata": {},
   "outputs": [],
   "source": [
    "v_t = [v[1] for v in vs[:3]]\n",
    "v_t[0].shape"
   ]
  },
  {
   "cell_type": "code",
   "execution_count": null,
   "id": "d5783fb8-3d31-4218-89af-bb178f781f7c",
   "metadata": {},
   "outputs": [],
   "source": [
    "v_A = v_t[0]\n",
    "for v in v_t:\n",
    "    v_A = torch.minimum(v_A, v)"
   ]
  },
  {
   "cell_type": "code",
   "execution_count": null,
   "id": "4a110a11-684f-4cdd-85e8-e651a518c157",
   "metadata": {},
   "outputs": [],
   "source": [
    "vs[0][0].shape, 19837"
   ]
  },
  {
   "cell_type": "code",
   "execution_count": null,
   "id": "f2e06fe5-3c67-4f72-90e5-e5467900383c",
   "metadata": {},
   "outputs": [],
   "source": [
    "torch.topk(vs[0][1], 20)"
   ]
  },
  {
   "cell_type": "code",
   "execution_count": null,
   "id": "7ab8846d-6b78-4e73-b306-24b219da8467",
   "metadata": {},
   "outputs": [],
   "source": [
    "torch.topk(vs[0][1], 20)"
   ]
  },
  {
   "cell_type": "code",
   "execution_count": null,
   "id": "a3fb940e-a526-43b7-8318-2b14104fab71",
   "metadata": {},
   "outputs": [],
   "source": [
    "torch.topk(vs[0][1], 20)"
   ]
  },
  {
   "cell_type": "code",
   "execution_count": null,
   "id": "29c718f0-c0c8-4f3f-bef4-4b038d62a153",
   "metadata": {},
   "outputs": [],
   "source": [
    "torch.topk(v_A, 30)"
   ]
  },
  {
   "cell_type": "markdown",
   "id": "c07b0846-8474-4418-b5c5-b71239787d2c",
   "metadata": {},
   "source": [
    "## Golden Second Index"
   ]
  },
  {
   "cell_type": "code",
   "execution_count": null,
   "id": "b4a2df38-f0d9-44a9-91f5-12f269b6df5d",
   "metadata": {},
   "outputs": [],
   "source": [
    "v_1, concept_1 = gen_concept(21286, 16)\n",
    "v_1.shape, concept_1"
   ]
  },
  {
   "cell_type": "code",
   "execution_count": null,
   "id": "b8239d92-beaa-4e61-b0aa-bfd4fbecaa2f",
   "metadata": {
    "scrolled": true
   },
   "outputs": [],
   "source": [
    "dataset[concept_1.A[0].item()]"
   ]
  },
  {
   "cell_type": "markdown",
   "id": "ae4cea29-6c09-4e59-8732-cd2afd380006",
   "metadata": {},
   "source": [
    "## Gold Second Index"
   ]
  },
  {
   "cell_type": "code",
   "execution_count": null,
   "id": "b14d33a2-2108-4f89-a253-c1693871d317",
   "metadata": {},
   "outputs": [],
   "source": [
    "v_2, concept_2 = gen_concept(9572, 30)\n",
    "v_2.shape, concept_2"
   ]
  },
  {
   "cell_type": "code",
   "execution_count": null,
   "id": "ef1fd589-3da4-4f2f-90fe-0e5dffbeb32b",
   "metadata": {
    "scrolled": true
   },
   "outputs": [],
   "source": [
    "dataset[concept_2.A[0].item()]"
   ]
  },
  {
   "cell_type": "code",
   "execution_count": null,
   "id": "c8abbda7-a6e6-4cbb-9715-3dc0f9c00af3",
   "metadata": {},
   "outputs": [],
   "source": [
    "concept_m = concept_1 & concept_2\n",
    "concept_m"
   ]
  },
  {
   "cell_type": "code",
   "execution_count": null,
   "id": "8cb50cd1-d82d-4832-8beb-c75571b6ffb7",
   "metadata": {
    "scrolled": true
   },
   "outputs": [],
   "source": [
    "dataset[concept_m.A[1].item()]"
   ]
  },
  {
   "cell_type": "code",
   "execution_count": null,
   "id": "8873207f-9262-41e4-ac1e-c6be07823086",
   "metadata": {},
   "outputs": [],
   "source": [
    "tk = topK(V[0], 30)\n",
    "tk"
   ]
  },
  {
   "cell_type": "code",
   "execution_count": null,
   "id": "767ea246-e225-4502-a912-010b7cd5abd9",
   "metadata": {},
   "outputs": [],
   "source": [
    "v_A = np.zeros_like(v_t[0].to('cpu').detach().numpy())\n",
    "v_A[17943] = 62\n",
    "v_A[11811] = 6\n",
    "v_A[15823] = 4\n",
    "v_A[4507] = 4\n",
    "v_A[20161] = 4\n",
    "concept = fca.G_FG(v_A)\n",
    "concept"
   ]
  },
  {
   "cell_type": "code",
   "execution_count": null,
   "id": "f74c45f7-cea7-47fb-aa36-027d67c72cfb",
   "metadata": {},
   "outputs": [],
   "source": [
    "concept.A.shape, V.shape, V.shape[0] - concept.A.shape[0]"
   ]
  },
  {
   "cell_type": "code",
   "execution_count": null,
   "id": "189ace73-e5b9-4147-93db-3f2d7bcde64d",
   "metadata": {},
   "outputs": [],
   "source": [
    "concept.A[0]"
   ]
  },
  {
   "cell_type": "code",
   "execution_count": null,
   "id": "e36fd2d0-5c3e-44f9-bf78-3e0cde2f48ef",
   "metadata": {},
   "outputs": [],
   "source": [
    "dataset[concept.A[2].item()]"
   ]
  },
  {
   "cell_type": "markdown",
   "id": "62707e2c-acc2-4577-ab75-b4fe14675ecb",
   "metadata": {},
   "source": [
    "## Analyze Tokens"
   ]
  },
  {
   "cell_type": "code",
   "execution_count": null,
   "id": "ac1c853d-ffae-4f41-b44b-a6edcfe556ff",
   "metadata": {},
   "outputs": [],
   "source": [
    "len(dataset)"
   ]
  },
  {
   "cell_type": "code",
   "execution_count": null,
   "id": "431ad426-fbb0-4298-bdfa-3c77cc62ed83",
   "metadata": {},
   "outputs": [],
   "source": [
    "checks = []\n",
    "with tqdm(list(range(len(dataset)))) as pdata:\n",
    "    for idx in pdata:\n",
    "        tokens = net.tokenize(dataset[idx]['text'])[0]\n",
    "        vs = joblib.load(matrix_dir / f'{idx}.joblib')\n",
    "        checks.append(tokens.shape[0] == vs.shape[0])"
   ]
  },
  {
   "cell_type": "code",
   "execution_count": null,
   "id": "57ede1f3-d908-43c4-a29d-c515608ed4be",
   "metadata": {},
   "outputs": [],
   "source": [
    "np.all(checks)"
   ]
  },
  {
   "cell_type": "code",
   "execution_count": null,
   "id": "971a5784-e10b-448c-96a0-28d50f5d26ec",
   "metadata": {
    "scrolled": true
   },
   "outputs": [],
   "source": [
    "from IPython.display import clear_output\n",
    "v_paths = list(matrix_dir.glob('*.joblib'))\n",
    "T_dict = {}\n",
    "W_dict = {}\n",
    "with tqdm(concept.A) as v_ppaths:\n",
    "    for idx in v_ppaths:\n",
    "        vs = joblib.load(matrix_dir / f'{idx}.joblib').toarray()\n",
    "        G_x = find_G_x(vs, v_A)\n",
    "        if G_x.shape[0] > 0:\n",
    "            T_dict[idx.item()] = G_x\n",
    "        clear_output(wait=True)"
   ]
  },
  {
   "cell_type": "code",
   "execution_count": null,
   "id": "f69a730c-ce74-47b2-877e-caeab77272d2",
   "metadata": {},
   "outputs": [],
   "source": [
    "len(T_dict)"
   ]
  },
  {
   "cell_type": "code",
   "execution_count": null,
   "id": "0ebf56de-3a46-48bd-b52b-4c7682120040",
   "metadata": {},
   "outputs": [],
   "source": [
    "T_dict[5]"
   ]
  },
  {
   "cell_type": "code",
   "execution_count": null,
   "id": "6d260b11-0534-4575-ba20-477aae33b72d",
   "metadata": {},
   "outputs": [],
   "source": [
    "tokens = net.tokenize(dataset[5]['text'])"
   ]
  },
  {
   "cell_type": "code",
   "execution_count": null,
   "id": "1cb551c9-00c4-479f-931e-67e2b1dcc59c",
   "metadata": {},
   "outputs": [],
   "source": [
    "net.to_string(tokens[0][100])"
   ]
  },
  {
   "cell_type": "code",
   "execution_count": null,
   "id": "187d0928-2d52-400d-bedc-b8e1c539abe6",
   "metadata": {},
   "outputs": [],
   "source": [
    "T_dict[5]"
   ]
  },
  {
   "cell_type": "code",
   "execution_count": null,
   "id": "0a01f0e4-aef7-406d-9d7e-e9d8a23b3564",
   "metadata": {},
   "outputs": [],
   "source": [
    "net.to_string(tokens[0][0]), net.to_string(tokens[0][T_dict[5]])"
   ]
  },
  {
   "cell_type": "code",
   "execution_count": null,
   "id": "c0fa9436-fb8d-4cc6-a745-0d6872319715",
   "metadata": {},
   "outputs": [],
   "source": [
    "W_dict = {}\n",
    "for k, v in T_dict.items():\n",
    "    tokens = net.tokenize(dataset[k]['text'])[0]\n",
    "    W_dict[k] = net.to_string(tokens[v])"
   ]
  },
  {
   "cell_type": "code",
   "execution_count": null,
   "id": "6ec59adf-4761-4a9a-b47e-105107ff0f0d",
   "metadata": {
    "scrolled": true
   },
   "outputs": [],
   "source": [
    "W_dict"
   ]
  },
  {
   "cell_type": "code",
   "execution_count": null,
   "id": "760dfbbc-d795-4c7b-b09c-4aea4baa65f6",
   "metadata": {},
   "outputs": [],
   "source": []
  }
 ],
 "metadata": {
  "kernelspec": {
   "display_name": "Python 3 (ipykernel)",
   "language": "python",
   "name": "python3"
  },
  "language_info": {
   "codemirror_mode": {
    "name": "ipython",
    "version": 3
   },
   "file_extension": ".py",
   "mimetype": "text/x-python",
   "name": "python",
   "nbconvert_exporter": "python",
   "pygments_lexer": "ipython3",
   "version": "3.12.9"
  }
 },
 "nbformat": 4,
 "nbformat_minor": 5
}
