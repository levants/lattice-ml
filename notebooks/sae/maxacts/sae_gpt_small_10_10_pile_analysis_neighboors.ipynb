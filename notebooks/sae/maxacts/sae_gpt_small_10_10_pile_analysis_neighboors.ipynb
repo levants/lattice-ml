{
 "cells": [
  {
   "cell_type": "code",
   "execution_count": null,
   "id": "71ce37e9",
   "metadata": {},
   "outputs": [],
   "source": [
    "%load_ext autoreload\n",
    "%autoreload 2\n",
    "\n",
    "%matplotlib inline"
   ]
  },
  {
   "cell_type": "markdown",
   "id": "5b560092",
   "metadata": {},
   "source": [
    "## Install libraries"
   ]
  },
  {
   "cell_type": "markdown",
   "id": "89885fa7",
   "metadata": {},
   "source": [
    "```bash\n",
    "conda create -n edu4 python=3.11 jupyter matplotlib\n",
    "```"
   ]
  },
  {
   "cell_type": "markdown",
   "id": "cd23589d",
   "metadata": {},
   "source": [
    "```bash \n",
    "! pip install -U -r requirements.txt\n",
    "```"
   ]
  },
  {
   "cell_type": "markdown",
   "id": "9d16321f",
   "metadata": {},
   "source": [
    "```bash\n",
    "! pip install -U numpy\n",
    "! pip install -U scikit-learn\n",
    "```"
   ]
  },
  {
   "cell_type": "markdown",
   "id": "b4cab43a",
   "metadata": {},
   "source": [
    "## Update repository"
   ]
  },
  {
   "cell_type": "code",
   "execution_count": null,
   "id": "46bcb5dc",
   "metadata": {},
   "outputs": [],
   "source": [
    "# ! git pull"
   ]
  },
  {
   "cell_type": "markdown",
   "id": "bad216da",
   "metadata": {},
   "source": [
    "## Add import path"
   ]
  },
  {
   "cell_type": "code",
   "execution_count": null,
   "id": "baafb705",
   "metadata": {},
   "outputs": [],
   "source": [
    "import gc\n",
    "import os\n",
    "import sys"
   ]
  },
  {
   "cell_type": "code",
   "execution_count": null,
   "id": "acb2d69b-1208-4910-83fe-357fef2804f7",
   "metadata": {},
   "outputs": [],
   "source": [
    "def add_library_level(level=4):\n",
    "    suf_path = ['..']\n",
    "    path = '..'\n",
    "    for i in range(0, level):\n",
    "        join_path = suf_path * i\n",
    "        path = '/'.join(join_path)\n",
    "        module_path = os.path.abspath(os.path.join(path))\n",
    "        if module_path not in sys.path:\n",
    "            sys.path.append(module_path)\n",
    "            print(f'Appendeding {path}')"
   ]
  },
  {
   "cell_type": "code",
   "execution_count": null,
   "id": "17883ca3-d72f-417c-953a-13fb7f7be2c6",
   "metadata": {},
   "outputs": [],
   "source": [
    "add_library_level(level=4)"
   ]
  },
  {
   "cell_type": "markdown",
   "id": "07a1e9c8",
   "metadata": {},
   "source": [
    "## Organize imports"
   ]
  },
  {
   "cell_type": "code",
   "execution_count": null,
   "id": "7927f283-cc9b-4268-be85-2874379b118c",
   "metadata": {},
   "outputs": [],
   "source": [
    "from transformers import AutoModelForCausalLM, BitsAndBytesConfig, AutoTokenizer\n",
    "from huggingface_hub import hf_hub_download, notebook_login\n",
    "import numpy as np\n",
    "import torch\n",
    "from torch import nn"
   ]
  },
  {
   "cell_type": "code",
   "execution_count": null,
   "id": "722e0e45-414d-4190-844f-7b44801b2d11",
   "metadata": {},
   "outputs": [],
   "source": [
    "from sae_lens import SAE, HookedSAETransformer\n",
    "from transformer_lens.utils import tokenize_and_concatenate"
   ]
  },
  {
   "cell_type": "code",
   "execution_count": null,
   "id": "f3bae2ba-8269-4513-b108-642257dfc72a",
   "metadata": {},
   "outputs": [],
   "source": [
    "from transformer_lens import HookedTransformer"
   ]
  },
  {
   "cell_type": "code",
   "execution_count": null,
   "id": "5319114e-c41f-4894-a05d-c4b428289a00",
   "metadata": {},
   "outputs": [],
   "source": [
    "from datasets import load_dataset"
   ]
  },
  {
   "cell_type": "code",
   "execution_count": null,
   "id": "ae177357",
   "metadata": {},
   "outputs": [],
   "source": [
    "import multiprocessing\n",
    "from pathlib import Path"
   ]
  },
  {
   "cell_type": "code",
   "execution_count": null,
   "id": "2730a69b-c412-4bfe-a3a8-7ff234315280",
   "metadata": {},
   "outputs": [],
   "source": [
    "from tqdm import tqdm"
   ]
  },
  {
   "cell_type": "code",
   "execution_count": null,
   "id": "a523557a",
   "metadata": {},
   "outputs": [],
   "source": [
    "import seaborn as sns"
   ]
  },
  {
   "cell_type": "code",
   "execution_count": null,
   "id": "25750a3d",
   "metadata": {},
   "outputs": [],
   "source": [
    "import matplotlib.pyplot as plt\n",
    "import numpy as np\n",
    "import pandas as pd"
   ]
  },
  {
   "cell_type": "code",
   "execution_count": null,
   "id": "5aa458ae-d6a5-4496-bb58-ba54f1ee3635",
   "metadata": {},
   "outputs": [],
   "source": [
    "from scipy.sparse import csr_matrix"
   ]
  },
  {
   "cell_type": "code",
   "execution_count": null,
   "id": "902f802d-fa9c-4e26-9df1-ae621014e9de",
   "metadata": {},
   "outputs": [],
   "source": [
    "import plotly.express as px"
   ]
  },
  {
   "cell_type": "code",
   "execution_count": null,
   "id": "ee894933-eba4-4742-8fa2-51b2cff5cf6d",
   "metadata": {},
   "outputs": [],
   "source": [
    "from src.lattmc.fca.utils import *\n",
    "from src.lattmc.fca.data_utils import *\n",
    "from src.lattmc.fca.image_utils import *\n",
    "from src.lattmc.fca.models import *\n",
    "from src.lattmc.fca.fca_utils import *\n",
    "from src.lattmc.fca.image_gens import *"
   ]
  },
  {
   "cell_type": "code",
   "execution_count": null,
   "id": "5545b35f-c8f8-4f2f-b891-a29bf6f96a36",
   "metadata": {},
   "outputs": [],
   "source": [
    "from src.lattmc.sae.nlp_sae_utils import *"
   ]
  },
  {
   "cell_type": "code",
   "execution_count": null,
   "id": "ebc02393-d2ee-4638-97b3-b8994e4191d6",
   "metadata": {},
   "outputs": [],
   "source": [
    "import logging"
   ]
  },
  {
   "cell_type": "markdown",
   "id": "65f31e93",
   "metadata": {},
   "source": [
    "#### Number of CPU cores"
   ]
  },
  {
   "cell_type": "code",
   "execution_count": null,
   "id": "b41c30f2",
   "metadata": {},
   "outputs": [],
   "source": [
    "workers = multiprocessing.cpu_count()\n",
    "workers"
   ]
  },
  {
   "cell_type": "code",
   "execution_count": null,
   "id": "59f41838-322d-41e8-b8e1-6712089703c9",
   "metadata": {},
   "outputs": [],
   "source": [
    "SEED = 2024"
   ]
  },
  {
   "cell_type": "code",
   "execution_count": null,
   "id": "c5516efd-39d7-4d19-9112-4a1bd0efcd30",
   "metadata": {},
   "outputs": [],
   "source": [
    "logging.basicConfig(level=logging.INFO)"
   ]
  },
  {
   "cell_type": "code",
   "execution_count": null,
   "id": "9e1c0d14-575c-491c-88a3-85f70fae7875",
   "metadata": {},
   "outputs": [],
   "source": [
    "device = init_device()"
   ]
  },
  {
   "cell_type": "code",
   "execution_count": null,
   "id": "1e9fcf4c-09fe-4262-b975-56a627c02797",
   "metadata": {},
   "outputs": [],
   "source": [
    "torch.__version__"
   ]
  },
  {
   "cell_type": "code",
   "execution_count": null,
   "id": "f6916c3b-746f-4169-98eb-49d20824e8ef",
   "metadata": {},
   "outputs": [],
   "source": [
    "np.__version__"
   ]
  },
  {
   "cell_type": "markdown",
   "id": "1842a417-4d8a-4dc1-8586-8a9c3998228a",
   "metadata": {},
   "source": [
    "## Initialize Layer"
   ]
  },
  {
   "cell_type": "code",
   "execution_count": null,
   "id": "f79a6c4d-2e8b-4605-b21b-757446d5130d",
   "metadata": {},
   "outputs": [],
   "source": [
    "layer = 10\n",
    "dataset_suffix = 'pile'"
   ]
  },
  {
   "cell_type": "markdown",
   "id": "0ccf4792-19f1-4d01-b9c2-ddea2462cadc",
   "metadata": {},
   "source": [
    "## Initialize Path"
   ]
  },
  {
   "cell_type": "code",
   "execution_count": null,
   "id": "bcd545b8-0e15-41e9-92a9-4d0bf260c8b8",
   "metadata": {},
   "outputs": [],
   "source": [
    "def init_data(model_name, layer, dataset_suffix='pile'):\n",
    "    PATH = Path('../data')\n",
    "    dataset_suffix = 'pile'\n",
    "    vectors_name = f'{model_name.replace('-', '_')}_{layer}_{dataset_suffix}'\n",
    "    checkpoint_dir = PATH / 'saes'\n",
    "    vectors_dir = checkpoint_dir / f'{vectors_name}_vecs'\n",
    "    matrix_dir = checkpoint_dir / f'{vectors_name}_mats'\n",
    "    vectors_path = checkpoint_dir / f'{vectors_name}_vecs.joblib'\n",
    "    \n",
    "    mkdirs(\n",
    "        checkpoint_dir,\n",
    "        vectors_dir,\n",
    "        matrix_dir\n",
    "    )\n",
    "    logger.info(f'{matrix_dir = } {vectors_path = }')\n",
    "\n",
    "    return matrix_dir, vectors_path"
   ]
  },
  {
   "cell_type": "markdown",
   "id": "be07aad4-53a7-456b-b026-80295db7d84d",
   "metadata": {},
   "source": [
    "## Initialize simple dataset"
   ]
  },
  {
   "cell_type": "code",
   "execution_count": null,
   "id": "c3ddebc9-6b60-403d-aaa1-13c71e3215e6",
   "metadata": {},
   "outputs": [],
   "source": [
    "dataset = load_dataset(\n",
    "    path='NeelNanda/pile-10k',\n",
    "    split='train',\n",
    "    streaming=False,\n",
    ")"
   ]
  },
  {
   "cell_type": "markdown",
   "id": "807137b2-c1f9-42eb-a4aa-2ad0f60c93b2",
   "metadata": {},
   "source": [
    "## Initialize model"
   ]
  },
  {
   "cell_type": "code",
   "execution_count": null,
   "id": "111a722a-54ad-49a8-be8d-9f8721908d1e",
   "metadata": {},
   "outputs": [],
   "source": [
    "model_name = 'gpt2-small'\n",
    "release = 'gpt2-small-res-jb'\n",
    "sae_id = f'blocks.{layer}.hook_resid_pre'"
   ]
  },
  {
   "cell_type": "code",
   "execution_count": null,
   "id": "c26e713d-72bb-4b93-9ced-1dfd6dcf4203",
   "metadata": {},
   "outputs": [],
   "source": [
    "matrix_dir, vector_path = init_data(model_name, layer, dataset_suffix=dataset_suffix)"
   ]
  },
  {
   "cell_type": "code",
   "execution_count": null,
   "id": "cf3938d2-4b5a-4132-98c9-c694a5a3d859",
   "metadata": {
    "scrolled": true
   },
   "outputs": [],
   "source": [
    "net = Text2Sae(\n",
    "    model_name,\n",
    "    release,\n",
    "    sae_id,\n",
    "    device\n",
    ")"
   ]
  },
  {
   "cell_type": "markdown",
   "id": "bbb39674-f5fa-4f57-8991-62f9426c119b",
   "metadata": {},
   "source": [
    "## Generate V Lattice"
   ]
  },
  {
   "cell_type": "code",
   "execution_count": null,
   "id": "8dd176eb-71f5-49be-8437-f82b3e31ec33",
   "metadata": {},
   "outputs": [],
   "source": [
    "gc.collect()"
   ]
  },
  {
   "cell_type": "code",
   "execution_count": null,
   "id": "337e03f1-b196-488d-b753-dabbd44732f9",
   "metadata": {},
   "outputs": [],
   "source": [
    "matrix_dir"
   ]
  },
  {
   "cell_type": "code",
   "execution_count": null,
   "id": "231000a1-a1f8-4e46-9d0f-a044303ecbfa",
   "metadata": {},
   "outputs": [],
   "source": [
    "init_matrices(matrix_dir, dataset, net)"
   ]
  },
  {
   "cell_type": "code",
   "execution_count": null,
   "id": "8146f4c2-0afc-4d1d-a5fc-626cc70d5151",
   "metadata": {},
   "outputs": [],
   "source": [
    "gc.collect()"
   ]
  },
  {
   "cell_type": "code",
   "execution_count": null,
   "id": "6ec4b435-3dd2-45c1-96e9-1ffe691224d7",
   "metadata": {},
   "outputs": [],
   "source": [
    "V = init_vectors(vector_path, matrix_dir, segment=False)"
   ]
  },
  {
   "cell_type": "markdown",
   "id": "0005806a-6eeb-4311-87df-39eec9dbd658",
   "metadata": {},
   "source": [
    "## Generate Context and Analyze"
   ]
  },
  {
   "cell_type": "code",
   "execution_count": null,
   "id": "072c63b3-eb8a-40a3-b401-ae3608913bae",
   "metadata": {},
   "outputs": [],
   "source": [
    "gc.collect()"
   ]
  },
  {
   "cell_type": "code",
   "execution_count": null,
   "id": "2e56f105-3ffd-4732-a9de-5caa3b92f707",
   "metadata": {},
   "outputs": [],
   "source": [
    "fca = FCA(V)"
   ]
  },
  {
   "cell_type": "code",
   "execution_count": null,
   "id": "3b930df0-c929-4bd8-b069-cc7b085aa18a",
   "metadata": {},
   "outputs": [],
   "source": [
    "text1 = \"The Golden Gate Bridge\"\n",
    "text2 = \"The Brooklyn Bridge\"\n",
    "text3 = \"The card game Bridge\""
   ]
  },
  {
   "cell_type": "code",
   "execution_count": null,
   "id": "ad22cb66-32a5-4239-bee6-8453f9c7f570",
   "metadata": {},
   "outputs": [],
   "source": [
    "sent1 = 'New York City'\n",
    "sent2 = 'Golden Gate Bridge'\n",
    "sent3 = 'Grand Canyon Park'"
   ]
  },
  {
   "cell_type": "code",
   "execution_count": null,
   "id": "c94f3545-795c-4430-ace5-07f8a3126873",
   "metadata": {},
   "outputs": [],
   "source": [
    "word_mapper = WordMapper(net, dataset, matrix_dir)"
   ]
  },
  {
   "cell_type": "code",
   "execution_count": null,
   "id": "ce6c4361-7590-4735-a4a6-87e384a7251f",
   "metadata": {},
   "outputs": [],
   "source": [
    "cu = ConceptUtils(fca, word_mapper)"
   ]
  },
  {
   "cell_type": "markdown",
   "id": "1c2bf759-f2d3-47f1-86ee-b5ee92ad5020",
   "metadata": {},
   "source": [
    "## New York Ciry"
   ]
  },
  {
   "cell_type": "code",
   "execution_count": null,
   "id": "d535fa25-066c-413f-82ce-2289b822665a",
   "metadata": {},
   "outputs": [],
   "source": [
    "v_ns = net.embed(sent1)[0][1:]\n",
    "v_gs = net.embed(sent2)[0][1:]"
   ]
  },
  {
   "cell_type": "code",
   "execution_count": null,
   "id": "42135c41-7d84-4113-afa3-817c26ced99a",
   "metadata": {},
   "outputs": [],
   "source": [
    "t_ns = net.tokenize(sent1)[0][1:]\n",
    "t_gs = net.tokenize(sent2)[0][1:]"
   ]
  },
  {
   "cell_type": "code",
   "execution_count": null,
   "id": "4a990c3b-a10f-45f1-82fa-0806efb18edf",
   "metadata": {},
   "outputs": [],
   "source": [
    "t_ns.shape, t_gs.shape"
   ]
  },
  {
   "cell_type": "code",
   "execution_count": null,
   "id": "e5f06641-40c9-4b77-8c62-e803ef7bc93a",
   "metadata": {},
   "outputs": [],
   "source": [
    "t_ns, t_gs"
   ]
  },
  {
   "cell_type": "code",
   "execution_count": null,
   "id": "842c5a9b-187a-4ce6-93fe-2f6a249ad856",
   "metadata": {},
   "outputs": [],
   "source": [
    "topK(v_ns[0], 10)"
   ]
  },
  {
   "cell_type": "code",
   "execution_count": null,
   "id": "b5562ba7-f79e-4435-9c77-c2c7a3fc036e",
   "metadata": {},
   "outputs": [],
   "source": [
    "topK(v_gs[0], 10)"
   ]
  },
  {
   "cell_type": "code",
   "execution_count": null,
   "id": "df89e091-e3be-4fec-9768-5c0ae0d2fd14",
   "metadata": {},
   "outputs": [],
   "source": [
    "m_bg = meet(v_ns[2], v_gs[2])\n",
    "topK(m_bg, 20)"
   ]
  },
  {
   "cell_type": "code",
   "execution_count": null,
   "id": "2fc36a8a-1058-45b8-8fba-1714da5d9183",
   "metadata": {},
   "outputs": [],
   "source": [
    "print(f'Intersection of {net.to_string(t_ns[2])} and {net.to_string(t_gs[2])}')"
   ]
  },
  {
   "cell_type": "code",
   "execution_count": null,
   "id": "6cfc77f3-97fd-4e21-afcb-dba900ee2f28",
   "metadata": {
    "scrolled": true
   },
   "outputs": [],
   "source": [
    "m_cg, c_bg, w_bg = cu.gen_print(19016, 10)"
   ]
  },
  {
   "cell_type": "code",
   "execution_count": null,
   "id": "7ad53fb5-2179-49d8-8e44-36f8c9e7dd4d",
   "metadata": {
    "scrolled": true
   },
   "outputs": [],
   "source": [
    "w_bg"
   ]
  },
  {
   "cell_type": "markdown",
   "id": "90fd22c6-1b8a-4619-a685-fa0141748339",
   "metadata": {},
   "source": [
    "#### Neighboor Analysis"
   ]
  },
  {
   "cell_type": "code",
   "execution_count": null,
   "id": "a6d10bb6-2b51-4df5-bd62-298b5d49e60a",
   "metadata": {},
   "outputs": [],
   "source": [
    "topK(c_bg.v, 20)"
   ]
  },
  {
   "cell_type": "code",
   "execution_count": null,
   "id": "5428a6dd-ffc4-45b5-bf13-02e54fe5d246",
   "metadata": {
    "scrolled": true
   },
   "outputs": [],
   "source": [
    "n_cg, c_nbg, w_nbg = cu.gen_print(6863, 8, context=[8, 8])"
   ]
  },
  {
   "cell_type": "code",
   "execution_count": null,
   "id": "3756fa8d-5077-4794-ac17-cf0962dcfc6d",
   "metadata": {},
   "outputs": [],
   "source": [
    "w_nbg"
   ]
  },
  {
   "cell_type": "code",
   "execution_count": null,
   "id": "ac74d0a0-2910-4584-a79c-21e2658a91ff",
   "metadata": {},
   "outputs": [],
   "source": [
    "c_mbg = c_bg & c_nbg\n",
    "c_mbg"
   ]
  },
  {
   "cell_type": "code",
   "execution_count": null,
   "id": "7695803b-a593-464b-897f-5af73eef327d",
   "metadata": {},
   "outputs": [],
   "source": [
    "topK(c_mbg.v, 20)"
   ]
  },
  {
   "cell_type": "code",
   "execution_count": null,
   "id": "1d0769c4-5fdc-443a-9c8b-1a547eb15108",
   "metadata": {},
   "outputs": [],
   "source": [
    "m_vg, c_vmg, w_vgm = cu.gen_print(23992, 29, context=[8, 8])"
   ]
  },
  {
   "cell_type": "code",
   "execution_count": null,
   "id": "4d71853a-da82-40e6-86e9-c3b44e9b4822",
   "metadata": {},
   "outputs": [],
   "source": [
    "w_vgm"
   ]
  },
  {
   "cell_type": "markdown",
   "id": "819d01f5-e1a8-46e7-a310-ccc5d066395a",
   "metadata": {},
   "source": [
    "## Experiment with Tokenizer"
   ]
  },
  {
   "cell_type": "code",
   "execution_count": null,
   "id": "a597f3fd-a673-40c4-9ddb-7b0d7d7def80",
   "metadata": {},
   "outputs": [],
   "source": [
    "?? net.model.tokenizer.encode"
   ]
  },
  {
   "cell_type": "markdown",
   "id": "d50bf8ee-bb6e-49ab-9a16-76f3ee8869bc",
   "metadata": {},
   "source": [
    "#### Neighboor Analysis for Golden"
   ]
  },
  {
   "cell_type": "code",
   "execution_count": null,
   "id": "2a1bffdb-44ac-410d-ae35-caa6f481df19",
   "metadata": {},
   "outputs": [],
   "source": [
    "def gen_neughbors(idxs, vals, context=[8, 8]):\n",
    "    v_idx, c_idx = gen_concept(idxs, vals)\n",
    "    words = word_mapper(c_idx, v=v_idx, context=context)\n",
    "\n",
    "    return v_idx, c_idx, words   "
   ]
  },
  {
   "cell_type": "code",
   "execution_count": null,
   "id": "8a620dc5-a752-485f-95e9-ebd90606813c",
   "metadata": {},
   "outputs": [],
   "source": [
    "def gen_print(idxs, vals, context=[8, 8]):\n",
    "    v_idx, c_idx, words = gen_neughbors(idxs, vals, context=context)\n",
    "    print(f'{c_idx = }')\n",
    "    print('\\n'.join(f'{wd}' for wd in enumerate(words)))\n",
    "\n",
    "    return v_idx, c_idx, words"
   ]
  },
  {
   "cell_type": "code",
   "execution_count": null,
   "id": "92393689-07e4-4c80-9160-6f1084ab914e",
   "metadata": {},
   "outputs": [],
   "source": [
    "printTopK(v_gs[0], k=20)"
   ]
  },
  {
   "cell_type": "code",
   "execution_count": null,
   "id": "aa4da560-52b3-4fe7-be84-ccefd39c3d7d",
   "metadata": {
    "scrolled": true
   },
   "outputs": [],
   "source": [
    "n_gg, c_gg, w_gg = cu.gen_print(19837, 79, context=[8, 8])"
   ]
  },
  {
   "cell_type": "code",
   "execution_count": null,
   "id": "4abaa24c-0c83-4de4-84be-4fdddeb4995c",
   "metadata": {
    "scrolled": true
   },
   "outputs": [],
   "source": [
    "v_2gg, c_2gg, ws_gg = cu.gen_print([19837, 21286], [8, 2], context=[8, 8])"
   ]
  },
  {
   "cell_type": "code",
   "execution_count": null,
   "id": "651820a2-933d-4cfc-adfb-0da8d692507d",
   "metadata": {
    "scrolled": true
   },
   "outputs": [],
   "source": [
    "v_2gg, c_2gg, ws_gg = cu.gen_print([21286, 4507], [15, 12], context=[8, 8])"
   ]
  },
  {
   "cell_type": "code",
   "execution_count": null,
   "id": "97f995ce-7f28-4269-a35b-07ddfa89ec71",
   "metadata": {
    "scrolled": true
   },
   "outputs": [],
   "source": [
    "v_2gg, c_2gg, ws_gg = cu.gen_print([4507, 14717], [12, 5], context=[8, 8])"
   ]
  },
  {
   "cell_type": "code",
   "execution_count": null,
   "id": "ccafd358-033f-4950-955d-3b57bfa70152",
   "metadata": {},
   "outputs": [],
   "source": [
    "v_2gg, c_2gg, ws_gg = cu.gen_print([4507, 14717, 6183], [12, 5, 5], context=[8, 8])"
   ]
  },
  {
   "cell_type": "code",
   "execution_count": null,
   "id": "5507f31c-8dd3-4764-8c82-a20f79b10c94",
   "metadata": {
    "scrolled": true
   },
   "outputs": [],
   "source": [
    "v_2gg, c_2gg, ws_gg = cu.gen_print([14717, 6183], [5, 5], context=[8, 8])"
   ]
  },
  {
   "cell_type": "code",
   "execution_count": null,
   "id": "bb7d0ff4-8f48-40c8-9644-6cede009f2b2",
   "metadata": {
    "scrolled": true
   },
   "outputs": [],
   "source": [
    "v_2gg, c_2gg, ws_gg = cu.gen_print([6183, 332, 2407], [5, 3, 2], context=[8, 8])"
   ]
  },
  {
   "cell_type": "code",
   "execution_count": null,
   "id": "fe5e4976-3b21-477f-8b77-be43f8fe59a3",
   "metadata": {
    "scrolled": true
   },
   "outputs": [],
   "source": [
    "v_2gg, c_2gg, ws_gg = cu.gen_print([332, 2407, 10363], [3, 2, 2], context=[8, 8])"
   ]
  },
  {
   "cell_type": "code",
   "execution_count": null,
   "id": "6c92fe9f-7ee1-4be5-82c6-fa6447625abc",
   "metadata": {},
   "outputs": [],
   "source": [
    "printTopK(c_gg.v, 20)"
   ]
  },
  {
   "cell_type": "code",
   "execution_count": null,
   "id": "ce0d4b58-2c9f-47ae-b252-c9223957fa3d",
   "metadata": {
    "scrolled": true
   },
   "outputs": [],
   "source": [
    "n_gn, c_gn, w_gn = cu.gen_print(6284, 12, context=[8, 8])"
   ]
  },
  {
   "cell_type": "code",
   "execution_count": null,
   "id": "cdcf9d9a-ecb9-4ef1-9fb5-dbe002fa0d70",
   "metadata": {},
   "outputs": [],
   "source": [
    "c_mbg = c_bg & c_nbg\n",
    "c_mbg"
   ]
  },
  {
   "cell_type": "code",
   "execution_count": null,
   "id": "52ecd4ea-73f9-4c94-acdf-7651678d3b00",
   "metadata": {
    "scrolled": true
   },
   "outputs": [],
   "source": [
    "printTopK(c_mbg.v, 20)"
   ]
  },
  {
   "cell_type": "code",
   "execution_count": null,
   "id": "8a560282-d222-40a5-9cd4-d3b5464d0769",
   "metadata": {},
   "outputs": [],
   "source": [
    "m_vg, c_vmg, w_vgm = cu.gen_print(23992, 29, context=[8, 8])"
   ]
  },
  {
   "cell_type": "markdown",
   "id": "1e219dd4-9017-4af1-9641-ee831d76f0c6",
   "metadata": {},
   "source": [
    "## Apple Case"
   ]
  },
  {
   "cell_type": "code",
   "execution_count": null,
   "id": "44fce426-0f32-44b4-9ba2-0a8b1a036294",
   "metadata": {},
   "outputs": [],
   "source": [
    "# Example inputs: same word \"apple\" in two different contexts\n",
    "text1 = \"I ate an apple for breakfast.\"\n",
    "text2 = \"Apple Inc. unveiled its latest product.\""
   ]
  },
  {
   "cell_type": "code",
   "execution_count": null,
   "id": "5c582ab3-3170-4323-bc2d-db43dd2cca19",
   "metadata": {},
   "outputs": [],
   "source": [
    "v_a1 = net.embed(text1)[0][1:]\n",
    "v_a2 = net.embed(text2)[0][1:]"
   ]
  },
  {
   "cell_type": "code",
   "execution_count": null,
   "id": "26735be2-13e6-4342-a476-5cda2311077b",
   "metadata": {},
   "outputs": [],
   "source": [
    "t_a1 = net.tokenize(text1)[0][1:]\n",
    "t_a2 = net.tokenize(text2)[0][1:]"
   ]
  },
  {
   "cell_type": "code",
   "execution_count": null,
   "id": "3b254b69-e3c8-4499-aed0-13a231799127",
   "metadata": {},
   "outputs": [],
   "source": [
    "v_a1.shape, t_a1.shape, v_a2.shape, t_a2.shape, "
   ]
  },
  {
   "cell_type": "code",
   "execution_count": null,
   "id": "2511efce-dc75-40f2-a351-25b01c64182a",
   "metadata": {
    "scrolled": true
   },
   "outputs": [],
   "source": [
    "for i in range(t_a1.shape[0]): \n",
    "    print(f'{i} {net.to_string(t_a1[i])}, {net.to_string(t_a2[i])}\\n')"
   ]
  },
  {
   "cell_type": "code",
   "execution_count": null,
   "id": "a77b5f48-00bc-4f5f-b542-42dbb13ce65d",
   "metadata": {
    "scrolled": true
   },
   "outputs": [],
   "source": [
    "printTopK(v_a1[3], k=20)"
   ]
  },
  {
   "cell_type": "code",
   "execution_count": null,
   "id": "f8340c16-80e1-4b34-9db8-7cb6132d3e78",
   "metadata": {
    "scrolled": true
   },
   "outputs": [],
   "source": [
    "v_am = meet(v_a1[3], v_a2[0])\n",
    "printTopK(v_am)"
   ]
  },
  {
   "cell_type": "code",
   "execution_count": null,
   "id": "704f2bfa-00ea-4dcb-98f4-4e65cee8a9a6",
   "metadata": {
    "scrolled": true
   },
   "outputs": [],
   "source": [
    "v_2gg, c_2gg, ws_gg = cu.gen_print([4269, 4809, 23638], [30, 1, 1], context=[8, 8])"
   ]
  },
  {
   "cell_type": "code",
   "execution_count": null,
   "id": "44c12cca-53b1-4f80-a6b0-8c2e80a67eb8",
   "metadata": {
    "scrolled": true
   },
   "outputs": [],
   "source": [
    "printTopK(v_a1[1])"
   ]
  },
  {
   "cell_type": "code",
   "execution_count": null,
   "id": "41200c0b-a3a3-4314-ad41-e93bbad6d190",
   "metadata": {
    "scrolled": true
   },
   "outputs": [],
   "source": [
    "v_ate, c_ate, ws_ate = cu.gen_print([15767], [51], context=[8, 8])"
   ]
  },
  {
   "cell_type": "code",
   "execution_count": null,
   "id": "1f853e6f-ef5e-4c41-9d22-e1246329fb69",
   "metadata": {},
   "outputs": [],
   "source": [
    "v_ate, c_ate, ws_ate = cu.gen_print([9493, 22952], [18, 8], context=[8, 8])"
   ]
  },
  {
   "cell_type": "code",
   "execution_count": null,
   "id": "1f9a9cc4-4ead-42f7-b830-8076d1f9861c",
   "metadata": {
    "scrolled": true
   },
   "outputs": [],
   "source": [
    "printTopK(v_a2[1])"
   ]
  },
  {
   "cell_type": "code",
   "execution_count": null,
   "id": "3c65ca52-7802-4002-8af7-2e8438b70e17",
   "metadata": {
    "scrolled": true
   },
   "outputs": [],
   "source": [
    "v_ate, c_ate, ws_ate = cu.gen_print([23563], [65], context=[8, 8])"
   ]
  },
  {
   "cell_type": "code",
   "execution_count": null,
   "id": "1d758e55-15dd-4923-8425-906893af69d2",
   "metadata": {},
   "outputs": [],
   "source": [
    "v_ate, c_ate, ws_ate = cu.gen_print([9768, 18294], [16 , 11], context=[8, 8])"
   ]
  },
  {
   "cell_type": "code",
   "execution_count": null,
   "id": "82791725-6450-41c6-91e9-dacb579fd8ef",
   "metadata": {
    "scrolled": true
   },
   "outputs": [],
   "source": [
    "v_apple_inc = meet(v_a2[0], v_a2[1])\n",
    "printTopK(v_apple_inc)"
   ]
  },
  {
   "cell_type": "code",
   "execution_count": null,
   "id": "5a8c4073-ab6b-4437-b910-9afcbfd82634",
   "metadata": {
    "scrolled": true
   },
   "outputs": [],
   "source": [
    "v_aplle_inc, c_aplle_inc, ws_aplle_inc = cu.gen_print([17725, 7574], [9 , 6], context=[8, 8])"
   ]
  },
  {
   "cell_type": "code",
   "execution_count": null,
   "id": "fb27a74f-20ab-4892-bc9b-be0df5e42cba",
   "metadata": {
    "scrolled": true
   },
   "outputs": [],
   "source": [
    "v_apple_ate = meet(v_a1[1], v_a1[3])\n",
    "printTopK(v_apple_ate)"
   ]
  },
  {
   "cell_type": "code",
   "execution_count": null,
   "id": "36c544a1-a9bf-4c11-bd61-94368ec99261",
   "metadata": {},
   "outputs": [],
   "source": [
    "val_apple_inc, idx_apple_ink = topK(v_apple_inc, 20)\n",
    "val_apple_ate, idx_apple_ate = topK(v_apple_ate, 20)"
   ]
  },
  {
   "cell_type": "code",
   "execution_count": null,
   "id": "5adfc491-35c0-4a28-ad20-50cdf33fe594",
   "metadata": {},
   "outputs": [],
   "source": [
    "val_apple_inc == val_apple_ate"
   ]
  },
  {
   "cell_type": "code",
   "execution_count": null,
   "id": "b0c53f7f-bdd8-448e-a538-fcc1f1646511",
   "metadata": {},
   "outputs": [],
   "source": [
    "val_apple_inc, val_apple_ate"
   ]
  },
  {
   "cell_type": "code",
   "execution_count": null,
   "id": "0fa1349e-f02a-4916-809a-ea89d4d7e0ad",
   "metadata": {},
   "outputs": [],
   "source": [
    "idx_apple_ink == idx_apple_ate"
   ]
  },
  {
   "cell_type": "code",
   "execution_count": null,
   "id": "61b69eae-beca-494a-959a-7430a99f2400",
   "metadata": {},
   "outputs": [],
   "source": [
    "idx_apple_ink, idx_apple_ate"
   ]
  },
  {
   "cell_type": "code",
   "execution_count": null,
   "id": "480512c0-a0d7-4583-921a-1b43687c7c94",
   "metadata": {
    "scrolled": true
   },
   "outputs": [],
   "source": [
    "v_aplle_ate, c_aplle_ate, ws_aplle_ate = cu.gen_print([11930, 19398], [6 , 2], context=[8, 8])"
   ]
  },
  {
   "cell_type": "code",
   "execution_count": null,
   "id": "2764f4a4-dd53-4b21-9579-308b45d2a0df",
   "metadata": {
    "scrolled": true
   },
   "outputs": [],
   "source": [
    "v_aplle_ate, c_aplle_ate, ws_aplle_ate = cu.gen_print([19398, 22952], [2 , 2], context=[8, 8])"
   ]
  },
  {
   "cell_type": "markdown",
   "id": "d842278c-4dff-47bc-8af2-dcac05199da7",
   "metadata": {},
   "source": [
    "## Sentence generation"
   ]
  },
  {
   "cell_type": "code",
   "execution_count": null,
   "id": "2ed41d1c-00fb-4912-8e3f-705453c9b556",
   "metadata": {},
   "outputs": [],
   "source": [
    "c_golden = fca.G_FG(v_gs[0] / 10)\n",
    "c_gate = fca.G_FG(v_gs[1] / 10)\n",
    "c_bridge = fca.G_FG(v_gs[2] / 10)"
   ]
  },
  {
   "cell_type": "code",
   "execution_count": null,
   "id": "3d54f410-21e8-4a70-b9c9-97edcdceffcd",
   "metadata": {},
   "outputs": [],
   "source": [
    "c_golden, c_gate, c_bridge"
   ]
  },
  {
   "cell_type": "code",
   "execution_count": null,
   "id": "a46931dd-c462-44fe-ae52-0e45ecf673a2",
   "metadata": {},
   "outputs": [],
   "source": [
    "c_golden_gate = c_golden & c_gate\n",
    "c_golden_gate"
   ]
  },
  {
   "cell_type": "code",
   "execution_count": null,
   "id": "10e8cda2-62f7-480c-883a-0bb763c36278",
   "metadata": {
    "scrolled": true
   },
   "outputs": [],
   "source": [
    "dataset[c_golden_gate.A[0].item()]['text']"
   ]
  },
  {
   "cell_type": "code",
   "execution_count": null,
   "id": "aa23ae74-7ce8-49e1-8d27-706c201f1fef",
   "metadata": {},
   "outputs": [],
   "source": [
    "ws = word_mapper(c_golden_gate, context=True)"
   ]
  },
  {
   "cell_type": "code",
   "execution_count": null,
   "id": "a5a11d59-4934-4da6-9fe6-9a79f9d2d9e9",
   "metadata": {},
   "outputs": [],
   "source": [
    "ws"
   ]
  },
  {
   "cell_type": "code",
   "execution_count": null,
   "id": "853b2796-3936-4dd9-98e7-82a8fcecd229",
   "metadata": {},
   "outputs": [],
   "source": [
    "v_nyc = net.embed(sent1)[0][1:]\n",
    "v_ggb = net.embed(sent2)[0][1:]\n",
    "v_gcp = net.embed(sent3)[0][1:]\n",
    "v_nyc.shape, sent1, v_ggb.shape, sent2, v_gcp.shape, sent3"
   ]
  },
  {
   "cell_type": "code",
   "execution_count": null,
   "id": "1faa09e2-e416-4090-a0c2-f5d65741df9d",
   "metadata": {},
   "outputs": [],
   "source": [
    "join_all(v_ggb).shape"
   ]
  },
  {
   "cell_type": "code",
   "execution_count": null,
   "id": "f769c793-b7e5-4839-b1ca-914e68ea35f3",
   "metadata": {},
   "outputs": [],
   "source": [
    "c_ggb = fca.G_FG(v_ggb[1] / 10)\n",
    "c_ggb"
   ]
  },
  {
   "cell_type": "code",
   "execution_count": null,
   "id": "1e08eb39-93ee-4257-b8b1-53a726eff47a",
   "metadata": {
    "scrolled": true
   },
   "outputs": [],
   "source": [
    "dataset[c_ggb.A[2].item()]['text']"
   ]
  },
  {
   "cell_type": "code",
   "execution_count": null,
   "id": "e4004a0b-4d45-4592-a3b1-4f5f4b670ce0",
   "metadata": {
    "scrolled": true
   },
   "outputs": [],
   "source": [
    "ws = word_mapper(c_ggb, v=v_ggb[0] / 100)"
   ]
  },
  {
   "cell_type": "code",
   "execution_count": null,
   "id": "dad02c73-281f-4312-a4f0-d81ef1c45ac8",
   "metadata": {},
   "outputs": [],
   "source": [
    "ws"
   ]
  },
  {
   "cell_type": "code",
   "execution_count": null,
   "id": "6c058e99-1832-4925-8177-d8373d7ae90e",
   "metadata": {},
   "outputs": [],
   "source": [
    "topK(v_gcp[0], 20)"
   ]
  },
  {
   "cell_type": "code",
   "execution_count": null,
   "id": "48c6ecf2-c5fd-47a6-b0d6-7486fe0c6fbd",
   "metadata": {},
   "outputs": [],
   "source": [
    "v_gcm = meet(v_gcp[0], v_gcp[1])\n",
    "topK(v_gcm, 10)"
   ]
  },
  {
   "cell_type": "code",
   "execution_count": null,
   "id": "31a2c477-f1cf-424b-a558-ffdfa235eb49",
   "metadata": {},
   "outputs": [],
   "source": [
    "v_ggm = meet(v_ggb[0], v_ggb[1])\n",
    "topK(v_ggm, 10)"
   ]
  },
  {
   "cell_type": "code",
   "execution_count": null,
   "id": "09800c08-eecf-4647-9b51-5c5fabee3c80",
   "metadata": {},
   "outputs": [],
   "source": [
    "c_ggm = fca.G_FG(v_ggm)"
   ]
  },
  {
   "cell_type": "code",
   "execution_count": null,
   "id": "22b77edd-2e35-4e6f-a6f5-95532adae988",
   "metadata": {},
   "outputs": [],
   "source": [
    "w_ggm = word_mapper(c_ggm)\n",
    "w_ggm"
   ]
  },
  {
   "cell_type": "code",
   "execution_count": null,
   "id": "cf05b2e0-48a3-445c-8dd8-ffc689e990ab",
   "metadata": {},
   "outputs": [],
   "source": [
    "items = dataset[c_ggm.A.tolist()]"
   ]
  },
  {
   "cell_type": "code",
   "execution_count": null,
   "id": "fa51707b-35ce-43ff-81f3-fe70c05a23b3",
   "metadata": {},
   "outputs": [],
   "source": [
    "items"
   ]
  },
  {
   "cell_type": "code",
   "execution_count": null,
   "id": "7878548e-5441-4541-9bde-cd8c8d28941e",
   "metadata": {},
   "outputs": [],
   "source": [
    "v_i, cn_i = gen_concept(7525, 6)\n",
    "cn_i"
   ]
  },
  {
   "cell_type": "code",
   "execution_count": null,
   "id": "cdeeb81a-e5e2-4c3b-9bc2-7620937d592a",
   "metadata": {
    "scrolled": true
   },
   "outputs": [],
   "source": [
    "ws = word_mapper(cn_i, v=v_i, context=True)"
   ]
  },
  {
   "cell_type": "code",
   "execution_count": null,
   "id": "4424b8ef-d6c6-47c2-a598-1dabb17be40d",
   "metadata": {},
   "outputs": [],
   "source": [
    "ws"
   ]
  },
  {
   "cell_type": "code",
   "execution_count": null,
   "id": "87d533f8-3b70-4a09-856b-715eeb3f6172",
   "metadata": {},
   "outputs": [],
   "source": []
  }
 ],
 "metadata": {
  "kernelspec": {
   "display_name": "Python 3 (ipykernel)",
   "language": "python",
   "name": "python3"
  },
  "language_info": {
   "codemirror_mode": {
    "name": "ipython",
    "version": 3
   },
   "file_extension": ".py",
   "mimetype": "text/x-python",
   "name": "python",
   "nbconvert_exporter": "python",
   "pygments_lexer": "ipython3",
   "version": "3.12.9"
  }
 },
 "nbformat": 4,
 "nbformat_minor": 5
}
