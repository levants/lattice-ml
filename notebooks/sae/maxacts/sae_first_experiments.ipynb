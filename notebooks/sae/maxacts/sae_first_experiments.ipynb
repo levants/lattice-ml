{
 "cells": [
  {
   "cell_type": "code",
   "execution_count": null,
   "id": "71ce37e9",
   "metadata": {},
   "outputs": [],
   "source": [
    "%load_ext autoreload\n",
    "%autoreload 2\n",
    "\n",
    "%matplotlib inline"
   ]
  },
  {
   "cell_type": "markdown",
   "id": "5b560092",
   "metadata": {},
   "source": [
    "## Install libraries"
   ]
  },
  {
   "cell_type": "markdown",
   "id": "89885fa7",
   "metadata": {},
   "source": [
    "```bash\n",
    "conda create -n edu4 python=3.11 jupyter matplotlib\n",
    "```"
   ]
  },
  {
   "cell_type": "markdown",
   "id": "cd23589d",
   "metadata": {},
   "source": [
    "```bash \n",
    "! pip install -U -r requirements.txt\n",
    "```"
   ]
  },
  {
   "cell_type": "markdown",
   "id": "9d16321f",
   "metadata": {},
   "source": [
    "```bash\n",
    "! pip install -U numpy\n",
    "! pip install -U scikit-learn\n",
    "```"
   ]
  },
  {
   "cell_type": "markdown",
   "id": "b4cab43a",
   "metadata": {},
   "source": [
    "## Update repository"
   ]
  },
  {
   "cell_type": "code",
   "execution_count": null,
   "id": "46bcb5dc",
   "metadata": {},
   "outputs": [],
   "source": [
    "! git pull"
   ]
  },
  {
   "cell_type": "markdown",
   "id": "bad216da",
   "metadata": {},
   "source": [
    "## Add import path"
   ]
  },
  {
   "cell_type": "code",
   "execution_count": null,
   "id": "baafb705",
   "metadata": {},
   "outputs": [],
   "source": [
    "import os\n",
    "import sys\n",
    "import gc"
   ]
  },
  {
   "cell_type": "code",
   "execution_count": null,
   "id": "b2930983",
   "metadata": {},
   "outputs": [],
   "source": [
    "module_path = os.path.abspath(os.path.join('..'))\n",
    "if module_path not in sys.path:\n",
    "    sys.path.append(module_path)"
   ]
  },
  {
   "cell_type": "code",
   "execution_count": null,
   "id": "83ccfcbd-f80f-4f27-b3a0-3f06deade10c",
   "metadata": {},
   "outputs": [],
   "source": [
    "module_path = os.path.abspath(os.path.join('../..'))\n",
    "if module_path not in sys.path:\n",
    "    sys.path.append(module_path)"
   ]
  },
  {
   "cell_type": "code",
   "execution_count": null,
   "id": "7984d32f",
   "metadata": {},
   "outputs": [],
   "source": [
    "del module_path"
   ]
  },
  {
   "cell_type": "markdown",
   "id": "07a1e9c8",
   "metadata": {},
   "source": [
    "## Organize imports"
   ]
  },
  {
   "cell_type": "code",
   "execution_count": null,
   "id": "7927f283-cc9b-4268-be85-2874379b118c",
   "metadata": {},
   "outputs": [],
   "source": [
    "from transformers import AutoModelForCausalLM, BitsAndBytesConfig, AutoTokenizer\n",
    "from huggingface_hub import hf_hub_download, notebook_login\n",
    "import numpy as np\n",
    "import torch"
   ]
  },
  {
   "cell_type": "code",
   "execution_count": null,
   "id": "722e0e45-414d-4190-844f-7b44801b2d11",
   "metadata": {},
   "outputs": [],
   "source": [
    "from sae_lens import SAE\n",
    "from transformer_lens.utils import tokenize_and_concatenate"
   ]
  },
  {
   "cell_type": "code",
   "execution_count": null,
   "id": "f3bae2ba-8269-4513-b108-642257dfc72a",
   "metadata": {},
   "outputs": [],
   "source": [
    "from transformer_lens import HookedTransformer"
   ]
  },
  {
   "cell_type": "code",
   "execution_count": null,
   "id": "5319114e-c41f-4894-a05d-c4b428289a00",
   "metadata": {},
   "outputs": [],
   "source": [
    "from datasets import load_dataset"
   ]
  },
  {
   "cell_type": "code",
   "execution_count": null,
   "id": "ae177357",
   "metadata": {},
   "outputs": [],
   "source": [
    "import multiprocessing\n",
    "from pathlib import Path"
   ]
  },
  {
   "cell_type": "code",
   "execution_count": null,
   "id": "2730a69b-c412-4bfe-a3a8-7ff234315280",
   "metadata": {},
   "outputs": [],
   "source": [
    "from tqdm import tqdm"
   ]
  },
  {
   "cell_type": "code",
   "execution_count": null,
   "id": "a523557a",
   "metadata": {},
   "outputs": [],
   "source": [
    "import seaborn as sns"
   ]
  },
  {
   "cell_type": "code",
   "execution_count": null,
   "id": "25750a3d",
   "metadata": {},
   "outputs": [],
   "source": [
    "import matplotlib.pyplot as plt\n",
    "import numpy as np\n",
    "import pandas as pd"
   ]
  },
  {
   "cell_type": "code",
   "execution_count": null,
   "id": "902f802d-fa9c-4e26-9df1-ae621014e9de",
   "metadata": {},
   "outputs": [],
   "source": [
    "import plotly.express as px"
   ]
  },
  {
   "cell_type": "code",
   "execution_count": null,
   "id": "ee894933-eba4-4742-8fa2-51b2cff5cf6d",
   "metadata": {},
   "outputs": [],
   "source": [
    "from src.lattmc.fca.utils import *\n",
    "from src.lattmc.fca.data_utils import *\n",
    "from src.lattmc.fca.image_utils import *\n",
    "from src.lattmc.fca.models import *\n",
    "from src.lattmc.fca.fca_utils import *\n",
    "from src.lattmc.fca.image_gens import *"
   ]
  },
  {
   "cell_type": "markdown",
   "id": "65f31e93",
   "metadata": {},
   "source": [
    "#### Number of CPU cores"
   ]
  },
  {
   "cell_type": "code",
   "execution_count": null,
   "id": "b41c30f2",
   "metadata": {},
   "outputs": [],
   "source": [
    "workers = multiprocessing.cpu_count()\n",
    "workers"
   ]
  },
  {
   "cell_type": "code",
   "execution_count": null,
   "id": "59f41838-322d-41e8-b8e1-6712089703c9",
   "metadata": {},
   "outputs": [],
   "source": [
    "SEED = 2024"
   ]
  },
  {
   "cell_type": "code",
   "execution_count": null,
   "id": "9e1c0d14-575c-491c-88a3-85f70fae7875",
   "metadata": {},
   "outputs": [],
   "source": [
    "# For the most part I'll try to import functions and classes near where they are used\n",
    "# to make it clear where they come from.\n",
    "\n",
    "if torch.backends.mps.is_available():\n",
    "    device = \"mps\"\n",
    "else:\n",
    "    device = \"cuda\" if torch.cuda.is_available() else \"cpu\"\n",
    "\n",
    "print(f\"Device: {device}\")"
   ]
  },
  {
   "cell_type": "markdown",
   "id": "0ccf4792-19f1-4d01-b9c2-ddea2462cadc",
   "metadata": {},
   "source": [
    "## Initialize Path"
   ]
  },
  {
   "cell_type": "code",
   "execution_count": null,
   "id": "bcd545b8-0e15-41e9-92a9-4d0bf260c8b8",
   "metadata": {},
   "outputs": [],
   "source": [
    "PATH = Path('data')\n",
    "checkpoint_dir = PATH / 'saes'\n",
    "checkpoint_dir.mkdir(exist_ok=True, parents=True)\n",
    "checkpoint_path1 = checkpoint_dir / 'best-checkpoint-v1.ckpt'\n",
    "checkpoint_path2 = checkpoint_dir / 'best-checkpoint.ckpt'\n",
    "\n",
    "image_dir = PATH / 'images'\n",
    "image_path = image_dir / '1024.png'"
   ]
  },
  {
   "cell_type": "markdown",
   "id": "be07aad4-53a7-456b-b026-80295db7d84d",
   "metadata": {},
   "source": [
    "## Initialize simple dataset"
   ]
  },
  {
   "cell_type": "code",
   "execution_count": null,
   "id": "c3ddebc9-6b60-403d-aaa1-13c71e3215e6",
   "metadata": {},
   "outputs": [],
   "source": [
    "# Updated MNIST data loaders with normalization and validation set\n",
    "def prepare_data(batch_size=128):\n",
    "    # Normalize to [0, 1] for MNIST\n",
    "    transform = transforms.Compose([\n",
    "        transforms.ToTensor(),\n",
    "        transforms.Normalize((0.1307,), (0.3081,)),  # Mean and std from MNIST\n",
    "        transforms.Lambda(lambda x: x.view(-1))  # Flatten the image\n",
    "    ])\n",
    "\n",
    "    # Training set\n",
    "    train_dataset = datasets.MNIST(root='./data', train=True, transform=transform, download=True)\n",
    "    train_loader = DataLoader(train_dataset, batch_size=batch_size, shuffle=True)\n",
    "\n",
    "    # Validation set\n",
    "    val_dataset = datasets.MNIST(root='./data', train=False, transform=transform, download=True)\n",
    "    val_loader = DataLoader(val_dataset, batch_size=batch_size, shuffle=False)\n",
    "\n",
    "    return train_dataset, train_loader, val_dataset, val_loader\n"
   ]
  },
  {
   "cell_type": "markdown",
   "id": "807137b2-c1f9-42eb-a4aa-2ad0f60c93b2",
   "metadata": {},
   "source": [
    "## Initialize model"
   ]
  },
  {
   "cell_type": "code",
   "execution_count": null,
   "id": "86ecbb2e-8222-42dd-a40e-84ae4900b816",
   "metadata": {},
   "outputs": [],
   "source": [
    "release = 'gpt2-small-res-jb'\n",
    "sae_id = 'blocks.8.hook_resid_pre'\n",
    "sae, cfg_dict, sparsity = SAE.from_pretrained(\n",
    "    release=release,  # see other options in sae_lens/pretrained_saes.yaml\n",
    "    sae_id=sae_id,  # won't always be a hook point\n",
    "    device=device,\n",
    ")"
   ]
  },
  {
   "cell_type": "code",
   "execution_count": null,
   "id": "cf3938d2-4b5a-4132-98c9-c694a5a3d859",
   "metadata": {},
   "outputs": [],
   "source": [
    "release = \"gpt2-small-mlp-tm\"\n",
    "sae_id = \"blocks.8.hook_mlp_out\"\n",
    "sae, cfg_dict, sparsity = SAE.from_pretrained(\n",
    "    release=release,  # see other options in sae_lens/pretrained_saes.yaml\n",
    "    sae_id=sae_id,  # won't always be a hook point\n",
    "    device=device,\n",
    ")"
   ]
  },
  {
   "cell_type": "code",
   "execution_count": null,
   "id": "629d3b08-5ad2-4c54-ae04-6269dfdf172e",
   "metadata": {},
   "outputs": [],
   "source": [
    "model = HookedTransformer.from_pretrained('gpt2-small', device=device)"
   ]
  },
  {
   "cell_type": "code",
   "execution_count": null,
   "id": "34e5cbe0-5f12-4d9b-88e9-a37d7a888f15",
   "metadata": {},
   "outputs": [],
   "source": [
    "dataset = load_dataset(\n",
    "    path='NeelNanda/pile-10k',\n",
    "    split='train',\n",
    "    streaming=False,\n",
    ")\n",
    "\n",
    "token_dataset = tokenize_and_concatenate(\n",
    "    dataset=dataset,  # type: ignore\n",
    "    tokenizer=model.tokenizer,  # type: ignore\n",
    "    streaming=True,\n",
    "    max_length=sae.cfg.context_size,\n",
    "    add_bos_token=sae.cfg.prepend_bos,\n",
    ")"
   ]
  },
  {
   "cell_type": "code",
   "execution_count": null,
   "id": "101b0dbc-bb81-49d6-b5cd-5db31c8e3241",
   "metadata": {},
   "outputs": [],
   "source": [
    "?? tokenize_and_concatenate"
   ]
  },
  {
   "cell_type": "code",
   "execution_count": null,
   "id": "3f9ff5b2-63af-43d7-a9fd-6922f0a1b4de",
   "metadata": {
    "scrolled": true
   },
   "outputs": [],
   "source": [
    "dataset, token_dataset"
   ]
  },
  {
   "cell_type": "code",
   "execution_count": null,
   "id": "93e87f37-f74f-48a9-897b-3d815592d506",
   "metadata": {
    "scrolled": true
   },
   "outputs": [],
   "source": [
    "dataset[0], token_dataset[0]['tokens'].shape"
   ]
  },
  {
   "cell_type": "code",
   "execution_count": null,
   "id": "14ab9943-8612-4334-af1c-e003e2a6420f",
   "metadata": {},
   "outputs": [],
   "source": [
    "sae.eval()  # prevents error if we're expecting a dead neuron mask for who grads\n",
    "\n",
    "with torch.no_grad():\n",
    "    # activation store can give us tokens.\n",
    "    batch_tokens = token_dataset[:32][\"tokens\"]\n",
    "    _, cache = model.run_with_cache(batch_tokens, prepend_bos=True)\n",
    "\n",
    "    # Use the SAE\n",
    "    feature_acts = sae.encode(cache[sae.cfg.hook_name])\n",
    "    sae_out = sae.decode(feature_acts)\n",
    "\n",
    "    # save some room\n",
    "    del cache\n",
    "\n",
    "    # ignore the bos token, get the number of features that activated in each token, averaged accross batch and position\n",
    "    l0 = (feature_acts[:, 1:] > 0).float().sum(-1).detach()\n",
    "    print(\"average l0\", l0.mean().item())\n",
    "    px.histogram(l0.flatten().cpu().numpy()).show()"
   ]
  },
  {
   "cell_type": "code",
   "execution_count": null,
   "id": "4e252df1-2e9a-4353-9ecf-9b4ddb51c42e",
   "metadata": {},
   "outputs": [],
   "source": [
    "sae.eval()  # prevents error if we're expecting a dead neuron mask for who grads\n",
    "\n",
    "with torch.no_grad():\n",
    "    # activation store can give us tokens.\n",
    "    batch_tokens = token_dataset[:32][\"tokens\"]\n",
    "    _, cache = model.run_with_cache(batch_tokens, prepend_bos=True)\n",
    "\n",
    "    # Use the SAE\n",
    "    feature_acts = sae.encode(cache[sae.cfg.hook_name])\n",
    "    sae_out = sae.decode(feature_acts)"
   ]
  },
  {
   "cell_type": "code",
   "execution_count": null,
   "id": "0b8458bb-5e9f-4cfd-83a0-55f570bbf836",
   "metadata": {
    "scrolled": true
   },
   "outputs": [],
   "source": [
    "?? sae"
   ]
  },
  {
   "cell_type": "code",
   "execution_count": null,
   "id": "bd04ffc9-65fa-480f-9892-ecb7cc1f13b1",
   "metadata": {},
   "outputs": [],
   "source": [
    "sae_out.shape"
   ]
  },
  {
   "cell_type": "code",
   "execution_count": null,
   "id": "df1973d5-9b70-478b-92a5-51f6cbdb313c",
   "metadata": {},
   "outputs": [],
   "source": [
    "token_dataset[10], feature_acts[10]"
   ]
  },
  {
   "cell_type": "code",
   "execution_count": null,
   "id": "16b25dbd-14db-4d22-ba96-68a5c4a3bedc",
   "metadata": {},
   "outputs": [],
   "source": [
    "token_dataset.shape, feature_acts.shape"
   ]
  },
  {
   "cell_type": "code",
   "execution_count": null,
   "id": "77ed4611-ca44-4b14-8458-ccdedfbe909e",
   "metadata": {},
   "outputs": [],
   "source": [
    "token_dataset[:32]['tokens'].shape, feature_acts.shape, sae_out.shape"
   ]
  },
  {
   "cell_type": "code",
   "execution_count": null,
   "id": "890050a2-d375-41bc-9582-87ec44502866",
   "metadata": {},
   "outputs": [],
   "source": [
    "token_dataset[:32]['tokens'].shape, feature_acts[0][0].shape, sae_out.shape"
   ]
  },
  {
   "cell_type": "code",
   "execution_count": null,
   "id": "2421c97d-4dc7-4f4d-9cbf-59fa19225ea3",
   "metadata": {},
   "outputs": [],
   "source": [
    "torch.max(feature_acts)"
   ]
  },
  {
   "cell_type": "code",
   "execution_count": null,
   "id": "e9099a09-c60a-4ceb-8f57-4414138dfb06",
   "metadata": {
    "scrolled": true
   },
   "outputs": [],
   "source": [
    "torch.topk(torch.flatten(feature_acts), k=10)"
   ]
  },
  {
   "cell_type": "code",
   "execution_count": null,
   "id": "e67f36e1-0f6a-49f6-82fc-45a7c1f26d51",
   "metadata": {
    "scrolled": true
   },
   "outputs": [],
   "source": [
    "top_values, top_indices = torch.topk(feature_acts[0], k=2, dim=1, largest=True, sorted=True)\n",
    "\n",
    "print(\"Top values:\", top_values)\n",
    "print(\"Top indices:\", top_indices)"
   ]
  },
  {
   "cell_type": "code",
   "execution_count": null,
   "id": "e8d48089-46af-4745-a147-b064bd099ab4",
   "metadata": {},
   "outputs": [],
   "source": [
    "torch.topk(torch.flatten(feature_acts[0][4]), k=10)"
   ]
  },
  {
   "cell_type": "code",
   "execution_count": null,
   "id": "507c272d-5a7c-43e2-adcd-0a9d9a3ff3bf",
   "metadata": {},
   "outputs": [],
   "source": [
    "torch.topk(torch.flatten(feature_acts[0][28]), k=10)"
   ]
  },
  {
   "cell_type": "code",
   "execution_count": null,
   "id": "7b20523a-b83e-4197-bd25-d1e204c8aadf",
   "metadata": {},
   "outputs": [],
   "source": []
  }
 ],
 "metadata": {
  "kernelspec": {
   "display_name": "Python 3 (ipykernel)",
   "language": "python",
   "name": "python3"
  },
  "language_info": {
   "codemirror_mode": {
    "name": "ipython",
    "version": 3
   },
   "file_extension": ".py",
   "mimetype": "text/x-python",
   "name": "python",
   "nbconvert_exporter": "python",
   "pygments_lexer": "ipython3",
   "version": "3.12.9"
  }
 },
 "nbformat": 4,
 "nbformat_minor": 5
}
