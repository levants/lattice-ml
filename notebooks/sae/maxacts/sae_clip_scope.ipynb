{
 "cells": [
  {
   "cell_type": "code",
   "execution_count": null,
   "id": "71ce37e9",
   "metadata": {},
   "outputs": [],
   "source": [
    "%load_ext autoreload\n",
    "%autoreload 2\n",
    "\n",
    "%matplotlib inline"
   ]
  },
  {
   "cell_type": "markdown",
   "id": "5b560092",
   "metadata": {},
   "source": [
    "## Install libraries"
   ]
  },
  {
   "cell_type": "markdown",
   "id": "89885fa7",
   "metadata": {},
   "source": [
    "```bash\n",
    "conda create -n edu4 python=3.11 jupyter matplotlib\n",
    "```"
   ]
  },
  {
   "cell_type": "markdown",
   "id": "cd23589d",
   "metadata": {},
   "source": [
    "```bash \n",
    "! pip install -U -r requirements.txt\n",
    "```"
   ]
  },
  {
   "cell_type": "markdown",
   "id": "9d16321f",
   "metadata": {},
   "source": [
    "```bash\n",
    "! pip install -U numpy\n",
    "! pip install -U scikit-learn\n",
    "```"
   ]
  },
  {
   "cell_type": "markdown",
   "id": "b4cab43a",
   "metadata": {},
   "source": [
    "## Update repository"
   ]
  },
  {
   "cell_type": "code",
   "execution_count": null,
   "id": "46bcb5dc",
   "metadata": {},
   "outputs": [],
   "source": [
    "# ! git pull"
   ]
  },
  {
   "cell_type": "markdown",
   "id": "bad216da",
   "metadata": {},
   "source": [
    "## Add import path"
   ]
  },
  {
   "cell_type": "code",
   "execution_count": null,
   "id": "baafb705",
   "metadata": {},
   "outputs": [],
   "source": [
    "import os\n",
    "import sys\n",
    "import gc"
   ]
  },
  {
   "cell_type": "code",
   "execution_count": null,
   "id": "b2930983",
   "metadata": {},
   "outputs": [],
   "source": [
    "module_path = os.path.abspath(os.path.join('..'))\n",
    "if module_path not in sys.path:\n",
    "    sys.path.append(module_path)"
   ]
  },
  {
   "cell_type": "code",
   "execution_count": null,
   "id": "83ccfcbd-f80f-4f27-b3a0-3f06deade10c",
   "metadata": {},
   "outputs": [],
   "source": [
    "module_path = os.path.abspath(os.path.join('../..'))\n",
    "if module_path not in sys.path:\n",
    "    sys.path.append(module_path)"
   ]
  },
  {
   "cell_type": "code",
   "execution_count": null,
   "id": "7984d32f",
   "metadata": {},
   "outputs": [],
   "source": [
    "del module_path"
   ]
  },
  {
   "cell_type": "markdown",
   "id": "07a1e9c8",
   "metadata": {},
   "source": [
    "## Organize imports"
   ]
  },
  {
   "cell_type": "code",
   "execution_count": null,
   "id": "5319114e-c41f-4894-a05d-c4b428289a00",
   "metadata": {},
   "outputs": [],
   "source": [
    "from datasets import load_dataset"
   ]
  },
  {
   "cell_type": "code",
   "execution_count": null,
   "id": "ae177357",
   "metadata": {},
   "outputs": [],
   "source": [
    "import multiprocessing\n",
    "from pathlib import Path"
   ]
  },
  {
   "cell_type": "code",
   "execution_count": null,
   "id": "2730a69b-c412-4bfe-a3a8-7ff234315280",
   "metadata": {},
   "outputs": [],
   "source": [
    "from tqdm import tqdm"
   ]
  },
  {
   "cell_type": "code",
   "execution_count": null,
   "id": "a523557a",
   "metadata": {},
   "outputs": [],
   "source": [
    "import seaborn as sns"
   ]
  },
  {
   "cell_type": "code",
   "execution_count": null,
   "id": "25750a3d",
   "metadata": {},
   "outputs": [],
   "source": [
    "import matplotlib.pyplot as plt\n",
    "import numpy as np\n",
    "import pandas as pd"
   ]
  },
  {
   "cell_type": "code",
   "execution_count": null,
   "id": "902f802d-fa9c-4e26-9df1-ae621014e9de",
   "metadata": {},
   "outputs": [],
   "source": [
    "import plotly.express as px"
   ]
  },
  {
   "cell_type": "code",
   "execution_count": null,
   "id": "afbe0856-7d87-45bf-800b-c487e310fecd",
   "metadata": {},
   "outputs": [],
   "source": [
    "import PIL\n",
    "from clipscope import ConfiguredViT, TopKSAE"
   ]
  },
  {
   "cell_type": "code",
   "execution_count": null,
   "id": "ee894933-eba4-4742-8fa2-51b2cff5cf6d",
   "metadata": {},
   "outputs": [],
   "source": [
    "from src.lattmc.fca.utils import *\n",
    "from src.lattmc.fca.data_utils import *\n",
    "from src.lattmc.fca.image_utils import *\n",
    "from src.lattmc.fca.models import *\n",
    "from src.lattmc.fca.fca_utils import *\n",
    "from src.lattmc.fca.image_gens import *"
   ]
  },
  {
   "cell_type": "markdown",
   "id": "65f31e93",
   "metadata": {},
   "source": [
    "#### Number of CPU cores"
   ]
  },
  {
   "cell_type": "code",
   "execution_count": null,
   "id": "b41c30f2",
   "metadata": {},
   "outputs": [],
   "source": [
    "workers = multiprocessing.cpu_count()\n",
    "workers"
   ]
  },
  {
   "cell_type": "code",
   "execution_count": null,
   "id": "59f41838-322d-41e8-b8e1-6712089703c9",
   "metadata": {},
   "outputs": [],
   "source": [
    "SEED = 2024"
   ]
  },
  {
   "cell_type": "code",
   "execution_count": null,
   "id": "9e1c0d14-575c-491c-88a3-85f70fae7875",
   "metadata": {},
   "outputs": [],
   "source": [
    "# For the most part I'll try to import functions and classes near where they are used\n",
    "# to make it clear where they come from.\n",
    "\n",
    "if torch.backends.mps.is_available():\n",
    "    device = \"mps\"\n",
    "else:\n",
    "    device = \"cuda\" if torch.cuda.is_available() else \"cpu\"\n",
    "\n",
    "print(f\"Device: {device}\")"
   ]
  },
  {
   "cell_type": "markdown",
   "id": "0ccf4792-19f1-4d01-b9c2-ddea2462cadc",
   "metadata": {},
   "source": [
    "## Initialize Path"
   ]
  },
  {
   "cell_type": "code",
   "execution_count": null,
   "id": "bcd545b8-0e15-41e9-92a9-4d0bf260c8b8",
   "metadata": {},
   "outputs": [],
   "source": [
    "PATH = Path('data')\n",
    "checkpoint_dir = PATH / 'saes'\n",
    "checkpoint_dir.mkdir(exist_ok=True, parents=True)\n",
    "checkpoint_path1 = checkpoint_dir / 'best-checkpoint-v1.ckpt'\n",
    "checkpoint_path2 = checkpoint_dir / 'best-checkpoint.ckpt'\n",
    "\n",
    "image_dir = PATH / 'images'\n",
    "image_path = image_dir / '1024.png'"
   ]
  },
  {
   "cell_type": "markdown",
   "id": "be07aad4-53a7-456b-b026-80295db7d84d",
   "metadata": {},
   "source": [
    "## Initialize simple dataset"
   ]
  },
  {
   "cell_type": "code",
   "execution_count": null,
   "id": "c3ddebc9-6b60-403d-aaa1-13c71e3215e6",
   "metadata": {},
   "outputs": [],
   "source": []
  },
  {
   "cell_type": "markdown",
   "id": "807137b2-c1f9-42eb-a4aa-2ad0f60c93b2",
   "metadata": {},
   "source": [
    "## Initialize model"
   ]
  },
  {
   "cell_type": "code",
   "execution_count": null,
   "id": "f79a6c4d-2e8b-4605-b21b-757446d5130d",
   "metadata": {},
   "outputs": [],
   "source": [
    "layer = 6"
   ]
  },
  {
   "cell_type": "code",
   "execution_count": null,
   "id": "95fc3957-a8b6-446c-ad08-679e1e402bb6",
   "metadata": {},
   "outputs": [],
   "source": [
    "filename_in_hf_repo = \"22_resid/1200013184.pt\"\n",
    "sae = TopKSAE.from_pretrained(checkpoint=filename_in_hf_repo, device=device)\n",
    "\n",
    "locations = [(22, 'resid')]\n",
    "transformer = ConfiguredViT(locations, device=device)"
   ]
  },
  {
   "cell_type": "code",
   "execution_count": null,
   "id": "4a3ec10e-18cd-43b4-9df8-95629acb8f40",
   "metadata": {},
   "outputs": [],
   "source": [
    "# device='cpu'\n",
    "\n",
    "input = PIL.Image.new(\"RGB\", (224, 224), (0, 0, 0)) # black image for testing\n",
    "\n",
    "activations = transformer.all_activations(input)[locations[0]] # (1, 257, 1024)\n",
    "assert activations.shape == (1, 257, 1024)\n",
    "\n",
    "activations = activations[:, 0] # just the cls token\n",
    "# alternatively flatten the activations\n",
    "# activations = activations.flatten(1)\n",
    "\n",
    "print('activations shape', activations.shape)\n",
    "\n",
    "output = sae.forward_verbose(activations)\n",
    "\n",
    "print('output keys', output.keys())\n",
    "\n",
    "print('latent shape', output['latent'].shape) # (1, 65536)\n",
    "print('reconstruction shape', output['reconstruction'].shape)"
   ]
  },
  {
   "cell_type": "code",
   "execution_count": null,
   "id": "07fd6bcd-f9aa-464f-ab1b-9c66b09603da",
   "metadata": {},
   "outputs": [],
   "source": []
  },
  {
   "cell_type": "code",
   "execution_count": null,
   "id": "5b602dd5-5f26-42e0-8409-6732818ff0fc",
   "metadata": {},
   "outputs": [],
   "source": []
  }
 ],
 "metadata": {
  "kernelspec": {
   "display_name": "Python 3 (ipykernel)",
   "language": "python",
   "name": "python3"
  },
  "language_info": {
   "codemirror_mode": {
    "name": "ipython",
    "version": 3
   },
   "file_extension": ".py",
   "mimetype": "text/x-python",
   "name": "python",
   "nbconvert_exporter": "python",
   "pygments_lexer": "ipython3",
   "version": "3.12.9"
  }
 },
 "nbformat": 4,
 "nbformat_minor": 5
}
