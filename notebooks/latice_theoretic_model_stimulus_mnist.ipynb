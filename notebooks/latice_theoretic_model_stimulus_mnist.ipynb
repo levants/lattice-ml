{
 "cells": [
  {
   "cell_type": "code",
   "execution_count": null,
   "id": "71ce37e9",
   "metadata": {},
   "outputs": [],
   "source": [
    "%load_ext autoreload\n",
    "%autoreload 2\n",
    "\n",
    "%matplotlib inline"
   ]
  },
  {
   "cell_type": "markdown",
   "id": "5b560092",
   "metadata": {},
   "source": [
    "## Install libraries"
   ]
  },
  {
   "cell_type": "markdown",
   "id": "89885fa7",
   "metadata": {},
   "source": [
    "```bash\n",
    "conda create -n edu4 python=3.11 jupyter matplotlib\n",
    "```"
   ]
  },
  {
   "cell_type": "markdown",
   "id": "cd23589d",
   "metadata": {},
   "source": [
    "```bash \n",
    "! pip install -U -r requirements.txt\n",
    "```"
   ]
  },
  {
   "cell_type": "markdown",
   "id": "9d16321f",
   "metadata": {},
   "source": [
    "```bash\n",
    "! pip install -U numpy\n",
    "! pip install -U scikit-learn\n",
    "```"
   ]
  },
  {
   "cell_type": "markdown",
   "id": "b4cab43a",
   "metadata": {},
   "source": [
    "## Update repository"
   ]
  },
  {
   "cell_type": "code",
   "execution_count": null,
   "id": "46bcb5dc",
   "metadata": {},
   "outputs": [],
   "source": [
    "! git pull"
   ]
  },
  {
   "cell_type": "markdown",
   "id": "bad216da",
   "metadata": {},
   "source": [
    "## Add import path"
   ]
  },
  {
   "cell_type": "code",
   "execution_count": null,
   "id": "baafb705",
   "metadata": {},
   "outputs": [],
   "source": [
    "import os\n",
    "import sys\n",
    "import gc"
   ]
  },
  {
   "cell_type": "code",
   "execution_count": null,
   "id": "b2930983",
   "metadata": {},
   "outputs": [],
   "source": [
    "module_path = os.path.abspath(os.path.join('..'))\n",
    "if module_path not in sys.path:\n",
    "    sys.path.append(module_path)"
   ]
  },
  {
   "cell_type": "code",
   "execution_count": null,
   "id": "7984d32f",
   "metadata": {},
   "outputs": [],
   "source": [
    "del module_path"
   ]
  },
  {
   "cell_type": "markdown",
   "id": "07a1e9c8",
   "metadata": {},
   "source": [
    "## Organize imports"
   ]
  },
  {
   "cell_type": "code",
   "execution_count": null,
   "id": "ae177357",
   "metadata": {},
   "outputs": [],
   "source": [
    "import multiprocessing\n",
    "from pathlib import Path"
   ]
  },
  {
   "cell_type": "code",
   "execution_count": null,
   "id": "ee903b26-0c30-466e-87e9-46b68f585fdf",
   "metadata": {},
   "outputs": [],
   "source": [
    "from collections import OrderedDict"
   ]
  },
  {
   "cell_type": "code",
   "execution_count": null,
   "id": "a523557a",
   "metadata": {},
   "outputs": [],
   "source": [
    "import seaborn as sns"
   ]
  },
  {
   "cell_type": "code",
   "execution_count": null,
   "id": "25750a3d",
   "metadata": {},
   "outputs": [],
   "source": [
    "import matplotlib.pyplot as plt\n",
    "import numpy as np\n",
    "import pandas as pd"
   ]
  },
  {
   "cell_type": "code",
   "execution_count": null,
   "id": "96b53c98-9137-444e-b868-deecac303673",
   "metadata": {},
   "outputs": [],
   "source": [
    "from tqdm import tqdm"
   ]
  },
  {
   "cell_type": "code",
   "execution_count": null,
   "id": "125950ab",
   "metadata": {},
   "outputs": [],
   "source": [
    "import plotly.express as px"
   ]
  },
  {
   "cell_type": "code",
   "execution_count": null,
   "id": "262d0a5a-ccb6-4a7d-a4a2-76a276c2ce88",
   "metadata": {},
   "outputs": [],
   "source": [
    "from sklearn.linear_model import LinearRegression, LogisticRegression\n",
    "from sklearn.discriminant_analysis import (\n",
    "    LinearDiscriminantAnalysis, \n",
    "    QuadraticDiscriminantAnalysis\n",
    ")\n",
    "from sklearn.tree import DecisionTreeClassifier\n",
    "from sklearn.ensemble import RandomForestClassifier \n",
    "from sklearn.datasets import (\n",
    "    load_iris,\n",
    "    load_wine\n",
    ")\n",
    "from sklearn.model_selection import train_test_split\n",
    "from sklearn.preprocessing import (\n",
    "    MaxAbsScaler,\n",
    "    MinMaxScaler,\n",
    "    StandardScaler\n",
    ")\n",
    "from sklearn.metrics import (\n",
    "    classification_report,\n",
    "    confusion_matrix\n",
    ")"
   ]
  },
  {
   "cell_type": "code",
   "execution_count": null,
   "id": "e1c75655-adba-4f78-811e-9fd3c0286a9e",
   "metadata": {},
   "outputs": [],
   "source": [
    "from scipy import stats\n",
    "from scipy.interpolate import interp1d"
   ]
  },
  {
   "cell_type": "code",
   "execution_count": null,
   "id": "23828718-0adc-4a5f-8d63-813442ccbee8",
   "metadata": {},
   "outputs": [],
   "source": [
    "import torch"
   ]
  },
  {
   "cell_type": "code",
   "execution_count": null,
   "id": "aafca3fc-fe8b-45ff-a4f0-9e67d332d41a",
   "metadata": {},
   "outputs": [],
   "source": [
    "from torch import nn\n",
    "from torchvision import transforms\n",
    "from torchvision.datasets import MNIST"
   ]
  },
  {
   "cell_type": "markdown",
   "id": "65f31e93",
   "metadata": {},
   "source": [
    "#### Number of CPU cores"
   ]
  },
  {
   "cell_type": "code",
   "execution_count": null,
   "id": "b41c30f2",
   "metadata": {},
   "outputs": [],
   "source": [
    "workers = multiprocessing.cpu_count()\n",
    "workers"
   ]
  },
  {
   "cell_type": "code",
   "execution_count": null,
   "id": "59f41838-322d-41e8-b8e1-6712089703c9",
   "metadata": {},
   "outputs": [],
   "source": [
    "SEED = 2024"
   ]
  },
  {
   "cell_type": "markdown",
   "id": "0ccf4792-19f1-4d01-b9c2-ddea2462cadc",
   "metadata": {},
   "source": [
    "## Initialize Path"
   ]
  },
  {
   "cell_type": "code",
   "execution_count": null,
   "id": "bcd545b8-0e15-41e9-92a9-4d0bf260c8b8",
   "metadata": {},
   "outputs": [],
   "source": [
    "PATH = Path('data')\n",
    "model_dir = PATH / 'models'\n",
    "model_path = model_dir / 'model_chechpoint.ckpt'\n",
    "images_path = PATH / 'images'\n",
    "images_path.mkdir(exist_ok=True, parents=True)\n",
    "pumpkin_path = PATH / 'Pumpkin_Seeds_Dataset.xlsx'"
   ]
  },
  {
   "cell_type": "markdown",
   "id": "e66024d6-e9ad-4204-b2fa-9e5eee726d3c",
   "metadata": {},
   "source": [
    "## Model wrapper"
   ]
  },
  {
   "cell_type": "code",
   "execution_count": null,
   "id": "48eff4fa-58d4-4465-b25d-7483cd834fad",
   "metadata": {},
   "outputs": [],
   "source": [
    "class NetWrapper(object):\n",
    "\n",
    "    def __init__(self, net, transform):\n",
    "        self.net = net.eval()\n",
    "        self.transform = transform\n",
    "\n",
    "    @torch.inference_mode()\n",
    "    def forward(self, x, k=6):\n",
    "        t = self.transform(x)\n",
    "        r = self.net[: k](t)\n",
    "\n",
    "        return r        \n",
    "    \n",
    "    def __call__(self, *args, **kwargs):\n",
    "        return self.forward(*args, **kwargs)\n",
    "    "
   ]
  },
  {
   "cell_type": "markdown",
   "id": "67b7d099-7346-4521-a81b-9e3ca5dbfdb0",
   "metadata": {},
   "source": [
    "## Load the model"
   ]
  },
  {
   "cell_type": "code",
   "execution_count": null,
   "id": "f365d055-0da1-4809-828e-a314a1bc621c",
   "metadata": {},
   "outputs": [],
   "source": [
    "model = torch.load(model_path, map_location='cpu')"
   ]
  },
  {
   "cell_type": "code",
   "execution_count": null,
   "id": "229e76d9-6d98-4a4f-843c-964a62d6d377",
   "metadata": {
    "scrolled": true
   },
   "outputs": [],
   "source": [
    "model"
   ]
  },
  {
   "cell_type": "code",
   "execution_count": null,
   "id": "6db3e195-9312-4df3-bb13-81dee9fa3088",
   "metadata": {},
   "outputs": [],
   "source": [
    "def clear_state_dict(state_dict):\n",
    "    for key in list(state_dict.keys()):\n",
    "        state_dict[key.replace('model.1.', 'fc1.')] = state_dict.pop(key)\n",
    "    for key in list(state_dict.keys()):\n",
    "        state_dict[key.replace('model.4.', 'fc2.')] = state_dict.pop(key)\n",
    "    for key in list(state_dict.keys()):\n",
    "        state_dict[key.replace('model.7.', 'fc3.')] = state_dict.pop(key)\n",
    "\n",
    "    return state_dict"
   ]
  },
  {
   "cell_type": "code",
   "execution_count": null,
   "id": "f94db6e0-040a-4bf9-b911-a4d7e04854c4",
   "metadata": {},
   "outputs": [],
   "source": [
    "state_dict = clear_state_dict(model['state_dict'])"
   ]
  },
  {
   "cell_type": "code",
   "execution_count": null,
   "id": "3e5d4f13-6214-4f69-ab96-2000e703a1f4",
   "metadata": {},
   "outputs": [],
   "source": [
    "state_dict"
   ]
  },
  {
   "cell_type": "code",
   "execution_count": null,
   "id": "51ad2a9b-bc25-4162-8333-8ac36799347d",
   "metadata": {},
   "outputs": [],
   "source": [
    "channels = 1\n",
    "width = 28\n",
    "height = 28\n",
    "hidden_size = 16\n",
    "num_classes = 10\n",
    "in_features = channels * width * height"
   ]
  },
  {
   "cell_type": "code",
   "execution_count": null,
   "id": "5b0f65ba-7ccc-4fb6-a82b-e62e973f2b85",
   "metadata": {},
   "outputs": [],
   "source": [
    "net = nn.Sequential(OrderedDict([\n",
    "    ('flatten', nn.Flatten()),\n",
    "    ('fc1', nn.Linear(channels * width * height, hidden_size)),\n",
    "    ('act1', nn.ReLU()),\n",
    "    ('fc2', nn.Linear(hidden_size, hidden_size)),\n",
    "    ('act2', nn.ReLU()),\n",
    "    ('fc3', nn.Linear(hidden_size, num_classes)),\n",
    "]))"
   ]
  },
  {
   "cell_type": "code",
   "execution_count": null,
   "id": "b7aac9e7-fe3b-4180-8080-b757edbc995b",
   "metadata": {},
   "outputs": [],
   "source": [
    "net"
   ]
  },
  {
   "cell_type": "code",
   "execution_count": null,
   "id": "b53a9e71-4cee-4564-9deb-52feaf94fb57",
   "metadata": {},
   "outputs": [],
   "source": [
    "net.load_state_dict(state_dict)"
   ]
  },
  {
   "cell_type": "code",
   "execution_count": null,
   "id": "75c19bf4-50a2-4578-b6f3-563c43d93ae8",
   "metadata": {},
   "outputs": [],
   "source": [
    "net = net.eval()\n",
    "net"
   ]
  },
  {
   "cell_type": "markdown",
   "id": "d5604b43-9956-46fb-a0df-994fc9615c15",
   "metadata": {},
   "source": [
    "## Helper functions"
   ]
  },
  {
   "cell_type": "code",
   "execution_count": null,
   "id": "fe5aba73-dfc2-4595-aaa1-efed437ebaa3",
   "metadata": {},
   "outputs": [],
   "source": [
    "def layer_V(data, net, k=5):\n",
    "    V = list()\n",
    "    X = list()\n",
    "    with tqdm(data) as ds:\n",
    "        for i, (x, y) in enumerate(ds):\n",
    "            v = net(x, k=k).detach().numpy()[0]\n",
    "            V.append(v)\n",
    "            X.append(x)\n",
    "\n",
    "    return np.array(V), X"
   ]
  },
  {
   "cell_type": "code",
   "execution_count": null,
   "id": "cdc704f3-fc3d-4f73-bcd1-005db1d44c65",
   "metadata": {},
   "outputs": [],
   "source": [
    "def loop_maxes(V, func, *args, **kwargs):\n",
    "    with tqdm(V) as mstml:\n",
    "        for i, v in enumerate(mstml):\n",
    "            func(i, v, *args, **kwargs)"
   ]
  },
  {
   "cell_type": "code",
   "execution_count": null,
   "id": "5c53d0a3-f137-460a-8304-de6e5e09f7f5",
   "metadata": {},
   "outputs": [],
   "source": [
    "def find_v_x(V, mrng, idx):\n",
    "    mid = np.argmin(np.array(V)[mrng], axis=0)[idx]\n",
    "    x_id = mrng[mid]\n",
    "    v_x = V[x_id]\n",
    "\n",
    "    return v_x, x_id"
   ]
  },
  {
   "cell_type": "code",
   "execution_count": null,
   "id": "7c1fcda3-9bb4-4217-b35b-c80d2db573a8",
   "metadata": {},
   "outputs": [],
   "source": [
    "def find_v_A(V, mrng):\n",
    "    return np.minimum.reduce(np.array(V)[mrng])"
   ]
  },
  {
   "cell_type": "code",
   "execution_count": null,
   "id": "87b32056-adc5-4cc3-bf86-f61d04b85c81",
   "metadata": {},
   "outputs": [],
   "source": [
    "def find_G_x(V, v_x):\n",
    "    with tqdm(V) as mstm:\n",
    "        G_x = np.array([i for i, v in enumerate(mstm) if np.all(v_x <= v)])\n",
    "\n",
    "    return G_x"
   ]
  },
  {
   "cell_type": "markdown",
   "id": "cae6cb9b-e48c-44e6-b0ec-8907629451e1",
   "metadata": {},
   "source": [
    "## Initialize MNIST dataset"
   ]
  },
  {
   "cell_type": "code",
   "execution_count": null,
   "id": "b5a613d8-e5ac-4a78-9e79-983e19ffb93d",
   "metadata": {},
   "outputs": [],
   "source": [
    "transform = transforms.Compose(\n",
    "            [\n",
    "                transforms.ToTensor(),\n",
    "                transforms.Normalize((0.1307,), (0.3081,)),\n",
    "            ]\n",
    ")"
   ]
  },
  {
   "cell_type": "code",
   "execution_count": null,
   "id": "9d206541-1930-4ce3-a629-b9deed2b7c0f",
   "metadata": {},
   "outputs": [],
   "source": [
    "data = MNIST(images_path, train=False, download=True)"
   ]
  },
  {
   "cell_type": "code",
   "execution_count": null,
   "id": "0ed4ff52-8905-4cbd-83b3-79a12a7d21f8",
   "metadata": {},
   "outputs": [],
   "source": [
    "data[0]"
   ]
  },
  {
   "cell_type": "code",
   "execution_count": null,
   "id": "2f818dc0-a6bd-46af-9c22-05d66effff47",
   "metadata": {},
   "outputs": [],
   "source": [
    "net[:5], net"
   ]
  },
  {
   "cell_type": "code",
   "execution_count": null,
   "id": "ce3b855a-84a8-43eb-b164-0041f0926eac",
   "metadata": {},
   "outputs": [],
   "source": [
    "im = data[0][0]"
   ]
  },
  {
   "cell_type": "code",
   "execution_count": null,
   "id": "b3f22070-c357-453b-98c1-e18498c5f19b",
   "metadata": {},
   "outputs": [],
   "source": [
    "net[:3](transform(im))"
   ]
  },
  {
   "cell_type": "code",
   "execution_count": null,
   "id": "9cbc919a-4123-4e68-a31a-747d8658e1d0",
   "metadata": {},
   "outputs": [],
   "source": [
    "net[:2](transform(data[0][0]))"
   ]
  },
  {
   "cell_type": "code",
   "execution_count": null,
   "id": "47767ba9-626f-4603-967f-e8ad4c49ae02",
   "metadata": {},
   "outputs": [],
   "source": [
    "def pnet(x, k=6):\n",
    "    t = transform(x)\n",
    "    r = net[: k](t)\n",
    "\n",
    "    return r"
   ]
  },
  {
   "cell_type": "code",
   "execution_count": null,
   "id": "65821074-5270-4a98-8238-e5ae7f7c09b4",
   "metadata": {},
   "outputs": [],
   "source": [
    "pnet(data[0][0])"
   ]
  },
  {
   "cell_type": "code",
   "execution_count": null,
   "id": "c5f98c29-7ee9-47fd-91be-1c90fbf0da22",
   "metadata": {},
   "outputs": [],
   "source": [
    "wnet = NetWrapper(net, transform)"
   ]
  },
  {
   "cell_type": "code",
   "execution_count": null,
   "id": "a5dff227-9c7a-434c-a395-7e4d9e086789",
   "metadata": {},
   "outputs": [],
   "source": [
    "pnet(data[0][0], k=5) == wnet.forward(data[0][0], k=5)"
   ]
  },
  {
   "cell_type": "code",
   "execution_count": null,
   "id": "f74235b8-9f4a-4da2-b930-320fb7781fbe",
   "metadata": {},
   "outputs": [],
   "source": [
    "sf = nn.Softmax()"
   ]
  },
  {
   "cell_type": "code",
   "execution_count": null,
   "id": "657fb478-dce8-4700-ad95-bb4ef8d0bf62",
   "metadata": {
    "scrolled": true
   },
   "outputs": [],
   "source": [
    "sf(pnet(data[0][0]))"
   ]
  },
  {
   "cell_type": "code",
   "execution_count": null,
   "id": "7da39f11-54d0-4e2b-8ab6-fdc8d895a058",
   "metadata": {},
   "outputs": [],
   "source": [
    "max_stimul = list()\n",
    "max_images = list()\n",
    "with tqdm(data) as ds:\n",
    "    for i, (x, y) in enumerate(ds):\n",
    "        v = pnet(x, k=5).detach().numpy()[0]\n",
    "        max_stimul.append(v)\n",
    "        max_images.append(x)\n",
    "    "
   ]
  },
  {
   "cell_type": "code",
   "execution_count": null,
   "id": "03a2de94-0d72-4733-9d69-b72cd662844c",
   "metadata": {},
   "outputs": [],
   "source": [
    "max_stimul = np.array(max_stimul)"
   ]
  },
  {
   "cell_type": "code",
   "execution_count": null,
   "id": "187c4288-df84-4d79-9d35-05486156b23c",
   "metadata": {},
   "outputs": [],
   "source": [
    "max_stimul.shape"
   ]
  },
  {
   "cell_type": "code",
   "execution_count": null,
   "id": "9b5b0fd0-21f8-4a24-9844-892fd8d14cd0",
   "metadata": {},
   "outputs": [],
   "source": [
    "np.argmax(max_stimul, axis=0)"
   ]
  },
  {
   "cell_type": "code",
   "execution_count": null,
   "id": "b45f9773-5ce2-4f92-acac-08a6d1ffe318",
   "metadata": {},
   "outputs": [],
   "source": [
    "np.max(max_stimul, axis=0)"
   ]
  },
  {
   "cell_type": "code",
   "execution_count": null,
   "id": "761b8eff-3efd-4227-a7e5-a99f6644942f",
   "metadata": {},
   "outputs": [],
   "source": [
    "max_stimul[3290, :]"
   ]
  },
  {
   "cell_type": "code",
   "execution_count": null,
   "id": "e5b9ee28-52ea-4ab3-9a55-978206893e9e",
   "metadata": {},
   "outputs": [],
   "source": [
    "plt.imshow(max_images[8140])"
   ]
  },
  {
   "cell_type": "markdown",
   "id": "7e3b79ba-84e6-455d-afca-b7674b9750e4",
   "metadata": {},
   "source": [
    "## Alanyze maximum stimulus"
   ]
  },
  {
   "cell_type": "code",
   "execution_count": null,
   "id": "3a580314-a7e1-4b36-a676-95a61fc26d34",
   "metadata": {},
   "outputs": [],
   "source": [
    "max_range_2 = list()\n",
    "with tqdm(max_stimul) as mstm:\n",
    "    for i, v in enumerate(mstm):\n",
    "        if v[2] >= 18:\n",
    "            max_range_2.append(i)"
   ]
  },
  {
   "cell_type": "code",
   "execution_count": null,
   "id": "5080cb6a-b170-4e8f-a61e-d8cd9686cd89",
   "metadata": {
    "scrolled": true
   },
   "outputs": [],
   "source": [
    "max_range_2"
   ]
  },
  {
   "cell_type": "code",
   "execution_count": null,
   "id": "1ad2b9ae-4dc2-43d1-8569-3cf3088c4e41",
   "metadata": {},
   "outputs": [],
   "source": [
    "v_a, a_id = find_v_x(max_stimul, max_range_2, 2)\n",
    "v_a, a_id"
   ]
  },
  {
   "cell_type": "code",
   "execution_count": null,
   "id": "2a60a5b3-9ab5-4c2d-9a5b-d26fc07ba66b",
   "metadata": {},
   "outputs": [],
   "source": [
    "plt.imshow(max_images[a_id])"
   ]
  },
  {
   "cell_type": "code",
   "execution_count": null,
   "id": "433bee1b-0781-4ab2-a47c-5577e80eafc9",
   "metadata": {},
   "outputs": [],
   "source": [
    "v_A = find_v_A(max_stimul, max_range_2)\n",
    "v_A"
   ]
  },
  {
   "cell_type": "code",
   "execution_count": null,
   "id": "1f51e849-8c84-4bd6-804d-8688f78df2ca",
   "metadata": {
    "scrolled": true
   },
   "outputs": [],
   "source": [
    "max_range_5 = list()\n",
    "with tqdm(max_stimul) as mstm:\n",
    "    for i, v in enumerate(mstm):\n",
    "        if v[5] >= 10:\n",
    "            max_range_5.append(i)"
   ]
  },
  {
   "cell_type": "code",
   "execution_count": null,
   "id": "df934c5b-0152-40a5-b922-13a170878b93",
   "metadata": {
    "scrolled": true
   },
   "outputs": [],
   "source": [
    "max_range_5"
   ]
  },
  {
   "cell_type": "code",
   "execution_count": null,
   "id": "86ddde1d-97d7-4819-a64a-43d49b6d3045",
   "metadata": {},
   "outputs": [],
   "source": [
    "v_b, b_id = find_v_x(max_stimul, max_range_5, 5)\n",
    "v_b, b_id"
   ]
  },
  {
   "cell_type": "code",
   "execution_count": null,
   "id": "05a11809-aea4-4c47-b664-de0508ed60e5",
   "metadata": {},
   "outputs": [],
   "source": [
    "plt.imshow(max_images[b_id])"
   ]
  },
  {
   "cell_type": "code",
   "execution_count": null,
   "id": "37e25387-a574-4fb3-ad7c-754c98897957",
   "metadata": {},
   "outputs": [],
   "source": [
    "v_B = find_v_A(max_stimul, max_range_5)\n",
    "v_B"
   ]
  },
  {
   "cell_type": "code",
   "execution_count": null,
   "id": "750bb178-dd57-46ee-9414-7b04bfc84c98",
   "metadata": {},
   "outputs": [],
   "source": [
    "G_A = find_G_x(max_stimul, v_A)\n",
    "G_A"
   ]
  },
  {
   "cell_type": "code",
   "execution_count": null,
   "id": "d851f7e3-e04f-403d-8148-5ca290082437",
   "metadata": {},
   "outputs": [],
   "source": [
    "G_B = find_G_x(max_stimul, v_B)\n",
    "G_B"
   ]
  },
  {
   "cell_type": "code",
   "execution_count": null,
   "id": "db2c6a42-8e21-486b-bc62-185b9ce16091",
   "metadata": {},
   "outputs": [],
   "source": [
    "inter_idx = np.intersect1d(G_A, G_B)\n",
    "inter_idx"
   ]
  },
  {
   "cell_type": "code",
   "execution_count": null,
   "id": "56e46130-03fc-40fb-90f5-40a6bf0a1276",
   "metadata": {},
   "outputs": [],
   "source": [
    "plt.imshow(data[6794][0])"
   ]
  },
  {
   "cell_type": "code",
   "execution_count": null,
   "id": "35c5dc58-f324-40a1-88cd-bbf8c4e46994",
   "metadata": {},
   "outputs": [],
   "source": [
    "v_D = np.maximum(v_A, v_B)\n",
    "v_D"
   ]
  },
  {
   "cell_type": "code",
   "execution_count": null,
   "id": "a30660d4-6d31-4669-9dbf-833f9b597099",
   "metadata": {},
   "outputs": [],
   "source": [
    "G_5_D = find_G_x(max_stimul, v_D)\n",
    "G_5_D"
   ]
  },
  {
   "cell_type": "code",
   "execution_count": null,
   "id": "34a262a8-6bcf-4c4f-9c01-8e6994349a03",
   "metadata": {},
   "outputs": [],
   "source": [
    "wnet.net[:6]"
   ]
  },
  {
   "cell_type": "code",
   "execution_count": null,
   "id": "83f78423-c986-4815-86d6-b0582f8c150b",
   "metadata": {},
   "outputs": [],
   "source": [
    "U_X, X_U = layer_V(data, wnet, k=6)"
   ]
  },
  {
   "cell_type": "code",
   "execution_count": null,
   "id": "4c2094b2-664e-4d62-8b02-319381f768e4",
   "metadata": {},
   "outputs": [],
   "source": [
    "u_D = find_v_A(U_X, inter_idx)\n",
    "u_D"
   ]
  },
  {
   "cell_type": "code",
   "execution_count": null,
   "id": "6585c888-9186-4acf-8456-8ce7a4ab2a1d",
   "metadata": {},
   "outputs": [],
   "source": [
    "U_X[inter_idx]"
   ]
  },
  {
   "cell_type": "code",
   "execution_count": null,
   "id": "70d47778-fc0a-405c-b9c2-6ccc1c2540a6",
   "metadata": {},
   "outputs": [],
   "source": [
    "G_D = find_G_x(U_X, u_D)\n",
    "G_D"
   ]
  },
  {
   "cell_type": "code",
   "execution_count": null,
   "id": "277c2bfb-7119-43e9-86e8-c6aefe753bbf",
   "metadata": {},
   "outputs": [],
   "source": [
    "plt.imshow(data[9390][0])"
   ]
  },
  {
   "cell_type": "markdown",
   "id": "be07aad4-53a7-456b-b026-80295db7d84d",
   "metadata": {},
   "source": [
    "## Initialize simple dataset"
   ]
  },
  {
   "cell_type": "code",
   "execution_count": null,
   "id": "2291b2fa-1000-4828-82aa-8da5a4dbf331",
   "metadata": {},
   "outputs": [],
   "source": []
  },
  {
   "cell_type": "code",
   "execution_count": null,
   "id": "c3ddebc9-6b60-403d-aaa1-13c71e3215e6",
   "metadata": {},
   "outputs": [],
   "source": [
    "iris = load_iris()"
   ]
  },
  {
   "cell_type": "code",
   "execution_count": null,
   "id": "20e2e843-2637-46e4-bd85-c66eeb5224a9",
   "metadata": {},
   "outputs": [],
   "source": [
    "wines = load_wine()"
   ]
  },
  {
   "cell_type": "code",
   "execution_count": null,
   "id": "d475af9c-7863-4d44-9daf-16516cdde830",
   "metadata": {},
   "outputs": [],
   "source": [
    "df = pd.read_excel(pumpkin_path)"
   ]
  },
  {
   "cell_type": "code",
   "execution_count": null,
   "id": "6e1ebae1-5609-41e6-ad31-5fac2f33596c",
   "metadata": {},
   "outputs": [],
   "source": [
    "X = iris['data']\n",
    "y = iris['target']"
   ]
  },
  {
   "cell_type": "code",
   "execution_count": null,
   "id": "bf944d64-f144-4b87-9e93-8e83ef375908",
   "metadata": {},
   "outputs": [],
   "source": [
    "X = wines['data']\n",
    "y = wines['target']"
   ]
  },
  {
   "cell_type": "code",
   "execution_count": null,
   "id": "284053df-5ff0-4a0f-a7ee-b31787fe6bba",
   "metadata": {},
   "outputs": [],
   "source": [
    "y = df['Class']\n",
    "X = df.drop(columns=['Class'], axis=1)"
   ]
  },
  {
   "cell_type": "code",
   "execution_count": null,
   "id": "563bff21-f12f-41cf-8cb9-6ee8acd9226d",
   "metadata": {},
   "outputs": [],
   "source": [
    "y"
   ]
  },
  {
   "cell_type": "code",
   "execution_count": null,
   "id": "5556660e-a14c-4a43-bc80-c29866301812",
   "metadata": {},
   "outputs": [],
   "source": [
    "y = y.replace('Çerçevelik', 0).replace('Ürgüp Sivrisi', 1)"
   ]
  },
  {
   "cell_type": "code",
   "execution_count": null,
   "id": "8e6d0014-9a82-49a3-b2ad-2e0ce6eb65ca",
   "metadata": {},
   "outputs": [],
   "source": [
    "y = y.to_numpy()"
   ]
  },
  {
   "cell_type": "code",
   "execution_count": null,
   "id": "9b5755cd-75e5-401f-91cd-2cf8841779e2",
   "metadata": {},
   "outputs": [],
   "source": [
    "X_train, X_test, y_train, y_test = train_test_split(\n",
    "    X, y, \n",
    "    test_size=0.2, \n",
    "    random_state=SEED\n",
    ")"
   ]
  },
  {
   "cell_type": "code",
   "execution_count": null,
   "id": "2623f5df-c7e8-47e7-b676-2f5965ad1591",
   "metadata": {},
   "outputs": [],
   "source": [
    "X_train.shape, y_train.shape, X_test.shape, y_test.shape"
   ]
  },
  {
   "cell_type": "code",
   "execution_count": null,
   "id": "75b6b9fc-e8b7-49ec-847f-40c333cf7c96",
   "metadata": {},
   "outputs": [],
   "source": [
    "scaler = MaxAbsScaler()\n",
    "X_train = scaler.fit_transform(X_train)"
   ]
  },
  {
   "cell_type": "code",
   "execution_count": null,
   "id": "e040d2b4-80cc-45da-af38-7938c5fbff13",
   "metadata": {},
   "outputs": [],
   "source": [
    "X_test = scaler.transform(X_test)"
   ]
  },
  {
   "cell_type": "markdown",
   "id": "807137b2-c1f9-42eb-a4aa-2ad0f60c93b2",
   "metadata": {},
   "source": [
    "## Fitting Logistic Regression"
   ]
  },
  {
   "cell_type": "code",
   "execution_count": null,
   "id": "86ecbb2e-8222-42dd-a40e-84ae4900b816",
   "metadata": {},
   "outputs": [],
   "source": [
    "mlc = LogisticRegression(\n",
    "    multi_class='ovr',\n",
    "    n_jobs=workers\n",
    ")"
   ]
  },
  {
   "cell_type": "code",
   "execution_count": null,
   "id": "b2ee006c-0082-4214-95cd-70080e3d671c",
   "metadata": {},
   "outputs": [],
   "source": [
    "mlc = LinearDiscriminantAnalysis()"
   ]
  },
  {
   "cell_type": "code",
   "execution_count": null,
   "id": "a6a8a41f-321e-4972-9f87-67c590d3bc86",
   "metadata": {},
   "outputs": [],
   "source": [
    "mlc = QuadraticDiscriminantAnalysis()"
   ]
  },
  {
   "cell_type": "code",
   "execution_count": null,
   "id": "c4849abe-0cf5-4060-9018-6634a8020277",
   "metadata": {},
   "outputs": [],
   "source": [
    "mlc = mlc.fit(X_train, y_train)"
   ]
  },
  {
   "cell_type": "code",
   "execution_count": null,
   "id": "8d4700da-bcc9-468e-a4fe-8808afc15d39",
   "metadata": {},
   "outputs": [],
   "source": [
    "mlc.classes_"
   ]
  },
  {
   "cell_type": "code",
   "execution_count": null,
   "id": "16134ec4-d73a-4b8d-a785-a89df9f5a400",
   "metadata": {},
   "outputs": [],
   "source": [
    "V_test = mlc.predict_log_proba(X_test)\n",
    "y_pred = mlc.predict_proba(X_test)\n",
    "y_hats = mlc.predict(X_test)"
   ]
  },
  {
   "cell_type": "code",
   "execution_count": null,
   "id": "1aa82140-f8d2-4b95-ada5-128ab6ba0517",
   "metadata": {},
   "outputs": [],
   "source": [
    "print(classification_report(y_test, y_hats))"
   ]
  },
  {
   "cell_type": "code",
   "execution_count": null,
   "id": "46e01927-cdbd-458e-9f07-86b88d50cf3e",
   "metadata": {},
   "outputs": [],
   "source": [
    "confusion_matrix(y_test, y_hats)"
   ]
  },
  {
   "cell_type": "code",
   "execution_count": null,
   "id": "47a90338-7033-463a-9658-2b46fc9bd092",
   "metadata": {},
   "outputs": [],
   "source": [
    "V_train = mlc.predict_log_proba(X_test)"
   ]
  },
  {
   "cell_type": "code",
   "execution_count": null,
   "id": "609773a1-d724-499e-bcd6-8f6f601848c6",
   "metadata": {},
   "outputs": [],
   "source": [
    "I_X = [[x, v_x] for x, v_x in zip(X_test, V_test)]"
   ]
  },
  {
   "cell_type": "code",
   "execution_count": null,
   "id": "4d73ce6d-c8a0-43b1-9c82-8a2d1ea08ec0",
   "metadata": {
    "scrolled": true
   },
   "outputs": [],
   "source": [
    "np.sum(V_test, axis=1)"
   ]
  },
  {
   "cell_type": "code",
   "execution_count": null,
   "id": "d6efe65b-9ed2-491f-8657-4390900201ee",
   "metadata": {},
   "outputs": [],
   "source": [
    "np.sum(y_pred, axis=1)"
   ]
  },
  {
   "cell_type": "code",
   "execution_count": null,
   "id": "669a0c2e-77c6-4f3a-a138-824f195d5b2c",
   "metadata": {},
   "outputs": [],
   "source": [
    "y_pred[-1]"
   ]
  },
  {
   "cell_type": "code",
   "execution_count": null,
   "id": "809c6b67-7dfb-45d0-a956-2ed3a761d3d0",
   "metadata": {},
   "outputs": [],
   "source": [
    "x = X_test[-1]\n",
    "v_x = V_test[-1]"
   ]
  },
  {
   "cell_type": "code",
   "execution_count": null,
   "id": "0d172c6d-a456-48b0-bd37-114be88590f6",
   "metadata": {},
   "outputs": [],
   "source": [
    "def upset(v):\n",
    "    B, v_B = list(), list()\n",
    "    for x_t, v_t in zip(X_test, V_test):\n",
    "        if np.all(v <= v_t):\n",
    "            B.append(x_t)\n",
    "            v_B.append(v_t)\n",
    "\n",
    "    return B, v_B"
   ]
  },
  {
   "cell_type": "code",
   "execution_count": null,
   "id": "9b8315ef-a6c2-4549-a5c3-4e06d2c939d3",
   "metadata": {},
   "outputs": [],
   "source": [
    "Bs = list()\n",
    "v_Bs = list()\n",
    "for x_a, v_a in zip(X_test, V_test):\n",
    "    B_a, v_B_a = upset(v_a)\n",
    "    Bs.append(B_a)\n",
    "    v_Bs.append(v_B_a)"
   ]
  },
  {
   "cell_type": "code",
   "execution_count": null,
   "id": "b326ab72-5d9e-4848-93fe-49c0afb61686",
   "metadata": {},
   "outputs": [],
   "source": [
    "len(Bs)"
   ]
  },
  {
   "cell_type": "code",
   "execution_count": null,
   "id": "830336fa-74ed-4d02-9e5d-d9bc05d411d3",
   "metadata": {},
   "outputs": [],
   "source": [
    "i = 0\n",
    "for B_c in Bs:\n",
    "    i += len(B_c)\n",
    "i"
   ]
  },
  {
   "cell_type": "markdown",
   "id": "455ec37a-81e5-494a-b780-c9580bcb8981",
   "metadata": {},
   "source": [
    "## Clustering lattices"
   ]
  },
  {
   "cell_type": "code",
   "execution_count": null,
   "id": "8499cc0a-589f-4ced-ab5d-130c294dc83d",
   "metadata": {},
   "outputs": [],
   "source": [
    "V_0 = list()\n",
    "A = list()\n",
    "V_1 = list()\n",
    "B = list()\n",
    "V_2 = list()\n",
    "C = list()\n",
    "for x, v_x, y in zip(X_test, V_test, y_test):\n",
    "    if y == 0:\n",
    "        A.append(x)\n",
    "        V_0.append(v_x)\n",
    "    elif y == 1:\n",
    "        B.append(x)\n",
    "        V_1.append(v_x)\n",
    "    elif y == 2:\n",
    "        C.append(x)\n",
    "        V_2.append(v_x)"
   ]
  },
  {
   "cell_type": "code",
   "execution_count": null,
   "id": "8a9e0d38-22c5-483c-a9d6-6a891cfb3a02",
   "metadata": {},
   "outputs": [],
   "source": [
    "len(V_0)"
   ]
  },
  {
   "cell_type": "code",
   "execution_count": null,
   "id": "0626f419-bce0-4fe3-bc27-ab671417820d",
   "metadata": {},
   "outputs": [],
   "source": [
    "V_0[0]"
   ]
  },
  {
   "cell_type": "code",
   "execution_count": null,
   "id": "28eac588-f950-4dc5-b418-b5aa7ed7df45",
   "metadata": {},
   "outputs": [],
   "source": [
    "# np.array(V_0)"
   ]
  },
  {
   "cell_type": "code",
   "execution_count": null,
   "id": "62d2a2a6-b854-4a1e-9609-d4300e841fcc",
   "metadata": {},
   "outputs": [],
   "source": [
    "v_A = np.min(np.array(V_0), axis = 0)\n",
    "v_B = np.min(np.array(V_1), axis = 0)\n",
    "# v_C = np.min(np.array(V_2))"
   ]
  },
  {
   "cell_type": "code",
   "execution_count": null,
   "id": "ae539c6b-d1f0-4973-8d21-a361d2e45f1b",
   "metadata": {},
   "outputs": [],
   "source": [
    "v_A, v_B"
   ]
  },
  {
   "cell_type": "code",
   "execution_count": null,
   "id": "c1f695de-edf9-4a76-97fc-fbfea8db77d1",
   "metadata": {},
   "outputs": [],
   "source": [
    "G_v_A = list()\n",
    "G_v_B = list()\n",
    "for x, v_x, y in zip(X_test, V_test, y_test):\n",
    "    if np.all(v_A <= v_x):\n",
    "        G_v_A.append((x, y))\n",
    "    if np.all(v_B <= v_x):\n",
    "        G_v_B.append((x, y))"
   ]
  },
  {
   "cell_type": "code",
   "execution_count": null,
   "id": "539e18b7-93a7-43de-8adf-4f46edc7460d",
   "metadata": {},
   "outputs": [],
   "source": [
    "i_A = 0\n",
    "for v_x, y in G_v_A:\n",
    "    i_A += y\n",
    "print(f'{i_A} {len(G_v_A)} {len(G_v_A) - i_A}')"
   ]
  },
  {
   "cell_type": "code",
   "execution_count": null,
   "id": "9300fa22-48a5-482e-86d5-b1f4667e9627",
   "metadata": {},
   "outputs": [],
   "source": [
    "i_B = 0\n",
    "for v_x, y in G_v_B:\n",
    "    i_B += y\n",
    "print(f'{i_B} {len(G_v_B)} {len(G_v_B) - i_B}')"
   ]
  },
  {
   "cell_type": "code",
   "execution_count": null,
   "id": "0be26253-65d3-4dc0-ae57-88a9bdee023d",
   "metadata": {},
   "outputs": [],
   "source": []
  }
 ],
 "metadata": {
  "kernelspec": {
   "display_name": "Python 3 (ipykernel)",
   "language": "python",
   "name": "python3"
  },
  "language_info": {
   "codemirror_mode": {
    "name": "ipython",
    "version": 3
   },
   "file_extension": ".py",
   "mimetype": "text/x-python",
   "name": "python",
   "nbconvert_exporter": "python",
   "pygments_lexer": "ipython3",
   "version": "3.12.0"
  }
 },
 "nbformat": 4,
 "nbformat_minor": 5
}
