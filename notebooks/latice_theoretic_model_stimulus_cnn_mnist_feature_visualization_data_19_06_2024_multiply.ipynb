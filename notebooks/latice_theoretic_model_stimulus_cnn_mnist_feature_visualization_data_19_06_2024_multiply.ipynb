{
 "cells": [
  {
   "cell_type": "code",
   "execution_count": null,
   "id": "71ce37e9",
   "metadata": {},
   "outputs": [],
   "source": [
    "%load_ext autoreload\n",
    "%autoreload 2\n",
    "\n",
    "%matplotlib inline"
   ]
  },
  {
   "cell_type": "markdown",
   "id": "5b560092",
   "metadata": {},
   "source": [
    "## Install libraries"
   ]
  },
  {
   "cell_type": "code",
   "execution_count": null,
   "id": "69b65bf2-6556-48a6-826d-5cfe43eddab7",
   "metadata": {},
   "outputs": [],
   "source": [
    "from IPython.display import display, Javascript\n",
    "\n",
    "display(Javascript('''\n",
    "(function() {\n",
    "    var interval = setInterval(function() {\n",
    "        if (typeof google !== 'undefined' && google.translate && google.translate.TranslateElement) {\n",
    "            clearInterval(interval);\n",
    "            google.translate.TranslateElement = function() {};\n",
    "            document.getElementById('google_translate_element')?.remove();\n",
    "        }\n",
    "    }, 1000);\n",
    "})();\n",
    "'''))"
   ]
  },
  {
   "cell_type": "markdown",
   "id": "89885fa7",
   "metadata": {},
   "source": [
    "```bash\n",
    "conda create -n edu4 python=3.11 jupyter matplotlib\n",
    "```"
   ]
  },
  {
   "cell_type": "markdown",
   "id": "cd23589d",
   "metadata": {},
   "source": [
    "```bash \n",
    "! pip install -U -r requirements.txt\n",
    "```"
   ]
  },
  {
   "cell_type": "markdown",
   "id": "9d16321f",
   "metadata": {},
   "source": [
    "```bash\n",
    "! pip install -U numpy\n",
    "! pip install -U scikit-learn\n",
    "```"
   ]
  },
  {
   "cell_type": "markdown",
   "id": "b4cab43a",
   "metadata": {},
   "source": [
    "## Update repository"
   ]
  },
  {
   "cell_type": "code",
   "execution_count": null,
   "id": "46bcb5dc",
   "metadata": {},
   "outputs": [],
   "source": [
    "! git pull"
   ]
  },
  {
   "cell_type": "markdown",
   "id": "bad216da",
   "metadata": {},
   "source": [
    "## Add import path"
   ]
  },
  {
   "cell_type": "code",
   "execution_count": null,
   "id": "baafb705",
   "metadata": {},
   "outputs": [],
   "source": [
    "import os\n",
    "import sys\n",
    "import gc"
   ]
  },
  {
   "cell_type": "code",
   "execution_count": null,
   "id": "b2930983",
   "metadata": {},
   "outputs": [],
   "source": [
    "module_path = os.path.abspath(os.path.join('..'))\n",
    "if module_path not in sys.path:\n",
    "    sys.path.append(module_path)"
   ]
  },
  {
   "cell_type": "code",
   "execution_count": null,
   "id": "7984d32f",
   "metadata": {},
   "outputs": [],
   "source": [
    "del module_path"
   ]
  },
  {
   "cell_type": "markdown",
   "id": "07a1e9c8",
   "metadata": {},
   "source": [
    "## Organize imports"
   ]
  },
  {
   "cell_type": "code",
   "execution_count": null,
   "id": "ae177357",
   "metadata": {},
   "outputs": [],
   "source": [
    "import multiprocessing\n",
    "from pathlib import Path"
   ]
  },
  {
   "cell_type": "code",
   "execution_count": null,
   "id": "0a464cd7-0f81-4f99-9d84-a0e9f807ecbf",
   "metadata": {},
   "outputs": [],
   "source": [
    "import json"
   ]
  },
  {
   "cell_type": "code",
   "execution_count": null,
   "id": "ee903b26-0c30-466e-87e9-46b68f585fdf",
   "metadata": {},
   "outputs": [],
   "source": [
    "from collections import OrderedDict"
   ]
  },
  {
   "cell_type": "code",
   "execution_count": null,
   "id": "24a7dc9c-777d-4d5c-9674-9cb09b221509",
   "metadata": {},
   "outputs": [],
   "source": [
    "from functools import reduce"
   ]
  },
  {
   "cell_type": "code",
   "execution_count": null,
   "id": "a523557a",
   "metadata": {},
   "outputs": [],
   "source": [
    "import seaborn as sns"
   ]
  },
  {
   "cell_type": "code",
   "execution_count": null,
   "id": "25750a3d",
   "metadata": {},
   "outputs": [],
   "source": [
    "import matplotlib.pyplot as plt\n",
    "import seaborn as sns\n",
    "import numpy as np\n",
    "import pandas as pd"
   ]
  },
  {
   "cell_type": "code",
   "execution_count": null,
   "id": "96b53c98-9137-444e-b868-deecac303673",
   "metadata": {},
   "outputs": [],
   "source": [
    "from tqdm import tqdm"
   ]
  },
  {
   "cell_type": "code",
   "execution_count": null,
   "id": "125950ab",
   "metadata": {},
   "outputs": [],
   "source": [
    "import plotly.express as px"
   ]
  },
  {
   "cell_type": "code",
   "execution_count": null,
   "id": "262d0a5a-ccb6-4a7d-a4a2-76a276c2ce88",
   "metadata": {},
   "outputs": [],
   "source": [
    "from sklearn.linear_model import LinearRegression, LogisticRegression\n",
    "from sklearn.discriminant_analysis import (\n",
    "    LinearDiscriminantAnalysis, \n",
    "    QuadraticDiscriminantAnalysis\n",
    ")\n",
    "from sklearn.tree import DecisionTreeClassifier\n",
    "from sklearn.ensemble import RandomForestClassifier \n",
    "from sklearn.datasets import (\n",
    "    load_iris,\n",
    "    load_wine\n",
    ")\n",
    "from sklearn.model_selection import train_test_split\n",
    "from sklearn.preprocessing import (\n",
    "    MaxAbsScaler,\n",
    "    MinMaxScaler,\n",
    "    StandardScaler\n",
    ")\n",
    "from sklearn.metrics import (\n",
    "    classification_report,\n",
    "    confusion_matrix\n",
    ")"
   ]
  },
  {
   "cell_type": "code",
   "execution_count": null,
   "id": "e1c75655-adba-4f78-811e-9fd3c0286a9e",
   "metadata": {},
   "outputs": [],
   "source": [
    "from scipy import stats\n",
    "from scipy.interpolate import interp1d"
   ]
  },
  {
   "cell_type": "code",
   "execution_count": null,
   "id": "23828718-0adc-4a5f-8d63-813442ccbee8",
   "metadata": {},
   "outputs": [],
   "source": [
    "import torch"
   ]
  },
  {
   "cell_type": "code",
   "execution_count": null,
   "id": "aafca3fc-fe8b-45ff-a4f0-9e67d332d41a",
   "metadata": {},
   "outputs": [],
   "source": [
    "from torch import nn\n",
    "from torchvision import transforms\n",
    "import torchvision.transforms.functional as F\n",
    "from torchvision.utils import make_grid\n",
    "from torchvision.datasets import MNIST"
   ]
  },
  {
   "cell_type": "code",
   "execution_count": null,
   "id": "0ed57fd4-1283-435c-922e-5c4de61ae4c1",
   "metadata": {},
   "outputs": [],
   "source": [
    "from captum.attr import (\n",
    "    IntegratedGradients, \n",
    "    LayerIntegratedGradients,\n",
    "    NeuronGradient,\n",
    "    NeuronIntegratedGradients,\n",
    "    NeuronGuidedBackprop,\n",
    "    NeuronDeepLift,\n",
    "    NeuronDeepLiftShap,\n",
    "    NeuronGradientShap,\n",
    ")\n",
    "from captum.attr import visualization as viz"
   ]
  },
  {
   "cell_type": "markdown",
   "id": "65f31e93",
   "metadata": {},
   "source": [
    "#### Number of CPU cores"
   ]
  },
  {
   "cell_type": "code",
   "execution_count": null,
   "id": "b41c30f2",
   "metadata": {},
   "outputs": [],
   "source": [
    "workers = multiprocessing.cpu_count()\n",
    "workers"
   ]
  },
  {
   "cell_type": "code",
   "execution_count": null,
   "id": "59f41838-322d-41e8-b8e1-6712089703c9",
   "metadata": {},
   "outputs": [],
   "source": [
    "SEED = 2024"
   ]
  },
  {
   "cell_type": "markdown",
   "id": "0ccf4792-19f1-4d01-b9c2-ddea2462cadc",
   "metadata": {},
   "source": [
    "## Initialize Path"
   ]
  },
  {
   "cell_type": "code",
   "execution_count": null,
   "id": "bcd545b8-0e15-41e9-92a9-4d0bf260c8b8",
   "metadata": {},
   "outputs": [],
   "source": [
    "PATH = Path('data')\n",
    "model_dir = PATH / 'models'\n",
    "model_path = model_dir / 'simple_cnn_mnist_model.ckpt'\n",
    "config_dir = PATH / 'config'\n",
    "config_dir.mkdir(exist_ok=True, parents=True)\n",
    "config_1_layer_path = config_dir / 'neurons_1_layer.json'\n",
    "config_cnn_layer_1 = config_dir / 'neurons_cnn_1_layer.json'\n",
    "images_dir = PATH / 'images'\n",
    "images_dir.mkdir(exist_ok=True, parents=True)\n",
    "pumpkin_path = PATH / 'Pumpkin_Seeds_Dataset.xlsx'"
   ]
  },
  {
   "cell_type": "markdown",
   "id": "e66024d6-e9ad-4204-b2fa-9e5eee726d3c",
   "metadata": {},
   "source": [
    "## Model wrapper"
   ]
  },
  {
   "cell_type": "code",
   "execution_count": null,
   "id": "4c6267d4-bee4-4e18-b9f0-6868fde8b762",
   "metadata": {},
   "outputs": [],
   "source": [
    "def find_device():\n",
    "    if torch.cuda.is_available():\n",
    "        device = torch.device('cuda')\n",
    "    elif torch.backends.mps.is_available():\n",
    "        device = torch.device('mps')\n",
    "    else:\n",
    "        device = torch.device('cpu')\n",
    "\n",
    "    return device"
   ]
  },
  {
   "cell_type": "code",
   "execution_count": null,
   "id": "47de4c93-f406-474d-95db-51e820bb5835",
   "metadata": {},
   "outputs": [],
   "source": [
    "class Device(object):\n",
    "\n",
    "    def __init__(self, x, device):\n",
    "        self.x = x\n",
    "        self.device = device\n",
    "        self.cpu = torch.device('cpu')\n",
    "\n",
    "    def __enter__(self):\n",
    "        self.x = self.x.to(self.device)\n",
    "\n",
    "        return self\n",
    "\n",
    "    def __exit__(self):\n",
    "        self.xx = self.x.to(self.cpu)\n",
    "\n",
    "        return self"
   ]
  },
  {
   "cell_type": "code",
   "execution_count": null,
   "id": "48eff4fa-58d4-4465-b25d-7483cd834fad",
   "metadata": {},
   "outputs": [],
   "source": [
    "class NetWrapper(object):\n",
    "\n",
    "    def __init__(self, net, transform, device=None):\n",
    "        self._net = net.eval()\n",
    "        self.transform = transform\n",
    "        self._device = device if device else find_device()\n",
    "        self._net.to(self._device)\n",
    "        self.cpu = torch.device('cpu')\n",
    "\n",
    "    @property\n",
    "    def net(self):\n",
    "        return self._net\n",
    "\n",
    "    @property\n",
    "    def device(self):\n",
    "        return self._device\n",
    "    \n",
    "    def __getitem__(self, i):\n",
    "        return self.net[i]\n",
    "\n",
    "    def __len__(self):\n",
    "        return len(self.net)\n",
    "\n",
    "    @torch.inference_mode()\n",
    "    def forward(self, *xs, k=6):\n",
    "        ts = torch.stack(\n",
    "            [self.transform(x) for x in xs], \n",
    "            dim=0\n",
    "        )\n",
    "        ts = ts.to(self.device)\n",
    "        rs = self[: k](ts) if k else self.net(ts)\n",
    "        rs = rs.to(self.cpu).detach().numpy()\n",
    "\n",
    "        return rs\n",
    "\n",
    "    def to(self, device=None):\n",
    "        dvc = device if device else find_device()\n",
    "        self._device = dvc\n",
    "        self.net.to(self._device)\n",
    "        \n",
    "    \n",
    "    def __call__(self, *xs, k=6):\n",
    "        return self.forward(*xs, k=k)"
   ]
  },
  {
   "cell_type": "markdown",
   "id": "67b7d099-7346-4521-a81b-9e3ca5dbfdb0",
   "metadata": {},
   "source": [
    "## Load the model"
   ]
  },
  {
   "cell_type": "code",
   "execution_count": null,
   "id": "f365d055-0da1-4809-828e-a314a1bc621c",
   "metadata": {},
   "outputs": [],
   "source": [
    "model = torch.load(model_path, map_location='cpu')"
   ]
  },
  {
   "cell_type": "code",
   "execution_count": null,
   "id": "756fc5e6-fcfa-4874-bd72-4263b7262511",
   "metadata": {},
   "outputs": [],
   "source": [
    "def clear_state_dict(state_dict):\n",
    "    for key in list(state_dict.keys()):\n",
    "        state_dict[key.replace('model.0.', 'conv1.')] = state_dict.pop(key)\n",
    "    for key in list(state_dict.keys()):\n",
    "        state_dict[key.replace('model.3.', 'conv2.')] = state_dict.pop(key)\n",
    "    for key in list(state_dict.keys()):\n",
    "        state_dict[key.replace('model.8.', 'fc1.')] = state_dict.pop(key)\n",
    "    for key in list(state_dict.keys()):\n",
    "        state_dict[key.replace('model.11.', 'fc2.')] = state_dict.pop(key)\n",
    "\n",
    "    return state_dict"
   ]
  },
  {
   "cell_type": "code",
   "execution_count": null,
   "id": "f94db6e0-040a-4bf9-b911-a4d7e04854c4",
   "metadata": {},
   "outputs": [],
   "source": [
    "state_dict = clear_state_dict(model['state_dict'])"
   ]
  },
  {
   "cell_type": "code",
   "execution_count": null,
   "id": "51ad2a9b-bc25-4162-8333-8ac36799347d",
   "metadata": {},
   "outputs": [],
   "source": [
    "channels = 1\n",
    "width = 28\n",
    "height = 28\n",
    "hidden_size = 16\n",
    "num_classes = 10\n",
    "in_features = channels * width * height"
   ]
  },
  {
   "cell_type": "markdown",
   "id": "29ef3605-a195-44fd-aa60-e97e50de9e55",
   "metadata": {},
   "source": [
    "network = nn.Sequential(\n",
    "    nn.Conv2d(1, 32, kernel_size=3, stride=1, padding=1),  # input: 1x28x28, output: 32x28x28\n",
    "    nn.ReLU(),\n",
    "    nn.MaxPool2d(kernel_size=2, stride=2),  # output: 32x14x14\n",
    "    nn.Conv2d(32, 64, kernel_size=3, stride=1, padding=1),  # output: 64x14x14\n",
    "    nn.ReLU(),\n",
    "    nn.MaxPool2d(kernel_size=2, stride=2),  # output: 64x7x7\n",
    "    nn.Flatten(),  # output: 64*7*7\n",
    "    nn.Dropout(0.5),  # Dropout with probability 0.5\n",
    "    nn.Linear(64 * 7 * 7, 128),\n",
    "    nn.ReLU(),\n",
    "    nn.Dropout(0.5),  # Dropout with probability 0.5\n",
    "    nn.Linear(128, 10)\n",
    ")"
   ]
  },
  {
   "cell_type": "code",
   "execution_count": null,
   "id": "5b0f65ba-7ccc-4fb6-a82b-e62e973f2b85",
   "metadata": {},
   "outputs": [],
   "source": [
    "net = nn.Sequential(OrderedDict([\n",
    "    ('conv1', nn.Conv2d(1, 32, kernel_size=3, stride=1, padding=1)),\n",
    "    ('act1', nn.ReLU()),\n",
    "    ('mxp1', nn.MaxPool2d(kernel_size=2, stride=2)),\n",
    "    ('conv2', nn.Conv2d(32, 64, kernel_size=3, stride=1, padding=1)),\n",
    "    ('act2', nn.ReLU()),\n",
    "    ('mxp2', nn.MaxPool2d(kernel_size=2, stride=2)),\n",
    "    ('flatten', nn.Flatten()),\n",
    "    ('fc1', nn.Linear(64 * 7 * 7, 128)),\n",
    "    ('act3', nn.ReLU()),\n",
    "    ('fc2', nn.Linear(128, 10)),\n",
    "]))"
   ]
  },
  {
   "cell_type": "code",
   "execution_count": null,
   "id": "b53a9e71-4cee-4564-9deb-52feaf94fb57",
   "metadata": {},
   "outputs": [],
   "source": [
    "net.load_state_dict(state_dict)"
   ]
  },
  {
   "cell_type": "code",
   "execution_count": null,
   "id": "75c19bf4-50a2-4578-b6f3-563c43d93ae8",
   "metadata": {},
   "outputs": [],
   "source": [
    "net = net.eval()"
   ]
  },
  {
   "cell_type": "markdown",
   "id": "d5604b43-9956-46fb-a0df-994fc9615c15",
   "metadata": {},
   "source": [
    "## Helper functions"
   ]
  },
  {
   "cell_type": "code",
   "execution_count": null,
   "id": "cf3fb273-f200-41e4-89ed-9433d9de2162",
   "metadata": {},
   "outputs": [],
   "source": [
    "def argmax_kd(v):\n",
    "    return np.unravel_index(np.argmax(v), v.shape)"
   ]
  },
  {
   "cell_type": "code",
   "execution_count": null,
   "id": "f0254c3e-a731-435b-a477-d752f1acb320",
   "metadata": {},
   "outputs": [],
   "source": [
    "def argmax_kd_val(v):\n",
    "    max_idxs = argmax_kd(v)\n",
    "    max_vals = v[max_idxs]\n",
    "\n",
    "    return max_idxs, max_vals"
   ]
  },
  {
   "cell_type": "code",
   "execution_count": null,
   "id": "1cd3b3fb-23bc-420b-915c-4a5032cdc929",
   "metadata": {},
   "outputs": [],
   "source": [
    "def to_numpy(v):\n",
    "    return v.to('cpu').detach().numpy() if isinstance(\n",
    "        v, \n",
    "        (torch.Tensor,)\n",
    "    ) else v"
   ]
  },
  {
   "cell_type": "code",
   "execution_count": null,
   "id": "f4ae3616-9971-4d73-a71e-d9b7d4683166",
   "metadata": {},
   "outputs": [],
   "source": [
    "def intersect(*arrs):\n",
    "    return reduce(np.intersect1d, (arrs))"
   ]
  },
  {
   "cell_type": "code",
   "execution_count": null,
   "id": "9b213265-92f8-4077-9f7c-d3078fcee87c",
   "metadata": {},
   "outputs": [],
   "source": [
    "def intersect_xd(*arrs):\n",
    "    return np.minimum.reduce(arrs)"
   ]
  },
  {
   "cell_type": "code",
   "execution_count": null,
   "id": "299c4ff7-a9ab-49c1-81bf-aa67df14a793",
   "metadata": {},
   "outputs": [],
   "source": [
    "def le(v1, v2):\n",
    "    v1_np = to_numpy(v1)\n",
    "    v2_np = to_numpy(v2)\n",
    "    return np.all(v1_np <= v2_np)"
   ]
  },
  {
   "cell_type": "code",
   "execution_count": null,
   "id": "fdf5b783-975d-4aa9-a8a3-9ce306474b27",
   "metadata": {},
   "outputs": [],
   "source": [
    "def dist(v1, v2):\n",
    "    v1_np = to_numpy(v1)\n",
    "    v2_np = to_numpy(v2)\n",
    "    return np.sum(v1_np * v2_np)"
   ]
  },
  {
   "cell_type": "code",
   "execution_count": null,
   "id": "fe5aba73-dfc2-4595-aaa1-efed437ebaa3",
   "metadata": {},
   "outputs": [],
   "source": [
    "def layer_V(data, net, k=5, bs=1):\n",
    "    V = list()\n",
    "    X = list()\n",
    "    with tqdm(list(range(0, len(data), bs))) as ds:\n",
    "        for bi in ds:\n",
    "            xs = [data[batch][0] for batch in range(bi, bi + bs)]\n",
    "            vs = net(*xs, k=k)\n",
    "            V.append(vs)\n",
    "            X.extend(xs)\n",
    "\n",
    "    return np.vstack(V), X"
   ]
  },
  {
   "cell_type": "code",
   "execution_count": null,
   "id": "cdc704f3-fc3d-4f73-bcd1-005db1d44c65",
   "metadata": {},
   "outputs": [],
   "source": [
    "def loop_maxes(V, func, *args, **kwargs):\n",
    "    with tqdm(V) as mstml:\n",
    "        for i, v in enumerate(mstml):\n",
    "            func(i, v, *args, **kwargs)"
   ]
  },
  {
   "cell_type": "code",
   "execution_count": null,
   "id": "e34fa57e-d3b0-4398-994c-77f9901c9efe",
   "metadata": {},
   "outputs": [],
   "source": [
    "def select_top(V, idx, thresh):\n",
    "    tops = list()\n",
    "    def add_to_top(i, v):\n",
    "        if thresh <= v[idx]:\n",
    "            tops.append(i)\n",
    "    loop_maxes(V, lambda i, v: add_to_top(i, v))\n",
    "    \n",
    "    return tops"
   ]
  },
  {
   "cell_type": "code",
   "execution_count": null,
   "id": "5c53d0a3-f137-460a-8304-de6e5e09f7f5",
   "metadata": {},
   "outputs": [],
   "source": [
    "def find_v_x(V, mrng, idx):\n",
    "    mid = np.argmin(np.array(V)[mrng], axis=0)[idx]\n",
    "    x_id = mrng[mid]\n",
    "    v_x = V[x_id]\n",
    "\n",
    "    return v_x, x_id"
   ]
  },
  {
   "cell_type": "code",
   "execution_count": null,
   "id": "7c1fcda3-9bb4-4217-b35b-c80d2db573a8",
   "metadata": {},
   "outputs": [],
   "source": [
    "def find_v_A(V, mrng):\n",
    "    return np.minimum.reduce(np.array(V)[mrng])"
   ]
  },
  {
   "cell_type": "code",
   "execution_count": null,
   "id": "87b32056-adc5-4cc3-bf86-f61d04b85c81",
   "metadata": {},
   "outputs": [],
   "source": [
    "def find_G_x(V, v_x):\n",
    "    with tqdm(V) as mstm:\n",
    "        G_x = np.array([i for i, v in enumerate(mstm) if le(v_x, v)])\n",
    "\n",
    "    return G_x"
   ]
  },
  {
   "cell_type": "code",
   "execution_count": null,
   "id": "82e58d2a-4336-4cfe-8382-c11e3129924a",
   "metadata": {},
   "outputs": [],
   "source": [
    "def show_img(ds, idx):\n",
    "    plt.imshow(ds[idx][0])"
   ]
  },
  {
   "cell_type": "code",
   "execution_count": null,
   "id": "602ddceb-6d9a-4ccc-b67e-efdc7317a265",
   "metadata": {},
   "outputs": [],
   "source": [
    "def show(imgs, h=12, w=12):\n",
    "    if not isinstance(imgs, list):\n",
    "        imgs = [imgs]\n",
    "    fig, axs = plt.subplots(\n",
    "        ncols=len(imgs),\n",
    "        figsize=(w, h),\n",
    "        squeeze=False\n",
    "    )\n",
    "    for i, img in enumerate(imgs):\n",
    "        img = img.detach()\n",
    "        img = F.to_pil_image(img)\n",
    "        axs[0, i].imshow(np.asarray(img))\n",
    "        axs[0, i].set(xticklabels=[], yticklabels=[], xticks=[], yticks=[])"
   ]
  },
  {
   "cell_type": "code",
   "execution_count": null,
   "id": "1d9e88a1-2288-4892-91e0-86e303cd9dac",
   "metadata": {},
   "outputs": [],
   "source": [
    "def show_grid(G_A, data, nrow=8, h=12, w=12, my=None):\n",
    "    G_A_F = G_A.ravel()\n",
    "    to_tensor = transforms.ToTensor()\n",
    "    A_gr = [\n",
    "        to_tensor(data[i][0]) for i in G_A_F\n",
    "    ] if my is None else [\n",
    "        to_tensor(data[i][0]) for i in G_A_F if data[i][1] != my\n",
    "    ]\n",
    "    grid = make_grid(A_gr, nrow=nrow)\n",
    "    show(grid, h=h, w=w)"
   ]
  },
  {
   "cell_type": "markdown",
   "id": "587b4d04-b682-45a7-9da6-9c3827324bff",
   "metadata": {},
   "source": [
    "#### Data processing"
   ]
  },
  {
   "cell_type": "code",
   "execution_count": null,
   "id": "79582962-e9f1-47c5-91d0-dc42c8d8bb83",
   "metadata": {},
   "outputs": [],
   "source": [
    "def layer_hist(X_y, V_X, y=None):\n",
    "    if y is None:\n",
    "        V_X_y = V_X\n",
    "    else:\n",
    "        with tqdm(V_X) as p_V_X:\n",
    "            V_X_y = np.array(\n",
    "                [v_x for x_y, v_x in zip(X_y, p_V_X) if x_y[1] == y]\n",
    "            )\n",
    "\n",
    "    return V_X_y"
   ]
  },
  {
   "cell_type": "code",
   "execution_count": null,
   "id": "b65ceec6-18d8-4601-a7cc-d2c54a9e5822",
   "metadata": {},
   "outputs": [],
   "source": [
    "def get_digits(data):\n",
    "    digits = dict()\n",
    "    with tqdm(data) as pdata:\n",
    "        for x, y in pdata:\n",
    "            digits.setdefault(y, list())\n",
    "            digits[y].append(x)\n",
    "\n",
    "    return digits"
   ]
  },
  {
   "cell_type": "markdown",
   "id": "fd03525d-0e1b-4526-a5d9-2b1dc1a3b114",
   "metadata": {},
   "source": [
    "#### Feature visualizations"
   ]
  },
  {
   "cell_type": "code",
   "execution_count": null,
   "id": "b0ac1ece-2237-4252-94e9-ea4d5620e642",
   "metadata": {},
   "outputs": [],
   "source": [
    "def visualize_slices(activations, dim=16, filters=32):\n",
    "    for k in range(0, filters, dim):\n",
    "        fig, axes = plt.subplots(4, 4, figsize=(12, 12))\n",
    "        for i, ax in enumerate(axes.flat):\n",
    "            if i < dim:\n",
    "                activation = activations[k + i]\n",
    "                activation = activation.cpu() if isinstance(activation, torch.Tensor) else activation\n",
    "                im = ax.imshow(activation, cmap='viridis')\n",
    "                ax.set_title(f'Conv1 - Filter {k + i}')\n",
    "                ax.axis('off')\n",
    "                # fig.colorbar(im, ax=ax, fraction=0.046, pad=0.04)\n",
    "        plt.show()    "
   ]
  },
  {
   "cell_type": "code",
   "execution_count": null,
   "id": "2ea6fb43-a8b6-493c-b418-a7fe41f1d808",
   "metadata": {},
   "outputs": [],
   "source": [
    "# Function to visualize the activations\n",
    "def visualize_activations(model, image, layers=[2, 4], hist=False):\n",
    "    # Pass the image through the network\n",
    "    activations = list()\n",
    "    with torch.no_grad():\n",
    "        for k in layers:\n",
    "            output = model(image, k=k)\n",
    "            activations.append(output.detach())\n",
    "\n",
    "    # Plot the activations\n",
    "    for k in range(0, 32, 16):\n",
    "        fig, axes = plt.subplots(4, 4, figsize=(12, 12))\n",
    "        for i, ax in enumerate(axes.flat):\n",
    "            if i < 16:\n",
    "                activation = activations[0][k + i].cpu()\n",
    "                if hist:\n",
    "                    ax = fig.add_subplot(4, 4, i + 1, projection='3d')\n",
    "                    activation = activation.numpy()\n",
    "                    x, y = np.meshgrid(np.arange(activation.shape[1]), np.arange(activation.shape[0]))\n",
    "                    ax.bar3d(x.ravel(), y.ravel(), np.zeros_like(x.ravel()), 1, 1, activation.ravel(), shade=True)\n",
    "                else:\n",
    "                    im = ax.imshow(activation, cmap='viridis')\n",
    "                    ax.set_title(f'Conv1 - Filter {k + i}')\n",
    "                    ax.axis('off')\n",
    "                # fig.colorbar(im, ax=ax, fraction=0.046, pad=0.04)\n",
    "        plt.show()\n",
    "    print('======================')\n",
    "    for k in range(0, 64, 16):\n",
    "        fig, axes = plt.subplots(4, 4, figsize=(12, 12))\n",
    "        for i, ax in enumerate(axes.flat):\n",
    "            if i < 16:\n",
    "                im = ax.imshow(activations[1][k + i].cpu(), cmap='viridis')\n",
    "                ax.set_title(f'Conv2 - Filter {k + i}')\n",
    "                ax.axis('off')\n",
    "                fig.colorbar(im, ax=ax, fraction=0.046, pad=0.04)\n",
    "        plt.show()\n",
    "\n",
    "    return activations"
   ]
  },
  {
   "cell_type": "code",
   "execution_count": null,
   "id": "76ce2364-441a-4e44-9bfc-2a205040696f",
   "metadata": {},
   "outputs": [],
   "source": [
    "def show_activation(activation, layer_name='', filter_index=0):\n",
    "    # Plot the activation as a grid of numbers\n",
    "    fig, ax = plt.subplots(figsize=(16, 16))\n",
    "    cax = ax.matshow(activation, cmap='viridis')\n",
    "\n",
    "    # Customize the ticks to show each step\n",
    "    ax.set_xticks(np.arange(activation.shape[1]))\n",
    "    ax.set_yticks(np.arange(activation.shape[0]))\n",
    "\n",
    "    # Show grid lines\n",
    "    ax.grid(color='black', linestyle='-', linewidth=1, which='both')\n",
    "    ax.xaxis.set_ticks_position('bottom')\n",
    "\n",
    "    # Annotate the grid with the activation values\n",
    "    for (i, j), val in np.ndenumerate(activation):\n",
    "        ax.text(j, i, f'{val:.2f}', ha='center', va='center', color='white')\n",
    "\n",
    "    fig.colorbar(cax)\n",
    "    plt.title(f'Activation of {layer_name} - Filter {filter_index}')\n",
    "    plt.show()"
   ]
  },
  {
   "cell_type": "code",
   "execution_count": null,
   "id": "ebae9206-a5b1-48be-84bc-8141a8f4ffb0",
   "metadata": {},
   "outputs": [],
   "source": [
    "def visualize_weights(layer, num_filters=32):\n",
    "    weights = layer.weight.data.cpu().numpy()\n",
    "    for k in range(0, num_filters, 16):\n",
    "        fig, axes = plt.subplots(4, 4, figsize=(12, 12))\n",
    "        for i, ax in enumerate(axes.flat):\n",
    "            if i < num_filters:\n",
    "                img = weights[i, 0, :, :]  # Select the i-th filter and the first input channel\n",
    "                im = ax.imshow(img, cmap='viridis')\n",
    "                ax.axis('off')\n",
    "                ax.set_title(f'Filter {i}')\n",
    "                fig.colorbar(im, ax=ax, fraction=0.046, pad=0.04)\n",
    "        plt.show()"
   ]
  },
  {
   "cell_type": "markdown",
   "id": "07bc0a6b-0066-4536-9bd8-f31ffcd106ae",
   "metadata": {},
   "source": [
    "## Feature FCA analysis methods"
   ]
  },
  {
   "cell_type": "code",
   "execution_count": null,
   "id": "d6b389de-22e8-459b-a7b4-889445b98dd0",
   "metadata": {},
   "outputs": [],
   "source": [
    "def find_V_X_digits(V_X):\n",
    "    return [\n",
    "        layer_hist(data_train, V_X, y=k) for k in range(10)\n",
    "    ]"
   ]
  },
  {
   "cell_type": "code",
   "execution_count": null,
   "id": "9fdc1c20-77c6-49f9-81b1-47ac2e596773",
   "metadata": {},
   "outputs": [],
   "source": [
    "def sort_V(*V_Xs):\n",
    "    with tqdm(V_Xs) as pV_Xs:\n",
    "        V_X_sr = [np.sort(V_X_d, axis=0) for V_X_d in V_Xs]\n",
    "\n",
    "    return V_X_sr"
   ]
  },
  {
   "cell_type": "code",
   "execution_count": null,
   "id": "ce524bc5-b1f6-4f12-bc5b-a4e3154fd2b9",
   "metadata": {},
   "outputs": [],
   "source": [
    "def sort_V_X(V_X):\n",
    "    V_X_ds = find_V_X_digits(V_X)\n",
    "    V_X_sr = sort_V(*V_X_ds)\n",
    "\n",
    "    return V_X_ds, V_X_sr"
   ]
  },
  {
   "cell_type": "code",
   "execution_count": null,
   "id": "7a5ef397-808d-4209-b30f-76c145869a40",
   "metadata": {},
   "outputs": [],
   "source": [
    "def features_hist(*n_Fs, V=np.zeros((1, 16))):\n",
    "    rows = len(n_Fs)\n",
    "    vs_ls = list()\n",
    "    with tqdm(n_Fs) as pn_Fs:\n",
    "        for n_F in pn_Fs:\n",
    "            vs = [v[n_F] for v in V]\n",
    "            vs_ls.append(vs)\n",
    "    fig, axs = plt.subplots(rows, 1, sharey=True, tight_layout=True, figsize=(8 * rows, 32))\n",
    "    for r in range(rows):\n",
    "        vs_h = vs_ls[r]\n",
    "        axs[r].hist(vs_h)\n",
    "        axs[r].set_xlim(0, 32)  # Set the X-axis limit if you want a specific range\n",
    "        axs[r].set_xticks(np.arange(0, 32, 0.5))  # Ensure the ticks match the new range\n",
    "        # axs[r].set_title(str(vs_h))\n",
    "    "
   ]
  },
  {
   "cell_type": "code",
   "execution_count": null,
   "id": "96cd136f-0af4-4370-ba7e-6b651fff69a5",
   "metadata": {},
   "outputs": [],
   "source": [
    "class LayerFCA(object):\n",
    "\n",
    "    def __init__(self, V_X, U_X, data):\n",
    "        self.V_X = V_X\n",
    "        self.U_X = U_X\n",
    "        self.data = data\n",
    "        self.G_As = list()\n",
    "        self.v_As = list()\n",
    "        self.D = None\n",
    "        self.v_D = None\n",
    "        self.U_D = None\n",
    "        self.G_U_D = None\n",
    "        self.find_G_x = find_G_x\n",
    "        self.find_v_A = find_v_A\n",
    "        self.find_G_x = find_G_x\n",
    "\n",
    "    def fca_v(self, ns, ths):\n",
    "        for n_A, th_A in zip(ns, ths):\n",
    "            G_A_v_A = select_top(self.V_X, n_A, th_A)\n",
    "            v_A = find_v_A(self.V_X, G_A_v_A)\n",
    "            self.v_As.append(v_A)\n",
    "            G_A = find_G_x(self.V_X, v_A)\n",
    "            self.G_As.append(G_A)\n",
    "        self.D = intersect(*self.G_As) if self.G_As else []\n",
    "        self.v_D = np.maximum.reduce(self.v_As)\n",
    "        \n",
    "        return self.D, self.v_D\n",
    "\n",
    "    def fca_u(self, ns, ths):\n",
    "        D, _ = self.fca_v(ns, ths)\n",
    "        self.u_D = find_v_A(\n",
    "            self.U_X, D\n",
    "        ) if np.any(D) else np.zeros(\n",
    "            (16,), dtype=float\n",
    "        )\n",
    "        self.G_u_D = find_G_x(self.U_X, self.u_D)\n",
    "\n",
    "        return self.G_u_D\n",
    "\n",
    "    @staticmethod\n",
    "    def count_ys(ys):\n",
    "        un, cn = np.unique(ys, return_counts=True)\n",
    "        uncn = np.array([un, cn])\n",
    "\n",
    "        return uncn\n",
    "\n",
    "    def _report_u(self, G_u_D, data=None):\n",
    "        data_ls = self.data if data is None else data\n",
    "        ys = np.array([data_ls[idx][1] for idx in G_u_D])\n",
    "        uncn = self.count_ys(ys)\n",
    "        if data is None:\n",
    "            self.uncn = uncn\n",
    "\n",
    "        return uncn\n",
    "\n",
    "    def report(self, G_u_D, data):\n",
    "        return self._report_u(G_u_D, data=data)\n",
    "\n",
    "    def fca_u_arr(self, ns_arr):\n",
    "        ns = [nr[0] for nr in neurons[neur_idx]]\n",
    "        ts = [nr[1] for nr in neurons[neur_idx]]\n",
    "        G_U_D = self.fca_u(ns, ts)\n",
    "        self._report_u(G_U_D)\n",
    "\n",
    "        return self.G_u_D\n",
    "\n",
    "    @staticmethod\n",
    "    def G_U(U_X, u_D):\n",
    "        return find_G_x(U_X, u_D)\n",
    "\n",
    "    def find_u_G_u(self, v):\n",
    "        G_v = find_G_x(self.V_X, v)\n",
    "        u_D = find_v_A(self.U_X, G_v)\n",
    "        G_u = find_G_x(self.U_X, u_D)\n",
    "        self._report_u(G_u)\n",
    "\n",
    "        return G_v, u_D, G_u\n",
    "\n",
    "\n",
    "    def find_G_u(self, v, U, X):\n",
    "        G_v, u_D, G_u = self.find_u_G_u(v)\n",
    "        G_rest = find_G_x(U, u_D)\n",
    "\n",
    "        return G_rest"
   ]
  },
  {
   "cell_type": "markdown",
   "id": "cae6cb9b-e48c-44e6-b0ec-8907629451e1",
   "metadata": {},
   "source": [
    "## Initialize MNIST dataset"
   ]
  },
  {
   "cell_type": "code",
   "execution_count": null,
   "id": "b5a613d8-e5ac-4a78-9e79-983e19ffb93d",
   "metadata": {},
   "outputs": [],
   "source": [
    "transform = transforms.Compose(\n",
    "            [\n",
    "                transforms.ToTensor(),\n",
    "                transforms.Normalize((0.1307,), (0.3081,)),\n",
    "            ]\n",
    ")"
   ]
  },
  {
   "cell_type": "code",
   "execution_count": null,
   "id": "9d206541-1930-4ce3-a629-b9deed2b7c0f",
   "metadata": {},
   "outputs": [],
   "source": [
    "data_train = MNIST(images_dir, train=True, download=True)\n",
    "data_test = MNIST(images_dir, train=False, download=True)"
   ]
  },
  {
   "cell_type": "code",
   "execution_count": null,
   "id": "55a9639b-ba83-4a8f-a06d-5d8e68f08cfc",
   "metadata": {},
   "outputs": [],
   "source": [
    "next(net.parameters()).device"
   ]
  },
  {
   "cell_type": "code",
   "execution_count": null,
   "id": "b34a7580-c9fe-4db9-adab-f7ffd8115c05",
   "metadata": {},
   "outputs": [],
   "source": [
    "device = find_device()\n",
    "device"
   ]
  },
  {
   "cell_type": "code",
   "execution_count": null,
   "id": "0ed4ff52-8905-4cbd-83b3-79a12a7d21f8",
   "metadata": {},
   "outputs": [],
   "source": [
    "wnet = NetWrapper(net, transform)"
   ]
  },
  {
   "cell_type": "code",
   "execution_count": null,
   "id": "24107477-a096-4454-8498-51ec736609ee",
   "metadata": {},
   "outputs": [],
   "source": [
    "wnet.net"
   ]
  },
  {
   "cell_type": "code",
   "execution_count": null,
   "id": "b4ed25af-cd8a-45f4-be1b-b2bcbc368e68",
   "metadata": {
    "scrolled": true
   },
   "outputs": [],
   "source": [
    "wnet.net[:6]"
   ]
  },
  {
   "cell_type": "code",
   "execution_count": null,
   "id": "6dec2f3e-5d5a-4b7b-b2fd-5c2266f54087",
   "metadata": {},
   "outputs": [],
   "source": [
    "layer_V_n = 3\n",
    "layer_U_n = 6"
   ]
  },
  {
   "cell_type": "code",
   "execution_count": null,
   "id": "41b27625-58b2-4cfd-99de-8a5f2a3f684b",
   "metadata": {},
   "outputs": [],
   "source": [
    "wnet.device"
   ]
  },
  {
   "cell_type": "code",
   "execution_count": null,
   "id": "7da39f11-54d0-4e2b-8ab6-fdc8d895a058",
   "metadata": {},
   "outputs": [],
   "source": [
    "V_X_train, X_V_train = layer_V(data_train, wnet, k=layer_V_n)"
   ]
  },
  {
   "cell_type": "code",
   "execution_count": null,
   "id": "5f62f114-37a5-4c98-b955-c133ff39ed12",
   "metadata": {},
   "outputs": [],
   "source": [
    "V_X_test, X_V_test = layer_V(data_test, wnet, k=layer_V_n)"
   ]
  },
  {
   "cell_type": "code",
   "execution_count": null,
   "id": "83f78423-c986-4815-86d6-b0582f8c150b",
   "metadata": {},
   "outputs": [],
   "source": [
    "U_X_train, X_U_train = layer_V(data_train, wnet, k=layer_U_n)"
   ]
  },
  {
   "cell_type": "code",
   "execution_count": null,
   "id": "fb115167-5947-4fa3-b4fc-aa8862a0d0d7",
   "metadata": {},
   "outputs": [],
   "source": [
    "U_X_test, X_U_test = layer_V(data_test, wnet, k=layer_U_n)"
   ]
  },
  {
   "cell_type": "code",
   "execution_count": null,
   "id": "ec67cfd1-52a8-4d61-93da-7127859c88b8",
   "metadata": {},
   "outputs": [],
   "source": [
    "arg_max = np.argmax(V_X_train, axis=0)\n",
    "arg_max.shape"
   ]
  },
  {
   "cell_type": "code",
   "execution_count": null,
   "id": "7003b961-347f-49d3-b5a6-1d37144ae1a8",
   "metadata": {},
   "outputs": [],
   "source": [
    "arg_top = np.argsort(V_X_train, axis=0)\n",
    "arg_top.shape"
   ]
  },
  {
   "cell_type": "code",
   "execution_count": null,
   "id": "dca1bf61-224e-4fa1-998c-6c4a34863601",
   "metadata": {},
   "outputs": [],
   "source": [
    "i = 0"
   ]
  },
  {
   "cell_type": "code",
   "execution_count": null,
   "id": "f349ab15-12f3-4a9a-a804-774efb0b2e27",
   "metadata": {},
   "outputs": [],
   "source": [
    "arg_top[-10:].shape"
   ]
  },
  {
   "cell_type": "code",
   "execution_count": null,
   "id": "e285ba8d-cf0c-4795-86da-ee5f3a64d367",
   "metadata": {},
   "outputs": [],
   "source": [
    "arg_top[-10:,:, :].shape"
   ]
  },
  {
   "cell_type": "code",
   "execution_count": null,
   "id": "bbbc4b25-7c79-43bd-8d95-670bd2ec82f2",
   "metadata": {},
   "outputs": [],
   "source": [
    "# V_X_train[arg_top[-16:,1, 9, 2]][:,1, 9, 2]"
   ]
  },
  {
   "cell_type": "code",
   "execution_count": null,
   "id": "ec5b8639-5021-4437-b8f0-248b9cdb8972",
   "metadata": {},
   "outputs": [],
   "source": [
    "show_grid(arg_top[-16:,1, 9, 2], data_train, nrow=32)"
   ]
  },
  {
   "cell_type": "code",
   "execution_count": null,
   "id": "b45f9773-5ce2-4f92-acac-08a6d1ffe318",
   "metadata": {
    "scrolled": true
   },
   "outputs": [],
   "source": [
    "# np.max(V_X_train, axis=0)"
   ]
  },
  {
   "cell_type": "code",
   "execution_count": null,
   "id": "761b8eff-3efd-4227-a7e5-a99f6644942f",
   "metadata": {
    "scrolled": true
   },
   "outputs": [],
   "source": [
    "# V_X_train[arg_max[13], :]"
   ]
  },
  {
   "cell_type": "code",
   "execution_count": null,
   "id": "15a6802a-c1a1-4e99-ba4f-c93c689ea54f",
   "metadata": {},
   "outputs": [],
   "source": [
    "show_grid(arg_max[1,:], data_train, nrow=14)"
   ]
  },
  {
   "cell_type": "code",
   "execution_count": null,
   "id": "b62df86c-7491-4971-b341-bd47e3a2fc93",
   "metadata": {},
   "outputs": [],
   "source": [
    "show_grid(arg_max[0], data_train, nrow=14)"
   ]
  },
  {
   "cell_type": "markdown",
   "id": "e16cfea8-ae7e-4209-89fb-dbd1dfa3ad79",
   "metadata": {},
   "source": [
    "## Sorting vectors"
   ]
  },
  {
   "cell_type": "code",
   "execution_count": null,
   "id": "17927a97-ba89-4227-9e58-1397dfa5946b",
   "metadata": {
    "scrolled": true
   },
   "outputs": [],
   "source": [
    "V_X_digits, V_X_sorteds = sort_V_X(V_X_train)"
   ]
  },
  {
   "cell_type": "markdown",
   "id": "7e3b79ba-84e6-455d-afca-b7674b9750e4",
   "metadata": {},
   "source": [
    "## Alanyze maximum stimulus"
   ]
  },
  {
   "cell_type": "code",
   "execution_count": null,
   "id": "2c1d271c-5502-44ac-a64e-f534233caed0",
   "metadata": {},
   "outputs": [],
   "source": [
    "neurons = np.zeros((32, 14, 14), dtype=float)\n",
    "neurons[14] = acts[0][14].to('cpu').detach().numpy()\n",
    "v = neurons"
   ]
  },
  {
   "cell_type": "code",
   "execution_count": null,
   "id": "de1615bf-d4d1-43f0-9006-17bc899c1602",
   "metadata": {},
   "outputs": [],
   "source": [
    "u_Ds = dict()\n",
    "G_v_tests = dict()\n",
    "G_u_tests = dict()"
   ]
  },
  {
   "cell_type": "code",
   "execution_count": null,
   "id": "5de91ddf-3ad2-4dbf-a2ce-87c4d61cebf9",
   "metadata": {},
   "outputs": [],
   "source": [
    "i = 9\n",
    "ths = [\n",
    "    568, #0\n",
    "    330, #1\n",
    "    672, #2\n",
    "    580, #3\n",
    "    470, #4\n",
    "    590, #5\n",
    "    484, #6\n",
    "    544, #7\n",
    "    640, #8\n",
    "    584  #9\n",
    "]\n",
    "v = np.copy(V_X_sorteds[i][ths[i]])\n",
    "# v[13] = 0.0"
   ]
  },
  {
   "cell_type": "code",
   "execution_count": null,
   "id": "2a8b2bef-6047-4e8b-a4e8-858ae0fcd875",
   "metadata": {},
   "outputs": [],
   "source": [
    "for i in range(10):\n",
    "    v = np.copy(V_X_sorteds[i][ths[i]])\n",
    "    layer_fca = LayerFCA(V_X_train, U_X_train, data_train)\n",
    "    G_v, u_D, G_u = layer_fca.find_u_G_u(v)\n",
    "    G_v_test = layer_fca.find_G_x(V_X_test, v)\n",
    "    G_u_test = layer_fca.find_G_x(U_X_test, u_D)\n",
    "    u_Ds[i] = u_D\n",
    "    G_v_tests[i] = G_v_test\n",
    "    G_u_tests[i] = G_u_test"
   ]
  },
  {
   "cell_type": "code",
   "execution_count": null,
   "id": "38dbb691-441d-46ab-9e1d-7edf59c5bc2f",
   "metadata": {},
   "outputs": [],
   "source": [
    "uncn_test = layer_fca.report(G_u_tests[i], data_test)\n",
    "uncn_test, np.round(uncn_test[1] / np.sum(uncn_test[1]), decimals=4)"
   ]
  },
  {
   "cell_type": "code",
   "execution_count": null,
   "id": "4c6f5e65-5b95-4d63-b48e-1534e9a030fd",
   "metadata": {},
   "outputs": [],
   "source": [
    "show_grid(G_v_tests[i], data_test, nrow=32)"
   ]
  },
  {
   "cell_type": "code",
   "execution_count": null,
   "id": "e235e89b-43ed-43e5-a7f7-c142773ac01a",
   "metadata": {},
   "outputs": [],
   "source": [
    "show_grid(G_u_tests[i], data_test, nrow=32)"
   ]
  },
  {
   "cell_type": "code",
   "execution_count": null,
   "id": "70d47778-fc0a-405c-b9c2-6ccc1c2540a6",
   "metadata": {
    "scrolled": true
   },
   "outputs": [],
   "source": [
    "layer_fca = LayerFCA(V_X_train, U_X_train, data_train)\n",
    "G_v, u_D, G_u = layer_fca.find_u_G_u(v)\n",
    "G_v_test = layer_fca.find_G_x(V_X_test, v)\n",
    "G_u_test = layer_fca.find_G_x(U_X_test, u_D)\n",
    "u_Ds[i] = u_D"
   ]
  },
  {
   "cell_type": "code",
   "execution_count": null,
   "id": "57998c97-6d34-4e2b-8f30-437891e88374",
   "metadata": {},
   "outputs": [],
   "source": [
    "G_u.shape, G_u_test.shape"
   ]
  },
  {
   "cell_type": "code",
   "execution_count": null,
   "id": "73b4de9b-fb47-463b-ad71-81ee48291c4b",
   "metadata": {
    "scrolled": true
   },
   "outputs": [],
   "source": [
    "[G_v.shape, G_u.shape], np.max(u_D)"
   ]
  },
  {
   "cell_type": "code",
   "execution_count": null,
   "id": "c125e76c-fe5e-4b7f-b71c-d2588d8b9e59",
   "metadata": {
    "scrolled": true
   },
   "outputs": [],
   "source": [
    "uncn_test = layer_fca.report(G_u_test, data_test)"
   ]
  },
  {
   "cell_type": "code",
   "execution_count": null,
   "id": "7c809141-417f-40d0-853d-d78a15b554df",
   "metadata": {
    "scrolled": true
   },
   "outputs": [],
   "source": [
    "uncn_test, np.round(uncn_test[1] / np.sum(uncn_test[1]), decimals=4)"
   ]
  },
  {
   "cell_type": "code",
   "execution_count": null,
   "id": "a5e19d5f-54dd-4725-a98b-945390359c2d",
   "metadata": {
    "scrolled": true
   },
   "outputs": [],
   "source": [
    "layer_fca.uncn, V_X_sorteds[i].shape[0]"
   ]
  },
  {
   "cell_type": "code",
   "execution_count": null,
   "id": "0c7ccc8d-9f44-4a9f-82ee-11406505a584",
   "metadata": {},
   "outputs": [],
   "source": [
    "show_grid(G_v_test, data_test, nrow=32)"
   ]
  },
  {
   "cell_type": "code",
   "execution_count": null,
   "id": "37eacafa-dde7-4b72-8564-53041f4127a2",
   "metadata": {},
   "outputs": [],
   "source": [
    "show_grid(G_u_test, data_test, nrow=32)"
   ]
  },
  {
   "cell_type": "code",
   "execution_count": null,
   "id": "ee579dde-3c7b-4af5-819c-9b9768a05784",
   "metadata": {},
   "outputs": [],
   "source": [
    "for i in range(10)"
   ]
  },
  {
   "cell_type": "code",
   "execution_count": null,
   "id": "433d460e-bee7-46e5-b246-db3e3312026b",
   "metadata": {},
   "outputs": [],
   "source": [
    "y_hs = [np.argmax(wnet(data_test[idx][0])) for idx in G_u_test]"
   ]
  },
  {
   "cell_type": "code",
   "execution_count": null,
   "id": "16db8da9-062e-411a-bebc-f0cbe7c32776",
   "metadata": {},
   "outputs": [],
   "source": [
    "uncn_hat = layer_fca.count_ys(y_hs)"
   ]
  },
  {
   "cell_type": "code",
   "execution_count": null,
   "id": "ff4fe32e-6584-4a7d-bcfb-6755d396189e",
   "metadata": {},
   "outputs": [],
   "source": [
    "uncn_hat"
   ]
  },
  {
   "cell_type": "code",
   "execution_count": null,
   "id": "7eac4c43-2479-4ddf-8c19-a209d53d5950",
   "metadata": {},
   "outputs": [],
   "source": [
    "net[3].weight[:, 0], net[3].bias"
   ]
  },
  {
   "cell_type": "code",
   "execution_count": null,
   "id": "dbba2b15-035d-49e5-b961-be7c6cdbf056",
   "metadata": {},
   "outputs": [],
   "source": [
    "layer_fca.uncn"
   ]
  },
  {
   "cell_type": "code",
   "execution_count": null,
   "id": "a0b016b1-456a-4c25-8c32-d09244be9a8d",
   "metadata": {},
   "outputs": [],
   "source": [
    "show_grid(G_u_test, data_test, nrow=48, h=64, w=64)"
   ]
  },
  {
   "cell_type": "code",
   "execution_count": null,
   "id": "6b8f766b-b25e-4268-89e7-bd91d8143c10",
   "metadata": {},
   "outputs": [],
   "source": [
    "show_grid(G_u_test, data_test, nrow=48, h=64, w=64, my=i)"
   ]
  },
  {
   "cell_type": "markdown",
   "id": "9c219db3-a011-4eb9-b2a4-a05124c63821",
   "metadata": {},
   "source": [
    "## Visualization of distribution"
   ]
  },
  {
   "cell_type": "code",
   "execution_count": null,
   "id": "6de9b530-216e-4a52-a290-6dd2f34614e3",
   "metadata": {},
   "outputs": [],
   "source": [
    "argmax_kd_val(V_X_sorteds[idx][ths[idx]][2])"
   ]
  },
  {
   "cell_type": "code",
   "execution_count": null,
   "id": "1aa8530e-cf29-4700-a750-5fb1c51d60c2",
   "metadata": {},
   "outputs": [],
   "source": [
    "V_X_sorteds[idx][ths[idx]][2][7, 9]"
   ]
  },
  {
   "cell_type": "code",
   "execution_count": null,
   "id": "b49a0f79-13c1-4424-934b-128889765ba1",
   "metadata": {},
   "outputs": [],
   "source": [
    "idx = 7\n",
    "v_test = V_X_sorteds[idx][ths[idx]]\n",
    "# v_test = V_X_test[0]"
   ]
  },
  {
   "cell_type": "code",
   "execution_count": null,
   "id": "9f54ecd3-c6fc-4a45-b2dd-51fa526e1154",
   "metadata": {},
   "outputs": [],
   "source": [
    "visualize_slices(v_test)"
   ]
  },
  {
   "cell_type": "code",
   "execution_count": null,
   "id": "ada93f25-1df5-4ebf-a21a-5bab542709e2",
   "metadata": {},
   "outputs": [],
   "source": [
    "digits_train = get_digits(data_train)"
   ]
  },
  {
   "cell_type": "code",
   "execution_count": null,
   "id": "b19e19b7-5e24-4b5b-8315-329fe100662a",
   "metadata": {},
   "outputs": [],
   "source": [
    "# digits_train[0]"
   ]
  },
  {
   "cell_type": "code",
   "execution_count": null,
   "id": "6107b014-ab95-4e87-b05f-3ca4171f1272",
   "metadata": {},
   "outputs": [],
   "source": [
    "# Load an example image\n",
    "example_image, _ = data_test[i]\n",
    "# example_image = example_image.unsqueeze(0)  # Add batch dimension\n",
    "\n",
    "# Visualize the activations\n",
    "acts = visualize_activations(wnet, digits_train[7][8], layers=[3, 6], hist=False)"
   ]
  },
  {
   "cell_type": "code",
   "execution_count": null,
   "id": "5ccff658-5b95-42f9-8252-8317325e8862",
   "metadata": {},
   "outputs": [],
   "source": [
    "digits_train[0][:4]"
   ]
  },
  {
   "cell_type": "code",
   "execution_count": null,
   "id": "5eee8cfc-a804-42b1-9715-d6f0d7225f4d",
   "metadata": {},
   "outputs": [],
   "source": [
    "res = [wnet(x, k=3) for x in digits_train[0]]"
   ]
  },
  {
   "cell_type": "code",
   "execution_count": null,
   "id": "dc75dcaf-2357-480d-981a-81c69bb0e318",
   "metadata": {},
   "outputs": [],
   "source": [
    "res_k = list()\n",
    "int_k = list()\n",
    "with tqdm(list(range(32))) as pange:\n",
    "    for k in pange:\n",
    "        r_k = [r[k] for r in res]\n",
    "        res_k.append(r_k)\n",
    "        int_k.append(intersect_xd(*r_k))"
   ]
  },
  {
   "cell_type": "code",
   "execution_count": null,
   "id": "f6cbfe4d-6cd6-4c4e-bc3d-7c1acbce6fea",
   "metadata": {},
   "outputs": [],
   "source": [
    "visualize_slices(int_k)"
   ]
  },
  {
   "cell_type": "code",
   "execution_count": null,
   "id": "c96ce16b-9cff-4618-8f85-224848b94d91",
   "metadata": {},
   "outputs": [],
   "source": [
    "int_30.shape"
   ]
  },
  {
   "cell_type": "code",
   "execution_count": null,
   "id": "2d766b46-33b0-4bec-bd41-d0ab4c2708fc",
   "metadata": {},
   "outputs": [],
   "source": [
    "show_activation(int_k[28])"
   ]
  },
  {
   "cell_type": "code",
   "execution_count": null,
   "id": "16d43420-1ce6-4c73-ad65-03404364910f",
   "metadata": {},
   "outputs": [],
   "source": [
    "show_activation(acts[0][1])"
   ]
  },
  {
   "cell_type": "code",
   "execution_count": null,
   "id": "8b09e347-cb58-4ebb-846b-283ed1d1dfe8",
   "metadata": {},
   "outputs": [],
   "source": [
    "indices1 = np.where(acts[0][1] >= 1.2)\n",
    "indices1, acts[0][1][indices1]"
   ]
  },
  {
   "cell_type": "code",
   "execution_count": null,
   "id": "4297bc09-a931-4d59-baf0-14a84b81a41d",
   "metadata": {},
   "outputs": [],
   "source": [
    "show_activation(acts[0][8])"
   ]
  },
  {
   "cell_type": "code",
   "execution_count": null,
   "id": "4bcb7286-d862-4014-89a0-be53699065cd",
   "metadata": {
    "scrolled": true
   },
   "outputs": [],
   "source": [
    "indices2 = np.where(acts[0][8] >= 1.4)"
   ]
  },
  {
   "cell_type": "code",
   "execution_count": null,
   "id": "b0f8f511-eb4e-4e7a-9679-3b96787634bd",
   "metadata": {},
   "outputs": [],
   "source": [
    "acts[0][8][indices2]"
   ]
  },
  {
   "cell_type": "code",
   "execution_count": null,
   "id": "9f97424e-d026-49c6-9d97-7c7b67a318d4",
   "metadata": {},
   "outputs": [],
   "source": [
    "acts[0][1].shape"
   ]
  },
  {
   "cell_type": "code",
   "execution_count": null,
   "id": "2fe2b4e4-84e8-41a4-b354-337943da66fc",
   "metadata": {},
   "outputs": [],
   "source": [
    "acts[0][1][idcs].shape"
   ]
  },
  {
   "cell_type": "code",
   "execution_count": null,
   "id": "51b5562a-0a60-47d7-823b-db40293adb4a",
   "metadata": {},
   "outputs": [],
   "source": [
    "wnet.net[3]"
   ]
  },
  {
   "cell_type": "code",
   "execution_count": null,
   "id": "93a2eee9-5d96-4e41-b91d-872b695ef0a4",
   "metadata": {},
   "outputs": [],
   "source": [
    "# Visualize weights of the first convolutional layer\n",
    "visualize_weights(wnet.net[0], num_filters=32)\n",
    "\n",
    "# Visualize weights of the second convolutional layer\n",
    "visualize_weights(wnet.net[3], num_filters=64)"
   ]
  },
  {
   "cell_type": "code",
   "execution_count": null,
   "id": "4dfc239e-3994-40f3-8e96-31c1a6ada390",
   "metadata": {},
   "outputs": [],
   "source": [
    "V_X_ds[0].shape"
   ]
  },
  {
   "cell_type": "code",
   "execution_count": null,
   "id": "d27b6fb4-3f5d-4bd1-9faf-80fd05e2de81",
   "metadata": {},
   "outputs": [],
   "source": [
    "cprs = np.array([np.all(V_X_ds[0][0] <= V_X_d) or np.all(V_X_d < V_X_ds[0][0]) for V_X_d in V_X_ds[0]])"
   ]
  },
  {
   "cell_type": "code",
   "execution_count": null,
   "id": "5a212de0-faf0-49ef-9499-9af016691226",
   "metadata": {},
   "outputs": [],
   "source": [
    "np.where(cprs)"
   ]
  },
  {
   "cell_type": "markdown",
   "id": "02a7b26b-c193-49d4-86b2-1dab5bb6c57d",
   "metadata": {},
   "source": [
    "## Inference with FCA"
   ]
  },
  {
   "cell_type": "code",
   "execution_count": null,
   "id": "be37cc75-fefd-46c3-a4e4-310853407a7c",
   "metadata": {},
   "outputs": [],
   "source": [
    "class InferFCA(object):\n",
    "\n",
    "    def __init__(self, model, layer, us):\n",
    "        self.model = model\n",
    "        self.layer = layer\n",
    "        self.us = us\n",
    "\n",
    "    def forward(self, x):\n",
    "        u_x = self.model(x, k=self.layer)\n",
    "        y_f = list()\n",
    "        ds = list()\n",
    "        for n, u in self.us.items():\n",
    "            if le(u, u_x):\n",
    "                y_f.append(n)\n",
    "                d = dist(u, u_x)\n",
    "                ds.append(d)\n",
    "        if y_f:\n",
    "            md= np.argmax(np.array(ds))\n",
    "            y_mx = y_f[md]\n",
    "        else:\n",
    "            y_mx = -1\n",
    "\n",
    "        return y_f, y_mx\n",
    "    \n",
    "    def forward_all(self, data):\n",
    "        y_fs = list()\n",
    "        y_fc = list()\n",
    "        count_fc = 0\n",
    "        with tqdm(data) as pdta:\n",
    "            for x, y in pdta:\n",
    "                y_f, y_mx = self.forward(x)\n",
    "                y_fs.append(y_f)\n",
    "                y_fc.append(y_mx)\n",
    "                if y_f:\n",
    "                    count_fc += 1\n",
    "\n",
    "        return y_fs, y_fc, count_fc"
   ]
  },
  {
   "cell_type": "code",
   "execution_count": null,
   "id": "6bb865db-c13f-470d-a361-5c1202e629ad",
   "metadata": {},
   "outputs": [],
   "source": [
    "inferFCA = InferFCA(wnet, layer_U_n, u_Ds)\n",
    "y_fcs, y_fds, cn = inferFCA.forward_all(data_test)"
   ]
  },
  {
   "cell_type": "code",
   "execution_count": null,
   "id": "16ae4f4f-53f8-4f03-84fe-88f2a97d2d93",
   "metadata": {},
   "outputs": [],
   "source": [
    "for i, y_f in enumerate(y_fcs):\n",
    "    if len(y_f) > 1:\n",
    "        print(i, len(y_f), y_f, data_test[i][1], y_fds[i], np.argmax(wnet(data_test[i][0]).to('cpu').detach().numpy()))"
   ]
  },
  {
   "cell_type": "code",
   "execution_count": null,
   "id": "8c917558-e1df-4d32-8d8c-e1d848003605",
   "metadata": {},
   "outputs": [],
   "source": [
    "count_fc"
   ]
  },
  {
   "cell_type": "code",
   "execution_count": null,
   "id": "77ae6331-33e9-4398-b570-4c33dc83369b",
   "metadata": {},
   "outputs": [],
   "source": [
    "le(u_Ds[3], u_Ds[5]) or le(u_Ds[5], u_Ds[3])"
   ]
  },
  {
   "cell_type": "code",
   "execution_count": null,
   "id": "41e410ad-a93c-42a8-a903-4b3c24a0d372",
   "metadata": {},
   "outputs": [],
   "source": [
    "np.sum(u_Ds[3] * U_X_test[64]), np.sum(u_Ds[5] * U_X_test[64])"
   ]
  },
  {
   "cell_type": "code",
   "execution_count": null,
   "id": "35fdfadc-cd85-4532-a7d6-f8f3bf3debba",
   "metadata": {},
   "outputs": [],
   "source": [
    "u_Ds[3].shape"
   ]
  },
  {
   "cell_type": "code",
   "execution_count": null,
   "id": "56a3e896-0da8-4afe-85ed-22db1891df7e",
   "metadata": {},
   "outputs": [],
   "source": [
    "visualize_slices(u_Ds[3], filters=64)"
   ]
  },
  {
   "cell_type": "code",
   "execution_count": null,
   "id": "9f06bfb0-2ad6-4be2-b85c-b906341280b7",
   "metadata": {},
   "outputs": [],
   "source": [
    "visualize_slices(u_Ds[5], filters=64)"
   ]
  },
  {
   "cell_type": "code",
   "execution_count": null,
   "id": "c009a07c-dbe4-4f12-b006-cde44c2fa878",
   "metadata": {},
   "outputs": [],
   "source": []
  }
 ],
 "metadata": {
  "kernelspec": {
   "display_name": "Python 3 (ipykernel)",
   "language": "python",
   "name": "python3"
  },
  "language_info": {
   "codemirror_mode": {
    "name": "ipython",
    "version": 3
   },
   "file_extension": ".py",
   "mimetype": "text/x-python",
   "name": "python",
   "nbconvert_exporter": "python",
   "pygments_lexer": "ipython3",
   "version": "3.12.3"
  }
 },
 "nbformat": 4,
 "nbformat_minor": 5
}
